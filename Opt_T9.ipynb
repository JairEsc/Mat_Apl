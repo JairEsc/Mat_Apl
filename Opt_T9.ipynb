{
  "nbformat": 4,
  "nbformat_minor": 0,
  "metadata": {
    "colab": {
      "name": "Untitled107.ipynb",
      "provenance": [],
      "authorship_tag": "ABX9TyOB7inKYUclxkn7x1LZB2VD",
      "include_colab_link": true
    },
    "kernelspec": {
      "name": "python3",
      "display_name": "Python 3"
    },
    "language_info": {
      "name": "python"
    }
  },
  "cells": [
    {
      "cell_type": "markdown",
      "metadata": {
        "id": "view-in-github",
        "colab_type": "text"
      },
      "source": [
        "<a href=\"https://colab.research.google.com/github/JairEsc/Mat_Apl/blob/main/Opt_T9.ipynb\" target=\"_parent\"><img src=\"https://colab.research.google.com/assets/colab-badge.svg\" alt=\"Open In Colab\"/></a>"
      ]
    },
    {
      "cell_type": "markdown",
      "source": [
        "FR: $\\beta_{k+1}^{FR}=\\frac{||\\nabla f(x_{k+1})||^2}{||\\nabla f(x_{k})||^2}$\n",
        "\n",
        "PR: $\\beta_{k+1}^{PR}=\\frac{\\nabla^T f(x_{k+1})\\cdot( \\nabla f(x_{k+1})-\\nabla f(x_k))}{||\\nabla f(x_{k})||^2}$\n",
        "\n",
        "FR-PR: $\\beta_{k+1}^{FR-PR}=\\left\\{\n",
        "\t\\begin{array}{ll}\n",
        "\t\t-\\beta^{FR}_{k+1}, \\text{ if } \\beta_{k+1}^{PR}\\leq -\\beta_{k+1}^{FR}\\\\\n",
        "\t\t\\beta^{PR}_{k+1}, \\text{ if } |\\beta_{k+1}^{PR}|\\leq \\beta_{k+1}^{FR}\\\\\n",
        "\t\t\\beta^{FR}_{k+1}, \\text{ if } \\beta_{k+1}^{PR}> \\beta_{k+1}^{FR}\\\\\n",
        "\t\\end{array}\n",
        "\\right.$\n",
        "\n",
        "HS $\\beta_{k+1}^{HS}=\\frac{\\nabla^T f(x_{k+1})\\cdot( \\nabla f(x_{k+1})-\\nabla f(x_k)}{ (\\nabla f(x_{k+1})-\\nabla f(x_k))^T\\cdot d_k}$"
      ],
      "metadata": {
        "id": "8yQn3_KVXZNM"
      }
    },
    {
      "cell_type": "markdown",
      "source": [
        "General\n",
        "Algorithm:\n",
        "$$\n",
        "d_0=-\\nabla f(x_0), k=0$$\n",
        "$$\n",
        "while(||d_k||>tol_g):$$\n",
        "$$\\text{Compute } \\alpha_k \\text{ using line search algorithm}$$\n",
        "$$\\text{Update } x_{k-1}=x_k+\\alpha_kd_k$$\n",
        "$$\\text{Compute } \\nabla f(x_{k+1})$$\n",
        "$$\\text{Choose } \\beta_{k+1} \\text{ using a method.}$$\n",
        "$$\\text{Update } d_{k+1}=-\\nabla f(x_{k+1})+\\beta_{k}\\cdot d_k$$\n",
        "$$k=k+1$$\n"
      ],
      "metadata": {
        "id": "p-cxTFk6SdWi"
      }
    },
    {
      "cell_type": "code",
      "source": [
        "from scipy import optimize\n",
        "import numpy as np"
      ],
      "metadata": {
        "id": "D6jt0sPlm6Yo"
      },
      "execution_count": 1,
      "outputs": []
    },
    {
      "cell_type": "code",
      "execution_count": 81,
      "metadata": {
        "id": "TvZ9xaDAPgZR"
      },
      "outputs": [],
      "source": [
        "#Gradiente conjugado con varios metodos---------------------------------\n",
        "def choose_beta(grad_f_kp1,grad_f_k,d_k,method):\n",
        "    if (method=='FR'):\n",
        "        return (np.dot(grad_f_kp1,grad_f_kp1-np.array(grad_f_kp1)))/(np.dot(grad_f_k,grad_f_k))\n",
        "    if (method=='PR'):\n",
        "        return (np.dot(grad_f_kp1,grad_f_kp1))/(np.dot(grad_f_k,grad_f_k))\n",
        "    if (method=='HS'):\n",
        "        return (np.dot(grad_f_kp1,grad_f_kp1-np.array(grad_f_kp1)))/(np.dot(grad_f_kp1-grad_f_k,d_k))\n",
        "    if (method=='FR-PR'):\n",
        "        bFR=(np.dot(grad_f_kp1,grad_f_kp1-np.array(grad_f_kp1)))/(np.dot(grad_f_k,grad_f_k))\n",
        "        bPR=(np.dot(grad_f_kp1,grad_f_kp1))/(np.dot(grad_f_k,grad_f_k))\n",
        "        if(abs(bPR)<=bFR):\n",
        "            return bPR\n",
        "        else:\n",
        "            if(bPR<-bFR):\n",
        "                return -bFR\n",
        "            else:\n",
        "                return bFR\n",
        "\n",
        "def GC(f,grad_f,x_0,tol_g=10**(-4),max_iter=10**3,method='FR'):\n",
        "    d_0=-1.*np.array(grad_f(x_0))\n",
        "    g_k=-d_0\n",
        "    k=0\n",
        "    graficables_f=[]\n",
        "    graficables_g=[]\n",
        "    while(np.linalg.norm(d_0)>=tol_g and k<max_iter):\n",
        "        if(k%30==0):\n",
        "            print(\"iter:\",k)\n",
        "            graficables_f.append(f(x_0)) \n",
        "            graficables_g.append(np.linalg.norm(x_0)) \n",
        "        alpha_k_gc=optimize.line_search(f=f,myfprime=grad_f,xk=x_0,pk=d_0,c1=0.001,c2=0.9)[0] #Tam. de paso\n",
        "        x_1=x_0+alpha_k_gc*d_0 #update\n",
        "        g_km1=grad_f(x_1) \n",
        "        beta_k_gc=choose_beta(grad_f_kp1=g_km1,grad_f_k=g_k,d_k=d_0,method=method)\n",
        "        d_0=-np.array(g_km1)+beta_k_gc*d_0\n",
        "        x_0=x_1\n",
        "        k+=1\n",
        "    print(\"iter\",k)\n",
        "    plt.plot(graficables_f)\n",
        "    plt.plot(graficables_g)\n",
        "    plt.show()\n",
        "    return(x_0)\n",
        "#-----------------------------------"
      ]
    },
    {
      "cell_type": "code",
      "source": [
        "lamb=1\n",
        "G=mpimg.imread('lenanoise.png')\n",
        "mu=0.01\n",
        "def fun_obj(X):#X es una matriz de nxn\n",
        "    f=0\n",
        "    nrow=X.shape[0]\n",
        "    ncol=X.shape[1]\n",
        "    for i in range(nrow):\n",
        "        for j in range(ncol):\n",
        "            f+=(X[i,j]-G[i,j])**2\n",
        "            if(i==0 or i==nrow-1):\n",
        "                if(i==0):\n",
        "                    f+=lamb*(np.sqrt((X[i,j]-X[i+1,j])**2+mu))\n",
        "                else:\n",
        "                    f+=lamb*(np.sqrt((X[i,j]-X[i-1,j])**2+mu))\n",
        "            else:\n",
        "                f+=lamb*(np.sqrt((X[i,j]-X[i+1,j])**2+mu)+np.sqrt((X[i,j]-X[i-1,j])**2+mu))\n",
        "            if(j==0 or j==ncol-1):\n",
        "                if(j==0):\n",
        "                    f+=lamb*(np.sqrt((X[i,j]-X[i,j+1])**2+mu))\n",
        "                else:\n",
        "                    f+=lamb*(np.sqrt((X[i,j]-X[i,j-1])**2+mu))\n",
        "            else:\n",
        "                f+=lamb*(np.sqrt((X[i,j]-X[i,j+1])**2+mu)+np.sqrt((X[i,j]-X[i,j-1])**2+mu))\n",
        "    return f\n",
        "def grad_f(X):#X es una matriz [i,j], lo voy a pensar como un vector con indices i*(n-1)+j\n",
        "    nrow=X.shape[0]\n",
        "    ncol=X.shape[1]\n",
        "    grad_vect=np.zeros(nrow**2)\n",
        "    for i in range(nrow):#Checar lo que pasa en las fronteras de la imagen\n",
        "        for j in range(ncol):\n",
        "            grad=0\n",
        "            grad+=2*(X[i,j]-G[i,j])\n",
        "            if(i==0 or i==nrow-1):\n",
        "                if(i==0):\n",
        "                    grad+=2*lamb*((X[i,j]-X[i+1,j])*(np.sqrt((X[i,j]-X[i+1,j])**2+mu)**(-1)))\n",
        "                else:\n",
        "                    grad+=2*lamb*((X[i,j]-X[i-1,j])*(np.sqrt((X[i,j]-X[i-1,j])**2+mu)**(-1)))\n",
        "            else:\n",
        "                grad+=2*lamb*((X[i,j]-X[i+1,j])*(np.sqrt((X[i,j]-X[i+1,j])**2+mu)**(-1))+(X[i,j]-X[i-1,j])*(np.sqrt((X[i,j]-X[i-1,j])**2+mu)**(-1)))\n",
        "            if(j==0 or j==ncol-1):\n",
        "                if(j==0):\n",
        "                    grad+=2*lamb*((X[i,j]-X[i,j+1])*(np.sqrt((X[i,j]-X[i,j+1])**2+mu)**(-1)))\n",
        "                else:\n",
        "                    grad+=2*lamb*((X[i,j]-X[i,j-1])*(np.sqrt((X[i,j]-X[i,j-1])**2+mu)**(-1)))\n",
        "            else:\n",
        "                grad+=2*lamb*((X[i,j]-X[i,j+1])*(np.sqrt((X[i,j]-X[i,j+1])**2+mu)**(-1))+(X[i,j]-X[i,j-1])*(np.sqrt((X[i,j]-X[i,j-1])**2+mu)**(-1)))\n",
        "            grad_vect[i*(nrow)+j]=grad  \n",
        "    return grad_vect"
      ],
      "metadata": {
        "id": "ERNCH7iutj8k"
      },
      "execution_count": 90,
      "outputs": []
    },
    {
      "cell_type": "code",
      "source": [
        "def fun_obj_from_array(Y):\n",
        "    Y=np.array(np.split(Y,int(np.sqrt(len(Y)))))\n",
        "    return fun_obj(Y)\n",
        "def grad_f_from_array(Y):\n",
        "    Y=np.array(np.split(Y,int(np.sqrt(len(Y)))))\n",
        "    return grad_f(Y)"
      ],
      "metadata": {
        "id": "290HlKcjkDhU"
      },
      "execution_count": 4,
      "outputs": []
    },
    {
      "cell_type": "code",
      "source": [
        "from scipy import optimize"
      ],
      "metadata": {
        "id": "5_1U06A1jaww"
      },
      "execution_count": 24,
      "outputs": []
    },
    {
      "cell_type": "code",
      "source": [
        "import matplotlib.pyplot as plt\n",
        "import matplotlib.image as mpimg\n",
        "img = mpimg.imread('lenanoise.png',)\n",
        "import cv2\n",
        "import numpy as np\n",
        "\n",
        "res = cv2.resize(img, dsize=(56, 56), interpolation=cv2.INTER_CUBIC)\n",
        "imgplot = plt.imshow(res)\n",
        "plt.show()"
      ],
      "metadata": {
        "id": "NJ6DxCiewskj",
        "outputId": "6aa7c5ea-275e-4eec-e34a-51305d9ecc4f",
        "colab": {
          "base_uri": "https://localhost:8080/",
          "height": 267
        }
      },
      "execution_count": 65,
      "outputs": [
        {
          "output_type": "display_data",
          "data": {
            "text/plain": [
              "<Figure size 432x288 with 1 Axes>"
            ],
            "image/png": "[encoded data removed]"
          },
          "metadata": {
            "needs_background": "light"
          }
        }
      ]
    },
    {
      "cell_type": "code",
      "source": [
        "np.concatenate([[1,2],[3,4]])"
      ],
      "metadata": {
        "id": "0B5-moJoz45c",
        "outputId": "a1d8ee58-b162-4ef8-f82b-46edaa9f1f97",
        "colab": {
          "base_uri": "https://localhost:8080/"
        }
      },
      "execution_count": 74,
      "outputs": [
        {
          "output_type": "execute_result",
          "data": {
            "text/plain": [
              "array([1, 2, 3, 4])"
            ]
          },
          "metadata": {},
          "execution_count": 74
        }
      ]
    },
    {
      "cell_type": "code",
      "source": [
        "res_meojorada_1=GC(f=fun_obj_from_array,grad_f=grad_f_from_array,x_0=np.concatenate(res),max_iter=10**3,)"
      ],
      "metadata": {
        "id": "kavuzw4ey1Cq",
        "outputId": "779d08d6-4f46-4310-b427-0f862e6e9c65",
        "colab": {
          "base_uri": "https://localhost:8080/",
          "height": 543
        }
      },
      "execution_count": 91,
      "outputs": [
        {
          "output_type": "stream",
          "name": "stdout",
          "text": [
            "iter: 0\n",
            "iter: 30\n",
            "iter: 60\n",
            "iter: 90\n",
            "iter: 120\n",
            "iter: 150\n",
            "iter: 180\n",
            "iter: 210\n",
            "iter: 240\n",
            "iter: 270\n",
            "iter: 300\n",
            "iter: 330\n",
            "iter: 360\n",
            "iter: 390\n",
            "iter: 420\n",
            "iter 446\n"
          ]
        },
        {
          "output_type": "display_data",
          "data": {
            "text/plain": [
              "<Figure size 432x288 with 1 Axes>"
            ],
            "image/png": "[encoded data removed]"
          },
          "metadata": {
            "needs_background": "light"
          }
        }
      ]
    },
    {
      "cell_type": "code",
      "source": [
        "np.savetxt(\"res_mej_1.txt\",res_meojorada_1,)"
      ],
      "metadata": {
        "id": "zXJkeyEYTMn-"
      },
      "execution_count": 92,
      "outputs": []
    },
    {
      "cell_type": "code",
      "source": [
        "imgplot = plt.imshow(np.split(res_meojorada_1,56))\n",
        "plt.show()"
      ],
      "metadata": {
        "id": "0prtZMwpTh4l",
        "outputId": "0412fc4b-661b-40b2-e563-6b54de3aeacb",
        "colab": {
          "base_uri": "https://localhost:8080/",
          "height": 267
        }
      },
      "execution_count": 93,
      "outputs": [
        {
          "output_type": "display_data",
          "data": {
            "text/plain": [
              "<Figure size 432x288 with 1 Axes>"
            ],
            "image/png": "[encoded data removed]"
          },
          "metadata": {
            "needs_background": "light"
          }
        }
      ]
    }
  ]
}