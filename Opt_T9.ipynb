{
  "nbformat": 4,
  "nbformat_minor": 0,
  "metadata": {
    "colab": {
      "name": "Untitled107.ipynb",
      "provenance": [],
      "authorship_tag": "ABX9TyPl9HXHJ9CaLFMzRu+XoKSv",
      "include_colab_link": true
    },
    "kernelspec": {
      "name": "python3",
      "display_name": "Python 3"
    },
    "language_info": {
      "name": "python"
    }
  },
  "cells": [
    {
      "cell_type": "markdown",
      "metadata": {
        "id": "view-in-github",
        "colab_type": "text"
      },
      "source": [
        "<a href=\"https://colab.research.google.com/github/JairEsc/Mat_Apl/blob/main/Opt_T9.ipynb\" target=\"_parent\"><img src=\"https://colab.research.google.com/assets/colab-badge.svg\" alt=\"Open In Colab\"/></a>"
      ]
    },
    {
      "cell_type": "markdown",
      "source": [
        "FR: $\\beta_{k+1}^{FR}=\\frac{||\\nabla f(x_{k+1})||^2}{||\\nabla f(x_{k})||^2}$\n",
        "\n",
        "PR: $\\beta_{k+1}^{PR}=\\frac{\\nabla^T f(x_{k+1})\\cdot( \\nabla f(x_{k+1})-\\nabla f(x_k))}{||\\nabla f(x_{k})||^2}$\n",
        "\n",
        "FR-PR: $\\beta_{k+1}^{FR-PR}=\\left\\{\n",
        "\t\\begin{array}{ll}\n",
        "\t\t-\\beta^{FR}_{k+1}, \\text{ if } \\beta_{k+1}^{PR}\\leq -\\beta_{k+1}^{FR}\\\\\n",
        "\t\t\\beta^{PR}_{k+1}, \\text{ if } |\\beta_{k+1}^{PR}|\\leq \\beta_{k+1}^{FR}\\\\\n",
        "\t\t\\beta^{FR}_{k+1}, \\text{ if } \\beta_{k+1}^{PR}> \\beta_{k+1}^{FR}\\\\\n",
        "\t\\end{array}\n",
        "\\right.$\n",
        "\n",
        "HS $\\beta_{k+1}^{HS}=\\frac{\\nabla^T f(x_{k+1})\\cdot( \\nabla f(x_{k+1})-\\nabla f(x_k)}{ (\\nabla f(x_{k+1})-\\nabla f(x_k))^T\\cdot d_k}$"
      ],
      "metadata": {
        "id": "8yQn3_KVXZNM"
      }
    },
    {
      "cell_type": "markdown",
      "source": [
        "General\n",
        "Algorithm:\n",
        "$$\n",
        "d_0=-\\nabla f(x_0), k=0$$\n",
        "$$\n",
        "while(||d_k||>tol_g):$$\n",
        "$$\\text{Compute } \\alpha_k \\text{ using line search algorithm}$$\n",
        "$$\\text{Update } x_{k-1}=x_k+\\alpha_kd_k$$\n",
        "$$\\text{Compute } \\nabla f(x_{k+1})$$\n",
        "$$\\text{Choose } \\beta_{k+1} \\text{ using a method.}$$\n",
        "$$\\text{Update } d_{k+1}=-\\nabla f(x_{k+1})+\\beta_{k}\\cdot d_k$$\n",
        "$$k=k+1$$\n"
      ],
      "metadata": {
        "id": "p-cxTFk6SdWi"
      }
    },
    {
      "cell_type": "code",
      "source": [
        "from scipy import optimize\n",
        "import numpy as np"
      ],
      "metadata": {
        "id": "D6jt0sPlm6Yo"
      },
      "execution_count": 1,
      "outputs": []
    },
    {
      "cell_type": "code",
      "execution_count": null,
      "metadata": {
        "id": "TvZ9xaDAPgZR"
      },
      "outputs": [],
      "source": [
        "#Gradiente conjugado con varios metodos---------------------------------\n",
        "def choose_beta(grad_f_kp1,grad_f_k,d_k,method):\n",
        "    if (method=='FR'):\n",
        "        return (np.dot(grad_f_kp1,grad_f_kp1-np.array(grad_f_kp1)))/(np.dot(grad_f_k,grad_f_k))\n",
        "    if (method=='PR'):\n",
        "        return (np.dot(grad_f_kp1,grad_f_kp1))/(np.dot(grad_f_k,grad_f_k))\n",
        "    if (method=='HS'):\n",
        "        return (np.dot(grad_f_kp1,grad_f_kp1-np.array(grad_f_kp1)))/(np.dot(grad_f_kp1-grad_f_k,d_k))\n",
        "    if (method=='FR-PR'):\n",
        "        bFR=(np.dot(grad_f_kp1,grad_f_kp1-np.array(grad_f_kp1)))/(np.dot(grad_f_k,grad_f_k))\n",
        "        bPR=(np.dot(grad_f_kp1,grad_f_kp1))/(np.dot(grad_f_k,grad_f_k))\n",
        "        if(abs(bPR)<=bFR):\n",
        "            return bPR\n",
        "        else:\n",
        "            if(bPR<-bFR):\n",
        "                return -bFR\n",
        "            else:\n",
        "                return bFR\n",
        "\n",
        "def GC(f,grad_f,x_0,tol_g=10**(-4),max_iter=10**3,method='FR'):\n",
        "    d_0=-1.*np.array(grad_f(x_0))\n",
        "    g_k=-d_0\n",
        "    k=0\n",
        "    while(np.linalg.norm(d_0)>=tol_g and k<max_iter):\n",
        "        alpha_k_gc=optimize.line_search(f=f,myfprime=grad_f,xk=x_0,pk=d_0,c1=0.001,c2=0.9)[0] #Tam. de paso\n",
        "        x_1=x_0+alpha_k_gc*d_0 #update\n",
        "        g_km1=grad_f(x_1) \n",
        "        beta_k_gc=choose_beta(grad_f_kp1=g_km1,grad_f_k=g_k,d_k=d_0,method=method)\n",
        "        d_0=-np.array(g_km1)+beta_k_gc*d_0\n",
        "        x_0=x_1\n",
        "        k+=1\n",
        "    print(\"iter\",k)\n",
        "    return x_0\n",
        "#-----------------------------------"
      ]
    },
    {
      "cell_type": "code",
      "source": [
        "lamb=100\n",
        "G=np.array([[1,2,3],[4,5,6],[7,8,9]])\n",
        "mu=0.01\n",
        "def fun_obj(X):#X es una matriz de nxn\n",
        "    f=0\n",
        "    nrow=X.shape[0]\n",
        "    ncol=X.shape[1]\n",
        "    for i in range(nrow):\n",
        "        for j in range(ncol):\n",
        "            f+=(X[i,j]-G[i,j])**2\n",
        "            if(i==0 or i==nrow-1):\n",
        "                if(i==0):\n",
        "                    f+=lamb*(np.sqrt((X[i,j]-X[i+1,j])**2+mu))\n",
        "                else:\n",
        "                    f+=lamb*(np.sqrt((X[i,j]-X[i-1,j])**2+mu))\n",
        "            else:\n",
        "                f+=lamb*(np.sqrt((X[i,j]-X[i+1,j])**2+mu)+np.sqrt((X[i,j]-X[i-1,j])**2+mu))\n",
        "            if(j==0 or j==ncol-1):\n",
        "                if(j==0):\n",
        "                    f+=lamb*(np.sqrt((X[i,j]-X[i,j+1])**2+mu))\n",
        "                else:\n",
        "                    f+=lamb*(np.sqrt((X[i,j]-X[i,j-1])**2+mu))\n",
        "            else:\n",
        "                f+=lamb*(np.sqrt((X[i,j]-X[i,j+1])**2+mu)+np.sqrt((X[i,j]-X[i,j-1])**2+mu))\n",
        "    return f\n",
        "def grad_f(X):#X es una matriz, lo voy a pensar como un vector con indices [i,j]\n",
        "    grad=[]\n",
        "    for i in range(X.shape(0)):#Checar lo que pasa en las fronteras de la imagen\n",
        "        for j in range(X.shape(1)):\n",
        "            grad.append(2*(X[i,j]-G[i,j]+2*lamb*((X[i,j]-X[i+1,j])*np.sqrt((X[i,j]-X[i+1,j])**2+mu)**(-1)+(X[i,j]-X[i-1,j])*np.sqrt((X[i,j]-X[i-1,j])**2+mu)**(-1)+(X[i,j]-X[i,j+1])*np.sqrt((X[i,j]-X[i,j+1])**2+mu)**(-1)+(X[i,j]-X[i,j-1])*np.sqrt((X[i,j]-X[i,j-1])**2+mu)**(-1))))#respecto a la variable X_{i,j}\n",
        "    return grad"
      ],
      "metadata": {
        "id": "ERNCH7iutj8k"
      },
      "execution_count": 31,
      "outputs": []
    },
    {
      "cell_type": "code",
      "source": [
        "def fun_obj_from_array(Y):\n",
        "    Y=np.array(np.split(Y,int(np.sqrt(len(Y)))))\n",
        "    return fun_obj(Y)"
      ],
      "metadata": {
        "id": "290HlKcjkDhU"
      },
      "execution_count": 32,
      "outputs": []
    },
    {
      "cell_type": "code",
      "source": [
        "np.array([[1,2,3],[4,5,6],[7,8,9]]).shape[0]"
      ],
      "metadata": {
        "id": "-pIHlLx8k9k5",
        "outputId": "33c91d36-9b69-40db-8f35-1342302683cb",
        "colab": {
          "base_uri": "https://localhost:8080/"
        }
      },
      "execution_count": 14,
      "outputs": [
        {
          "output_type": "execute_result",
          "data": {
            "text/plain": [
              "3"
            ]
          },
          "metadata": {},
          "execution_count": 14
        }
      ]
    },
    {
      "cell_type": "code",
      "source": [
        "fun_obj_from_array(np.array([1,2,3,4,5,6,7,8,9]))"
      ],
      "metadata": {
        "id": "pZ6RnB-PksOv",
        "outputId": "8f690718-e725-43bd-d8db-d945e3eec599",
        "colab": {
          "base_uri": "https://localhost:8080/"
        }
      },
      "execution_count": 33,
      "outputs": [
        {
          "output_type": "execute_result",
          "data": {
            "text/plain": [
              "4807.984519287379"
            ]
          },
          "metadata": {},
          "execution_count": 33
        }
      ]
    },
    {
      "cell_type": "code",
      "source": [
        "fun_obj(G)"
      ],
      "metadata": {
        "id": "ylUSdyJEo7UV",
        "outputId": "50a90040-7317-4b2e-80ff-ead14531bd0c",
        "colab": {
          "base_uri": "https://localhost:8080/"
        }
      },
      "execution_count": 34,
      "outputs": [
        {
          "output_type": "execute_result",
          "data": {
            "text/plain": [
              "4807.984519287379"
            ]
          },
          "metadata": {},
          "execution_count": 34
        }
      ]
    },
    {
      "cell_type": "code",
      "source": [
        "from scipy import optimize"
      ],
      "metadata": {
        "id": "5_1U06A1jaww"
      },
      "execution_count": 3,
      "outputs": []
    },
    {
      "cell_type": "code",
      "source": [
        "optimize.approx_fprime()"
      ],
      "metadata": {
        "id": "olsOooRgjFzA"
      },
      "execution_count": null,
      "outputs": []
    }
  ]
}