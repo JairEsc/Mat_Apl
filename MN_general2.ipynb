{
  "nbformat": 4,
  "nbformat_minor": 0,
  "metadata": {
    "colab": {
      "name": "Untitled71.ipynb",
      "provenance": [],
      "authorship_tag": "ABX9TyPeNzj78Yfh2Fk2YHCWZWYh",
      "include_colab_link": true
    },
    "kernelspec": {
      "name": "python3",
      "display_name": "Python 3"
    },
    "language_info": {
      "name": "python"
    }
  },
  "cells": [
    {
      "cell_type": "markdown",
      "metadata": {
        "id": "view-in-github",
        "colab_type": "text"
      },
      "source": [
        "<a href=\"https://colab.research.google.com/github/JairEsc/Mat_Apl/blob/main/MN_general2.ipynb\" target=\"_parent\"><img src=\"https://colab.research.google.com/assets/colab-badge.svg\" alt=\"Open In Colab\"/></a>"
      ]
    },
    {
      "cell_type": "code",
      "execution_count": 1,
      "metadata": {
        "id": "12tVSrY6i4mb"
      },
      "outputs": [],
      "source": [
        "import numpy as np"
      ]
    },
    {
      "cell_type": "code",
      "source": [
        "def spline_cuadratico(X,Y,n):\n",
        "    A=np.zeros((3*n-3,3*n-3))\n",
        "    A[0][0]=2\n",
        "    b=np.zeros(3*n-3)\n",
        "    for i in range(0,n-1):\n",
        "        if(i==0):\n",
        "            A[1][0]=X[0]**2\n",
        "            A[1][1]=X[0]\n",
        "            A[1][2]=1\n",
        "            b[1]=Y[0]\n",
        "        else:\n",
        "            A[2*i][3*(i-1)]=X[i]**2\n",
        "            A[2*i][3*(i-1)+1]=X[i]\n",
        "            A[2*i][3*(i-1)+2]=1\n",
        "            A[2*i+1][3*i]=X[i]**2\n",
        "            A[2*i+1][3*i+1]=X[i]\n",
        "            A[1+2*i][3*i+2]=1\n",
        "            b[2*i]=Y[i]\n",
        "            b[2*i+1]=Y[i]\n",
        "    A[2*n-2][3*i]=X[i+1]**2\n",
        "    A[2*n-2][3*i+1]=X[i+1]\n",
        "    A[2*n-2][3*i+2]=1\n",
        "    b[2*n-2]=Y[n-1]\n",
        "    for j in range(0,n-2):\n",
        "        A[2*n-1+j][3*j]=2*X[j+1]\n",
        "        A[2*n-1+j][3*j+1]=1\n",
        "        A[2*n-1+j][3*j+3]=-2*X[j+1]\n",
        "        A[2*n-1+j][3*j+4]=-1\n",
        "    print(\"Matriz:\\n\",A)\n",
        "    sol=np.linalg.solve(A,b)#Usando numpy\n",
        "    print(\"coeficientes:\\n\")\n",
        "    for j in range(n-1):\n",
        "        print(\"a_\"+str(j)+\"=\",sol[3*j])\n",
        "        print(\"b_\"+str(j)+\"=\",sol[3*j+1])\n",
        "        print(\"c_\"+str(j)+\"=\",sol[3*j+2])\n",
        "    return sol\n",
        "X=[1,2,2.5,3,4]\n",
        "Y=[1,5,7,8,2]\n",
        "n=len(X)\n",
        "sol=spline_cuadratico(X,Y,n)"
      ],
      "metadata": {
        "colab": {
          "base_uri": "https://localhost:8080/"
        },
        "id": "5MfscOqDjGQA",
        "outputId": "0ee1e8e8-61a6-44f2-9a01-c404406f5934"
      },
      "execution_count": 51,
      "outputs": [
        {
          "output_type": "stream",
          "name": "stdout",
          "text": [
            "Matriz:\n",
            " [[ 2.    0.    0.    0.    0.    0.    0.    0.    0.    0.    0.    0.  ]\n",
            " [ 1.    1.    1.    0.    0.    0.    0.    0.    0.    0.    0.    0.  ]\n",
            " [ 4.    2.    1.    0.    0.    0.    0.    0.    0.    0.    0.    0.  ]\n",
            " [ 0.    0.    0.    4.    2.    1.    0.    0.    0.    0.    0.    0.  ]\n",
            " [ 0.    0.    0.    6.25  2.5   1.    0.    0.    0.    0.    0.    0.  ]\n",
            " [ 0.    0.    0.    0.    0.    0.    6.25  2.5   1.    0.    0.    0.  ]\n",
            " [ 0.    0.    0.    0.    0.    0.    9.    3.    1.    0.    0.    0.  ]\n",
            " [ 0.    0.    0.    0.    0.    0.    0.    0.    0.    9.    3.    1.  ]\n",
            " [ 0.    0.    0.    0.    0.    0.    0.    0.    0.   16.    4.    1.  ]\n",
            " [ 4.    1.    0.   -4.   -1.    0.    0.    0.    0.    0.    0.    0.  ]\n",
            " [ 0.    0.    0.    5.    1.    0.   -5.   -1.    0.    0.    0.    0.  ]\n",
            " [ 0.    0.    0.    0.    0.    0.    6.    1.    0.   -6.   -1.    0.  ]]\n",
            "coeficientes:\n",
            "\n",
            "a_0= 0.0\n",
            "b_0= 4.0\n",
            "c_0= -3.0\n",
            "a_1= -6.7501559897209515e-15\n",
            "b_1= 4.0000000000000275\n",
            "c_1= -3.000000000000026\n",
            "a_2= -3.999999999999977\n",
            "b_2= 23.99999999999988\n",
            "c_2= -27.999999999999847\n",
            "a_3= -6.000000000000016\n",
            "b_3= 36.000000000000114\n",
            "c_3= -46.0000000000002\n"
          ]
        }
      ]
    },
    {
      "cell_type": "code",
      "source": [
        "import matplotlib.pyplot as plt\n",
        "for i in range(n-1):\n",
        "    x_0=X[i]\n",
        "    x_s=np.linspace(x_0,X[i+1],32)\n",
        "    plt.plot(x_s,sol[3*i]*x_s**2+sol[3*i+1]*x_s+sol[3*i+2])\n",
        "plt.plot(X,Y,'k*',label='puntos de interpolacion')\n",
        "plt.legend(framealpha=1, frameon=True);"
      ],
      "metadata": {
        "colab": {
          "base_uri": "https://localhost:8080/",
          "height": 265
        },
        "id": "bvhQFhXU44Tv",
        "outputId": "6e709eda-a1ee-46f7-fa3a-bb2ef56995c6"
      },
      "execution_count": 52,
      "outputs": [
        {
          "output_type": "display_data",
          "data": {
            "image/png": "[encoded data removed]",
            "text/plain": [
              "<Figure size 432x288 with 1 Axes>"
            ]
          },
          "metadata": {
            "needs_background": "light"
          }
        }
      ]
    }
  ]
}