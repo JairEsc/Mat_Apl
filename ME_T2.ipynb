{
  "nbformat": 4,
  "nbformat_minor": 0,
  "metadata": {
    "colab": {
      "name": "Untitled21.ipynb",
      "provenance": [],
      "authorship_tag": "ABX9TyN5mcpdg+V1DIrfs/BVANUP",
      "include_colab_link": true
    },
    "kernelspec": {
      "name": "python3",
      "display_name": "Python 3"
    },
    "language_info": {
      "name": "python"
    }
  },
  "cells": [
    {
      "cell_type": "markdown",
      "metadata": {
        "id": "view-in-github",
        "colab_type": "text"
      },
      "source": [
        "<a href=\"https://colab.research.google.com/github/JairEsc/Mat_Apl/blob/main/ME_T2.ipynb\" target=\"_parent\"><img src=\"https://colab.research.google.com/assets/colab-badge.svg\" alt=\"Open In Colab\"/></a>"
      ]
    },
    {
      "cell_type": "code",
      "metadata": {
        "colab": {
          "base_uri": "https://localhost:8080/"
        },
        "id": "-w021qv6DV5i",
        "outputId": "c71d3082-c8ff-409b-fddc-7a70bebb7159"
      },
      "source": [
        "import scipy.stats as st\n",
        "p_30=st.norm.cdf((30-25)/5)\n",
        "p_20_c=1-st.norm.cdf((20-25)/5)\n",
        "p_mayor_18_menor_26=st.norm.cdf((26-25)/5)-st.norm.cdf((18-25)/5)\n",
        "print(p_30,p_20_c,p_mayor_18_menor_26)"
      ],
      "execution_count": 8,
      "outputs": [
        {
          "output_type": "stream",
          "name": "stdout",
          "text": [
            "0.8413447460685429 0.8413447460685429 0.4985030502053319\n"
          ]
        }
      ]
    },
    {
      "cell_type": "code",
      "metadata": {
        "colab": {
          "base_uri": "https://localhost:8080/"
        },
        "id": "TyetIyNqFzTT",
        "outputId": "6c18bfa6-3ae4-44d9-fb25-3b16b9c29916"
      },
      "source": [
        "st.poisson.cdf(10,1)"
      ],
      "execution_count": 13,
      "outputs": [
        {
          "output_type": "execute_result",
          "data": {
            "text/plain": [
              "0.9999999899522336"
            ]
          },
          "metadata": {},
          "execution_count": 13
        }
      ]
    }
  ]
}