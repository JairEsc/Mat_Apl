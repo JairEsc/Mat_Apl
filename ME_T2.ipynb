{
  "nbformat": 4,
  "nbformat_minor": 0,
  "metadata": {
    "colab": {
      "name": "Untitled21.ipynb",
      "provenance": [],
      "authorship_tag": "ABX9TyN3pnSIdHZwWxZpvDWeaXGy",
      "include_colab_link": true
    },
    "kernelspec": {
      "name": "python3",
      "display_name": "Python 3"
    },
    "language_info": {
      "name": "python"
    }
  },
  "cells": [
    {
      "cell_type": "markdown",
      "metadata": {
        "id": "view-in-github",
        "colab_type": "text"
      },
      "source": [
        "<a href=\"https://colab.research.google.com/github/JairEsc/Mat_Apl/blob/main/ME_T2.ipynb\" target=\"_parent\"><img src=\"https://colab.research.google.com/assets/colab-badge.svg\" alt=\"Open In Colab\"/></a>"
      ]
    },
    {
      "cell_type": "code",
      "metadata": {
        "colab": {
          "base_uri": "https://localhost:8080/"
        },
        "id": "-w021qv6DV5i",
        "outputId": "e98bdf54-4909-446d-ccfa-631110e51515"
      },
      "source": [
        "import scipy.stats as st\n",
        "p_30=st.norm.cdf((30-25)/5)\n",
        "p_20_c=1-st.norm.cdf((20-25)/5)\n",
        "p_mayor_18_menor_26=st.norm.cdf((26-25)/5)-st.norm.cdf((18-25)/5)\n",
        "print(p_30,p_20_c,p_mayor_18_menor_26)"
      ],
      "execution_count": 1,
      "outputs": [
        {
          "output_type": "stream",
          "name": "stdout",
          "text": [
            "0.8413447460685429 0.8413447460685429 0.4985030502053319\n"
          ]
        }
      ]
    },
    {
      "cell_type": "code",
      "metadata": {
        "colab": {
          "base_uri": "https://localhost:8080/"
        },
        "id": "TyetIyNqFzTT",
        "outputId": "2283d84e-a24e-4db3-a38f-7e97ef571481"
      },
      "source": [
        "st.poisson.cdf(k=9,mu=7)-st.poisson.cdf(k=2,mu=7)"
      ],
      "execution_count": 12,
      "outputs": [
        {
          "output_type": "execute_result",
          "data": {
            "text/plain": [
              "0.8008597733581515"
            ]
          },
          "metadata": {},
          "execution_count": 12
        }
      ]
    },
    {
      "cell_type": "code",
      "metadata": {
        "id": "BRCdRAP5ynHM",
        "outputId": "f04c6d4c-54e0-4759-f9d2-267606c3e195",
        "colab": {
          "base_uri": "https://localhost:8080/"
        }
      },
      "source": [
        "st.binom.cdf(k=22,n=200,p=0.1)"
      ],
      "execution_count": 16,
      "outputs": [
        {
          "output_type": "execute_result",
          "data": {
            "text/plain": [
              "0.7289722301345201"
            ]
          },
          "metadata": {},
          "execution_count": 16
        }
      ]
    },
    {
      "cell_type": "code",
      "metadata": {
        "id": "xh2v_mBEzkmS",
        "outputId": "e2fac803-4a69-4add-ac0b-22da485ced13",
        "colab": {
          "base_uri": "https://localhost:8080/"
        }
      },
      "source": [
        "st.poisson.cdf(22,mu=20)"
      ],
      "execution_count": 17,
      "outputs": [
        {
          "output_type": "execute_result",
          "data": {
            "text/plain": [
              "0.7206113431260256"
            ]
          },
          "metadata": {},
          "execution_count": 17
        }
      ]
    },
    {
      "cell_type": "code",
      "metadata": {
        "id": "Ue2AMz-izrgZ",
        "outputId": "052da966-798c-4e55-d049-509c24a57ca6",
        "colab": {
          "base_uri": "https://localhost:8080/"
        }
      },
      "source": [
        "st.norm.cdf((22-20)/(20)**(0.5))"
      ],
      "execution_count": 19,
      "outputs": [
        {
          "output_type": "execute_result",
          "data": {
            "text/plain": [
              "0.539827837277029"
            ]
          },
          "metadata": {},
          "execution_count": 19
        }
      ]
    },
    {
      "cell_type": "code",
      "metadata": {
        "id": "LI4Ygn3sQNtq",
        "outputId": "17787532-e1c4-4afd-af5d-0c85b1e28250",
        "colab": {
          "base_uri": "https://localhost:8080/"
        }
      },
      "source": [
        "2**(1/1.2)-1"
      ],
      "execution_count": 23,
      "outputs": [
        {
          "output_type": "execute_result",
          "data": {
            "text/plain": [
              "0.7817974362806785"
            ]
          },
          "metadata": {},
          "execution_count": 23
        }
      ]
    }
  ]
}