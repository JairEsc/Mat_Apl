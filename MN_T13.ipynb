{
  "nbformat": 4,
  "nbformat_minor": 0,
  "metadata": {
    "colab": {
      "name": "Copia de Copia de Copia de Untitled51.ipynb",
      "provenance": [],
      "collapsed_sections": [],
      "authorship_tag": "ABX9TyNfVoHtO7yyVbsNvx1Hhvt9",
      "include_colab_link": true
    },
    "kernelspec": {
      "name": "python3",
      "display_name": "Python 3"
    },
    "language_info": {
      "name": "python"
    }
  },
  "cells": [
    {
      "cell_type": "markdown",
      "metadata": {
        "id": "view-in-github",
        "colab_type": "text"
      },
      "source": [
        "<a href=\"https://colab.research.google.com/github/JairEsc/Mat_Apl/blob/main/MN_T13.ipynb\" target=\"_parent\"><img src=\"https://colab.research.google.com/assets/colab-badge.svg\" alt=\"Open In Colab\"/></a>"
      ]
    },
    {
      "cell_type": "code",
      "metadata": {
        "id": "UEOrydIrlIjx"
      },
      "source": [
        "#Regla de Simpson"
      ],
      "execution_count": null,
      "outputs": []
    },
    {
      "cell_type": "code",
      "metadata": {
        "id": "F5jECFF96wc6"
      },
      "source": [
        "def Simpson_comp(f,a,b,n):\n",
        "    if(n%3!=0):\n",
        "        return(\"n debe ser multiplo de 3\")\n",
        "    h=(b-a)/n\n",
        "    integral=0\n",
        "    for k in range(int(n/3)):\n",
        "        integral+=(3*h/8)*(f(a+3*k*h)+3*f(a+(3*k+1)*h)+3*f(a+(3*k+2)*h)+f(a+(3*k+3)*h))\n",
        "    return(integral)"
      ],
      "execution_count": null,
      "outputs": []
    },
    {
      "cell_type": "code",
      "metadata": {
        "colab": {
          "base_uri": "https://localhost:8080/",
          "height": 660
        },
        "id": "Sthn9T1O9JBr",
        "outputId": "e5eb469d-e218-47e3-9eca-d17d5b969cc2"
      },
      "source": [
        "import math\n",
        "def g(x):\n",
        "    return(1/(1+x**2))\n",
        "integr_f1=[]\n",
        "integr_f2=[]\n",
        "N=[3,6,9,12,15]\n",
        "for n in N:\n",
        "    integr_f1.append(Simpson_comp(np.exp,-1,1,n))\n",
        "    integr_f2.append(Simpson_comp(g,-1,1,n))\n",
        "print(\"Para exp(x):\",integr_f1)\n",
        "print(\"Para 1/(1+x^2):\",integr_f2)\n",
        "errores_f1=abs(np.array(integr_f1)-(np.exp(1)-np.exp(-1)))\n",
        "errores_f2=abs(np.array(integr_f2)-np.pi/2)\n",
        "import matplotlib.pyplot as plt\n",
        "print(\"Grafica de errores, funcion 1:\\n\")\n",
        "plt.plot(N,errores_f1,'o',label=\"exp(x)\")\n",
        "plt.xlabel('Num. de nodos')\n",
        "plt.ylabel('error')\n",
        "plt.legend(framealpha=1, frameon=True);\n",
        "plt.show()\n",
        "print(\"\\nGrafica de errores, funcion 2:\\n\")\n",
        "\n",
        "plt.plot(N,errores_f2,'o',label=\"1/(1+x**2)\")\n",
        "plt.xlabel('Num. de nodos')\n",
        "plt.ylabel('error')\n",
        "plt.legend(framealpha=1, frameon=True);\n",
        "plt.show()"
      ],
      "execution_count": 31,
      "outputs": [
        {
          "output_type": "stream",
          "name": "stdout",
          "text": [
            "Para exp(x): [2.355648119152531, 2.350755744608991, 2.350473201915678, 2.350424908072871, 2.350411633682346]\n",
            "Para 1/(1+x^2): [1.5999999999999999, 1.569230769230769, 1.5708497055942983, 1.5707917248900853, 1.570795949328916]\n",
            "Grafica de errores, funcion 1:\n",
            "\n"
          ]
        },
        {
          "output_type": "display_data",
          "data": {
            "image/png": "[encoded data removed]",
            "text/plain": [
              "<Figure size 432x288 with 1 Axes>"
            ]
          },
          "metadata": {
            "needs_background": "light"
          }
        },
        {
          "output_type": "stream",
          "name": "stdout",
          "text": [
            "\n",
            "Grafica de errores, funcion 2:\n",
            "\n"
          ]
        },
        {
          "output_type": "display_data",
          "data": {
            "image/png": "[encoded data removed]",
            "text/plain": [
              "<Figure size 432x288 with 1 Axes>"
            ]
          },
          "metadata": {
            "needs_background": "light"
          }
        }
      ]
    },
    {
      "cell_type": "code",
      "metadata": {
        "id": "ftISbSAbKO3g"
      },
      "source": [
        "#Newton-Legendre.\n",
        "def p(n,x):#Polinomio\n",
        "    sum=0\n",
        "    if(n==0):\n",
        "        return 1\n",
        "    if(n==1):\n",
        "        return x\n",
        "    valor=(1/n)*((2*n-1)*x*p(n-1,x)-(n-1)*p(n-2,x))\n",
        "    return(valor)\n",
        "def p_prima(n,x): #Derivada\n",
        "    return(((n)/(1-x**2))*(p(n-1,x)-x*p(n,x)))"
      ],
      "execution_count": null,
      "outputs": []
    },
    {
      "cell_type": "code",
      "metadata": {
        "id": "bAfyJEoOMyYX"
      },
      "source": [
        "def Newton(f, fprime, x_0,tol_x=0,tol_f=10**(-6),iter_max=10000):\n",
        "  #Input: f, f', x_0,\n",
        "  #         tol_x: Tolerancia del tamaño del intervalo (default=0)\n",
        "  #         tol_f: Tolerancia, criterio de paro (default=10^{-6})\n",
        "  if(fprime(x_0)==0):\n",
        "    return('considere otro valor inicial')\n",
        "  else: \n",
        "    x_1=x_0-f(x_0)/fprime(x_0)\n",
        "  iter=1\n",
        "  while (abs(f(x_1))>tol_f) & (abs(x_0-x_1)>tol_x) & (iter<iter_max):\n",
        "    if(fprime(x_1)==0): \n",
        "      break\n",
        "    else:\n",
        "      x_0=x_1\n",
        "      x_1=x_0-f(x_0)/fprime(x_0)\n",
        "      iter+=1\n",
        "  print(\"Numero de iteraciones: \",iter)\n",
        "  return x_1"
      ],
      "execution_count": null,
      "outputs": []
    },
    {
      "cell_type": "code",
      "metadata": {
        "id": "bctiz5nYTgBG"
      },
      "source": [
        "def zeros_pol_Legendre(m):\n",
        "    n=m# n es la variable para construir los polinomios de Legendre de grado n.\n",
        "\n",
        "    def p_n(x):\n",
        "        return(p(n,x))\n",
        "    def p_prima_n(x):\n",
        "        return(p_prima(n,x))\n",
        "    x_0_k=[np.cos(np.pi*(k+0.75)/(n+0.5)) for k in range(n)]\n",
        "    zeros=[]\n",
        "    for x_0 in x_0_k:\n",
        "        zeros.append(Newton(p_n,p_prima_n,x_0,tol_f=10**(-12)))#Se van a imprimir el numero de iteraciones de cada cero.\n",
        "        print(\"approximacion del cero: \",zeros[-1])\n",
        "    return(zeros)"
      ],
      "execution_count": null,
      "outputs": []
    },
    {
      "cell_type": "code",
      "metadata": {
        "id": "TAdgItQeWEMw"
      },
      "source": [
        "def f_1(x): #Funcion de prueba 1\n",
        "    return (x*np.cos(x))\n",
        "def f_2(x): #Funcion de prueba 1\n",
        "    return(np.exp(-x)*x)\n",
        "def G_L_cuadratura(f,n,a,b):#Hace la traslacion y regresa la aproximacion de la integral\n",
        "    def traslation(a,b,t):\n",
        "        return((a+b+(b-a)*t)/2)\n",
        "    zeros=zeros_pol_Legendre(n)\n",
        "    c=[]\n",
        "    for x in zeros:\n",
        "        c.append(2/(((1-x**2))*(p_prima(n,x)**2)))\n",
        "    suma=0\n",
        "    for i in range(len(zeros)):\n",
        "        suma+=((b-a)/2)*c[i]*f(traslation(a,b,zeros[i]))\n",
        "    return suma"
      ],
      "execution_count": null,
      "outputs": []
    },
    {
      "cell_type": "code",
      "metadata": {
        "colab": {
          "base_uri": "https://localhost:8080/"
        },
        "id": "RcE71_zLo7rB",
        "outputId": "3e1a5d0c-801f-4139-dfef-f836ec096864"
      },
      "source": [
        "N=[2,4,10]\n",
        "approx_f1=[]\n",
        "approx_f2=[]\n",
        "print(\"-------Funcion 1:-------\")\n",
        "print(\"\\n\")\n",
        "for n in N:\n",
        "    print(\"Para n=\",n)\n",
        "    print(\"Iteraciones:\")\n",
        "    approx_f1.append(G_L_cuadratura(f_1,n,a=0,b=np.pi))\n",
        "    print(\"Aproximacion para funcion 1: \",approx_f1[-1])\n",
        "    print(\"-\"*30)\n",
        "print(\"\\n\")\n",
        "print(\"-------Funcion 2:-------\")\n",
        "print(\"\\n\")\n",
        "\n",
        "for n in N:\n",
        "    print(\"Para n=\",n)\n",
        "    print(\"Iteraciones:\")\n",
        "    approx_f2.append(G_L_cuadratura(f_2,n,a=-1,b=0))    \n",
        "    print(\"Aproximacion para funcion 2: \",approx_f2[-1])\n",
        "    print(\"-\"*30)\n",
        "approx_f1=abs(np.array(approx_f1)+2)#Calcular errores \n",
        "approx_f2=abs(np.array(approx_f2)+1)"
      ],
      "execution_count": null,
      "outputs": [
        {
          "output_type": "stream",
          "name": "stdout",
          "text": [
            "-------Funcion 1:-------\n",
            "\n",
            "\n",
            "Para n= 2\n",
            "Iteraciones:\n",
            "Numero de iteraciones:  3\n",
            "approximacion del cero:  0.5773502691896257\n",
            "Numero de iteraciones:  3\n",
            "approximacion del cero:  -0.5773502691896257\n",
            "Aproximacion para funcion 1:  -2.2439504025573025\n",
            "------------------------------\n",
            "Para n= 4\n",
            "Iteraciones:\n",
            "Numero de iteraciones:  3\n",
            "approximacion del cero:  0.8611363115940539\n",
            "Numero de iteraciones:  3\n",
            "approximacion del cero:  0.33998104358485626\n",
            "Numero de iteraciones:  3\n",
            "approximacion del cero:  -0.33998104358485626\n",
            "Numero de iteraciones:  3\n",
            "approximacion del cero:  -0.8611363115940539\n",
            "Aproximacion para funcion 1:  -2.0001242410817954\n",
            "------------------------------\n",
            "Para n= 10\n",
            "Iteraciones:\n",
            "Numero de iteraciones:  3\n",
            "approximacion del cero:  0.9739065285171726\n",
            "Numero de iteraciones:  3\n",
            "approximacion del cero:  0.8650633666889845\n",
            "Numero de iteraciones:  3\n",
            "approximacion del cero:  0.6794095682990243\n",
            "Numero de iteraciones:  2\n",
            "approximacion del cero:  0.43339539412925515\n",
            "Numero de iteraciones:  2\n",
            "approximacion del cero:  0.14887433898163122\n",
            "Numero de iteraciones:  2\n",
            "approximacion del cero:  -0.14887433898163122\n",
            "Numero de iteraciones:  2\n",
            "approximacion del cero:  -0.43339539412925515\n",
            "Numero de iteraciones:  3\n",
            "approximacion del cero:  -0.6794095682990243\n",
            "Numero de iteraciones:  3\n",
            "approximacion del cero:  -0.8650633666889845\n",
            "Numero de iteraciones:  3\n",
            "approximacion del cero:  -0.9739065285171726\n",
            "Aproximacion para funcion 1:  -1.999999999999999\n",
            "------------------------------\n",
            "\n",
            "\n",
            "-------Funcion 2:-------\n",
            "\n",
            "\n",
            "Para n= 2\n",
            "Iteraciones:\n",
            "Numero de iteraciones:  3\n",
            "approximacion del cero:  0.5773502691896257\n",
            "Numero de iteraciones:  3\n",
            "approximacion del cero:  -0.5773502691896257\n",
            "Aproximacion para funcion 2:  -0.9982578372435208\n",
            "------------------------------\n",
            "Para n= 4\n",
            "Iteraciones:\n",
            "Numero de iteraciones:  3\n",
            "approximacion del cero:  0.8611363115940539\n",
            "Numero de iteraciones:  3\n",
            "approximacion del cero:  0.33998104358485626\n",
            "Numero de iteraciones:  3\n",
            "approximacion del cero:  -0.33998104358485626\n",
            "Numero de iteraciones:  3\n",
            "approximacion del cero:  -0.8611363115940539\n",
            "Aproximacion para funcion 2:  -0.99999999205827\n",
            "------------------------------\n",
            "Para n= 10\n",
            "Iteraciones:\n",
            "Numero de iteraciones:  3\n",
            "approximacion del cero:  0.9739065285171726\n",
            "Numero de iteraciones:  3\n",
            "approximacion del cero:  0.8650633666889845\n",
            "Numero de iteraciones:  3\n",
            "approximacion del cero:  0.6794095682990243\n",
            "Numero de iteraciones:  2\n",
            "approximacion del cero:  0.43339539412925515\n",
            "Numero de iteraciones:  2\n",
            "approximacion del cero:  0.14887433898163122\n",
            "Numero de iteraciones:  2\n",
            "approximacion del cero:  -0.14887433898163122\n",
            "Numero de iteraciones:  2\n",
            "approximacion del cero:  -0.43339539412925515\n",
            "Numero de iteraciones:  3\n",
            "approximacion del cero:  -0.6794095682990243\n",
            "Numero de iteraciones:  3\n",
            "approximacion del cero:  -0.8650633666889845\n",
            "Numero de iteraciones:  3\n",
            "approximacion del cero:  -0.9739065285171726\n",
            "Aproximacion para funcion 2:  -0.9999999999999964\n",
            "------------------------------\n"
          ]
        }
      ]
    },
    {
      "cell_type": "code",
      "metadata": {
        "colab": {
          "base_uri": "https://localhost:8080/",
          "height": 626
        },
        "id": "YfoyxitLZxIz",
        "outputId": "59a9075c-4131-44bb-99a3-169a52462395"
      },
      "source": [
        "import matplotlib.pyplot as plt\n",
        "print(\"Grafica de errores, funcion 1:\\n\")\n",
        "plt.plot(N,approx_f1,'o',label=\"x*cos(x)\")\n",
        "plt.xlabel('Num. de nodos')\n",
        "plt.ylabel('error')\n",
        "plt.legend(framealpha=1, frameon=True);\n",
        "plt.show()\n",
        "print(\"\\nGrafica de errores, funcion 2:\\n\")\n",
        "\n",
        "plt.plot(N,approx_f2,'o',label=\"x*exp(-x)\")\n",
        "plt.xlabel('Num. de nodos')\n",
        "plt.ylabel('error')\n",
        "plt.legend(framealpha=1, frameon=True);\n",
        "plt.show()\n",
        "\n"
      ],
      "execution_count": null,
      "outputs": [
        {
          "output_type": "stream",
          "name": "stdout",
          "text": [
            "Grafica de errores, funcion 1:\n",
            "\n"
          ]
        },
        {
          "output_type": "display_data",
          "data": {
            "image/png": "[encoded data removed]",
            "text/plain": [
              "<Figure size 432x288 with 1 Axes>"
            ]
          },
          "metadata": {
            "needs_background": "light"
          }
        },
        {
          "output_type": "stream",
          "name": "stdout",
          "text": [
            "\n",
            "Grafica de errores, funcion 2:\n",
            "\n"
          ]
        },
        {
          "output_type": "display_data",
          "data": {
            "image/png": "[encoded data removed]",
            "text/plain": [
              "<Figure size 432x288 with 1 Axes>"
            ]
          },
          "metadata": {
            "needs_background": "light"
          }
        }
      ]
    }
  ]
}