{
  "nbformat": 4,
  "nbformat_minor": 0,
  "metadata": {
    "colab": {
      "name": "Untitled51.ipynb",
      "provenance": [],
      "authorship_tag": "ABX9TyPB+4ZBUZH7h2afVdpGbrRm",
      "include_colab_link": true
    },
    "kernelspec": {
      "name": "python3",
      "display_name": "Python 3"
    },
    "language_info": {
      "name": "python"
    }
  },
  "cells": [
    {
      "cell_type": "markdown",
      "metadata": {
        "id": "view-in-github",
        "colab_type": "text"
      },
      "source": [
        "<a href=\"https://colab.research.google.com/github/JairEsc/Mat_Apl/blob/main/MN_T13.ipynb\" target=\"_parent\"><img src=\"https://colab.research.google.com/assets/colab-badge.svg\" alt=\"Open In Colab\"/></a>"
      ]
    },
    {
      "cell_type": "code",
      "metadata": {
        "id": "UEOrydIrlIjx"
      },
      "source": [
        "#Regla de Simpson\n",
        "import numpy as np\n",
        "def Simpson(f,a,b,n):\n",
        "    h=(b-a)/3\n",
        "    integral=0\n",
        "    for i in range(1,n):\n",
        "        print(i)\n",
        "        if(i%2==1):\n",
        "            a_0=a+h*(i-1)\n",
        "            b_0=a+h*(i+1)\n",
        "            h_0=(b_0-a_0)/3\n",
        "            approx=(3*h_0/8)*(f(a_0)+f(b_0)+3*f(a_0+h_0)+3*f(a_0+2*h_0))\n",
        "            integral+=approx\n",
        "    return(integral)"
      ],
      "execution_count": 1,
      "outputs": []
    },
    {
      "cell_type": "code",
      "metadata": {
        "colab": {
          "base_uri": "https://localhost:8080/"
        },
        "id": "pfAGQd3Nrp8P",
        "outputId": "dd4480d1-cd63-4ac3-823c-af6f8c52935f"
      },
      "source": [
        "def f(x):\n",
        "    return(1/x)\n",
        "a=2\n",
        "b=7\n",
        "Simpson(f,a,b,6)"
      ],
      "execution_count": 13,
      "outputs": [
        {
          "output_type": "stream",
          "name": "stdout",
          "text": [
            "1\n",
            "2\n",
            "3\n",
            "4\n",
            "5\n"
          ]
        },
        {
          "output_type": "execute_result",
          "data": {
            "text/plain": [
              "1.3869453463203465"
            ]
          },
          "metadata": {},
          "execution_count": 13
        }
      ]
    },
    {
      "cell_type": "code",
      "metadata": {
        "colab": {
          "base_uri": "https://localhost:8080/"
        },
        "id": "iNN7e73br8m1",
        "outputId": "6255acc7-7503-4869-f656-be5ccc30807c"
      },
      "source": [
        "1/6"
      ],
      "execution_count": 5,
      "outputs": [
        {
          "output_type": "execute_result",
          "data": {
            "text/plain": [
              "0.16666666666666666"
            ]
          },
          "metadata": {},
          "execution_count": 5
        }
      ]
    },
    {
      "cell_type": "code",
      "metadata": {
        "colab": {
          "base_uri": "https://localhost:8080/"
        },
        "id": "RGkwhzwflvAV",
        "outputId": "23096953-c3b7-48ce-a926-f1d71a129aad"
      },
      "source": [
        "import numpy as np\n",
        "k=np.floor(3.1)\n",
        "for i in range(int(k)):\n",
        "    print(i)"
      ],
      "execution_count": 6,
      "outputs": [
        {
          "output_type": "stream",
          "name": "stdout",
          "text": [
            "0\n",
            "1\n",
            "2\n"
          ]
        }
      ]
    }
  ]
}