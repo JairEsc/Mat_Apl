{
  "nbformat": 4,
  "nbformat_minor": 0,
  "metadata": {
    "colab": {
      "name": "Untitled113.ipynb",
      "provenance": [],
      "authorship_tag": "ABX9TyODNARAzMi4mg7+B0tr9vNF",
      "include_colab_link": true
    },
    "kernelspec": {
      "name": "python3",
      "display_name": "Python 3"
    },
    "language_info": {
      "name": "python"
    }
  },
  "cells": [
    {
      "cell_type": "markdown",
      "metadata": {
        "id": "view-in-github",
        "colab_type": "text"
      },
      "source": [
        "<a href=\"https://colab.research.google.com/github/JairEsc/Mat_Apl/blob/main/Proyecto_DFO_CON_RUIDO_ROSEMBROK.ipynb\" target=\"_parent\"><img src=\"https://colab.research.google.com/assets/colab-badge.svg\" alt=\"Open In Colab\"/></a>"
      ]
    },
    {
      "cell_type": "code",
      "execution_count": null,
      "metadata": {
        "id": "o6PluG67hoyz"
      },
      "outputs": [],
      "source": [
        ""
      ]
    },
    {
      "cell_type": "code",
      "source": [
        "import numpy as np\n",
        "import scipy.optimize\n",
        "import matplotlib.pyplot as plt"
      ],
      "metadata": {
        "id": "f_eEzJF9qQT8"
      },
      "execution_count": 1,
      "outputs": []
    },
    {
      "cell_type": "code",
      "source": [
        "def L_BFGS(S,Y,g):#Checar las posibles divisiones por cero\n",
        "    n=len(g)\n",
        "    m=len(S)\n",
        "    #supondremos H_0 un multiplo de la identidad\n",
        "    H_0=(np.dot(S[-1],Y[-1])/(np.dot(Y[-1],Y[-1])))*np.identity(n)#Dado en clase.\n",
        "    q=g\n",
        "    alphas=[]\n",
        "    for i in range(m):\n",
        "        alphas.append((1/max(10**(-6),np.dot(S[m-1-i],Y[m-1-i])))*np.dot(S[m-1-i],q))\n",
        "        q=q-alphas[i]*Y[m-1-i]\n",
        "    r=np.dot(H_0,q)\n",
        "    for i in range(m):\n",
        "        beta=(1/max(10**(-6),np.dot(Y[i],S[i])))*np.dot(Y[i],r)\n",
        "        r=r+S[i]*(alphas[m-1-i]-beta)#aproximacion de -H*g\n",
        "    return r\n",
        "def BFGS(H, s, y):\n",
        "    n = H.shape[0]\n",
        "    rho = 1.0/np.dot(y,s)\n",
        "    V   =  np.identity(n)- rho*np.outer(y,s.T)\n",
        "    return V.T@H@V + rho*np.outer(s,s)"
      ],
      "metadata": {
        "id": "8zB4uyJdLJ6g"
      },
      "execution_count": 2,
      "outputs": []
    },
    {
      "cell_type": "code",
      "source": [
        "def ECNoise(F):#F es un vector que guarda f(t_i), i=0,...,m. Evaluaciones de m+1 puntos equiespaciados\n",
        "#Ver metodo en Estimating_Computational_Noise, pagina 8\n",
        "    m=len(F)-1\n",
        "    T=np.zeros((m+1,m+1))\n",
        "    for i in range(m+1):\n",
        "        T[i,0]=F[i]\n",
        "    for k in range(m):\n",
        "        for i in range(m-k):\n",
        "            T[i,k+1]=T[i+1,k]-T[i,k]\n",
        "    return T"
      ],
      "metadata": {
        "id": "EiaLoRSdNFgA"
      },
      "execution_count": 3,
      "outputs": []
    },
    {
      "cell_type": "code",
      "source": [
        "def var_estimation(T):#Recibe la tabla.\n",
        "    m=len(T)-1\n",
        "    sigma_array=[]\n",
        "    for k in range(1,m):\n",
        "        sigma_array.append(((np.math.factorial(k)/np.math.factorial(2*k))/(m+1-k))*np.sum(T.T[k]**2))\n",
        "    #Ahora checamos las 2 condiciones.\n",
        "    for k in range(1,m-2):\n",
        "        max_k=np.max(sigma_array[k:k+2])\n",
        "        min_k=np.min(sigma_array[k:k+2])\n",
        "        if(max_k<=4*min_k):\n",
        "            if(np.sign(min_k*max_k)==-1):\n",
        "                print(\"es el \", k)\n",
        "                break\n",
        "    return np.sqrt(sigma_array[k])#Podria ser que las condiciones no se cumplan, en tal caso regresa la ultima estimacion sigma."
      ],
      "metadata": {
        "id": "gQcG9CUNagT4"
      },
      "execution_count": 4,
      "outputs": []
    },
    {
      "cell_type": "code",
      "source": [
        "def aprox_f_biprima(e_f,f,x_k,p):#Usando una direccion (aleatoria dada) se aproxima el max ||Hessiana_f(x_k)*p||\n",
        "    #Ver Estimating Derivatives of Noisy Simulations, pagina 14.\n",
        "    tao_1=100\n",
        "    tao_2=0.1\n",
        "    h_a=e_f**(1/4)\n",
        "    f_mas=f(x_k+h_a*p)\n",
        "    f_menos=f(x_k-h_a*p)\n",
        "    f_0=f(x_k)\n",
        "    delta_h_a=abs(f_mas+f_menos-2*f_0)\n",
        "    mu_a=delta_h_a/(np.max([h_a**2,10**(-6)] ))\n",
        "    if(delta_h_a/e_f>=tao_1):\n",
        "        mu=mu_a\n",
        "        if(abs(f_mas-f_0)<=tao_2*max(f_mas,f_menos,f_0) and abs(f_menos-f_0)<=tao_2*max(f_mas,f_menos,f_0)):\n",
        "            return mu_a\n",
        "    h_b=(e_f/mu_a)**(1/4)\n",
        "    f_mas=f(x_k+h_b*p)\n",
        "    f_menos=f(x_k-h_b*p)\n",
        "    delta_h_b=abs(f_mas+f_menos-2*f_0)\n",
        "    mu_b=delta_h_b/(np.max([h_b**2,10**(-6)] ))\n",
        "    if(delta_h_b/e_f>=tao_1):\n",
        "        mu=mu_b\n",
        "        if(abs(f_mas-f_0)<=tao_2*max(f_mas,f_menos,f_0) and abs(f_menos-f_0)<=tao_2*max(f_mas,f_menos,f_0)):\n",
        "            return mu_b\n",
        "    if(abs(mu_a-mu_b)<=0.5*mu_b):\n",
        "        return mu_b\n",
        "    #print(\"No hay regla de decision\")\n",
        "    return 1#Por falta de relga de descicion. En el algoritmo no se especifica una opcion.\n"
      ],
      "metadata": {
        "id": "Y9wkwLTs-3Sh"
      },
      "execution_count": 5,
      "outputs": []
    },
    {
      "cell_type": "code",
      "source": [
        "def rutina_h(f,p,x_0,m=10):#Calcula h a partir de una direccion dada, con m+1 puntos equiespaciados.\n",
        "    f_0=f(x_0)\n",
        "    n=len(x_0)\n",
        "    delta=10**(-3)#Suggested by ECnoise algorithm.\n",
        "    F_st=[f(x_0+delta*i*p) for i in range(m)]\n",
        "    T=ECNoise(F_st)\n",
        "    e_f=var_estimation(T)\n",
        "    #print(\"e_f: \",e_f)#Breakpoint\n",
        "    mu=aprox_f_biprima(e_f=e_f,f=f,x_k=x_0,p=p)\n",
        "    h=(8**(1/4))*(e_f/mu)**(1/2)\n",
        "    return e_f,h"
      ],
      "metadata": {
        "id": "qXCp7kbKtaZM"
      },
      "execution_count": 6,
      "outputs": []
    },
    {
      "cell_type": "code",
      "source": [
        "def Rosembrok(X):#X es un vector.\n",
        "    return (np.sum(100*(X[1:]-X[:-1]**2)**2+(1-X[:-1])**2))#+10**(-3)*np.random.uniform(0,1))#Ruido\n",
        "def Rosembrok_r(X):#X es un vector.\n",
        "    return (np.sum(100*(X[1:]-X[:-1]**2)**2+(1-X[:-1])**2)+10**(-3)*np.random.uniform(0,1))#Ruido\n",
        "def Rosembrok_grad(X):\n",
        "    return scipy.optimize.approx_fprime(f=Rosembrok,xk=X,epsilon=10**(-4))\n",
        "def Rosembrok_grad_real(X):\n",
        "    D=[]\n",
        "    D.append(-400*(X[0]*(X[1]-X[0]**2))-2*(1-X[0]))\n",
        "    for i in range(1,len(X)-1):\n",
        "        D.append(-400*(X[i]*(X[i+1]-X[i]**2))+200*(X[i]-X[i-1]**2)-2*(1-X[i]))\n",
        "    D.append(200*(X[-1]-X[-2]**2))\n",
        "    return np.array(D)\n",
        "def Rosembrok_Hessian(X):\n",
        "    M=[]\n",
        "    #Renglon 1\n",
        "    D=np.zeros(len(X))\n",
        "    D[0]=(-400*(X[1]-X[0]**2)+800*(X[0]**2)+2)\n",
        "    D[1]=-400*(X[1])\n",
        "    M.append(D)\n",
        "    #Renglon 2<i<n\n",
        "    for i in range(1,len(X)-1):\n",
        "        D=np.zeros(len(X))\n",
        "        D[i]=(-400*(X[i+1]-X[i]**2)+800*(X[i]**2)+202)\n",
        "        D[i-1]=-400*X[i-1]\n",
        "        D[i+1]=-400*X[i]\n",
        "        M.append(D)\n",
        "    #Renglon n\n",
        "    D=np.zeros(len(X))\n",
        "    D[-2]=-400*X[-2]\n",
        "    D[-1]=200\n",
        "    M.append(D)\n",
        "    return M"
      ],
      "metadata": {
        "id": "nLW9VeQvceE5"
      },
      "execution_count": 7,
      "outputs": []
    },
    {
      "cell_type": "code",
      "source": [
        "def relaxed_Armijo(x_k,f,fprime,d,alpha_0=1,e_f=0.0,c_1=0.1,c_2=0.9,\n",
        "                   max_iter=10**2):##Intenté usar scipy.line_search(), pero Strong Wolfe son dificiles de satisfacerse\n",
        "    #Metodo visto en clase.\n",
        "    iter=0\n",
        "    alpha=0\n",
        "    grad_f_k=fprime(x_k)\n",
        "    f_k=f(x_k)\n",
        "    beta=np.inf\n",
        "    alpha_i=alpha_0\n",
        "    g_dot_d=np.dot(grad_f_k,d)\n",
        "    for i in range(max_iter):\n",
        "        if(f(x_k+alpha_i*d)>f_k+c_1*alpha_i*g_dot_d+2*e_f):#Aqui esta la condicion relajada, dado e_f estimacion del error estandar.\n",
        "            beta=alpha_i\n",
        "            alpha_i=0.5*(alpha+beta)\n",
        "        else:\n",
        "            if(np.dot(fprime(x_k+alpha_i*d),d)<c_2*g_dot_d):\n",
        "                alpha=alpha_i\n",
        "                if(beta==np.inf):\n",
        "                    alpha_i*=2*alpha\n",
        "                else:\n",
        "                    alpha_i=0.5*(alpha+beta)\n",
        "            else:\n",
        "                break\n",
        "    return alpha_i\n",
        "def backtrack(x_k, f, grad, d_k,\n",
        "              c1=0.1, c2=0.9, alpha_0=1.0, maxIter=50):\n",
        "    \n",
        "    alpha    = 0.0\n",
        "    beta     = np.inf\n",
        "    alpha_k  = alpha_0\n",
        "    \n",
        "    f_k      = f(x_k)\n",
        "    g_k      = grad(x_k)\n",
        "    \n",
        "    for k in range(1,maxIter+1):\n",
        "        g_dot_d = np.dot(g_k,d_k)\n",
        "        \n",
        "        if f(x_k + alpha_k*d_k) > f_k + c1*alpha_k*g_dot_d:\n",
        "            beta     = alpha_k\n",
        "            alpha_k  = 0.5*(alpha + beta)\n",
        "        elif np.dot( grad( x_k+alpha_k*d_k), d_k ) < c2*g_dot_d:\n",
        "            alpha = alpha_k\n",
        "            if beta == np.inf:\n",
        "                alpha_k *= 2.0*alpha\n",
        "            else:\n",
        "                alpha_k = 0.5*(alpha + beta)\n",
        "        else:\n",
        "            break\n",
        "    \n",
        "    return alpha_k\n",
        "\n"
      ],
      "metadata": {
        "id": "U2R6IwNuNpFq"
      },
      "execution_count": 8,
      "outputs": []
    },
    {
      "cell_type": "code",
      "source": [
        "def recovery(x_k,f,grad_k,e_f,h,l1,l2,d_k,m=10):#Genera un nuevo h\n",
        "    e_f_b,h_b=rutina_h(f=f,p=d_k,m=m,x_0=x_k)\n",
        "    n=len(x_k)\n",
        "    f_k=f(x_k)\n",
        "    if(h_b<l1*h or h_b>l2*h):\n",
        "        return x_k,e_f_b,h_b\n",
        "    else:\n",
        "        d_k=d_k/np.linalg.norm(d_k)\n",
        "        x_h=x_k+h*(d_k)\n",
        "        f_h=f(x_h)\n",
        "        if(f_h<=f(x_k)+0.1*h*np.dot(grad_k,d_k)+2*e_f):\n",
        "            return x_h,e_f,h\n",
        "        else:\n",
        "            f_stencil=[f(x_k+h*np.eye(1,n,i)) for i in range(n)]\n",
        "            x_s=x_k+h*np.eye(1,n,np.argmin(f_stencil))\n",
        "            f_s=f(x_s)\n",
        "            if(f_h<=f_s and f_h<=f_k):\n",
        "                return x_k,e_f,h\n",
        "            else:\n",
        "                if(f_k>f_s and f_h>f_s):\n",
        "                    return x_s,e_f,h\n",
        "                else:\n",
        "                    e_f_n,h_n=rutina_h(f=f,p=np.random.uniform(-1,1,size=n),m=m,x_0=x_k)\n",
        "                    return x_k,e_f_n,h_n"
      ],
      "metadata": {
        "id": "kcexZsIE9aMQ"
      },
      "execution_count": 9,
      "outputs": []
    },
    {
      "cell_type": "code",
      "source": [
        "def BFGS(H, s, y):\n",
        "    n = H.shape[0]\n",
        "    rho = 1.0/np.dot(y,s)\n",
        "    V   =  np.identity(n)- rho*np.outer(y,s.T)\n",
        "    return V.T@H@V + rho*np.outer(s,s)\n",
        "def find_minimum(f,x_0,tol_g=10**(-4),max_iter=10**2,alpha_max_iter=100):\n",
        "    t1 = time.time()\n",
        "    n=len(x_0)\n",
        "    #----------------------\n",
        "    #Listas\n",
        "    iter=0\n",
        "    GG=[]\n",
        "    Y=[]\n",
        "    S=[]\n",
        "    #----------------------\n",
        "    #----------------------\n",
        "    e_f,h=rutina_h(f=f,p=np.random.uniform(-1,1,size=len(x_0)),m=6,x_0=x_0)\n",
        "    print(\"h: \",h)\n",
        "    def fprime(x):\n",
        "        return scipy.optimize.approx_fprime(xk=x,f=f,epsilon=h)\n",
        "    g_0=fprime(x_0)#Gradiente\n",
        "    alpha_k=relaxed_Armijo(f=f,fprime=fprime,x_k=x_0,d=-g_0,e_f=e_f,max_iter=alpha_max_iter)#line_search\n",
        "    #alpha_k=backtrack(x_k=x_0, f=f, grad=fprime, d_k=-g_0)\n",
        "    x_1=x_0-alpha_k*g_0#Primera direccion de descenso es -grad(x_0)\n",
        "    g_1=fprime(x_1)\n",
        "    GG.append(np.linalg.norm(g_1))\n",
        "    #----------------------\n",
        "    #diferencia de gradientes\n",
        "    #diferencia de x's\n",
        "    Y.append(g_1-g_0)\n",
        "    S.append(-alpha_k*g_0)\n",
        "    #comp=[np.linalg.norm(d_k_r+g_0)]#Lista para compararlos\n",
        "    #H_k=(np.dot(S[-1],Y[-1])/(np.dot(Y[-1],Y[-1])))*np.identity(n)#Dado en clase.\n",
        "    #----------------------\n",
        "    while(np.linalg.norm(g_1)>tol_g and iter<max_iter):\n",
        "        x_0=x_1\n",
        "        g_0=g_1\n",
        "        #H_k_m=BFGS(s=S[-1],y=Y[-1],H=H_k)\n",
        "        #d_k=-np.dot(np.linalg.inv(Rosembrok_Hessian(x_0)),g_0)\n",
        "        d_k=-L_BFGS(S=S,Y=Y,g=g_1)\n",
        "        #d_k=-np.dot(H_k_m,g_0)\n",
        "        if(iter>250):\n",
        "            del S[0]\n",
        "            del Y[0]\n",
        "        iter_alpha=0\n",
        "        alpha_k_try=0\n",
        "        while(alpha_k_try==0 and iter_alpha<1):\n",
        "            alpha_k_try=relaxed_Armijo(f=f,fprime=fprime,x_k=x_0,d=d_k,e_f=e_f,max_iter=50)#line_search\n",
        "            #alpha_k_try=backtrack(x_k=x_0, f=f, grad=fprime, d_k=d_k)\n",
        "            if(alpha_k_try>0):\n",
        "                alpha_k=alpha_k_try\n",
        "                break\n",
        "            else:\n",
        "                print(\"Err\")\n",
        "                x_k,e_f,h=recovery(x_k=x_0,f=f,grad_k=g_0,e_f=e_f,h=h,l1=0.4,l2=2.5,d_k=d_k)\n",
        "                print(\"Cambiamos h! :\")\n",
        "                def fprime(x):\n",
        "                    return scipy.optimize.approx_fprime(xk=x,f=f,epsilon=h)\n",
        "                iter_alpha+=1\n",
        "        x_1=x_0+alpha_k*d_k#\n",
        "        g_1=fprime(x_1)\n",
        "        iter+=1\n",
        "        #H_k=H_k_m\n",
        "        Y.append(g_1-g_0)\n",
        "        S.append(alpha_k*d_k)\n",
        "        #print(np.linalg.norm(d_k-d_k_l))\n",
        "        GG.append(np.linalg.norm(g_1))\n",
        "    print(\"Summary: \")\n",
        "    #print(\"comp:\",comp[-1])\n",
        "    plt.plot(GG)\n",
        "    plt.show()\n",
        "    t2 = time.time()\n",
        "    tim = t2-t1\n",
        "    niter = iter\n",
        "    print(\"time: {:.02e}\\t Niter: {} \\t ||g_k||: {:.02e} \".format(\n",
        "             tim,niter,GG[-1]))\n",
        "    return x_1"
      ],
      "metadata": {
        "id": "RvIgGawfE0Se"
      },
      "execution_count": 41,
      "outputs": []
    },
    {
      "cell_type": "code",
      "source": [
        "import time\n",
        "np.random.seed(20)\n",
        "n=20\n",
        "x_0=np.random.uniform(0.5,1.5,size=n)\n",
        "print(x_0)\n",
        "x_opt=find_minimum(f=Rosembrok_r,x_0=x_0,tol_g=10**(-2),max_iter=2*10**3,alpha_max_iter=20)\n",
        "print(x_opt)"
      ],
      "metadata": {
        "id": "n5k_pB5TAc4_",
        "outputId": "860e4013-7da4-4ef3-9f78-b06bdf5bc3a6",
        "colab": {
          "base_uri": "https://localhost:8080/",
          "height": 456
        }
      },
      "execution_count": 48,
      "outputs": [
        {
          "output_type": "stream",
          "name": "stdout",
          "text": [
            "[1.0881308  1.39771373 1.39153073 1.31583748 0.53588959 1.19175758\n",
            " 0.87868094 1.01851095 1.15795147 0.69385022 0.7723164  1.21860593\n",
            " 1.28300361 1.35032764 1.27524489 0.53666431 0.61669374 1.2512807\n",
            " 0.73921822 0.75480601]\n",
            "h:  0.00019252986709139102\n",
            "Summary: \n"
          ]
        },
        {
          "output_type": "display_data",
          "data": {
            "text/plain": [
              "<Figure size 432x288 with 1 Axes>"
            ],
            "image/png": "[encoded data removed]"
          },
          "metadata": {
            "needs_background": "light"
          }
        },
        {
          "output_type": "stream",
          "name": "stdout",
          "text": [
            "time: 1.19e+01\t Niter: 2000 \t ||g_k||: 6.49e+00 \n",
            "[0.99873651 0.99748998 0.99771373 0.99816886 0.99844703 0.9977409\n",
            " 0.99741545 0.99773228 0.99787866 0.99770846 0.9970478  0.99578635\n",
            " 0.99420072 0.99104558 0.98343974 0.97000257 0.94274543 0.89123052\n",
            " 0.79470594 0.63102776]\n"
          ]
        }
      ]
    }
  ]
}