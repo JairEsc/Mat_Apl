{
  "nbformat": 4,
  "nbformat_minor": 0,
  "metadata": {
    "colab": {
      "name": "Untitled0.ipynb",
      "provenance": [],
      "authorship_tag": "ABX9TyM6eZsQdCBbUGwUBzKm2OLv",
      "include_colab_link": true
    },
    "kernelspec": {
      "name": "python3",
      "display_name": "Python 3"
    },
    "language_info": {
      "name": "python"
    }
  },
  "cells": [
    {
      "cell_type": "markdown",
      "metadata": {
        "id": "view-in-github",
        "colab_type": "text"
      },
      "source": [
        "<a href=\"https://colab.research.google.com/github/JairEsc/Mat_Apl/blob/main/matrices_intro.ipynb\" target=\"_parent\"><img src=\"https://colab.research.google.com/assets/colab-badge.svg\" alt=\"Open In Colab\"/></a>"
      ]
    },
    {
      "cell_type": "markdown",
      "metadata": {
        "id": "cSIwXnDd9GbO"
      },
      "source": [
        "importamos la libreria de numpy, matplotlib.pyplot, linalg."
      ]
    },
    {
      "cell_type": "code",
      "metadata": {
        "id": "8MpV1KzS9EKK"
      },
      "source": [
        "import numpy as np\n",
        "import matplotlib.pyplot as plt\n",
        "import   \n"
      ],
      "execution_count": 1,
      "outputs": []
    },
    {
      "cell_type": "markdown",
      "metadata": {
        "id": "7ZDYSh0i9EzZ"
      },
      "source": [
        "podemos generar una secuencia de numeros: usando np.arange()"
      ]
    },
    {
      "cell_type": "code",
      "metadata": {
        "colab": {
          "base_uri": "https://localhost:8080/"
        },
        "id": "i1GV1y6o9ZTM",
        "outputId": "98a1a87f-fd95-4de2-8603-e1d217fc6442"
      },
      "source": [
        "i=np.arange(-5,10,.5)\n",
        "print(i)"
      ],
      "execution_count": 3,
      "outputs": [
        {
          "output_type": "stream",
          "text": [
            "[-5.  -4.5 -4.  -3.5 -3.  -2.5 -2.  -1.5 -1.  -0.5  0.   0.5  1.   1.5\n",
            "  2.   2.5  3.   3.5  4.   4.5  5.   5.5  6.   6.5  7.   7.5  8.   8.5\n",
            "  9.   9.5]\n"
          ],
          "name": "stdout"
        }
      ]
    },
    {
      "cell_type": "markdown",
      "metadata": {
        "id": "KFyT_c9y9jrP"
      },
      "source": [
        "np.zeros(), np.ones() para matrices o vectores llenos de 0's o 1's."
      ]
    },
    {
      "cell_type": "markdown",
      "metadata": {
        "id": "vXpVLYZJ9yuT"
      },
      "source": [
        "np.eye() para matrices con 1's en la diagonal."
      ]
    },
    {
      "cell_type": "code",
      "metadata": {
        "colab": {
          "base_uri": "https://localhost:8080/"
        },
        "id": "VNLjPCVd9-Ns",
        "outputId": "931b61c2-1afe-4d5c-e122-a8fd7d9a12c2"
      },
      "source": [
        "print(np.eye(2,3))"
      ],
      "execution_count": 4,
      "outputs": [
        {
          "output_type": "stream",
          "text": [
            "[[1. 0. 0.]\n",
            " [0. 1. 0.]]\n"
          ],
          "name": "stdout"
        }
      ]
    },
    {
      "cell_type": "markdown",
      "metadata": {
        "id": "h7xcDLLi99HM"
      },
      "source": [
        "matrices de valores aleatorios: np.random.rand()"
      ]
    },
    {
      "cell_type": "code",
      "metadata": {
        "colab": {
          "base_uri": "https://localhost:8080/"
        },
        "id": "WFHLeZ4e_MPY",
        "outputId": "97c4139b-5007-448e-a674-0ab8c8ff3fc4"
      },
      "source": [
        "print(np.random.rand(2,2))"
      ],
      "execution_count": 7,
      "outputs": [
        {
          "output_type": "stream",
          "text": [
            "[[0.62077651 0.69191489]\n",
            " [0.64030733 0.89566112]]\n"
          ],
          "name": "stdout"
        }
      ]
    },
    {
      "cell_type": "code",
      "metadata": {
        "colab": {
          "base_uri": "https://localhost:8080/"
        },
        "id": "6g6mRgc8AFOS",
        "outputId": "0051e72c-d744-499b-de1f-ec149b46ef03"
      },
      "source": [
        "print(np.random.randint(5,size=(2,2)))"
      ],
      "execution_count": 14,
      "outputs": [
        {
          "output_type": "stream",
          "text": [
            "[[1 2]\n",
            " [2 1]]\n"
          ],
          "name": "stdout"
        }
      ]
    },
    {
      "cell_type": "markdown",
      "metadata": {
        "id": "iUOM1LaDBUz_"
      },
      "source": [
        "np.dot(A,B)=A@B, B.T=np.traspose(B)"
      ]
    },
    {
      "cell_type": "code",
      "metadata": {
        "colab": {
          "base_uri": "https://localhost:8080/"
        },
        "id": "X10DeArVBd92",
        "outputId": "8baa4f8e-fa60-423f-b5eb-23442aadcab8"
      },
      "source": [
        "print(np.flip(np.array([1,2,3,4])))## Hace un cambio. Cuando la matriz es cuadrada coincide con la transpuesta."
      ],
      "execution_count": 15,
      "outputs": [
        {
          "output_type": "stream",
          "text": [
            "[4 3 2 1]\n"
          ],
          "name": "stdout"
        }
      ]
    }
  ]
}