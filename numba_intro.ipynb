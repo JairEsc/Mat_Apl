{
  "nbformat": 4,
  "nbformat_minor": 0,
  "metadata": {
    "colab": {
      "name": "Untitled3.ipynb",
      "provenance": [],
      "authorship_tag": "ABX9TyPU7qqZikvnIR6MY5n9FJh5",
      "include_colab_link": true
    },
    "kernelspec": {
      "name": "python3",
      "display_name": "Python 3"
    },
    "language_info": {
      "name": "python"
    }
  },
  "cells": [
    {
      "cell_type": "markdown",
      "metadata": {
        "id": "view-in-github",
        "colab_type": "text"
      },
      "source": [
        "<a href=\"https://colab.research.google.com/github/JairEsc/Mat_Apl/blob/main/numba_intro.ipynb\" target=\"_parent\"><img src=\"https://colab.research.google.com/assets/colab-badge.svg\" alt=\"Open In Colab\"/></a>"
      ]
    },
    {
      "cell_type": "markdown",
      "metadata": {
        "id": "72E9fx0vbzda"
      },
      "source": [
        "numba  para \"ejecutar\" tan rápido como en C.\n",
        "Time para medir y com,parar tiempos"
      ]
    },
    {
      "cell_type": "code",
      "metadata": {
        "id": "eVrjHidoUR2n"
      },
      "source": [
        "\n",
        "import numpy as np\n",
        "#from numpy import cos\n",
        "#from numpy.linalg import norm\n",
        "from numba import njit\n",
        "import time\n",
        "from datetime import timedelta"
      ],
      "execution_count": 1,
      "outputs": []
    },
    {
      "cell_type": "markdown",
      "metadata": {
        "id": "ONn8XIeNcPEX"
      },
      "source": [
        "Dos funciones, una con python y otra con numba."
      ]
    },
    {
      "cell_type": "code",
      "metadata": {
        "id": "HTnhx0xmcPTb"
      },
      "source": [
        "def producto_matricial(A, B):\n",
        "    \"\"\" Regresa A@B \"\"\"\n",
        "    n, m = np.shape(A)\n",
        "    k = np.shape(B)[1]\n",
        "    C = np.zeros((n, k))\n",
        "    for i in range(n):\n",
        "        for l in range(k):\n",
        "            suma = 0.\n",
        "            for j in range(m):\n",
        "                suma = suma + A[i, j] * B[j, l]\n",
        "            C[i, l] = suma\n",
        "    return C\n",
        "\n",
        "\n",
        "@njit  # no uses python\n",
        "def producto_matricial_numba(A, B):\n",
        "    n, m = np.shape(A)\n",
        "    k = np.shape(B)[1]\n",
        "    C = np.zeros((n, k))\n",
        "    for i in range(n):\n",
        "        for l in range(k):\n",
        "            suma = 0.\n",
        "            for j in range(m):\n",
        "                suma = suma + A[i, j] * B[j, l]\n",
        "            C[i, l] = suma\n",
        "    return C"
      ],
      "execution_count": 2,
      "outputs": []
    },
    {
      "cell_type": "markdown",
      "metadata": {
        "id": "BDdunLdCcl5O"
      },
      "source": [
        "Ejemplo."
      ]
    },
    {
      "cell_type": "code",
      "metadata": {
        "id": "7LT4_LExcna_"
      },
      "source": [
        "n = 150\n",
        "m = 300\n",
        "k = 180\n",
        "\n",
        "A = np.random.random((n, m))\n",
        "B = np.random.random((m, k))\n",
        "C = np.random.random((k, n))"
      ],
      "execution_count": 5,
      "outputs": []
    },
    {
      "cell_type": "code",
      "metadata": {
        "colab": {
          "base_uri": "https://localhost:8080/"
        },
        "id": "5cAzdHg3copK",
        "outputId": "f45c8383-28a5-41e1-a9d9-51cc5aed86d6"
      },
      "source": [
        "print('Comparativo\\n')\n",
        "\n",
        "start = time.monotonic()\n",
        "\n",
        "C1 = producto_matricial(A, B)\n",
        "\n",
        "end = time.monotonic()\n",
        "\n",
        "\n",
        "tiempo_total = timedelta(seconds=end - start).total_seconds()\n",
        "print('Tiempo de ejecución sin numba:', tiempo_total)\n",
        "\n",
        "\n",
        "start = time.monotonic()\n",
        "\n",
        "C2 = producto_matricial_numba(A, B)\n",
        "\n",
        "end = time.monotonic()\n",
        "\n",
        "tiempo_total = timedelta(seconds=end - start).total_seconds()\n",
        "print('Tiempo de ejecución con numba:', tiempo_total, '\\n')"
      ],
      "execution_count": 6,
      "outputs": [
        {
          "output_type": "stream",
          "text": [
            "Comparativo\n",
            "\n",
            "Tiempo de ejecución sin numba: 5.191656\n",
            "Tiempo de ejecución con numba: 0.013498 \n",
            "\n"
          ],
          "name": "stdout"
        }
      ]
    },
    {
      "cell_type": "code",
      "metadata": {
        "id": "uV2NLDd9ctwF"
      },
      "source": [
        ""
      ],
      "execution_count": null,
      "outputs": []
    }
  ]
}