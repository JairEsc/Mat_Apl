{
  "nbformat": 4,
  "nbformat_minor": 0,
  "metadata": {
    "colab": {
      "name": "Untitled4.ipynb",
      "provenance": [],
      "authorship_tag": "ABX9TyM2aInH4VJ8bfGt/GJ4iXIn",
      "include_colab_link": true
    },
    "kernelspec": {
      "name": "python3",
      "display_name": "Python 3"
    },
    "language_info": {
      "name": "python"
    }
  },
  "cells": [
    {
      "cell_type": "markdown",
      "metadata": {
        "id": "view-in-github",
        "colab_type": "text"
      },
      "source": [
        "<a href=\"https://colab.research.google.com/github/JairEsc/Mat_Apl/blob/main/MN_tarea1.ipynb\" target=\"_parent\"><img src=\"https://colab.research.google.com/assets/colab-badge.svg\" alt=\"Open In Colab\"/></a>"
      ]
    },
    {
      "cell_type": "code",
      "metadata": {
        "id": "g0y7lANUn6IG"
      },
      "source": [
        "import numpy as np"
      ],
      "execution_count": 4,
      "outputs": []
    },
    {
      "cell_type": "code",
      "metadata": {
        "id": "VwJTcH6Unywp"
      },
      "source": [
        "x_1=np.arange(0,0.1,0.01)\n",
        "x_2=123456789+x_1"
      ],
      "execution_count": 9,
      "outputs": []
    },
    {
      "cell_type": "code",
      "metadata": {
        "id": "SxRKKRGooZXI"
      },
      "source": [
        "def onePass(x_1):\n",
        "  momento1=0\n",
        "  momento2=0\n",
        "  for i in range(len(x_1)):\n",
        "    momento1+=x_1[i]\n",
        "    momento2+=x_1[i]**2\n",
        "  momento2=momento2/len(x_1)\n",
        "  momento1=momento1/len(x_1)\n",
        "  print(momento1)\n",
        "  return(momento2-(momento1)**2)"
      ],
      "execution_count": 36,
      "outputs": []
    },
    {
      "cell_type": "code",
      "metadata": {
        "id": "Uvf1wLuopRy5"
      },
      "source": [
        "def twoPass(x_1):\n",
        "  mean=0\n",
        "  for i in range(len(x_1)):\n",
        "    mean+=x_1[i]\n",
        "  mean=mean/len(x_1)\n",
        "  mean2=0\n",
        "  for i in range(len(x_1)):\n",
        "    mean2+=(x_1[i]-mean)**2\n",
        "  mean2=mean2/len(x_1)\n",
        "  print(mean)\n",
        "  return(mean2)\n",
        "  "
      ],
      "execution_count": 40,
      "outputs": []
    },
    {
      "cell_type": "code",
      "metadata": {
        "colab": {
          "base_uri": "https://localhost:8080/"
        },
        "id": "znETX6rEom-a",
        "outputId": "f20ce127-57d2-4f88-cac7-ff7053be87a8"
      },
      "source": [
        "onePass(x_1)"
      ],
      "execution_count": 45,
      "outputs": [
        {
          "output_type": "stream",
          "text": [
            "0.045000000000000005\n"
          ],
          "name": "stdout"
        },
        {
          "output_type": "execute_result",
          "data": {
            "text/plain": [
              "0.0008249999999999998"
            ]
          },
          "metadata": {
            "tags": []
          },
          "execution_count": 45
        }
      ]
    },
    {
      "cell_type": "code",
      "metadata": {
        "colab": {
          "base_uri": "https://localhost:8080/"
        },
        "id": "Yf8PkwoZpvEr",
        "outputId": "0a56acbf-1bbd-41cc-a86f-0358db368473"
      },
      "source": [
        "twoPass(x_2)"
      ],
      "execution_count": 43,
      "outputs": [
        {
          "output_type": "stream",
          "text": [
            "123456789.04499996\n"
          ],
          "name": "stdout"
        },
        {
          "output_type": "execute_result",
          "data": {
            "text/plain": [
              "0.0008249999612588655"
            ]
          },
          "metadata": {
            "tags": []
          },
          "execution_count": 43
        }
      ]
    }
  ]
}