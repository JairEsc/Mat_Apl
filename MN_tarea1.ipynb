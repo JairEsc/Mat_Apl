{
  "nbformat": 4,
  "nbformat_minor": 0,
  "metadata": {
    "colab": {
      "name": "Untitled4.ipynb",
      "provenance": [],
      "authorship_tag": "ABX9TyNEQ7F5QoVKUHoa22uOD5Yt",
      "include_colab_link": true
    },
    "kernelspec": {
      "name": "python3",
      "display_name": "Python 3"
    },
    "language_info": {
      "name": "python"
    }
  },
  "cells": [
    {
      "cell_type": "markdown",
      "metadata": {
        "id": "view-in-github",
        "colab_type": "text"
      },
      "source": [
        "<a href=\"https://colab.research.google.com/github/JairEsc/Mat_Apl/blob/main/MN_tarea1.ipynb\" target=\"_parent\"><img src=\"https://colab.research.google.com/assets/colab-badge.svg\" alt=\"Open In Colab\"/></a>"
      ]
    },
    {
      "cell_type": "code",
      "metadata": {
        "id": "g0y7lANUn6IG"
      },
      "source": [
        "import numpy as np"
      ],
      "execution_count": 2,
      "outputs": []
    },
    {
      "cell_type": "code",
      "metadata": {
        "id": "VwJTcH6Unywp"
      },
      "source": [
        "x_01=np.arange(0,0.1,0.01)\n",
        "x_02=123456789+x_01\n",
        "x_1=np.random.choice(x_01,size=100)\n",
        "x_2=np.random.choice(x_02,size=100)\n"
      ],
      "execution_count": 29,
      "outputs": []
    },
    {
      "cell_type": "code",
      "metadata": {
        "id": "SxRKKRGooZXI"
      },
      "source": [
        "def onePass(x_1):\n",
        "  momento1=0\n",
        "  momento2=0\n",
        "  for i in range(len(x_1)):\n",
        "    momento1+=x_1[i]\n",
        "    momento2+=x_1[i]**2\n",
        "  momento2=momento2/len(x_1)\n",
        "  momento1=momento1/len(x_1)\n",
        "  return(momento2-(momento1)**2)"
      ],
      "execution_count": 31,
      "outputs": []
    },
    {
      "cell_type": "code",
      "metadata": {
        "id": "Uvf1wLuopRy5"
      },
      "source": [
        "def twoPass(x_1):\n",
        "  mean=0\n",
        "  for i in range(len(x_1)):\n",
        "    mean+=x_1[i]\n",
        "  mean=mean/len(x_1)\n",
        "  mean2=0\n",
        "  for i in range(len(x_1)):\n",
        "    mean2+=(x_1[i]-mean)**2\n",
        "  mean2=mean2/len(x_1)\n",
        "  return(mean2)\n",
        "  "
      ],
      "execution_count": 33,
      "outputs": []
    },
    {
      "cell_type": "code",
      "metadata": {
        "colab": {
          "base_uri": "https://localhost:8080/"
        },
        "id": "znETX6rEom-a",
        "outputId": "0b2047e7-840f-4f55-fa4c-a5e6c6a87a6d"
      },
      "source": [
        "print('con onePass:',onePass(x_1),'\\nCon twoPass:',twoPass(x_1))"
      ],
      "execution_count": 8,
      "outputs": [
        {
          "output_type": "stream",
          "text": [
            "con onePass: 0.0008347600000000014 \n",
            "Con twoPass: 0.0008347600000000003\n"
          ],
          "name": "stdout"
        }
      ]
    },
    {
      "cell_type": "code",
      "metadata": {
        "colab": {
          "base_uri": "https://localhost:8080/"
        },
        "id": "Yf8PkwoZpvEr",
        "outputId": "8062f7a5-796b-49db-fdc7-1aac8f5ef239"
      },
      "source": [
        "print('con onePass:',onePass(x_2),'\\nCon twoPass:',twoPass(x_2))"
      ],
      "execution_count": 34,
      "outputs": [
        {
          "output_type": "stream",
          "text": [
            "con onePass: -18.0 \n",
            "Con twoPass: 0.000711759956832867\n"
          ],
          "name": "stdout"
        }
      ]
    }
  ]
}