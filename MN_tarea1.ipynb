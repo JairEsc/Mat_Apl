{
  "nbformat": 4,
  "nbformat_minor": 0,
  "metadata": {
    "colab": {
      "name": "Untitled4.ipynb",
      "provenance": [],
      "authorship_tag": "ABX9TyMvIh/EyQnL9K1A41wdt0Op",
      "include_colab_link": true
    },
    "kernelspec": {
      "name": "python3",
      "display_name": "Python 3"
    },
    "language_info": {
      "name": "python"
    }
  },
  "cells": [
    {
      "cell_type": "markdown",
      "metadata": {
        "id": "view-in-github",
        "colab_type": "text"
      },
      "source": [
        "<a href=\"https://colab.research.google.com/github/JairEsc/Mat_Apl/blob/main/MN_tarea1.ipynb\" target=\"_parent\"><img src=\"https://colab.research.google.com/assets/colab-badge.svg\" alt=\"Open In Colab\"/></a>"
      ]
    },
    {
      "cell_type": "code",
      "metadata": {
        "id": "g0y7lANUn6IG"
      },
      "source": [
        "import numpy as np"
      ],
      "execution_count": 2,
      "outputs": []
    },
    {
      "cell_type": "code",
      "metadata": {
        "id": "VwJTcH6Unywp"
      },
      "source": [
        "x_1=np.arange(0,0.1,0.01)\n",
        "x_2=123456789+x_1"
      ],
      "execution_count": 32,
      "outputs": []
    },
    {
      "cell_type": "code",
      "metadata": {
        "id": "SxRKKRGooZXI"
      },
      "source": [
        "def onePass(x_1):\n",
        "  momento1=0\n",
        "  momento2=0\n",
        "  for i in range(len(x_1)):\n",
        "    momento1+=x_1[i]\n",
        "    momento2+=x_1[i]**2\n",
        "  momento2=momento2/len(x_1)\n",
        "  momento1=momento1/len(x_1)\n",
        "  return(momento2-(momento1)**2)"
      ],
      "execution_count": 36,
      "outputs": []
    },
    {
      "cell_type": "code",
      "metadata": {
        "id": "Uvf1wLuopRy5"
      },
      "source": [
        "def twoPass(x_1):\n",
        "  mean=0\n",
        "  for i in range(len(x_1)):\n",
        "    mean+=x_1[i]\n",
        "  mean=mean/len(x_1)\n",
        "  mean2=0\n",
        "  for i in range(len(x_1)):\n",
        "    mean2+=(x_1[i]-mean)**2\n",
        "  mean2=mean2/len(x_1)\n",
        "  return(mean2)\n",
        "  "
      ],
      "execution_count": 37,
      "outputs": []
    },
    {
      "cell_type": "code",
      "metadata": {
        "colab": {
          "base_uri": "https://localhost:8080/"
        },
        "id": "znETX6rEom-a",
        "outputId": "3db243fb-19d7-4683-c4e2-39032e333f5b"
      },
      "source": [
        "print('con onePass:',onePass(x_1),'\\nCon twoPass:',twoPass(x_1))"
      ],
      "execution_count": 48,
      "outputs": [
        {
          "output_type": "stream",
          "text": [
            "con onePass: 0.0008249999999999998 \n",
            "Con twoPass: 0.0008249999999999997\n"
          ],
          "name": "stdout"
        }
      ]
    },
    {
      "cell_type": "code",
      "metadata": {
        "colab": {
          "base_uri": "https://localhost:8080/"
        },
        "id": "Yf8PkwoZpvEr",
        "outputId": "63d1a9d0-7fbb-4c0e-9b5d-8fe6360d7d22"
      },
      "source": [
        "print('con onePass:',onePass(x_2),'\\nCon twoPass:',twoPass(x_2))"
      ],
      "execution_count": 49,
      "outputs": [
        {
          "output_type": "stream",
          "text": [
            "con onePass: 10.0 \n",
            "Con twoPass: 0.0008249999612588655\n"
          ],
          "name": "stdout"
        }
      ]
    }
  ]
}