{
  "nbformat": 4,
  "nbformat_minor": 0,
  "metadata": {
    "colab": {
      "name": "Untitled17.ipynb",
      "provenance": [],
      "authorship_tag": "ABX9TyPgDvdoLXtT7fjn5j6q/udq",
      "include_colab_link": true
    },
    "kernelspec": {
      "name": "python3",
      "display_name": "Python 3"
    },
    "language_info": {
      "name": "python"
    }
  },
  "cells": [
    {
      "cell_type": "markdown",
      "metadata": {
        "id": "view-in-github",
        "colab_type": "text"
      },
      "source": [
        "<a href=\"https://colab.research.google.com/github/JairEsc/Mat_Apl/blob/main/MN_T6_lower.ipynb\" target=\"_parent\"><img src=\"https://colab.research.google.com/assets/colab-badge.svg\" alt=\"Open In Colab\"/></a>"
      ]
    },
    {
      "cell_type": "code",
      "metadata": {
        "id": "Gaan7Bq7d_xt"
      },
      "source": [
        "def inferior(list,b):#list debe contener las entradas de la matriz triangular.\n",
        "#Será aceptable introducir un arreglo de arreglos de distintos tamaños, para solo introducir las entradas no cero.\n",
        "  X=[b[0]/list[0][0]]\n",
        "  for i in range(1,len(list)):#len(list) es el número de renglones de la matriz\n",
        "    acum=0\n",
        "    for j in range(i):#0<=j<=i-1 \n",
        "      acum+=X[j]*list[i][j]\n",
        "    X.append((b[i]-acum)/list[i][i])\n",
        "  return X"
      ],
      "execution_count": 1,
      "outputs": []
    },
    {
      "cell_type": "code",
      "metadata": {
        "colab": {
          "base_uri": "https://localhost:8080/"
        },
        "id": "P8eAwfTEeDXS",
        "outputId": "696e7fcb-48e3-45cc-a915-70cec9eb9a44"
      },
      "source": [
        "import numpy as np\n",
        "x2 = np.loadtxt(\"M_TINF.txt\",skiprows=1)\n",
        "b2=np.loadtxt(\"V_TINF.txt\",skiprows=1)\n",
        "inferior(x2,b2)"
      ],
      "execution_count": 3,
      "outputs": [
        {
          "output_type": "execute_result",
          "data": {
            "text/plain": [
              "[1.0, 0.0, -0.16666666666666666, -0.15]"
            ]
          },
          "metadata": {},
          "execution_count": 3
        }
      ]
    }
  ]
}