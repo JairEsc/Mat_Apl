{
  "nbformat": 4,
  "nbformat_minor": 0,
  "metadata": {
    "colab": {
      "name": "Untitled108.ipynb",
      "provenance": [],
      "authorship_tag": "ABX9TyPxo8qdbfE8c6EXqPohnFgj",
      "include_colab_link": true
    },
    "kernelspec": {
      "name": "python3",
      "display_name": "Python 3"
    },
    "language_info": {
      "name": "python"
    }
  },
  "cells": [
    {
      "cell_type": "markdown",
      "metadata": {
        "id": "view-in-github",
        "colab_type": "text"
      },
      "source": [
        "<a href=\"https://colab.research.google.com/github/JairEsc/Mat_Apl/blob/main/Opt_Proyecto_derivative_free.ipynb\" target=\"_parent\"><img src=\"https://colab.research.google.com/assets/colab-badge.svg\" alt=\"Open In Colab\"/></a>"
      ]
    },
    {
      "cell_type": "markdown",
      "source": [
        "Idea general del algoritmo.\n",
        "\n",
        "Input: \n",
        "\n",
        "\n",
        "*   $f:\\mathbb{R}^n⟶ \\mathbb{R}$, función objetivo.\n",
        "*   $x_0$, aproximación inicial.\n",
        "*   $a_{max}$, Número máximo de iteraciones para la busqueda en linea.\n",
        "*   $\\zeta$, parámetro de curvatura.\n",
        "*   $tol_g$, criterio de paro para la norma del gradiente.\n",
        "\n",
        "\n",
        "\n",
        "Descripción general del algoritmo\n",
        "\n",
        "*   Calcular $f(x_0)$\n",
        "*   Estimar $\\epsilon_f$ usando ECnoise*\n",
        "*   Calcular ** h\n",
        "*   Calcular $\\nabla_h f(x_0)$. Cuando se haga, guardar los valores $(x_s,f_s)$ que satisfacen $f_s=f(x_s)=min_{x\\in S} f(x)$, $S=\\{x+h\\cdot e_i,i=1,\\ldots,n\\}$\n",
        "*   While ($||\\nabla f(x_k)||>tol_g$):\n",
        "    *   Calcular $d_k=-H_k\\nabla_h f(x_k)$ usando L-BFGS***\n",
        "    *   Hacer line_search$(x_k,f_k,\\nabla_h f(x_k),d_k,a_{max})$ y obtiene $(x_+,f_+,\\alpha_k,LS_{flag})$\n",
        "        *   If($LS_{flag}==1$):\n",
        "            *   Invocar Recovery($x_s,f_s$)\n",
        "        *   Else:\n",
        "            *   Actualizar $x_{k+1}=x_+,$ $f_{k+1}=f_+$\n",
        "    *   Calcular $\\nabla_h f(x_{k+1})$ y guardar $(x_s,f_s)$\n",
        "    *   Calcular $s_k=x_{k+1}-x_k$, $y_k=\\nabla_h f(x_{k+1})-\\nabla_h f(x_k)$\n",
        "        *   Guardarlos si $s_k^Ty_k\\geq \\zeta||s_k||||y_k||$"
      ],
      "metadata": {
        "id": "1st1PXXNxrWy"
      }
    },
    {
      "cell_type": "markdown",
      "source": [
        "Explicación de L-BFGS:\n",
        "Si $H_k$ es una aproximación de la inversa del Hessiano, nos interesa caluclar $d_k=-H_k\\nabla f(x_k)$.\n",
        "\n",
        "\n",
        "Input:\n",
        "\n",
        "\n",
        "\n",
        "*   $\\nabla f(x_k)$\n",
        "*   $\\{(s_{k-1},y_{k-1}),(s_{k-2},y_{k-2}),\\ldots,(s_{k-m},y_{k-m})\\}$\n",
        "*   $H^0_{k-m}$\n",
        "\n",
        "Algoritmo:\n",
        "\n",
        "\n",
        "*   Define $q=\\nabla f(x_k)$\n",
        "*   for $i=1,2,\\ldots,m$ do:\n",
        "    *   Calcular $\\alpha_i=\\rho_i s_{k-i}^Tq$\n",
        "    *   Actualiza $q=q-\\alpha_iy_i$\n",
        "*   Define $r=H^0_{k-m}q$\n",
        "*   for $i=1,2,\\ldots,m$ do:\n",
        "    *   Calcular $\\beta=\\rho_{k-i}y_{k-i}^Tr$\n",
        "    *   Actualiza $r=r-s_{k-i}(\\alpha_i-\\beta)$\n",
        "*   $r$ es una aproximación de $H_k\\nabla f(x_k)$\n"
      ],
      "metadata": {
        "id": "o9e9CVolHhpY"
      }
    },
    {
      "cell_type": "code",
      "source": [
        "import numpy as np\n",
        "import scipy.optimize"
      ],
      "metadata": {
        "id": "f_eEzJF9qQT8"
      },
      "execution_count": 50,
      "outputs": []
    },
    {
      "cell_type": "code",
      "source": [
        "try:\n",
        "  www=1/0\n",
        "except:\n",
        "  print(\"An exception occurred\")"
      ],
      "metadata": {
        "id": "jtjQmgXJVZn1",
        "outputId": "f22aeded-be99-4954-ab80-060a4a8273ed",
        "colab": {
          "base_uri": "https://localhost:8080/"
        }
      },
      "execution_count": 205,
      "outputs": [
        {
          "output_type": "stream",
          "name": "stdout",
          "text": [
            "An exception occurred\n"
          ]
        }
      ]
    },
    {
      "cell_type": "code",
      "execution_count": 51,
      "metadata": {
        "id": "8Ioe06WYxqoi"
      },
      "outputs": [],
      "source": [
        "def L_BFGS(S,Y,g):#Checar las posibles divisiones por cero\n",
        "    n=len(g)\n",
        "    m=len(S)\n",
        "    #supondremos H_0 un multiplo de la identidad\n",
        "    H_0=(np.dot(S[-1],Y[-1])/(np.dot(Y[-1],Y[-1])))*np.identity(n)#Dado en clase.\n",
        "    q=g\n",
        "    alphas=[]\n",
        "    for i in range(m):\n",
        "        alphas.append()*np.dot(S[-i],q))\n",
        "        q=q-alphas[i]*Y[-i]\n",
        "    r=np.dot(H_0,q)\n",
        "    for i in range(m):\n",
        "        beta=(1/np.dot(Y[-i],S[-i]))*np.dot(Y[-i],r)\n",
        "        r=r+S[-i]*(alphas[i]-beta)#aproximacion de -H*g\n",
        "    return r"
      ]
    },
    {
      "cell_type": "code",
      "source": [
        "def ECNoise(F):#F es un vector que guarda f(t_i), i=0,...,m. Evaluaciones de m+1 puntos equiespaciados\n",
        "    m=len(F)-1\n",
        "    T=np.zeros((m+1,m+1))\n",
        "    for i in range(m+1):\n",
        "        T[i,0]=F[i]\n",
        "    for k in range(m):\n",
        "        for i in range(m-k):\n",
        "            T[i,k+1]=T[i+1,k]-T[i,k]\n",
        "    return T"
      ],
      "metadata": {
        "id": "EiaLoRSdNFgA"
      },
      "execution_count": 52,
      "outputs": []
    },
    {
      "cell_type": "code",
      "source": [
        "def var_estimation(T):#Recibe la tabla.\n",
        "    m=len(T)-1\n",
        "    sigma_array=[]\n",
        "    for k in range(1,m):\n",
        "        sigma_array.append(((np.math.factorial(k)/np.math.factorial(2*k))/(m+1-k))*np.sum(T.T[k]**2))\n",
        "    #Ahora checamos las 2 condiciones.\n",
        "    for k in range(1,m-2):\n",
        "        max_k=np.max(sigma_array[k:k+2])\n",
        "        min_k=np.min(sigma_array[k:k+2])\n",
        "        if(max_k<=4*min_k):\n",
        "            if(np.sign(min_k*max_k)==-1):\n",
        "                print(\"es el \", k)\n",
        "                break\n",
        "    return np.sqrt(sigma_array[k])#Podria ser que las condiciones no se cumplan, en tal caso regresa la ultima estimacion sigma."
      ],
      "metadata": {
        "id": "gQcG9CUNagT4"
      },
      "execution_count": 53,
      "outputs": []
    },
    {
      "cell_type": "code",
      "source": [
        "def aprox_f_biprima(e_f,f,x_k,p):#Usando una direccion (aleatoria dada) se aproxima el max ||Hessiana_f(x_k)*p||\n",
        "    tao_1=100\n",
        "    tao_2=0.1\n",
        "    h_a=e_f**(1/4)\n",
        "    f_mas=f(x_k+h_a*p)\n",
        "    f_menos=f(x_k-h_a*p)\n",
        "    f_0=f(x_k)\n",
        "    delta_h_a=abs(f_mas+f_menos-2*f_0)\n",
        "    mu_a=delta_h_a/(h_a**2)\n",
        "    if(delta_h_a/e_f>=tao_1):\n",
        "        mu=mu_a\n",
        "        if(abs(f_mas-f_0)<=tao_2*max(f_mas,f_menos,f_0) and abs(f_menos-f_0)<=tao_2*max(f_mas,f_menos,f_0)):\n",
        "            return mu_a\n",
        "    h_b=(e_f/mu_a)**(1/4)\n",
        "    f_mas=f(x_k+h_b*p)\n",
        "    f_menos=f(x_k-h_b*p)\n",
        "    delta_h_b=abs(f_mas+f_menos-2*f_0)\n",
        "    mu_b=delta_h_b/(h_b**2)\n",
        "    if(delta_h_b/e_f>=tao_1):\n",
        "        mu=mu_b\n",
        "        if(abs(f_mas-f_0)<=tao_2*max(f_mas,f_menos,f_0) and abs(f_menos-f_0)<=tao_2*max(f_mas,f_menos,f_0)):\n",
        "            return mu_b\n",
        "    if(abs(mu_a-mu_b)<=0.5*mu_b):\n",
        "        return mu_b\n",
        "    print(\"No hay regla de decision\")\n",
        "    return mu_b\n"
      ],
      "metadata": {
        "id": "Y9wkwLTs-3Sh"
      },
      "execution_count": 90,
      "outputs": []
    },
    {
      "cell_type": "code",
      "source": [
        "np.random.seed(1)\n",
        "x_k=np.random.uniform(0,1,size=100)\n",
        "print(Rosembrok_grad(x_k))\n",
        "print(scipy.optimize.approx_fprime(xk=x_k,f=Rosembrok,epsilon=10**(-4)))"
      ],
      "metadata": {
        "id": "SRlkKtn12meB",
        "outputId": "e9a4e0dd-54cf-4c86-815e-e3ae72940def",
        "colab": {
          "base_uri": "https://localhost:8080/"
        }
      },
      "execution_count": 227,
      "outputs": [
        {
          "output_type": "stream",
          "name": "stdout",
          "text": [
            "[ -92.31314461  258.19227427 -105.76420315   52.37742429    5.20748972\n",
            "    5.78026229   10.7583541    22.52745973   -6.2650381    47.58094506\n",
            "  -60.81848335  173.92294723 -123.00053176  428.24287955 -158.022532\n",
            "  141.92591042  -71.79901191  114.40809274  -46.08632195  -26.2669405\n",
            "   47.14184487  307.06972556 -200.67501657    8.23964165   34.80611872\n",
            "  281.0555388  -145.96780556    1.81331428  -25.69410957  405.937604\n",
            " -152.54614333  -50.35023279  303.30749752 -164.74088723  126.06586802\n",
            " -108.08149331   16.98927599  298.79223596 -143.11086264   21.59428109\n",
            "  176.05552411   37.147629   -137.01750413  305.79136342 -123.794448\n",
            "  -40.49772767  334.73884784 -131.47215972   33.45396328    7.57491889\n",
            "   -6.72524643  202.71325425  -70.1022828    -2.04109874  120.21644997\n",
            "  -51.74336948  155.40065778  -71.60663358   29.64712329  178.30920146\n",
            "  -95.78099889   -7.06868036  122.87146304    5.37008664  -36.87638589\n",
            "   25.02249323   54.93063565 -126.06062234  251.29261959 -193.2047537\n",
            "  356.91903565 -144.07663377  -21.545573    239.31025173  -53.1918929\n",
            "  -59.76635369  370.02993003 -191.42478299   76.73935988  -71.54195071\n",
            "  126.32847294 -122.36574601  136.48288191  -64.98783485  -60.68355407\n",
            "  298.60805717 -209.88266186  259.47344285 -102.34484026  103.13232227\n",
            "  -99.0981272   358.68597186 -159.08486907   57.32220418    2.03521264\n",
            "  -67.7591679   256.84342971   25.52672419  -67.95037826  123.42733497]\n",
            "[-9.03128830e+01  2.63826479e+02 -1.05453901e+02  5.82089772e+01\n",
            "  8.18418791e+00  2.67891245e+00  1.67915485e+01  2.61793107e+01\n",
            "  4.50512102e-01  4.60570388e+01 -6.27066341e+01  1.80016638e+02\n",
            " -1.19303753e+02  4.25692253e+02 -1.53737615e+02  1.46226951e+02\n",
            " -6.58258391e+01  1.18282914e+02 -4.81027403e+01 -2.93381476e+01\n",
            "  4.41667152e+01  3.04146429e+02 -2.01477206e+02  1.35948057e+01\n",
            "  3.69662752e+01  2.83373732e+02 -1.40804192e+02 -2.04606522e-01\n",
            " -2.61744534e+01  4.08583152e+02 -1.46114376e+02 -4.80047958e+01\n",
            "  3.00282015e+02 -1.59987689e+02  1.25161676e+02 -1.03274546e+02\n",
            "  1.76231207e+01  3.04212739e+02 -1.38910978e+02  2.39143232e+01\n",
            "  1.74207439e+02  3.45184361e+01 -1.39071484e+02  3.03015850e+02\n",
            " -1.25984174e+02 -4.15031169e+01  3.38656053e+02 -1.29131921e+02\n",
            "  3.03255435e+01  5.03894029e+00 -3.22386281e-01  2.05161329e+02\n",
            " -7.13283224e+01 -2.77978981e+00  1.24411793e+02 -5.30567350e+01\n",
            "  1.57974742e+02 -6.51732765e+01  3.48659063e+01  1.77478666e+02\n",
            " -9.41073031e+01 -4.12907200e+00  1.27925574e+02  3.69094683e+00\n",
            " -3.99575409e+01  2.24703230e+01  5.65538800e+01 -1.23256660e+02\n",
            "  2.53766593e+02 -1.93284902e+02  3.63595070e+02 -1.41537182e+02\n",
            " -2.10154937e+01  2.41594547e+02 -4.89887143e+01 -5.63472828e+01\n",
            "  3.69467441e+02 -1.94025542e+02  7.72031590e+01 -6.84871635e+01\n",
            "  1.25208208e+02 -1.18086218e+02  1.33918758e+02 -6.56391262e+01\n",
            " -5.59059024e+01  2.97325649e+02 -2.06752701e+02  2.61506387e+02\n",
            " -9.63391316e+01  1.02529839e+02 -1.01713065e+02  3.62825380e+02\n",
            " -1.54618859e+02  6.31559253e+01  8.10383995e+00 -7.08906969e+01\n",
            "  2.55968197e+02  2.84578501e+01 -6.17289065e+01  1.29672647e+02]\n"
          ]
        }
      ]
    },
    {
      "cell_type": "code",
      "source": [
        "#Usare sccipy.optimize.line_search() para la busqueda en linea."
      ],
      "metadata": {
        "id": "hRI_tI2IR9Mq"
      },
      "execution_count": 149,
      "outputs": []
    },
    {
      "cell_type": "code",
      "source": [
        "def Rosembrok(X):#X es un vector.\n",
        "    return (np.sum(100*(X[1:]-X[:-1]**2)**2+(1-X[:-1])**2)+10**(-3)*np.random.uniform(0,1))\n",
        "def Rosembrok_grad(X):\n",
        "    n=len(X)\n",
        "    grad=np.zeros(n)\n",
        "    grad[1:-1]=-400*X[1:-1]*(X[2:]-X[1:-1]**2)+200*(X[1:-1]-X[:-2]**2)-2*(1-X[1:-1])\n",
        "    grad[0]=-400*X[0]*(X[1]-X[0]**2)-2*(1-X[0])\n",
        "    grad[-1]=200*(X[-1]-X[-2]**2)\n",
        "    return grad"
      ],
      "metadata": {
        "id": "nLW9VeQvceE5"
      },
      "execution_count": 113,
      "outputs": []
    },
    {
      "cell_type": "code",
      "source": [
        "def relaxed_Wolfe(x_k,f,fprime,d,e_f,c_1=0.001,c_2=0.9,max_iter=10**4):\n",
        "    iter=0\n",
        "    alpha_0=1\n",
        "    alpha=0\n",
        "    grad_f_k=fprime(x_k)\n",
        "    f_k=f(x_k)\n",
        "    beta=np.inf\n",
        "    alpha_i=alpha_0\n",
        "    for i in range(max_iter):\n",
        "        if(f(x_k+alpha_i*d)>f_k+c_1*alpha_i*np.dot(grad_f_k,d)+2*e_f):\n",
        "            beta=alpha_i\n",
        "            alpha_i=0.5*(alpha+beta)\n",
        "        else:\n",
        "            if(np.dot(fprime(x_k+alpha_i*d),d)<c_2*np.dot(grad_f_k,d)):\n",
        "                alpha=alpha_i\n",
        "                if(beta==np.inf):\n",
        "                    alpha_i=2*alpha\n",
        "                else:\n",
        "                    0.5*(alpha+beta)\n",
        "            else:\n",
        "                break\n",
        "    return alpha_i\n",
        "    "
      ],
      "metadata": {
        "id": "U2R6IwNuNpFq"
      },
      "execution_count": 219,
      "outputs": []
    },
    {
      "cell_type": "code",
      "source": [
        "from numpy.core.fromnumeric import amax\n",
        "import matplotlib.pyplot as plt\n",
        "\n",
        "def find_minimum(f,x_0,m,a_max,zeta,tol_g,max_iter=10**2):\n",
        "    f_0=f(x_0)\n",
        "    n=len(x_0)\n",
        "    p=np.eye(1,n,np.random.randint(0,n))\n",
        "    delta=10**(-3)#Suggested by ECnoise algorithm.\n",
        "    F=[f(x_0+delta*i*p) for i in range(m)]\n",
        "    T=ECNoise(F)\n",
        "    e_f=var_estimation(T)\n",
        "    print(\"e_f: \",e_f)#Breakpoint\n",
        "    mu=aprox_f_biprima(e_f=e_f,f=f,x_k=x_0,p=p)\n",
        "    h=(8**(1/4))*(e_f/mu)**(1/2)\n",
        "    print(\"h: \", h)\n",
        "    X_s=np.zeros((m,n))\n",
        "    F_s=np.zeros(m)\n",
        "    g_0=scipy.optimize.approx_fprime(f=f,xk=x_0,epsilon=h)\n",
        "    Y=[]\n",
        "    S=[]\n",
        "    def fprime(x):\n",
        "        return scipy.optimize.approx_fprime(f=f,xk=x,epsilon=h)\n",
        "    #print(g_0)\n",
        "    iter=0\n",
        "    alpha_k=relaxed_Wolfe(x_k=x_0,f=f,fprime=fprime,d=-g_0,e_f=e_f,c_1=0.001,c_2=0.9,max_iter=10**4)\n",
        "    x_1=x_0-alpha_k*g_0\n",
        "    f_k_m=f(x_1)\n",
        "    g_1=fprime(x_1)\n",
        "    Y.append(g_1-g_0)\n",
        "    S.append(-alpha_k*g_0)\n",
        "    iter=1\n",
        "    FF=[f(x_0),f(x_1)]\n",
        "    GG=[]\n",
        "    while(np.linalg.norm(g_1)>tol_g and iter<max_iter):\n",
        "        x_0=x_1\n",
        "        g_0=g_1\n",
        "        d_k=L_BFGS(S=S,Y=Y,g=g_1)\n",
        "        alpha_k=relaxed_Wolfe(x_k=x_0,f=f,fprime=fprime,d=d_k,e_f=e_f,c_1=0.001,c_2=0.9,max_iter=10**4)\n",
        "        x_1=x_0+alpha_k*d_k\n",
        "        f_k_m=f(x_1)\n",
        "        g_1=fprime(x_1)\n",
        "        Y.append(g_1-g_0)\n",
        "        S.append(x_1-x_0)\n",
        "        iter+=1\n",
        "        FF.append(f(x_1))\n",
        "        GG.append(np.linalg.norm(x_1))\n",
        "    plt.plot(GG)\n",
        "    print(GG[-2])##Antes del error\n",
        "    return x_1"
      ],
      "metadata": {
        "id": "ggtkNN6tbY0F"
      },
      "execution_count": 217,
      "outputs": []
    },
    {
      "cell_type": "code",
      "source": [
        "np.random.seed(0)\n",
        "x_0=np.random.uniform(0,1,size=100)\n",
        "find_minimum(f=Rosembrok,x_0=x_0,m=6,a_max=100,zeta=0.5,tol_g=10**(-2),max_iter=2*10**2)"
      ],
      "metadata": {
        "id": "e_mMgSLoehAK",
        "outputId": "a6c63a9e-4e6c-43ca-e602-3ec7b3e6ca23",
        "colab": {
          "base_uri": "https://localhost:8080/",
          "height": 681
        }
      },
      "execution_count": 222,
      "outputs": [
        {
          "output_type": "stream",
          "name": "stdout",
          "text": [
            "e_f:  9.526521142657172e-05\n",
            "No hay regla de decision\n",
            "h:  9.951112928237689e-07\n",
            "3.483936614581426\n"
          ]
        },
        {
          "output_type": "execute_result",
          "data": {
            "text/plain": [
              "array([ 0.15034287,  0.52740336,  0.40325759,  0.40489609,  0.24121057,\n",
              "        0.07982371,  0.2776725 ,  0.63161937,  0.29434315,  0.75076872,\n",
              "        0.61278552,  0.47329782,  0.3902654 ,  0.36937194, -0.29919188,\n",
              "       -0.24109215, -0.13223484,  0.23790127,  0.34820092,  0.76501483,\n",
              "        1.07911488,  0.62224671,  0.10367141,  0.60924635, -0.04170152,\n",
              "        0.42049486, -0.15579848,  0.52287746,  0.33157276, -0.11544631,\n",
              "        0.11718991,  0.30144589,  0.35768922,  0.370265  , -0.14851654,\n",
              "        0.20697025, -0.01780348,  0.14399803,  0.5688145 ,  0.60037981,\n",
              "        0.07137052,  0.0677554 ,  0.3070741 , -0.14866077,  0.56725485,\n",
              "        0.46849678, -0.23032533, -0.36982783,  0.14471337,  0.14198741,\n",
              "        0.54830072,  0.63931954,  0.65647389, -0.06323852, -0.06535755,\n",
              "       -0.1390968 ,  0.27059766,  0.06410061,  0.09415757,  0.18704451,\n",
              "        0.1360345 ,  0.07021721, -0.12669444, -0.19860418, -0.1622805 ,\n",
              "        0.25251658, -0.030504  ,  0.02402481,  0.50860628, -0.08326528,\n",
              "        0.14067241,  0.36694619,  0.55080961,  0.10998631,  0.00909572,\n",
              "       -0.49947839,  0.19371637,  0.14729252,  0.2052543 , -0.16004178,\n",
              "        0.01562291,  0.10473527, -0.33244369,  0.32698116,  0.34729094,\n",
              "        0.37178957,  0.29110035, -0.14750165,  0.01952262,  0.22468732,\n",
              "        0.33267995, -0.00375008, -0.2007332 ,  0.30469811,  0.16657436,\n",
              "       -0.24552857,  0.24060061, -0.23309349,  0.477267  , -0.20926666])"
            ]
          },
          "metadata": {},
          "execution_count": 222
        },
        {
          "output_type": "display_data",
          "data": {
            "text/plain": [
              "<Figure size 432x288 with 1 Axes>"
            ],
            "image/png": "[encoded data removed]"
          },
          "metadata": {
            "needs_background": "light"
          }
        }
      ]
    }
  ]
}