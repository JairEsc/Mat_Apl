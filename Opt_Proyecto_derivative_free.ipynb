{
  "nbformat": 4,
  "nbformat_minor": 0,
  "metadata": {
    "colab": {
      "name": "Untitled108.ipynb",
      "provenance": [],
      "authorship_tag": "ABX9TyO5Sx/7coG2+5VsbfMHPpQ0",
      "include_colab_link": true
    },
    "kernelspec": {
      "name": "python3",
      "display_name": "Python 3"
    },
    "language_info": {
      "name": "python"
    }
  },
  "cells": [
    {
      "cell_type": "markdown",
      "metadata": {
        "id": "view-in-github",
        "colab_type": "text"
      },
      "source": [
        "<a href=\"https://colab.research.google.com/github/JairEsc/Mat_Apl/blob/main/Opt_Proyecto_derivative_free.ipynb\" target=\"_parent\"><img src=\"https://colab.research.google.com/assets/colab-badge.svg\" alt=\"Open In Colab\"/></a>"
      ]
    },
    {
      "cell_type": "markdown",
      "source": [
        "Idea general del algoritmo.\n",
        "\n",
        "Input: \n",
        "\n",
        "\n",
        "*   $f:\\mathbb{R}^n⟶ \\mathbb{R}$, función objetivo.\n",
        "*   $x_0$, aproximación inicial.\n",
        "*   $a_{max}$, Número máximo de iteraciones para la busqueda en linea.\n",
        "*   $\\zeta$, parámetro de curvatura.\n",
        "*   $tol_g$, criterio de paro para la norma del gradiente.\n",
        "\n",
        "\n",
        "\n",
        "Descripción general del algoritmo (Ver Derivative-free optimization, pag 9.)\n",
        "\n",
        "*   Calcular $f(x_0)$\n",
        "*   Estimar $\\epsilon_f$ usando ECnoise*\n",
        "*   Calcular ** h\n",
        "*   Calcular $\\nabla_h f(x_0)$. Cuando se haga, guardar los valores $(x_s,f_s)$ que satisfacen $f_s=f(x_s)=min_{x\\in S} f(x)$, $S=\\{x+h\\cdot e_i,i=1,\\ldots,n\\}$\n",
        "*   While ($||\\nabla f(x_k)||>tol_g$):\n",
        "    *   Calcular $d_k=-H_k\\nabla_h f(x_k)$ usando L-BFGS***\n",
        "    *   Hacer line_search$(x_k,f_k,\\nabla_h f(x_k),d_k,a_{max})$ y obtiene $(x_+,f_+,\\alpha_k,LS_{flag})$\n",
        "        *   If($LS_{flag}==1$):\n",
        "            *   Invocar Recovery($x_s,f_s$)\n",
        "        *   Else:\n",
        "            *   Actualizar $x_{k+1}=x_+,$ $f_{k+1}=f_+$\n",
        "    *   Calcular $\\nabla_h f(x_{k+1})$ y guardar $(x_s,f_s)$\n",
        "    *   Calcular $s_k=x_{k+1}-x_k$, $y_k=\\nabla_h f(x_{k+1})-\\nabla_h f(x_k)$\n",
        "        *   Guardarlos si $s_k^Ty_k\\geq \\zeta||s_k||||y_k||$"
      ],
      "metadata": {
        "id": "1st1PXXNxrWy"
      }
    },
    {
      "cell_type": "markdown",
      "source": [
        "Explicación de L-BFGS: (Ver clase en Moodle.)\n",
        "\n",
        "Si $H_k$ es una aproximación de la inversa del Hessiano, nos interesa caluclar $d_k=-H_k\\nabla f(x_k)$.\n",
        "\n",
        "\n",
        "Input:\n",
        "\n",
        "\n",
        "\n",
        "*   $\\nabla f(x_k)$\n",
        "*   $\\{(s_{k-1},y_{k-1}),(s_{k-2},y_{k-2}),\\ldots,(s_{k-m},y_{k-m})\\}$\n",
        "*   $H^0_{k-m}$\n",
        "\n",
        "Algoritmo:\n",
        "\n",
        "\n",
        "*   Define $q=\\nabla f(x_k)$\n",
        "*   for $i=1,2,\\ldots,m$ do:\n",
        "    *   Calcular $\\alpha_i=\\rho_i s_{k-i}^Tq$\n",
        "    *   Actualiza $q=q-\\alpha_iy_i$\n",
        "*   Define $r=H^0_{k-m}q$\n",
        "*   for $i=1,2,\\ldots,m$ do:\n",
        "    *   Calcular $\\beta=\\rho_{k-i}y_{k-i}^Tr$\n",
        "    *   Actualiza $r=r-s_{k-i}(\\alpha_i-\\beta)$\n",
        "*   $r$ es una aproximación de $H_k\\nabla f(x_k)$\n"
      ],
      "metadata": {
        "id": "o9e9CVolHhpY"
      }
    },
    {
      "cell_type": "code",
      "source": [
        "import numpy as np\n",
        "import scipy.optimize\n",
        "import matplotlib.pyplot as plt"
      ],
      "metadata": {
        "id": "f_eEzJF9qQT8"
      },
      "execution_count": 70,
      "outputs": []
    },
    {
      "cell_type": "code",
      "source": [
        "def L_BFGS(S,Y,g):#Checar las posibles divisiones por cero\n",
        "    n=len(g)\n",
        "    m=len(S)\n",
        "    #supondremos H_0 un multiplo de la identidad\n",
        "    H_0=(np.dot(S[-1],Y[-1])/(np.dot(Y[-1],Y[-1])))*np.identity(n)#Dado en clase.\n",
        "    q=g\n",
        "    alphas=[]\n",
        "    for i in range(m):\n",
        "        alphas.append((1/max(10**(-6),np.dot(S[m-1-i],Y[m-1-i])))*np.dot(S[m-1-i],q))\n",
        "        q=q-alphas[i]*Y[m-1-i]\n",
        "    r=np.dot(H_0,q)\n",
        "    for i in range(m):\n",
        "        beta=(1/max(10**(-6),np.dot(Y[i],S[i])))*np.dot(Y[i],r)\n",
        "        r=r+S[i]*(alphas[m-1-i]-beta)#aproximacion de -H*g\n",
        "    return r"
      ],
      "metadata": {
        "id": "8zB4uyJdLJ6g"
      },
      "execution_count": 71,
      "outputs": []
    },
    {
      "cell_type": "code",
      "source": [
        "def ECNoise(F):#F es un vector que guarda f(t_i), i=0,...,m. Evaluaciones de m+1 puntos equiespaciados\n",
        "#Ver metodo en Estimating_Computational_Noise, pagina 8\n",
        "    m=len(F)-1\n",
        "    T=np.zeros((m+1,m+1))\n",
        "    for i in range(m+1):\n",
        "        T[i,0]=F[i]\n",
        "    for k in range(m):\n",
        "        for i in range(m-k):\n",
        "            T[i,k+1]=T[i+1,k]-T[i,k]\n",
        "    return T"
      ],
      "metadata": {
        "id": "EiaLoRSdNFgA"
      },
      "execution_count": 72,
      "outputs": []
    },
    {
      "cell_type": "code",
      "source": [
        "def var_estimation(T):#Recibe la tabla.\n",
        "    m=len(T)-1\n",
        "    sigma_array=[]\n",
        "    for k in range(1,m):\n",
        "        sigma_array.append(((np.math.factorial(k)/np.math.factorial(2*k))/(m+1-k))*np.sum(T.T[k]**2))\n",
        "    #Ahora checamos las 2 condiciones.\n",
        "    for k in range(1,m-2):\n",
        "        max_k=np.max(sigma_array[k:k+2])\n",
        "        min_k=np.min(sigma_array[k:k+2])\n",
        "        if(max_k<=4*min_k):\n",
        "            if(np.sign(min_k*max_k)==-1):\n",
        "                print(\"es el \", k)\n",
        "                break\n",
        "    return np.sqrt(sigma_array[k])#Podria ser que las condiciones no se cumplan, en tal caso regresa la ultima estimacion sigma."
      ],
      "metadata": {
        "id": "gQcG9CUNagT4"
      },
      "execution_count": 73,
      "outputs": []
    },
    {
      "cell_type": "code",
      "source": [
        "def aprox_f_biprima(e_f,f,x_k,p):#Usando una direccion (aleatoria dada) se aproxima el max ||Hessiana_f(x_k)*p||\n",
        "    #Ver Estimating Derivatives of Noisy Simulations, pagina 14.\n",
        "    tao_1=100\n",
        "    tao_2=0.1\n",
        "    h_a=e_f**(1/4)\n",
        "    f_mas=f(x_k+h_a*p)\n",
        "    f_menos=f(x_k-h_a*p)\n",
        "    f_0=f(x_k)\n",
        "    delta_h_a=abs(f_mas+f_menos-2*f_0)\n",
        "    mu_a=delta_h_a/(h_a**2)\n",
        "    if(delta_h_a/e_f>=tao_1):\n",
        "        mu=mu_a\n",
        "        if(abs(f_mas-f_0)<=tao_2*max(f_mas,f_menos,f_0) and abs(f_menos-f_0)<=tao_2*max(f_mas,f_menos,f_0)):\n",
        "            return mu_a\n",
        "    h_b=(e_f/mu_a)**(1/4)\n",
        "    f_mas=f(x_k+h_b*p)\n",
        "    f_menos=f(x_k-h_b*p)\n",
        "    delta_h_b=abs(f_mas+f_menos-2*f_0)\n",
        "    mu_b=delta_h_b/(h_b**2)\n",
        "    if(delta_h_b/e_f>=tao_1):\n",
        "        mu=mu_b\n",
        "        if(abs(f_mas-f_0)<=tao_2*max(f_mas,f_menos,f_0) and abs(f_menos-f_0)<=tao_2*max(f_mas,f_menos,f_0)):\n",
        "            return mu_b\n",
        "    if(abs(mu_a-mu_b)<=0.5*mu_b):\n",
        "        return mu_b\n",
        "    print(\"No hay regla de decision\")\n",
        "    return mu_b#Por falta de relga de descicion. En el algoritmo no se especifica una opcion.\n"
      ],
      "metadata": {
        "id": "Y9wkwLTs-3Sh"
      },
      "execution_count": 229,
      "outputs": []
    },
    {
      "cell_type": "code",
      "source": [
        "def rutina_h(f,p,x_0,m=10):#Calcula h a partir de una direccion dada, con m+1 puntos equiespaciados.\n",
        "    f_0=f(x_0)\n",
        "    n=len(x_0)\n",
        "    delta=10**(-3)#Suggested by ECnoise algorithm.\n",
        "    F_st=[f(x_0+delta*i*p) for i in range(m)]\n",
        "    T=ECNoise(F_st)\n",
        "    e_f=var_estimation(T)\n",
        "    #print(\"e_f: \",e_f)#Breakpoint\n",
        "    mu=aprox_f_biprima(e_f=e_f,f=f,x_k=x_0,p=p)\n",
        "    h=(8**(1/4))*(e_f/mu)**(1/2)\n",
        "    return e_f,h"
      ],
      "metadata": {
        "id": "qXCp7kbKtaZM"
      },
      "execution_count": 245,
      "outputs": []
    },
    {
      "cell_type": "code",
      "source": [
        "def Rosembrok(X):#X es un vector.\n",
        "    return (np.sum(100*(X[1:]-X[:-1]**2)**2+(1-X[:-1])**2))#+10**(-3)*np.random.uniform(0,1))#Ruido\n",
        "def Rosembrok_r(X):#X es un vector.\n",
        "    return (np.sum(100*(X[1:]-X[:-1]**2)**2+(1-X[:-1])**2)+10**(-3)*np.random.uniform(0,1))#Ruido\n",
        "def Rosembrok_grad(X):\n",
        "    return scipy.optimize.approx_fprime(f=Rosembrok,xk=X,epsilon=10**(-4))\n",
        "def Rosembrok_grad_real(X):\n",
        "    D=[]\n",
        "    D.append(-400*(X[0]*(X[1]-X[0]**2))-2*(1-X[0]))\n",
        "    for i in range(1,len(X)-1):\n",
        "        D.append(-400*(X[i]*(X[i+1]-X[i]**2))+200*(X[i]-X[i-1]**2)-2*(1-X[i]))\n",
        "    D.append(200*(X[-1]-X[-2]**2))\n",
        "    return D\n",
        "def Rosembrok_Hessian(X):\n",
        "    M=[]\n",
        "    #Renglon 1\n",
        "    D=np.zeros(len(X))\n",
        "    D[0]=(-400*(X[1]-X[0]**2)+800*(X[0]**2)+2)\n",
        "    D[1]=-400*(X[1])\n",
        "    M.append(D)\n",
        "    #Renglon 2<i<n\n",
        "    for i in range(1,len(X)-1):\n",
        "        D=np.zeros(len(X))\n",
        "        D[i]=(-400*(X[i+1]-X[i]**2)+800*(X[i]**2)+202)\n",
        "        D[i-1]=-400*X[i-1]\n",
        "        D[i+1]=-400*X[i]\n",
        "        M.append(D)\n",
        "    #Renglon n\n",
        "    D=np.zeros(len(X))\n",
        "    D[-2]=-400*X[-2]\n",
        "    D[-1]=200\n",
        "    M.append(D)\n",
        "    return M"
      ],
      "metadata": {
        "id": "nLW9VeQvceE5"
      },
      "execution_count": 76,
      "outputs": []
    },
    {
      "cell_type": "code",
      "source": [
        "#Muestra de la estimacion del gradiente con Forward difference.\n",
        "n=10\n",
        "x_k=np.random.uniform(0,1,size=n)\n",
        "p=np.eye(1,len(x_k),np.random.randint(0,len(x_k)))\n",
        "e_f,h=rutina_h(f=Rosembrok_r,p=p,m=6,x_0=x_k)\n",
        "print(h)\n",
        "print(scipy.optimize.approx_fprime(f=Rosembrok,xk=x_k,epsilon=h))\n",
        "print(Rosembrok_grad_real(x_k))\n",
        "#------------------------------------------------------"
      ],
      "metadata": {
        "id": "SRlkKtn12meB",
        "outputId": "14cd123d-1c8f-458d-b305-9415dbc96a68",
        "colab": {
          "base_uri": "https://localhost:8080/"
        }
      },
      "execution_count": 231,
      "outputs": [
        {
          "output_type": "stream",
          "name": "stdout",
          "text": [
            "No hay regla de decision\n",
            "5.434064677654413e-06\n",
            "[ -84.18522857   78.68000536  -41.13929481 -118.31265151  425.81370479\n",
            " -173.73968775  232.7804341   -90.56453466  110.59059189  -19.94719493]\n",
            "[-84.18626679210684, 78.67770456631854, -41.14080085663723, -118.31329637608472, 425.81039369602325, -173.73950918097268, 232.77850571307843, -90.56459208324905, 110.58945347100098, -19.947738338477976]\n"
          ]
        }
      ]
    },
    {
      "cell_type": "code",
      "source": [
        "def relaxed_Armijo(x_k,f,fprime,d,e_f=0.0,c_1=0.1,c_2=0.9,\n",
        "                   max_iter=10**2):##Intenté usar scipy.line_search(), pero Strong Wolfe son dificiles de satisfacerse\n",
        "    #Metodo visto en clase.\n",
        "    iter=0\n",
        "    alpha_0=1\n",
        "    alpha=0\n",
        "    grad_f_k=fprime(x_k)\n",
        "    f_k=f(x_k)\n",
        "    beta=np.inf\n",
        "    alpha_i=alpha\n",
        "    g_dot_d=np.dot(grad_f_k,d)\n",
        "    for i in range(max_iter):\n",
        "        if(f(x_k+alpha_i*d)>f_k+c_1*alpha_i*g_dot_d+2*e_f):#Aqui esta la condicion relajada, dado e_f estimacion del error estandar.\n",
        "            beta=alpha_i\n",
        "            alpha_i=0.5*(alpha+beta)\n",
        "        else:\n",
        "            if(np.dot(fprime(x_k+alpha_i*d),d)<c_2*np.dot(grad_f_k,d)):\n",
        "                alpha=alpha_i\n",
        "                if(beta==np.inf):\n",
        "                    alpha_i=2*alpha\n",
        "                else:\n",
        "                    alpha_k=0.5*(alpha+beta)\n",
        "            else:\n",
        "                break\n",
        "    return alpha_i"
      ],
      "metadata": {
        "id": "U2R6IwNuNpFq"
      },
      "execution_count": 183,
      "outputs": []
    },
    {
      "cell_type": "code",
      "source": [
        "def recovery(x_k,f,grad_k,e_f,h,l1,l2,d_k,m=10):#Genera un nuevo h\n",
        "    e_f_b,h_b=rutina_h(f=f,p=d_k,m=m,x_0=x_k)\n",
        "    n=len(d_k)\n",
        "    f_k=f(x_k)\n",
        "    if(h_b<l1*h or h_b>l2*h):\n",
        "        return x_k,e_f_b,h_b\n",
        "    else:\n",
        "        d_k=d_k/np.linalg.norm(d_k)\n",
        "        x_h=x_k+h*(d_k)\n",
        "        f_h=f(x_h)\n",
        "        if(f_h<=f(x_k)+0.001*h*np.dot(grad_k,d_k)+2*e_f):\n",
        "            return x_h,e_f,h\n",
        "        else:\n",
        "            f_stencil=[f(x_k+h*np.eye(1,n,i)) for i in range(n)]\n",
        "            x_s=x_k+h*np.eye(1,n,np.argmin(f_stencil))\n",
        "            f_s=f(x_s)\n",
        "            if(f_h<=f_s and f_h<=f_k):\n",
        "                return x_k,e_f,h\n",
        "            else:\n",
        "                if(f_k>f_s and f_h>f_s):\n",
        "                    return x_s,e_f,h\n",
        "                else:\n",
        "                    e_f_n,h_n=rutina_h(f=f,p=np.random.uniform(-1,1,size=n),m=m,x_0=x_k)\n",
        "                    return x_k,e_f_n,h_n"
      ],
      "metadata": {
        "id": "kcexZsIE9aMQ"
      },
      "execution_count": 258,
      "outputs": []
    },
    {
      "cell_type": "code",
      "source": [
        "def find_minimum(f,x_0,tol_g=10**(-4),max_iter=10**2,alpha_max_iter=100):\n",
        "    t1 = time.time()\n",
        "    n=len(x_0)\n",
        "    #----------------------\n",
        "    #Listas\n",
        "    iter=0\n",
        "    GG=[]\n",
        "    Y=[]\n",
        "    S=[]\n",
        "    #----------------------\n",
        "    #----------------------\n",
        "    e_f,h=rutina_h(f=f,p=np.random.uniform(-1,1,size=len(x_0)),m=10,x_0=x_0)\n",
        "    print(\"h: \",h)\n",
        "    def fprime(x):\n",
        "        return scipy.optimize.approx_fprime(xk=x,f=f,epsilon=np.max([h,10**(-6)]))\n",
        "    g_0=fprime(x_0)#Gradiente\n",
        "    alpha_k=relaxed_Armijo(f=f,fprime=fprime,x_k=x_0,d=-g_0,e_f=e_f,max_iter=alpha_max_iter)#line_search\n",
        "    x_1=x_0-alpha_k*g_0#Primera direccion de descenso es -grad(x_0)\n",
        "    g_1=fprime(x_1)\n",
        "    GG.append(np.linalg.norm(g_1))\n",
        "    \n",
        "    #----------------------\n",
        "    #diferencia de gradientes\n",
        "    #diferencia de x's\n",
        "    Y.append(g_1-g_0)\n",
        "    S.append(-alpha_k*g_0)\n",
        "    #comp=[np.linalg.norm(d_k_r+g_0)]#Lista para compararlos\n",
        "    #H_k=(np.dot(s_k,y_k)/(np.dot(y_k,y_k)))*np.identity(n)#Dado en clase.\n",
        "    #----------------------\n",
        "    while(np.linalg.norm(g_1)>tol_g and iter<max_iter):\n",
        "        x_0=x_1\n",
        "        g_0=g_1\n",
        "        #H_k_m=BFGS(s_k=s_k,y_k=y_k,g_k=0,H_k=H_k)\n",
        "        #d_k_r=-np.dot(np.linalg.inv(Rosembrok_Hessian(x_0)),g_0)\n",
        "        d_k=-L_BFGS(S=S,Y=Y,g=g_1)\n",
        "        #d_k=-np.dot(H_k_m,g_0)\n",
        "        if(iter>100):\n",
        "            del S[0]\n",
        "            del Y[0]\n",
        "        iter_alpha=0\n",
        "        alpha_k_try=0\n",
        "        while(alpha_k_try==0 and iter_alpha<10):\n",
        "            alpha_k_try=relaxed_Armijo(f=f,fprime=fprime,x_k=x_0,d=d_k,e_f=e_f,max_iter=alpha_max_iter)#line_search\n",
        "            if(alpha_k_try>0):\n",
        "                alpha_k=alpha_k_try\n",
        "                break\n",
        "            else:\n",
        "                x_k,e_f,h=recovery(x_k=x_0,f=f,grad_k=g_0,e_f=e_f,h=h,l1=0.4,l2=2.5,d_k=d_k)\n",
        "                #print(\"Cambiamos h! :\", h)\n",
        "                iter_alpha+=1\n",
        "        x_1=x_0+alpha_k*d_k#\n",
        "        g_1=fprime(x_1)\n",
        "        iter+=1\n",
        "        #H_k=H_k_m\n",
        "        Y.append(g_1-g_0)\n",
        "        S.append(alpha_k*d_k)\n",
        "        #print(np.linalg.norm(d_k-d_k_l))\n",
        "        GG.append(np.linalg.norm(g_1))\n",
        "    print(\"Summary: \")\n",
        "    \n",
        "    #print(\"comp:\",comp[-1])\n",
        "    plt.plot(GG)\n",
        "    plt.show()\n",
        "    t2 = time.time()\n",
        "    tim = t2-t1\n",
        "    niter = iter\n",
        "    print(\"time: {:.02e}\\t Niter: {} \\t ||g_k||: {:.02e} \".format(\n",
        "             tim,niter,GG[-1]))\n",
        "    return x_1"
      ],
      "metadata": {
        "id": "RvIgGawfE0Se"
      },
      "execution_count": 248,
      "outputs": []
    },
    {
      "cell_type": "code",
      "source": [
        "import time\n",
        "n=5\n",
        "x_0=np.random.uniform(0.5,1.5,size=n)\n",
        "x_opt=find_minimum(f=Rosembrok_r,x_0=x_0,tol_g=10**(-2),max_iter=10**3,alpha_max_iter=10)\n",
        "print(x_opt)"
      ],
      "metadata": {
        "id": "n5k_pB5TAc4_",
        "outputId": "f134cad2-0d76-4081-b61c-846a3a80542d",
        "colab": {
          "base_uri": "https://localhost:8080/",
          "height": 1000
        }
      },
      "execution_count": 249,
      "outputs": [
        {
          "output_type": "stream",
          "name": "stdout",
          "text": [
            "h:  0.00014455847700466928\n",
            "No hay regla de decision\n",
            "No hay regla de decision\n",
            "No hay regla de decision\n",
            "No hay regla de decision\n",
            "No hay regla de decision\n",
            "No hay regla de decision\n",
            "No hay regla de decision\n",
            "No hay regla de decision\n",
            "No hay regla de decision\n",
            "No hay regla de decision\n",
            "No hay regla de decision\n",
            "No hay regla de decision\n",
            "No hay regla de decision\n",
            "No hay regla de decision\n",
            "No hay regla de decision\n",
            "No hay regla de decision\n",
            "No hay regla de decision\n",
            "No hay regla de decision\n",
            "No hay regla de decision\n",
            "No hay regla de decision\n",
            "No hay regla de decision\n",
            "No hay regla de decision\n",
            "No hay regla de decision\n",
            "No hay regla de decision\n",
            "No hay regla de decision\n"
          ]
        },
        {
          "output_type": "stream",
          "name": "stderr",
          "text": [
            "/usr/local/lib/python3.7/dist-packages/ipykernel_launcher.py:8: RuntimeWarning: invalid value encountered in true_divide\n",
            "  \n"
          ]
        },
        {
          "output_type": "stream",
          "name": "stdout",
          "text": [
            "No hay regla de decision\n",
            "No hay regla de decision\n",
            "No hay regla de decision\n",
            "No hay regla de decision\n",
            "No hay regla de decision\n",
            "No hay regla de decision\n",
            "No hay regla de decision\n",
            "No hay regla de decision\n",
            "No hay regla de decision\n",
            "No hay regla de decision\n",
            "No hay regla de decision\n",
            "No hay regla de decision\n",
            "No hay regla de decision\n",
            "No hay regla de decision\n",
            "No hay regla de decision\n",
            "No hay regla de decision\n",
            "No hay regla de decision\n",
            "No hay regla de decision\n",
            "No hay regla de decision\n",
            "No hay regla de decision\n",
            "No hay regla de decision\n",
            "No hay regla de decision\n",
            "No hay regla de decision\n",
            "No hay regla de decision\n",
            "No hay regla de decision\n",
            "No hay regla de decision\n",
            "No hay regla de decision\n",
            "No hay regla de decision\n",
            "No hay regla de decision\n",
            "No hay regla de decision\n",
            "No hay regla de decision\n",
            "No hay regla de decision\n",
            "No hay regla de decision\n",
            "No hay regla de decision\n",
            "No hay regla de decision\n",
            "No hay regla de decision\n",
            "No hay regla de decision\n",
            "No hay regla de decision\n",
            "No hay regla de decision\n",
            "No hay regla de decision\n",
            "No hay regla de decision\n",
            "No hay regla de decision\n",
            "No hay regla de decision\n",
            "No hay regla de decision\n",
            "No hay regla de decision\n",
            "No hay regla de decision\n",
            "No hay regla de decision\n",
            "No hay regla de decision\n",
            "No hay regla de decision\n",
            "No hay regla de decision\n",
            "No hay regla de decision\n",
            "No hay regla de decision\n",
            "No hay regla de decision\n",
            "No hay regla de decision\n",
            "No hay regla de decision\n",
            "No hay regla de decision\n",
            "No hay regla de decision\n",
            "No hay regla de decision\n",
            "No hay regla de decision\n",
            "No hay regla de decision\n",
            "No hay regla de decision\n",
            "No hay regla de decision\n",
            "No hay regla de decision\n",
            "No hay regla de decision\n",
            "No hay regla de decision\n",
            "No hay regla de decision\n",
            "No hay regla de decision\n",
            "No hay regla de decision\n",
            "No hay regla de decision\n",
            "No hay regla de decision\n",
            "No hay regla de decision\n",
            "No hay regla de decision\n",
            "No hay regla de decision\n",
            "No hay regla de decision\n",
            "No hay regla de decision\n",
            "No hay regla de decision\n",
            "No hay regla de decision\n",
            "No hay regla de decision\n",
            "No hay regla de decision\n",
            "No hay regla de decision\n",
            "No hay regla de decision\n",
            "No hay regla de decision\n",
            "No hay regla de decision\n",
            "No hay regla de decision\n",
            "No hay regla de decision\n",
            "No hay regla de decision\n",
            "No hay regla de decision\n",
            "No hay regla de decision\n",
            "No hay regla de decision\n",
            "No hay regla de decision\n",
            "No hay regla de decision\n",
            "No hay regla de decision\n",
            "No hay regla de decision\n",
            "No hay regla de decision\n",
            "No hay regla de decision\n",
            "No hay regla de decision\n",
            "No hay regla de decision\n",
            "No hay regla de decision\n",
            "No hay regla de decision\n",
            "No hay regla de decision\n",
            "No hay regla de decision\n",
            "No hay regla de decision\n",
            "No hay regla de decision\n",
            "No hay regla de decision\n",
            "No hay regla de decision\n",
            "No hay regla de decision\n",
            "No hay regla de decision\n",
            "No hay regla de decision\n",
            "No hay regla de decision\n",
            "No hay regla de decision\n",
            "No hay regla de decision\n",
            "No hay regla de decision\n",
            "No hay regla de decision\n",
            "No hay regla de decision\n",
            "No hay regla de decision\n",
            "No hay regla de decision\n",
            "No hay regla de decision\n",
            "No hay regla de decision\n",
            "No hay regla de decision\n",
            "No hay regla de decision\n",
            "No hay regla de decision\n",
            "No hay regla de decision\n",
            "No hay regla de decision\n",
            "No hay regla de decision\n",
            "No hay regla de decision\n",
            "No hay regla de decision\n",
            "No hay regla de decision\n",
            "No hay regla de decision\n",
            "No hay regla de decision\n",
            "No hay regla de decision\n",
            "No hay regla de decision\n",
            "No hay regla de decision\n",
            "No hay regla de decision\n",
            "No hay regla de decision\n",
            "No hay regla de decision\n",
            "No hay regla de decision\n",
            "No hay regla de decision\n",
            "No hay regla de decision\n",
            "No hay regla de decision\n",
            "No hay regla de decision\n",
            "No hay regla de decision\n",
            "No hay regla de decision\n",
            "No hay regla de decision\n",
            "No hay regla de decision\n",
            "No hay regla de decision\n",
            "No hay regla de decision\n",
            "No hay regla de decision\n",
            "No hay regla de decision\n",
            "No hay regla de decision\n",
            "No hay regla de decision\n",
            "No hay regla de decision\n",
            "No hay regla de decision\n",
            "No hay regla de decision\n",
            "No hay regla de decision\n",
            "No hay regla de decision\n",
            "No hay regla de decision\n",
            "No hay regla de decision\n",
            "No hay regla de decision\n",
            "No hay regla de decision\n",
            "No hay regla de decision\n",
            "No hay regla de decision\n",
            "No hay regla de decision\n"
          ]
        },
        {
          "output_type": "error",
          "ename": "KeyboardInterrupt",
          "evalue": "ignored",
          "traceback": [
            "\u001b[0;31m---------------------------------------------------------------------------\u001b[0m",
            "\u001b[0;31mKeyboardInterrupt\u001b[0m                         Traceback (most recent call last)",
            "\u001b[0;32m<ipython-input-249-f0ba0b0bea73>\u001b[0m in \u001b[0;36m<module>\u001b[0;34m()\u001b[0m\n\u001b[1;32m      2\u001b[0m \u001b[0mn\u001b[0m\u001b[0;34m=\u001b[0m\u001b[0;36m5\u001b[0m\u001b[0;34m\u001b[0m\u001b[0;34m\u001b[0m\u001b[0m\n\u001b[1;32m      3\u001b[0m \u001b[0mx_0\u001b[0m\u001b[0;34m=\u001b[0m\u001b[0mnp\u001b[0m\u001b[0;34m.\u001b[0m\u001b[0mrandom\u001b[0m\u001b[0;34m.\u001b[0m\u001b[0muniform\u001b[0m\u001b[0;34m(\u001b[0m\u001b[0;36m0.5\u001b[0m\u001b[0;34m,\u001b[0m\u001b[0;36m1.5\u001b[0m\u001b[0;34m,\u001b[0m\u001b[0msize\u001b[0m\u001b[0;34m=\u001b[0m\u001b[0mn\u001b[0m\u001b[0;34m)\u001b[0m\u001b[0;34m\u001b[0m\u001b[0;34m\u001b[0m\u001b[0m\n\u001b[0;32m----> 4\u001b[0;31m \u001b[0mx_opt\u001b[0m\u001b[0;34m=\u001b[0m\u001b[0mfind_minimum\u001b[0m\u001b[0;34m(\u001b[0m\u001b[0mf\u001b[0m\u001b[0;34m=\u001b[0m\u001b[0mRosembrok_r\u001b[0m\u001b[0;34m,\u001b[0m\u001b[0mx_0\u001b[0m\u001b[0;34m=\u001b[0m\u001b[0mx_0\u001b[0m\u001b[0;34m,\u001b[0m\u001b[0mtol_g\u001b[0m\u001b[0;34m=\u001b[0m\u001b[0;36m10\u001b[0m\u001b[0;34m**\u001b[0m\u001b[0;34m(\u001b[0m\u001b[0;34m-\u001b[0m\u001b[0;36m2\u001b[0m\u001b[0;34m)\u001b[0m\u001b[0;34m,\u001b[0m\u001b[0mmax_iter\u001b[0m\u001b[0;34m=\u001b[0m\u001b[0;36m10\u001b[0m\u001b[0;34m**\u001b[0m\u001b[0;36m3\u001b[0m\u001b[0;34m,\u001b[0m\u001b[0malpha_max_iter\u001b[0m\u001b[0;34m=\u001b[0m\u001b[0;36m10\u001b[0m\u001b[0;34m)\u001b[0m\u001b[0;34m\u001b[0m\u001b[0;34m\u001b[0m\u001b[0m\n\u001b[0m\u001b[1;32m      5\u001b[0m \u001b[0mprint\u001b[0m\u001b[0;34m(\u001b[0m\u001b[0mx_opt\u001b[0m\u001b[0;34m)\u001b[0m\u001b[0;34m\u001b[0m\u001b[0;34m\u001b[0m\u001b[0m\n",
            "\u001b[0;32m<ipython-input-248-3c9760d30401>\u001b[0m in \u001b[0;36mfind_minimum\u001b[0;34m(f, x_0, tol_g, max_iter, alpha_max_iter)\u001b[0m\n\u001b[1;32m     46\u001b[0m                 \u001b[0;32mbreak\u001b[0m\u001b[0;34m\u001b[0m\u001b[0;34m\u001b[0m\u001b[0m\n\u001b[1;32m     47\u001b[0m             \u001b[0;32melse\u001b[0m\u001b[0;34m:\u001b[0m\u001b[0;34m\u001b[0m\u001b[0;34m\u001b[0m\u001b[0m\n\u001b[0;32m---> 48\u001b[0;31m                 \u001b[0mx_k\u001b[0m\u001b[0;34m,\u001b[0m\u001b[0me_f\u001b[0m\u001b[0;34m,\u001b[0m\u001b[0mh\u001b[0m\u001b[0;34m=\u001b[0m\u001b[0mrecovery\u001b[0m\u001b[0;34m(\u001b[0m\u001b[0mx_k\u001b[0m\u001b[0;34m=\u001b[0m\u001b[0mx_0\u001b[0m\u001b[0;34m,\u001b[0m\u001b[0mf\u001b[0m\u001b[0;34m=\u001b[0m\u001b[0mf\u001b[0m\u001b[0;34m,\u001b[0m\u001b[0mgrad_k\u001b[0m\u001b[0;34m=\u001b[0m\u001b[0mg_0\u001b[0m\u001b[0;34m,\u001b[0m\u001b[0me_f\u001b[0m\u001b[0;34m=\u001b[0m\u001b[0me_f\u001b[0m\u001b[0;34m,\u001b[0m\u001b[0mh\u001b[0m\u001b[0;34m=\u001b[0m\u001b[0mh\u001b[0m\u001b[0;34m,\u001b[0m\u001b[0ml1\u001b[0m\u001b[0;34m=\u001b[0m\u001b[0;36m0.4\u001b[0m\u001b[0;34m,\u001b[0m\u001b[0ml2\u001b[0m\u001b[0;34m=\u001b[0m\u001b[0;36m2.5\u001b[0m\u001b[0;34m,\u001b[0m\u001b[0md_k\u001b[0m\u001b[0;34m=\u001b[0m\u001b[0md_k\u001b[0m\u001b[0;34m)\u001b[0m\u001b[0;34m\u001b[0m\u001b[0;34m\u001b[0m\u001b[0m\n\u001b[0m\u001b[1;32m     49\u001b[0m                 \u001b[0;31m#print(\"Cambiamos h! :\", h)\u001b[0m\u001b[0;34m\u001b[0m\u001b[0;34m\u001b[0m\u001b[0;34m\u001b[0m\u001b[0m\n\u001b[1;32m     50\u001b[0m                 \u001b[0miter_alpha\u001b[0m\u001b[0;34m+=\u001b[0m\u001b[0;36m1\u001b[0m\u001b[0;34m\u001b[0m\u001b[0;34m\u001b[0m\u001b[0m\n",
            "\u001b[0;32m<ipython-input-247-22d3b4834867>\u001b[0m in \u001b[0;36mrecovery\u001b[0;34m(x_k, f, grad_k, e_f, h, l1, l2, d_k, m)\u001b[0m\n\u001b[1;32m     21\u001b[0m                     \u001b[0;32mreturn\u001b[0m \u001b[0mx_s\u001b[0m\u001b[0;34m,\u001b[0m\u001b[0me_f\u001b[0m\u001b[0;34m,\u001b[0m\u001b[0mh\u001b[0m\u001b[0;34m\u001b[0m\u001b[0;34m\u001b[0m\u001b[0m\n\u001b[1;32m     22\u001b[0m                 \u001b[0;32melse\u001b[0m\u001b[0;34m:\u001b[0m\u001b[0;34m\u001b[0m\u001b[0;34m\u001b[0m\u001b[0m\n\u001b[0;32m---> 23\u001b[0;31m                     \u001b[0me_f_n\u001b[0m\u001b[0;34m,\u001b[0m\u001b[0mh_n\u001b[0m\u001b[0;34m=\u001b[0m\u001b[0mrutina_h\u001b[0m\u001b[0;34m(\u001b[0m\u001b[0mf\u001b[0m\u001b[0;34m=\u001b[0m\u001b[0mf\u001b[0m\u001b[0;34m,\u001b[0m\u001b[0mp\u001b[0m\u001b[0;34m=\u001b[0m\u001b[0mnp\u001b[0m\u001b[0;34m.\u001b[0m\u001b[0mrandom\u001b[0m\u001b[0;34m.\u001b[0m\u001b[0muniform\u001b[0m\u001b[0;34m(\u001b[0m\u001b[0;34m-\u001b[0m\u001b[0;36m1\u001b[0m\u001b[0;34m,\u001b[0m\u001b[0;36m1\u001b[0m\u001b[0;34m,\u001b[0m\u001b[0msize\u001b[0m\u001b[0;34m=\u001b[0m\u001b[0mn\u001b[0m\u001b[0;34m)\u001b[0m\u001b[0;34m,\u001b[0m\u001b[0mm\u001b[0m\u001b[0;34m=\u001b[0m\u001b[0mm\u001b[0m\u001b[0;34m,\u001b[0m\u001b[0mx_0\u001b[0m\u001b[0;34m=\u001b[0m\u001b[0mx_k\u001b[0m\u001b[0;34m)\u001b[0m\u001b[0;34m\u001b[0m\u001b[0;34m\u001b[0m\u001b[0m\n\u001b[0m\u001b[1;32m     24\u001b[0m                     \u001b[0;32mreturn\u001b[0m \u001b[0mx_k\u001b[0m\u001b[0;34m,\u001b[0m\u001b[0me_f_n\u001b[0m\u001b[0;34m,\u001b[0m\u001b[0mh_n\u001b[0m\u001b[0;34m\u001b[0m\u001b[0;34m\u001b[0m\u001b[0m\n",
            "\u001b[0;32m<ipython-input-245-d8ad6d7100d7>\u001b[0m in \u001b[0;36mrutina_h\u001b[0;34m(f, p, x_0, m)\u001b[0m\n\u001b[1;32m      5\u001b[0m     \u001b[0mF_st\u001b[0m\u001b[0;34m=\u001b[0m\u001b[0;34m[\u001b[0m\u001b[0mf\u001b[0m\u001b[0;34m(\u001b[0m\u001b[0mx_0\u001b[0m\u001b[0;34m+\u001b[0m\u001b[0mdelta\u001b[0m\u001b[0;34m*\u001b[0m\u001b[0mi\u001b[0m\u001b[0;34m*\u001b[0m\u001b[0mp\u001b[0m\u001b[0;34m)\u001b[0m \u001b[0;32mfor\u001b[0m \u001b[0mi\u001b[0m \u001b[0;32min\u001b[0m \u001b[0mrange\u001b[0m\u001b[0;34m(\u001b[0m\u001b[0mm\u001b[0m\u001b[0;34m)\u001b[0m\u001b[0;34m]\u001b[0m\u001b[0;34m\u001b[0m\u001b[0;34m\u001b[0m\u001b[0m\n\u001b[1;32m      6\u001b[0m     \u001b[0mT\u001b[0m\u001b[0;34m=\u001b[0m\u001b[0mECNoise\u001b[0m\u001b[0;34m(\u001b[0m\u001b[0mF_st\u001b[0m\u001b[0;34m)\u001b[0m\u001b[0;34m\u001b[0m\u001b[0;34m\u001b[0m\u001b[0m\n\u001b[0;32m----> 7\u001b[0;31m     \u001b[0me_f\u001b[0m\u001b[0;34m=\u001b[0m\u001b[0mvar_estimation\u001b[0m\u001b[0;34m(\u001b[0m\u001b[0mT\u001b[0m\u001b[0;34m)\u001b[0m\u001b[0;34m\u001b[0m\u001b[0;34m\u001b[0m\u001b[0m\n\u001b[0m\u001b[1;32m      8\u001b[0m     \u001b[0;31m#print(\"e_f: \",e_f)#Breakpoint\u001b[0m\u001b[0;34m\u001b[0m\u001b[0;34m\u001b[0m\u001b[0;34m\u001b[0m\u001b[0m\n\u001b[1;32m      9\u001b[0m     \u001b[0mmu\u001b[0m\u001b[0;34m=\u001b[0m\u001b[0maprox_f_biprima\u001b[0m\u001b[0;34m(\u001b[0m\u001b[0me_f\u001b[0m\u001b[0;34m=\u001b[0m\u001b[0me_f\u001b[0m\u001b[0;34m,\u001b[0m\u001b[0mf\u001b[0m\u001b[0;34m=\u001b[0m\u001b[0mf\u001b[0m\u001b[0;34m,\u001b[0m\u001b[0mx_k\u001b[0m\u001b[0;34m=\u001b[0m\u001b[0mx_0\u001b[0m\u001b[0;34m,\u001b[0m\u001b[0mp\u001b[0m\u001b[0;34m=\u001b[0m\u001b[0mp\u001b[0m\u001b[0;34m)\u001b[0m\u001b[0;34m\u001b[0m\u001b[0;34m\u001b[0m\u001b[0m\n",
            "\u001b[0;32m<ipython-input-73-9d7e1e5c0785>\u001b[0m in \u001b[0;36mvar_estimation\u001b[0;34m(T)\u001b[0m\n\u001b[1;32m      3\u001b[0m     \u001b[0msigma_array\u001b[0m\u001b[0;34m=\u001b[0m\u001b[0;34m[\u001b[0m\u001b[0;34m]\u001b[0m\u001b[0;34m\u001b[0m\u001b[0;34m\u001b[0m\u001b[0m\n\u001b[1;32m      4\u001b[0m     \u001b[0;32mfor\u001b[0m \u001b[0mk\u001b[0m \u001b[0;32min\u001b[0m \u001b[0mrange\u001b[0m\u001b[0;34m(\u001b[0m\u001b[0;36m1\u001b[0m\u001b[0;34m,\u001b[0m\u001b[0mm\u001b[0m\u001b[0;34m)\u001b[0m\u001b[0;34m:\u001b[0m\u001b[0;34m\u001b[0m\u001b[0;34m\u001b[0m\u001b[0m\n\u001b[0;32m----> 5\u001b[0;31m         \u001b[0msigma_array\u001b[0m\u001b[0;34m.\u001b[0m\u001b[0mappend\u001b[0m\u001b[0;34m(\u001b[0m\u001b[0;34m(\u001b[0m\u001b[0;34m(\u001b[0m\u001b[0mnp\u001b[0m\u001b[0;34m.\u001b[0m\u001b[0mmath\u001b[0m\u001b[0;34m.\u001b[0m\u001b[0mfactorial\u001b[0m\u001b[0;34m(\u001b[0m\u001b[0mk\u001b[0m\u001b[0;34m)\u001b[0m\u001b[0;34m/\u001b[0m\u001b[0mnp\u001b[0m\u001b[0;34m.\u001b[0m\u001b[0mmath\u001b[0m\u001b[0;34m.\u001b[0m\u001b[0mfactorial\u001b[0m\u001b[0;34m(\u001b[0m\u001b[0;36m2\u001b[0m\u001b[0;34m*\u001b[0m\u001b[0mk\u001b[0m\u001b[0;34m)\u001b[0m\u001b[0;34m)\u001b[0m\u001b[0;34m/\u001b[0m\u001b[0;34m(\u001b[0m\u001b[0mm\u001b[0m\u001b[0;34m+\u001b[0m\u001b[0;36m1\u001b[0m\u001b[0;34m-\u001b[0m\u001b[0mk\u001b[0m\u001b[0;34m)\u001b[0m\u001b[0;34m)\u001b[0m\u001b[0;34m*\u001b[0m\u001b[0mnp\u001b[0m\u001b[0;34m.\u001b[0m\u001b[0msum\u001b[0m\u001b[0;34m(\u001b[0m\u001b[0mT\u001b[0m\u001b[0;34m.\u001b[0m\u001b[0mT\u001b[0m\u001b[0;34m[\u001b[0m\u001b[0mk\u001b[0m\u001b[0;34m]\u001b[0m\u001b[0;34m**\u001b[0m\u001b[0;36m2\u001b[0m\u001b[0;34m)\u001b[0m\u001b[0;34m)\u001b[0m\u001b[0;34m\u001b[0m\u001b[0;34m\u001b[0m\u001b[0m\n\u001b[0m\u001b[1;32m      6\u001b[0m     \u001b[0;31m#Ahora checamos las 2 condiciones.\u001b[0m\u001b[0;34m\u001b[0m\u001b[0;34m\u001b[0m\u001b[0;34m\u001b[0m\u001b[0m\n\u001b[1;32m      7\u001b[0m     \u001b[0;32mfor\u001b[0m \u001b[0mk\u001b[0m \u001b[0;32min\u001b[0m \u001b[0mrange\u001b[0m\u001b[0;34m(\u001b[0m\u001b[0;36m1\u001b[0m\u001b[0;34m,\u001b[0m\u001b[0mm\u001b[0m\u001b[0;34m-\u001b[0m\u001b[0;36m2\u001b[0m\u001b[0;34m)\u001b[0m\u001b[0;34m:\u001b[0m\u001b[0;34m\u001b[0m\u001b[0;34m\u001b[0m\u001b[0m\n",
            "\u001b[0;31mKeyboardInterrupt\u001b[0m: "
          ]
        }
      ]
    },
    {
      "cell_type": "code",
      "source": [
        "def p_204(X):#x_0=np.array([0.1,0.1] ), x_opt=np.array([0,0] )\n",
        "    A=np.array([0.13294 ,-0.244378, 0.325895] )\n",
        "    D=np.array([2.5074 ,-1.36401,1.02282] )\n",
        "    H=np.array([[-0.564255 ,0.392417], [ -0.404979, 0.927589], [-0.0735084 ,0.535493]] )\n",
        "    B=np.linalg.inv(np.dot(H.T,H))\n",
        "    F=A+np.dot(H,X)+0.5*np.dot(X,np.dot(B,X))*D\n",
        "    return np.dot(F,F)+np.random.uniform(-10**(-2),10**(-2))\n",
        "p_204([1,1])"
      ],
      "metadata": {
        "id": "r9J2WxiJ_DJq",
        "outputId": "057288db-4065-4ed6-e530-89c0a79f6870",
        "colab": {
          "base_uri": "https://localhost:8080/"
        }
      },
      "execution_count": 261,
      "outputs": [
        {
          "output_type": "execute_result",
          "data": {
            "text/plain": [
              "413.6748099644841"
            ]
          },
          "metadata": {},
          "execution_count": 261
        }
      ]
    },
    {
      "cell_type": "code",
      "source": [
        "def p_205(X):#x_0=np.array([0.1,0.] ), x_opt=np.array([3,0.5] )\n",
        "    return ((1.5-X[0]*(1-X[1]))**2+(2.25-X[0]*(1-X[1]**2))**2+(2.625-X[0]*(1-X[1]**3))**2)\n",
        "print(p_205([1,1]))"
      ],
      "metadata": {
        "id": "1_dgHnv4LPkf",
        "outputId": "f31555e9-35cf-4dd1-fe92-7838284f93f9",
        "colab": {
          "base_uri": "https://localhost:8080/"
        }
      },
      "execution_count": 253,
      "outputs": [
        {
          "output_type": "stream",
          "name": "stdout",
          "text": [
            "14.203125\n"
          ]
        }
      ]
    },
    {
      "cell_type": "code",
      "source": [
        "def p_206(X):#x_0=[-1.2,1], x_opt=[1,1]\n",
        "    return ((X[1]-X[0]**2)**2+100*(1-X[0])**2)\n",
        "print(p_206([-1.2,1]))"
      ],
      "metadata": {
        "id": "e4s-YMJxOBYe",
        "outputId": "ca6b3e4a-d5e4-4352-e5dc-342ca3ac9b47",
        "colab": {
          "base_uri": "https://localhost:8080/"
        }
      },
      "execution_count": 105,
      "outputs": [
        {
          "output_type": "stream",
          "name": "stdout",
          "text": [
            "484.19360000000006\n"
          ]
        }
      ]
    },
    {
      "cell_type": "code",
      "source": [
        "def p_212(X):#x_0=[2,0], x_opt=[0,0]\n",
        "    return (((4*(X[0]+X[1]))**2+(4*(X[0]+X[1])+(X[0]-X[1])*((X[0]-2)**2+X[1]**2-1))**2))\n",
        "print(p_212([0,0]))"
      ],
      "metadata": {
        "id": "pk0WC1zOiMpU",
        "outputId": "5c494735-1fdd-4f26-eaad-652876f9dfaa",
        "colab": {
          "base_uri": "https://localhost:8080/"
        }
      },
      "execution_count": 110,
      "outputs": [
        {
          "output_type": "stream",
          "name": "stdout",
          "text": [
            "0\n"
          ]
        }
      ]
    },
    {
      "cell_type": "code",
      "source": [
        "def p_214(X):#x_0=[-1.2,1], x_opt=[1,1]\n",
        "    return ((10*(X[0]-X[1])**2+(X[0]-1)**2)**(1/4))"
      ],
      "metadata": {
        "id": "uLQwWBu7PlyG"
      },
      "execution_count": 115,
      "outputs": []
    },
    {
      "cell_type": "code",
      "source": [
        "def additive_noise(f,x,eps=10**(-2),label='stochastic'):\n",
        "    if(label=='deterministic'):\n",
        "        u=10**(-2)##por definirse\n",
        "    if(label=='stochastic'):\n",
        "        u=np.random.uniform(-eps,eps)\n",
        "    return(f(x)+u)\n",
        "def multiplicative_noise(f,x,eps=10**(-2),label='stochastic'):\n",
        "    if(label=='deterministic'):\n",
        "        u=10**(-2)##por definirse\n",
        "    if(label=='stochastic'):\n",
        "        u=np.random.uniform(-eps,eps)\n",
        "    return(f(x)*(1+u))"
      ],
      "metadata": {
        "id": "HvDTJgGWSd12"
      },
      "execution_count": 239,
      "outputs": []
    },
    {
      "cell_type": "code",
      "source": [
        "def f_noise(f,x,eps,noise):\n",
        "        if(noise=='additive'):\n",
        "            return additive_noise(f=f,eps=eps,x=x)\n",
        "        if(noise=='multiplicative'):\n",
        "            return multiplicative_noise(f=f,eps=eps,x=x)\n",
        "        if(noise=='additive_det'):\n",
        "            return additive_noise(f=f,eps=eps,x=x,label='deterministic')\n",
        "        if(noise=='multiplicative_det'):\n",
        "            return multiplicative_noise(f=f,eps=eps,x=x,label='deterministic')"
      ],
      "metadata": {
        "id": "H_R4ynhHWz56"
      },
      "execution_count": 241,
      "outputs": []
    },
    {
      "cell_type": "code",
      "source": [
        "x_0=np.array([0.1,0.1] )\n",
        "eps=10**(-2)\n",
        "#def f_1(x):\n",
        "#    return f_noise(f=p_205,x=x,eps=eps,noise='additive')\n",
        "x_opt=find_minimum(f=p_204,x_0=x_0,tol_g=10**(-2),max_iter=2*10**4,alpha_max_iter=10)"
      ],
      "metadata": {
        "id": "2PSvtNXLV4WC",
        "outputId": "11bf20b3-6bfa-401e-e163-c39b3e9605a1",
        "colab": {
          "base_uri": "https://localhost:8080/",
          "height": 487
        }
      },
      "execution_count": 262,
      "outputs": [
        {
          "output_type": "stream",
          "name": "stdout",
          "text": [
            "h:  0.0037965012809778815\n"
          ]
        },
        {
          "output_type": "stream",
          "name": "stderr",
          "text": [
            "/usr/local/lib/python3.7/dist-packages/ipykernel_launcher.py:8: RuntimeWarning: invalid value encountered in true_divide\n",
            "  \n"
          ]
        },
        {
          "output_type": "error",
          "ename": "ValueError",
          "evalue": "ignored",
          "traceback": [
            "\u001b[0;31m---------------------------------------------------------------------------\u001b[0m",
            "\u001b[0;31mValueError\u001b[0m                                Traceback (most recent call last)",
            "\u001b[0;32m<ipython-input-262-a8ed8198d036>\u001b[0m in \u001b[0;36m<module>\u001b[0;34m()\u001b[0m\n\u001b[1;32m      3\u001b[0m \u001b[0;31m#def f_1(x):\u001b[0m\u001b[0;34m\u001b[0m\u001b[0;34m\u001b[0m\u001b[0;34m\u001b[0m\u001b[0m\n\u001b[1;32m      4\u001b[0m \u001b[0;31m#    return f_noise(f=p_205,x=x,eps=eps,noise='additive')\u001b[0m\u001b[0;34m\u001b[0m\u001b[0;34m\u001b[0m\u001b[0;34m\u001b[0m\u001b[0m\n\u001b[0;32m----> 5\u001b[0;31m \u001b[0mx_opt\u001b[0m\u001b[0;34m=\u001b[0m\u001b[0mfind_minimum\u001b[0m\u001b[0;34m(\u001b[0m\u001b[0mf\u001b[0m\u001b[0;34m=\u001b[0m\u001b[0mp_204\u001b[0m\u001b[0;34m,\u001b[0m\u001b[0mx_0\u001b[0m\u001b[0;34m=\u001b[0m\u001b[0mx_0\u001b[0m\u001b[0;34m,\u001b[0m\u001b[0mtol_g\u001b[0m\u001b[0;34m=\u001b[0m\u001b[0;36m10\u001b[0m\u001b[0;34m**\u001b[0m\u001b[0;34m(\u001b[0m\u001b[0;34m-\u001b[0m\u001b[0;36m2\u001b[0m\u001b[0;34m)\u001b[0m\u001b[0;34m,\u001b[0m\u001b[0mmax_iter\u001b[0m\u001b[0;34m=\u001b[0m\u001b[0;36m2\u001b[0m\u001b[0;34m*\u001b[0m\u001b[0;36m10\u001b[0m\u001b[0;34m**\u001b[0m\u001b[0;36m4\u001b[0m\u001b[0;34m,\u001b[0m\u001b[0malpha_max_iter\u001b[0m\u001b[0;34m=\u001b[0m\u001b[0;36m10\u001b[0m\u001b[0;34m)\u001b[0m\u001b[0;34m\u001b[0m\u001b[0;34m\u001b[0m\u001b[0m\n\u001b[0m",
            "\u001b[0;32m<ipython-input-248-3c9760d30401>\u001b[0m in \u001b[0;36mfind_minimum\u001b[0;34m(f, x_0, tol_g, max_iter, alpha_max_iter)\u001b[0m\n\u001b[1;32m     46\u001b[0m                 \u001b[0;32mbreak\u001b[0m\u001b[0;34m\u001b[0m\u001b[0;34m\u001b[0m\u001b[0m\n\u001b[1;32m     47\u001b[0m             \u001b[0;32melse\u001b[0m\u001b[0;34m:\u001b[0m\u001b[0;34m\u001b[0m\u001b[0;34m\u001b[0m\u001b[0m\n\u001b[0;32m---> 48\u001b[0;31m                 \u001b[0mx_k\u001b[0m\u001b[0;34m,\u001b[0m\u001b[0me_f\u001b[0m\u001b[0;34m,\u001b[0m\u001b[0mh\u001b[0m\u001b[0;34m=\u001b[0m\u001b[0mrecovery\u001b[0m\u001b[0;34m(\u001b[0m\u001b[0mx_k\u001b[0m\u001b[0;34m=\u001b[0m\u001b[0mx_0\u001b[0m\u001b[0;34m,\u001b[0m\u001b[0mf\u001b[0m\u001b[0;34m=\u001b[0m\u001b[0mf\u001b[0m\u001b[0;34m,\u001b[0m\u001b[0mgrad_k\u001b[0m\u001b[0;34m=\u001b[0m\u001b[0mg_0\u001b[0m\u001b[0;34m,\u001b[0m\u001b[0me_f\u001b[0m\u001b[0;34m=\u001b[0m\u001b[0me_f\u001b[0m\u001b[0;34m,\u001b[0m\u001b[0mh\u001b[0m\u001b[0;34m=\u001b[0m\u001b[0mh\u001b[0m\u001b[0;34m,\u001b[0m\u001b[0ml1\u001b[0m\u001b[0;34m=\u001b[0m\u001b[0;36m0.4\u001b[0m\u001b[0;34m,\u001b[0m\u001b[0ml2\u001b[0m\u001b[0;34m=\u001b[0m\u001b[0;36m2.5\u001b[0m\u001b[0;34m,\u001b[0m\u001b[0md_k\u001b[0m\u001b[0;34m=\u001b[0m\u001b[0md_k\u001b[0m\u001b[0;34m)\u001b[0m\u001b[0;34m\u001b[0m\u001b[0;34m\u001b[0m\u001b[0m\n\u001b[0m\u001b[1;32m     49\u001b[0m                 \u001b[0;31m#print(\"Cambiamos h! :\", h)\u001b[0m\u001b[0;34m\u001b[0m\u001b[0;34m\u001b[0m\u001b[0;34m\u001b[0m\u001b[0m\n\u001b[1;32m     50\u001b[0m                 \u001b[0miter_alpha\u001b[0m\u001b[0;34m+=\u001b[0m\u001b[0;36m1\u001b[0m\u001b[0;34m\u001b[0m\u001b[0;34m\u001b[0m\u001b[0m\n",
            "\u001b[0;32m<ipython-input-258-22d3b4834867>\u001b[0m in \u001b[0;36mrecovery\u001b[0;34m(x_k, f, grad_k, e_f, h, l1, l2, d_k, m)\u001b[0m\n\u001b[1;32m     12\u001b[0m             \u001b[0;32mreturn\u001b[0m \u001b[0mx_h\u001b[0m\u001b[0;34m,\u001b[0m\u001b[0me_f\u001b[0m\u001b[0;34m,\u001b[0m\u001b[0mh\u001b[0m\u001b[0;34m\u001b[0m\u001b[0;34m\u001b[0m\u001b[0m\n\u001b[1;32m     13\u001b[0m         \u001b[0;32melse\u001b[0m\u001b[0;34m:\u001b[0m\u001b[0;34m\u001b[0m\u001b[0;34m\u001b[0m\u001b[0m\n\u001b[0;32m---> 14\u001b[0;31m             \u001b[0mf_stencil\u001b[0m\u001b[0;34m=\u001b[0m\u001b[0;34m[\u001b[0m\u001b[0mf\u001b[0m\u001b[0;34m(\u001b[0m\u001b[0mx_k\u001b[0m\u001b[0;34m+\u001b[0m\u001b[0mh\u001b[0m\u001b[0;34m*\u001b[0m\u001b[0mnp\u001b[0m\u001b[0;34m.\u001b[0m\u001b[0meye\u001b[0m\u001b[0;34m(\u001b[0m\u001b[0;36m1\u001b[0m\u001b[0;34m,\u001b[0m\u001b[0mn\u001b[0m\u001b[0;34m,\u001b[0m\u001b[0mi\u001b[0m\u001b[0;34m)\u001b[0m\u001b[0;34m)\u001b[0m \u001b[0;32mfor\u001b[0m \u001b[0mi\u001b[0m \u001b[0;32min\u001b[0m \u001b[0mrange\u001b[0m\u001b[0;34m(\u001b[0m\u001b[0mn\u001b[0m\u001b[0;34m)\u001b[0m\u001b[0;34m]\u001b[0m\u001b[0;34m\u001b[0m\u001b[0;34m\u001b[0m\u001b[0m\n\u001b[0m\u001b[1;32m     15\u001b[0m             \u001b[0mx_s\u001b[0m\u001b[0;34m=\u001b[0m\u001b[0mx_k\u001b[0m\u001b[0;34m+\u001b[0m\u001b[0mh\u001b[0m\u001b[0;34m*\u001b[0m\u001b[0mnp\u001b[0m\u001b[0;34m.\u001b[0m\u001b[0meye\u001b[0m\u001b[0;34m(\u001b[0m\u001b[0;36m1\u001b[0m\u001b[0;34m,\u001b[0m\u001b[0mn\u001b[0m\u001b[0;34m,\u001b[0m\u001b[0mnp\u001b[0m\u001b[0;34m.\u001b[0m\u001b[0margmin\u001b[0m\u001b[0;34m(\u001b[0m\u001b[0mf_stencil\u001b[0m\u001b[0;34m)\u001b[0m\u001b[0;34m)\u001b[0m\u001b[0;34m\u001b[0m\u001b[0;34m\u001b[0m\u001b[0m\n\u001b[1;32m     16\u001b[0m             \u001b[0mf_s\u001b[0m\u001b[0;34m=\u001b[0m\u001b[0mf\u001b[0m\u001b[0;34m(\u001b[0m\u001b[0mx_s\u001b[0m\u001b[0;34m)\u001b[0m\u001b[0;34m\u001b[0m\u001b[0;34m\u001b[0m\u001b[0m\n",
            "\u001b[0;32m<ipython-input-258-22d3b4834867>\u001b[0m in \u001b[0;36m<listcomp>\u001b[0;34m(.0)\u001b[0m\n\u001b[1;32m     12\u001b[0m             \u001b[0;32mreturn\u001b[0m \u001b[0mx_h\u001b[0m\u001b[0;34m,\u001b[0m\u001b[0me_f\u001b[0m\u001b[0;34m,\u001b[0m\u001b[0mh\u001b[0m\u001b[0;34m\u001b[0m\u001b[0;34m\u001b[0m\u001b[0m\n\u001b[1;32m     13\u001b[0m         \u001b[0;32melse\u001b[0m\u001b[0;34m:\u001b[0m\u001b[0;34m\u001b[0m\u001b[0;34m\u001b[0m\u001b[0m\n\u001b[0;32m---> 14\u001b[0;31m             \u001b[0mf_stencil\u001b[0m\u001b[0;34m=\u001b[0m\u001b[0;34m[\u001b[0m\u001b[0mf\u001b[0m\u001b[0;34m(\u001b[0m\u001b[0mx_k\u001b[0m\u001b[0;34m+\u001b[0m\u001b[0mh\u001b[0m\u001b[0;34m*\u001b[0m\u001b[0mnp\u001b[0m\u001b[0;34m.\u001b[0m\u001b[0meye\u001b[0m\u001b[0;34m(\u001b[0m\u001b[0;36m1\u001b[0m\u001b[0;34m,\u001b[0m\u001b[0mn\u001b[0m\u001b[0;34m,\u001b[0m\u001b[0mi\u001b[0m\u001b[0;34m)\u001b[0m\u001b[0;34m)\u001b[0m \u001b[0;32mfor\u001b[0m \u001b[0mi\u001b[0m \u001b[0;32min\u001b[0m \u001b[0mrange\u001b[0m\u001b[0;34m(\u001b[0m\u001b[0mn\u001b[0m\u001b[0;34m)\u001b[0m\u001b[0;34m]\u001b[0m\u001b[0;34m\u001b[0m\u001b[0;34m\u001b[0m\u001b[0m\n\u001b[0m\u001b[1;32m     15\u001b[0m             \u001b[0mx_s\u001b[0m\u001b[0;34m=\u001b[0m\u001b[0mx_k\u001b[0m\u001b[0;34m+\u001b[0m\u001b[0mh\u001b[0m\u001b[0;34m*\u001b[0m\u001b[0mnp\u001b[0m\u001b[0;34m.\u001b[0m\u001b[0meye\u001b[0m\u001b[0;34m(\u001b[0m\u001b[0;36m1\u001b[0m\u001b[0;34m,\u001b[0m\u001b[0mn\u001b[0m\u001b[0;34m,\u001b[0m\u001b[0mnp\u001b[0m\u001b[0;34m.\u001b[0m\u001b[0margmin\u001b[0m\u001b[0;34m(\u001b[0m\u001b[0mf_stencil\u001b[0m\u001b[0;34m)\u001b[0m\u001b[0;34m)\u001b[0m\u001b[0;34m\u001b[0m\u001b[0;34m\u001b[0m\u001b[0m\n\u001b[1;32m     16\u001b[0m             \u001b[0mf_s\u001b[0m\u001b[0;34m=\u001b[0m\u001b[0mf\u001b[0m\u001b[0;34m(\u001b[0m\u001b[0mx_s\u001b[0m\u001b[0;34m)\u001b[0m\u001b[0;34m\u001b[0m\u001b[0;34m\u001b[0m\u001b[0m\n",
            "\u001b[0;32m<ipython-input-261-5c7cfb31683e>\u001b[0m in \u001b[0;36mp_204\u001b[0;34m(X)\u001b[0m\n\u001b[1;32m      4\u001b[0m     \u001b[0mH\u001b[0m\u001b[0;34m=\u001b[0m\u001b[0mnp\u001b[0m\u001b[0;34m.\u001b[0m\u001b[0marray\u001b[0m\u001b[0;34m(\u001b[0m\u001b[0;34m[\u001b[0m\u001b[0;34m[\u001b[0m\u001b[0;34m-\u001b[0m\u001b[0;36m0.564255\u001b[0m \u001b[0;34m,\u001b[0m\u001b[0;36m0.392417\u001b[0m\u001b[0;34m]\u001b[0m\u001b[0;34m,\u001b[0m \u001b[0;34m[\u001b[0m \u001b[0;34m-\u001b[0m\u001b[0;36m0.404979\u001b[0m\u001b[0;34m,\u001b[0m \u001b[0;36m0.927589\u001b[0m\u001b[0;34m]\u001b[0m\u001b[0;34m,\u001b[0m \u001b[0;34m[\u001b[0m\u001b[0;34m-\u001b[0m\u001b[0;36m0.0735084\u001b[0m \u001b[0;34m,\u001b[0m\u001b[0;36m0.535493\u001b[0m\u001b[0;34m]\u001b[0m\u001b[0;34m]\u001b[0m \u001b[0;34m)\u001b[0m\u001b[0;34m\u001b[0m\u001b[0;34m\u001b[0m\u001b[0m\n\u001b[1;32m      5\u001b[0m     \u001b[0mB\u001b[0m\u001b[0;34m=\u001b[0m\u001b[0mnp\u001b[0m\u001b[0;34m.\u001b[0m\u001b[0mlinalg\u001b[0m\u001b[0;34m.\u001b[0m\u001b[0minv\u001b[0m\u001b[0;34m(\u001b[0m\u001b[0mnp\u001b[0m\u001b[0;34m.\u001b[0m\u001b[0mdot\u001b[0m\u001b[0;34m(\u001b[0m\u001b[0mH\u001b[0m\u001b[0;34m.\u001b[0m\u001b[0mT\u001b[0m\u001b[0;34m,\u001b[0m\u001b[0mH\u001b[0m\u001b[0;34m)\u001b[0m\u001b[0;34m)\u001b[0m\u001b[0;34m\u001b[0m\u001b[0;34m\u001b[0m\u001b[0m\n\u001b[0;32m----> 6\u001b[0;31m     \u001b[0mF\u001b[0m\u001b[0;34m=\u001b[0m\u001b[0mA\u001b[0m\u001b[0;34m+\u001b[0m\u001b[0mnp\u001b[0m\u001b[0;34m.\u001b[0m\u001b[0mdot\u001b[0m\u001b[0;34m(\u001b[0m\u001b[0mH\u001b[0m\u001b[0;34m,\u001b[0m\u001b[0mX\u001b[0m\u001b[0;34m)\u001b[0m\u001b[0;34m+\u001b[0m\u001b[0;36m0.5\u001b[0m\u001b[0;34m*\u001b[0m\u001b[0mnp\u001b[0m\u001b[0;34m.\u001b[0m\u001b[0mdot\u001b[0m\u001b[0;34m(\u001b[0m\u001b[0mX\u001b[0m\u001b[0;34m,\u001b[0m\u001b[0mnp\u001b[0m\u001b[0;34m.\u001b[0m\u001b[0mdot\u001b[0m\u001b[0;34m(\u001b[0m\u001b[0mB\u001b[0m\u001b[0;34m,\u001b[0m\u001b[0mX\u001b[0m\u001b[0;34m)\u001b[0m\u001b[0;34m)\u001b[0m\u001b[0;34m*\u001b[0m\u001b[0mD\u001b[0m\u001b[0;34m\u001b[0m\u001b[0;34m\u001b[0m\u001b[0m\n\u001b[0m\u001b[1;32m      7\u001b[0m     \u001b[0;32mreturn\u001b[0m \u001b[0mnp\u001b[0m\u001b[0;34m.\u001b[0m\u001b[0mdot\u001b[0m\u001b[0;34m(\u001b[0m\u001b[0mF\u001b[0m\u001b[0;34m,\u001b[0m\u001b[0mF\u001b[0m\u001b[0;34m)\u001b[0m\u001b[0;34m+\u001b[0m\u001b[0mnp\u001b[0m\u001b[0;34m.\u001b[0m\u001b[0mrandom\u001b[0m\u001b[0;34m.\u001b[0m\u001b[0muniform\u001b[0m\u001b[0;34m(\u001b[0m\u001b[0;34m-\u001b[0m\u001b[0;36m10\u001b[0m\u001b[0;34m**\u001b[0m\u001b[0;34m(\u001b[0m\u001b[0;34m-\u001b[0m\u001b[0;36m2\u001b[0m\u001b[0;34m)\u001b[0m\u001b[0;34m,\u001b[0m\u001b[0;36m10\u001b[0m\u001b[0;34m**\u001b[0m\u001b[0;34m(\u001b[0m\u001b[0;34m-\u001b[0m\u001b[0;36m2\u001b[0m\u001b[0;34m)\u001b[0m\u001b[0;34m)\u001b[0m\u001b[0;34m\u001b[0m\u001b[0;34m\u001b[0m\u001b[0m\n\u001b[1;32m      8\u001b[0m \u001b[0mp_204\u001b[0m\u001b[0;34m(\u001b[0m\u001b[0;34m[\u001b[0m\u001b[0;36m1\u001b[0m\u001b[0;34m,\u001b[0m\u001b[0;36m1\u001b[0m\u001b[0;34m]\u001b[0m\u001b[0;34m)\u001b[0m\u001b[0;34m\u001b[0m\u001b[0;34m\u001b[0m\u001b[0m\n",
            "\u001b[0;32m<__array_function__ internals>\u001b[0m in \u001b[0;36mdot\u001b[0;34m(*args, **kwargs)\u001b[0m\n",
            "\u001b[0;31mValueError\u001b[0m: shapes (3,2) and (1,2) not aligned: 2 (dim 1) != 1 (dim 0)"
          ]
        }
      ]
    },
    {
      "cell_type": "code",
      "source": [
        "funciones=[p_204,p_205,p_206,p_212,p_214]\n",
        "x_initial=[np.array([0.1,0.1] ),np.array([0.1,0.] ),[-1.2,1],[2,0],[-1.2,1]]\n",
        "noise_type=['additive']\n",
        "eps=10**(-2)\n",
        "n=5\n",
        "for i in range(len(funciones)):\n",
        "    f=funciones[i]\n",
        "    x_0=x_initial[i]\n",
        "    for noise in noise_type:\n",
        "        def f_1(x):\n",
        "            return f_noise(f=f,x=x,noise=noise)\n",
        "        x_opt=find_minimum(f=f_1,x_0=x_0,tol_g=10**(-2),max_iter=2*10**4,alpha_max_iter=10)"
      ],
      "metadata": {
        "id": "7haJT0uCRyGw",
        "outputId": "a85bf522-3ac1-4a2e-f67e-97c531886d01",
        "colab": {
          "base_uri": "https://localhost:8080/",
          "height": 504
        }
      },
      "execution_count": 236,
      "outputs": [
        {
          "output_type": "stream",
          "name": "stdout",
          "text": [
            "No hay regla de decision\n",
            "h:  0.005734639334368767\n"
          ]
        },
        {
          "output_type": "stream",
          "name": "stderr",
          "text": [
            "/usr/local/lib/python3.7/dist-packages/ipykernel_launcher.py:9: RuntimeWarning: invalid value encountered in true_divide\n",
            "  if __name__ == '__main__':\n"
          ]
        },
        {
          "output_type": "error",
          "ename": "ValueError",
          "evalue": "ignored",
          "traceback": [
            "\u001b[0;31m---------------------------------------------------------------------------\u001b[0m",
            "\u001b[0;31mValueError\u001b[0m                                Traceback (most recent call last)",
            "\u001b[0;32m<ipython-input-236-60784c1e7b30>\u001b[0m in \u001b[0;36m<module>\u001b[0;34m()\u001b[0m\n\u001b[1;32m     10\u001b[0m         \u001b[0;32mdef\u001b[0m \u001b[0mf_1\u001b[0m\u001b[0;34m(\u001b[0m\u001b[0mx\u001b[0m\u001b[0;34m)\u001b[0m\u001b[0;34m:\u001b[0m\u001b[0;34m\u001b[0m\u001b[0;34m\u001b[0m\u001b[0m\n\u001b[1;32m     11\u001b[0m             \u001b[0;32mreturn\u001b[0m \u001b[0mf_noise\u001b[0m\u001b[0;34m(\u001b[0m\u001b[0mf\u001b[0m\u001b[0;34m=\u001b[0m\u001b[0mf\u001b[0m\u001b[0;34m,\u001b[0m\u001b[0mx\u001b[0m\u001b[0;34m=\u001b[0m\u001b[0mx\u001b[0m\u001b[0;34m,\u001b[0m\u001b[0mnoise\u001b[0m\u001b[0;34m=\u001b[0m\u001b[0mnoise\u001b[0m\u001b[0;34m)\u001b[0m\u001b[0;34m\u001b[0m\u001b[0;34m\u001b[0m\u001b[0m\n\u001b[0;32m---> 12\u001b[0;31m         \u001b[0mx_opt\u001b[0m\u001b[0;34m=\u001b[0m\u001b[0mfind_minimum\u001b[0m\u001b[0;34m(\u001b[0m\u001b[0mf\u001b[0m\u001b[0;34m=\u001b[0m\u001b[0mf_1\u001b[0m\u001b[0;34m,\u001b[0m\u001b[0mx_0\u001b[0m\u001b[0;34m=\u001b[0m\u001b[0mx_0\u001b[0m\u001b[0;34m,\u001b[0m\u001b[0mtol_g\u001b[0m\u001b[0;34m=\u001b[0m\u001b[0;36m10\u001b[0m\u001b[0;34m**\u001b[0m\u001b[0;34m(\u001b[0m\u001b[0;34m-\u001b[0m\u001b[0;36m2\u001b[0m\u001b[0;34m)\u001b[0m\u001b[0;34m,\u001b[0m\u001b[0mmax_iter\u001b[0m\u001b[0;34m=\u001b[0m\u001b[0;36m2\u001b[0m\u001b[0;34m*\u001b[0m\u001b[0;36m10\u001b[0m\u001b[0;34m**\u001b[0m\u001b[0;36m4\u001b[0m\u001b[0;34m,\u001b[0m\u001b[0malpha_max_iter\u001b[0m\u001b[0;34m=\u001b[0m\u001b[0;36m10\u001b[0m\u001b[0;34m)\u001b[0m\u001b[0;34m\u001b[0m\u001b[0;34m\u001b[0m\u001b[0m\n\u001b[0m",
            "\u001b[0;32m<ipython-input-232-3c9760d30401>\u001b[0m in \u001b[0;36mfind_minimum\u001b[0;34m(f, x_0, tol_g, max_iter, alpha_max_iter)\u001b[0m\n\u001b[1;32m     46\u001b[0m                 \u001b[0;32mbreak\u001b[0m\u001b[0;34m\u001b[0m\u001b[0;34m\u001b[0m\u001b[0m\n\u001b[1;32m     47\u001b[0m             \u001b[0;32melse\u001b[0m\u001b[0;34m:\u001b[0m\u001b[0;34m\u001b[0m\u001b[0;34m\u001b[0m\u001b[0m\n\u001b[0;32m---> 48\u001b[0;31m                 \u001b[0mx_k\u001b[0m\u001b[0;34m,\u001b[0m\u001b[0me_f\u001b[0m\u001b[0;34m,\u001b[0m\u001b[0mh\u001b[0m\u001b[0;34m=\u001b[0m\u001b[0mrecovery\u001b[0m\u001b[0;34m(\u001b[0m\u001b[0mx_k\u001b[0m\u001b[0;34m=\u001b[0m\u001b[0mx_0\u001b[0m\u001b[0;34m,\u001b[0m\u001b[0mf\u001b[0m\u001b[0;34m=\u001b[0m\u001b[0mf\u001b[0m\u001b[0;34m,\u001b[0m\u001b[0mgrad_k\u001b[0m\u001b[0;34m=\u001b[0m\u001b[0mg_0\u001b[0m\u001b[0;34m,\u001b[0m\u001b[0me_f\u001b[0m\u001b[0;34m=\u001b[0m\u001b[0me_f\u001b[0m\u001b[0;34m,\u001b[0m\u001b[0mh\u001b[0m\u001b[0;34m=\u001b[0m\u001b[0mh\u001b[0m\u001b[0;34m,\u001b[0m\u001b[0ml1\u001b[0m\u001b[0;34m=\u001b[0m\u001b[0;36m0.4\u001b[0m\u001b[0;34m,\u001b[0m\u001b[0ml2\u001b[0m\u001b[0;34m=\u001b[0m\u001b[0;36m2.5\u001b[0m\u001b[0;34m,\u001b[0m\u001b[0md_k\u001b[0m\u001b[0;34m=\u001b[0m\u001b[0md_k\u001b[0m\u001b[0;34m)\u001b[0m\u001b[0;34m\u001b[0m\u001b[0;34m\u001b[0m\u001b[0m\n\u001b[0m\u001b[1;32m     49\u001b[0m                 \u001b[0;31m#print(\"Cambiamos h! :\", h)\u001b[0m\u001b[0;34m\u001b[0m\u001b[0;34m\u001b[0m\u001b[0;34m\u001b[0m\u001b[0m\n\u001b[1;32m     50\u001b[0m                 \u001b[0miter_alpha\u001b[0m\u001b[0;34m+=\u001b[0m\u001b[0;36m1\u001b[0m\u001b[0;34m\u001b[0m\u001b[0;34m\u001b[0m\u001b[0m\n",
            "\u001b[0;32m<ipython-input-207-35378b7d0b40>\u001b[0m in \u001b[0;36mrecovery\u001b[0;34m(x_k, f, grad_k, e_f, h, l1, l2, d_k, m)\u001b[0m\n\u001b[1;32m     13\u001b[0m             \u001b[0;32mreturn\u001b[0m \u001b[0mx_h\u001b[0m\u001b[0;34m,\u001b[0m\u001b[0me_f\u001b[0m\u001b[0;34m,\u001b[0m\u001b[0mh\u001b[0m\u001b[0;34m\u001b[0m\u001b[0;34m\u001b[0m\u001b[0m\n\u001b[1;32m     14\u001b[0m         \u001b[0;32melse\u001b[0m\u001b[0;34m:\u001b[0m\u001b[0;34m\u001b[0m\u001b[0;34m\u001b[0m\u001b[0m\n\u001b[0;32m---> 15\u001b[0;31m             \u001b[0mf_stencil\u001b[0m\u001b[0;34m=\u001b[0m\u001b[0;34m[\u001b[0m\u001b[0mf\u001b[0m\u001b[0;34m(\u001b[0m\u001b[0mx_k\u001b[0m\u001b[0;34m+\u001b[0m\u001b[0mh\u001b[0m\u001b[0;34m*\u001b[0m\u001b[0mnp\u001b[0m\u001b[0;34m.\u001b[0m\u001b[0meye\u001b[0m\u001b[0;34m(\u001b[0m\u001b[0;36m1\u001b[0m\u001b[0;34m,\u001b[0m\u001b[0mn\u001b[0m\u001b[0;34m,\u001b[0m\u001b[0mi\u001b[0m\u001b[0;34m)\u001b[0m\u001b[0;34m)\u001b[0m \u001b[0;32mfor\u001b[0m \u001b[0mi\u001b[0m \u001b[0;32min\u001b[0m \u001b[0mrange\u001b[0m\u001b[0;34m(\u001b[0m\u001b[0mn\u001b[0m\u001b[0;34m)\u001b[0m\u001b[0;34m]\u001b[0m\u001b[0;34m\u001b[0m\u001b[0;34m\u001b[0m\u001b[0m\n\u001b[0m\u001b[1;32m     16\u001b[0m             \u001b[0mx_s\u001b[0m\u001b[0;34m=\u001b[0m\u001b[0mx_k\u001b[0m\u001b[0;34m+\u001b[0m\u001b[0mh\u001b[0m\u001b[0;34m*\u001b[0m\u001b[0mnp\u001b[0m\u001b[0;34m.\u001b[0m\u001b[0meye\u001b[0m\u001b[0;34m(\u001b[0m\u001b[0;36m1\u001b[0m\u001b[0;34m,\u001b[0m\u001b[0mn\u001b[0m\u001b[0;34m,\u001b[0m\u001b[0mnp\u001b[0m\u001b[0;34m.\u001b[0m\u001b[0margmin\u001b[0m\u001b[0;34m(\u001b[0m\u001b[0mf_stencil\u001b[0m\u001b[0;34m)\u001b[0m\u001b[0;34m)\u001b[0m\u001b[0;34m\u001b[0m\u001b[0;34m\u001b[0m\u001b[0m\n\u001b[1;32m     17\u001b[0m             \u001b[0mf_s\u001b[0m\u001b[0;34m=\u001b[0m\u001b[0mf\u001b[0m\u001b[0;34m(\u001b[0m\u001b[0mx_s\u001b[0m\u001b[0;34m)\u001b[0m\u001b[0;34m\u001b[0m\u001b[0;34m\u001b[0m\u001b[0m\n",
            "\u001b[0;32m<ipython-input-207-35378b7d0b40>\u001b[0m in \u001b[0;36m<listcomp>\u001b[0;34m(.0)\u001b[0m\n\u001b[1;32m     13\u001b[0m             \u001b[0;32mreturn\u001b[0m \u001b[0mx_h\u001b[0m\u001b[0;34m,\u001b[0m\u001b[0me_f\u001b[0m\u001b[0;34m,\u001b[0m\u001b[0mh\u001b[0m\u001b[0;34m\u001b[0m\u001b[0;34m\u001b[0m\u001b[0m\n\u001b[1;32m     14\u001b[0m         \u001b[0;32melse\u001b[0m\u001b[0;34m:\u001b[0m\u001b[0;34m\u001b[0m\u001b[0;34m\u001b[0m\u001b[0m\n\u001b[0;32m---> 15\u001b[0;31m             \u001b[0mf_stencil\u001b[0m\u001b[0;34m=\u001b[0m\u001b[0;34m[\u001b[0m\u001b[0mf\u001b[0m\u001b[0;34m(\u001b[0m\u001b[0mx_k\u001b[0m\u001b[0;34m+\u001b[0m\u001b[0mh\u001b[0m\u001b[0;34m*\u001b[0m\u001b[0mnp\u001b[0m\u001b[0;34m.\u001b[0m\u001b[0meye\u001b[0m\u001b[0;34m(\u001b[0m\u001b[0;36m1\u001b[0m\u001b[0;34m,\u001b[0m\u001b[0mn\u001b[0m\u001b[0;34m,\u001b[0m\u001b[0mi\u001b[0m\u001b[0;34m)\u001b[0m\u001b[0;34m)\u001b[0m \u001b[0;32mfor\u001b[0m \u001b[0mi\u001b[0m \u001b[0;32min\u001b[0m \u001b[0mrange\u001b[0m\u001b[0;34m(\u001b[0m\u001b[0mn\u001b[0m\u001b[0;34m)\u001b[0m\u001b[0;34m]\u001b[0m\u001b[0;34m\u001b[0m\u001b[0;34m\u001b[0m\u001b[0m\n\u001b[0m\u001b[1;32m     16\u001b[0m             \u001b[0mx_s\u001b[0m\u001b[0;34m=\u001b[0m\u001b[0mx_k\u001b[0m\u001b[0;34m+\u001b[0m\u001b[0mh\u001b[0m\u001b[0;34m*\u001b[0m\u001b[0mnp\u001b[0m\u001b[0;34m.\u001b[0m\u001b[0meye\u001b[0m\u001b[0;34m(\u001b[0m\u001b[0;36m1\u001b[0m\u001b[0;34m,\u001b[0m\u001b[0mn\u001b[0m\u001b[0;34m,\u001b[0m\u001b[0mnp\u001b[0m\u001b[0;34m.\u001b[0m\u001b[0margmin\u001b[0m\u001b[0;34m(\u001b[0m\u001b[0mf_stencil\u001b[0m\u001b[0;34m)\u001b[0m\u001b[0;34m)\u001b[0m\u001b[0;34m\u001b[0m\u001b[0;34m\u001b[0m\u001b[0m\n\u001b[1;32m     17\u001b[0m             \u001b[0mf_s\u001b[0m\u001b[0;34m=\u001b[0m\u001b[0mf\u001b[0m\u001b[0;34m(\u001b[0m\u001b[0mx_s\u001b[0m\u001b[0;34m)\u001b[0m\u001b[0;34m\u001b[0m\u001b[0;34m\u001b[0m\u001b[0m\n",
            "\u001b[0;32m<ipython-input-236-60784c1e7b30>\u001b[0m in \u001b[0;36mf_1\u001b[0;34m(x)\u001b[0m\n\u001b[1;32m      9\u001b[0m     \u001b[0;32mfor\u001b[0m \u001b[0mnoise\u001b[0m \u001b[0;32min\u001b[0m \u001b[0mnoise_type\u001b[0m\u001b[0;34m:\u001b[0m\u001b[0;34m\u001b[0m\u001b[0;34m\u001b[0m\u001b[0m\n\u001b[1;32m     10\u001b[0m         \u001b[0;32mdef\u001b[0m \u001b[0mf_1\u001b[0m\u001b[0;34m(\u001b[0m\u001b[0mx\u001b[0m\u001b[0;34m)\u001b[0m\u001b[0;34m:\u001b[0m\u001b[0;34m\u001b[0m\u001b[0;34m\u001b[0m\u001b[0m\n\u001b[0;32m---> 11\u001b[0;31m             \u001b[0;32mreturn\u001b[0m \u001b[0mf_noise\u001b[0m\u001b[0;34m(\u001b[0m\u001b[0mf\u001b[0m\u001b[0;34m=\u001b[0m\u001b[0mf\u001b[0m\u001b[0;34m,\u001b[0m\u001b[0mx\u001b[0m\u001b[0;34m=\u001b[0m\u001b[0mx\u001b[0m\u001b[0;34m,\u001b[0m\u001b[0mnoise\u001b[0m\u001b[0;34m=\u001b[0m\u001b[0mnoise\u001b[0m\u001b[0;34m)\u001b[0m\u001b[0;34m\u001b[0m\u001b[0;34m\u001b[0m\u001b[0m\n\u001b[0m\u001b[1;32m     12\u001b[0m         \u001b[0mx_opt\u001b[0m\u001b[0;34m=\u001b[0m\u001b[0mfind_minimum\u001b[0m\u001b[0;34m(\u001b[0m\u001b[0mf\u001b[0m\u001b[0;34m=\u001b[0m\u001b[0mf_1\u001b[0m\u001b[0;34m,\u001b[0m\u001b[0mx_0\u001b[0m\u001b[0;34m=\u001b[0m\u001b[0mx_0\u001b[0m\u001b[0;34m,\u001b[0m\u001b[0mtol_g\u001b[0m\u001b[0;34m=\u001b[0m\u001b[0;36m10\u001b[0m\u001b[0;34m**\u001b[0m\u001b[0;34m(\u001b[0m\u001b[0;34m-\u001b[0m\u001b[0;36m2\u001b[0m\u001b[0;34m)\u001b[0m\u001b[0;34m,\u001b[0m\u001b[0mmax_iter\u001b[0m\u001b[0;34m=\u001b[0m\u001b[0;36m2\u001b[0m\u001b[0;34m*\u001b[0m\u001b[0;36m10\u001b[0m\u001b[0;34m**\u001b[0m\u001b[0;36m4\u001b[0m\u001b[0;34m,\u001b[0m\u001b[0malpha_max_iter\u001b[0m\u001b[0;34m=\u001b[0m\u001b[0;36m10\u001b[0m\u001b[0;34m)\u001b[0m\u001b[0;34m\u001b[0m\u001b[0;34m\u001b[0m\u001b[0m\n",
            "\u001b[0;32m<ipython-input-141-8127e75b98fb>\u001b[0m in \u001b[0;36mf_noise\u001b[0;34m(f, x, noise)\u001b[0m\n\u001b[1;32m      1\u001b[0m \u001b[0;32mdef\u001b[0m \u001b[0mf_noise\u001b[0m\u001b[0;34m(\u001b[0m\u001b[0mf\u001b[0m\u001b[0;34m,\u001b[0m\u001b[0mx\u001b[0m\u001b[0;34m,\u001b[0m\u001b[0mnoise\u001b[0m\u001b[0;34m)\u001b[0m\u001b[0;34m:\u001b[0m\u001b[0;34m\u001b[0m\u001b[0;34m\u001b[0m\u001b[0m\n\u001b[1;32m      2\u001b[0m         \u001b[0;32mif\u001b[0m\u001b[0;34m(\u001b[0m\u001b[0mnoise\u001b[0m\u001b[0;34m==\u001b[0m\u001b[0;34m'additive'\u001b[0m\u001b[0;34m)\u001b[0m\u001b[0;34m:\u001b[0m\u001b[0;34m\u001b[0m\u001b[0;34m\u001b[0m\u001b[0m\n\u001b[0;32m----> 3\u001b[0;31m             \u001b[0;32mreturn\u001b[0m \u001b[0madditive_noise\u001b[0m\u001b[0;34m(\u001b[0m\u001b[0mf\u001b[0m\u001b[0;34m=\u001b[0m\u001b[0mf\u001b[0m\u001b[0;34m,\u001b[0m\u001b[0meps\u001b[0m\u001b[0;34m=\u001b[0m\u001b[0meps\u001b[0m\u001b[0;34m,\u001b[0m\u001b[0mx\u001b[0m\u001b[0;34m=\u001b[0m\u001b[0mx\u001b[0m\u001b[0;34m)\u001b[0m\u001b[0;34m\u001b[0m\u001b[0;34m\u001b[0m\u001b[0m\n\u001b[0m\u001b[1;32m      4\u001b[0m         \u001b[0;32mif\u001b[0m\u001b[0;34m(\u001b[0m\u001b[0mnoise\u001b[0m\u001b[0;34m==\u001b[0m\u001b[0;34m'multiplicative'\u001b[0m\u001b[0;34m)\u001b[0m\u001b[0;34m:\u001b[0m\u001b[0;34m\u001b[0m\u001b[0;34m\u001b[0m\u001b[0m\n\u001b[1;32m      5\u001b[0m             \u001b[0;32mreturn\u001b[0m \u001b[0mmultiplicative_noise\u001b[0m\u001b[0;34m(\u001b[0m\u001b[0mf\u001b[0m\u001b[0;34m=\u001b[0m\u001b[0mf\u001b[0m\u001b[0;34m,\u001b[0m\u001b[0meps\u001b[0m\u001b[0;34m=\u001b[0m\u001b[0meps\u001b[0m\u001b[0;34m,\u001b[0m\u001b[0mx\u001b[0m\u001b[0;34m=\u001b[0m\u001b[0mx\u001b[0m\u001b[0;34m)\u001b[0m\u001b[0;34m\u001b[0m\u001b[0;34m\u001b[0m\u001b[0m\n",
            "\u001b[0;32m<ipython-input-224-085b4129323d>\u001b[0m in \u001b[0;36madditive_noise\u001b[0;34m(f, eps, x, label)\u001b[0m\n\u001b[1;32m      4\u001b[0m     \u001b[0;32mif\u001b[0m\u001b[0;34m(\u001b[0m\u001b[0mlabel\u001b[0m\u001b[0;34m==\u001b[0m\u001b[0;34m'stochastic'\u001b[0m\u001b[0;34m)\u001b[0m\u001b[0;34m:\u001b[0m\u001b[0;34m\u001b[0m\u001b[0;34m\u001b[0m\u001b[0m\n\u001b[1;32m      5\u001b[0m         \u001b[0mu\u001b[0m\u001b[0;34m=\u001b[0m\u001b[0mnp\u001b[0m\u001b[0;34m.\u001b[0m\u001b[0mrandom\u001b[0m\u001b[0;34m.\u001b[0m\u001b[0muniform\u001b[0m\u001b[0;34m(\u001b[0m\u001b[0;34m-\u001b[0m\u001b[0meps\u001b[0m\u001b[0;34m,\u001b[0m\u001b[0meps\u001b[0m\u001b[0;34m)\u001b[0m\u001b[0;34m\u001b[0m\u001b[0;34m\u001b[0m\u001b[0m\n\u001b[0;32m----> 6\u001b[0;31m     \u001b[0;32mreturn\u001b[0m\u001b[0;34m(\u001b[0m\u001b[0mf\u001b[0m\u001b[0;34m(\u001b[0m\u001b[0mx\u001b[0m\u001b[0;34m)\u001b[0m\u001b[0;34m+\u001b[0m\u001b[0mu\u001b[0m\u001b[0;34m)\u001b[0m\u001b[0;34m\u001b[0m\u001b[0;34m\u001b[0m\u001b[0m\n\u001b[0m\u001b[1;32m      7\u001b[0m \u001b[0;32mdef\u001b[0m \u001b[0mmultiplicative_noise\u001b[0m\u001b[0;34m(\u001b[0m\u001b[0mf\u001b[0m\u001b[0;34m,\u001b[0m\u001b[0meps\u001b[0m\u001b[0;34m,\u001b[0m\u001b[0mx\u001b[0m\u001b[0;34m,\u001b[0m\u001b[0mlabel\u001b[0m\u001b[0;34m=\u001b[0m\u001b[0;34m'stochastic'\u001b[0m\u001b[0;34m)\u001b[0m\u001b[0;34m:\u001b[0m\u001b[0;34m\u001b[0m\u001b[0;34m\u001b[0m\u001b[0m\n\u001b[1;32m      8\u001b[0m     \u001b[0;32mif\u001b[0m\u001b[0;34m(\u001b[0m\u001b[0mlabel\u001b[0m\u001b[0;34m==\u001b[0m\u001b[0;34m'deterministic'\u001b[0m\u001b[0;34m)\u001b[0m\u001b[0;34m:\u001b[0m\u001b[0;34m\u001b[0m\u001b[0;34m\u001b[0m\u001b[0m\n",
            "\u001b[0;32m<ipython-input-234-7f7db28ac591>\u001b[0m in \u001b[0;36mp_204\u001b[0;34m(X)\u001b[0m\n\u001b[1;32m      4\u001b[0m     \u001b[0mH\u001b[0m\u001b[0;34m=\u001b[0m\u001b[0mnp\u001b[0m\u001b[0;34m.\u001b[0m\u001b[0marray\u001b[0m\u001b[0;34m(\u001b[0m\u001b[0;34m[\u001b[0m\u001b[0;34m[\u001b[0m\u001b[0;34m-\u001b[0m\u001b[0;36m0.564255\u001b[0m \u001b[0;34m,\u001b[0m\u001b[0;36m0.392417\u001b[0m\u001b[0;34m]\u001b[0m\u001b[0;34m,\u001b[0m \u001b[0;34m[\u001b[0m \u001b[0;34m-\u001b[0m\u001b[0;36m0.404979\u001b[0m\u001b[0;34m,\u001b[0m \u001b[0;36m0.927589\u001b[0m\u001b[0;34m]\u001b[0m\u001b[0;34m,\u001b[0m \u001b[0;34m[\u001b[0m\u001b[0;34m-\u001b[0m\u001b[0;36m0.0735084\u001b[0m \u001b[0;34m,\u001b[0m\u001b[0;36m0.535493\u001b[0m\u001b[0;34m]\u001b[0m\u001b[0;34m]\u001b[0m \u001b[0;34m)\u001b[0m\u001b[0;34m\u001b[0m\u001b[0;34m\u001b[0m\u001b[0m\n\u001b[1;32m      5\u001b[0m     \u001b[0mB\u001b[0m\u001b[0;34m=\u001b[0m\u001b[0mnp\u001b[0m\u001b[0;34m.\u001b[0m\u001b[0mlinalg\u001b[0m\u001b[0;34m.\u001b[0m\u001b[0minv\u001b[0m\u001b[0;34m(\u001b[0m\u001b[0mnp\u001b[0m\u001b[0;34m.\u001b[0m\u001b[0mdot\u001b[0m\u001b[0;34m(\u001b[0m\u001b[0mH\u001b[0m\u001b[0;34m.\u001b[0m\u001b[0mT\u001b[0m\u001b[0;34m,\u001b[0m\u001b[0mH\u001b[0m\u001b[0;34m)\u001b[0m\u001b[0;34m)\u001b[0m\u001b[0;34m\u001b[0m\u001b[0;34m\u001b[0m\u001b[0m\n\u001b[0;32m----> 6\u001b[0;31m     \u001b[0mF\u001b[0m\u001b[0;34m=\u001b[0m\u001b[0mA\u001b[0m\u001b[0;34m+\u001b[0m\u001b[0mnp\u001b[0m\u001b[0;34m.\u001b[0m\u001b[0mdot\u001b[0m\u001b[0;34m(\u001b[0m\u001b[0mH\u001b[0m\u001b[0;34m,\u001b[0m\u001b[0mX\u001b[0m\u001b[0;34m)\u001b[0m\u001b[0;34m+\u001b[0m\u001b[0;36m0.5\u001b[0m\u001b[0;34m*\u001b[0m\u001b[0mnp\u001b[0m\u001b[0;34m.\u001b[0m\u001b[0mdot\u001b[0m\u001b[0;34m(\u001b[0m\u001b[0mX\u001b[0m\u001b[0;34m,\u001b[0m\u001b[0mnp\u001b[0m\u001b[0;34m.\u001b[0m\u001b[0mdot\u001b[0m\u001b[0;34m(\u001b[0m\u001b[0mB\u001b[0m\u001b[0;34m,\u001b[0m\u001b[0mX\u001b[0m\u001b[0;34m)\u001b[0m\u001b[0;34m)\u001b[0m\u001b[0;34m*\u001b[0m\u001b[0mD\u001b[0m\u001b[0;34m\u001b[0m\u001b[0;34m\u001b[0m\u001b[0m\n\u001b[0m\u001b[1;32m      7\u001b[0m     \u001b[0;32mreturn\u001b[0m \u001b[0mnp\u001b[0m\u001b[0;34m.\u001b[0m\u001b[0mdot\u001b[0m\u001b[0;34m(\u001b[0m\u001b[0mF\u001b[0m\u001b[0;34m,\u001b[0m\u001b[0mF\u001b[0m\u001b[0;34m)\u001b[0m\u001b[0;34m\u001b[0m\u001b[0;34m\u001b[0m\u001b[0m\n\u001b[1;32m      8\u001b[0m \u001b[0mp_204\u001b[0m\u001b[0;34m(\u001b[0m\u001b[0;34m[\u001b[0m\u001b[0;36m1\u001b[0m\u001b[0;34m,\u001b[0m\u001b[0;36m1\u001b[0m\u001b[0;34m]\u001b[0m\u001b[0;34m)\u001b[0m\u001b[0;34m\u001b[0m\u001b[0;34m\u001b[0m\u001b[0m\n",
            "\u001b[0;32m<__array_function__ internals>\u001b[0m in \u001b[0;36mdot\u001b[0;34m(*args, **kwargs)\u001b[0m\n",
            "\u001b[0;31mValueError\u001b[0m: shapes (3,2) and (1,2) not aligned: 2 (dim 1) != 1 (dim 0)"
          ]
        }
      ]
    }
  ]
}