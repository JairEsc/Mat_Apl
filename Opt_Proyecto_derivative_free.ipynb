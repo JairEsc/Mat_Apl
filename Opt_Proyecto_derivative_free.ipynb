{
  "nbformat": 4,
  "nbformat_minor": 0,
  "metadata": {
    "colab": {
      "name": "Untitled108.ipynb",
      "provenance": [],
      "authorship_tag": "ABX9TyPF/yH8AB8LlLduciQVhn8p",
      "include_colab_link": true
    },
    "kernelspec": {
      "name": "python3",
      "display_name": "Python 3"
    },
    "language_info": {
      "name": "python"
    }
  },
  "cells": [
    {
      "cell_type": "markdown",
      "metadata": {
        "id": "view-in-github",
        "colab_type": "text"
      },
      "source": [
        "<a href=\"https://colab.research.google.com/github/JairEsc/Mat_Apl/blob/main/Opt_Proyecto_derivative_free.ipynb\" target=\"_parent\"><img src=\"https://colab.research.google.com/assets/colab-badge.svg\" alt=\"Open In Colab\"/></a>"
      ]
    },
    {
      "cell_type": "markdown",
      "source": [
        "Idea general del algoritmo.\n",
        "\n",
        "Input: \n",
        "\n",
        "\n",
        "*   $f:\\mathbb{R}^n⟶ \\mathbb{R}$, función objetivo.\n",
        "*   $x_0$, aproximación inicial.\n",
        "*   $a_{max}$, Número máximo de iteraciones para la busqueda en linea.\n",
        "*   $\\zeta$, parámetro de curvatura.\n",
        "*   $tol_g$, criterio de paro para la norma del gradiente.\n",
        "\n",
        "\n",
        "\n",
        "Descripción general del algoritmo (Ver Derivative-free optimization, pag 9.)\n",
        "\n",
        "*   Calcular $f(x_0)$\n",
        "*   Estimar $\\epsilon_f$ usando ECnoise*\n",
        "*   Calcular ** h\n",
        "*   Calcular $\\nabla_h f(x_0)$. Cuando se haga, guardar los valores $(x_s,f_s)$ que satisfacen $f_s=f(x_s)=min_{x\\in S} f(x)$, $S=\\{x+h\\cdot e_i,i=1,\\ldots,n\\}$\n",
        "*   While ($||\\nabla f(x_k)||>tol_g$):\n",
        "    *   Calcular $d_k=-H_k\\nabla_h f(x_k)$ usando L-BFGS***\n",
        "    *   Hacer line_search$(x_k,f_k,\\nabla_h f(x_k),d_k,a_{max})$ y obtiene $(x_+,f_+,\\alpha_k,LS_{flag})$\n",
        "        *   If($LS_{flag}==1$):\n",
        "            *   Invocar Recovery($x_s,f_s$)\n",
        "        *   Else:\n",
        "            *   Actualizar $x_{k+1}=x_+,$ $f_{k+1}=f_+$\n",
        "    *   Calcular $\\nabla_h f(x_{k+1})$ y guardar $(x_s,f_s)$\n",
        "    *   Calcular $s_k=x_{k+1}-x_k$, $y_k=\\nabla_h f(x_{k+1})-\\nabla_h f(x_k)$\n",
        "        *   Guardarlos si $s_k^Ty_k\\geq \\zeta||s_k||||y_k||$"
      ],
      "metadata": {
        "id": "1st1PXXNxrWy"
      }
    },
    {
      "cell_type": "markdown",
      "source": [
        "Explicación de L-BFGS: (Ver clase en Moodle.)\n",
        "\n",
        "Si $H_k$ es una aproximación de la inversa del Hessiano, nos interesa caluclar $d_k=-H_k\\nabla f(x_k)$.\n",
        "\n",
        "\n",
        "Input:\n",
        "\n",
        "\n",
        "\n",
        "*   $\\nabla f(x_k)$\n",
        "*   $\\{(s_{k-1},y_{k-1}),(s_{k-2},y_{k-2}),\\ldots,(s_{k-m},y_{k-m})\\}$\n",
        "*   $H^0_{k-m}$\n",
        "\n",
        "Algoritmo:\n",
        "\n",
        "\n",
        "*   Define $q=\\nabla f(x_k)$\n",
        "*   for $i=1,2,\\ldots,m$ do:\n",
        "    *   Calcular $\\alpha_i=\\rho_i s_{k-i}^Tq$\n",
        "    *   Actualiza $q=q-\\alpha_iy_i$\n",
        "*   Define $r=H^0_{k-m}q$\n",
        "*   for $i=1,2,\\ldots,m$ do:\n",
        "    *   Calcular $\\beta=\\rho_{k-i}y_{k-i}^Tr$\n",
        "    *   Actualiza $r=r-s_{k-i}(\\alpha_i-\\beta)$\n",
        "*   $r$ es una aproximación de $H_k\\nabla f(x_k)$\n"
      ],
      "metadata": {
        "id": "o9e9CVolHhpY"
      }
    },
    {
      "cell_type": "code",
      "source": [
        "import numpy as np\n",
        "import scipy.optimize"
      ],
      "metadata": {
        "id": "f_eEzJF9qQT8"
      },
      "execution_count": 1,
      "outputs": []
    },
    {
      "cell_type": "code",
      "source": [
        "try:\n",
        "  www=1/0\n",
        "except:\n",
        "  print(\"An exception occurred\")"
      ],
      "metadata": {
        "id": "jtjQmgXJVZn1",
        "outputId": "193e94df-5acf-4a51-c553-ecd429208d0a",
        "colab": {
          "base_uri": "https://localhost:8080/"
        }
      },
      "execution_count": 2,
      "outputs": [
        {
          "output_type": "stream",
          "name": "stdout",
          "text": [
            "An exception occurred\n"
          ]
        }
      ]
    },
    {
      "cell_type": "code",
      "execution_count": 4,
      "metadata": {
        "id": "8Ioe06WYxqoi"
      },
      "outputs": [],
      "source": [
        "def L_BFGS(S,Y,g):#Checar las posibles divisiones por cero\n",
        "    n=len(g)\n",
        "    m=len(S)\n",
        "    #supondremos H_0 un multiplo de la identidad\n",
        "    H_0=(np.dot(S[-1],Y[-1])/(np.dot(Y[-1],Y[-1])))*np.identity(n)#Dado en clase.\n",
        "    q=g\n",
        "    alphas=[]\n",
        "    for i in range(m):\n",
        "        alphas.append((1/np.dot(S[-i],Y[-i]))*np.dot(S[-i],q))\n",
        "        q=q-alphas[i]*Y[-i]\n",
        "    r=np.dot(H_0,q)\n",
        "    for i in range(m):\n",
        "        beta=(1/np.dot(Y[-i],S[-i]))*np.dot(Y[-i],r)\n",
        "        r=r+S[-i]*(alphas[i]-beta)#aproximacion de -H*g\n",
        "    return r"
      ]
    },
    {
      "cell_type": "code",
      "source": [
        "def ECNoise(F):#F es un vector que guarda f(t_i), i=0,...,m. Evaluaciones de m+1 puntos equiespaciados\n",
        "#Ver metodo en Estimating_Computational_Noise, pagina 8\n",
        "    m=len(F)-1\n",
        "    T=np.zeros((m+1,m+1))\n",
        "    for i in range(m+1):\n",
        "        T[i,0]=F[i]\n",
        "    for k in range(m):\n",
        "        for i in range(m-k):\n",
        "            T[i,k+1]=T[i+1,k]-T[i,k]\n",
        "    return T"
      ],
      "metadata": {
        "id": "EiaLoRSdNFgA"
      },
      "execution_count": 5,
      "outputs": []
    },
    {
      "cell_type": "code",
      "source": [
        "def var_estimation(T):#Recibe la tabla.\n",
        "    m=len(T)-1\n",
        "    sigma_array=[]\n",
        "    for k in range(1,m):\n",
        "        sigma_array.append(((np.math.factorial(k)/np.math.factorial(2*k))/(m+1-k))*np.sum(T.T[k]**2))\n",
        "    #Ahora checamos las 2 condiciones.\n",
        "    for k in range(1,m-2):\n",
        "        max_k=np.max(sigma_array[k:k+2])\n",
        "        min_k=np.min(sigma_array[k:k+2])\n",
        "        if(max_k<=4*min_k):\n",
        "            if(np.sign(min_k*max_k)==-1):\n",
        "                print(\"es el \", k)\n",
        "                break\n",
        "    return np.sqrt(sigma_array[k])#Podria ser que las condiciones no se cumplan, en tal caso regresa la ultima estimacion sigma."
      ],
      "metadata": {
        "id": "gQcG9CUNagT4"
      },
      "execution_count": 6,
      "outputs": []
    },
    {
      "cell_type": "code",
      "source": [
        "def aprox_f_biprima(e_f,f,x_k,p):#Usando una direccion (aleatoria dada) se aproxima el max ||Hessiana_f(x_k)*p||\n",
        "    #Ver Estimating Derivatives of Noisy Simulations, pagina 14.\n",
        "    tao_1=100\n",
        "    tao_2=0.1\n",
        "    h_a=e_f**(1/4)\n",
        "    f_mas=f(x_k+h_a*p)\n",
        "    f_menos=f(x_k-h_a*p)\n",
        "    f_0=f(x_k)\n",
        "    delta_h_a=abs(f_mas+f_menos-2*f_0)\n",
        "    mu_a=delta_h_a/(h_a**2)\n",
        "    if(delta_h_a/e_f>=tao_1):\n",
        "        mu=mu_a\n",
        "        if(abs(f_mas-f_0)<=tao_2*max(f_mas,f_menos,f_0) and abs(f_menos-f_0)<=tao_2*max(f_mas,f_menos,f_0)):\n",
        "            return mu_a\n",
        "    h_b=(e_f/mu_a)**(1/4)\n",
        "    f_mas=f(x_k+h_b*p)\n",
        "    f_menos=f(x_k-h_b*p)\n",
        "    delta_h_b=abs(f_mas+f_menos-2*f_0)\n",
        "    mu_b=delta_h_b/(h_b**2)\n",
        "    if(delta_h_b/e_f>=tao_1):\n",
        "        mu=mu_b\n",
        "        if(abs(f_mas-f_0)<=tao_2*max(f_mas,f_menos,f_0) and abs(f_menos-f_0)<=tao_2*max(f_mas,f_menos,f_0)):\n",
        "            return mu_b\n",
        "    if(abs(mu_a-mu_b)<=0.5*mu_b):\n",
        "        return mu_b\n",
        "    print(\"No hay regla de decision\")\n",
        "    return mu_b#Por falta de relga de descicion, en el algoritmo no se especifica una opcion.\n"
      ],
      "metadata": {
        "id": "Y9wkwLTs-3Sh"
      },
      "execution_count": 52,
      "outputs": []
    },
    {
      "cell_type": "code",
      "source": [
        "def rutina_h(f,p,m,x_0):#Calcula h a partir de una direccion dada, con m+1 puntos equiespaciados.\n",
        "    f_0=f(x_0)\n",
        "    n=len(x_0)\n",
        "    delta=10**(-3)#Suggested by ECnoise algorithm.\n",
        "    F=[f(x_0+delta*i*p) for i in range(m)]\n",
        "    T=ECNoise(F)\n",
        "    e_f=var_estimation(T)\n",
        "    #print(\"e_f: \",e_f)#Breakpoint\n",
        "    mu=aprox_f_biprima(e_f=e_f,f=f,x_k=x_0,p=p)\n",
        "    h=(8**(1/4))*(e_f/mu)**(1/2)\n",
        "    return h"
      ],
      "metadata": {
        "id": "qXCp7kbKtaZM"
      },
      "execution_count": 51,
      "outputs": []
    },
    {
      "cell_type": "code",
      "source": [
        "def Rosembrok(X):#X es un vector.\n",
        "    return (np.sum(100*(X[1:]-X[:-1]**2)**2+(1-X[:-1])**2)+10**(-3)*np.random.uniform(0,1))#Ruido\n",
        "def Rosembrok_grad(X):\n",
        "    n=len(X)\n",
        "    grad=np.zeros(n)\n",
        "    grad[1:-1]=-400*X[1:-1]*(X[2:]-X[1:-1]**2)+200*(X[1:-1]-X[:-2]**2)-2*(1-X[1:-1])\n",
        "    grad[0]=-400*X[0]*(X[1]-X[0]**2)-2*(1-X[0])\n",
        "    grad[-1]=200*(X[-1]-X[-2]**2)\n",
        "    return grad"
      ],
      "metadata": {
        "id": "nLW9VeQvceE5"
      },
      "execution_count": 10,
      "outputs": []
    },
    {
      "cell_type": "code",
      "source": [
        "#Muestra de la estimacion del gradiente con Forward difference.\n",
        "np.random.seed(1)\n",
        "x_k=np.random.uniform(0,1,size=100)\n",
        "p=np.eye(1,len(x_k),np.random.randint(0,len(x_k)))\n",
        "h=rutina_h(f=Rosembrok,p=p,m=6,x_0=x_k)\n",
        "print(Rosembrok_grad(x_k))\n",
        "print(scipy.optimize.approx_fprime(xk=x_k,f=Rosembrok,epsilon=np.sqrt(9.951112928237689e-05)))"
      ],
      "metadata": {
        "id": "SRlkKtn12meB",
        "outputId": "b26d30fc-5669-4e3b-cfd4-b248870dda31",
        "colab": {
          "base_uri": "https://localhost:8080/"
        }
      },
      "execution_count": 55,
      "outputs": [
        {
          "output_type": "stream",
          "name": "stdout",
          "text": [
            "No hay regla de decision\n",
            "[ -92.31314461  258.19227427 -105.76420315   52.37742429    5.20748972\n",
            "    5.78026229   10.7583541    22.52745973   -6.2650381    47.58094506\n",
            "  -60.81848335  173.92294723 -123.00053176  428.24287955 -158.022532\n",
            "  141.92591042  -71.79901191  114.40809274  -46.08632195  -26.2669405\n",
            "   47.14184487  307.06972556 -200.67501657    8.23964165   34.80611872\n",
            "  281.0555388  -145.96780556    1.81331428  -25.69410957  405.937604\n",
            " -152.54614333  -50.35023279  303.30749752 -164.74088723  126.06586802\n",
            " -108.08149331   16.98927599  298.79223596 -143.11086264   21.59428109\n",
            "  176.05552411   37.147629   -137.01750413  305.79136342 -123.794448\n",
            "  -40.49772767  334.73884784 -131.47215972   33.45396328    7.57491889\n",
            "   -6.72524643  202.71325425  -70.1022828    -2.04109874  120.21644997\n",
            "  -51.74336948  155.40065778  -71.60663358   29.64712329  178.30920146\n",
            "  -95.78099889   -7.06868036  122.87146304    5.37008664  -36.87638589\n",
            "   25.02249323   54.93063565 -126.06062234  251.29261959 -193.2047537\n",
            "  356.91903565 -144.07663377  -21.545573    239.31025173  -53.1918929\n",
            "  -59.76635369  370.02993003 -191.42478299   76.73935988  -71.54195071\n",
            "  126.32847294 -122.36574601  136.48288191  -64.98783485  -60.68355407\n",
            "  298.60805717 -209.88266186  259.47344285 -102.34484026  103.13232227\n",
            "  -99.0981272   358.68597186 -159.08486907   57.32220418    2.03521264\n",
            "  -67.7591679   256.84342971   25.52672419  -67.95037826  123.42733497]\n",
            "[ -92.6554009   262.3377809  -105.32804965   53.65304547    6.15134079\n",
            "    6.50376056   11.28964066   23.49245483   -5.38285856   49.54322371\n",
            "  -60.11849538  177.36990563 -123.48252243  433.92379897 -158.33832076\n",
            "  144.82239451  -70.85718085  117.06399816  -45.32772577  -26.59647667\n",
            "   50.14955382  313.11180036 -200.3955317    10.43736584   38.68441832\n",
            "  286.77540698 -144.96777896    2.5164966   -26.24204165  411.39558403\n",
            " -152.24215847  -50.10292492  308.84051803 -163.34844658  129.32104888\n",
            " -107.7887595    19.17360999  303.97623478 -143.58019499   24.03521079\n",
            "  181.45073445   40.97182144 -137.10571223  310.42794324 -123.59456753\n",
            "  -40.09853849  340.19303727 -130.50029893   34.71053984    8.72945306\n",
            "   -6.99867299  206.14069986  -69.30193496   -1.59685146  122.64584162\n",
            "  -51.80479779  158.13762206  -71.60596236   31.35242042  182.06669118\n",
            "  -95.50094214   -6.40146116  126.03909488    7.34837162  -36.92698792\n",
            "   26.50337317   57.57677977 -125.34209279  256.49838317 -191.91991418\n",
            "  362.58966304 -143.23797549  -22.03201106  243.53240866  -51.51321904\n",
            "  -60.37404332  375.57288704 -191.16410281   79.75620282  -69.07985591\n",
            "  130.85150832 -120.50607387  140.24914962  -63.75271835  -60.96268136\n",
            "  303.65772133 -209.66545464  264.84117211  -99.9155306   106.23068314\n",
            "  -99.82783728  364.2399928  -158.00423469   59.52404652    3.6092682\n",
            "  -68.14638776  261.6447338    28.56310375  -68.18960572  124.44118963]\n"
          ]
        }
      ]
    },
    {
      "cell_type": "code",
      "source": [
        "def relaxed_Wolfe(x_k,f,fprime,d,e_f,c_1=0.001,c_2=0.9,max_iter=10**4):##Intenté usar scipy.line_search(), pero Strong Wolfe son dificiles de satisfacerse\n",
        "    #Metodo visto en clase.\n",
        "    iter=0\n",
        "    alpha_0=1\n",
        "    alpha=0\n",
        "    grad_f_k=fprime(x_k)\n",
        "    f_k=f(x_k)\n",
        "    beta=np.inf\n",
        "    alpha_i=alpha_0\n",
        "    for i in range(max_iter):\n",
        "        if(f(x_k+alpha_i*d)>f_k+c_1*alpha_i*np.dot(grad_f_k,d)+2*e_f):#Aqui esta la condicion relajada, dado e_f estimacion del error estandar.l\n",
        "            beta=alpha_i\n",
        "            alpha_i=0.5*(alpha+beta)\n",
        "        else:\n",
        "            if(np.dot(fprime(x_k+alpha_i*d),d)<c_2*np.dot(grad_f_k,d)):\n",
        "                alpha=alpha_i\n",
        "                if(beta==np.inf):\n",
        "                    alpha_i=2*alpha\n",
        "                else:\n",
        "                    0.5*(alpha+beta)\n",
        "            else:\n",
        "                break\n",
        "    return alpha_i"
      ],
      "metadata": {
        "id": "U2R6IwNuNpFq"
      },
      "execution_count": 57,
      "outputs": []
    },
    {
      "cell_type": "code",
      "source": [
        "import matplotlib.pyplot as plt\n",
        "\n",
        "def find_minimum(f,x_0,m,a_max,zeta,tol_g,max_iter=10**2):\n",
        "    f_0=f(x_0)\n",
        "    n=len(x_0)\n",
        "    p=np.random.uniform(-1,1,size=n)#Direccion aleatoria\n",
        "    p=p/np.linalg.norm(p)\n",
        "    #Rutina_h-----------------\n",
        "    delta=10**(-3)#Suggested by ECnoise algorithm.\n",
        "    F=[f(x_0+delta*i*p) for i in range(m)]\n",
        "    T=ECNoise(F)\n",
        "    e_f=var_estimation(T)\n",
        "    print(\"e_f: \",e_f)#Breakpoint\n",
        "    mu=aprox_f_biprima(e_f=e_f,f=f,x_k=x_0,p=p)\n",
        "    h=(8**(1/4))*(e_f/mu)**(1/2)\n",
        "    print(\"h: \", h)\n",
        "    #-------------------\n",
        "    def fprime(x):\n",
        "        return scipy.optimize.approx_fprime(f=f,xk=x,epsilon=h)\n",
        "    g_0=fprime(x_0)\n",
        "    Y=[]\n",
        "    S=[]\n",
        "    #print(g_0)\n",
        "    #Una iteracion\n",
        "    iter=1\n",
        "    alpha_k=relaxed_Wolfe(x_k=x_0,f=f,fprime=fprime,d=-g_0,e_f=e_f,c_1=0.001,c_2=0.9,max_iter=10**4)\n",
        "    x_1=x_0-alpha_k*g_0#Actualizar x_k+1\n",
        "    f_k_m=f(x_1)\n",
        "    g_1=fprime(x_1)\n",
        "    Y.append(g_1-g_0)#diferencia de gradientes\n",
        "    S.append(-alpha_k*g_0)#diferencia de x's\n",
        "    GG=[]#Para guardar las normas de los gradientes y ver el progreso.\n",
        "    while(np.linalg.norm(g_1)>tol_g and iter<max_iter):\n",
        "        x_0=x_1\n",
        "        g_0=g_1\n",
        "        d_k=L_BFGS(S=S,Y=Y,g=g_1)#Calcula direccion de descenso.\n",
        "        alpha_k=relaxed_Wolfe(x_k=x_0,f=f,fprime=fprime,d=d_k,e_f=e_f,c_1=0.001,c_2=0.9,max_iter=10**4)#Tamaño de paso.\n",
        "        x_1=x_0+alpha_k*d_k\n",
        "        f_k_m=f(x_1)\n",
        "        g_1=fprime(x_1)\n",
        "        Y.append(g_1-g_0)\n",
        "        S.append(x_1-x_0)\n",
        "        iter+=1\n",
        "        GG.append(np.linalg.norm(x_1))\n",
        "    plt.plot(GG)\n",
        "    print(\"norma del gradiente final: \",GG[-2])##Antes del error si es que falla.\n",
        "    return x_1"
      ],
      "metadata": {
        "id": "ggtkNN6tbY0F"
      },
      "execution_count": 62,
      "outputs": []
    },
    {
      "cell_type": "code",
      "source": [
        "#Test--------------------\n",
        "np.random.seed(0)\n",
        "x_0=np.random.uniform(0,1,size=100)\n",
        "w=find_minimum(f=Rosembrok,x_0=x_0,m=6,a_max=100,zeta=0.5,tol_g=10**(-2),max_iter=35)\n",
        "#---------------------"
      ],
      "metadata": {
        "id": "e_mMgSLoehAK",
        "outputId": "28bb6115-2b31-4b83-c23c-8fe43d806dcb",
        "colab": {
          "base_uri": "https://localhost:8080/",
          "height": 317
        }
      },
      "execution_count": 64,
      "outputs": [
        {
          "output_type": "stream",
          "name": "stdout",
          "text": [
            "e_f:  2.161536284905975e-05\n",
            "h:  0.0003797267881795253\n",
            "norma del gradiente final:  4.344667089428216\n"
          ]
        },
        {
          "output_type": "display_data",
          "data": {
            "text/plain": [
              "<Figure size 432x288 with 1 Axes>"
            ],
            "image/png": "[encoded data removed]"
          },
          "metadata": {
            "needs_background": "light"
          }
        }
      ]
    }
  ]
}