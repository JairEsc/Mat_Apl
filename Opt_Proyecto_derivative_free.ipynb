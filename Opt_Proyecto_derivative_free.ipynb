{
  "nbformat": 4,
  "nbformat_minor": 0,
  "metadata": {
    "colab": {
      "name": "Untitled108.ipynb",
      "provenance": [],
      "authorship_tag": "ABX9TyOCntkoD76/vkccsZTfFVVT",
      "include_colab_link": true
    },
    "kernelspec": {
      "name": "python3",
      "display_name": "Python 3"
    },
    "language_info": {
      "name": "python"
    }
  },
  "cells": [
    {
      "cell_type": "markdown",
      "metadata": {
        "id": "view-in-github",
        "colab_type": "text"
      },
      "source": [
        "<a href=\"https://colab.research.google.com/github/JairEsc/Mat_Apl/blob/main/Opt_Proyecto_derivative_free.ipynb\" target=\"_parent\"><img src=\"https://colab.research.google.com/assets/colab-badge.svg\" alt=\"Open In Colab\"/></a>"
      ]
    },
    {
      "cell_type": "code",
      "source": [
        "import numpy as np\n",
        "import scipy.optimize"
      ],
      "metadata": {
        "id": "f_eEzJF9qQT8"
      },
      "execution_count": 1,
      "outputs": []
    },
    {
      "cell_type": "code",
      "source": [
        "def BFGS(s_k,y_k,g_k,H_k):\n",
        "    n=len(s_k)\n",
        "    I=np.identity(n)\n",
        "    rho=1/max(np.dot(s_k,y_k),10**(-8))\n",
        "    M_1=np.outer(s_k,y_k)\n",
        "    M_2=np.outer(y_k,s_k)\n",
        "    H_k_m=np.dot((I-rho*M_1),np.dot(H_k,(I-rho*M_2)))+rho*np.outer(s_k,s_k)\n",
        "    return H_k_m\n",
        "def L_BFGS(S,Y,g):#Checar las posibles divisiones por cero\n",
        "    n=len(g)\n",
        "    m=len(S)\n",
        "    #supondremos H_0 un multiplo de la identidad\n",
        "    H_0=(np.dot(S[-1],Y[-1])/(np.dot(Y[-1],Y[-1])))*np.identity(n)#Dado en clase.\n",
        "    q=g\n",
        "    alphas=[]\n",
        "    for i in range(m):\n",
        "        alphas.append((1/max(10**(-6),np.dot(S[m-1-i],Y[m-1-i])))*np.dot(S[m-1-i],q))\n",
        "        q=q-alphas[i]*Y[m-1-i]\n",
        "    r=np.dot(H_0,q)\n",
        "    for i in range(m):\n",
        "        beta=(1/max(10**(-6),np.dot(Y[i],Y[i])))*np.dot(Y[i],r)\n",
        "        r=r+S[i]*(alphas[m-1-i]-beta)#aproximacion de -H*g\n",
        "    return r"
      ],
      "metadata": {
        "id": "8zB4uyJdLJ6g"
      },
      "execution_count": 292,
      "outputs": []
    },
    {
      "cell_type": "markdown",
      "source": [
        "Idea general del algoritmo.\n",
        "\n",
        "Input: \n",
        "\n",
        "\n",
        "*   $f:\\mathbb{R}^n⟶ \\mathbb{R}$, función objetivo.\n",
        "*   $x_0$, aproximación inicial.\n",
        "*   $a_{max}$, Número máximo de iteraciones para la busqueda en linea.\n",
        "*   $\\zeta$, parámetro de curvatura.\n",
        "*   $tol_g$, criterio de paro para la norma del gradiente.\n",
        "\n",
        "\n",
        "\n",
        "Descripción general del algoritmo (Ver Derivative-free optimization, pag 9.)\n",
        "\n",
        "*   Calcular $f(x_0)$\n",
        "*   Estimar $\\epsilon_f$ usando ECnoise*\n",
        "*   Calcular ** h\n",
        "*   Calcular $\\nabla_h f(x_0)$. Cuando se haga, guardar los valores $(x_s,f_s)$ que satisfacen $f_s=f(x_s)=min_{x\\in S} f(x)$, $S=\\{x+h\\cdot e_i,i=1,\\ldots,n\\}$\n",
        "*   While ($||\\nabla f(x_k)||>tol_g$):\n",
        "    *   Calcular $d_k=-H_k\\nabla_h f(x_k)$ usando L-BFGS***\n",
        "    *   Hacer line_search$(x_k,f_k,\\nabla_h f(x_k),d_k,a_{max})$ y obtiene $(x_+,f_+,\\alpha_k,LS_{flag})$\n",
        "        *   If($LS_{flag}==1$):\n",
        "            *   Invocar Recovery($x_s,f_s$)\n",
        "        *   Else:\n",
        "            *   Actualizar $x_{k+1}=x_+,$ $f_{k+1}=f_+$\n",
        "    *   Calcular $\\nabla_h f(x_{k+1})$ y guardar $(x_s,f_s)$\n",
        "    *   Calcular $s_k=x_{k+1}-x_k$, $y_k=\\nabla_h f(x_{k+1})-\\nabla_h f(x_k)$\n",
        "        *   Guardarlos si $s_k^Ty_k\\geq \\zeta||s_k||||y_k||$"
      ],
      "metadata": {
        "id": "1st1PXXNxrWy"
      }
    },
    {
      "cell_type": "markdown",
      "source": [
        "Explicación de L-BFGS: (Ver clase en Moodle.)\n",
        "\n",
        "Si $H_k$ es una aproximación de la inversa del Hessiano, nos interesa caluclar $d_k=-H_k\\nabla f(x_k)$.\n",
        "\n",
        "\n",
        "Input:\n",
        "\n",
        "\n",
        "\n",
        "*   $\\nabla f(x_k)$\n",
        "*   $\\{(s_{k-1},y_{k-1}),(s_{k-2},y_{k-2}),\\ldots,(s_{k-m},y_{k-m})\\}$\n",
        "*   $H^0_{k-m}$\n",
        "\n",
        "Algoritmo:\n",
        "\n",
        "\n",
        "*   Define $q=\\nabla f(x_k)$\n",
        "*   for $i=1,2,\\ldots,m$ do:\n",
        "    *   Calcular $\\alpha_i=\\rho_i s_{k-i}^Tq$\n",
        "    *   Actualiza $q=q-\\alpha_iy_i$\n",
        "*   Define $r=H^0_{k-m}q$\n",
        "*   for $i=1,2,\\ldots,m$ do:\n",
        "    *   Calcular $\\beta=\\rho_{k-i}y_{k-i}^Tr$\n",
        "    *   Actualiza $r=r-s_{k-i}(\\alpha_i-\\beta)$\n",
        "*   $r$ es una aproximación de $H_k\\nabla f(x_k)$\n"
      ],
      "metadata": {
        "id": "o9e9CVolHhpY"
      }
    },
    {
      "cell_type": "code",
      "source": [
        "def ECNoise(F):#F es un vector que guarda f(t_i), i=0,...,m. Evaluaciones de m+1 puntos equiespaciados\n",
        "#Ver metodo en Estimating_Computational_Noise, pagina 8\n",
        "    m=len(F)-1\n",
        "    T=np.zeros((m+1,m+1))\n",
        "    for i in range(m+1):\n",
        "        T[i,0]=F[i]\n",
        "    for k in range(m):\n",
        "        for i in range(m-k):\n",
        "            T[i,k+1]=T[i+1,k]-T[i,k]\n",
        "    return T"
      ],
      "metadata": {
        "id": "EiaLoRSdNFgA"
      },
      "execution_count": 293,
      "outputs": []
    },
    {
      "cell_type": "code",
      "source": [
        "def var_estimation(T):#Recibe la tabla.\n",
        "    m=len(T)-1\n",
        "    sigma_array=[]\n",
        "    for k in range(1,m):\n",
        "        sigma_array.append(((np.math.factorial(k)/np.math.factorial(2*k))/(m+1-k))*np.sum(T.T[k]**2))\n",
        "    #Ahora checamos las 2 condiciones.\n",
        "    for k in range(1,m-2):\n",
        "        max_k=np.max(sigma_array[k:k+2])\n",
        "        min_k=np.min(sigma_array[k:k+2])\n",
        "        if(max_k<=4*min_k):\n",
        "            if(np.sign(min_k*max_k)==-1):\n",
        "                print(\"es el \", k)\n",
        "                break\n",
        "    return np.sqrt(sigma_array[k])#Podria ser que las condiciones no se cumplan, en tal caso regresa la ultima estimacion sigma."
      ],
      "metadata": {
        "id": "gQcG9CUNagT4"
      },
      "execution_count": 294,
      "outputs": []
    },
    {
      "cell_type": "code",
      "source": [
        "def aprox_f_biprima(e_f,f,x_k,p):#Usando una direccion (aleatoria dada) se aproxima el max ||Hessiana_f(x_k)*p||\n",
        "    #Ver Estimating Derivatives of Noisy Simulations, pagina 14.\n",
        "    tao_1=100\n",
        "    tao_2=0.1\n",
        "    h_a=e_f**(1/4)\n",
        "    f_mas=f(x_k+h_a*p)\n",
        "    f_menos=f(x_k-h_a*p)\n",
        "    f_0=f(x_k)\n",
        "    delta_h_a=abs(f_mas+f_menos-2*f_0)\n",
        "    mu_a=delta_h_a/(h_a**2)\n",
        "    if(delta_h_a/e_f>=tao_1):\n",
        "        mu=mu_a\n",
        "        if(abs(f_mas-f_0)<=tao_2*max(f_mas,f_menos,f_0) and abs(f_menos-f_0)<=tao_2*max(f_mas,f_menos,f_0)):\n",
        "            return mu_a\n",
        "    h_b=(e_f/mu_a)**(1/4)\n",
        "    f_mas=f(x_k+h_b*p)\n",
        "    f_menos=f(x_k-h_b*p)\n",
        "    delta_h_b=abs(f_mas+f_menos-2*f_0)\n",
        "    mu_b=delta_h_b/(h_b**2)\n",
        "    if(delta_h_b/e_f>=tao_1):\n",
        "        mu=mu_b\n",
        "        if(abs(f_mas-f_0)<=tao_2*max(f_mas,f_menos,f_0) and abs(f_menos-f_0)<=tao_2*max(f_mas,f_menos,f_0)):\n",
        "            return mu_b\n",
        "    if(abs(mu_a-mu_b)<=0.5*mu_b):\n",
        "        return mu_b\n",
        "    print(\"No hay regla de decision\")\n",
        "    return mu_b#Por falta de relga de descicion. En el algoritmo no se especifica una opcion.\n"
      ],
      "metadata": {
        "id": "Y9wkwLTs-3Sh"
      },
      "execution_count": 6,
      "outputs": []
    },
    {
      "cell_type": "code",
      "source": [
        "def rutina_h(f,p,m,x_0):#Calcula h a partir de una direccion dada, con m+1 puntos equiespaciados.\n",
        "    f_0=f(x_0)\n",
        "    n=len(x_0)\n",
        "    delta=10**(-3)#Suggested by ECnoise algorithm.\n",
        "    F=[f(x_0+delta*i*p) for i in range(m)]\n",
        "    T=ECNoise(F)\n",
        "    e_f=var_estimation(T)\n",
        "    #print(\"e_f: \",e_f)#Breakpoint\n",
        "    mu=aprox_f_biprima(e_f=e_f,f=f,x_k=x_0,p=p)\n",
        "    h=(8**(1/4))*(e_f/mu)**(1/2)\n",
        "    return e_f,h"
      ],
      "metadata": {
        "id": "qXCp7kbKtaZM"
      },
      "execution_count": 322,
      "outputs": []
    },
    {
      "cell_type": "code",
      "source": [
        "def Rosembrok(X):#X es un vector.\n",
        "    return (np.sum(100*(X[1:]-X[:-1]**2)**2+(1-X[:-1])**2)+10**(-3)*np.random.uniform(0,1))#Ruido\n",
        "def Rosembrok_grad(X):\n",
        "    return scipy.optimize.approx_fprime(f=Rosembrok,xk=X,epsilon=10**(-4))\n",
        "def Rosembrok_grad_real(X):\n",
        "    D=[]\n",
        "    D.append(-400*(X[0]*(X[1]-X[0]**2))-2*(1-X[0]))\n",
        "    for i in range(1,len(X)-1):\n",
        "        D.append(-400*(X[i]*(X[i+1]-X[i]**2))+200*(X[i]-X[i-1]**2)-2*(1-X[i]))\n",
        "    D.append(200*(X[-1]-X[-2]**2))\n",
        "    return D\n",
        "def Rosembrok_Hessian(X):\n",
        "    M=[]\n",
        "    #Renglon 1\n",
        "    D=np.zeros(len(X))\n",
        "    D[0]=(-400*(X[1]-X[0]**2)+800*(X[0]**2)+2)\n",
        "    D[1]=-400*(X[1])\n",
        "    M.append(D)\n",
        "    #Renglon 2<i<n\n",
        "    for i in range(1,len(X)-1):\n",
        "        D=np.zeros(len(X))\n",
        "        D[i]=(-400*(X[i+1]-X[i]**2)+800*(X[i]**2)+202)\n",
        "        D[i-1]=-400*X[i-1]\n",
        "        D[i+1]=-400*X[i]\n",
        "        M.append(D)\n",
        "    #Renglon n\n",
        "    D=np.zeros(len(X))\n",
        "    D[-2]=-400*X[-2]\n",
        "    D[-1]=200\n",
        "    M.append(D)\n",
        "    return M"
      ],
      "metadata": {
        "id": "nLW9VeQvceE5"
      },
      "execution_count": 316,
      "outputs": []
    },
    {
      "cell_type": "code",
      "source": [
        "#Muestra de la estimacion del gradiente con Forward difference.\n",
        "n=10\n",
        "x_k=np.random.uniform(0,1,size=n)\n",
        "p=np.eye(1,len(x_k),np.random.randint(0,len(x_k)))\n",
        "e_f,h=rutina_h(f=Rosembrok,p=p,m=6,x_0=x_k)\n",
        "print(h)\n",
        "print(Rosembrok_grad(x_k))\n",
        "print(Rosembrok_grad_real(x_k))\n",
        "#------------------------------------------------------"
      ],
      "metadata": {
        "id": "SRlkKtn12meB",
        "outputId": "de648826-1992-407d-92cd-730ec24b2948",
        "colab": {
          "base_uri": "https://localhost:8080/"
        }
      },
      "execution_count": 318,
      "outputs": [
        {
          "output_type": "stream",
          "name": "stdout",
          "text": [
            "No hay regla de decision\n",
            "5.1213119481672044e-06\n",
            "[  65.68944983  -87.01885752  -43.93369573  374.07432283 -148.52910072\n",
            "   50.7895317   -15.16290321  484.46168367 -174.27315816   44.62981688]\n",
            "[70.34210130640027, -91.37134528426495, -44.38199379094516, 369.24686601589434, -145.43469739582704, 50.28872079752897, -14.669913623310917, 488.1961830608712, -170.3288541356039, 45.969607944590095]\n"
          ]
        }
      ]
    },
    {
      "cell_type": "code",
      "source": [
        "def relaxed_Armijo(x_k,f,fprime,d,e_f,c_1=0.001,c_2=0.9,max_iter=10**2):##Intenté usar scipy.line_search(), pero Strong Wolfe son dificiles de satisfacerse\n",
        "    #Metodo visto en clase.\n",
        "    iter=0\n",
        "    alpha_0=1\n",
        "    alpha=0\n",
        "    grad_f_k=fprime(x_k)\n",
        "    f_k=f(x_k)\n",
        "    beta=np.inf\n",
        "    alpha_i=alpha_0\n",
        "    alpha_wolfe=0\n",
        "    for i in range(max_iter):\n",
        "        if(f(x_k+alpha_i*d)>f_k+c_1*alpha_i*np.dot(grad_f_k,d)+2*e_f):#Aqui esta la condicion relajada, dado e_f estimacion del error estandar.\n",
        "            beta=alpha_i\n",
        "            alpha_i=0.5*(alpha+beta)\n",
        "        else:\n",
        "            alpha_armijo=alpha_i\n",
        "            if(np.dot(fprime(x_k+alpha_i*d),d)<c_2*np.dot(grad_f_k,d)):\n",
        "                alpha=alpha_i\n",
        "                if(beta==np.inf):\n",
        "                    alpha_i=2*alpha\n",
        "                else:\n",
        "                    0.5*(alpha+beta)\n",
        "            else:\n",
        "                return alpha_i\n",
        "    return alpha_armijo"
      ],
      "metadata": {
        "id": "U2R6IwNuNpFq"
      },
      "execution_count": 321,
      "outputs": []
    },
    {
      "cell_type": "code",
      "source": [
        "def recovery(x_k,f,grad_k,h,l1,l2,d_k,):#Genera un nuevo h\n",
        "    e_f,h_b=rutina_h(f=f,p=d_k,m=6,x_0=x_k)\n",
        "    n=len(d_k)\n",
        "    f_k=f(x_k)\n",
        "    if(h_b<l1*h or h_b>l2*h):\n",
        "        return h_b\n",
        "    else:\n",
        "        d_k=d_k/np.linalg.norm(d_k)\n",
        "        x_h=x_k+h*(d_k)\n",
        "        f_h=f(x_h)\n",
        "        if(f_h<=f(x_k)+0.001*h*np.dot(grad_k,d_k)+2*e_f):\n",
        "            return h\n",
        "        else:\n",
        "            f_stencil=[f(x_k+h*np.eye(1,n,i)) for i in range(n)]\n",
        "            f_s=np.min(f_stencil)\n",
        "            if(f_h<=f_s and f_h<=f_k):\n",
        "                return h\n",
        "            else:\n",
        "                if(f_k>f_s and f_h>f_s):\n",
        "                    return h\n",
        "                else:\n",
        "                    e_f,h=rutina_h(rutina_h(f=f,p=d_k,m=6,x_0=x_k))"
      ],
      "metadata": {
        "id": "kcexZsIE9aMQ"
      },
      "execution_count": null,
      "outputs": []
    },
    {
      "cell_type": "code",
      "source": [
        ""
      ],
      "metadata": {
        "id": "RvIgGawfE0Se"
      },
      "execution_count": null,
      "outputs": []
    },
    {
      "cell_type": "code",
      "source": [
        "def ros_chiquito(f,x_0,tol_g=10**(-4),max_iter=10**2):\n",
        "    #----------------------\n",
        "    #Listas\n",
        "    iter=0\n",
        "    GG=[]\n",
        "    Y=[]\n",
        "    S=[]\n",
        "    #----------------------\n",
        "    #----------------------\n",
        "    g_0=Rosembrok_grad(x_0)#Gradiente REAL\n",
        "    alpha_k=scipy.optimize.line_search(f=f,myfprime=Rosembrok_grad,xk=x_0,pk=-g_0)[0]#line_search\n",
        "    x_1=x_0-alpha_k*g_0\n",
        "    g_1=Rosembrok_grad(x_1)\n",
        "    #----------------------\n",
        "    Y.append(g_1-g_0)#diferencia de gradientes\n",
        "    S.append(-alpha_k*g_0)#diferencia de x's\n",
        "    d_k_r=-np.dot(np.linalg.inv(Rosembrok_Hessian(x_0)),g_0)\n",
        "    comp=[np.linalg.norm(d_k_r)]\n",
        "    H_k=(np.dot(S[-1],Y[-1])/(np.dot(Y[-1],Y[-1])))*np.identity(n)#Dado en clase.\n",
        "    #----------------------\n",
        "    while(np.linalg.norm(g_1)>tol_g and iter<max_iter):\n",
        "        x_0=x_1\n",
        "        g_0=g_1\n",
        "        #Calcula direccion de descenso.\n",
        "        if(iter>51):\n",
        "            S=S[-50:-1]\n",
        "            Y=Y[-50:-1]\n",
        "        d_k=-L_BFGS(S=S,Y=Y,g=g_1)\n",
        "        H_k_m=BFGS(s_k=S[-1],y_k=Y[-1],g_k=0,H_k=H_k)\n",
        "        d_k_comp=-np.dot(H_k_m,g_0)\n",
        "        d_k_r=-np.dot(np.linalg.inv(Rosembrok_Hessian(x_0)),g_0)\n",
        "        print(\"normal comp:\",d_k_comp)\n",
        "        print(\"real:\",d_k_r)\n",
        "        print(\"l-:\",d_k)\n",
        "        comp.append(np.linalg.norm(d_k-d_k_r))\n",
        "        alpha_k_try=relaxed_Wolfe(f=f,fprime=Rosembrok_grad,x_k=x_0,d=d_k,e_f=0,) #Tamaño de paso.\n",
        "        if(alpha_k_try!=None):\n",
        "            alpha_k=alpha_k_try\n",
        "        x_1=x_0+alpha_k*d_k\n",
        "        f_k_m=f(x_1)\n",
        "        g_1=Rosembrok_grad(x_1)\n",
        "        Y.append(g_1-g_0)\n",
        "        S.append(x_1-x_0)\n",
        "        iter+=1\n",
        "        GG.append(np.linalg.norm(g_1))\n",
        "    print(\"norm:\",GG[-1])\n",
        "    print(\"comp:\",comp[-1])\n",
        "    plt.plot(GG)\n",
        "    plt.show()\n",
        "    plt.plot(comp)\n",
        "    plt.show()\n",
        "    return x_1"
      ],
      "metadata": {
        "id": "r9J2WxiJ_DJq"
      },
      "execution_count": 287,
      "outputs": []
    },
    {
      "cell_type": "code",
      "source": [
        "x_0=np.random.uniform(0,1,size=n)\n",
        "ros_chiquito(f=Rosembrok,x_0=x_0,tol_g=10**(-4),max_iter=3)"
      ],
      "metadata": {
        "id": "n5k_pB5TAc4_",
        "outputId": "06cc1082-2248-4308-dbba-bd5194da4467",
        "colab": {
          "base_uri": "https://localhost:8080/",
          "height": 912
        }
      },
      "execution_count": 290,
      "outputs": [
        {
          "output_type": "stream",
          "name": "stdout",
          "text": [
            "normal comp: [ 0.04861834 -0.04306734  0.05707114  0.00946218  0.02222101  0.02628109\n",
            " -0.1579946   0.10052319 -0.12965471  0.0245491 ]\n",
            "real: [ 0.03652647 -0.08408369 -0.08223437 -0.28544431 -0.33654065 -0.22119532\n",
            " -0.12154066  0.32176612 -0.15586393 -0.06781309]\n",
            "l-: [ 3.14831831e-02 -5.14876153e-02  6.38061545e-02 -1.97643429e-02\n",
            "  2.86010704e-02 -1.11228997e-04 -1.12181914e-01  1.57963467e-01\n",
            " -1.29968611e-01  3.11592223e-02]\n",
            "normal comp: [ 0.01195893  0.01832509  0.01959851  0.02787207  0.01596925 -0.00513537\n",
            " -0.02952551  0.01871061 -0.03285575 -0.01128911]\n",
            "real: [-0.15553821 -0.32725597 -0.52466114 -0.57800194 -0.25506299  0.13784628\n",
            "  0.43480717  0.76431165  0.74382852  0.66196504]\n",
            "l-: [ 0.01097535  0.0235283   0.02051556  0.03130801  0.01799223 -0.00845431\n",
            " -0.02501933  0.01924723 -0.03222398 -0.0143371 ]\n",
            "normal comp: [ 0.03773557  0.0674505   0.06976666  0.0979798   0.05436882 -0.0230616\n",
            " -0.06446578  0.03111901 -0.08480761 -0.04774253]\n",
            "real: [-0.2041314  -0.42061717 -0.659443   -0.72074524 -0.33128488  0.17342744\n",
            "  0.5644787   0.85231928  0.97993947  0.80948766]\n",
            "l-: [ 0.04623476  0.05064747  0.08092151  0.09666067  0.04810478 -0.0123645\n",
            " -0.03610142 -0.03873469 -0.04734855 -0.05272813]\n",
            "norm: 79.56219299114213\n",
            "comp: 2.1524244860743478\n"
          ]
        },
        {
          "output_type": "display_data",
          "data": {
            "text/plain": [
              "<Figure size 432x288 with 1 Axes>"
            ],
            "image/png": "[encoded data removed]"
          },
          "metadata": {
            "needs_background": "light"
          }
        },
        {
          "output_type": "display_data",
          "data": {
            "text/plain": [
              "<Figure size 432x288 with 1 Axes>"
            ],
            "image/png": "[encoded data removed]"
          },
          "metadata": {
            "needs_background": "light"
          }
        },
        {
          "output_type": "execute_result",
          "data": {
            "text/plain": [
              "array([1.00183959, 0.90274584, 0.88038285, 0.84254037, 0.68406709,\n",
              "       0.53665321, 0.47414312, 0.4168048 , 0.25732917, 0.05468525])"
            ]
          },
          "metadata": {},
          "execution_count": 290
        }
      ]
    },
    {
      "cell_type": "code",
      "source": [
        "import matplotlib.pyplot as plt\n",
        "\n",
        "def find_minimum(f,x_0,m,a_max,zeta,tol_g,max_iter=10**2):\n",
        "    f_0=f(x_0)\n",
        "    n=len(x_0)\n",
        "    p=np.random.uniform(-1,1,size=n)#Direccion aleatoria\n",
        "    p=p/np.linalg.norm(p)\n",
        "    #Rutina_h-----------------\n",
        "    delta=10**(-3)#Suggested by ECnoise algorithm.\n",
        "    F=[f(x_0+delta*i*p) for i in range(m)]\n",
        "    T=ECNoise(F)\n",
        "    e_f=var_estimation(T)\n",
        "    print(\"e_f: \",e_f)#Breakpoint\n",
        "    mu=aprox_f_biprima(e_f=e_f,f=f,x_k=x_0,p=p)\n",
        "    h=(8**(1/4))*(e_f/mu)**(1/2)\n",
        "    print(\"h: \", h)\n",
        "    #-------------------\n",
        "    def fprime(x):\n",
        "        return scipy.optimize.approx_fprime(f=f,xk=x,epsilon=h**(1/3))\n",
        "    g_0=fprime(x_0)\n",
        "    Y=[]\n",
        "    S=[]\n",
        "    #print(g_0)\n",
        "    #Una iteracion\n",
        "    iter=1\n",
        "    alpha_k=relaxed_Wolfe(x_k=x_0,f=f,fprime=fprime,d=-g_0,e_f=e_f,c_1=0.001,c_2=0.9,max_iter=10**4)\n",
        "    x_1=x_0-alpha_k*g_0#Actualizar x_k+1\n",
        "    f_k_m=f(x_1)\n",
        "    g_1=fprime(x_1)\n",
        "    Y.append(g_1-g_0)#diferencia de gradientes\n",
        "    S.append(-alpha_k*g_0)#diferencia de x's\n",
        "    GG=[]#Para guardar las normas de los gradientes y ver el progreso.\n",
        "    while(np.linalg.norm(g_1)>tol_g and iter<max_iter):\n",
        "        x_0=x_1\n",
        "        g_0=g_1\n",
        "        d_k=L_BFGS(S=S,Y=Y,g=g_1)#Calcula direccion de descenso.\n",
        "        alpha_k=relaxed_Wolfe(x_k=x_0,f=f,fprime=fprime,d=d_k,e_f=e_f,c_1=0.001,c_2=0.9,max_iter=10**4)#Tamaño de paso.\n",
        "        x_1=x_0+alpha_k*d_k\n",
        "        f_k_m=f(x_1)\n",
        "        g_1=fprime(x_1)\n",
        "        Y.append(g_1-g_0)\n",
        "        S.append(x_1-x_0)\n",
        "        iter+=1\n",
        "        GG.append(np.linalg.norm(x_1))\n",
        "    plt.plot(GG)\n",
        "    print(\"norma del gradiente final: \",GG[-2])##Antes del error si es que falla.\n",
        "    return x_1"
      ],
      "metadata": {
        "id": "ggtkNN6tbY0F"
      },
      "execution_count": 75,
      "outputs": []
    },
    {
      "cell_type": "code",
      "source": [
        ""
      ],
      "metadata": {
        "id": "eEfbvYVc-2f_"
      },
      "execution_count": null,
      "outputs": []
    },
    {
      "cell_type": "code",
      "source": [
        "#Test--------------------\n",
        "#x_0=np.random.uniform(0,1,size=100)\n",
        "#w=find_minimum(f=Rosembrok,x_0=w,m=6,a_max=100,zeta=0.5,tol_g=10**(-2),max_iter=10)\n",
        "#---------------------"
      ],
      "metadata": {
        "id": "e_mMgSLoehAK"
      },
      "execution_count": 76,
      "outputs": []
    }
  ]
}