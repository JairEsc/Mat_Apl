{
  "nbformat": 4,
  "nbformat_minor": 0,
  "metadata": {
    "colab": {
      "name": "Untitled18.ipynb",
      "provenance": [],
      "authorship_tag": "ABX9TyOJm5CqPn5VXR8Qn4bLKOH0",
      "include_colab_link": true
    },
    "kernelspec": {
      "name": "python3",
      "display_name": "Python 3"
    },
    "language_info": {
      "name": "python"
    }
  },
  "cells": [
    {
      "cell_type": "markdown",
      "metadata": {
        "id": "view-in-github",
        "colab_type": "text"
      },
      "source": [
        "<a href=\"https://colab.research.google.com/github/JairEsc/Mat_Apl/blob/main/MN_T6_upper.ipynb\" target=\"_parent\"><img src=\"https://colab.research.google.com/assets/colab-badge.svg\" alt=\"Open In Colab\"/></a>"
      ]
    },
    {
      "cell_type": "code",
      "metadata": {
        "id": "1KpBzixxeTsS"
      },
      "source": [
        "def superior(list,b):\n",
        "  n=len(list)\n",
        "  X=[b[n-1]/list[n-1][n-1]]\n",
        "  X_inv=[X[0]]\n",
        "  for i in range(1,n):#len(list) es el número de renglones de la matriz\n",
        "    acum=0\n",
        "    for j in range(i):#0<=j<=i-1 \n",
        "      acum+=X[j]*list[n-i-1][n-1-j]\n",
        "    X.append((b[n-1-i]-acum)/list[n-1-i][n-1-i])\n",
        "    X_inv.insert(0,X[i])\n",
        "  return X_inv"
      ],
      "execution_count": 1,
      "outputs": []
    },
    {
      "cell_type": "code",
      "metadata": {
        "colab": {
          "base_uri": "https://localhost:8080/"
        },
        "id": "srKXcNnSeUic",
        "outputId": "014dc5a2-2956-4dc7-8330-b64274b66866"
      },
      "source": [
        "import numpy as np\n",
        "x3 = np.loadtxt(\"M_TSUP.txt\",skiprows=1)\n",
        "b3=np.loadtxt(\"V_TSUP.txt\",skiprows=1)\n",
        "superior(x3,b3)"
      ],
      "execution_count": 2,
      "outputs": [
        {
          "output_type": "execute_result",
          "data": {
            "text/plain": [
              "[-0.23499999999999988, -0.07000000000000002, -0.07500000000000001, 0.4]"
            ]
          },
          "metadata": {},
          "execution_count": 2
        }
      ]
    }
  ]
}