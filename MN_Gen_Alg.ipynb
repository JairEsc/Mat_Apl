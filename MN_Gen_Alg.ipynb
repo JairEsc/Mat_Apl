{
  "nbformat": 4,
  "nbformat_minor": 0,
  "metadata": {
    "colab": {
      "name": "Untitled67.ipynb",
      "provenance": [],
      "authorship_tag": "ABX9TyNXnN5QHygi2S5o5kyTeWY5",
      "include_colab_link": true
    },
    "kernelspec": {
      "name": "python3",
      "display_name": "Python 3"
    },
    "language_info": {
      "name": "python"
    }
  },
  "cells": [
    {
      "cell_type": "markdown",
      "metadata": {
        "id": "view-in-github",
        "colab_type": "text"
      },
      "source": [
        "<a href=\"https://colab.research.google.com/github/JairEsc/Mat_Apl/blob/main/MN_Gen_Alg.ipynb\" target=\"_parent\"><img src=\"https://colab.research.google.com/assets/colab-badge.svg\" alt=\"Open In Colab\"/></a>"
      ]
    },
    {
      "cell_type": "code",
      "metadata": {
        "id": "uadvkjH_GPrJ"
      },
      "source": [
        "#algoritmo genetico\n",
        "import numpy as np\n",
        "import matplotlib.pyplot as plt"
      ],
      "execution_count": 1,
      "outputs": []
    },
    {
      "cell_type": "code",
      "metadata": {
        "id": "Z4SmpxSYGcDO"
      },
      "source": [
        "def aptitud(c):#c es una permutacion de (1,2,...,N)\n",
        "    N=len(c)\n",
        "    #La reina i esta en (i,c[i]).\n",
        "    num_amenazas=[]\n",
        "    amenazas=[]\n",
        "    for i in range(N):\n",
        "        amenazas_i=[]\n",
        "        num_amenazas_i=0\n",
        "        for j in range(N):\n",
        "            if(i!=j and abs(c[i]-c[j])==abs(i-j)):\n",
        "                num_amenazas_i+=1\n",
        "                amenazas_i.append(j+1)\n",
        "        num_amenazas.append(num_amenazas_i)\n",
        "        amenazas.append(amenazas_i)\n",
        "    return amenazas\n",
        "    "
      ],
      "execution_count": 80,
      "outputs": []
    },
    {
      "cell_type": "code",
      "metadata": {
        "colab": {
          "base_uri": "https://localhost:8080/",
          "height": 282
        },
        "id": "inKO2pFPMpx3",
        "outputId": "0ac41b37-59b9-4565-d2d7-d7265e11cef9"
      },
      "source": [
        "import matplotlib.pyplot as plt\n",
        "import numpy as np\n",
        "nrows, ncols = 8,8\n",
        "board = np.zeros((8,8,3))\n",
        "board += 0.5 # \"Black\" color\n",
        "board[::2, ::2] = 1 # \"White\" color\n",
        "board[1::2, 1::2] = 1 # \"White\" color\n",
        "positions =np.array([1, 4, 2, 8, 7, 6, 3, 5])-1\n",
        "#np.random.permutation(range(0,8))\n",
        "print(np.array(positions)+1)\n",
        "#fila, columna.\n",
        "fig, ax = plt.subplots()\n",
        "ax.imshow(board, interpolation='nearest')\n",
        "\n",
        "queen = plt.imread('queen.png')\n",
        "extent = np.array([-0.4, 0.4, -0.4, 0.4]) # (0.5 would be the full cell)\n",
        "for y, x in enumerate(positions):\n",
        "    ax.imshow(queen, extent=extent + [y, y, x, x])\n",
        "col_labels=['A','B','C','D','E','F','G','H']\n",
        "row_labels=range(1,nrows+1)\n",
        "plt.xticks(range(ncols), col_labels)\n",
        "plt.yticks(range(nrows), row_labels)\n",
        "ax.axis('image')\n",
        "\n",
        "plt.show()"
      ],
      "execution_count": 100,
      "outputs": [
        {
          "output_type": "stream",
          "name": "stdout",
          "text": [
            "[1 4 2 8 7 6 3 5]\n"
          ]
        },
        {
          "output_type": "display_data",
          "data": {
            "image/png": "[encoded data removed]",
            "text/plain": [
              "<Figure size 432x288 with 1 Axes>"
            ]
          },
          "metadata": {
            "needs_background": "light"
          }
        }
      ]
    },
    {
      "cell_type": "code",
      "metadata": {
        "colab": {
          "base_uri": "https://localhost:8080/"
        },
        "id": "8PtPDjIrURZu",
        "outputId": "d18cafee-9014-4efc-ad43-1805438f87fa"
      },
      "source": [
        "print(aptitud([1, 4, 2, 8, 7, 6, 3, 5]))\n",
        "def max_aptitud(c):\n",
        "    max_apt=[]\n",
        "    for i in range(len(c)):\n",
        "        max_apt.append(len(c[i]))\n",
        "    return max_apt.index(max(max_apt))"
      ],
      "execution_count": 97,
      "outputs": [
        {
          "output_type": "stream",
          "name": "stdout",
          "text": [
            "[[6], [5], [], [5, 6], [2, 4, 6], [1, 4, 5], [], []]\n"
          ]
        }
      ]
    },
    {
      "cell_type": "code",
      "metadata": {
        "colab": {
          "base_uri": "https://localhost:8080/"
        },
        "id": "Ogz9x_DtPZ8z",
        "outputId": "ce91fc4d-0923-483e-b237-76fe1d585c8d"
      },
      "source": [
        "max_aptitud(aptitud([1, 4, 2, 8, 7, 6, 3, 5]))"
      ],
      "execution_count": 96,
      "outputs": [
        {
          "output_type": "execute_result",
          "data": {
            "text/plain": [
              "4"
            ]
          },
          "metadata": {},
          "execution_count": 96
        }
      ]
    },
    {
      "cell_type": "code",
      "metadata": {
        "id": "YEQxdM70gZ__"
      },
      "source": [
        "def order_1_crossover(p1,p2):\n",
        "    temp_p2=p2\n",
        "    print(\"p1:\",p1)\n",
        "    print(\"p2:\",p2)\n",
        "    a1,a2=np.random.permutation(range(1,len(p1)+1))[0:2]\n",
        "    print(\"aleatorios:\", a1,a2)\n",
        "    p1_1=p1.index(a1)\n",
        "    p1_2=p1.index(a2)\n",
        "    indices=sorted([p1_1,p1_2])\n",
        "    print(\"indices\", indices)\n",
        "    hijo=[-1]*len(p1)\n",
        "    for i in range(indices[0],indices[1]+1):\n",
        "        hijo[i]=p1[i]\n",
        "        temp_p2.remove(p1[i])\n",
        "    print(hijo)\n",
        "    for j in range(len(p1)):\n",
        "        if(hijo[j]<0):\n",
        "            hijo[j]=temp_p2[0]\n",
        "            temp_p2.remove(hijo[j])\n",
        "    return(hijo)\n",
        "\n"
      ],
      "execution_count": 132,
      "outputs": []
    },
    {
      "cell_type": "code",
      "metadata": {
        "id": "ePw5ngsDohbq"
      },
      "source": [
        "def mutation(hijo,mu=0.05):\n",
        "    mu_r=np.random.uniform(0,1)\n",
        "    if(mu_r<mu):\n",
        "        print(\"hay mutacion\")\n",
        "        a1,a2=np.random.permutation(range(1,len(p1)))[0:2]\n",
        "        print(\"aleatorios:\", hijo[a1],hijo[a2])\n",
        "        h1=hijo[a1]\n",
        "        h2=hijo[a2]\n",
        "        hijo[a1]=h2\n",
        "        hijo[a2]=h1\n",
        "    return (hijo)"
      ],
      "execution_count": 158,
      "outputs": []
    },
    {
      "cell_type": "code",
      "metadata": {
        "id": "QtwOGQQdrMaZ"
      },
      "source": [
        "M=np.floor(np.sqrt(N))\n",
        "def select_padres(poblacion):\n",
        "    "
      ],
      "execution_count": null,
      "outputs": []
    },
    {
      "cell_type": "code",
      "metadata": {
        "colab": {
          "base_uri": "https://localhost:8080/"
        },
        "id": "NPL0aUD_gm8M",
        "outputId": "3e40a5b8-371b-4c23-d437-3281b07a9e34"
      },
      "source": [
        "p1=[1, 4, 2, 8, 7, 6, 3, 5]\n",
        "p2=[6, 3, 1, 7, 5, 8, 4, 2]\n",
        "order_1_crossover(p1,p2)"
      ],
      "execution_count": 133,
      "outputs": [
        {
          "output_type": "stream",
          "name": "stdout",
          "text": [
            "p1: [1, 4, 2, 8, 7, 6, 3, 5]\n",
            "p2: [6, 3, 1, 7, 5, 8, 4, 2]\n",
            "aleatorios: 2 8\n",
            "indices [2, 3]\n",
            "[-1, -1, 2, 8, -1, -1, -1, -1]\n"
          ]
        },
        {
          "output_type": "execute_result",
          "data": {
            "text/plain": [
              "[6, 3, 2, 8, 1, 7, 5, 4]"
            ]
          },
          "metadata": {},
          "execution_count": 133
        }
      ]
    }
  ]
}