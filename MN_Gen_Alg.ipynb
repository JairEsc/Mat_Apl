{
  "nbformat": 4,
  "nbformat_minor": 0,
  "metadata": {
    "colab": {
      "name": "Untitled67.ipynb",
      "provenance": [],
      "authorship_tag": "ABX9TyNdUL55v/XGrklrqzR8BoLi",
      "include_colab_link": true
    },
    "kernelspec": {
      "name": "python3",
      "display_name": "Python 3"
    },
    "language_info": {
      "name": "python"
    }
  },
  "cells": [
    {
      "cell_type": "markdown",
      "metadata": {
        "id": "view-in-github",
        "colab_type": "text"
      },
      "source": [
        "<a href=\"https://colab.research.google.com/github/JairEsc/Mat_Apl/blob/main/MN_Gen_Alg.ipynb\" target=\"_parent\"><img src=\"https://colab.research.google.com/assets/colab-badge.svg\" alt=\"Open In Colab\"/></a>"
      ]
    },
    {
      "cell_type": "code",
      "metadata": {
        "id": "uadvkjH_GPrJ"
      },
      "source": [
        "#algoritmo genetico\n",
        "import numpy as np\n",
        "import matplotlib.pyplot as plt"
      ],
      "execution_count": 1,
      "outputs": []
    },
    {
      "cell_type": "code",
      "metadata": {
        "id": "Z4SmpxSYGcDO"
      },
      "source": [
        "def aptitud(c):#c es una permutacion de (1,2,...,N)\n",
        "    N=len(c)\n",
        "    #La reina i esta en (i,c[i]).\n",
        "    num_amenazas=[]\n",
        "    amenazas=[]\n",
        "    for i in range(N):\n",
        "        amenazas_i=[]\n",
        "        num_amenazas_i=0\n",
        "        for j in range(N):\n",
        "            if(i!=j and abs(c[i]-c[j])==abs(i-j)):\n",
        "                num_amenazas_i+=1\n",
        "                amenazas_i.append(j+1)\n",
        "        num_amenazas.append(num_amenazas_i)\n",
        "        amenazas.append(amenazas_i)\n",
        "    return amenazas\n",
        "    "
      ],
      "execution_count": 49,
      "outputs": []
    },
    {
      "cell_type": "code",
      "metadata": {
        "colab": {
          "base_uri": "https://localhost:8080/",
          "height": 282
        },
        "id": "inKO2pFPMpx3",
        "outputId": "a7406c4d-d05f-466f-bc11-be32ae3d417c"
      },
      "source": [
        "import matplotlib.pyplot as plt\n",
        "import numpy as np\n",
        "nrows, ncols = 8,8\n",
        "board = np.zeros((8,8,3))\n",
        "board += 0.5 # \"Black\" color\n",
        "board[::2, ::2] = 1 # \"White\" color\n",
        "board[1::2, 1::2] = 1 # \"White\" color\n",
        "positions =np.array([1, 4, 2, 8, 7, 6, 3, 5])-1\n",
        "#np.random.permutation(range(0,8))\n",
        "print(np.array(positions)+1)\n",
        "#fila, columna.\n",
        "fig, ax = plt.subplots()\n",
        "ax.imshow(board, interpolation='nearest')\n",
        "\n",
        "queen = plt.imread('queen.png')\n",
        "extent = np.array([-0.4, 0.4, -0.4, 0.4]) # (0.5 would be the full cell)\n",
        "for y, x in enumerate(positions):\n",
        "    ax.imshow(queen, extent=extent + [y, y, x, x])\n",
        "col_labels=['A','B','C','D','E','F','G','H']\n",
        "row_labels=range(1,nrows+1)\n",
        "plt.xticks(range(ncols), col_labels)\n",
        "plt.yticks(range(nrows), row_labels)\n",
        "ax.axis('image')\n",
        "\n",
        "plt.show()"
      ],
      "execution_count": 4,
      "outputs": [
        {
          "output_type": "stream",
          "name": "stdout",
          "text": [
            "[1 4 2 8 7 6 3 5]\n"
          ]
        },
        {
          "output_type": "display_data",
          "data": {
            "image/png": "[encoded data removed]",
            "text/plain": [
              "<Figure size 432x288 with 1 Axes>"
            ]
          },
          "metadata": {
            "needs_background": "light"
          }
        }
      ]
    },
    {
      "cell_type": "code",
      "metadata": {
        "colab": {
          "base_uri": "https://localhost:8080/"
        },
        "id": "8PtPDjIrURZu",
        "outputId": "1b24aa89-b0a4-4ac6-e792-fad2810e06cd"
      },
      "source": [
        "print(aptitud([1, 4, 2, 8, 7, 6, 3, 5]))\n",
        "def val_aptitud(c):\n",
        "    valor=0\n",
        "    for i in range(len(c)):\n",
        "        valor+=len(c[i])\n",
        "    return valor/2"
      ],
      "execution_count": 185,
      "outputs": [
        {
          "output_type": "stream",
          "name": "stdout",
          "text": [
            "[[6], [5], [], [5, 6], [2, 4, 6], [1, 4, 5], [], []]\n"
          ]
        }
      ]
    },
    {
      "cell_type": "code",
      "metadata": {
        "colab": {
          "base_uri": "https://localhost:8080/"
        },
        "id": "Ogz9x_DtPZ8z",
        "outputId": "e1212bdb-33ca-4e1a-c08d-ab39c2144133"
      },
      "source": [
        "val_aptitud(aptitud([1, 4, 2, 8, 7, 6, 3, 5]))"
      ],
      "execution_count": 80,
      "outputs": [
        {
          "output_type": "execute_result",
          "data": {
            "text/plain": [
              "5.0"
            ]
          },
          "metadata": {},
          "execution_count": 80
        }
      ]
    },
    {
      "cell_type": "code",
      "metadata": {
        "id": "YEQxdM70gZ__"
      },
      "source": [
        "def order_1_crossover(p1,p2):\n",
        "    temp_p2=np.copy(p2)\n",
        "    temp_p2=temp_p2.tolist()\n",
        "    print(\"p1:\",p1)\n",
        "    print(\"p2:\",p2)\n",
        "    a1,a2=np.random.permutation(range(1,len(p1)+1))[0:2]\n",
        "    print(\"aleatorios:\", a1,a2)\n",
        "    p1_1=p1.index(a1)\n",
        "    p1_2=p1.index(a2)\n",
        "    indices=sorted([p1_1,p1_2])\n",
        "    print(\"indices\", indices)\n",
        "    hijo=[-1]*len(p1)\n",
        "    for i in range(indices[0],indices[1]+1):\n",
        "        hijo[i]=p1[i]\n",
        "        temp_p2.remove(p1[i])\n",
        "    \n",
        "    for j in range(len(p1)):\n",
        "        if(hijo[j]<0):\n",
        "            hijo[j]=temp_p2[0]\n",
        "            temp_p2.remove(hijo[j])\n",
        "\n",
        "    print(\"hijo\",hijo)\n",
        "    return(hijo)\n",
        "\n"
      ],
      "execution_count": 192,
      "outputs": []
    },
    {
      "cell_type": "code",
      "metadata": {
        "id": "ePw5ngsDohbq"
      },
      "source": [
        "def mutation(hijo,mu=0.05):\n",
        "    mu_r=np.random.uniform(0,1)\n",
        "    if(mu_r<mu):\n",
        "        print(\"hay mutacion\")\n",
        "        a1=np.random.choice(range(1,len(hijo)))\n",
        "        a2=np.random.choice(range(1,len(hijo)))\n",
        "        while(a2==a1):\n",
        "            a2=np.random.choice(range(1,len(hijo)))\n",
        "   \n",
        "        print(\"aleatorios:\", hijo[a1],hijo[a2])\n",
        "        h1=hijo[a1]\n",
        "        h2=hijo[a2]\n",
        "        hijo[a1]=h2\n",
        "        hijo[a2]=h1\n",
        "    return (hijo)"
      ],
      "execution_count": 200,
      "outputs": []
    },
    {
      "cell_type": "code",
      "metadata": {
        "id": "QtwOGQQdrMaZ"
      },
      "source": [
        "poblacion=[[6, 3, 1, 7, 5, 8, 4, 2],[1, 4, 2, 8, 7, 6, 3, 5],[8, 7, 5, 3, 4, 6, 1, 2],[4, 1, 3, 6, 7, 5, 2, 8],[3, 7, 1, 5, 8, 6, 2, 4],[4, 6, 2, 5, 1, 7, 8, 3],[1, 5, 4 ,7 ,6 ,3 ,2, 8],[3, 2 ,1 ,7 ,8 ,6, 4, 5]]\n",
        "def select_padres(poblacion):\n",
        "    aptitudes=[]\n",
        "    suma=0\n",
        "    breakpoints=[]\n",
        "    for config in poblacion:\n",
        "        aptitudes.append(val_aptitud(aptitud(config)))\n",
        "        suma+=aptitudes[-1]\n",
        "        breakpoints.append(suma)\n",
        "    breakpoints=np.array(breakpoints)/suma\n",
        "    breakpoints=np.insert(np.asarray(breakpoints),0,0.0)\n",
        "    print(breakpoints)\n",
        "    unif1,unif2=0.7,0.8\n",
        "    print(unif1)\n",
        "    for l in range(len(breakpoints)-1):\n",
        "        if(unif1>breakpoints[l] and unif1<=breakpoints[l+1]):\n",
        "            print(\"se selecciona al padre:\",l+1)\n",
        "            break;\n",
        "    print(aptitudes)\n"
      ],
      "execution_count": 107,
      "outputs": []
    },
    {
      "cell_type": "code",
      "metadata": {
        "id": "HlNMyHkZXqcD",
        "outputId": "1ab7aee2-45ed-410b-f39e-28b054d1c15f",
        "colab": {
          "base_uri": "https://localhost:8080/"
        }
      },
      "source": [
        "M=int(np.floor(np.sqrt(8)))\n",
        "print(\"M\",M)\n",
        "def select_padres(poblacion):\n",
        "    aptitudes=[]\n",
        "    suma=0\n",
        "    breakpoints=[]\n",
        "    for config in poblacion:\n",
        "        aptitudes.append(val_aptitud(aptitud(config)))\n",
        "    posibles_padres=[]\n",
        "    temp_aptitudes=np.copy(aptitudes)\n",
        "    temp_aptitudes=temp_aptitudes.tolist()\n",
        "    for i in range(M):\n",
        "        max=np.min(temp_aptitudes)\n",
        "        posibles_padres.append(temp_aptitudes.index(max))\n",
        "        temp_aptitudes[posibles_padres[-1]]=100\n",
        "    p1=np.random.choice(posibles_padres)\n",
        "    print(posibles_padres,\"aaa\")\n",
        "    print(\"pq\",p1)\n",
        "    p2=np.random.choice(posibles_padres)\n",
        "    while(p2==p1):\n",
        "        p2=np.random.choice(posibles_padres)\n",
        "    return ([aptitudes,int(p1),int(p2)])\n"
      ],
      "execution_count": 193,
      "outputs": [
        {
          "output_type": "stream",
          "name": "stdout",
          "text": [
            "M 2\n"
          ]
        }
      ]
    },
    {
      "cell_type": "code",
      "metadata": {
        "id": "oR01NMEHehIJ",
        "outputId": "d89d6fd1-5e1e-4520-e61d-1ea614ecfeff",
        "colab": {
          "base_uri": "https://localhost:8080/"
        }
      },
      "source": [
        "np.random.choice([0, 1, 2])"
      ],
      "execution_count": 147,
      "outputs": [
        {
          "output_type": "execute_result",
          "data": {
            "text/plain": [
              "0"
            ]
          },
          "metadata": {},
          "execution_count": 147
        }
      ]
    },
    {
      "cell_type": "code",
      "metadata": {
        "id": "owdYYL76KzDd",
        "outputId": "2909f883-2cd2-4d23-d770-0c8769e91557",
        "colab": {
          "base_uri": "https://localhost:8080/"
        }
      },
      "source": [
        "poblacion=[[6, 3, 1, 7, 5, 8, 4, 2],[1, 4, 2, 8, 7, 6, 3, 5],[8, 7, 5, 3, 4, 6, 1, 2],[4, 1, 3, 6, 7, 5, 2, 8],[3, 7, 1, 5, 8, 6, 2, 4],[4, 6, 2, 5, 1, 7, 8, 3],[1, 5, 4 ,7 ,6 ,3 ,2, 8],[3, 2 ,1 ,7 ,8 ,6, 4, 5]]\n",
        "def redefinir(original,deseado):\n",
        "    for i in range(len(original)):\n",
        "        original[i]=deseado[i]\n",
        "    return 0\n",
        "for i in range(20):\n",
        "    print(poblacion)\n",
        "    aptitudes,i1,i2=select_padres(poblacion)\n",
        "    print(aptitudes)\n",
        "    print(\"indices\",i1,i2)\n",
        "    hijo=mutation(order_1_crossover(poblacion[i1],poblacion[i2]),0.1)\n",
        "    redefinir(poblacion[aptitudes.index(np.max(aptitudes))],hijo)\n",
        "    print(hijo)\n",
        "    if(0 in aptitudes):\n",
        "        print(\"alv\"*20)\n",
        "        break\n",
        "    "
      ],
      "execution_count": 202,
      "outputs": [
        {
          "output_type": "stream",
          "name": "stdout",
          "text": [
            "[[6, 3, 1, 7, 5, 8, 4, 2], [1, 4, 2, 8, 7, 6, 3, 5], [8, 7, 5, 3, 4, 6, 1, 2], [4, 1, 3, 6, 7, 5, 2, 8], [3, 7, 1, 5, 8, 6, 2, 4], [4, 6, 2, 5, 1, 7, 8, 3], [1, 5, 4, 7, 6, 3, 2, 8], [3, 2, 1, 7, 8, 6, 4, 5]]\n",
            "[0, 3] aaa\n",
            "pq 0\n",
            "[2.0, 5.0, 6.0, 3.0, 5.0, 4.0, 6.0, 8.0]\n",
            "indices 0 3\n",
            "p1: [6, 3, 1, 7, 5, 8, 4, 2]\n",
            "p2: [4, 1, 3, 6, 7, 5, 2, 8]\n",
            "aleatorios: 7 1\n",
            "indices [2, 3]\n",
            "hijo [4, 3, 1, 7, 6, 5, 2, 8]\n",
            "[4, 3, 1, 7, 6, 5, 2, 8]\n",
            "[[6, 3, 1, 7, 5, 8, 4, 2], [1, 4, 2, 8, 7, 6, 3, 5], [8, 7, 5, 3, 4, 6, 1, 2], [4, 1, 3, 6, 7, 5, 2, 8], [3, 7, 1, 5, 8, 6, 2, 4], [4, 6, 2, 5, 1, 7, 8, 3], [1, 5, 4, 7, 6, 3, 2, 8], [4, 3, 1, 7, 6, 5, 2, 8]]\n",
            "[0, 3] aaa\n",
            "pq 0\n",
            "[2.0, 5.0, 6.0, 3.0, 5.0, 4.0, 6.0, 6.0]\n",
            "indices 0 3\n",
            "p1: [6, 3, 1, 7, 5, 8, 4, 2]\n",
            "p2: [4, 1, 3, 6, 7, 5, 2, 8]\n",
            "aleatorios: 4 6\n",
            "indices [0, 6]\n",
            "hijo [6, 3, 1, 7, 5, 8, 4, 2]\n",
            "hay mutacion\n",
            "aleatorios: 8 4\n",
            "[6, 3, 1, 7, 5, 4, 8, 2]\n",
            "[[6, 3, 1, 7, 5, 8, 4, 2], [1, 4, 2, 8, 7, 6, 3, 5], [6, 3, 1, 7, 5, 4, 8, 2], [4, 1, 3, 6, 7, 5, 2, 8], [3, 7, 1, 5, 8, 6, 2, 4], [4, 6, 2, 5, 1, 7, 8, 3], [1, 5, 4, 7, 6, 3, 2, 8], [4, 3, 1, 7, 6, 5, 2, 8]]\n",
            "[0, 3] aaa\n",
            "pq 0\n",
            "[2.0, 5.0, 5.0, 3.0, 5.0, 4.0, 6.0, 6.0]\n",
            "indices 0 3\n",
            "p1: [6, 3, 1, 7, 5, 8, 4, 2]\n",
            "p2: [4, 1, 3, 6, 7, 5, 2, 8]\n",
            "aleatorios: 7 8\n",
            "indices [3, 5]\n",
            "hijo [4, 1, 3, 7, 5, 8, 6, 2]\n",
            "[4, 1, 3, 7, 5, 8, 6, 2]\n",
            "[[6, 3, 1, 7, 5, 8, 4, 2], [1, 4, 2, 8, 7, 6, 3, 5], [6, 3, 1, 7, 5, 4, 8, 2], [4, 1, 3, 6, 7, 5, 2, 8], [3, 7, 1, 5, 8, 6, 2, 4], [4, 6, 2, 5, 1, 7, 8, 3], [4, 1, 3, 7, 5, 8, 6, 2], [4, 3, 1, 7, 6, 5, 2, 8]]\n",
            "[0, 3] aaa\n",
            "pq 0\n",
            "[2.0, 5.0, 5.0, 3.0, 5.0, 4.0, 4.0, 6.0]\n",
            "indices 0 3\n",
            "p1: [6, 3, 1, 7, 5, 8, 4, 2]\n",
            "p2: [4, 1, 3, 6, 7, 5, 2, 8]\n",
            "aleatorios: 1 4\n",
            "indices [2, 6]\n",
            "hijo [3, 6, 1, 7, 5, 8, 4, 2]\n",
            "[3, 6, 1, 7, 5, 8, 4, 2]\n",
            "[[6, 3, 1, 7, 5, 8, 4, 2], [1, 4, 2, 8, 7, 6, 3, 5], [6, 3, 1, 7, 5, 4, 8, 2], [4, 1, 3, 6, 7, 5, 2, 8], [3, 7, 1, 5, 8, 6, 2, 4], [4, 6, 2, 5, 1, 7, 8, 3], [4, 1, 3, 7, 5, 8, 6, 2], [3, 6, 1, 7, 5, 8, 4, 2]]\n",
            "[0, 3] aaa\n",
            "pq 3\n",
            "[2.0, 5.0, 5.0, 3.0, 5.0, 4.0, 4.0, 4.0]\n",
            "indices 3 0\n",
            "p1: [4, 1, 3, 6, 7, 5, 2, 8]\n",
            "p2: [6, 3, 1, 7, 5, 8, 4, 2]\n",
            "aleatorios: 7 2\n",
            "indices [4, 6]\n",
            "hijo [6, 3, 1, 8, 7, 5, 2, 4]\n",
            "[6, 3, 1, 8, 7, 5, 2, 4]\n",
            "[[6, 3, 1, 7, 5, 8, 4, 2], [6, 3, 1, 8, 7, 5, 2, 4], [6, 3, 1, 7, 5, 4, 8, 2], [4, 1, 3, 6, 7, 5, 2, 8], [3, 7, 1, 5, 8, 6, 2, 4], [4, 6, 2, 5, 1, 7, 8, 3], [4, 1, 3, 7, 5, 8, 6, 2], [3, 6, 1, 7, 5, 8, 4, 2]]\n",
            "[0, 1] aaa\n",
            "pq 1\n",
            "[2.0, 3.0, 5.0, 3.0, 5.0, 4.0, 4.0, 4.0]\n",
            "indices 1 0\n",
            "p1: [6, 3, 1, 8, 7, 5, 2, 4]\n",
            "p2: [6, 3, 1, 7, 5, 8, 4, 2]\n",
            "aleatorios: 8 4\n",
            "indices [3, 7]\n",
            "hijo [6, 3, 1, 8, 7, 5, 2, 4]\n",
            "[6, 3, 1, 8, 7, 5, 2, 4]\n",
            "[[6, 3, 1, 7, 5, 8, 4, 2], [6, 3, 1, 8, 7, 5, 2, 4], [6, 3, 1, 8, 7, 5, 2, 4], [4, 1, 3, 6, 7, 5, 2, 8], [3, 7, 1, 5, 8, 6, 2, 4], [4, 6, 2, 5, 1, 7, 8, 3], [4, 1, 3, 7, 5, 8, 6, 2], [3, 6, 1, 7, 5, 8, 4, 2]]\n",
            "[0, 1] aaa\n",
            "pq 0\n",
            "[2.0, 3.0, 3.0, 3.0, 5.0, 4.0, 4.0, 4.0]\n",
            "indices 0 1\n",
            "p1: [6, 3, 1, 7, 5, 8, 4, 2]\n",
            "p2: [6, 3, 1, 8, 7, 5, 2, 4]\n",
            "aleatorios: 8 2\n",
            "indices [5, 7]\n",
            "hijo [6, 3, 1, 7, 5, 8, 4, 2]\n",
            "hay mutacion\n",
            "aleatorios: 2 1\n",
            "[6, 3, 2, 7, 5, 8, 4, 1]\n",
            "[[6, 3, 1, 7, 5, 8, 4, 2], [6, 3, 1, 8, 7, 5, 2, 4], [6, 3, 1, 8, 7, 5, 2, 4], [4, 1, 3, 6, 7, 5, 2, 8], [6, 3, 2, 7, 5, 8, 4, 1], [4, 6, 2, 5, 1, 7, 8, 3], [4, 1, 3, 7, 5, 8, 6, 2], [3, 6, 1, 7, 5, 8, 4, 2]]\n",
            "[0, 4] aaa\n",
            "pq 0\n",
            "[2.0, 3.0, 3.0, 3.0, 2.0, 4.0, 4.0, 4.0]\n",
            "indices 0 4\n",
            "p1: [6, 3, 1, 7, 5, 8, 4, 2]\n",
            "p2: [6, 3, 2, 7, 5, 8, 4, 1]\n",
            "aleatorios: 2 6\n",
            "indices [0, 7]\n",
            "hijo [6, 3, 1, 7, 5, 8, 4, 2]\n",
            "[6, 3, 1, 7, 5, 8, 4, 2]\n",
            "[[6, 3, 1, 7, 5, 8, 4, 2], [6, 3, 1, 8, 7, 5, 2, 4], [6, 3, 1, 8, 7, 5, 2, 4], [4, 1, 3, 6, 7, 5, 2, 8], [6, 3, 2, 7, 5, 8, 4, 1], [6, 3, 1, 7, 5, 8, 4, 2], [4, 1, 3, 7, 5, 8, 6, 2], [3, 6, 1, 7, 5, 8, 4, 2]]\n",
            "[0, 4] aaa\n",
            "pq 0\n",
            "[2.0, 3.0, 3.0, 3.0, 2.0, 2.0, 4.0, 4.0]\n",
            "indices 0 4\n",
            "p1: [6, 3, 1, 7, 5, 8, 4, 2]\n",
            "p2: [6, 3, 2, 7, 5, 8, 4, 1]\n",
            "aleatorios: 6 4\n",
            "indices [0, 6]\n",
            "hijo [6, 3, 1, 7, 5, 8, 4, 2]\n",
            "hay mutacion\n",
            "aleatorios: 1 2\n",
            "[6, 3, 2, 7, 5, 8, 4, 1]\n",
            "[[6, 3, 1, 7, 5, 8, 4, 2], [6, 3, 1, 8, 7, 5, 2, 4], [6, 3, 1, 8, 7, 5, 2, 4], [4, 1, 3, 6, 7, 5, 2, 8], [6, 3, 2, 7, 5, 8, 4, 1], [6, 3, 1, 7, 5, 8, 4, 2], [6, 3, 2, 7, 5, 8, 4, 1], [3, 6, 1, 7, 5, 8, 4, 2]]\n",
            "[0, 4] aaa\n",
            "pq 0\n",
            "[2.0, 3.0, 3.0, 3.0, 2.0, 2.0, 2.0, 4.0]\n",
            "indices 0 4\n",
            "p1: [6, 3, 1, 7, 5, 8, 4, 2]\n",
            "p2: [6, 3, 2, 7, 5, 8, 4, 1]\n",
            "aleatorios: 4 5\n",
            "indices [4, 6]\n",
            "hijo [6, 3, 2, 7, 5, 8, 4, 1]\n",
            "[6, 3, 2, 7, 5, 8, 4, 1]\n",
            "[[6, 3, 1, 7, 5, 8, 4, 2], [6, 3, 1, 8, 7, 5, 2, 4], [6, 3, 1, 8, 7, 5, 2, 4], [4, 1, 3, 6, 7, 5, 2, 8], [6, 3, 2, 7, 5, 8, 4, 1], [6, 3, 1, 7, 5, 8, 4, 2], [6, 3, 2, 7, 5, 8, 4, 1], [6, 3, 2, 7, 5, 8, 4, 1]]\n",
            "[0, 4] aaa\n",
            "pq 0\n",
            "[2.0, 3.0, 3.0, 3.0, 2.0, 2.0, 2.0, 2.0]\n",
            "indices 0 4\n",
            "p1: [6, 3, 1, 7, 5, 8, 4, 2]\n",
            "p2: [6, 3, 2, 7, 5, 8, 4, 1]\n",
            "aleatorios: 4 1\n",
            "indices [2, 6]\n",
            "hijo [6, 3, 1, 7, 5, 8, 4, 2]\n",
            "hay mutacion\n",
            "aleatorios: 2 4\n",
            "[6, 3, 1, 7, 5, 8, 2, 4]\n",
            "[[6, 3, 1, 7, 5, 8, 4, 2], [6, 3, 1, 7, 5, 8, 2, 4], [6, 3, 1, 8, 7, 5, 2, 4], [4, 1, 3, 6, 7, 5, 2, 8], [6, 3, 2, 7, 5, 8, 4, 1], [6, 3, 1, 7, 5, 8, 4, 2], [6, 3, 2, 7, 5, 8, 4, 1], [6, 3, 2, 7, 5, 8, 4, 1]]\n",
            "[1, 0] aaa\n",
            "pq 1\n",
            "[2.0, 0.0, 3.0, 3.0, 2.0, 2.0, 2.0, 2.0]\n",
            "indices 1 0\n",
            "p1: [6, 3, 1, 7, 5, 8, 2, 4]\n",
            "p2: [6, 3, 1, 7, 5, 8, 4, 2]\n",
            "aleatorios: 2 4\n",
            "indices [6, 7]\n",
            "hijo [6, 3, 1, 7, 5, 8, 2, 4]\n",
            "[6, 3, 1, 7, 5, 8, 2, 4]\n",
            "alvalvalvalvalvalvalvalvalvalvalvalvalvalvalvalvalvalvalvalv\n"
          ]
        }
      ]
    },
    {
      "cell_type": "code",
      "metadata": {
        "id": "784sJlAKd-y5",
        "outputId": "2fe6759e-5c7b-467c-b817-7fbdf34cad69",
        "colab": {
          "base_uri": "https://localhost:8080/"
        }
      },
      "source": [
        "print(select_padres(poblacion))"
      ],
      "execution_count": 140,
      "outputs": [
        {
          "output_type": "stream",
          "name": "stdout",
          "text": [
            "[0, 3] aaa\n",
            "pq []\n",
            "0\n"
          ]
        },
        {
          "output_type": "stream",
          "name": "stderr",
          "text": [
            "/usr/local/lib/python3.7/dist-packages/ipykernel_launcher.py:18: DeprecationWarning: The truth value of an empty array is ambiguous. Returning False, but in future this will result in an error. Use `array.size > 0` to check that an array is not empty.\n"
          ]
        }
      ]
    },
    {
      "cell_type": "code",
      "metadata": {
        "colab": {
          "base_uri": "https://localhost:8080/"
        },
        "id": "NPL0aUD_gm8M",
        "outputId": "3e40a5b8-371b-4c23-d437-3281b07a9e34"
      },
      "source": [
        "p1=[1, 4, 2, 8, 7, 6, 3, 5]\n",
        "p2=[6, 3, 1, 7, 5, 8, 4, 2]\n",
        "order_1_crossover(p1,p2)"
      ],
      "execution_count": null,
      "outputs": [
        {
          "output_type": "stream",
          "name": "stdout",
          "text": [
            "p1: [1, 4, 2, 8, 7, 6, 3, 5]\n",
            "p2: [6, 3, 1, 7, 5, 8, 4, 2]\n",
            "aleatorios: 2 8\n",
            "indices [2, 3]\n",
            "[-1, -1, 2, 8, -1, -1, -1, -1]\n"
          ]
        },
        {
          "output_type": "execute_result",
          "data": {
            "text/plain": [
              "[6, 3, 2, 8, 1, 7, 5, 4]"
            ]
          },
          "metadata": {},
          "execution_count": 133
        }
      ]
    }
  ]
}