{
  "nbformat": 4,
  "nbformat_minor": 0,
  "metadata": {
    "colab": {
      "name": "Untitled67.ipynb",
      "provenance": [],
      "authorship_tag": "ABX9TyOZzQOdN5tcMAysnN+eHQNi",
      "include_colab_link": true
    },
    "kernelspec": {
      "name": "python3",
      "display_name": "Python 3"
    },
    "language_info": {
      "name": "python"
    }
  },
  "cells": [
    {
      "cell_type": "markdown",
      "metadata": {
        "id": "view-in-github",
        "colab_type": "text"
      },
      "source": [
        "<a href=\"https://colab.research.google.com/github/JairEsc/Mat_Apl/blob/main/MN_Gen_Alg.ipynb\" target=\"_parent\"><img src=\"https://colab.research.google.com/assets/colab-badge.svg\" alt=\"Open In Colab\"/></a>"
      ]
    },
    {
      "cell_type": "code",
      "metadata": {
        "id": "uadvkjH_GPrJ"
      },
      "source": [
        "#algoritmo genetico\n",
        "import numpy as np\n",
        "import matplotlib.pyplot as plt"
      ],
      "execution_count": 4,
      "outputs": []
    },
    {
      "cell_type": "code",
      "metadata": {
        "id": "G7B3gIpxbI_M",
        "outputId": "afa09287-37de-4d1a-b9db-04ba0428a964",
        "colab": {
          "base_uri": "https://localhost:8080/"
        }
      },
      "source": [
        "import string\n",
        "def listAlphabet():\n",
        "  return list(string.ascii_uppercase)\n",
        "print(len(listAlphabet()))"
      ],
      "execution_count": 5,
      "outputs": [
        {
          "output_type": "stream",
          "name": "stdout",
          "text": [
            "26\n"
          ]
        }
      ]
    },
    {
      "cell_type": "code",
      "metadata": {
        "id": "dQAzilnmb7Uf"
      },
      "source": [
        "def etiquetas(N):\n",
        "    col_labels=listAlphabet()\n",
        "    k=int(np.floor(N/26))\n",
        "    r=N%26\n",
        "    if(k>0):\n",
        "        m=0\n",
        "        for m in range(1,k):\n",
        "            alfa=listAlphabet()\n",
        "            for i in range(len(alfa)):\n",
        "                alfa[i]=alfa[i]+str(m)\n",
        "                col_labels.append(alfa[i])\n",
        "    \n",
        "        alfa=listAlphabet()\n",
        "        for i in range(0,r):\n",
        "            alfa[i]=alfa[i]+str(m+1)\n",
        "            col_labels.append(alfa[i])\n",
        "    else:\n",
        "        return(listAlphabet())\n",
        "    return(col_labels)"
      ],
      "execution_count": 6,
      "outputs": []
    },
    {
      "cell_type": "code",
      "metadata": {
        "id": "Z4SmpxSYGcDO"
      },
      "source": [
        "def amenazas(c):#c es una permutacion de (1,2,...,N)\n",
        "    N=len(c)\n",
        "    #La reina i esta en (i,c[i]).\n",
        "    num_amenazas=[]\n",
        "    amenazas=[]\n",
        "    for i in range(N):\n",
        "        amenazas_i=[]\n",
        "        num_amenazas_i=0\n",
        "        for j in range(N):\n",
        "            if(i!=j and abs(c[i]-c[j])==abs(i-j)):\n",
        "                num_amenazas_i+=1\n",
        "                amenazas_i.append(j+1)\n",
        "        num_amenazas.append(num_amenazas_i)\n",
        "        amenazas.append(amenazas_i)\n",
        "    return amenazas\n",
        "def print_reinas(N,config,amenazas):\n",
        "    nrows, ncols = N,N\n",
        "    board = np.zeros((N,N,3))\n",
        "    board += 0.5 # \"Black\" color\n",
        "    board[::2, ::2] = 1 # \"White\" color\n",
        "    board[1::2, 1::2] = 1 # \"White\" color\n",
        "    positions =np.array(config)-1\n",
        "    #np.random.permutation(range(0,8))\n",
        "    print(np.array(positions)+1)\n",
        "    positions=positions.tolist()\n",
        "    #fila, columna.\n",
        "    fig, ax = plt.subplots()\n",
        "    ax.imshow(board, interpolation='nearest')\n",
        "    queen = plt.imread('queen.png')\n",
        "    queen_roja = plt.imread('queen_roja.png')\n",
        "    extent = np.array([-0.4, 0.4, -0.4, 0.4])\n",
        "    for x, y in enumerate(positions):\n",
        "        if(len(amenazas[x])>0):\n",
        "            ax.imshow(queen_roja, extent=extent + [x, x, y, y])\n",
        "        else:\n",
        "            ax.imshow(queen, extent=extent + [x, x, y, y])\n",
        "    col_labels=etiquetas(N)\n",
        "    row_labels=range(1,nrows+1)\n",
        "    plt.xticks(range(ncols), col_labels)\n",
        "    plt.yticks(range(nrows), row_labels)\n",
        "    ax.axis('image')\n",
        "    plt.show()\n",
        "def val_aptitud(c):\n",
        "    valor=0\n",
        "    for i in range(len(c)):\n",
        "        valor+=len(c[i])\n",
        "    return valor/2\n",
        "def order_1_crossover(p1,p2):\n",
        "    temp_p2=np.copy(p2)\n",
        "    temp_p2=temp_p2.tolist()\n",
        "    a1,a2=np.random.permutation(range(1,len(p1)+1))[0:2]\n",
        "    p1_1=p1.index(a1)\n",
        "    p1_2=p1.index(a2)\n",
        "    indices=sorted([p1_1,p1_2])\n",
        "    hijo=[-1]*len(p1)\n",
        "    for i in range(indices[0],indices[1]+1):\n",
        "        hijo[i]=p1[i]\n",
        "        temp_p2.remove(p1[i])\n",
        "    for j in range(len(p1)):\n",
        "        if(hijo[j]<0):\n",
        "            hijo[j]=temp_p2[0]\n",
        "            temp_p2.remove(hijo[j])\n",
        "    return(hijo)\n",
        "def mutation(hijo,mu=0.1):\n",
        "    mu_r=np.random.uniform(0,1)\n",
        "    if(mu_r<mu):\n",
        "        print(\"hay mutacion\")\n",
        "        a1=np.random.choice(range(1,len(hijo)))\n",
        "        a2=np.random.choice(range(1,len(hijo)))\n",
        "        while(a2==a1):\n",
        "            a2=np.random.choice(range(1,len(hijo)))\n",
        "        h1=hijo[a1]\n",
        "        h2=hijo[a2]\n",
        "        hijo[a1]=h2\n",
        "        hijo[a2]=h1\n",
        "    return (hijo)"
      ],
      "execution_count": 7,
      "outputs": []
    },
    {
      "cell_type": "code",
      "metadata": {
        "id": "G98T2o1HFi2j",
        "outputId": "853cef45-0d5b-4778-d420-125bd0bba727",
        "colab": {
          "base_uri": "https://localhost:8080/",
          "height": 217
        }
      },
      "source": [
        "A=[[0],[1],[2]]\n",
        "np.random.choice(A)"
      ],
      "execution_count": 56,
      "outputs": [
        {
          "output_type": "error",
          "ename": "ValueError",
          "evalue": "ignored",
          "traceback": [
            "\u001b[0;31m---------------------------------------------------------------------------\u001b[0m",
            "\u001b[0;31mValueError\u001b[0m                                Traceback (most recent call last)",
            "\u001b[0;32m<ipython-input-56-9e21207ce0b5>\u001b[0m in \u001b[0;36m<module>\u001b[0;34m()\u001b[0m\n\u001b[1;32m      1\u001b[0m \u001b[0mA\u001b[0m\u001b[0;34m=\u001b[0m\u001b[0;34m[\u001b[0m\u001b[0;34m[\u001b[0m\u001b[0;36m0\u001b[0m\u001b[0;34m]\u001b[0m\u001b[0;34m,\u001b[0m\u001b[0;34m[\u001b[0m\u001b[0;36m1\u001b[0m\u001b[0;34m]\u001b[0m\u001b[0;34m,\u001b[0m\u001b[0;34m[\u001b[0m\u001b[0;36m2\u001b[0m\u001b[0;34m]\u001b[0m\u001b[0;34m]\u001b[0m\u001b[0;34m\u001b[0m\u001b[0;34m\u001b[0m\u001b[0m\n\u001b[0;32m----> 2\u001b[0;31m \u001b[0mnp\u001b[0m\u001b[0;34m.\u001b[0m\u001b[0mrandom\u001b[0m\u001b[0;34m.\u001b[0m\u001b[0mchoice\u001b[0m\u001b[0;34m(\u001b[0m\u001b[0mA\u001b[0m\u001b[0;34m)\u001b[0m\u001b[0;34m\u001b[0m\u001b[0;34m\u001b[0m\u001b[0m\n\u001b[0m",
            "\u001b[0;32mmtrand.pyx\u001b[0m in \u001b[0;36mnumpy.random.mtrand.RandomState.choice\u001b[0;34m()\u001b[0m\n",
            "\u001b[0;31mValueError\u001b[0m: a must be 1-dimensional"
          ]
        }
      ]
    },
    {
      "cell_type": "code",
      "metadata": {
        "id": "HlNMyHkZXqcD"
      },
      "source": [
        "def select_padres(poblacion):\n",
        "    M=int(np.floor(len(poblacion)/2))\n",
        "    aptitudes=[]\n",
        "    for config in poblacion:\n",
        "        aptitudes.append(val_aptitud(amenazas(config)))\n",
        "    posibles_padres=[]\n",
        "    temp_aptitudes=np.copy(aptitudes)\n",
        "    temp_aptitudes=temp_aptitudes.tolist()\n",
        "    for i in range(M):\n",
        "        max=np.min(temp_aptitudes)\n",
        "        if (poblacion[temp_aptitudes.index(max)] not in posibles_padres):\n",
        "            posibles_padres.append(poblacion[temp_aptitudes.index(max)])\n",
        "        temp_aptitudes[temp_aptitudes.index(max)]=100\n",
        "    p1=posibles_padres[np.random.choice(range(0,len(posibles_padres)))]\n",
        "    if(len(posibles_padres)<=1):\n",
        "        p2=np.random.permutation(p1).tolist()\n",
        "        print(\"hubo migracion\")\n",
        "    else:\n",
        "        p2=posibles_padres[np.random.choice(range(0,len(posibles_padres)))]\n",
        "        while(p2==p1):\n",
        "            p2=posibles_padres[np.random.choice(range(0,len(posibles_padres)))]\n",
        "    return ([aptitudes,p1,p2])\n",
        "def generar_poblacion(N,k):\n",
        "    poblacion=[]\n",
        "    for i in range(k):\n",
        "        poblacion.append(np.random.permutation(range(1,N+1)).tolist())\n",
        "    return poblacion"
      ],
      "execution_count": 70,
      "outputs": []
    },
    {
      "cell_type": "code",
      "metadata": {
        "id": "jWMMzhjuAa0H"
      },
      "source": [
        "def redefinir(original,nuevo):\n",
        "    for i in range(len(original)):\n",
        "        original[i]=nuevo[i]\n",
        "    return original"
      ],
      "execution_count": 58,
      "outputs": []
    },
    {
      "cell_type": "code",
      "metadata": {
        "id": "HHpCiy9OC-ml"
      },
      "source": [
        "def reinas(N,max_iter=20,**pob_inicial):\n",
        "    count=0\n",
        "    if(pob_inicial):\n",
        "        if(type(pob_inicial['pob_inicial'])==type([])):\n",
        "            poblacion=pob_inicial['pob_inicial']\n",
        "        if(type(pob_inicial['pob_inicial'])==type(0)):\n",
        "            tam_pob=pob_inicial['pob_inicial']\n",
        "            poblacion=generar_poblacion(N,k=tam_pob)\n",
        "    else:\n",
        "        tam_pob=10\n",
        "        poblacion=generar_poblacion(N,k=tam_pob)\n",
        "    best=1\n",
        "    while(count<max_iter and best>0):\n",
        "        aptitudes,padre1,padre2=select_padres(poblacion)\n",
        "        hijo=mutation(mutation(order_1_crossover(padre1,padre2),0.6),0.1)\n",
        "        best=np.min(aptitudes)\n",
        "        worst=np.max(aptitudes)\n",
        "        if(count%50==0):\n",
        "            print(\" adaptado:\",aptitudes)\n",
        "            print_reinas(N,config=poblacion[aptitudes.index(best)],amenazas=amenazas(poblacion[aptitudes.index(best)]))\n",
        "        redefinir(poblacion[aptitudes.index(worst)],hijo)\n",
        "        count+=1\n",
        "        poblacion=np.random.permutation(poblacion).tolist()\n",
        "    if(count==max_iter or best==0):\n",
        "        print(\"iteracion alcanzada\",count)\n",
        "        print(\"mejor adaptado:\",best)\n",
        "        aptitudes,i1,i2=select_padres(poblacion)\n",
        "        print_reinas(N,config=poblacion[aptitudes.index(best)],amenazas=amenazas(poblacion[aptitudes.index(best)]))\n",
        "    return(poblacion[aptitudes.index(best)])"
      ],
      "execution_count": 59,
      "outputs": []
    },
    {
      "cell_type": "code",
      "metadata": {
        "colab": {
          "base_uri": "https://localhost:8080/",
          "height": 1000
        },
        "id": "tgyY95r6GU-c",
        "outputId": "f1fc6d89-9dba-4bc8-898f-b36f3923f34c"
      },
      "source": [
        "reinas(N=8,max_iter=600)"
      ],
      "execution_count": 73,
      "outputs": [
        {
          "output_type": "stream",
          "name": "stdout",
          "text": [
            "hay mutacion\n",
            " adaptado: [17.0, 8.0, 7.0, 3.0, 4.0, 4.0, 4.0, 5.0, 2.0, 2.0]\n",
            "[6 2 5 3 8 4 7 1]\n"
          ]
        },
        {
          "output_type": "display_data",
          "data": {
            "image/png": "[encoded data removed]",
            "text/plain": [
              "<Figure size 432x288 with 1 Axes>"
            ]
          },
          "metadata": {
            "needs_background": "light"
          }
        },
        {
          "output_type": "stream",
          "name": "stdout",
          "text": [
            "hay mutacion\n",
            "hay mutacion\n",
            "hay mutacion\n",
            "hay mutacion\n",
            "hay mutacion\n",
            "hay mutacion\n",
            "hay mutacion\n",
            "hay mutacion\n",
            "hay mutacion\n",
            "hay mutacion\n",
            "hay mutacion\n",
            "hay mutacion\n",
            "hay mutacion\n",
            "hay mutacion\n",
            "hay mutacion\n",
            "hay mutacion\n",
            "hay mutacion\n",
            "hay mutacion\n",
            "hay mutacion\n",
            "hay mutacion\n",
            "hay mutacion\n",
            "hay mutacion\n",
            "hay mutacion\n",
            "hay mutacion\n",
            "hay mutacion\n",
            "hay mutacion\n",
            "hay mutacion\n",
            "hay mutacion\n",
            "hay mutacion\n",
            "hay mutacion\n",
            "hay mutacion\n",
            "hay mutacion\n",
            " adaptado: [2.0, 2.0, 2.0, 2.0, 2.0, 2.0, 2.0, 2.0, 2.0, 4.0]\n",
            "[2 5 7 1 3 6 4 8]\n"
          ]
        },
        {
          "output_type": "display_data",
          "data": {
            "image/png": "[encoded data removed]",
            "text/plain": [
              "<Figure size 432x288 with 1 Axes>"
            ]
          },
          "metadata": {
            "needs_background": "light"
          }
        },
        {
          "output_type": "stream",
          "name": "stdout",
          "text": [
            "hay mutacion\n",
            "hay mutacion\n",
            "hay mutacion\n",
            "hay mutacion\n",
            "hay mutacion\n",
            "hay mutacion\n",
            "hay mutacion\n",
            "iteracion alcanzada 59\n",
            "mejor adaptado: 0.0\n",
            "[2 5 7 1 3 8 6 4]\n"
          ]
        },
        {
          "output_type": "display_data",
          "data": {
            "image/png": "[encoded data removed]",
            "text/plain": [
              "<Figure size 432x288 with 1 Axes>"
            ]
          },
          "metadata": {
            "needs_background": "light"
          }
        },
        {
          "output_type": "execute_result",
          "data": {
            "text/plain": [
              "[2, 5, 7, 1, 3, 8, 6, 4]"
            ]
          },
          "metadata": {},
          "execution_count": 73
        }
      ]
    }
  ]
}