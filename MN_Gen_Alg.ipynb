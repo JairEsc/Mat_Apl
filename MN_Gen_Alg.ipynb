{
  "nbformat": 4,
  "nbformat_minor": 0,
  "metadata": {
    "colab": {
      "name": "Untitled67.ipynb",
      "provenance": [],
      "authorship_tag": "ABX9TyOUAIDHyUjJAH7Abc6VT9M1",
      "include_colab_link": true
    },
    "kernelspec": {
      "name": "python3",
      "display_name": "Python 3"
    },
    "language_info": {
      "name": "python"
    }
  },
  "cells": [
    {
      "cell_type": "markdown",
      "metadata": {
        "id": "view-in-github",
        "colab_type": "text"
      },
      "source": [
        "<a href=\"https://colab.research.google.com/github/JairEsc/Mat_Apl/blob/main/MN_Gen_Alg.ipynb\" target=\"_parent\"><img src=\"https://colab.research.google.com/assets/colab-badge.svg\" alt=\"Open In Colab\"/></a>"
      ]
    },
    {
      "cell_type": "code",
      "metadata": {
        "id": "uadvkjH_GPrJ"
      },
      "source": [
        "#algoritmo genetico\n",
        "import numpy as np\n",
        "import matplotlib.pyplot as plt"
      ],
      "execution_count": 4,
      "outputs": []
    },
    {
      "cell_type": "code",
      "metadata": {
        "id": "Z4SmpxSYGcDO"
      },
      "source": [
        "def amenazas(c):#c es una permutacion de (1,2,...,N)\n",
        "    N=len(c)\n",
        "    #La reina i esta en (i,c[i]).\n",
        "    num_amenazas=[]\n",
        "    amenazas=[]\n",
        "    for i in range(N):\n",
        "        amenazas_i=[]\n",
        "        num_amenazas_i=0\n",
        "        for j in range(N):\n",
        "            if(i!=j and abs(c[i]-c[j])==abs(i-j)):\n",
        "                num_amenazas_i+=1\n",
        "                amenazas_i.append(j+1)\n",
        "        num_amenazas.append(num_amenazas_i)\n",
        "        amenazas.append(amenazas_i)\n",
        "    return amenazas\n",
        "    "
      ],
      "execution_count": 18,
      "outputs": []
    },
    {
      "cell_type": "code",
      "metadata": {
        "colab": {
          "base_uri": "https://localhost:8080/",
          "height": 282
        },
        "id": "inKO2pFPMpx3",
        "outputId": "e129d849-dc37-49ea-c790-152b8eb424b2"
      },
      "source": [
        "import matplotlib.pyplot as plt\n",
        "import numpy as np\n",
        "nrows, ncols = 8,8\n",
        "board = np.zeros((8,8,3))\n",
        "board += 0.5 # \"Black\" color\n",
        "board[::2, ::2] = 1 # \"White\" color\n",
        "board[1::2, 1::2] = 1 # \"White\" color\n",
        "positions =np.array([1, 4, 2, 8, 7, 6, 3, 5])-1\n",
        "#np.random.permutation(range(0,8))\n",
        "print(np.array(positions)+1)\n",
        "#fila, columna.\n",
        "fig, ax = plt.subplots()\n",
        "ax.imshow(board, interpolation='nearest')\n",
        "\n",
        "queen = plt.imread('queen.png')\n",
        "extent = np.array([-0.4, 0.4, -0.4, 0.4]) # (0.5 would be the full cell)\n",
        "for y, x in enumerate(positions):\n",
        "    ax.imshow(queen, extent=extent + [y, y, x, x])\n",
        "col_labels=['A','B','C','D','E','F','G','H']\n",
        "row_labels=range(1,nrows+1)\n",
        "plt.xticks(range(ncols), col_labels)\n",
        "plt.yticks(range(nrows), row_labels)\n",
        "ax.axis('image')\n",
        "\n",
        "plt.show()"
      ],
      "execution_count": 6,
      "outputs": [
        {
          "output_type": "stream",
          "name": "stdout",
          "text": [
            "[1 4 2 8 7 6 3 5]\n"
          ]
        },
        {
          "output_type": "display_data",
          "data": {
            "image/png": "[encoded data removed]",
            "text/plain": [
              "<Figure size 432x288 with 1 Axes>"
            ]
          },
          "metadata": {
            "needs_background": "light"
          }
        }
      ]
    },
    {
      "cell_type": "code",
      "metadata": {
        "id": "vo8eOg0bJF7G"
      },
      "source": [
        "def print_reinas(N,config,amenazas):\n",
        "    nrows, ncols = N,N\n",
        "    board = np.zeros((N,N,3))\n",
        "    board += 0.5 # \"Black\" color\n",
        "    board[::2, ::2] = 1 # \"White\" color\n",
        "    board[1::2, 1::2] = 1 # \"White\" color\n",
        "    positions =np.array(config)-1\n",
        "    #np.random.permutation(range(0,8))\n",
        "    print(np.array(positions)+1)\n",
        "    positions=positions.tolist()\n",
        "    #fila, columna.\n",
        "    fig, ax = plt.subplots()\n",
        "    ax.imshow(board, interpolation='nearest')\n",
        "\n",
        "    queen = plt.imread('queen.png')\n",
        "    queen_roja = plt.imread('queen_roja.png')\n",
        "    extent = np.array([-0.4, 0.4, -0.4, 0.4])\n",
        "    for x, y in enumerate(positions):\n",
        "        if(len(amenazas[x])>0):\n",
        "            ax.imshow(queen_roja, extent=extent + [x, x, y, y])\n",
        "        else:\n",
        "            ax.imshow(queen, extent=extent + [x, x, y, y])\n",
        "    col_labels=['A','B','C','D','E','F','G','H']\n",
        "    row_labels=range(1,nrows+1)\n",
        "    plt.xticks(range(ncols), col_labels)\n",
        "    plt.yticks(range(nrows), row_labels)\n",
        "    ax.axis('image')\n",
        "\n",
        "    plt.show()"
      ],
      "execution_count": 155,
      "outputs": []
    },
    {
      "cell_type": "code",
      "metadata": {
        "id": "1V9N2oqeQ1yQ",
        "outputId": "5f564322-1ae6-4bf6-e890-a71f830dc9a5",
        "colab": {
          "base_uri": "https://localhost:8080/",
          "height": 282
        }
      },
      "source": [
        "print_reinas(8,[1, 4, 2, 8, 7, 6, 3, 5],amenazas([1, 4, 2, 8, 7, 6, 3, 5]))"
      ],
      "execution_count": 156,
      "outputs": [
        {
          "output_type": "stream",
          "name": "stdout",
          "text": [
            "[1 4 2 8 7 6 3 5]\n"
          ]
        },
        {
          "output_type": "display_data",
          "data": {
            "image/png": "[encoded data removed]",
            "text/plain": [
              "<Figure size 432x288 with 1 Axes>"
            ]
          },
          "metadata": {
            "needs_background": "light"
          }
        }
      ]
    },
    {
      "cell_type": "code",
      "metadata": {
        "id": "7pG4LdBhQNyg",
        "outputId": "752c50e2-4832-4681-bbac-7478b71e2e09",
        "colab": {
          "base_uri": "https://localhost:8080/"
        }
      },
      "source": [
        "val_aptitud(amenazas([1, 4, 2, 8, 7, 6, 3, 5]))"
      ],
      "execution_count": 159,
      "outputs": [
        {
          "output_type": "execute_result",
          "data": {
            "text/plain": [
              "5.0"
            ]
          },
          "metadata": {},
          "execution_count": 159
        }
      ]
    },
    {
      "cell_type": "code",
      "metadata": {
        "colab": {
          "base_uri": "https://localhost:8080/"
        },
        "id": "8PtPDjIrURZu",
        "outputId": "3ca5f1f4-9dd7-4be1-befd-7018329d035a"
      },
      "source": [
        "print(aptitud([1, 4, 2, 8, 7, 6, 3, 5]))\n",
        "def val_aptitud(c):\n",
        "    valor=0\n",
        "    for i in range(len(c)):\n",
        "        valor+=len(c[i])\n",
        "    return valor/2"
      ],
      "execution_count": 7,
      "outputs": [
        {
          "output_type": "stream",
          "name": "stdout",
          "text": [
            "[[6], [5], [], [5, 6], [2, 4, 6], [1, 4, 5], [], []]\n"
          ]
        }
      ]
    },
    {
      "cell_type": "code",
      "metadata": {
        "colab": {
          "base_uri": "https://localhost:8080/"
        },
        "id": "Ogz9x_DtPZ8z",
        "outputId": "66967789-4195-4c8e-cbe7-874a18660dd5"
      },
      "source": [
        "val_aptitud(amenazas([1, 4, 2, 8, 7, 6, 3, 5]))"
      ],
      "execution_count": 19,
      "outputs": [
        {
          "output_type": "execute_result",
          "data": {
            "text/plain": [
              "5.0"
            ]
          },
          "metadata": {},
          "execution_count": 19
        }
      ]
    },
    {
      "cell_type": "code",
      "metadata": {
        "id": "YEQxdM70gZ__"
      },
      "source": [
        "def order_1_crossover(p1,p2):\n",
        "    temp_p2=np.copy(p2)\n",
        "    temp_p2=temp_p2.tolist()\n",
        "    a1,a2=np.random.permutation(range(1,len(p1)+1))[0:2]\n",
        "    p1_1=p1.index(a1)\n",
        "    p1_2=p1.index(a2)\n",
        "    indices=sorted([p1_1,p1_2])\n",
        "    hijo=[-1]*len(p1)\n",
        "    for i in range(indices[0],indices[1]+1):\n",
        "        hijo[i]=p1[i]\n",
        "        temp_p2.remove(p1[i])\n",
        "    for j in range(len(p1)):\n",
        "        if(hijo[j]<0):\n",
        "            hijo[j]=temp_p2[0]\n",
        "            temp_p2.remove(hijo[j])\n",
        "    return(hijo)"
      ],
      "execution_count": 25,
      "outputs": []
    },
    {
      "cell_type": "code",
      "metadata": {
        "id": "ePw5ngsDohbq"
      },
      "source": [
        "def mutation(hijo,mu=0.05):\n",
        "    mu_r=np.random.uniform(0,1)\n",
        "    if(mu_r<mu):\n",
        "        print(\"hay mutacion\")\n",
        "        a1=np.random.choice(range(1,len(hijo)))\n",
        "        a2=np.random.choice(range(1,len(hijo)))\n",
        "        while(a2==a1):\n",
        "            a2=np.random.choice(range(1,len(hijo)))\n",
        "        h1=hijo[a1]\n",
        "        h2=hijo[a2]\n",
        "        hijo[a1]=h2\n",
        "        hijo[a2]=h1\n",
        "    return (hijo)"
      ],
      "execution_count": 33,
      "outputs": []
    },
    {
      "cell_type": "code",
      "metadata": {
        "id": "HlNMyHkZXqcD"
      },
      "source": [
        "M=int(np.floor(np.sqrt(8)))\n",
        "def select_padres(poblacion):\n",
        "    aptitudes=[]\n",
        "    suma=0\n",
        "    breakpoints=[]\n",
        "    for config in poblacion:\n",
        "        aptitudes.append(val_aptitud(amenazas(config)))\n",
        "    posibles_padres=[]\n",
        "    temp_aptitudes=np.copy(aptitudes)\n",
        "    temp_aptitudes=temp_aptitudes.tolist()\n",
        "    for i in range(M):\n",
        "        max=np.min(temp_aptitudes)\n",
        "        posibles_padres.append(temp_aptitudes.index(max))\n",
        "        temp_aptitudes[posibles_padres[-1]]=100\n",
        "    p1=np.random.choice(posibles_padres)\n",
        "    p2=np.random.choice(posibles_padres)\n",
        "    while(p2==p1):\n",
        "        p2=np.random.choice(posibles_padres)\n",
        "    return ([aptitudes,int(p1),int(p2)])\n"
      ],
      "execution_count": 17,
      "outputs": []
    },
    {
      "cell_type": "code",
      "metadata": {
        "id": "hfwsuGBeEEQt"
      },
      "source": [
        "def prueba(**A):\n",
        "    if(A):\n",
        "        if(type(A['A'])==type([])):\n",
        "            print(\"lista\")\n",
        "        if(type(A['A'])==type(0)):\n",
        "            print(\"numero\")\n"
      ],
      "execution_count": 39,
      "outputs": []
    },
    {
      "cell_type": "code",
      "metadata": {
        "id": "QIqovRJhEbgl"
      },
      "source": [
        "def generar_poblacion(N,k):\n",
        "    poblacion=[]\n",
        "    for i in range(k):\n",
        "        poblacion.append(np.random.permutation(range(1,N+1)).tolist())\n",
        "    return poblacion"
      ],
      "execution_count": 52,
      "outputs": []
    },
    {
      "cell_type": "code",
      "metadata": {
        "id": "HHpCiy9OC-ml"
      },
      "source": [
        "def reinas(N,max_iter=20,**pob_inicial):\n",
        "    count=0\n",
        "    if(pob_inicial):\n",
        "        if(type(pob_inicial['pob_inicial'])==type([])):\n",
        "            poblacion=pob_inicial['pob_inicial']\n",
        "        if(type(pob_inicial['pob_inicial'])==type(0)):\n",
        "            tam_pob=pob_inicial['pob_inicial']\n",
        "            poblacion=generar_poblacion(N,k=tam_pob)\n",
        "    else:\n",
        "        tam_pob=10\n",
        "        poblacion=generar_poblacion(N,k=tam_pob)\n",
        "    best=1\n",
        "    while(count<max_iter and best>0):\n",
        "        aptitudes,i1,i2=select_padres(poblacion)\n",
        "        hijo=mutation(order_1_crossover(poblacion[i1],poblacion[i2]),0.6)\n",
        "        best=np.max(aptitudes)\n",
        "        if(count%50==0):\n",
        "            print(\"mejor adaptado:\",best)\n",
        "            print_reinas(N,config=poblacion[aptitudes.index(best)])\n",
        "        redefinir(poblacion[aptitudes.index(best)],hijo)\n",
        "        count+=1\n",
        "    if(count==max_iter or best==0):\n",
        "        print(\"iteracion alcanzada\",count)\n",
        "        print(\"mejor adaptado:\",best)\n",
        "        print_reinas(N,config=poblacion[aptitudes.index(best)])\n",
        "    return(poblacion[aptitudes.index(np.max(aptitudes))])"
      ],
      "execution_count": 124,
      "outputs": []
    },
    {
      "cell_type": "code",
      "metadata": {
        "id": "tgyY95r6GU-c",
        "outputId": "85f0a8e3-415a-400c-c865-e821d5b7e851",
        "colab": {
          "base_uri": "https://localhost:8080/",
          "height": 1000
        }
      },
      "source": [
        "reinas(N=16,max_iter=600)"
      ],
      "execution_count": 129,
      "outputs": [
        {
          "output_type": "stream",
          "name": "stdout",
          "text": [
            "mejor adaptado: 18.0\n",
            "[ 8  2 10  4  1 13  7 15 12  6  5 16  3 14  9 11]\n"
          ]
        },
        {
          "output_type": "display_data",
          "data": {
            "image/png": "[encoded data removed]",
            "text/plain": [
              "<Figure size 432x288 with 1 Axes>"
            ]
          },
          "metadata": {
            "needs_background": "light"
          }
        },
        {
          "output_type": "stream",
          "name": "stdout",
          "text": [
            "hay mutacion\n",
            "hay mutacion\n",
            "hay mutacion\n",
            "hay mutacion\n",
            "hay mutacion\n",
            "hay mutacion\n",
            "hay mutacion\n",
            "hay mutacion\n",
            "hay mutacion\n",
            "hay mutacion\n",
            "hay mutacion\n",
            "hay mutacion\n",
            "hay mutacion\n",
            "hay mutacion\n",
            "hay mutacion\n",
            "hay mutacion\n",
            "hay mutacion\n",
            "hay mutacion\n",
            "hay mutacion\n",
            "hay mutacion\n",
            "hay mutacion\n",
            "hay mutacion\n",
            "hay mutacion\n",
            "hay mutacion\n",
            "hay mutacion\n",
            "hay mutacion\n",
            "hay mutacion\n",
            "hay mutacion\n",
            "hay mutacion\n",
            "hay mutacion\n",
            "hay mutacion\n",
            "hay mutacion\n",
            "hay mutacion\n",
            "mejor adaptado: 5.0\n",
            "[ 4  1 13 15 10  6 14 12  9  3 16  5  8 11  7  2]\n"
          ]
        },
        {
          "output_type": "display_data",
          "data": {
            "image/png": "[encoded data removed]",
            "text/plain": [
              "<Figure size 432x288 with 1 Axes>"
            ]
          },
          "metadata": {
            "needs_background": "light"
          }
        },
        {
          "output_type": "stream",
          "name": "stdout",
          "text": [
            "hay mutacion\n",
            "hay mutacion\n",
            "hay mutacion\n",
            "hay mutacion\n",
            "hay mutacion\n",
            "hay mutacion\n",
            "hay mutacion\n",
            "hay mutacion\n",
            "hay mutacion\n",
            "hay mutacion\n",
            "hay mutacion\n",
            "hay mutacion\n",
            "hay mutacion\n",
            "hay mutacion\n",
            "hay mutacion\n",
            "hay mutacion\n",
            "hay mutacion\n",
            "hay mutacion\n",
            "hay mutacion\n",
            "hay mutacion\n",
            "hay mutacion\n",
            "hay mutacion\n",
            "hay mutacion\n",
            "hay mutacion\n",
            "hay mutacion\n",
            "hay mutacion\n",
            "hay mutacion\n",
            "hay mutacion\n",
            "hay mutacion\n",
            "hay mutacion\n",
            "hay mutacion\n",
            "hay mutacion\n",
            "hay mutacion\n",
            "mejor adaptado: 6.0\n",
            "[ 4  3 13 15 10  6 14 12  5  1 16  9  8 11  7  2]\n"
          ]
        },
        {
          "output_type": "display_data",
          "data": {
            "image/png": "[encoded data removed]",
            "text/plain": [
              "<Figure size 432x288 with 1 Axes>"
            ]
          },
          "metadata": {
            "needs_background": "light"
          }
        },
        {
          "output_type": "stream",
          "name": "stdout",
          "text": [
            "hay mutacion\n",
            "hay mutacion\n",
            "hay mutacion\n",
            "hay mutacion\n",
            "hay mutacion\n",
            "hay mutacion\n",
            "hay mutacion\n",
            "hay mutacion\n",
            "hay mutacion\n",
            "hay mutacion\n",
            "hay mutacion\n",
            "hay mutacion\n",
            "hay mutacion\n",
            "hay mutacion\n",
            "hay mutacion\n",
            "hay mutacion\n",
            "hay mutacion\n",
            "hay mutacion\n",
            "hay mutacion\n",
            "hay mutacion\n",
            "hay mutacion\n",
            "hay mutacion\n",
            "hay mutacion\n",
            "hay mutacion\n",
            "hay mutacion\n",
            "hay mutacion\n",
            "hay mutacion\n",
            "hay mutacion\n",
            "hay mutacion\n",
            "hay mutacion\n",
            "hay mutacion\n",
            "hay mutacion\n",
            "mejor adaptado: 4.0\n",
            "[ 4  8 13 15 10  6 14 12  5  3 16  9  1 11  7  2]\n"
          ]
        },
        {
          "output_type": "display_data",
          "data": {
            "image/png": "[encoded data removed]",
            "text/plain": [
              "<Figure size 432x288 with 1 Axes>"
            ]
          },
          "metadata": {
            "needs_background": "light"
          }
        },
        {
          "output_type": "stream",
          "name": "stdout",
          "text": [
            "hay mutacion\n",
            "hay mutacion\n",
            "hay mutacion\n",
            "hay mutacion\n",
            "hay mutacion\n",
            "hay mutacion\n",
            "hay mutacion\n",
            "hay mutacion\n",
            "hay mutacion\n",
            "hay mutacion\n",
            "hay mutacion\n",
            "hay mutacion\n",
            "hay mutacion\n",
            "hay mutacion\n",
            "hay mutacion\n",
            "hay mutacion\n",
            "hay mutacion\n",
            "hay mutacion\n",
            "hay mutacion\n",
            "hay mutacion\n",
            "hay mutacion\n",
            "hay mutacion\n",
            "hay mutacion\n",
            "hay mutacion\n",
            "hay mutacion\n",
            "hay mutacion\n",
            "hay mutacion\n",
            "hay mutacion\n",
            "hay mutacion\n",
            "hay mutacion\n",
            "hay mutacion\n",
            "hay mutacion\n",
            "hay mutacion\n",
            "hay mutacion\n",
            "mejor adaptado: 3.0\n",
            "[ 4  6 13 15 10  8 14  9  5  3  1 16 12 11  7  2]\n"
          ]
        },
        {
          "output_type": "display_data",
          "data": {
            "image/png": "[encoded data removed]",
            "text/plain": [
              "<Figure size 432x288 with 1 Axes>"
            ]
          },
          "metadata": {
            "needs_background": "light"
          }
        },
        {
          "output_type": "stream",
          "name": "stdout",
          "text": [
            "hay mutacion\n",
            "hay mutacion\n",
            "hay mutacion\n",
            "hay mutacion\n",
            "hay mutacion\n",
            "hay mutacion\n",
            "hay mutacion\n",
            "hay mutacion\n",
            "hay mutacion\n",
            "hay mutacion\n",
            "hay mutacion\n",
            "hay mutacion\n",
            "hay mutacion\n",
            "hay mutacion\n",
            "hay mutacion\n",
            "hay mutacion\n",
            "hay mutacion\n",
            "hay mutacion\n",
            "hay mutacion\n",
            "hay mutacion\n",
            "hay mutacion\n",
            "hay mutacion\n",
            "hay mutacion\n",
            "hay mutacion\n",
            "hay mutacion\n",
            "hay mutacion\n",
            "hay mutacion\n",
            "hay mutacion\n",
            "hay mutacion\n",
            "hay mutacion\n",
            "hay mutacion\n",
            "hay mutacion\n",
            "mejor adaptado: 3.0\n",
            "[ 4 10  1 15  8  6 14  9  5  3 13 16 12  2  7 11]\n"
          ]
        },
        {
          "output_type": "display_data",
          "data": {
            "image/png": "[encoded data removed]",
            "text/plain": [
              "<Figure size 432x288 with 1 Axes>"
            ]
          },
          "metadata": {
            "needs_background": "light"
          }
        },
        {
          "output_type": "stream",
          "name": "stdout",
          "text": [
            "hay mutacion\n",
            "hay mutacion\n",
            "hay mutacion\n",
            "hay mutacion\n",
            "hay mutacion\n",
            "hay mutacion\n",
            "hay mutacion\n",
            "hay mutacion\n",
            "hay mutacion\n",
            "iteracion alcanzada 264\n",
            "mejor adaptado: 0.0\n",
            "[ 4  8  1 15 10  6 14  9  5  3 13 16 12  2  7 11]\n"
          ]
        },
        {
          "output_type": "display_data",
          "data": {
            "image/png": "[encoded data removed]",
            "text/plain": [
              "<Figure size 432x288 with 1 Axes>"
            ]
          },
          "metadata": {
            "needs_background": "light"
          }
        },
        {
          "output_type": "execute_result",
          "data": {
            "text/plain": [
              "[4, 8, 1, 15, 10, 6, 14, 9, 5, 3, 13, 16, 12, 2, 7, 11]"
            ]
          },
          "metadata": {},
          "execution_count": 129
        }
      ]
    }
  ]
}