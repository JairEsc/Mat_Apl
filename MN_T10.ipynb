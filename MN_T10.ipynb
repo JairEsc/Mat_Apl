{
  "nbformat": 4,
  "nbformat_minor": 0,
  "metadata": {
    "colab": {
      "name": "Untitled35.ipynb",
      "provenance": [],
      "authorship_tag": "ABX9TyN9ExH786wdaX4OOzbpZn0Y",
      "include_colab_link": true
    },
    "kernelspec": {
      "name": "python3",
      "display_name": "Python 3"
    },
    "language_info": {
      "name": "python"
    }
  },
  "cells": [
    {
      "cell_type": "markdown",
      "metadata": {
        "id": "view-in-github",
        "colab_type": "text"
      },
      "source": [
        "<a href=\"https://colab.research.google.com/github/JairEsc/Mat_Apl/blob/main/MN_T10.ipynb\" target=\"_parent\"><img src=\"https://colab.research.google.com/assets/colab-badge.svg\" alt=\"Open In Colab\"/></a>"
      ]
    },
    {
      "cell_type": "code",
      "metadata": {
        "id": "eSnndxEX1wpr"
      },
      "source": [
        "def check_diag(A,tol):\n",
        "    sum=0\n",
        "    for i in range(len(A)):\n",
        "        for j in range(len(A[0])):\n",
        "            if(i!=j):\n",
        "                sum+=A[i][j]**2\n",
        "    print(sum)\n",
        "    return (sum<=tol)\n",
        "def entrada_max(A):#Regresa una lista [i,j], tal que a_{i,j} es el valor maximo en valor absoluto.\n",
        "    max=abs(A[0][1])\n",
        "    index=[0,1]\n",
        "    for i in range(len(A)):\n",
        "        for j in range(len(A[0])):\n",
        "            if(i!=j):\n",
        "                if(max<abs(A[i][j])):\n",
        "                    max=abs(A[i][j])\n",
        "                    index=i,j\n",
        "    print(max)\n",
        "    return(index)\n",
        "import numpy as np\n"
      ],
      "execution_count": 26,
      "outputs": []
    },
    {
      "cell_type": "code",
      "metadata": {
        "id": "U7CWQEoE2xy6"
      },
      "source": [
        "def Jacobi_rot(A,tol,max_Iter):\n",
        "    count=0\n",
        "    P=np.identity(len(A))\n",
        "    while(check_diag(A,tol)&(count<=max_Iter)):\n",
        "        i,j=entrada_max(A)\n",
        "        a=A[i][j]\n",
        "        if(A[i][i]==A[j][j]):\n",
        "            theta=45\n",
        "        else:\n",
        "            theta=0.5*np.arctan(2*a/(A[i][i]-A[j][j]))\n",
        "        #Ya tenemos la rotacion y podriamos hacer el producto de matrices\n",
        "        #En lugar de eso solo modificamos las entradas que cambiarian.\n",
        "        A[i][j]=0\n",
        "        A[j][i]=0\n",
        "        A[i][i]=np.cos(theta)^(2)*A[i][i]-np.sin(theta)^(2)*A[j][j]\n",
        "        A[j][j]=np.cos(theta)^(2)*A[i][i]+np.sin(theta)^(2)*A[j][j]\n",
        "    if(count>max_Iter):\n",
        "        print(\"Maxima iteracion alcanzada\")\n",
        "    else:\n",
        "        print(\"num. Iteraciones: \", str(count))\n",
        "    return(A)"
      ],
      "execution_count": 30,
      "outputs": []
    },
    {
      "cell_type": "code",
      "metadata": {
        "colab": {
          "base_uri": "https://localhost:8080/"
        },
        "id": "I7VaWIdi3lUg",
        "outputId": "3f556e8b-70d7-4285-da6b-bf1871f3c9b2"
      },
      "source": [
        "A=[[1,0,1],[2,1,0],[-3,1,1]]\n",
        "entrada_max(A)"
      ],
      "execution_count": 27,
      "outputs": [
        {
          "output_type": "stream",
          "name": "stdout",
          "text": [
            "3\n"
          ]
        },
        {
          "output_type": "execute_result",
          "data": {
            "text/plain": [
              "(2, 0)"
            ]
          },
          "metadata": {},
          "execution_count": 27
        }
      ]
    }
  ]
}