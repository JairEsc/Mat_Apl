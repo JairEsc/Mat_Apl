{
  "nbformat": 4,
  "nbformat_minor": 0,
  "metadata": {
    "colab": {
      "name": "Untitled35.ipynb",
      "provenance": [],
      "authorship_tag": "ABX9TyO7aVSdiI+hoNYKGvDFpy7X",
      "include_colab_link": true
    },
    "kernelspec": {
      "name": "python3",
      "display_name": "Python 3"
    },
    "language_info": {
      "name": "python"
    }
  },
  "cells": [
    {
      "cell_type": "markdown",
      "metadata": {
        "id": "view-in-github",
        "colab_type": "text"
      },
      "source": [
        "<a href=\"https://colab.research.google.com/github/JairEsc/Mat_Apl/blob/main/MN_T10.ipynb\" target=\"_parent\"><img src=\"https://colab.research.google.com/assets/colab-badge.svg\" alt=\"Open In Colab\"/></a>"
      ]
    },
    {
      "cell_type": "code",
      "metadata": {
        "id": "eSnndxEX1wpr"
      },
      "source": [
        "def check_diag(A,tol,pr=False):\n",
        "    boolean=True\n",
        "    breaker=False\n",
        "    for i in range(len(A)):\n",
        "        for j in range(len(A[0])):\n",
        "            if(i!=j):\n",
        "                if(abs(A[i][j])>tol):\n",
        "                    boolean=False;\n",
        "                    breaker=True;\n",
        "                    break;\n",
        "        if(breaker==True):\n",
        "            break\n",
        "    return(boolean)\n",
        "def entrada_max(A):#Regresa una lista [i,j], tal que a_{i,j} es el valor maximo en valor absoluto.\n",
        "    max=abs(A[0][1])\n",
        "    index=[0,1]\n",
        "    for i in range(len(A)):\n",
        "        for j in range(len(A[0])):\n",
        "            if(i!=j):\n",
        "                if(max<abs(A[i][j])):\n",
        "                    max=abs(A[i][j])\n",
        "                    index=i,j\n",
        "    return(index)\n",
        "import numpy as np\n"
      ],
      "execution_count": 81,
      "outputs": []
    },
    {
      "cell_type": "code",
      "metadata": {
        "id": "U7CWQEoE2xy6"
      },
      "source": [
        "def Jacobi_rot(A,tol,max_Iter):\n",
        "    count=0\n",
        "    n=len(A)\n",
        "    P=np.identity(n)\n",
        "    while((check_diag(A,tol)==False)&(count<=max_Iter)):\n",
        "        i,j=entrada_max(A)\n",
        "        a=A[i][j]\n",
        "        if(A[i][i]==A[j][j]):\n",
        "            theta=np.pi/4\n",
        "        else:\n",
        "            theta=0.5*np.arctan(2*a/(A[i][i]-A[j][j]))\n",
        "        #Ya tenemos la rotacion y podemos hacer el producto de matrices\n",
        "        R=np.identity(n)\n",
        "        R[i][i]=np.cos(theta)\n",
        "        R[i][j]=np.sin(theta)\n",
        "        R[j][i]=-R[i][j]\n",
        "        R[j][j]=R[i][i]\n",
        "        print(np.cos(theta)*np.sin(theta)*A[i][i]-np.sin(theta)*np.sin(theta)*A[j][i]+np.cos(theta)*np.cos(theta)*A[i][j]-np.cos(theta)*np.sin(theta)*A[j][j])\n",
        "        A=np.dot(R.T,np.dot(A,R))\n",
        "        print(A[i][j])\n",
        "        count+=1\n",
        "    if(count>max_Iter):\n",
        "        print(\"Maxima iteracion alcanzada\")\n",
        "    else:\n",
        "        print(\"num. Iteraciones: \", str(count))\n",
        "    return(A)"
      ],
      "execution_count": 91,
      "outputs": []
    },
    {
      "cell_type": "code",
      "metadata": {
        "colab": {
          "base_uri": "https://localhost:8080/"
        },
        "id": "I7VaWIdi3lUg",
        "outputId": "ba64a168-b4b1-4c9b-fdaf-130e35fe3c5a"
      },
      "source": [
        "A=[[2,-1,0],[-1,2,-1],[0,-1,2]]\n",
        "print(A)\n",
        "check_diag(A,tol=0.9999)"
      ],
      "execution_count": 85,
      "outputs": [
        {
          "output_type": "stream",
          "name": "stdout",
          "text": [
            "[[2, -1, 0], [-1, 2, -1], [0, -1, 2]]\n"
          ]
        },
        {
          "output_type": "execute_result",
          "data": {
            "text/plain": [
              "False"
            ]
          },
          "metadata": {},
          "execution_count": 85
        }
      ]
    },
    {
      "cell_type": "code",
      "metadata": {
        "id": "2NHNR3s59j-P",
        "outputId": "0b120b10-d690-481e-8533-565fa336ebd0",
        "colab": {
          "base_uri": "https://localhost:8080/"
        }
      },
      "source": [
        "A_1=np.loadtxt(\"Eigen_50x50.txt\",skiprows=1);\n",
        "print(A_1)\n",
        "J=Jacobi_rot(A_1,10**(-3),max_Iter=10)\n",
        "print(A_1)"
      ],
      "execution_count": 95,
      "outputs": [
        {
          "output_type": "stream",
          "name": "stdout",
          "text": [
            "[[1.00000e+01 8.40188e-02 3.94383e-02 ... 8.07725e-02 9.19026e-02\n",
            "  6.97553e-03]\n",
            " [8.40188e-02 2.00000e+01 9.49327e-02 ... 4.39560e-02 9.23970e-02\n",
            "  3.98437e-02]\n",
            " [3.94383e-02 9.49327e-02 3.00000e+01 ... 9.50104e-02 5.25293e-03\n",
            "  5.21563e-02]\n",
            " ...\n",
            " [8.07725e-02 4.39560e-02 9.50104e-02 ... 4.80000e+02 9.24104e-02\n",
            "  4.27295e-02]\n",
            " [9.19026e-02 9.23970e-02 5.25293e-03 ... 9.24104e-02 4.90000e+02\n",
            "  7.84142e-02]\n",
            " [6.97553e-03 3.98437e-02 5.21563e-02 ... 4.27295e-02 7.84142e-02\n",
            "  5.00000e+02]]\n",
            "0.1999987092987465\n",
            "0.1999987092987465\n",
            "0.3999966929879586\n",
            "0.3999966929879586\n",
            "0.7999875811154373\n",
            "0.7999875811154373\n",
            "1.5999287238524846\n",
            "1.5999287238524846\n",
            "3.1994859568518654\n",
            "3.199485956851865\n",
            "6.396000504402378\n",
            "6.3960005044023776\n",
            "12.768246289378153\n",
            "12.768246289378151\n",
            "25.34698384525482\n",
            "25.346983845254822\n",
            "49.194732422935246\n",
            "49.19473242293525\n",
            "86.92240238595227\n",
            "86.92240238595227\n",
            "97.52277256582322\n",
            "97.52277256582322\n",
            "Maxima iteracion alcanzada\n",
            "[[1.00000e+01 8.40188e-02 3.94383e-02 ... 8.07725e-02 9.19026e-02\n",
            "  6.97553e-03]\n",
            " [8.40188e-02 2.00000e+01 9.49327e-02 ... 4.39560e-02 9.23970e-02\n",
            "  3.98437e-02]\n",
            " [3.94383e-02 9.49327e-02 3.00000e+01 ... 9.50104e-02 5.25293e-03\n",
            "  5.21563e-02]\n",
            " ...\n",
            " [8.07725e-02 4.39560e-02 9.50104e-02 ... 4.80000e+02 9.24104e-02\n",
            "  4.27295e-02]\n",
            " [9.19026e-02 9.23970e-02 5.25293e-03 ... 9.24104e-02 4.90000e+02\n",
            "  7.84142e-02]\n",
            " [6.97553e-03 3.98437e-02 5.21563e-02 ... 4.27295e-02 7.84142e-02\n",
            "  5.00000e+02]]\n"
          ]
        }
      ]
    },
    {
      "cell_type": "code",
      "metadata": {
        "id": "eeQq2RovEMpe",
        "outputId": "2c503812-b057-4f57-d2cd-3acc24774d30",
        "colab": {
          "base_uri": "https://localhost:8080/"
        }
      },
      "source": [
        "check_diag(A_1,tol=0.001,pr=True)"
      ],
      "execution_count": 62,
      "outputs": [
        {
          "output_type": "stream",
          "name": "stdout",
          "text": [
            "8.28507489964143\n"
          ]
        },
        {
          "output_type": "execute_result",
          "data": {
            "text/plain": [
              "False"
            ]
          },
          "metadata": {},
          "execution_count": 62
        }
      ]
    }
  ]
}