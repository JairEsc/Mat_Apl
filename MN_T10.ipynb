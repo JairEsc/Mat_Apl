{
  "nbformat": 4,
  "nbformat_minor": 0,
  "metadata": {
    "colab": {
      "name": "Untitled35.ipynb",
      "provenance": [],
      "authorship_tag": "ABX9TyN1MQPNMShWLhE/MAleIeQH",
      "include_colab_link": true
    },
    "kernelspec": {
      "name": "python3",
      "display_name": "Python 3"
    },
    "language_info": {
      "name": "python"
    }
  },
  "cells": [
    {
      "cell_type": "markdown",
      "metadata": {
        "id": "view-in-github",
        "colab_type": "text"
      },
      "source": [
        "<a href=\"https://colab.research.google.com/github/JairEsc/Mat_Apl/blob/main/MN_T10.ipynb\" target=\"_parent\"><img src=\"https://colab.research.google.com/assets/colab-badge.svg\" alt=\"Open In Colab\"/></a>"
      ]
    },
    {
      "cell_type": "code",
      "metadata": {
        "id": "eSnndxEX1wpr"
      },
      "source": [
        "def check_diag(A,tol,pr=False):#Pensado para matrices simetricas\n",
        "    boolean=True\n",
        "    breaker=False\n",
        "    for i in range(len(A)):\n",
        "        for j in range(i,len(A)):\n",
        "            if(i!=j):\n",
        "                if(abs(A[i][j])>tol):\n",
        "                    boolean=False;\n",
        "                    breaker=True;\n",
        "                    break;\n",
        "        if(breaker==True):\n",
        "            break\n",
        "    return(boolean)\n",
        "def entrada_max(A):#Regresa una lista [i,j], tal que a_{i,j} es el valor maximo en valor absoluto.\n",
        "#Pensado para matrices simetricas\n",
        "    max=abs(A[0][1])\n",
        "    index=[0,1]\n",
        "    for i in range(len(A)):\n",
        "        for j in range(i,len(A[0])):\n",
        "            if(i!=j):\n",
        "                if(max<abs(A[i][j])):\n",
        "                    max=abs(A[i][j])\n",
        "                    index=i,j\n",
        "    return(index)\n",
        "import numpy as np\n"
      ],
      "execution_count": 2,
      "outputs": []
    },
    {
      "cell_type": "code",
      "metadata": {
        "id": "U7CWQEoE2xy6"
      },
      "source": [
        "def Jacobi_rot(A,tol,max_Iter):\n",
        "    count=0\n",
        "    n=len(A)\n",
        "    P=np.identity(n)\n",
        "    while((check_diag(A,tol)==False)&(count<=max_Iter)):\n",
        "        p,q=entrada_max(A)\n",
        "        a=A[p][q]\n",
        "        if(A[p][p]==A[q][q]):\n",
        "            theta=np.pi/4\n",
        "        else:\n",
        "            theta=0.5*np.arctan(2*a/(A[p][p]-A[q][q]))\n",
        "        #Ya tenemos la rotacion y podemos hacer el producto de matrices\n",
        "        R=np.identity(n)\n",
        "        R[p][p]=np.cos(theta)\n",
        "        R[p][q]=-np.sin(theta)\n",
        "        R[q][p]=-R[p][q]\n",
        "        R[q][q]=R[p][p]\n",
        "        A=np.dot(R.T,np.dot(A,R))#Se puede mejorar, modificando solo aquellas entradas que cambian.\n",
        "        count+=1\n",
        "        P=np.dot(P,R)\n",
        "    if(count>max_Iter):\n",
        "        print(\"Maxima iteracion alcanzada\")\n",
        "    else:\n",
        "        print(\"num. Iteraciones: \", str(count))\n",
        "    return(P,np.diagonal(A))"
      ],
      "execution_count": 3,
      "outputs": []
    },
    {
      "cell_type": "code",
      "metadata": {
        "colab": {
          "base_uri": "https://localhost:8080/"
        },
        "id": "yUVNDqIP9rdM",
        "outputId": "3858e74b-a1d9-4408-8c47-52beab56c3aa"
      },
      "source": [
        "A_1=np.loadtxt(\"Eigen_3x3.txt\",skiprows=1);\n",
        "print(\"Matriz 3x3:\\n\")\n",
        "print(A_1)\n",
        "P,D=Jacobi_rot(A_1,10**(-5),max_Iter=1000)\n",
        "A_1=np.loadtxt(\"Eigen_3x3.txt\",skiprows=1);\n",
        "print(\"\\nVerificación:    A=P*D*P.T\\n\")\n",
        "print(np.dot(np.dot(P,np.diag(D)),P.T))"
      ],
      "execution_count": 4,
      "outputs": [
        {
          "output_type": "stream",
          "name": "stdout",
          "text": [
            "Matriz 3x3:\n",
            "\n",
            "[[ 3.  -0.1 -0.2]\n",
            " [-0.1  7.  -0.3]\n",
            " [-0.2 -0.3 10. ]]\n",
            "num. Iteraciones:  5\n",
            "\n",
            "Verificación:    A=P*D*P.T\n",
            "\n",
            "[[ 2.99999999 -0.0999999  -0.19999999]\n",
            " [-0.0999999   7.00000001 -0.3       ]\n",
            " [-0.19999999 -0.3        10.        ]]\n"
          ]
        }
      ]
    },
    {
      "cell_type": "code",
      "metadata": {
        "id": "-LOHmIZY-aLy",
        "outputId": "ef080e81-461d-455b-a30c-16c55d2615aa",
        "colab": {
          "base_uri": "https://localhost:8080/"
        }
      },
      "source": [
        "A_1=np.loadtxt(\"Eigen_50x50.txt\",skiprows=1);\n",
        "print(\"Matriz 50x50:\\n\")\n",
        "#print(A_1)\n",
        "P,D=Jacobi_rot(A_1,10**(-5),max_Iter=10000)\n",
        "A_1=np.loadtxt(\"Eigen_50x50.txt\",skiprows=1);\n",
        "print(\"Maxima diferencia entre mi resultado y la matriz original:\\n\")\n",
        "print(np.max(A_1-np.dot(np.dot(P,np.diag(D)),P.T)))"
      ],
      "execution_count": 5,
      "outputs": [
        {
          "output_type": "stream",
          "name": "stdout",
          "text": [
            "Matriz 50x50:\n",
            "\n",
            "num. Iteraciones:  2007\n",
            "Maxima diferencia entre mi resultado y la matriz original:\n",
            "\n",
            "9.98384181440104e-06\n"
          ]
        }
      ]
    },
    {
      "cell_type": "code",
      "metadata": {
        "id": "2NHNR3s59j-P",
        "outputId": "1ef568ae-c9ee-43f1-e0b8-b96d2c1d2e6e",
        "colab": {
          "base_uri": "https://localhost:8080/",
          "height": 434
        }
      },
      "source": [
        "A_1=np.loadtxt(\"Eigen_125x125.txt\",skiprows=1);\n",
        "#print(A_1)\n",
        "print(\"Matriz 125x125:\\n\")\n",
        "P,D=Jacobi_rot(A_1,10**(-5),max_Iter=1000)\n",
        "A_1=np.loadtxt(\"Eigen_125x125.txt\",skiprows=1);\n",
        "print(\"Maxima diferencia entre mi resultado y la matriz original:\\n\")\n",
        "print(np.max(A_1-np.dot(np.dot(P,np.diag(D)),P.T)))"
      ],
      "execution_count": 6,
      "outputs": [
        {
          "output_type": "stream",
          "name": "stdout",
          "text": [
            "Matriz 125x125:\n",
            "\n"
          ]
        },
        {
          "output_type": "error",
          "ename": "KeyboardInterrupt",
          "evalue": "ignored",
          "traceback": [
            "\u001b[0;31m---------------------------------------------------------------------------\u001b[0m",
            "\u001b[0;31mKeyboardInterrupt\u001b[0m                         Traceback (most recent call last)",
            "\u001b[0;32m<ipython-input-6-21cd90d4af3f>\u001b[0m in \u001b[0;36m<module>\u001b[0;34m()\u001b[0m\n\u001b[1;32m      2\u001b[0m \u001b[0;31m#print(A_1)\u001b[0m\u001b[0;34m\u001b[0m\u001b[0;34m\u001b[0m\u001b[0;34m\u001b[0m\u001b[0m\n\u001b[1;32m      3\u001b[0m \u001b[0mprint\u001b[0m\u001b[0;34m(\u001b[0m\u001b[0;34m\"Matriz 125x125:\\n\"\u001b[0m\u001b[0;34m)\u001b[0m\u001b[0;34m\u001b[0m\u001b[0;34m\u001b[0m\u001b[0m\n\u001b[0;32m----> 4\u001b[0;31m \u001b[0mP\u001b[0m\u001b[0;34m,\u001b[0m\u001b[0mD\u001b[0m\u001b[0;34m=\u001b[0m\u001b[0mJacobi_rot\u001b[0m\u001b[0;34m(\u001b[0m\u001b[0mA_1\u001b[0m\u001b[0;34m,\u001b[0m\u001b[0;36m10\u001b[0m\u001b[0;34m**\u001b[0m\u001b[0;34m(\u001b[0m\u001b[0;34m-\u001b[0m\u001b[0;36m5\u001b[0m\u001b[0;34m)\u001b[0m\u001b[0;34m,\u001b[0m\u001b[0mmax_Iter\u001b[0m\u001b[0;34m=\u001b[0m\u001b[0;36m1000\u001b[0m\u001b[0;34m)\u001b[0m\u001b[0;34m\u001b[0m\u001b[0;34m\u001b[0m\u001b[0m\n\u001b[0m\u001b[1;32m      5\u001b[0m \u001b[0mA_1\u001b[0m\u001b[0;34m=\u001b[0m\u001b[0mnp\u001b[0m\u001b[0;34m.\u001b[0m\u001b[0mloadtxt\u001b[0m\u001b[0;34m(\u001b[0m\u001b[0;34m\"Eigen_125x125.txt\"\u001b[0m\u001b[0;34m,\u001b[0m\u001b[0mskiprows\u001b[0m\u001b[0;34m=\u001b[0m\u001b[0;36m1\u001b[0m\u001b[0;34m)\u001b[0m\u001b[0;34m;\u001b[0m\u001b[0;34m\u001b[0m\u001b[0;34m\u001b[0m\u001b[0m\n\u001b[1;32m      6\u001b[0m \u001b[0mprint\u001b[0m\u001b[0;34m(\u001b[0m\u001b[0;34m\"Maxima diferencia entre mi resultado y la matriz original:\\n\"\u001b[0m\u001b[0;34m)\u001b[0m\u001b[0;34m\u001b[0m\u001b[0;34m\u001b[0m\u001b[0m\n",
            "\u001b[0;32m<ipython-input-3-97fd5e1cac43>\u001b[0m in \u001b[0;36mJacobi_rot\u001b[0;34m(A, tol, max_Iter)\u001b[0m\n\u001b[1;32m     18\u001b[0m         \u001b[0mA\u001b[0m\u001b[0;34m=\u001b[0m\u001b[0mnp\u001b[0m\u001b[0;34m.\u001b[0m\u001b[0mdot\u001b[0m\u001b[0;34m(\u001b[0m\u001b[0mR\u001b[0m\u001b[0;34m.\u001b[0m\u001b[0mT\u001b[0m\u001b[0;34m,\u001b[0m\u001b[0mnp\u001b[0m\u001b[0;34m.\u001b[0m\u001b[0mdot\u001b[0m\u001b[0;34m(\u001b[0m\u001b[0mA\u001b[0m\u001b[0;34m,\u001b[0m\u001b[0mR\u001b[0m\u001b[0;34m)\u001b[0m\u001b[0;34m)\u001b[0m\u001b[0;31m#Se puede mejorar, modificando solo aquellas entradas que cambian.\u001b[0m\u001b[0;34m\u001b[0m\u001b[0;34m\u001b[0m\u001b[0m\n\u001b[1;32m     19\u001b[0m         \u001b[0mcount\u001b[0m\u001b[0;34m+=\u001b[0m\u001b[0;36m1\u001b[0m\u001b[0;34m\u001b[0m\u001b[0;34m\u001b[0m\u001b[0m\n\u001b[0;32m---> 20\u001b[0;31m         \u001b[0mP\u001b[0m\u001b[0;34m=\u001b[0m\u001b[0mnp\u001b[0m\u001b[0;34m.\u001b[0m\u001b[0mdot\u001b[0m\u001b[0;34m(\u001b[0m\u001b[0mP\u001b[0m\u001b[0;34m,\u001b[0m\u001b[0mR\u001b[0m\u001b[0;34m)\u001b[0m\u001b[0;34m\u001b[0m\u001b[0;34m\u001b[0m\u001b[0m\n\u001b[0m\u001b[1;32m     21\u001b[0m     \u001b[0;32mif\u001b[0m\u001b[0;34m(\u001b[0m\u001b[0mcount\u001b[0m\u001b[0;34m>\u001b[0m\u001b[0mmax_Iter\u001b[0m\u001b[0;34m)\u001b[0m\u001b[0;34m:\u001b[0m\u001b[0;34m\u001b[0m\u001b[0;34m\u001b[0m\u001b[0m\n\u001b[1;32m     22\u001b[0m         \u001b[0mprint\u001b[0m\u001b[0;34m(\u001b[0m\u001b[0;34m\"Maxima iteracion alcanzada\"\u001b[0m\u001b[0;34m)\u001b[0m\u001b[0;34m\u001b[0m\u001b[0;34m\u001b[0m\u001b[0m\n",
            "\u001b[0;32m<__array_function__ internals>\u001b[0m in \u001b[0;36mdot\u001b[0;34m(*args, **kwargs)\u001b[0m\n",
            "\u001b[0;31mKeyboardInterrupt\u001b[0m: "
          ]
        }
      ]
    },
    {
      "cell_type": "code",
      "metadata": {
        "id": "Uh4Ml2jmA2mV"
      },
      "source": [
        "import numpy as np\n",
        "import math\n",
        "def max_eigen(A,tol,max_iter,pr=True,v_0=[]):\n",
        "    n=len(A)\n",
        "    if(len(v_0)==0):#Es opcional\n",
        "        v_0=(np.zeros(n)+1/math.sqrt(n))#Normalizado\n",
        "    v_1=np.dot(A,v_0)#iteracion\n",
        "    lambda_0=np.dot(v_0,v_1)\n",
        "    lambda_1=np.sqrt(np.dot(v_1,v_1))#se toma raíz para poder compararlos\n",
        "    count=0\n",
        "    while((abs(lambda_0-lambda_1)>tol)&(count<max_iter)):\n",
        "        count+=1\n",
        "        v_0=v_1/np.linalg.norm(v_1)#Normalizacion\n",
        "        v_1=np.dot(A,v_0)#iteracion\n",
        "        lambda_0=lambda_1\n",
        "        lambda_1=np.dot(v_0,v_1)\n",
        "    if(count>max_iter):\n",
        "        return(\"Maxima iteracion alcanzada\")\n",
        "    else:\n",
        "        if(pr==True):\n",
        "            print(\"numero de iteraciones: \"+str(count))\n",
        "        return([lambda_1,v_1])\n",
        "def min_eigen(A,tol,max_iter,pr=True,v_0=[]):\n",
        "    n=len(A)\n",
        "    if(len(v_0)==0):#Es opcional\n",
        "        v_0=(np.zeros(n)+1/math.sqrt(n))#Normalizado\n",
        "    L,U=factorizar_LU(A)\n",
        "    v_1=solve(L,U,v_0)#Se resuelve el sistema\n",
        "    lambda_0=np.dot(v_0,v_1)\n",
        "    lambda_1=np.sqrt(np.dot(v_1,v_1))#se toma raíz para poder compararlos\n",
        "    count=0\n",
        "    while((abs(lambda_0-lambda_1)>tol)&(count<max_iter)):\n",
        "        count+=1\n",
        "        v_0=v_1/np.linalg.norm(v_1)#Se normaliza\n",
        "        v_1=solve(L_m=L,U_m=U,b=v_0)#iteracion\n",
        "        lambda_0=lambda_1\n",
        "        lambda_1=np.dot(v_0,v_1)\n",
        "    if(count>=max_iter):\n",
        "        return(\"Maxima iteracion alcanzada\")\n",
        "    else:\n",
        "        if(pr==True):\n",
        "            print(\"numero de iteraciones: \"+str(count))\n",
        "        return([1/lambda_1,v_1])\n",
        "def deflacion(A,l,v):\n",
        "    for i in range(len(A)):\n",
        "        for j in range(len(A[0])):\n",
        "            A[i][j]-=l*v[i]*v[j]\n",
        "    return(A)\n",
        "def shift(A,alpha):\n",
        "    B=np.copy(A)\n",
        "    for i in range(len(A)):\n",
        "        B[i][i]-=alpha\n",
        "    return B\n",
        "import numpy as np\n",
        "def factorizar_LU(matriz):#Codigo reciclado: Factorizacion LU\n",
        "    n=len(matriz)\n",
        "    L=np.zeros((n,n))\n",
        "    U=np.zeros((n,n))\n",
        "    for j in range(n):\n",
        "        for i in range(j,n):\n",
        "            sum=0\n",
        "            for k in range(i):\n",
        "                sum+=L[i][k]*U[k][j]\n",
        "            L[i][j]=matriz[i][j]-sum\n",
        "            if(i>j):\n",
        "                sum=0\n",
        "                for k in range(j):\n",
        "                    sum+=L[j][k]*U[k][i]\n",
        "                U[j][i]=(matriz[j][i]-sum)/L[j][j]\n",
        "            else: \n",
        "                U[i][j]=1 \n",
        "                if(L[i][i]==0):\n",
        "                    print(\"Error en la construcción de L\")\n",
        "    return([L,U])\n",
        "\n",
        "def superior(list,b):#Codigo reciclado:Resolver sistema triangular\n",
        "  n=len(list)\n",
        "  X=[b[n-1]/list[n-1][n-1]]\n",
        "  X_inv=[X[0]]\n",
        "  for i in range(1,n):#len(list) es el número de renglones de la matriz\n",
        "    acum=0\n",
        "    for j in range(i):#0<=j<=i-1 \n",
        "      acum+=X[j]*list[n-i-1][n-1-j]\n",
        "    X.append((b[n-1-i]-acum)/list[n-1-i][n-1-i])\n",
        "    X_inv.insert(0,X[i])\n",
        "  return X_inv\n",
        "\n",
        "#Codigo reciclado:Resolver sistema triangular\n",
        "def inferior(list,b):#list debe contener las entradas de la matriz triangular.\n",
        "#Será aceptable introducir un arreglo de arreglos de distintos tamaños, para solo introducir las entradas no cero.\n",
        "  X=[b[0]/list[0][0]]\n",
        "  for i in range(1,len(list)):#len(list) es el número de renglones de la matriz\n",
        "    acum=0\n",
        "    for j in range(i):#0<=j<=i-1 \n",
        "      acum+=X[j]*list[i][j]\n",
        "    X.append((b[i]-acum)/list[i][i])\n",
        "  return X\n",
        "def solve(L_m,U_m,b):\n",
        "    y=inferior(L_m,b)#Resolver Ly=b\n",
        "    return(superior(U_m,y))#Resolver Ux=y"
      ],
      "execution_count": 7,
      "outputs": []
    },
    {
      "cell_type": "code",
      "metadata": {
        "id": "gXo37RBPv9ue"
      },
      "source": [
        "import numpy as np\n",
        "def multiple_min_eigen(A,m,tol,max_iter,pr=False,v_0=[]):\n",
        "    n=len(A)\n",
        "    B=np.copy(A)\n",
        "    if(len(v_0)==0):#Es opcional\n",
        "        v_0=(np.zeros(n)+1/np.sqrt(n))#Normalizado\n",
        "    approximations=np.diag(B)\n",
        "    approximations=np.sort(approximations)\n",
        "    eigenvalues=np.zeros(m)\n",
        "    eigenvectors=[]\n",
        "    iter_counts=np.zeros(m)\n",
        "    #print(approximations)\n",
        "    for j in range(0,m):\n",
        "        v_0=(np.zeros(n)+1/np.sqrt(n))#Normalizado\n",
        "        alpha=approximations[j]+np.random.uniform(-0.2,0.2)\n",
        "        A=shift(B,alpha)\n",
        "        L,U=factorizar_LU(A)\n",
        "        ########## Potencia inversa.\n",
        "        v_1=solve(L,U,v_0)#Se resuelve el sistema\n",
        "        lambda_0=np.dot(v_0,v_1)\n",
        "        lambda_1=np.sqrt(np.dot(v_1,v_1))#se toma raíz para poder compararlos\n",
        "        count=0\n",
        "        while((abs(lambda_0-lambda_1)>tol)&(count<max_iter)):\n",
        "            count+=1\n",
        "            v_0=v_1/np.linalg.norm(v_1)#Se normaliza\n",
        "            v_1=solve(L_m=L,U_m=U,b=v_0)#iteracion\n",
        "            lambda_0=lambda_1\n",
        "            lambda_1=np.dot(v_0,v_1)\n",
        "        eigenvalues[j]=(1/lambda_1)+alpha\n",
        "        eigenvectors.append(v_1/np.linalg.norm(v_1))\n",
        "        ###########\n",
        "        iter_counts[j]=count\n",
        "    if(pr==True):\n",
        "        print(\"iteraciones: \", iter_counts)\n",
        "    return(eigenvalues,eigenvectors)"
      ],
      "execution_count": 8,
      "outputs": []
    },
    {
      "cell_type": "code",
      "metadata": {
        "id": "a5hYIRnCY1UX"
      },
      "source": [
        "A=np.loadtxt(\"Eigen_3x3.txt\",skiprows=1)\n",
        "print(\"matriz 3x3:\\n\")\n",
        "print(A)\n",
        "eigenpairs=multiple_min_eigen(A,m=2,tol=10**(-6),max_iter=1000,pr=True)\n",
        "errores=[]\n",
        "print(\"\\nEigenvalores: \", eigenpairs[0])\n",
        "for j in range(2):\n",
        "    errores.append(np.linalg.norm(np.dot(A,eigenpairs[1][j])-eigenpairs[0][j]*eigenpairs[1][j]))\n",
        "print(\"\\nError maximo: ||A*v-\\lambda*v||^2: \", np.max(errores) )"
      ],
      "execution_count": null,
      "outputs": []
    },
    {
      "cell_type": "code",
      "metadata": {
        "id": "drhgXUMbX2Lr"
      },
      "source": [
        "A=np.loadtxt(\"Eigen_50x50.txt\",skiprows=1)\n",
        "print(\"matriz 50x50:\\n\")\n",
        "eigenpairs=multiple_min_eigen(A,m=45,tol=10**(-6),max_iter=1000,pr=True)\n",
        "errores=[]\n",
        "print(\"Eigenvalores: \", eigenpairs[0])\n",
        "for j in range(45):\n",
        "    errores.append(np.linalg.norm(np.dot(A,eigenpairs[1][j])-eigenpairs[0][j]*eigenpairs[1][j]))\n",
        "print(\"\\nError maximo: ||A*v-\\lambda*v||^2: \", np.max(errores) )"
      ],
      "execution_count": null,
      "outputs": []
    },
    {
      "cell_type": "code",
      "metadata": {
        "id": "QOmvK8pvX_sc"
      },
      "source": [
        "def potencia_inv_def(A, M, tol, k):##Codigo de Ceci\n",
        "    n = len(A)\n",
        "    x0 = [1]*n\n",
        "    values = np.zeros(k) #Inicializa vector de k eigenvalores \n",
        "    vectors = [] #Inicializa lista de k eigenvectores \n",
        "    L=np.linalg.cholesky(A)\n",
        "    U=L.T\n",
        "    for i in range(1, k+1):\n",
        "        val_aux = tol + 1\n",
        "        val_min = 0\n",
        "        cont = 0  #Inicializa contador de iteraciones\n",
        "        vec_min = x0\n",
        "        while cont < M and tol < np.abs(val_aux - val_min):\n",
        "            #Quitamos la contribución del menor valor propio\n",
        "            for j in range(n-i+1, n): \n",
        "                vec_min -= np.array(np.dot(vectors[n-j-1], vec_min))*vectors[n-j-1]\n",
        "            #Aplicamos el método de la potencia para el vec_min calculado\n",
        "            norma = np.linalg.norm(vec_min)\n",
        "            vec_min = vec_min/norma\n",
        "            vec_aux = solve(L_m=L,U_m=U,b=vec_min)#Cambio .inv() por solve()\n",
        "            val_min = val_aux\n",
        "            val_aux = np.dot(vec_min, vec_min)/np.dot(vec_aux, vec_min)\n",
        "            vec_min = vec_aux\n",
        "            #Revisa si se ha alcanzdo al tolerancia\n",
        "            if np.abs(val_min - val_aux) < tol: \n",
        "                norma = np.linalg.norm(vec_min)\n",
        "                vec_min = vec_min/norma\n",
        "                break\n",
        "            cont = cont + 1 \n",
        "        #Guarda las listas de valores y vectores propios calculados\n",
        "        values[i-1]=val_aux\n",
        "        vectors += [vec_min] \n",
        "        print(values[i-1])      \n",
        "    return values, vectors "
      ],
      "execution_count": 19,
      "outputs": []
    },
    {
      "cell_type": "code",
      "metadata": {
        "id": "QEWLGgUnzX4m"
      },
      "source": [
        "A=np.loadtxt(\"Eigen_1000x1000.txt\",skiprows=1)\n",
        "eigenpairs=multiple_min_eigen(A,m=1,tol=10**(-6),max_iter=1000,pr=True)\n"
      ],
      "execution_count": null,
      "outputs": []
    },
    {
      "cell_type": "code",
      "metadata": {
        "colab": {
          "base_uri": "https://localhost:8080/",
          "height": 405
        },
        "id": "XvXyigbROD5h",
        "outputId": "2588417a-0231-4554-e6f0-85aee2327ccd"
      },
      "source": [
        "A=np.loadtxt(\"Eigen_500x500.txt\",skiprows=1)\n",
        "values, vectors = potencia_inv_def(A, 50, 0.00001, 20)"
      ],
      "execution_count": 21,
      "outputs": [
        {
          "output_type": "stream",
          "name": "stdout",
          "text": [
            "9.997288839964467\n",
            "19.997968290219973\n",
            "29.9985923381439\n",
            "39.99832632396225\n"
          ]
        },
        {
          "output_type": "error",
          "ename": "KeyboardInterrupt",
          "evalue": "ignored",
          "traceback": [
            "\u001b[0;31m---------------------------------------------------------------------------\u001b[0m",
            "\u001b[0;31mKeyboardInterrupt\u001b[0m                         Traceback (most recent call last)",
            "\u001b[0;32m<ipython-input-21-b40f53f05600>\u001b[0m in \u001b[0;36m<module>\u001b[0;34m()\u001b[0m\n\u001b[1;32m      1\u001b[0m \u001b[0mA\u001b[0m\u001b[0;34m=\u001b[0m\u001b[0mnp\u001b[0m\u001b[0;34m.\u001b[0m\u001b[0mloadtxt\u001b[0m\u001b[0;34m(\u001b[0m\u001b[0;34m\"Eigen_500x500.txt\"\u001b[0m\u001b[0;34m,\u001b[0m\u001b[0mskiprows\u001b[0m\u001b[0;34m=\u001b[0m\u001b[0;36m1\u001b[0m\u001b[0;34m)\u001b[0m\u001b[0;34m\u001b[0m\u001b[0;34m\u001b[0m\u001b[0m\n\u001b[0;32m----> 2\u001b[0;31m \u001b[0mvalues\u001b[0m\u001b[0;34m,\u001b[0m \u001b[0mvectors\u001b[0m \u001b[0;34m=\u001b[0m \u001b[0mpotencia_inv_def\u001b[0m\u001b[0;34m(\u001b[0m\u001b[0mA\u001b[0m\u001b[0;34m,\u001b[0m \u001b[0;36m50\u001b[0m\u001b[0;34m,\u001b[0m \u001b[0;36m0.00001\u001b[0m\u001b[0;34m,\u001b[0m \u001b[0;36m20\u001b[0m\u001b[0;34m)\u001b[0m\u001b[0;34m\u001b[0m\u001b[0;34m\u001b[0m\u001b[0m\n\u001b[0m",
            "\u001b[0;32m<ipython-input-19-01479a16f70c>\u001b[0m in \u001b[0;36mpotencia_inv_def\u001b[0;34m(A, M, tol, k)\u001b[0m\n\u001b[1;32m     18\u001b[0m             \u001b[0mnorma\u001b[0m \u001b[0;34m=\u001b[0m \u001b[0mnp\u001b[0m\u001b[0;34m.\u001b[0m\u001b[0mlinalg\u001b[0m\u001b[0;34m.\u001b[0m\u001b[0mnorm\u001b[0m\u001b[0;34m(\u001b[0m\u001b[0mvec_min\u001b[0m\u001b[0;34m)\u001b[0m\u001b[0;34m\u001b[0m\u001b[0;34m\u001b[0m\u001b[0m\n\u001b[1;32m     19\u001b[0m             \u001b[0mvec_min\u001b[0m \u001b[0;34m=\u001b[0m \u001b[0mvec_min\u001b[0m\u001b[0;34m/\u001b[0m\u001b[0mnorma\u001b[0m\u001b[0;34m\u001b[0m\u001b[0;34m\u001b[0m\u001b[0m\n\u001b[0;32m---> 20\u001b[0;31m             \u001b[0mvec_aux\u001b[0m \u001b[0;34m=\u001b[0m \u001b[0msolve\u001b[0m\u001b[0;34m(\u001b[0m\u001b[0mL_m\u001b[0m\u001b[0;34m=\u001b[0m\u001b[0mL\u001b[0m\u001b[0;34m,\u001b[0m\u001b[0mU_m\u001b[0m\u001b[0;34m=\u001b[0m\u001b[0mU\u001b[0m\u001b[0;34m,\u001b[0m\u001b[0mb\u001b[0m\u001b[0;34m=\u001b[0m\u001b[0mvec_min\u001b[0m\u001b[0;34m)\u001b[0m\u001b[0;34m\u001b[0m\u001b[0;34m\u001b[0m\u001b[0m\n\u001b[0m\u001b[1;32m     21\u001b[0m             \u001b[0mval_min\u001b[0m \u001b[0;34m=\u001b[0m \u001b[0mval_aux\u001b[0m\u001b[0;34m\u001b[0m\u001b[0;34m\u001b[0m\u001b[0m\n\u001b[1;32m     22\u001b[0m             \u001b[0mval_aux\u001b[0m \u001b[0;34m=\u001b[0m \u001b[0mnp\u001b[0m\u001b[0;34m.\u001b[0m\u001b[0mdot\u001b[0m\u001b[0;34m(\u001b[0m\u001b[0mvec_min\u001b[0m\u001b[0;34m,\u001b[0m \u001b[0mvec_min\u001b[0m\u001b[0;34m)\u001b[0m\u001b[0;34m/\u001b[0m\u001b[0mnp\u001b[0m\u001b[0;34m.\u001b[0m\u001b[0mdot\u001b[0m\u001b[0;34m(\u001b[0m\u001b[0mvec_aux\u001b[0m\u001b[0;34m,\u001b[0m \u001b[0mvec_min\u001b[0m\u001b[0;34m)\u001b[0m\u001b[0;34m\u001b[0m\u001b[0;34m\u001b[0m\u001b[0m\n",
            "\u001b[0;32m<ipython-input-7-8f1134d28a9c>\u001b[0m in \u001b[0;36msolve\u001b[0;34m(L_m, U_m, b)\u001b[0m\n\u001b[1;32m     97\u001b[0m   \u001b[0;32mreturn\u001b[0m \u001b[0mX\u001b[0m\u001b[0;34m\u001b[0m\u001b[0;34m\u001b[0m\u001b[0m\n\u001b[1;32m     98\u001b[0m \u001b[0;32mdef\u001b[0m \u001b[0msolve\u001b[0m\u001b[0;34m(\u001b[0m\u001b[0mL_m\u001b[0m\u001b[0;34m,\u001b[0m\u001b[0mU_m\u001b[0m\u001b[0;34m,\u001b[0m\u001b[0mb\u001b[0m\u001b[0;34m)\u001b[0m\u001b[0;34m:\u001b[0m\u001b[0;34m\u001b[0m\u001b[0;34m\u001b[0m\u001b[0m\n\u001b[0;32m---> 99\u001b[0;31m     \u001b[0my\u001b[0m\u001b[0;34m=\u001b[0m\u001b[0minferior\u001b[0m\u001b[0;34m(\u001b[0m\u001b[0mL_m\u001b[0m\u001b[0;34m,\u001b[0m\u001b[0mb\u001b[0m\u001b[0;34m)\u001b[0m\u001b[0;31m#Resolver Ly=b\u001b[0m\u001b[0;34m\u001b[0m\u001b[0;34m\u001b[0m\u001b[0m\n\u001b[0m\u001b[1;32m    100\u001b[0m     \u001b[0;32mreturn\u001b[0m\u001b[0;34m(\u001b[0m\u001b[0msuperior\u001b[0m\u001b[0;34m(\u001b[0m\u001b[0mU_m\u001b[0m\u001b[0;34m,\u001b[0m\u001b[0my\u001b[0m\u001b[0;34m)\u001b[0m\u001b[0;34m)\u001b[0m\u001b[0;31m#Resolver Ux=y\u001b[0m\u001b[0;34m\u001b[0m\u001b[0;34m\u001b[0m\u001b[0m\n",
            "\u001b[0;32m<ipython-input-7-8f1134d28a9c>\u001b[0m in \u001b[0;36minferior\u001b[0;34m(list, b)\u001b[0m\n\u001b[1;32m     93\u001b[0m     \u001b[0macum\u001b[0m\u001b[0;34m=\u001b[0m\u001b[0;36m0\u001b[0m\u001b[0;34m\u001b[0m\u001b[0;34m\u001b[0m\u001b[0m\n\u001b[1;32m     94\u001b[0m     \u001b[0;32mfor\u001b[0m \u001b[0mj\u001b[0m \u001b[0;32min\u001b[0m \u001b[0mrange\u001b[0m\u001b[0;34m(\u001b[0m\u001b[0mi\u001b[0m\u001b[0;34m)\u001b[0m\u001b[0;34m:\u001b[0m\u001b[0;31m#0<=j<=i-1\u001b[0m\u001b[0;34m\u001b[0m\u001b[0;34m\u001b[0m\u001b[0m\n\u001b[0;32m---> 95\u001b[0;31m       \u001b[0macum\u001b[0m\u001b[0;34m+=\u001b[0m\u001b[0mX\u001b[0m\u001b[0;34m[\u001b[0m\u001b[0mj\u001b[0m\u001b[0;34m]\u001b[0m\u001b[0;34m*\u001b[0m\u001b[0mlist\u001b[0m\u001b[0;34m[\u001b[0m\u001b[0mi\u001b[0m\u001b[0;34m]\u001b[0m\u001b[0;34m[\u001b[0m\u001b[0mj\u001b[0m\u001b[0;34m]\u001b[0m\u001b[0;34m\u001b[0m\u001b[0;34m\u001b[0m\u001b[0m\n\u001b[0m\u001b[1;32m     96\u001b[0m     \u001b[0mX\u001b[0m\u001b[0;34m.\u001b[0m\u001b[0mappend\u001b[0m\u001b[0;34m(\u001b[0m\u001b[0;34m(\u001b[0m\u001b[0mb\u001b[0m\u001b[0;34m[\u001b[0m\u001b[0mi\u001b[0m\u001b[0;34m]\u001b[0m\u001b[0;34m-\u001b[0m\u001b[0macum\u001b[0m\u001b[0;34m)\u001b[0m\u001b[0;34m/\u001b[0m\u001b[0mlist\u001b[0m\u001b[0;34m[\u001b[0m\u001b[0mi\u001b[0m\u001b[0;34m]\u001b[0m\u001b[0;34m[\u001b[0m\u001b[0mi\u001b[0m\u001b[0;34m]\u001b[0m\u001b[0;34m)\u001b[0m\u001b[0;34m\u001b[0m\u001b[0;34m\u001b[0m\u001b[0m\n\u001b[1;32m     97\u001b[0m   \u001b[0;32mreturn\u001b[0m \u001b[0mX\u001b[0m\u001b[0;34m\u001b[0m\u001b[0;34m\u001b[0m\u001b[0m\n",
            "\u001b[0;31mKeyboardInterrupt\u001b[0m: "
          ]
        }
      ]
    }
  ]
}