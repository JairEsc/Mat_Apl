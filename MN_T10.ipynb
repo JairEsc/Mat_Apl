{
  "nbformat": 4,
  "nbformat_minor": 0,
  "metadata": {
    "colab": {
      "name": "Untitled35.ipynb",
      "provenance": [],
      "authorship_tag": "ABX9TyOkcmwTgjH9fcR7uvuqfQKC",
      "include_colab_link": true
    },
    "kernelspec": {
      "name": "python3",
      "display_name": "Python 3"
    },
    "language_info": {
      "name": "python"
    }
  },
  "cells": [
    {
      "cell_type": "markdown",
      "metadata": {
        "id": "view-in-github",
        "colab_type": "text"
      },
      "source": [
        "<a href=\"https://colab.research.google.com/github/JairEsc/Mat_Apl/blob/main/MN_T10.ipynb\" target=\"_parent\"><img src=\"https://colab.research.google.com/assets/colab-badge.svg\" alt=\"Open In Colab\"/></a>"
      ]
    },
    {
      "cell_type": "code",
      "metadata": {
        "id": "eSnndxEX1wpr"
      },
      "source": [
        "def check_diag(A,tol,pr=False):#Pensado para matrices simetricas\n",
        "    boolean=True\n",
        "    breaker=False\n",
        "    for i in range(len(A)):\n",
        "        for j in range(i,len(A)):\n",
        "            if(i!=j):\n",
        "                if(abs(A[i][j])>tol):\n",
        "                    boolean=False;\n",
        "                    breaker=True;\n",
        "                    break;\n",
        "        if(breaker==True):\n",
        "            break\n",
        "    return(boolean)\n",
        "def entrada_max(A):#Regresa una lista [i,j], tal que a_{i,j} es el valor maximo en valor absoluto.\n",
        "#Pensado para matrices simetricas\n",
        "    max=abs(A[0][1])\n",
        "    index=[0,1]\n",
        "    for i in range(len(A)):\n",
        "        for j in range(i,len(A[0])):\n",
        "            if(i!=j):\n",
        "                if(max<abs(A[i][j])):\n",
        "                    max=abs(A[i][j])\n",
        "                    index=i,j\n",
        "    return(index)\n",
        "import numpy as np\n"
      ],
      "execution_count": 1,
      "outputs": []
    },
    {
      "cell_type": "code",
      "metadata": {
        "id": "U7CWQEoE2xy6"
      },
      "source": [
        "def Jacobi_rot(A,tol,max_Iter):\n",
        "    count=0\n",
        "    n=len(A)\n",
        "    P=np.identity(n)\n",
        "    while((check_diag(A,tol)==False)&(count<=max_Iter)):\n",
        "        p,q=entrada_max(A)\n",
        "        a=A[p][q]\n",
        "        if(A[p][p]==A[q][q]):\n",
        "            theta=np.pi/4\n",
        "        else:\n",
        "            theta=0.5*np.arctan(2*a/(A[p][p]-A[q][q]))\n",
        "        #Ya tenemos la rotacion y podemos hacer el producto de matrices\n",
        "        R=np.identity(n)\n",
        "        R[p][p]=np.cos(theta)\n",
        "        R[p][q]=-np.sin(theta)\n",
        "        R[q][p]=-R[p][q]\n",
        "        R[q][q]=R[p][p]\n",
        "        A=np.dot(R.T,np.dot(A,R))#Se puede mejorar, modificando solo aquellas entradas que cambian.\n",
        "        count+=1\n",
        "        P=np.dot(P,R)\n",
        "    if(count>max_Iter):\n",
        "        print(\"Maxima iteracion alcanzada\")\n",
        "    else:\n",
        "        print(\"num. Iteraciones: \", str(count))\n",
        "    return(P,np.diagonal(A))"
      ],
      "execution_count": 28,
      "outputs": []
    },
    {
      "cell_type": "code",
      "metadata": {
        "id": "yUVNDqIP9rdM",
        "outputId": "5a25ec4b-dace-417f-848c-9969adab18be",
        "colab": {
          "base_uri": "https://localhost:8080/"
        }
      },
      "source": [
        "A_1=np.loadtxt(\"Eigen_3x3.txt\",skiprows=1);\n",
        "print(\"Matriz 3x3:\\n\")\n",
        "print(A_1)\n",
        "P,D=Jacobi_rot(A_1,10**(-5),max_Iter=1000)\n",
        "A_1=np.loadtxt(\"Eigen_3x3.txt\",skiprows=1);\n",
        "print(\"\\nVerificación:    A=P*D*P.T\\n\")\n",
        "print(np.dot(np.dot(P,np.diag(D)),P.T))"
      ],
      "execution_count": 42,
      "outputs": [
        {
          "output_type": "stream",
          "name": "stdout",
          "text": [
            "Matriz 3x3:\n",
            "\n",
            "[[ 3.  -0.1 -0.2]\n",
            " [-0.1  7.  -0.3]\n",
            " [-0.2 -0.3 10. ]]\n",
            "num. Iteraciones:  5\n",
            "\n",
            "Verificación:    A=P*D*P.T\n",
            "\n",
            "[[ 2.99999999 -0.0999999  -0.19999999]\n",
            " [-0.0999999   7.00000001 -0.3       ]\n",
            " [-0.19999999 -0.3        10.        ]]\n"
          ]
        }
      ]
    },
    {
      "cell_type": "code",
      "metadata": {
        "id": "-LOHmIZY-aLy"
      },
      "source": [
        ""
      ],
      "execution_count": null,
      "outputs": []
    },
    {
      "cell_type": "code",
      "metadata": {
        "id": "2NHNR3s59j-P",
        "colab": {
          "base_uri": "https://localhost:8080/"
        },
        "outputId": "0303f14b-eb8d-4b78-ae0d-759931fd68d4"
      },
      "source": [
        "A_1=np.loadtxt(\"Eigen_125x125.txt\",skiprows=1);\n",
        "#print(A_1)\n",
        "P,D=Jacobi_rot(A_1,10**(-5),max_Iter=1000)\n",
        "A_1=np.loadtxt(\"Eigen_125x125.txt\",skiprows=1);\n",
        "print(\"Maxima diferencia entre mi resultado y la matriz original:\\n\")\n",
        "print(np.max(A_1-np.dot(np.dot(P,np.diag(D)),P.T)))"
      ],
      "execution_count": 35,
      "outputs": [
        {
          "output_type": "stream",
          "name": "stdout",
          "text": [
            "num. Iteraciones:  833\n",
            "Maxima diferencia entre mi resultado y la matriz original:\n",
            "\n",
            "1.750280971793163e-05\n"
          ]
        }
      ]
    },
    {
      "cell_type": "code",
      "metadata": {
        "id": "QA6gf1qv7MK_",
        "outputId": "3b048722-f242-463f-a827-039ac3cee3a1",
        "colab": {
          "base_uri": "https://localhost:8080/"
        }
      },
      "source": [
        ""
      ],
      "execution_count": 34,
      "outputs": [
        {
          "output_type": "stream",
          "name": "stdout",
          "text": [
            "Maxima diferencia entre mi resultado y la matriz original:\n",
            "\n",
            "1.750280971793163e-05\n"
          ]
        }
      ]
    },
    {
      "cell_type": "code",
      "metadata": {
        "id": "eeQq2RovEMpe",
        "colab": {
          "base_uri": "https://localhost:8080/"
        },
        "outputId": "2c503812-b057-4f57-d2cd-3acc24774d30"
      },
      "source": [
        "check_diag(A_1,tol=0.001,pr=True)"
      ],
      "execution_count": null,
      "outputs": [
        {
          "output_type": "stream",
          "name": "stdout",
          "text": [
            "8.28507489964143\n"
          ]
        },
        {
          "output_type": "execute_result",
          "data": {
            "text/plain": [
              "False"
            ]
          },
          "metadata": {},
          "execution_count": 62
        }
      ]
    }
  ]
}