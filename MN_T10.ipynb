{
  "nbformat": 4,
  "nbformat_minor": 0,
  "metadata": {
    "colab": {
      "name": "Untitled35.ipynb",
      "provenance": [],
      "authorship_tag": "ABX9TyPlnTkdQIMsFW+yezzCvAuB",
      "include_colab_link": true
    },
    "kernelspec": {
      "name": "python3",
      "display_name": "Python 3"
    },
    "language_info": {
      "name": "python"
    }
  },
  "cells": [
    {
      "cell_type": "markdown",
      "metadata": {
        "id": "view-in-github",
        "colab_type": "text"
      },
      "source": [
        "<a href=\"https://colab.research.google.com/github/JairEsc/Mat_Apl/blob/main/MN_T10.ipynb\" target=\"_parent\"><img src=\"https://colab.research.google.com/assets/colab-badge.svg\" alt=\"Open In Colab\"/></a>"
      ]
    },
    {
      "cell_type": "code",
      "metadata": {
        "id": "eSnndxEX1wpr"
      },
      "source": [
        "def check_diag(A,tol,pr=False):#Pensado para matrices simetricas\n",
        "    boolean=True\n",
        "    breaker=False\n",
        "    for i in range(len(A)):\n",
        "        for j in range(i,len(A)):\n",
        "            if(i!=j):\n",
        "                if(abs(A[i][j])>tol):\n",
        "                    boolean=False;\n",
        "                    breaker=True;\n",
        "                    break;\n",
        "        if(breaker==True):\n",
        "            break\n",
        "    return(boolean)\n",
        "def entrada_max(A):#Regresa una lista [i,j], tal que a_{i,j} es el valor maximo en valor absoluto.\n",
        "#Pensado para matrices simetricas\n",
        "    max=abs(A[0][1])\n",
        "    index=[0,1]\n",
        "    for i in range(len(A)):\n",
        "        for j in range(i,len(A[0])):\n",
        "            if(i!=j):\n",
        "                if(max<abs(A[i][j])):\n",
        "                    max=abs(A[i][j])\n",
        "                    index=i,j\n",
        "    return(index)\n",
        "import numpy as np\n"
      ],
      "execution_count": 4,
      "outputs": []
    },
    {
      "cell_type": "code",
      "metadata": {
        "id": "U7CWQEoE2xy6"
      },
      "source": [
        "def Jacobi_rot(A,tol,max_Iter):\n",
        "    count=0\n",
        "    n=len(A)\n",
        "    P=np.identity(n)\n",
        "    while((check_diag(A,tol)==False)&(count<=max_Iter)):\n",
        "        p,q=entrada_max(A)\n",
        "        a=A[p][q]\n",
        "        if(A[p][p]==A[q][q]):\n",
        "            theta=np.pi/4\n",
        "        else:\n",
        "            theta=0.5*np.arctan(2*a/(A[p][p]-A[q][q]))\n",
        "        #Ya tenemos la rotacion y podemos hacer el producto de matrices\n",
        "        R=np.identity(n)\n",
        "        R[p][p]=np.cos(theta)\n",
        "        R[p][q]=-np.sin(theta)\n",
        "        R[q][p]=-R[p][q]\n",
        "        R[q][q]=R[p][p]\n",
        "        A=np.dot(R.T,np.dot(A,R))#Se puede mejorar, modificando solo aquellas entradas que cambian.\n",
        "        count+=1\n",
        "        P=np.dot(P,R)\n",
        "    if(count>max_Iter):\n",
        "        print(\"Maxima iteracion alcanzada\")\n",
        "    else:\n",
        "        print(\"num. Iteraciones: \", str(count))\n",
        "    return(P,np.diagonal(A))"
      ],
      "execution_count": 5,
      "outputs": []
    },
    {
      "cell_type": "code",
      "metadata": {
        "colab": {
          "base_uri": "https://localhost:8080/"
        },
        "id": "yUVNDqIP9rdM",
        "outputId": "5a25ec4b-dace-417f-848c-9969adab18be"
      },
      "source": [
        "A_1=np.loadtxt(\"Eigen_3x3.txt\",skiprows=1);\n",
        "print(\"Matriz 3x3:\\n\")\n",
        "print(A_1)\n",
        "P,D=Jacobi_rot(A_1,10**(-5),max_Iter=1000)\n",
        "A_1=np.loadtxt(\"Eigen_3x3.txt\",skiprows=1);\n",
        "print(\"\\nVerificación:    A=P*D*P.T\\n\")\n",
        "print(np.dot(np.dot(P,np.diag(D)),P.T))"
      ],
      "execution_count": 42,
      "outputs": [
        {
          "output_type": "stream",
          "name": "stdout",
          "text": [
            "Matriz 3x3:\n",
            "\n",
            "[[ 3.  -0.1 -0.2]\n",
            " [-0.1  7.  -0.3]\n",
            " [-0.2 -0.3 10. ]]\n",
            "num. Iteraciones:  5\n",
            "\n",
            "Verificación:    A=P*D*P.T\n",
            "\n",
            "[[ 2.99999999 -0.0999999  -0.19999999]\n",
            " [-0.0999999   7.00000001 -0.3       ]\n",
            " [-0.19999999 -0.3        10.        ]]\n"
          ]
        }
      ]
    },
    {
      "cell_type": "code",
      "metadata": {
        "colab": {
          "base_uri": "https://localhost:8080/"
        },
        "id": "-LOHmIZY-aLy",
        "outputId": "61106114-cb03-43f9-bd9e-b5c9a16707a3"
      },
      "source": [
        "A_1=np.loadtxt(\"Eigen_50x50.txt\",skiprows=1);\n",
        "print(\"Matriz 50x50:\\n\")\n",
        "#print(A_1)\n",
        "P,D=Jacobi_rot(A_1,10**(-5),max_Iter=10000)\n",
        "A_1=np.loadtxt(\"Eigen_50x50.txt\",skiprows=1);\n",
        "print(\"Maxima diferencia entre mi resultado y la matriz original:\\n\")\n",
        "print(np.max(A_1-np.dot(np.dot(P,np.diag(D)),P.T)))"
      ],
      "execution_count": 44,
      "outputs": [
        {
          "output_type": "stream",
          "name": "stdout",
          "text": [
            "Matriz 50x50:\n",
            "\n",
            "num. Iteraciones:  2007\n",
            "Maxima diferencia entre mi resultado y la matriz original:\n",
            "\n",
            "9.98384181440104e-06\n"
          ]
        }
      ]
    },
    {
      "cell_type": "code",
      "metadata": {
        "id": "2NHNR3s59j-P",
        "colab": {
          "base_uri": "https://localhost:8080/"
        },
        "outputId": "0303f14b-eb8d-4b78-ae0d-759931fd68d4"
      },
      "source": [
        "A_1=np.loadtxt(\"Eigen_125x125.txt\",skiprows=1);\n",
        "#print(A_1)\n",
        "print(\"Matriz 125x125:\\n\")\n",
        "P,D=Jacobi_rot(A_1,10**(-5),max_Iter=1000)\n",
        "A_1=np.loadtxt(\"Eigen_125x125.txt\",skiprows=1);\n",
        "print(\"Maxima diferencia entre mi resultado y la matriz original:\\n\")\n",
        "print(np.max(A_1-np.dot(np.dot(P,np.diag(D)),P.T)))"
      ],
      "execution_count": 35,
      "outputs": [
        {
          "output_type": "stream",
          "name": "stdout",
          "text": [
            "num. Iteraciones:  833\n",
            "Maxima diferencia entre mi resultado y la matriz original:\n",
            "\n",
            "1.750280971793163e-05\n"
          ]
        }
      ]
    },
    {
      "cell_type": "code",
      "metadata": {
        "id": "Uh4Ml2jmA2mV"
      },
      "source": [
        "import numpy as np\n",
        "import math\n",
        "def max_eigen(A,tol,max_iter,pr=True,v_0=[]):\n",
        "    n=len(A)\n",
        "    if(len(v_0)==0):#Es opcional\n",
        "        v_0=(np.zeros(n)+1/math.sqrt(n))#Normalizado\n",
        "    v_1=np.dot(A,v_0)#iteracion\n",
        "    lambda_0=np.dot(v_0,v_1)\n",
        "    lambda_1=np.sqrt(np.dot(v_1,v_1))#se toma raíz para poder compararlos\n",
        "    count=0\n",
        "    while((abs(lambda_0-lambda_1)>tol)&(count<max_iter)):\n",
        "        count+=1\n",
        "        v_0=v_1/np.linalg.norm(v_1)#Normalizacion\n",
        "        v_1=np.dot(A,v_0)#iteracion\n",
        "        lambda_0=lambda_1\n",
        "        lambda_1=np.dot(v_0,v_1)\n",
        "    if(count>max_iter):\n",
        "        return(\"Maxima iteracion alcanzada\")\n",
        "    else:\n",
        "        if(pr==True):\n",
        "            print(\"numero de iteraciones: \"+str(count))\n",
        "        return([lambda_1,v_1])\n",
        "def min_eigen(A,tol,max_iter,pr=True,v_0=[]):\n",
        "    n=len(A)\n",
        "    if(len(v_0)==0):#Es opcional\n",
        "        v_0=(np.zeros(n)+1/math.sqrt(n))#Normalizado\n",
        "    L,U=factorizar_LU(A)\n",
        "    v_1=solve(L,U,v_0)#Se resuelve el sistema\n",
        "    lambda_0=np.dot(v_0,v_1)\n",
        "    lambda_1=np.sqrt(np.dot(v_1,v_1))#se toma raíz para poder compararlos\n",
        "    count=0\n",
        "    while((abs(lambda_0-lambda_1)>tol)&(count<max_iter)):\n",
        "        count+=1\n",
        "        v_0=v_1/np.linalg.norm(v_1)#Se normaliza\n",
        "        v_1=solve(L_m=L,U_m=U,b=v_0)#iteracion\n",
        "        lambda_0=lambda_1\n",
        "        lambda_1=np.dot(v_0,v_1)\n",
        "    if(count>=max_iter):\n",
        "        return(\"Maxima iteracion alcanzada\")\n",
        "    else:\n",
        "        if(pr==True):\n",
        "            print(\"numero de iteraciones: \"+str(count))\n",
        "        return([1/lambda_1,v_1])\n",
        "def deflacion(A,l,v):\n",
        "    for i in range(len(A)):\n",
        "        for j in range(len(A[0])):\n",
        "            A[i][j]-=l*v[i]*v[j]\n",
        "    return(A)\n",
        "import numpy as np\n",
        "def factorizar_LU(matriz):#Codigo reciclado: Factorizacion LU\n",
        "    n=len(matriz)\n",
        "    L=np.zeros((n,n))\n",
        "    U=np.zeros((n,n))\n",
        "    for j in range(n):\n",
        "        for i in range(j,n):\n",
        "            sum=0\n",
        "            for k in range(i):\n",
        "                sum+=L[i][k]*U[k][j]\n",
        "            L[i][j]=matriz[i][j]-sum\n",
        "            if(i>j):\n",
        "                sum=0\n",
        "                for k in range(j):\n",
        "                    sum+=L[j][k]*U[k][i]\n",
        "                U[j][i]=(matriz[j][i]-sum)/L[j][j]\n",
        "            else: \n",
        "                U[i][j]=1 \n",
        "                if(L[i][i]==0):\n",
        "                    return(\"Error en la construcción de L\")\n",
        "    return([L,U])\n",
        "\n",
        "def superior(list,b):#Codigo reciclado:Resolver sistema triangular\n",
        "  n=len(list)\n",
        "  X=[b[n-1]/list[n-1][n-1]]\n",
        "  X_inv=[X[0]]\n",
        "  for i in range(1,n):#len(list) es el número de renglones de la matriz\n",
        "    acum=0\n",
        "    for j in range(i):#0<=j<=i-1 \n",
        "      acum+=X[j]*list[n-i-1][n-1-j]\n",
        "    X.append((b[n-1-i]-acum)/list[n-1-i][n-1-i])\n",
        "    X_inv.insert(0,X[i])\n",
        "  return X_inv\n",
        "\n",
        "#Codigo reciclado:Resolver sistema triangular\n",
        "def inferior(list,b):#list debe contener las entradas de la matriz triangular.\n",
        "#Será aceptable introducir un arreglo de arreglos de distintos tamaños, para solo introducir las entradas no cero.\n",
        "  X=[b[0]/list[0][0]]\n",
        "  for i in range(1,len(list)):#len(list) es el número de renglones de la matriz\n",
        "    acum=0\n",
        "    for j in range(i):#0<=j<=i-1 \n",
        "      acum+=X[j]*list[i][j]\n",
        "    X.append((b[i]-acum)/list[i][i])\n",
        "  return X\n",
        "def solve(L_m,U_m,b):\n",
        "    y=inferior(L_m,b)#Resolver Ly=b\n",
        "    return(superior(U_m,y))#Resolver Ux=y"
      ],
      "execution_count": 6,
      "outputs": []
    },
    {
      "cell_type": "code",
      "metadata": {
        "id": "hCaf6hZWmKsa"
      },
      "source": [
        "def quitar_contrib(A,alpha):\n",
        "    for i in range(len(A)):\n",
        "        A[i][i]-=alpha\n",
        "    return A"
      ],
      "execution_count": 12,
      "outputs": []
    },
    {
      "cell_type": "code",
      "metadata": {
        "id": "-vKgbYw5nCDH",
        "outputId": "28393514-c7aa-4679-ab3a-c58ca6c6e5e1",
        "colab": {
          "base_uri": "https://localhost:8080/"
        }
      },
      "source": [
        "quitar_contrib([[1,0,1],[2,2,2],[3,3,3]],3)"
      ],
      "execution_count": 13,
      "outputs": [
        {
          "output_type": "execute_result",
          "data": {
            "text/plain": [
              "[[-2, 0, 1], [2, -1, 2], [3, 3, 0]]"
            ]
          },
          "metadata": {},
          "execution_count": 13
        }
      ]
    },
    {
      "cell_type": "code",
      "metadata": {
        "id": "-lWWQcVv-_LB"
      },
      "source": [
        "def multiple_min_eigenvalue(A,m,tol,max_iter,pr=False,v_0=[]):\n",
        "    n=len(A)\n",
        "    if(len(v_0)==0):#Es opcional\n",
        "        v_0=(np.zeros(n)+1/math.sqrt(n))#Normalizado\n",
        "    eigenvalues=np.zeros(n)    \n",
        "    eigenvectors=[]\n",
        "    sum=np.zeros(n)\n",
        "    Z_0=np.copy(v_0)\n",
        "    initial=min_eigen(A,tol/100,max_iter,v_0=v_0,pr=False)\n",
        "    \n",
        "    \n",
        "        \n"
      ],
      "execution_count": 76,
      "outputs": []
    },
    {
      "cell_type": "code",
      "metadata": {
        "colab": {
          "base_uri": "https://localhost:8080/"
        },
        "id": "BRXM9dx76TA1",
        "outputId": "7d0e27b6-9d8e-4387-9607-0e956676c680"
      },
      "source": [
        "A_1=np.loadtxt(\"Eigen_3x3.txt\",skiprows=1);\n",
        "print(\"Matriz 3x3:\\n\")\n",
        "print(A_1)\n",
        "#P,D=Jacobi_rot(A_1,10**(-5),max_Iter=1000)\n",
        "#A_1=np.loadtxt(\"Eigen_3x3.txt\",skiprows=1);\n",
        "#print(\"\\nVerificación:    A=P*D*P.T\\n\")\n",
        "#print(np.dot(np.dot(P,np.diag(D)),P.T))\n",
        "multiple_min_eigenvalue(A_1,m=3,tol=10**(-12),max_iter=10000)"
      ],
      "execution_count": 77,
      "outputs": [
        {
          "output_type": "stream",
          "name": "stdout",
          "text": [
            "Matriz 3x3:\n",
            "\n",
            "[[ 3.  -0.1 -0.2]\n",
            " [-0.1  7.  -0.3]\n",
            " [-0.2 -0.3 10. ]]\n",
            "numero de iteraciones: 4\n",
            "numero de iteraciones: 4\n",
            "[2.99134332 0.01       0.01      ]\n"
          ]
        }
      ]
    },
    {
      "cell_type": "code",
      "metadata": {
        "colab": {
          "base_uri": "https://localhost:8080/"
        },
        "id": "3EpXZ7MPCI2k",
        "outputId": "1cbeed1a-73a7-4bb3-d14c-35f77d7b22d7"
      },
      "source": [
        "A_1=np.loadtxt(\"Eigen_3x3.txt\",skiprows=1);\n",
        "np.linalg.eig(A_1)"
      ],
      "execution_count": 39,
      "outputs": [
        {
          "output_type": "execute_result",
          "data": {
            "text/plain": [
              "(array([ 2.99134332, 10.03479626,  6.97386041]),\n",
              " array([[-0.9991909 , -0.02689902,  0.02989969],\n",
              "        [-0.02714665, -0.09746053, -0.99486909],\n",
              "        [-0.02967504,  0.99487582, -0.09665145]]))"
            ]
          },
          "metadata": {},
          "execution_count": 39
        }
      ]
    },
    {
      "cell_type": "code",
      "metadata": {
        "colab": {
          "base_uri": "https://localhost:8080/"
        },
        "id": "u3OAijwb_FZr",
        "outputId": "81b72e9d-2ca5-41ad-a3b9-1ae7a051afb5"
      },
      "source": [
        "np.array([1,1])*2"
      ],
      "execution_count": 20,
      "outputs": [
        {
          "output_type": "execute_result",
          "data": {
            "text/plain": [
              "array([2, 2])"
            ]
          },
          "metadata": {},
          "execution_count": 20
        }
      ]
    }
  ]
}