{
  "nbformat": 4,
  "nbformat_minor": 0,
  "metadata": {
    "colab": {
      "name": "Untitled38.ipynb",
      "provenance": [],
      "authorship_tag": "ABX9TyP+lT+g4usgbNSfQKIymDFn",
      "include_colab_link": true
    },
    "kernelspec": {
      "name": "python3",
      "display_name": "Python 3"
    },
    "language_info": {
      "name": "python"
    }
  },
  "cells": [
    {
      "cell_type": "markdown",
      "metadata": {
        "id": "view-in-github",
        "colab_type": "text"
      },
      "source": [
        "<a href=\"https://colab.research.google.com/github/JairEsc/Mat_Apl/blob/main/MN_T10.ipynb\" target=\"_parent\"><img src=\"https://colab.research.google.com/assets/colab-badge.svg\" alt=\"Open In Colab\"/></a>"
      ]
    },
    {
      "cell_type": "code",
      "metadata": {
        "id": "4wpRGZiypgt6"
      },
      "source": [
        "import numpy as np"
      ],
      "execution_count": 1,
      "outputs": []
    },
    {
      "cell_type": "code",
      "metadata": {
        "id": "5PXpE8-0c0c4"
      },
      "source": [
        "#metodo de rayleigh"
      ],
      "execution_count": 2,
      "outputs": []
    },
    {
      "cell_type": "code",
      "metadata": {
        "id": "i8tjU5Ouc4Gf"
      },
      "source": [
        "#metodo de iteracion en subespacio.\n",
        "def gen_base_ortogonal(m,n):\n",
        "    base=[]\n",
        "    for j in range(m):\n",
        "        b=[0]*n\n",
        "        b[j]=1\n",
        "        base.append(np.array(b))\n",
        "    return np.array(base)\n",
        "def factorizar_LU(matriz):#Codigo reciclado: Factorizacion LU\n",
        "    n=len(matriz)\n",
        "    L=np.zeros((n,n))\n",
        "    U=np.zeros((n,n))\n",
        "    for j in range(n):\n",
        "        for i in range(j,n):\n",
        "            sum=0\n",
        "            for k in range(i):\n",
        "                sum+=L[i][k]*U[k][j]\n",
        "            L[i][j]=matriz[i][j]-sum\n",
        "            if(i>j):\n",
        "                sum=0\n",
        "                for k in range(j):\n",
        "                    sum+=L[j][k]*U[k][i]\n",
        "                U[j][i]=(matriz[j][i]-sum)/L[j][j]\n",
        "            else: \n",
        "                U[i][j]=1 \n",
        "                if(L[i][i]==0):\n",
        "                    print(\"Error en la construcción de L\")\n",
        "    return([L,U])\n",
        "\n",
        "def superior(list,b):#Codigo reciclado:Resolver sistema triangular\n",
        "  n=len(list)\n",
        "  X=[b[n-1]/list[n-1][n-1]]\n",
        "  X_inv=[X[0]]\n",
        "  for i in range(1,n):#len(list) es el número de renglones de la matriz\n",
        "    acum=0\n",
        "    for j in range(i):#0<=j<=i-1 \n",
        "      acum+=X[j]*list[n-i-1][n-1-j]\n",
        "    X.append((b[n-1-i]-acum)/list[n-1-i][n-1-i])\n",
        "    X_inv.insert(0,X[i])\n",
        "  return X_inv\n",
        "\n",
        "#Codigo reciclado:Resolver sistema triangular\n",
        "def inferior(list,b):#list debe contener las entradas de la matriz triangular.\n",
        "#Será aceptable introducir un arreglo de arreglos de distintos tamaños, para solo introducir las entradas no cero.\n",
        "  X=[b[0]/list[0][0]]\n",
        "  for i in range(1,len(list)):#len(list) es el número de renglones de la matriz\n",
        "    acum=0\n",
        "    for j in range(i):#0<=j<=i-1 \n",
        "      acum+=X[j]*list[i][j]\n",
        "    X.append((b[i]-acum)/list[i][i])\n",
        "  return X\n",
        "def solve(L_m,U_m,b):\n",
        "    y=inferior(L_m,b)#Resolver Ly=b\n",
        "    return(superior(U_m,y))#Resolver Ux=y\n",
        "def check_diag(A,tol):#Pensado para matrices en general (NO simetricas)\n",
        "    boolean=True\n",
        "    breaker=False\n",
        "    for i in range(len(A)):\n",
        "        for j in range(i,len(A)):\n",
        "            if(i!=j):\n",
        "                if(abs(A[i][j])>tol):\n",
        "                    boolean=False;\n",
        "                    breaker=True;\n",
        "                    break;\n",
        "        if(breaker==True):\n",
        "            break\n",
        "    return(boolean)\n",
        "def Jacobi_rot(A,tol,max_Iter):\n",
        "    count=0\n",
        "    n=len(A)\n",
        "    P=np.identity(n)\n",
        "    while((check_diag(A,tol)==False)&(count<=max_Iter)):\n",
        "        p,q=entrada_max(A)\n",
        "        a=A[p][q]\n",
        "        if(A[p][p]==A[q][q]):\n",
        "            theta=np.pi/4\n",
        "        else:\n",
        "            theta=0.5*np.arctan(2*a/(A[p][p]-A[q][q]))\n",
        "        #Ya tenemos la rotacion y podemos hacer el producto de matrices\n",
        "        R=np.identity(n)\n",
        "        R[p][p]=np.cos(theta)\n",
        "        R[p][q]=-np.sin(theta)\n",
        "        R[q][p]=-R[p][q]\n",
        "        R[q][q]=R[p][p]\n",
        "        A=np.dot(R.T,np.dot(A,R))#Se puede mejorar, modificando solo aquellas entradas que cambian.\n",
        "        count+=1\n",
        "        P=np.dot(P,R)\n",
        "    if(count>max_Iter):\n",
        "        print(\"Maxima iteracion alcanzada\")\n",
        "    else:\n",
        "        print(\"num. Iteraciones: \", str(count))\n",
        "    return(P,np.diagonal(A))\n",
        "def entrada_max(A):#Regresa una lista [i,j], tal que a_{i,j} es el valor maximo en valor absoluto.\n",
        "#Pensado para matrices simetricas\n",
        "    max=abs(A[0][1])\n",
        "    index=[0,1]\n",
        "    for i in range(len(A)):\n",
        "        for j in range(i,len(A[0])):\n",
        "            if(i!=j):\n",
        "                if(max<abs(A[i][j])):\n",
        "                    max=abs(A[i][j])\n",
        "                    index=i,j\n",
        "    return(index)"
      ],
      "execution_count": 3,
      "outputs": []
    },
    {
      "cell_type": "code",
      "metadata": {
        "id": "fW4Ybkaakc74"
      },
      "source": [
        "##Algoritmo\n",
        "##1 Genera sub-base ortonormal\n",
        "## Usa ese vector inicial (con deflación) para UNA iteración de potencia inversa (o potencia.) \n",
        "#-> eso genera una nueva matriz \\Phi de approximaciones de vectores. Se normalizan.\n",
        "## Hacer el producto B=\\Phi.T*A*\\Phi. Parar cuando esto sea diagonal.\n",
        "## Aplicar Jacobi (Completo) \n",
        "#-> Genera un producto de matrices de rotacion Q, que puedo usar como aproximacion de eigenvectores \\Phi.\n",
        "##Repetir"
      ],
      "execution_count": 4,
      "outputs": []
    },
    {
      "cell_type": "code",
      "metadata": {
        "colab": {
          "base_uri": "https://localhost:8080/"
        },
        "id": "N9H1y7kLlhtP",
        "outputId": "d0d1f01b-2d39-4aaf-b4bc-adebc958359a"
      },
      "source": [
        "U=gen_base_ortogonal(3,4)\n",
        "print(U[1:1])\n",
        "np.matrix(U)"
      ],
      "execution_count": 5,
      "outputs": [
        {
          "output_type": "stream",
          "name": "stdout",
          "text": [
            "[]\n"
          ]
        },
        {
          "output_type": "execute_result",
          "data": {
            "text/plain": [
              "matrix([[1, 0, 0, 0],\n",
              "        [0, 1, 0, 0],\n",
              "        [0, 0, 1, 0]])"
            ]
          },
          "metadata": {},
          "execution_count": 5
        }
      ]
    },
    {
      "cell_type": "code",
      "metadata": {
        "id": "OnT-XANxlAHi"
      },
      "source": [
        "def quitar_contribucion(v_0,list_eigen):\n",
        "    if list_eigen==[]:\n",
        "        print(\"no se quito nada\")\n",
        "        return(np.array(v_0))\n",
        "    else:\n",
        "        aux=v_0\n",
        "        for v in list_eigen:\n",
        "            v_0-=np.dot(aux,np.array(v))*np.array(v)\n",
        "        print(\"se quitaron: \",list_eigen)\n",
        "        return v_0\n"
      ],
      "execution_count": 6,
      "outputs": []
    },
    {
      "cell_type": "code",
      "metadata": {
        "colab": {
          "base_uri": "https://localhost:8080/"
        },
        "id": "ZMfg-WKGl-nY",
        "outputId": "1bfb9592-e0f9-44e9-906a-0913a8b08b03"
      },
      "source": [
        "np.dot([[2,0],[0,2]],np.array([1,2]))"
      ],
      "execution_count": 7,
      "outputs": [
        {
          "output_type": "execute_result",
          "data": {
            "text/plain": [
              "array([2, 4])"
            ]
          },
          "metadata": {},
          "execution_count": 7
        }
      ]
    },
    {
      "cell_type": "code",
      "metadata": {
        "id": "0ZSlxoSNkddA"
      },
      "source": [
        "def Iter_subespacio(A,m,tol=0.000001,max_iter=1000):\n",
        "    n=len(A)\n",
        "    phi_old=[[1,0,0],[0,1,0]]\n",
        "    B=A\n",
        "    count=0;\n",
        "    while(check_diag(B,tol=0.00001)==False & count<max_iter):\n",
        "        count+=1\n",
        "        print(\"phi_old:\\n \",phi_old)\n",
        "        for j in range(m):\n",
        "            v_i=phi_old[j]\n",
        "            if(j>0):\n",
        "                aux=phi_old[j]\n",
        "                contrib=[0,0,0]\n",
        "                for k in range(j):\n",
        "                    v_i-=np.dot(aux,phi_old[k])*np.array(phi_old[k])\n",
        "            v_i_next=np.linalg.solve(A,v_i)\n",
        "            phi_old[j]=np.array(v_i_next)/np.linalg.norm(v_i_next)\n",
        "        B=np.dot(np.dot(phi_old,A),np.array(phi_old).T)\n",
        "        print(\"B::::::::::\",B)\n",
        "        print(\"Jac\",Jacobi_rot(B,tol,max_iter)[0])\n",
        "        print(\"P.T\",np.array(phi_old).T)\n",
        "        phi_old=np.dot(np.array(phi_old).T,Jacobi_rot(B,tol,max_iter)[0]).T\n",
        "    print(\"Num. iteraciones\", count)\n",
        "    return (np.dot(np.array(phi_old),phi_old.T))"
      ],
      "execution_count": 46,
      "outputs": []
    },
    {
      "cell_type": "code",
      "metadata": {
        "colab": {
          "base_uri": "https://localhost:8080/"
        },
        "id": "vL8F0kcb7ND0",
        "outputId": "3185fbbe-a90c-4569-c077-060b0cb12be3"
      },
      "source": [
        "U=[1,1,1]\n",
        "type(U/np.linalg.norm(np.asarray(U)))"
      ],
      "execution_count": 9,
      "outputs": [
        {
          "output_type": "execute_result",
          "data": {
            "text/plain": [
              "numpy.ndarray"
            ]
          },
          "metadata": {},
          "execution_count": 9
        }
      ]
    },
    {
      "cell_type": "code",
      "metadata": {
        "colab": {
          "base_uri": "https://localhost:8080/"
        },
        "id": "KZcZDQv-6Fld",
        "outputId": "22f19a2c-7f53-4b9a-93ea-b543e6e81722"
      },
      "source": [
        "Iter_subespacio([[4,-14,-12],[-14,10,13],[-12,13,1]],m=2)"
      ],
      "execution_count": 47,
      "outputs": [
        {
          "output_type": "stream",
          "name": "stdout",
          "text": [
            "phi_old:\n",
            "  [[1, 0, 0], [0, 1, 0]]\n",
            "B:::::::::: [[-6.76142750e+00 -1.30035450e-15]\n",
            " [-1.53835776e-15 -5.52933603e+00]]\n",
            "num. Iteraciones:  0\n",
            "Jac [[1. 0.]\n",
            " [0. 1.]]\n",
            "P.T [[-7.16179888e-01 -3.18218036e-17]\n",
            " [-6.39607195e-01 -2.94062965e-01]\n",
            " [-2.79265114e-01  9.55786050e-01]]\n",
            "num. Iteraciones:  0\n",
            "Num. iteraciones 1\n"
          ]
        },
        {
          "output_type": "execute_result",
          "data": {
            "text/plain": [
              "array([[ 1.        , -0.07883291],\n",
              "       [-0.07883291,  1.        ]])"
            ]
          },
          "metadata": {},
          "execution_count": 47
        }
      ]
    },
    {
      "cell_type": "code",
      "metadata": {
        "colab": {
          "base_uri": "https://localhost:8080/"
        },
        "id": "0EjJHniamy2m",
        "outputId": "7162f31a-a325-4f5f-a7d5-6da1d870c111"
      },
      "source": [
        "np.linalg.eig([[4,-14,-12],[-14,10,13],[-12,13,1]])"
      ],
      "execution_count": 33,
      "outputs": [
        {
          "output_type": "execute_result",
          "data": {
            "text/plain": [
              "(array([31.53568967, -9.64366467, -6.89202501]),\n",
              " array([[-0.55567116,  0.59474589, -0.58095343],\n",
              "        [ 0.6635882 , -0.10370353, -0.74087535],\n",
              "        [ 0.50087949,  0.7971969 ,  0.3370413 ]]))"
            ]
          },
          "metadata": {},
          "execution_count": 33
        }
      ]
    }
  ]
}