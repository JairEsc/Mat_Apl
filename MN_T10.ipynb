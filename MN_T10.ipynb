{
  "nbformat": 4,
  "nbformat_minor": 0,
  "metadata": {
    "colab": {
      "name": "Untitled35.ipynb",
      "provenance": [],
      "authorship_tag": "ABX9TyNHX7ec5h4aRrxm1tICeZnr",
      "include_colab_link": true
    },
    "kernelspec": {
      "name": "python3",
      "display_name": "Python 3"
    },
    "language_info": {
      "name": "python"
    }
  },
  "cells": [
    {
      "cell_type": "markdown",
      "metadata": {
        "id": "view-in-github",
        "colab_type": "text"
      },
      "source": [
        "<a href=\"https://colab.research.google.com/github/JairEsc/Mat_Apl/blob/main/MN_T10.ipynb\" target=\"_parent\"><img src=\"https://colab.research.google.com/assets/colab-badge.svg\" alt=\"Open In Colab\"/></a>"
      ]
    },
    {
      "cell_type": "code",
      "metadata": {
        "id": "eSnndxEX1wpr"
      },
      "source": [
        "def check_diag(A,tol,pr=False):#Pensado para matrices simetricas\n",
        "    boolean=True\n",
        "    breaker=False\n",
        "    for i in range(len(A)):\n",
        "        for j in range(i,len(A)):\n",
        "            if(i!=j):\n",
        "                if(abs(A[i][j])>tol):\n",
        "                    boolean=False;\n",
        "                    breaker=True;\n",
        "                    break;\n",
        "        if(breaker==True):\n",
        "            break\n",
        "    return(boolean)\n",
        "def entrada_max(A):#Regresa una lista [i,j], tal que a_{i,j} es el valor maximo en valor absoluto.\n",
        "#Pensado para matrices simetricas\n",
        "    max=abs(A[0][1])\n",
        "    index=[0,1]\n",
        "    for i in range(len(A)):\n",
        "        for j in range(i,len(A[0])):\n",
        "            if(i!=j):\n",
        "                if(max<abs(A[i][j])):\n",
        "                    max=abs(A[i][j])\n",
        "                    index=i,j\n",
        "    return(index)\n",
        "import numpy as np\n"
      ],
      "execution_count": 1,
      "outputs": []
    },
    {
      "cell_type": "code",
      "metadata": {
        "id": "U7CWQEoE2xy6"
      },
      "source": [
        "def Jacobi_rot(A,tol,max_Iter):\n",
        "    count=0\n",
        "    n=len(A)\n",
        "    P=np.identity(n)\n",
        "    while((check_diag(A,tol)==False)&(count<=max_Iter)):\n",
        "        p,q=entrada_max(A)\n",
        "        a=A[p][q]\n",
        "        if(A[p][p]==A[q][q]):\n",
        "            theta=np.pi/4\n",
        "        else:\n",
        "            theta=0.5*np.arctan(2*a/(A[p][p]-A[q][q]))\n",
        "        #Ya tenemos la rotacion y podemos hacer el producto de matrices\n",
        "        R=np.identity(n)\n",
        "        R[p][p]=np.cos(theta)\n",
        "        R[p][q]=-np.sin(theta)\n",
        "        R[q][p]=-R[p][q]\n",
        "        R[q][q]=R[p][p]\n",
        "        A=np.dot(R.T,np.dot(A,R))#Se puede mejorar, modificando solo aquellas entradas que cambian.\n",
        "        count+=1\n",
        "        P=np.dot(P,R)\n",
        "    if(count>max_Iter):\n",
        "        print(\"Maxima iteracion alcanzada\")\n",
        "    else:\n",
        "        print(\"num. Iteraciones: \", str(count))\n",
        "    return(P,np.diagonal(A))"
      ],
      "execution_count": 2,
      "outputs": []
    },
    {
      "cell_type": "code",
      "metadata": {
        "colab": {
          "base_uri": "https://localhost:8080/",
          "height": 387
        },
        "id": "yUVNDqIP9rdM",
        "outputId": "2ef7a9a9-e052-4e23-cac4-df6575d895b6"
      },
      "source": [
        "A_1=np.loadtxt(\"Eigen_3x3.txt\",skiprows=1);\n",
        "print(\"Matriz 3x3:\\n\")\n",
        "print(A_1)\n",
        "P,D=Jacobi_rot(A_1,10**(-5),max_Iter=1000)\n",
        "A_1=np.loadtxt(\"Eigen_3x3.txt\",skiprows=1);\n",
        "print(\"\\nVerificación:    A=P*D*P.T\\n\")\n",
        "print(np.dot(np.dot(P,np.diag(D)),P.T))"
      ],
      "execution_count": 3,
      "outputs": [
        {
          "output_type": "error",
          "ename": "OSError",
          "evalue": "ignored",
          "traceback": [
            "\u001b[0;31m---------------------------------------------------------------------------\u001b[0m",
            "\u001b[0;31mOSError\u001b[0m                                   Traceback (most recent call last)",
            "\u001b[0;32m<ipython-input-3-76528653a531>\u001b[0m in \u001b[0;36m<module>\u001b[0;34m()\u001b[0m\n\u001b[0;32m----> 1\u001b[0;31m \u001b[0mA_1\u001b[0m\u001b[0;34m=\u001b[0m\u001b[0mnp\u001b[0m\u001b[0;34m.\u001b[0m\u001b[0mloadtxt\u001b[0m\u001b[0;34m(\u001b[0m\u001b[0;34m\"Eigen_3x3.txt\"\u001b[0m\u001b[0;34m,\u001b[0m\u001b[0mskiprows\u001b[0m\u001b[0;34m=\u001b[0m\u001b[0;36m1\u001b[0m\u001b[0;34m)\u001b[0m\u001b[0;34m;\u001b[0m\u001b[0;34m\u001b[0m\u001b[0;34m\u001b[0m\u001b[0m\n\u001b[0m\u001b[1;32m      2\u001b[0m \u001b[0mprint\u001b[0m\u001b[0;34m(\u001b[0m\u001b[0;34m\"Matriz 3x3:\\n\"\u001b[0m\u001b[0;34m)\u001b[0m\u001b[0;34m\u001b[0m\u001b[0;34m\u001b[0m\u001b[0m\n\u001b[1;32m      3\u001b[0m \u001b[0mprint\u001b[0m\u001b[0;34m(\u001b[0m\u001b[0mA_1\u001b[0m\u001b[0;34m)\u001b[0m\u001b[0;34m\u001b[0m\u001b[0;34m\u001b[0m\u001b[0m\n\u001b[1;32m      4\u001b[0m \u001b[0mP\u001b[0m\u001b[0;34m,\u001b[0m\u001b[0mD\u001b[0m\u001b[0;34m=\u001b[0m\u001b[0mJacobi_rot\u001b[0m\u001b[0;34m(\u001b[0m\u001b[0mA_1\u001b[0m\u001b[0;34m,\u001b[0m\u001b[0;36m10\u001b[0m\u001b[0;34m**\u001b[0m\u001b[0;34m(\u001b[0m\u001b[0;34m-\u001b[0m\u001b[0;36m5\u001b[0m\u001b[0;34m)\u001b[0m\u001b[0;34m,\u001b[0m\u001b[0mmax_Iter\u001b[0m\u001b[0;34m=\u001b[0m\u001b[0;36m1000\u001b[0m\u001b[0;34m)\u001b[0m\u001b[0;34m\u001b[0m\u001b[0;34m\u001b[0m\u001b[0m\n\u001b[1;32m      5\u001b[0m \u001b[0mA_1\u001b[0m\u001b[0;34m=\u001b[0m\u001b[0mnp\u001b[0m\u001b[0;34m.\u001b[0m\u001b[0mloadtxt\u001b[0m\u001b[0;34m(\u001b[0m\u001b[0;34m\"Eigen_3x3.txt\"\u001b[0m\u001b[0;34m,\u001b[0m\u001b[0mskiprows\u001b[0m\u001b[0;34m=\u001b[0m\u001b[0;36m1\u001b[0m\u001b[0;34m)\u001b[0m\u001b[0;34m;\u001b[0m\u001b[0;34m\u001b[0m\u001b[0;34m\u001b[0m\u001b[0m\n",
            "\u001b[0;32m/usr/local/lib/python3.7/dist-packages/numpy/lib/npyio.py\u001b[0m in \u001b[0;36mloadtxt\u001b[0;34m(fname, dtype, comments, delimiter, converters, skiprows, usecols, unpack, ndmin, encoding, max_rows)\u001b[0m\n\u001b[1;32m    959\u001b[0m             \u001b[0mfname\u001b[0m \u001b[0;34m=\u001b[0m \u001b[0mos_fspath\u001b[0m\u001b[0;34m(\u001b[0m\u001b[0mfname\u001b[0m\u001b[0;34m)\u001b[0m\u001b[0;34m\u001b[0m\u001b[0;34m\u001b[0m\u001b[0m\n\u001b[1;32m    960\u001b[0m         \u001b[0;32mif\u001b[0m \u001b[0m_is_string_like\u001b[0m\u001b[0;34m(\u001b[0m\u001b[0mfname\u001b[0m\u001b[0;34m)\u001b[0m\u001b[0;34m:\u001b[0m\u001b[0;34m\u001b[0m\u001b[0;34m\u001b[0m\u001b[0m\n\u001b[0;32m--> 961\u001b[0;31m             \u001b[0mfh\u001b[0m \u001b[0;34m=\u001b[0m \u001b[0mnp\u001b[0m\u001b[0;34m.\u001b[0m\u001b[0mlib\u001b[0m\u001b[0;34m.\u001b[0m\u001b[0m_datasource\u001b[0m\u001b[0;34m.\u001b[0m\u001b[0mopen\u001b[0m\u001b[0;34m(\u001b[0m\u001b[0mfname\u001b[0m\u001b[0;34m,\u001b[0m \u001b[0;34m'rt'\u001b[0m\u001b[0;34m,\u001b[0m \u001b[0mencoding\u001b[0m\u001b[0;34m=\u001b[0m\u001b[0mencoding\u001b[0m\u001b[0;34m)\u001b[0m\u001b[0;34m\u001b[0m\u001b[0;34m\u001b[0m\u001b[0m\n\u001b[0m\u001b[1;32m    962\u001b[0m             \u001b[0mfencoding\u001b[0m \u001b[0;34m=\u001b[0m \u001b[0mgetattr\u001b[0m\u001b[0;34m(\u001b[0m\u001b[0mfh\u001b[0m\u001b[0;34m,\u001b[0m \u001b[0;34m'encoding'\u001b[0m\u001b[0;34m,\u001b[0m \u001b[0;34m'latin1'\u001b[0m\u001b[0;34m)\u001b[0m\u001b[0;34m\u001b[0m\u001b[0;34m\u001b[0m\u001b[0m\n\u001b[1;32m    963\u001b[0m             \u001b[0mfh\u001b[0m \u001b[0;34m=\u001b[0m \u001b[0miter\u001b[0m\u001b[0;34m(\u001b[0m\u001b[0mfh\u001b[0m\u001b[0;34m)\u001b[0m\u001b[0;34m\u001b[0m\u001b[0;34m\u001b[0m\u001b[0m\n",
            "\u001b[0;32m/usr/local/lib/python3.7/dist-packages/numpy/lib/_datasource.py\u001b[0m in \u001b[0;36mopen\u001b[0;34m(path, mode, destpath, encoding, newline)\u001b[0m\n\u001b[1;32m    193\u001b[0m \u001b[0;34m\u001b[0m\u001b[0m\n\u001b[1;32m    194\u001b[0m     \u001b[0mds\u001b[0m \u001b[0;34m=\u001b[0m \u001b[0mDataSource\u001b[0m\u001b[0;34m(\u001b[0m\u001b[0mdestpath\u001b[0m\u001b[0;34m)\u001b[0m\u001b[0;34m\u001b[0m\u001b[0;34m\u001b[0m\u001b[0m\n\u001b[0;32m--> 195\u001b[0;31m     \u001b[0;32mreturn\u001b[0m \u001b[0mds\u001b[0m\u001b[0;34m.\u001b[0m\u001b[0mopen\u001b[0m\u001b[0;34m(\u001b[0m\u001b[0mpath\u001b[0m\u001b[0;34m,\u001b[0m \u001b[0mmode\u001b[0m\u001b[0;34m,\u001b[0m \u001b[0mencoding\u001b[0m\u001b[0;34m=\u001b[0m\u001b[0mencoding\u001b[0m\u001b[0;34m,\u001b[0m \u001b[0mnewline\u001b[0m\u001b[0;34m=\u001b[0m\u001b[0mnewline\u001b[0m\u001b[0;34m)\u001b[0m\u001b[0;34m\u001b[0m\u001b[0;34m\u001b[0m\u001b[0m\n\u001b[0m\u001b[1;32m    196\u001b[0m \u001b[0;34m\u001b[0m\u001b[0m\n\u001b[1;32m    197\u001b[0m \u001b[0;34m\u001b[0m\u001b[0m\n",
            "\u001b[0;32m/usr/local/lib/python3.7/dist-packages/numpy/lib/_datasource.py\u001b[0m in \u001b[0;36mopen\u001b[0;34m(self, path, mode, encoding, newline)\u001b[0m\n\u001b[1;32m    533\u001b[0m                                       encoding=encoding, newline=newline)\n\u001b[1;32m    534\u001b[0m         \u001b[0;32melse\u001b[0m\u001b[0;34m:\u001b[0m\u001b[0;34m\u001b[0m\u001b[0;34m\u001b[0m\u001b[0m\n\u001b[0;32m--> 535\u001b[0;31m             \u001b[0;32mraise\u001b[0m \u001b[0mIOError\u001b[0m\u001b[0;34m(\u001b[0m\u001b[0;34m\"%s not found.\"\u001b[0m \u001b[0;34m%\u001b[0m \u001b[0mpath\u001b[0m\u001b[0;34m)\u001b[0m\u001b[0;34m\u001b[0m\u001b[0;34m\u001b[0m\u001b[0m\n\u001b[0m\u001b[1;32m    536\u001b[0m \u001b[0;34m\u001b[0m\u001b[0m\n\u001b[1;32m    537\u001b[0m \u001b[0;34m\u001b[0m\u001b[0m\n",
            "\u001b[0;31mOSError\u001b[0m: Eigen_3x3.txt not found."
          ]
        }
      ]
    },
    {
      "cell_type": "code",
      "metadata": {
        "id": "-LOHmIZY-aLy"
      },
      "source": [
        "A_1=np.loadtxt(\"Eigen_50x50.txt\",skiprows=1);\n",
        "print(\"Matriz 50x50:\\n\")\n",
        "#print(A_1)\n",
        "P,D=Jacobi_rot(A_1,10**(-5),max_Iter=10000)\n",
        "A_1=np.loadtxt(\"Eigen_50x50.txt\",skiprows=1);\n",
        "print(\"Maxima diferencia entre mi resultado y la matriz original:\\n\")\n",
        "print(np.max(A_1-np.dot(np.dot(P,np.diag(D)),P.T)))"
      ],
      "execution_count": null,
      "outputs": []
    },
    {
      "cell_type": "code",
      "metadata": {
        "id": "2NHNR3s59j-P"
      },
      "source": [
        "A_1=np.loadtxt(\"Eigen_125x125.txt\",skiprows=1);\n",
        "#print(A_1)\n",
        "print(\"Matriz 125x125:\\n\")\n",
        "P,D=Jacobi_rot(A_1,10**(-5),max_Iter=1000)\n",
        "A_1=np.loadtxt(\"Eigen_125x125.txt\",skiprows=1);\n",
        "print(\"Maxima diferencia entre mi resultado y la matriz original:\\n\")\n",
        "print(np.max(A_1-np.dot(np.dot(P,np.diag(D)),P.T)))"
      ],
      "execution_count": null,
      "outputs": []
    },
    {
      "cell_type": "code",
      "metadata": {
        "id": "Uh4Ml2jmA2mV"
      },
      "source": [
        "import numpy as np\n",
        "import math\n",
        "def max_eigen(A,tol,max_iter,pr=True,v_0=[]):\n",
        "    n=len(A)\n",
        "    if(len(v_0)==0):#Es opcional\n",
        "        v_0=(np.zeros(n)+1/math.sqrt(n))#Normalizado\n",
        "    v_1=np.dot(A,v_0)#iteracion\n",
        "    lambda_0=np.dot(v_0,v_1)\n",
        "    lambda_1=np.sqrt(np.dot(v_1,v_1))#se toma raíz para poder compararlos\n",
        "    count=0\n",
        "    while((abs(lambda_0-lambda_1)>tol)&(count<max_iter)):\n",
        "        count+=1\n",
        "        v_0=v_1/np.linalg.norm(v_1)#Normalizacion\n",
        "        v_1=np.dot(A,v_0)#iteracion\n",
        "        lambda_0=lambda_1\n",
        "        lambda_1=np.dot(v_0,v_1)\n",
        "    if(count>max_iter):\n",
        "        return(\"Maxima iteracion alcanzada\")\n",
        "    else:\n",
        "        if(pr==True):\n",
        "            print(\"numero de iteraciones: \"+str(count))\n",
        "        return([lambda_1,v_1])\n",
        "def min_eigen(A,tol,max_iter,pr=True,v_0=[]):\n",
        "    n=len(A)\n",
        "    if(len(v_0)==0):#Es opcional\n",
        "        v_0=(np.zeros(n)+1/math.sqrt(n))#Normalizado\n",
        "    L,U=factorizar_LU(A)\n",
        "    v_1=solve(L,U,v_0)#Se resuelve el sistema\n",
        "    lambda_0=np.dot(v_0,v_1)\n",
        "    lambda_1=np.sqrt(np.dot(v_1,v_1))#se toma raíz para poder compararlos\n",
        "    count=0\n",
        "    while((abs(lambda_0-lambda_1)>tol)&(count<max_iter)):\n",
        "        count+=1\n",
        "        v_0=v_1/np.linalg.norm(v_1)#Se normaliza\n",
        "        v_1=solve(L_m=L,U_m=U,b=v_0)#iteracion\n",
        "        lambda_0=lambda_1\n",
        "        lambda_1=np.dot(v_0,v_1)\n",
        "    if(count>=max_iter):\n",
        "        return(\"Maxima iteracion alcanzada\")\n",
        "    else:\n",
        "        if(pr==True):\n",
        "            print(\"numero de iteraciones: \"+str(count))\n",
        "        return([1/lambda_1,v_1])\n",
        "def deflacion(A,l,v):\n",
        "    for i in range(len(A)):\n",
        "        for j in range(len(A[0])):\n",
        "            A[i][j]-=l*v[i]*v[j]\n",
        "    return(A)\n",
        "def shift(A,alpha):\n",
        "    B=np.copy(A)\n",
        "    for i in range(len(A)):\n",
        "        B[i][i]-=alpha\n",
        "    return B\n",
        "import numpy as np\n",
        "def factorizar_LU(matriz):#Codigo reciclado: Factorizacion LU\n",
        "    n=len(matriz)\n",
        "    L=np.zeros((n,n))\n",
        "    U=np.zeros((n,n))\n",
        "    for j in range(n):\n",
        "        for i in range(j,n):\n",
        "            sum=0\n",
        "            for k in range(i):\n",
        "                sum+=L[i][k]*U[k][j]\n",
        "            L[i][j]=matriz[i][j]-sum\n",
        "            if(i>j):\n",
        "                sum=0\n",
        "                for k in range(j):\n",
        "                    sum+=L[j][k]*U[k][i]\n",
        "                U[j][i]=(matriz[j][i]-sum)/L[j][j]\n",
        "            else: \n",
        "                U[i][j]=1 \n",
        "                if(L[i][i]==0):\n",
        "                    print(\"Error en la construcción de L\")\n",
        "    return([L,U])\n",
        "\n",
        "def superior(list,b):#Codigo reciclado:Resolver sistema triangular\n",
        "  n=len(list)\n",
        "  X=[b[n-1]/list[n-1][n-1]]\n",
        "  X_inv=[X[0]]\n",
        "  for i in range(1,n):#len(list) es el número de renglones de la matriz\n",
        "    acum=0\n",
        "    for j in range(i):#0<=j<=i-1 \n",
        "      acum+=X[j]*list[n-i-1][n-1-j]\n",
        "    X.append((b[n-1-i]-acum)/list[n-1-i][n-1-i])\n",
        "    X_inv.insert(0,X[i])\n",
        "  return X_inv\n",
        "\n",
        "#Codigo reciclado:Resolver sistema triangular\n",
        "def inferior(list,b):#list debe contener las entradas de la matriz triangular.\n",
        "#Será aceptable introducir un arreglo de arreglos de distintos tamaños, para solo introducir las entradas no cero.\n",
        "  X=[b[0]/list[0][0]]\n",
        "  for i in range(1,len(list)):#len(list) es el número de renglones de la matriz\n",
        "    acum=0\n",
        "    for j in range(i):#0<=j<=i-1 \n",
        "      acum+=X[j]*list[i][j]\n",
        "    X.append((b[i]-acum)/list[i][i])\n",
        "  return X\n",
        "def solve(L_m,U_m,b):\n",
        "    y=inferior(L_m,b)#Resolver Ly=b\n",
        "    return(superior(U_m,y))#Resolver Ux=y"
      ],
      "execution_count": 18,
      "outputs": []
    },
    {
      "cell_type": "code",
      "metadata": {
        "id": "gXo37RBPv9ue"
      },
      "source": [
        "import numpy as np\n",
        "def multiple_min_eigen(A,m,tol,max_iter,pr=False,v_0=[]):\n",
        "    n=len(A)\n",
        "    B=np.copy(A)\n",
        "    if(len(v_0)==0):#Es opcional\n",
        "        v_0=(np.zeros(n)+1/np.sqrt(n))#Normalizado\n",
        "    approximations=np.diag(B)\n",
        "    approximations=np.sort(approximations)\n",
        "    eigenvalues=np.zeros(m)\n",
        "    eigenvectors=[]\n",
        "    iter_counts=np.zeros(m)\n",
        "    #print(approximations)\n",
        "    for j in range(0,m):\n",
        "        v_0=(np.zeros(n)+1/np.sqrt(n))#Normalizado\n",
        "        alpha=approximations[j]+np.random.uniform(-0.2,0.2)\n",
        "        A=shift(B,alpha)\n",
        "        L,U=factorizar_LU(A)\n",
        "        ########## Potencia inversa.\n",
        "        v_1=solve(L,U,v_0)#Se resuelve el sistema\n",
        "        lambda_0=np.dot(v_0,v_1)\n",
        "        lambda_1=np.sqrt(np.dot(v_1,v_1))#se toma raíz para poder compararlos\n",
        "        count=0\n",
        "        while((abs(lambda_0-lambda_1)>tol)&(count<max_iter)):\n",
        "            count+=1\n",
        "            v_0=v_1/np.linalg.norm(v_1)#Se normaliza\n",
        "            v_1=solve(L_m=L,U_m=U,b=v_0)#iteracion\n",
        "            lambda_0=lambda_1\n",
        "            lambda_1=np.dot(v_0,v_1)\n",
        "        eigenvalues[j]=(1/lambda_1)+alpha\n",
        "        eigenvectors.append(v_1/np.linalg.norm(v_1))\n",
        "        ###########\n",
        "        iter_counts[j]=count\n",
        "    if(pr==True):\n",
        "        print(\"iteraciones: \", iter_counts)\n",
        "    return(eigenvalues,eigenvectors)"
      ],
      "execution_count": 28,
      "outputs": []
    },
    {
      "cell_type": "code",
      "metadata": {
        "colab": {
          "base_uri": "https://localhost:8080/"
        },
        "id": "a5hYIRnCY1UX",
        "outputId": "9b710ee9-6119-4bae-911d-1e2bcba487b6"
      },
      "source": [
        "A=np.loadtxt(\"Eigen_3x3.txt\",skiprows=1)\n",
        "print(\"matriz 3x3:\\n\")\n",
        "print(A)\n",
        "eigenpairs=multiple_min_eigen(A,m=2,tol=10**(-6),max_iter=1000,pr=True)\n",
        "errores=[]\n",
        "print(\"\\nEigenvalores: \", eigenpairs[0])\n",
        "for j in range(2):\n",
        "    errores.append(np.linalg.norm(np.dot(A,eigenpairs[1][j])-eigenpairs[0][j]*eigenpairs[1][j]))\n",
        "print(\"\\nError maximo: ||A*v-\\lambda*v||^2: \", np.max(errores) )"
      ],
      "execution_count": 49,
      "outputs": [
        {
          "output_type": "stream",
          "name": "stdout",
          "text": [
            "matriz 3x3:\n",
            "\n",
            "[[ 3.  -0.1 -0.2]\n",
            " [-0.1  7.  -0.3]\n",
            " [-0.2 -0.3 10. ]]\n",
            "iteraciones:  [4. 4.]\n",
            "\n",
            "Eigenvalores:  [2.99134332 6.97386041]\n",
            "\n",
            "Error maximo: ||A*v-\\lambda*v||^2:  3.407274821313779e-07\n"
          ]
        }
      ]
    },
    {
      "cell_type": "code",
      "metadata": {
        "colab": {
          "base_uri": "https://localhost:8080/"
        },
        "id": "drhgXUMbX2Lr",
        "outputId": "2620b6e7-222e-4d61-a10f-8f71ec49036b"
      },
      "source": [
        "A=np.loadtxt(\"Eigen_50x50.txt\",skiprows=1)\n",
        "print(\"matriz 50x50:\\n\")\n",
        "eigenpairs=multiple_min_eigen(A,m=45,tol=10**(-6),max_iter=1000,pr=True)\n",
        "errores=[]\n",
        "print(\"Eigenvalores: \", eigenpairs[0])\n",
        "for j in range(45):\n",
        "    errores.append(np.linalg.norm(np.dot(A,eigenpairs[1][j])-eigenpairs[0][j]*eigenpairs[1][j]))\n",
        "print(\"\\nError maximo: ||A*v-\\lambda*v||^2: \", np.max(errores) )"
      ],
      "execution_count": 50,
      "outputs": [
        {
          "output_type": "stream",
          "name": "stdout",
          "text": [
            "matriz 50x50:\n",
            "\n",
            "iteraciones:  [3. 3. 3. 4. 3. 3. 3. 3. 3. 3. 3. 3. 3. 4. 3. 4. 3. 4. 3. 3. 3. 3. 3. 3.\n",
            " 4. 3. 3. 3. 3. 3. 4. 3. 4. 3. 3. 3. 3. 4. 4. 3. 3. 4. 3. 3. 3.]\n",
            "Eigenvalores:  [  9.99805017  19.99879386  29.99893095  39.99976329  49.99836638\n",
            "  59.99984468  69.99913545  79.99973777  89.99986381  99.99943662\n",
            " 109.99971179 119.99983852 129.9985409  140.00024045 149.99914125\n",
            " 159.99932191 170.00050011 179.9991979  190.00074894 199.99988997\n",
            " 209.99915675 220.00097139 229.99959541 240.00015469 250.00004245\n",
            " 260.00003911 269.99975585 279.99994991 289.99969859 300.00094069\n",
            " 309.99958264 320.00114132 329.99916406 340.00013986 349.99992858\n",
            " 360.00107749 369.99916481 380.00121039 390.00094305 400.00081716\n",
            " 410.00044384 419.99982224 430.00047518 440.0004189  450.00048327]\n",
            "\n",
            "Error maximo: ||A*v-\\lambda*v||^2:  1.0712728425219974e-06\n"
          ]
        }
      ]
    },
    {
      "cell_type": "code",
      "metadata": {
        "id": "QOmvK8pvX_sc"
      },
      "source": [
        ""
      ],
      "execution_count": null,
      "outputs": []
    },
    {
      "cell_type": "code",
      "metadata": {
        "colab": {
          "base_uri": "https://localhost:8080/"
        },
        "id": "QEWLGgUnzX4m",
        "outputId": "bcc4e1b4-845e-4cb6-8b6f-e471f5b138db"
      },
      "source": [
        "A=np.loadtxt(\"Eigen_1000x1000.txt\",skiprows=1)\n",
        "eigenpairs=multiple_min_eigen(A,m=1,tol=10**(-6),max_iter=1000,pr=True)\n"
      ],
      "execution_count": 36,
      "outputs": [
        {
          "output_type": "stream",
          "name": "stdout",
          "text": [
            "iteraciones:  [3.]\n"
          ]
        }
      ]
    },
    {
      "cell_type": "code",
      "metadata": {
        "colab": {
          "base_uri": "https://localhost:8080/"
        },
        "id": "XvXyigbROD5h",
        "outputId": "50e9041b-511f-4b68-e9b5-fe6593d851f8"
      },
      "source": [
        "A=np.loadtxt(\"Eigen_50x50.txt\",skiprows=1)\n",
        "print(np.linalg.norm(np.dot(A,eigenpairs[1][1])-eigenpairs[0][1]*eigenpairs[1][1]))"
      ],
      "execution_count": 26,
      "outputs": [
        {
          "output_type": "stream",
          "name": "stdout",
          "text": [
            "8.358859302903426e-07\n"
          ]
        }
      ]
    }
  ]
}