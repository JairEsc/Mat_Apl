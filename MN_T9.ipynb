{
  "nbformat": 4,
  "nbformat_minor": 0,
  "metadata": {
    "colab": {
      "name": "Untitled30.ipynb",
      "provenance": [],
      "authorship_tag": "ABX9TyN9D02YHo2tmQWA8ch5Fyo3",
      "include_colab_link": true
    },
    "kernelspec": {
      "name": "python3",
      "display_name": "Python 3"
    },
    "language_info": {
      "name": "python"
    }
  },
  "cells": [
    {
      "cell_type": "markdown",
      "metadata": {
        "id": "view-in-github",
        "colab_type": "text"
      },
      "source": [
        "<a href=\"https://colab.research.google.com/github/JairEsc/Mat_Apl/blob/main/MN_T9.ipynb\" target=\"_parent\"><img src=\"https://colab.research.google.com/assets/colab-badge.svg\" alt=\"Open In Colab\"/></a>"
      ]
    },
    {
      "cell_type": "code",
      "metadata": {
        "id": "u4lIrEBwGhCX"
      },
      "source": [
        "import numpy as np\n",
        "import math\n",
        "def max_eigen(A,tol,max_iter,**v_0):\n",
        "    n=len(A)\n",
        "    if(v_0):#Es opcional\n",
        "        v_0=v_0['v_0']\n",
        "    else:#Se toma el vector de 1's.\n",
        "        v_0=(np.zeros(n)+1/math.sqrt(n))#Normalizado\n",
        "    v_1=np.dot(A,v_0)#iteracion\n",
        "    lambda_0=np.dot(v_0,v_1)\n",
        "    lambda_1=np.sqrt(np.dot(v_1,v_1))#se toma raíz para poder compararlos\n",
        "    count=0\n",
        "    while((abs(lambda_0-lambda_1)>tol)&(count<max_iter)):\n",
        "        count+=1\n",
        "        v_0=v_1/np.linalg.norm(v_1)#Normalizacion\n",
        "        v_1=np.dot(A,v_0)#iteracion\n",
        "        lambda_0=lambda_1\n",
        "        lambda_1=np.dot(v_0,v_1)\n",
        "    if(count>max_iter):\n",
        "        return(\"Maxima iteracion alcanzada\")\n",
        "    else:\n",
        "        print(\"numero de iteraciones: \"+str(count))\n",
        "        return([lambda_1,v_1])"
      ],
      "execution_count": 1,
      "outputs": []
    },
    {
      "cell_type": "code",
      "metadata": {
        "colab": {
          "base_uri": "https://localhost:8080/"
        },
        "id": "ojgvvfutHwgh",
        "outputId": "aa274739-add2-4805-9aed-651d57b53757"
      },
      "source": [
        "tol=10**(-6)\n",
        "max_iter=100\n",
        "A=[[0,2],[2,3]]\n",
        "max_eigen(A,tol=tol,max_iter=max_iter,v_0=[1,1])"
      ],
      "execution_count": 2,
      "outputs": [
        {
          "output_type": "stream",
          "name": "stdout",
          "text": [
            "numero de iteraciones: 6\n"
          ]
        },
        {
          "output_type": "execute_result",
          "data": {
            "text/plain": [
              "[3.999999966886309, array([1.78878159, 3.57774515])]"
            ]
          },
          "metadata": {},
          "execution_count": 2
        }
      ]
    },
    {
      "cell_type": "code",
      "metadata": {
        "id": "JS0ZoVw-SUGh"
      },
      "source": [
        "import numpy as np\n",
        "def factorizar_LU(matriz):\n",
        "    n=len(matriz)\n",
        "    L=np.zeros((n,n))\n",
        "    U=np.zeros((n,n))\n",
        "    for j in range(n):\n",
        "        for i in range(j,n):\n",
        "            sum=0\n",
        "            for k in range(i):\n",
        "                sum+=L[i][k]*U[k][j]\n",
        "            L[i][j]=matriz[i][j]-sum\n",
        "            if(i>j):\n",
        "                sum=0\n",
        "                for k in range(j):\n",
        "                    sum+=L[j][k]*U[k][i]\n",
        "                U[j][i]=(matriz[j][i]-sum)/L[j][j]\n",
        "            else: \n",
        "                U[i][j]=1 \n",
        "                if(L[i][i]==0):\n",
        "                    return(\"Error en la construcción de L\")\n",
        "    return([L,U])\n",
        "def superior(list,b):\n",
        "  n=len(list)\n",
        "  X=[b[n-1]/list[n-1][n-1]]\n",
        "  X_inv=[X[0]]\n",
        "  for i in range(1,n):#len(list) es el número de renglones de la matriz\n",
        "    acum=0\n",
        "    for j in range(i):#0<=j<=i-1 \n",
        "      acum+=X[j]*list[n-i-1][n-1-j]\n",
        "    X.append((b[n-1-i]-acum)/list[n-1-i][n-1-i])\n",
        "    X_inv.insert(0,X[i])\n",
        "  return X_inv\n",
        "def inferior(list,b):#list debe contener las entradas de la matriz triangular.\n",
        "#Será aceptable introducir un arreglo de arreglos de distintos tamaños, para solo introducir las entradas no cero.\n",
        "  X=[b[0]/list[0][0]]\n",
        "  for i in range(1,len(list)):#len(list) es el número de renglones de la matriz\n",
        "    acum=0\n",
        "    for j in range(i):#0<=j<=i-1 \n",
        "      acum+=X[j]*list[i][j]\n",
        "    X.append((b[i]-acum)/list[i][i])\n",
        "  return X\n",
        "def solve(L_m,U_m,b):\n",
        "    y=inferior(L_m,b)#Resolver Ly=b\n",
        "    return(superior(U_m,y))#Resolver Ux=y"
      ],
      "execution_count": 3,
      "outputs": []
    },
    {
      "cell_type": "code",
      "metadata": {
        "id": "vrmD8Q_iSPMt"
      },
      "source": [
        "import numpy as np\n",
        "import math\n",
        "def min_eigen(A,tol,max_iter,**v_0):\n",
        "    n=len(A)\n",
        "    if(v_0):#Es opcional\n",
        "        v_0=v_0['v_0']\n",
        "    else:#Se toma el vector de 1's.\n",
        "        v_0=(np.zeros(n)+1/math.sqrt(n))#Normalizado\n",
        "    L,U=factorizar_LU(A)\n",
        "    v_1=solve(L,U,v_0)#Se resuelve el sistema\n",
        "    lambda_0=np.dot(v_0,v_1)\n",
        "    lambda_1=np.sqrt(np.dot(v_1,v_1))#se toma raíz para poder compararlos\n",
        "    count=0\n",
        "    while((abs(lambda_0-lambda_1)>tol)&(count<max_iter)):\n",
        "        count+=1\n",
        "        v_0=v_1/np.linalg.norm(v_1)#Se normaliza\n",
        "        v_1=solve(L_m=L,U_m=U,b=v_0)#iteracion\n",
        "        lambda_0=lambda_1\n",
        "        lambda_1=np.dot(v_0,v_1)\n",
        "    if(count>=max_iter):\n",
        "        return(\"Maxima iteracion alcanzada\")\n",
        "    else:\n",
        "        print(\"numero de iteraciones: \"+str(count))\n",
        "        return([1/lambda_1,v_1])"
      ],
      "execution_count": 4,
      "outputs": []
    },
    {
      "cell_type": "code",
      "metadata": {
        "colab": {
          "base_uri": "https://localhost:8080/",
          "height": 554
        },
        "id": "3_tdzKSeV1B3",
        "outputId": "28e02d73-8058-4a49-8bf8-6d19246efc6b"
      },
      "source": [
        "print(\"Matriz 3x3\\n\")\n",
        "A_1=np.loadtxt(\"Eigen_3x3.txt\",skiprows=1);\n",
        "min=min_eigen(A_1,tol,max_iter)\n",
        "print(\"Eigenvalor menor: \", min[0])\n",
        "print(\"Asociado a \", min[1]/np.linalg.norm(min[1]))\n",
        "print(\"Verificación con Numpy\")\n",
        "print(\"Eigenvalor menor: \",np.min(np.linalg.eig(A_1)[0]))\n",
        "\n",
        "print(\"\\nMatriz 50x50\\n\")\n",
        "A_2=np.loadtxt(\"Eigen_50x50.txt\",skiprows=1);\n",
        "min=min_eigen(A_2,tol,max_iter)\n",
        "print(\"Eigenvalor menor: \", min[0])\n",
        "print(\"Asociado a \", min[1]/np.linalg.norm(min[1]))\n",
        "print(\"Verificación con Numpy\")\n",
        "print(\"Eigenvalor menor: \",np.min(np.linalg.eig(A_2)[0]))\n",
        "\n",
        "print(\"\\nMatriz 125x125\\n\")\n",
        "A_3=np.loadtxt(\"Eigen_125x125.txt\",skiprows=1);\n",
        "min=min_eigen(A_3,tol,max_iter)\n",
        "print(\"Eigenvalor menor: \", min[0])\n",
        "#print(\"Asociado a \", min[1]/np.linalg.norm(min[1]))\n",
        "print(\"Verificación con Numpy\")\n",
        "print(\"Eigenvalor menor: \",np.min(np.linalg.eig(A_3)[0]))"
      ],
      "execution_count": 5,
      "outputs": [
        {
          "output_type": "stream",
          "name": "stdout",
          "text": [
            "Matriz 3x3\n",
            "\n",
            "numero de iteraciones: 9\n",
            "Eigenvalor menor:  2.9913437401709206\n",
            "Asociado a  [0.99918442 0.02735707 0.02970007]\n",
            "Verificación con Numpy\n",
            "Eigenvalor menor:  2.9913433225920967\n",
            "\n",
            "Matriz 50x50\n",
            "\n"
          ]
        },
        {
          "output_type": "error",
          "ename": "OSError",
          "evalue": "ignored",
          "traceback": [
            "\u001b[0;31m---------------------------------------------------------------------------\u001b[0m",
            "\u001b[0;31mOSError\u001b[0m                                   Traceback (most recent call last)",
            "\u001b[0;32m<ipython-input-5-341addddb2f9>\u001b[0m in \u001b[0;36m<module>\u001b[0;34m()\u001b[0m\n\u001b[1;32m      8\u001b[0m \u001b[0;34m\u001b[0m\u001b[0m\n\u001b[1;32m      9\u001b[0m \u001b[0mprint\u001b[0m\u001b[0;34m(\u001b[0m\u001b[0;34m\"\\nMatriz 50x50\\n\"\u001b[0m\u001b[0;34m)\u001b[0m\u001b[0;34m\u001b[0m\u001b[0;34m\u001b[0m\u001b[0m\n\u001b[0;32m---> 10\u001b[0;31m \u001b[0mA_2\u001b[0m\u001b[0;34m=\u001b[0m\u001b[0mnp\u001b[0m\u001b[0;34m.\u001b[0m\u001b[0mloadtxt\u001b[0m\u001b[0;34m(\u001b[0m\u001b[0;34m\"Eigen_50x50.txt\"\u001b[0m\u001b[0;34m,\u001b[0m\u001b[0mskiprows\u001b[0m\u001b[0;34m=\u001b[0m\u001b[0;36m1\u001b[0m\u001b[0;34m)\u001b[0m\u001b[0;34m;\u001b[0m\u001b[0;34m\u001b[0m\u001b[0;34m\u001b[0m\u001b[0m\n\u001b[0m\u001b[1;32m     11\u001b[0m \u001b[0mmin\u001b[0m\u001b[0;34m=\u001b[0m\u001b[0mmin_eigen\u001b[0m\u001b[0;34m(\u001b[0m\u001b[0mA_2\u001b[0m\u001b[0;34m,\u001b[0m\u001b[0mtol\u001b[0m\u001b[0;34m,\u001b[0m\u001b[0mmax_iter\u001b[0m\u001b[0;34m)\u001b[0m\u001b[0;34m\u001b[0m\u001b[0;34m\u001b[0m\u001b[0m\n\u001b[1;32m     12\u001b[0m \u001b[0mprint\u001b[0m\u001b[0;34m(\u001b[0m\u001b[0;34m\"Eigenvalor menor: \"\u001b[0m\u001b[0;34m,\u001b[0m \u001b[0mmin\u001b[0m\u001b[0;34m[\u001b[0m\u001b[0;36m0\u001b[0m\u001b[0;34m]\u001b[0m\u001b[0;34m)\u001b[0m\u001b[0;34m\u001b[0m\u001b[0;34m\u001b[0m\u001b[0m\n",
            "\u001b[0;32m/usr/local/lib/python3.7/dist-packages/numpy/lib/npyio.py\u001b[0m in \u001b[0;36mloadtxt\u001b[0;34m(fname, dtype, comments, delimiter, converters, skiprows, usecols, unpack, ndmin, encoding, max_rows)\u001b[0m\n\u001b[1;32m    959\u001b[0m             \u001b[0mfname\u001b[0m \u001b[0;34m=\u001b[0m \u001b[0mos_fspath\u001b[0m\u001b[0;34m(\u001b[0m\u001b[0mfname\u001b[0m\u001b[0;34m)\u001b[0m\u001b[0;34m\u001b[0m\u001b[0;34m\u001b[0m\u001b[0m\n\u001b[1;32m    960\u001b[0m         \u001b[0;32mif\u001b[0m \u001b[0m_is_string_like\u001b[0m\u001b[0;34m(\u001b[0m\u001b[0mfname\u001b[0m\u001b[0;34m)\u001b[0m\u001b[0;34m:\u001b[0m\u001b[0;34m\u001b[0m\u001b[0;34m\u001b[0m\u001b[0m\n\u001b[0;32m--> 961\u001b[0;31m             \u001b[0mfh\u001b[0m \u001b[0;34m=\u001b[0m \u001b[0mnp\u001b[0m\u001b[0;34m.\u001b[0m\u001b[0mlib\u001b[0m\u001b[0;34m.\u001b[0m\u001b[0m_datasource\u001b[0m\u001b[0;34m.\u001b[0m\u001b[0mopen\u001b[0m\u001b[0;34m(\u001b[0m\u001b[0mfname\u001b[0m\u001b[0;34m,\u001b[0m \u001b[0;34m'rt'\u001b[0m\u001b[0;34m,\u001b[0m \u001b[0mencoding\u001b[0m\u001b[0;34m=\u001b[0m\u001b[0mencoding\u001b[0m\u001b[0;34m)\u001b[0m\u001b[0;34m\u001b[0m\u001b[0;34m\u001b[0m\u001b[0m\n\u001b[0m\u001b[1;32m    962\u001b[0m             \u001b[0mfencoding\u001b[0m \u001b[0;34m=\u001b[0m \u001b[0mgetattr\u001b[0m\u001b[0;34m(\u001b[0m\u001b[0mfh\u001b[0m\u001b[0;34m,\u001b[0m \u001b[0;34m'encoding'\u001b[0m\u001b[0;34m,\u001b[0m \u001b[0;34m'latin1'\u001b[0m\u001b[0;34m)\u001b[0m\u001b[0;34m\u001b[0m\u001b[0;34m\u001b[0m\u001b[0m\n\u001b[1;32m    963\u001b[0m             \u001b[0mfh\u001b[0m \u001b[0;34m=\u001b[0m \u001b[0miter\u001b[0m\u001b[0;34m(\u001b[0m\u001b[0mfh\u001b[0m\u001b[0;34m)\u001b[0m\u001b[0;34m\u001b[0m\u001b[0;34m\u001b[0m\u001b[0m\n",
            "\u001b[0;32m/usr/local/lib/python3.7/dist-packages/numpy/lib/_datasource.py\u001b[0m in \u001b[0;36mopen\u001b[0;34m(path, mode, destpath, encoding, newline)\u001b[0m\n\u001b[1;32m    193\u001b[0m \u001b[0;34m\u001b[0m\u001b[0m\n\u001b[1;32m    194\u001b[0m     \u001b[0mds\u001b[0m \u001b[0;34m=\u001b[0m \u001b[0mDataSource\u001b[0m\u001b[0;34m(\u001b[0m\u001b[0mdestpath\u001b[0m\u001b[0;34m)\u001b[0m\u001b[0;34m\u001b[0m\u001b[0;34m\u001b[0m\u001b[0m\n\u001b[0;32m--> 195\u001b[0;31m     \u001b[0;32mreturn\u001b[0m \u001b[0mds\u001b[0m\u001b[0;34m.\u001b[0m\u001b[0mopen\u001b[0m\u001b[0;34m(\u001b[0m\u001b[0mpath\u001b[0m\u001b[0;34m,\u001b[0m \u001b[0mmode\u001b[0m\u001b[0;34m,\u001b[0m \u001b[0mencoding\u001b[0m\u001b[0;34m=\u001b[0m\u001b[0mencoding\u001b[0m\u001b[0;34m,\u001b[0m \u001b[0mnewline\u001b[0m\u001b[0;34m=\u001b[0m\u001b[0mnewline\u001b[0m\u001b[0;34m)\u001b[0m\u001b[0;34m\u001b[0m\u001b[0;34m\u001b[0m\u001b[0m\n\u001b[0m\u001b[1;32m    196\u001b[0m \u001b[0;34m\u001b[0m\u001b[0m\n\u001b[1;32m    197\u001b[0m \u001b[0;34m\u001b[0m\u001b[0m\n",
            "\u001b[0;32m/usr/local/lib/python3.7/dist-packages/numpy/lib/_datasource.py\u001b[0m in \u001b[0;36mopen\u001b[0;34m(self, path, mode, encoding, newline)\u001b[0m\n\u001b[1;32m    533\u001b[0m                                       encoding=encoding, newline=newline)\n\u001b[1;32m    534\u001b[0m         \u001b[0;32melse\u001b[0m\u001b[0;34m:\u001b[0m\u001b[0;34m\u001b[0m\u001b[0;34m\u001b[0m\u001b[0m\n\u001b[0;32m--> 535\u001b[0;31m             \u001b[0;32mraise\u001b[0m \u001b[0mIOError\u001b[0m\u001b[0;34m(\u001b[0m\u001b[0;34m\"%s not found.\"\u001b[0m \u001b[0;34m%\u001b[0m \u001b[0mpath\u001b[0m\u001b[0;34m)\u001b[0m\u001b[0;34m\u001b[0m\u001b[0;34m\u001b[0m\u001b[0m\n\u001b[0m\u001b[1;32m    536\u001b[0m \u001b[0;34m\u001b[0m\u001b[0m\n\u001b[1;32m    537\u001b[0m \u001b[0;34m\u001b[0m\u001b[0m\n",
            "\u001b[0;31mOSError\u001b[0m: Eigen_50x50.txt not found."
          ]
        }
      ]
    },
    {
      "cell_type": "code",
      "metadata": {
        "colab": {
          "base_uri": "https://localhost:8080/",
          "height": 554
        },
        "id": "4ZJNDSuvlCg-",
        "outputId": "2df691c6-2b12-49ca-d506-aa83e2382b61"
      },
      "source": [
        "print(\"Matriz 3x3\\n\")\n",
        "A_1=np.loadtxt(\"Eigen_3x3.txt\",skiprows=1);\n",
        "max=max_eigen(A_1,tol,max_iter)\n",
        "print(\"Eigenvalor mayor: \", max[0])\n",
        "print(\"Asociado a \", max[1]/np.linalg.norm(max[1]))\n",
        "print(\"Verificación con Numpy\")\n",
        "print(\"Eigenvalor mayor: \",np.max(np.linalg.eig(A_1)[0]))\n",
        "\n",
        "print(\"\\nMatriz 50x50\\n\")\n",
        "A_2=np.loadtxt(\"Eigen_50x50.txt\",skiprows=1);\n",
        "max=max_eigen(A_2,tol,max_iter)\n",
        "print(\"Eigenvalor mayor: \", max[0])\n",
        "print(\"Asociado a \", max[1]/np.linalg.norm(max[1]))\n",
        "print(\"Verificación con Numpy\")\n",
        "print(\"Eigenvalor mayor: \",np.max(np.linalg.eig(A_2)[0]))\n",
        "\n",
        "print(\"\\nMatriz 125x125\\n\")\n",
        "A_3=np.loadtxt(\"Eigen_125x125.txt\",skiprows=1);\n",
        "max=max_eigen(A_3,tol,max_iter)\n",
        "print(\"Eigenvalor mayor: \", max[0])\n",
        "#print(\"Asociado a \", min[1]/np.linalg.norm(min[1]))\n",
        "print(\"Verificación con Numpy\")\n",
        "print(\"Eigenvalor mayor: \",np.max(np.linalg.eig(A_3)[0]))"
      ],
      "execution_count": 19,
      "outputs": [
        {
          "output_type": "stream",
          "name": "stdout",
          "text": [
            "Matriz 3x3\n",
            "\n",
            "numero de iteraciones: 22\n",
            "Eigenvalor mayor:  10.034795757490057\n",
            "Asociado a  [-0.02690747 -0.09717924  0.9949031 ]\n",
            "Verificación con Numpy\n",
            "Eigenvalor mayor:  10.034796264113933\n",
            "\n",
            "Matriz 50x50\n",
            "\n"
          ]
        },
        {
          "output_type": "error",
          "ename": "OSError",
          "evalue": "ignored",
          "traceback": [
            "\u001b[0;31m---------------------------------------------------------------------------\u001b[0m",
            "\u001b[0;31mOSError\u001b[0m                                   Traceback (most recent call last)",
            "\u001b[0;32m<ipython-input-19-a4c449986b47>\u001b[0m in \u001b[0;36m<module>\u001b[0;34m()\u001b[0m\n\u001b[1;32m      8\u001b[0m \u001b[0;34m\u001b[0m\u001b[0m\n\u001b[1;32m      9\u001b[0m \u001b[0mprint\u001b[0m\u001b[0;34m(\u001b[0m\u001b[0;34m\"\\nMatriz 50x50\\n\"\u001b[0m\u001b[0;34m)\u001b[0m\u001b[0;34m\u001b[0m\u001b[0;34m\u001b[0m\u001b[0m\n\u001b[0;32m---> 10\u001b[0;31m \u001b[0mA_2\u001b[0m\u001b[0;34m=\u001b[0m\u001b[0mnp\u001b[0m\u001b[0;34m.\u001b[0m\u001b[0mloadtxt\u001b[0m\u001b[0;34m(\u001b[0m\u001b[0;34m\"Eigen_50x50.txt\"\u001b[0m\u001b[0;34m,\u001b[0m\u001b[0mskiprows\u001b[0m\u001b[0;34m=\u001b[0m\u001b[0;36m1\u001b[0m\u001b[0;34m)\u001b[0m\u001b[0;34m;\u001b[0m\u001b[0;34m\u001b[0m\u001b[0;34m\u001b[0m\u001b[0m\n\u001b[0m\u001b[1;32m     11\u001b[0m \u001b[0mmax\u001b[0m\u001b[0;34m=\u001b[0m\u001b[0mmax_eigen\u001b[0m\u001b[0;34m(\u001b[0m\u001b[0mA_2\u001b[0m\u001b[0;34m,\u001b[0m\u001b[0mtol\u001b[0m\u001b[0;34m,\u001b[0m\u001b[0mmax_iter\u001b[0m\u001b[0;34m)\u001b[0m\u001b[0;34m\u001b[0m\u001b[0;34m\u001b[0m\u001b[0m\n\u001b[1;32m     12\u001b[0m \u001b[0mprint\u001b[0m\u001b[0;34m(\u001b[0m\u001b[0;34m\"Eigenvalor mayor: \"\u001b[0m\u001b[0;34m,\u001b[0m \u001b[0mmax\u001b[0m\u001b[0;34m[\u001b[0m\u001b[0;36m0\u001b[0m\u001b[0;34m]\u001b[0m\u001b[0;34m)\u001b[0m\u001b[0;34m\u001b[0m\u001b[0;34m\u001b[0m\u001b[0m\n",
            "\u001b[0;32m/usr/local/lib/python3.7/dist-packages/numpy/lib/npyio.py\u001b[0m in \u001b[0;36mloadtxt\u001b[0;34m(fname, dtype, comments, delimiter, converters, skiprows, usecols, unpack, ndmin, encoding, max_rows)\u001b[0m\n\u001b[1;32m    959\u001b[0m             \u001b[0mfname\u001b[0m \u001b[0;34m=\u001b[0m \u001b[0mos_fspath\u001b[0m\u001b[0;34m(\u001b[0m\u001b[0mfname\u001b[0m\u001b[0;34m)\u001b[0m\u001b[0;34m\u001b[0m\u001b[0;34m\u001b[0m\u001b[0m\n\u001b[1;32m    960\u001b[0m         \u001b[0;32mif\u001b[0m \u001b[0m_is_string_like\u001b[0m\u001b[0;34m(\u001b[0m\u001b[0mfname\u001b[0m\u001b[0;34m)\u001b[0m\u001b[0;34m:\u001b[0m\u001b[0;34m\u001b[0m\u001b[0;34m\u001b[0m\u001b[0m\n\u001b[0;32m--> 961\u001b[0;31m             \u001b[0mfh\u001b[0m \u001b[0;34m=\u001b[0m \u001b[0mnp\u001b[0m\u001b[0;34m.\u001b[0m\u001b[0mlib\u001b[0m\u001b[0;34m.\u001b[0m\u001b[0m_datasource\u001b[0m\u001b[0;34m.\u001b[0m\u001b[0mopen\u001b[0m\u001b[0;34m(\u001b[0m\u001b[0mfname\u001b[0m\u001b[0;34m,\u001b[0m \u001b[0;34m'rt'\u001b[0m\u001b[0;34m,\u001b[0m \u001b[0mencoding\u001b[0m\u001b[0;34m=\u001b[0m\u001b[0mencoding\u001b[0m\u001b[0;34m)\u001b[0m\u001b[0;34m\u001b[0m\u001b[0;34m\u001b[0m\u001b[0m\n\u001b[0m\u001b[1;32m    962\u001b[0m             \u001b[0mfencoding\u001b[0m \u001b[0;34m=\u001b[0m \u001b[0mgetattr\u001b[0m\u001b[0;34m(\u001b[0m\u001b[0mfh\u001b[0m\u001b[0;34m,\u001b[0m \u001b[0;34m'encoding'\u001b[0m\u001b[0;34m,\u001b[0m \u001b[0;34m'latin1'\u001b[0m\u001b[0;34m)\u001b[0m\u001b[0;34m\u001b[0m\u001b[0;34m\u001b[0m\u001b[0m\n\u001b[1;32m    963\u001b[0m             \u001b[0mfh\u001b[0m \u001b[0;34m=\u001b[0m \u001b[0miter\u001b[0m\u001b[0;34m(\u001b[0m\u001b[0mfh\u001b[0m\u001b[0;34m)\u001b[0m\u001b[0;34m\u001b[0m\u001b[0;34m\u001b[0m\u001b[0m\n",
            "\u001b[0;32m/usr/local/lib/python3.7/dist-packages/numpy/lib/_datasource.py\u001b[0m in \u001b[0;36mopen\u001b[0;34m(path, mode, destpath, encoding, newline)\u001b[0m\n\u001b[1;32m    193\u001b[0m \u001b[0;34m\u001b[0m\u001b[0m\n\u001b[1;32m    194\u001b[0m     \u001b[0mds\u001b[0m \u001b[0;34m=\u001b[0m \u001b[0mDataSource\u001b[0m\u001b[0;34m(\u001b[0m\u001b[0mdestpath\u001b[0m\u001b[0;34m)\u001b[0m\u001b[0;34m\u001b[0m\u001b[0;34m\u001b[0m\u001b[0m\n\u001b[0;32m--> 195\u001b[0;31m     \u001b[0;32mreturn\u001b[0m \u001b[0mds\u001b[0m\u001b[0;34m.\u001b[0m\u001b[0mopen\u001b[0m\u001b[0;34m(\u001b[0m\u001b[0mpath\u001b[0m\u001b[0;34m,\u001b[0m \u001b[0mmode\u001b[0m\u001b[0;34m,\u001b[0m \u001b[0mencoding\u001b[0m\u001b[0;34m=\u001b[0m\u001b[0mencoding\u001b[0m\u001b[0;34m,\u001b[0m \u001b[0mnewline\u001b[0m\u001b[0;34m=\u001b[0m\u001b[0mnewline\u001b[0m\u001b[0;34m)\u001b[0m\u001b[0;34m\u001b[0m\u001b[0;34m\u001b[0m\u001b[0m\n\u001b[0m\u001b[1;32m    196\u001b[0m \u001b[0;34m\u001b[0m\u001b[0m\n\u001b[1;32m    197\u001b[0m \u001b[0;34m\u001b[0m\u001b[0m\n",
            "\u001b[0;32m/usr/local/lib/python3.7/dist-packages/numpy/lib/_datasource.py\u001b[0m in \u001b[0;36mopen\u001b[0;34m(self, path, mode, encoding, newline)\u001b[0m\n\u001b[1;32m    533\u001b[0m                                       encoding=encoding, newline=newline)\n\u001b[1;32m    534\u001b[0m         \u001b[0;32melse\u001b[0m\u001b[0;34m:\u001b[0m\u001b[0;34m\u001b[0m\u001b[0;34m\u001b[0m\u001b[0m\n\u001b[0;32m--> 535\u001b[0;31m             \u001b[0;32mraise\u001b[0m \u001b[0mIOError\u001b[0m\u001b[0;34m(\u001b[0m\u001b[0;34m\"%s not found.\"\u001b[0m \u001b[0;34m%\u001b[0m \u001b[0mpath\u001b[0m\u001b[0;34m)\u001b[0m\u001b[0;34m\u001b[0m\u001b[0;34m\u001b[0m\u001b[0m\n\u001b[0m\u001b[1;32m    536\u001b[0m \u001b[0;34m\u001b[0m\u001b[0m\n\u001b[1;32m    537\u001b[0m \u001b[0;34m\u001b[0m\u001b[0m\n",
            "\u001b[0;31mOSError\u001b[0m: Eigen_50x50.txt not found."
          ]
        }
      ]
    },
    {
      "cell_type": "code",
      "metadata": {
        "id": "Ao2fbYbSWNx8",
        "outputId": "4fefa39f-017e-4f64-827e-dc0dae80de80",
        "colab": {
          "base_uri": "https://localhost:8080/"
        }
      },
      "source": [
        "\n",
        "m=3\n",
        "L=[]\n",
        "V=[]\n",
        "A=np.copy(A_1)\n",
        "for i in range(m):\n",
        "    print(A)\n",
        "    max=max_eigen(A,tol=10**(-6),max_iter=100)\n",
        "    L.append(max[0])\n",
        "    V.append(max[1]/np.linalg.norm(max[1]))\n",
        "    A=deflacion(A,L[i],V[i])\n",
        "print(A)\n"
      ],
      "execution_count": 23,
      "outputs": [
        {
          "output_type": "stream",
          "name": "stdout",
          "text": [
            "[[ 3.  -0.1 -0.2]\n",
            " [-0.1  7.  -0.3]\n",
            " [-0.2 -0.3 10. ]]\n",
            "numero de iteraciones: 22\n",
            "[[ 2.99273469 -0.12623946  0.06863475]\n",
            " [-0.12623946  6.90523335  0.67020345]\n",
            " [ 0.06863475  0.67020345  0.0672362 ]]\n",
            "numero de iteraciones: 10\n",
            "[[2.98654211e+00 8.05159112e-02 8.86366139e-02]\n",
            " [8.05159112e-02 2.17077556e-03 2.38960046e-03]\n",
            " [8.86366139e-02 2.38960046e-03 2.63077146e-03]]\n",
            "numero de iteraciones: 2\n",
            "[[ 2.00081729e-10 -2.55184721e-09 -4.42354191e-09]\n",
            " [-2.55184721e-09  1.00530325e-07 -5.33743117e-09]\n",
            " [-4.42354191e-09 -5.33743139e-09  1.53896240e-07]]\n"
          ]
        }
      ]
    },
    {
      "cell_type": "code",
      "metadata": {
        "id": "rFAoQi4YY9ur",
        "outputId": "05a86db6-0395-4fea-a858-9a8727c0b58a",
        "colab": {
          "base_uri": "https://localhost:8080/"
        }
      },
      "source": [
        "print(L)\n",
        "print(V)\n",
        "print(np.linalg.eig(A_1))\n",
        "print(A_1)"
      ],
      "execution_count": 24,
      "outputs": [
        {
          "output_type": "stream",
          "name": "stdout",
          "text": [
            "[10.034795757490057, 6.973860590111664, 2.991343397771632]\n",
            "[array([-0.02690747, -0.09717924,  0.9949031 ]), array([-0.02979883,  0.9949111 ,  0.09624937]), array([0.99919715, 0.02693793, 0.02965485])]\n",
            "(array([ 2.99134332, 10.03479626,  6.97386041]), array([[-0.9991909 , -0.02689902,  0.02989969],\n",
            "       [-0.02714665, -0.09746053, -0.99486909],\n",
            "       [-0.02967504,  0.99487582, -0.09665145]]))\n",
            "[[ 3.  -0.1 -0.2]\n",
            " [-0.1  7.  -0.3]\n",
            " [-0.2 -0.3 10. ]]\n"
          ]
        }
      ]
    },
    {
      "cell_type": "code",
      "metadata": {
        "id": "7t4s5GhoXPFF"
      },
      "source": [
        "def deflacion(A,l,v):\n",
        "    for i in range(len(A)):\n",
        "        for j in range(len(A[0])):\n",
        "            A[i][j]-=l*v[i]*v[j]\n",
        "    return(A)"
      ],
      "execution_count": 12,
      "outputs": []
    }
  ]
}