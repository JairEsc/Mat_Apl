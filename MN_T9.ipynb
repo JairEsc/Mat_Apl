{
  "nbformat": 4,
  "nbformat_minor": 0,
  "metadata": {
    "colab": {
      "name": "Untitled30.ipynb",
      "provenance": [],
      "authorship_tag": "ABX9TyNpqSyaFbVtzdQTAQ17WvZj",
      "include_colab_link": true
    },
    "kernelspec": {
      "name": "python3",
      "display_name": "Python 3"
    },
    "language_info": {
      "name": "python"
    }
  },
  "cells": [
    {
      "cell_type": "markdown",
      "metadata": {
        "id": "view-in-github",
        "colab_type": "text"
      },
      "source": [
        "<a href=\"https://colab.research.google.com/github/JairEsc/Mat_Apl/blob/main/MN_T9.ipynb\" target=\"_parent\"><img src=\"https://colab.research.google.com/assets/colab-badge.svg\" alt=\"Open In Colab\"/></a>"
      ]
    },
    {
      "cell_type": "code",
      "metadata": {
        "id": "u4lIrEBwGhCX"
      },
      "source": [
        "import numpy as np\n",
        "import math\n",
        "def max_eigen(A,tol,max_iter,**v_0):\n",
        "    n=len(A)\n",
        "    if(v_0):#Es opcional\n",
        "        v_0=v_0['v_0']\n",
        "    else:#Se toma el vector de 1's.\n",
        "        v_0=(np.zeros(n)+1/math.sqrt(n))#Normalizado\n",
        "    v_1=np.dot(A,v_0)#iteracion\n",
        "    lambda_0=np.dot(v_0,v_1)\n",
        "    lambda_1=np.sqrt(np.dot(v_1,v_1))#se toma raíz para poder compararlos\n",
        "    count=0\n",
        "    while((abs(lambda_0-lambda_1)>tol)&(count<max_iter)):\n",
        "        count+=1\n",
        "        v_0=v_1/np.linalg.norm(v_1)#Normalizacion\n",
        "        v_1=np.dot(A,v_0)#iteracion\n",
        "        lambda_0=lambda_1\n",
        "        lambda_1=np.dot(v_0,v_1)\n",
        "    if(count>max_iter):\n",
        "        return(\"Maxima iteracion alcanzada\")\n",
        "    else:\n",
        "        print(\"numero de iteraciones: \"+str(count))\n",
        "        return([lambda_1,v_1])"
      ],
      "execution_count": 103,
      "outputs": []
    },
    {
      "cell_type": "code",
      "metadata": {
        "colab": {
          "base_uri": "https://localhost:8080/"
        },
        "id": "ojgvvfutHwgh",
        "outputId": "2526b8f4-4c06-41d1-865b-47e2fbaace98"
      },
      "source": [
        "tol=10**(-6)\n",
        "max_iter=100\n",
        "A=[[0,2],[2,3]]\n",
        "max_eigen(A,tol=tol,max_iter=max_iter,v_0=[1,1])"
      ],
      "execution_count": 54,
      "outputs": [
        {
          "output_type": "stream",
          "name": "stdout",
          "text": [
            "numero de iteraciones: 6\n"
          ]
        },
        {
          "output_type": "execute_result",
          "data": {
            "text/plain": [
              "[3.999999966886309, array([1.78878159, 3.57774515])]"
            ]
          },
          "metadata": {},
          "execution_count": 54
        }
      ]
    },
    {
      "cell_type": "code",
      "metadata": {
        "id": "JS0ZoVw-SUGh"
      },
      "source": [
        "import numpy as np\n",
        "def factorizar_LU(matriz):\n",
        "    n=len(matriz)\n",
        "    L=np.zeros((n,n))\n",
        "    U=np.zeros((n,n))\n",
        "    for j in range(n):\n",
        "        for i in range(j,n):\n",
        "            sum=0\n",
        "            for k in range(i):\n",
        "                sum+=L[i][k]*U[k][j]\n",
        "            L[i][j]=matriz[i][j]-sum\n",
        "            if(i>j):\n",
        "                sum=0\n",
        "                for k in range(j):\n",
        "                    sum+=L[j][k]*U[k][i]\n",
        "                U[j][i]=(matriz[j][i]-sum)/L[j][j]\n",
        "            else: \n",
        "                U[i][j]=1 \n",
        "                if(L[i][i]==0):\n",
        "                    return(\"Error en la construcción de L\")\n",
        "    return([L,U])\n",
        "def superior(list,b):\n",
        "  n=len(list)\n",
        "  X=[b[n-1]/list[n-1][n-1]]\n",
        "  X_inv=[X[0]]\n",
        "  for i in range(1,n):#len(list) es el número de renglones de la matriz\n",
        "    acum=0\n",
        "    for j in range(i):#0<=j<=i-1 \n",
        "      acum+=X[j]*list[n-i-1][n-1-j]\n",
        "    X.append((b[n-1-i]-acum)/list[n-1-i][n-1-i])\n",
        "    X_inv.insert(0,X[i])\n",
        "  return X_inv\n",
        "def inferior(list,b):#list debe contener las entradas de la matriz triangular.\n",
        "#Será aceptable introducir un arreglo de arreglos de distintos tamaños, para solo introducir las entradas no cero.\n",
        "  X=[b[0]/list[0][0]]\n",
        "  for i in range(1,len(list)):#len(list) es el número de renglones de la matriz\n",
        "    acum=0\n",
        "    for j in range(i):#0<=j<=i-1 \n",
        "      acum+=X[j]*list[i][j]\n",
        "    X.append((b[i]-acum)/list[i][i])\n",
        "  return X\n",
        "def solve(L_m,U_m,b):\n",
        "    y=inferior(L_m,b)#Resolver Ly=b\n",
        "    return(superior(U_m,y))#Resolver Ux=y"
      ],
      "execution_count": 75,
      "outputs": []
    },
    {
      "cell_type": "code",
      "metadata": {
        "id": "vrmD8Q_iSPMt"
      },
      "source": [
        "import numpy as np\n",
        "import math\n",
        "def min_eigen(A,tol,max_iter,**v_0):\n",
        "    n=len(A)\n",
        "    if(v_0):#Es opcional\n",
        "        v_0=v_0['v_0']\n",
        "    else:#Se toma el vector de 1's.\n",
        "        v_0=(np.zeros(n)+1/math.sqrt(n))#Normalizado\n",
        "    L,U=factorizar_LU(A)\n",
        "    v_1=solve(L,U,v_0)#Se resuelve el sistema\n",
        "    lambda_0=np.dot(v_0,v_1)\n",
        "    lambda_1=np.sqrt(np.dot(v_1,v_1))#se toma raíz para poder compararlos\n",
        "    count=0\n",
        "    while((abs(lambda_0-lambda_1)>tol)&(count<max_iter)):\n",
        "        count+=1\n",
        "        v_0=v_1/np.linalg.norm(v_1)#Se normaliza\n",
        "        v_1=solve(L_m=L,U_m=U,b=v_0)#iteracion\n",
        "        lambda_0=lambda_1\n",
        "        lambda_1=np.dot(v_0,v_1)\n",
        "    if(count>=max_iter):\n",
        "        return(\"Maxima iteracion alcanzada\")\n",
        "    else:\n",
        "        print(\"numero de iteraciones: \"+str(count))\n",
        "        return([1/lambda_1,v_1])"
      ],
      "execution_count": 104,
      "outputs": []
    },
    {
      "cell_type": "code",
      "metadata": {
        "colab": {
          "base_uri": "https://localhost:8080/"
        },
        "id": "3_tdzKSeV1B3",
        "outputId": "7b1194a8-cddf-4283-dbbe-61d08b0c526d"
      },
      "source": [
        "print(\"Matriz 3x3\\n\")\n",
        "A_1=np.loadtxt(\"Eigen_3x3.txt\",skiprows=1);\n",
        "min=min_eigen(A_1,tol,max_iter)\n",
        "print(\"Eigenvalor menor: \", min[0])\n",
        "print(\"Asociado a \", min[1]/np.linalg.norm(min[1]))\n",
        "print(\"Verificación con Numpy\")\n",
        "print(\"Eigenvalor menor: \",np.min(np.linalg.eig(A_1)[0]))\n",
        "\n",
        "print(\"\\nMatriz 50x50\\n\")\n",
        "A_2=np.loadtxt(\"Eigen_50x50.txt\",skiprows=1);\n",
        "min=min_eigen(A_2,tol,max_iter)\n",
        "print(\"Eigenvalor menor: \", min[0])\n",
        "print(\"Asociado a \", min[1]/np.linalg.norm(min[1]))\n",
        "print(\"Verificación con Numpy\")\n",
        "print(\"Eigenvalor menor: \",np.min(np.linalg.eig(A_2)[0]))\n",
        "\n",
        "print(\"\\nMatriz 125x125\\n\")\n",
        "A_3=np.loadtxt(\"Eigen_125x125.txt\",skiprows=1);\n",
        "min=min_eigen(A_3,tol,max_iter)\n",
        "print(\"Eigenvalor menor: \", min[0])\n",
        "#print(\"Asociado a \", min[1]/np.linalg.norm(min[1]))\n",
        "print(\"Verificación con Numpy\")\n",
        "print(\"Eigenvalor menor: \",np.min(np.linalg.eig(A_3)[0]))"
      ],
      "execution_count": 106,
      "outputs": [
        {
          "output_type": "stream",
          "name": "stdout",
          "text": [
            "Matriz 3x3\n",
            "\n",
            "numero de iteraciones: 9\n",
            "Eigenvalor menor:  2.9913437401709206\n",
            "Asociado a  [0.99918442 0.02735707 0.02970007]\n",
            "Verificación con Numpy\n",
            "Eigenvalor menor:  2.9913433225920967\n",
            "\n",
            "Matriz 50x50\n",
            "\n",
            "numero de iteraciones: 9\n",
            "Eigenvalor menor:  9.998069615602724\n",
            "Asociado a  [ 9.99962513e-01 -7.32469092e-03 -1.87249624e-03 -2.57322850e-03\n",
            " -1.97046021e-03 -1.80376436e-03 -3.03411348e-04 -4.56737461e-04\n",
            " -9.44392388e-04 -2.96679776e-04 -5.45893394e-04 -4.20683492e-04\n",
            " -5.16014481e-04 -2.72011378e-04 -3.54879455e-04 -6.24043830e-04\n",
            " -5.63749955e-04 -3.67568003e-04 -3.91454080e-04 -6.78851377e-05\n",
            " -2.95916124e-04 -1.51943516e-06 -1.04495966e-04 -5.37377862e-05\n",
            " -3.31248091e-04 -5.76749586e-05 -1.48495111e-04 -4.21451628e-05\n",
            " -3.35321688e-05 -3.40817980e-04 -6.72076617e-05 -1.60917099e-04\n",
            " -2.59112598e-04 -1.81395461e-04 -8.38051167e-05 -1.79046736e-04\n",
            " -1.41587127e-04 -1.29370184e-04 -2.52159180e-04 -7.21072939e-05\n",
            " -1.89476864e-04 -1.25657284e-04 -1.80228052e-04 -8.91073672e-05\n",
            " -1.99529756e-04 -5.96418239e-05 -7.35098947e-05 -1.68844198e-04\n",
            " -1.88277916e-04 -1.15572468e-05]\n",
            "Verificación con Numpy\n",
            "Eigenvalor menor:  9.998050174885343\n",
            "\n",
            "Matriz 125x125\n",
            "\n",
            "numero de iteraciones: 10\n",
            "Eigenvalor menor:  1.8627556630619763e-06\n",
            "Verificación con Numpy\n",
            "Eigenvalor menor:  1.8627556630620913e-06\n"
          ]
        }
      ]
    },
    {
      "cell_type": "code",
      "metadata": {
        "colab": {
          "base_uri": "https://localhost:8080/"
        },
        "id": "4ZJNDSuvlCg-",
        "outputId": "675f8881-8d4c-4d9a-cd43-dea19cc455bd"
      },
      "source": [
        "print(\"Matriz 3x3\\n\")\n",
        "A_1=np.loadtxt(\"Eigen_3x3.txt\",skiprows=1);\n",
        "max=max_eigen(A_1,tol,max_iter)\n",
        "print(\"Eigenvalor mayor: \", max[0])\n",
        "print(\"Asociado a \", max[1]/np.linalg.norm(max[1]))\n",
        "print(\"Verificación con Numpy\")\n",
        "print(\"Eigenvalor mayor: \",np.max(np.linalg.eig(A_1)[0]))\n",
        "\n",
        "print(\"\\nMatriz 50x50\\n\")\n",
        "A_2=np.loadtxt(\"Eigen_50x50.txt\",skiprows=1);\n",
        "max=max_eigen(A_2,tol,max_iter)\n",
        "print(\"Eigenvalor mayor: \", max[0])\n",
        "print(\"Asociado a \", max[1]/np.linalg.norm(max[1]))\n",
        "print(\"Verificación con Numpy\")\n",
        "print(\"Eigenvalor mayor: \",np.max(np.linalg.eig(A_2)[0]))\n",
        "\n",
        "print(\"\\nMatriz 125x125\\n\")\n",
        "A_3=np.loadtxt(\"Eigen_125x125.txt\",skiprows=1);\n",
        "max=max_eigen(A_3,tol,max_iter)\n",
        "print(\"Eigenvalor mayor: \", max[0])\n",
        "#print(\"Asociado a \", min[1]/np.linalg.norm(min[1]))\n",
        "print(\"Verificación con Numpy\")\n",
        "print(\"Eigenvalor mayor: \",np.max(np.linalg.eig(A_3)[0]))"
      ],
      "execution_count": 109,
      "outputs": [
        {
          "output_type": "stream",
          "name": "stdout",
          "text": [
            "Matriz 3x3\n",
            "\n",
            "numero de iteraciones: 22\n",
            "Eigenvalor mayor:  10.034795757490057\n",
            "Asociado a  [-0.02690747 -0.09717924  0.9949031 ]\n",
            "Verificación con Numpy\n",
            "Eigenvalor mayor:  10.034796264113933\n",
            "\n",
            "Matriz 50x50\n",
            "\n",
            "numero de iteraciones: 100\n",
            "Eigenvalor mayor:  499.8249083806548\n",
            "Asociado a  [4.53962550e-05 1.13326101e-04 1.17168948e-04 2.28144766e-04\n",
            " 1.25647933e-04 8.87814870e-05 1.98624792e-04 1.24802624e-04\n",
            " 1.66897372e-04 9.58696597e-05 1.74345813e-04 2.90232170e-04\n",
            " 6.15053615e-05 9.60815957e-05 2.65704756e-04 4.67207521e-05\n",
            " 2.37610275e-04 2.58186447e-04 1.02084083e-04 3.29079857e-04\n",
            " 1.96160632e-04 2.87945185e-05 1.84564448e-04 2.74194094e-04\n",
            " 3.63501347e-04 1.92260966e-04 1.03249939e-04 1.25985706e-04\n",
            " 2.73000036e-04 3.13662218e-04 2.37280644e-04 2.65477156e-04\n",
            " 3.96912608e-04 3.21845420e-04 4.57427537e-04 4.03057664e-04\n",
            " 4.78096397e-04 6.95647203e-04 4.03071292e-04 3.45338843e-04\n",
            " 2.12795231e-04 6.27789075e-04 1.17972075e-03 7.15151986e-04\n",
            " 1.43830602e-03 1.89492779e-03 4.16592038e-03 1.91893488e-02\n",
            " 1.35931070e-01 9.90518171e-01]\n",
            "Verificación con Numpy\n",
            "Eigenvalor mayor:  500.0015427246329\n",
            "\n",
            "Matriz 125x125\n",
            "\n",
            "numero de iteraciones: 2\n",
            "Eigenvalor mayor:  0.9999999999999991\n",
            "Verificación con Numpy\n",
            "Eigenvalor mayor:  1.0\n"
          ]
        }
      ]
    }
  ]
}