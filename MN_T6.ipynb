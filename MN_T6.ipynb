{
  "nbformat": 4,
  "nbformat_minor": 0,
  "metadata": {
    "colab": {
      "name": "Untitled15.ipynb",
      "provenance": [],
      "authorship_tag": "ABX9TyM5TTcAhaLbg/Arc9v8kfGS",
      "include_colab_link": true
    },
    "kernelspec": {
      "name": "python3",
      "display_name": "Python 3"
    },
    "language_info": {
      "name": "python"
    }
  },
  "cells": [
    {
      "cell_type": "markdown",
      "metadata": {
        "id": "view-in-github",
        "colab_type": "text"
      },
      "source": [
        "<a href=\"https://colab.research.google.com/github/JairEsc/Mat_Apl/blob/main/MN_T6.ipynb\" target=\"_parent\"><img src=\"https://colab.research.google.com/assets/colab-badge.svg\" alt=\"Open In Colab\"/></a>"
      ]
    },
    {
      "cell_type": "code",
      "metadata": {
        "id": "Ljb3N_WchsTy"
      },
      "source": [
        "def diagonal(matriz,b):#Recibe la matriz del sistema o un vector con las entradas de la diagonal.\n",
        "#Y b representa los valores del sistema a resolver.\n",
        "  if(type(matriz[0])==type(0.)):\n",
        "    X=[]\n",
        "    for i in range(len(matriz)):\n",
        "      if(matriz[i]==0):\n",
        "        return('el sistema no tiene solución única')\n",
        "      else: \n",
        "        X.append(b[i]/matriz[i])\n",
        "    return X\n",
        "  else:\n",
        "    X=[]\n",
        "    for i in range(len(matriz)):\n",
        "      if(matriz[i][i]==0):\n",
        "        return('el sistema no tiene solución única')\n",
        "      else: \n",
        "        X.append(b[i]/matriz[i][i])\n",
        "    return X"
      ],
      "execution_count": 4,
      "outputs": []
    },
    {
      "cell_type": "code",
      "metadata": {
        "id": "z48MUKyPjrlJ"
      },
      "source": [
        "def inferior(list,b):#list debe contener las entradas de la matriz triangular.\n",
        "#Será aceptable introducir un arreglo de arreglos de distintos tamaños, para solo introducir las entradas no cero.\n",
        "  X=[b[0]/list[0][0]]\n",
        "  for i in range(1,len(list)):#len(list) es el número de renglones de la matriz\n",
        "    acum=0\n",
        "    for j in range(i):#0<=j<=i-1 \n",
        "      acum+=X[j]*list[i][j]\n",
        "    X.append((b[i]-acum)/list[i][i])\n",
        "  return X"
      ],
      "execution_count": 5,
      "outputs": []
    },
    {
      "cell_type": "code",
      "metadata": {
        "colab": {
          "base_uri": "https://localhost:8080/"
        },
        "id": "LGbxsibA1owx",
        "outputId": "d2609752-c075-4417-a16e-2c18a39ffd44"
      },
      "source": [
        "inferior([[1],[1,1],[1,1,1]],b=[1,2,1])"
      ],
      "execution_count": 6,
      "outputs": [
        {
          "output_type": "execute_result",
          "data": {
            "text/plain": [
              "[1.0, 1.0, -1.0]"
            ]
          },
          "metadata": {},
          "execution_count": 6
        }
      ]
    },
    {
      "cell_type": "code",
      "metadata": {
        "id": "mztK1zvO3Vuu"
      },
      "source": [
        "def superior(list,b):\n",
        "  n=len(list)\n",
        "  X=[b[n-1]/list[n-1][n-1]]\n",
        "  X_inv=[X[0]]\n",
        "  for i in range(1,n):#len(list) es el número de renglones de la matriz\n",
        "    acum=0\n",
        "    for j in range(i):#0<=j<=i-1 \n",
        "      acum+=X[j]*list[n-i-1][n-1-j]\n",
        "    X.append((b[n-1-i]-acum)/list[n-1-i][n-1-i])\n",
        "    X_inv.insert(0,X[i])\n",
        "  return X_inv"
      ],
      "execution_count": 7,
      "outputs": []
    },
    {
      "cell_type": "code",
      "metadata": {
        "id": "SxQnPHaR79Xv",
        "colab": {
          "base_uri": "https://localhost:8080/"
        },
        "outputId": "68b27e91-687d-43ee-9407-b757fec0af2d"
      },
      "source": [
        "superior([[1,1,1],[0,1,1],[0,0,1]],[0,2,2])"
      ],
      "execution_count": 8,
      "outputs": [
        {
          "output_type": "execute_result",
          "data": {
            "text/plain": [
              "[-2.0, 0.0, 2.0]"
            ]
          },
          "metadata": {},
          "execution_count": 8
        }
      ]
    },
    {
      "cell_type": "code",
      "metadata": {
        "colab": {
          "base_uri": "https://localhost:8080/",
          "height": 357
        },
        "id": "_VdIo0-DpatR",
        "outputId": "f342003a-e3eb-4af0-ddc1-b4ed19de9936"
      },
      "source": [
        "import numpy as np\n",
        "x1 = np.loadtxt(\"M_DIAG.txt\",skiprows=1)\n",
        "b1=np.loadtxt(\"V_DIAG.txt\",skiprows=1)\n",
        "diagonal(x1,b1)"
      ],
      "execution_count": 9,
      "outputs": [
        {
          "output_type": "error",
          "ename": "OSError",
          "evalue": "ignored",
          "traceback": [
            "\u001b[0;31m---------------------------------------------------------------------------\u001b[0m",
            "\u001b[0;31mOSError\u001b[0m                                   Traceback (most recent call last)",
            "\u001b[0;32m<ipython-input-9-c5ee3c62aa82>\u001b[0m in \u001b[0;36m<module>\u001b[0;34m()\u001b[0m\n\u001b[1;32m      1\u001b[0m \u001b[0;32mimport\u001b[0m \u001b[0mnumpy\u001b[0m \u001b[0;32mas\u001b[0m \u001b[0mnp\u001b[0m\u001b[0;34m\u001b[0m\u001b[0;34m\u001b[0m\u001b[0m\n\u001b[0;32m----> 2\u001b[0;31m \u001b[0mx1\u001b[0m \u001b[0;34m=\u001b[0m \u001b[0mnp\u001b[0m\u001b[0;34m.\u001b[0m\u001b[0mloadtxt\u001b[0m\u001b[0;34m(\u001b[0m\u001b[0;34m\"M_DIAG.txt\"\u001b[0m\u001b[0;34m,\u001b[0m\u001b[0mskiprows\u001b[0m\u001b[0;34m=\u001b[0m\u001b[0;36m1\u001b[0m\u001b[0;34m)\u001b[0m\u001b[0;34m\u001b[0m\u001b[0;34m\u001b[0m\u001b[0m\n\u001b[0m\u001b[1;32m      3\u001b[0m \u001b[0mb1\u001b[0m\u001b[0;34m=\u001b[0m\u001b[0mnp\u001b[0m\u001b[0;34m.\u001b[0m\u001b[0mloadtxt\u001b[0m\u001b[0;34m(\u001b[0m\u001b[0;34m\"V_DIAG.txt\"\u001b[0m\u001b[0;34m,\u001b[0m\u001b[0mskiprows\u001b[0m\u001b[0;34m=\u001b[0m\u001b[0;36m1\u001b[0m\u001b[0;34m)\u001b[0m\u001b[0;34m\u001b[0m\u001b[0;34m\u001b[0m\u001b[0m\n\u001b[1;32m      4\u001b[0m \u001b[0mdiagonal\u001b[0m\u001b[0;34m(\u001b[0m\u001b[0mx1\u001b[0m\u001b[0;34m,\u001b[0m\u001b[0mb1\u001b[0m\u001b[0;34m)\u001b[0m\u001b[0;34m\u001b[0m\u001b[0;34m\u001b[0m\u001b[0m\n",
            "\u001b[0;32m/usr/local/lib/python3.7/dist-packages/numpy/lib/npyio.py\u001b[0m in \u001b[0;36mloadtxt\u001b[0;34m(fname, dtype, comments, delimiter, converters, skiprows, usecols, unpack, ndmin, encoding, max_rows)\u001b[0m\n\u001b[1;32m    959\u001b[0m             \u001b[0mfname\u001b[0m \u001b[0;34m=\u001b[0m \u001b[0mos_fspath\u001b[0m\u001b[0;34m(\u001b[0m\u001b[0mfname\u001b[0m\u001b[0;34m)\u001b[0m\u001b[0;34m\u001b[0m\u001b[0;34m\u001b[0m\u001b[0m\n\u001b[1;32m    960\u001b[0m         \u001b[0;32mif\u001b[0m \u001b[0m_is_string_like\u001b[0m\u001b[0;34m(\u001b[0m\u001b[0mfname\u001b[0m\u001b[0;34m)\u001b[0m\u001b[0;34m:\u001b[0m\u001b[0;34m\u001b[0m\u001b[0;34m\u001b[0m\u001b[0m\n\u001b[0;32m--> 961\u001b[0;31m             \u001b[0mfh\u001b[0m \u001b[0;34m=\u001b[0m \u001b[0mnp\u001b[0m\u001b[0;34m.\u001b[0m\u001b[0mlib\u001b[0m\u001b[0;34m.\u001b[0m\u001b[0m_datasource\u001b[0m\u001b[0;34m.\u001b[0m\u001b[0mopen\u001b[0m\u001b[0;34m(\u001b[0m\u001b[0mfname\u001b[0m\u001b[0;34m,\u001b[0m \u001b[0;34m'rt'\u001b[0m\u001b[0;34m,\u001b[0m \u001b[0mencoding\u001b[0m\u001b[0;34m=\u001b[0m\u001b[0mencoding\u001b[0m\u001b[0;34m)\u001b[0m\u001b[0;34m\u001b[0m\u001b[0;34m\u001b[0m\u001b[0m\n\u001b[0m\u001b[1;32m    962\u001b[0m             \u001b[0mfencoding\u001b[0m \u001b[0;34m=\u001b[0m \u001b[0mgetattr\u001b[0m\u001b[0;34m(\u001b[0m\u001b[0mfh\u001b[0m\u001b[0;34m,\u001b[0m \u001b[0;34m'encoding'\u001b[0m\u001b[0;34m,\u001b[0m \u001b[0;34m'latin1'\u001b[0m\u001b[0;34m)\u001b[0m\u001b[0;34m\u001b[0m\u001b[0;34m\u001b[0m\u001b[0m\n\u001b[1;32m    963\u001b[0m             \u001b[0mfh\u001b[0m \u001b[0;34m=\u001b[0m \u001b[0miter\u001b[0m\u001b[0;34m(\u001b[0m\u001b[0mfh\u001b[0m\u001b[0;34m)\u001b[0m\u001b[0;34m\u001b[0m\u001b[0;34m\u001b[0m\u001b[0m\n",
            "\u001b[0;32m/usr/local/lib/python3.7/dist-packages/numpy/lib/_datasource.py\u001b[0m in \u001b[0;36mopen\u001b[0;34m(path, mode, destpath, encoding, newline)\u001b[0m\n\u001b[1;32m    193\u001b[0m \u001b[0;34m\u001b[0m\u001b[0m\n\u001b[1;32m    194\u001b[0m     \u001b[0mds\u001b[0m \u001b[0;34m=\u001b[0m \u001b[0mDataSource\u001b[0m\u001b[0;34m(\u001b[0m\u001b[0mdestpath\u001b[0m\u001b[0;34m)\u001b[0m\u001b[0;34m\u001b[0m\u001b[0;34m\u001b[0m\u001b[0m\n\u001b[0;32m--> 195\u001b[0;31m     \u001b[0;32mreturn\u001b[0m \u001b[0mds\u001b[0m\u001b[0;34m.\u001b[0m\u001b[0mopen\u001b[0m\u001b[0;34m(\u001b[0m\u001b[0mpath\u001b[0m\u001b[0;34m,\u001b[0m \u001b[0mmode\u001b[0m\u001b[0;34m,\u001b[0m \u001b[0mencoding\u001b[0m\u001b[0;34m=\u001b[0m\u001b[0mencoding\u001b[0m\u001b[0;34m,\u001b[0m \u001b[0mnewline\u001b[0m\u001b[0;34m=\u001b[0m\u001b[0mnewline\u001b[0m\u001b[0;34m)\u001b[0m\u001b[0;34m\u001b[0m\u001b[0;34m\u001b[0m\u001b[0m\n\u001b[0m\u001b[1;32m    196\u001b[0m \u001b[0;34m\u001b[0m\u001b[0m\n\u001b[1;32m    197\u001b[0m \u001b[0;34m\u001b[0m\u001b[0m\n",
            "\u001b[0;32m/usr/local/lib/python3.7/dist-packages/numpy/lib/_datasource.py\u001b[0m in \u001b[0;36mopen\u001b[0;34m(self, path, mode, encoding, newline)\u001b[0m\n\u001b[1;32m    533\u001b[0m                                       encoding=encoding, newline=newline)\n\u001b[1;32m    534\u001b[0m         \u001b[0;32melse\u001b[0m\u001b[0;34m:\u001b[0m\u001b[0;34m\u001b[0m\u001b[0;34m\u001b[0m\u001b[0m\n\u001b[0;32m--> 535\u001b[0;31m             \u001b[0;32mraise\u001b[0m \u001b[0mIOError\u001b[0m\u001b[0;34m(\u001b[0m\u001b[0;34m\"%s not found.\"\u001b[0m \u001b[0;34m%\u001b[0m \u001b[0mpath\u001b[0m\u001b[0;34m)\u001b[0m\u001b[0;34m\u001b[0m\u001b[0;34m\u001b[0m\u001b[0m\n\u001b[0m\u001b[1;32m    536\u001b[0m \u001b[0;34m\u001b[0m\u001b[0m\n\u001b[1;32m    537\u001b[0m \u001b[0;34m\u001b[0m\u001b[0m\n",
            "\u001b[0;31mOSError\u001b[0m: M_DIAG.txt not found."
          ]
        }
      ]
    },
    {
      "cell_type": "code",
      "metadata": {
        "id": "eZoGGm1xtR6L"
      },
      "source": [
        "x2 = np.loadtxt(\"M_TINF.txt\",skiprows=1)\n",
        "b2=np.loadtxt(\"V_TINF.txt\",skiprows=1)\n",
        "inferior(x2,b2)"
      ],
      "execution_count": null,
      "outputs": []
    },
    {
      "cell_type": "code",
      "metadata": {
        "id": "W1sPfRv63KBP"
      },
      "source": [
        "x3 = np.loadtxt(\"M_TSUP.txt\",skiprows=1)\n",
        "b3=np.loadtxt(\"V_TSUP.txt\",skiprows=1)\n",
        "superior(x3,b3)"
      ],
      "execution_count": null,
      "outputs": []
    },
    {
      "cell_type": "code",
      "metadata": {
        "id": "3YqjQEo1CTRg"
      },
      "source": [
        "def eliminacion_gaussiana(matriz,b):\n",
        "  for d in range(len(matriz)):\n",
        "    if(matriz[d][d]==0): return \"un cero apareció\"\n",
        "    for i in range(d+1,len(matriz)):\n",
        "      aux=(matriz[i][d]/matriz[d][d])\n",
        "      for j in range(d,len(matriz)):\n",
        "        matriz[i][j]+=-matriz[d][j]*(aux)\n",
        "      b[i]+=-b[d]*(aux)\n",
        "  return superior(matriz,b)"
      ],
      "execution_count": 47,
      "outputs": []
    },
    {
      "cell_type": "code",
      "metadata": {
        "id": "nUYCy6SXDoHl",
        "colab": {
          "base_uri": "https://localhost:8080/"
        },
        "outputId": "e82d120b-2843-4ff7-cdf8-f62d53a99769"
      },
      "source": [
        "eliminacion_gaussiana([[2,-1,3],[-2,3,0],[2,2,3]],[5,7,-3])"
      ],
      "execution_count": 48,
      "outputs": [
        {
          "output_type": "execute_result",
          "data": {
            "text/plain": [
              "[-7.5, -2.666666666666666, 5.777777777777778]"
            ]
          },
          "metadata": {},
          "execution_count": 48
        }
      ]
    },
    {
      "cell_type": "code",
      "metadata": {
        "id": "696vgOzNJLMk",
        "outputId": "f2fdfd8c-f5d9-4379-caaa-39e0217a7b9f",
        "colab": {
          "base_uri": "https://localhost:8080/"
        }
      },
      "source": [
        "x4 = np.loadtxt(\"M_LARGE.txt\",skiprows=1)\n",
        "b4=np.loadtxt(\"V_LARGE.txt\",skiprows=1)\n",
        "eliminacion_gaussiana(x4,b4)"
      ],
      "execution_count": 53,
      "outputs": [
        {
          "output_type": "execute_result",
          "data": {
            "text/plain": [
              "array([ 1.94289029e-16, -2.77555756e-17, -5.20417043e-17,  5.55111512e-17,\n",
              "        9.71445147e-17, -4.16333634e-17, -8.32667268e-17,  0.00000000e+00,\n",
              "        8.32667268e-17, -2.77555756e-17, -8.32667268e-17,  2.77555756e-17,\n",
              "       -5.55111512e-17,  1.38777878e-17,  2.77555756e-17,  6.24500451e-17,\n",
              "        0.00000000e+00,  6.93889390e-18,  2.77555756e-17,  0.00000000e+00,\n",
              "        2.08166817e-17, -4.16333634e-17,  2.16840434e-18,  0.00000000e+00,\n",
              "        0.00000000e+00, -8.32667268e-17,  3.81639165e-17,  5.55111512e-17,\n",
              "        5.55111512e-17, -1.38777878e-17, -1.38777878e-17, -8.32667268e-17,\n",
              "       -5.55111512e-17, -2.77555756e-17,  2.77555756e-17,  2.77555756e-17,\n",
              "        0.00000000e+00,  7.63278329e-17,  9.71445147e-17,  2.08166817e-17,\n",
              "        4.16333634e-17, -6.93889390e-18, -1.11022302e-16, -6.63531730e-17,\n",
              "       -4.85722573e-17, -8.32667268e-17, -2.60208521e-18,  2.77555756e-17,\n",
              "        2.08166817e-17, -1.38777878e-17,  1.11022302e-16, -1.73472348e-17,\n",
              "       -6.93889390e-17,  0.00000000e+00,  9.71445147e-17,  4.33680869e-17,\n",
              "       -1.38777878e-17, -1.11022302e-16,  5.55111512e-17,  1.11022302e-16,\n",
              "        6.93889390e-17, -1.38777878e-17, -2.77555756e-17, -8.32667268e-17,\n",
              "        4.16333634e-17, -2.77555756e-17,  4.33680869e-17,  0.00000000e+00,\n",
              "       -7.28583860e-17, -5.55111512e-17, -1.38777878e-17, -5.55111512e-17,\n",
              "       -4.16333634e-17,  1.38777878e-17, -1.11022302e-16, -3.46944695e-17,\n",
              "        6.93889390e-18, -6.93889390e-17,  9.02056208e-17,  5.55111512e-17,\n",
              "       -1.38777878e-17,  5.20417043e-18,  1.38777878e-17,  1.38777878e-17,\n",
              "       -2.77555756e-17,  0.00000000e+00,  8.32667268e-17, -1.38777878e-17,\n",
              "        0.00000000e+00,  5.55111512e-17, -2.77555756e-17, -1.38777878e-17,\n",
              "        1.73472348e-18,  0.00000000e+00,  6.93889390e-18,  2.77555756e-17,\n",
              "        0.00000000e+00,  2.77555756e-17,  0.00000000e+00,  0.00000000e+00])"
            ]
          },
          "metadata": {},
          "execution_count": 53
        }
      ]
    }
  ]
}