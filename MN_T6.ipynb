{
  "nbformat": 4,
  "nbformat_minor": 0,
  "metadata": {
    "colab": {
      "name": "Untitled15.ipynb",
      "provenance": [],
      "authorship_tag": "ABX9TyOcgLDb8sP+L24Mhv2sC+4Y",
      "include_colab_link": true
    },
    "kernelspec": {
      "name": "python3",
      "display_name": "Python 3"
    },
    "language_info": {
      "name": "python"
    }
  },
  "cells": [
    {
      "cell_type": "markdown",
      "metadata": {
        "id": "view-in-github",
        "colab_type": "text"
      },
      "source": [
        "<a href=\"https://colab.research.google.com/github/JairEsc/Mat_Apl/blob/main/MN_T6.ipynb\" target=\"_parent\"><img src=\"https://colab.research.google.com/assets/colab-badge.svg\" alt=\"Open In Colab\"/></a>"
      ]
    },
    {
      "cell_type": "code",
      "metadata": {
        "id": "Ljb3N_WchsTy"
      },
      "source": [
        "def diagonal(matriz,b):#Recibe la matriz del sistema o un vector con las entradas de la diagonal.\n",
        "#Y b representa los valores del sistema a resolver.\n",
        "  if(type(matriz[0])==type(0.)):\n",
        "    X=[]\n",
        "    for i in range(len(matriz)):\n",
        "      if(matriz[i]==0):\n",
        "        return('el sistema no tiene solución única')\n",
        "      else: \n",
        "        X.append(b[i]/matriz[i])\n",
        "    return X\n",
        "  else:\n",
        "    X=[]\n",
        "    for i in range(len(matriz)):\n",
        "      if(matriz[i][i]==0):\n",
        "        return('el sistema no tiene solución única')\n",
        "      else: \n",
        "        X.append(b[i]/matriz[i][i])\n",
        "    return X"
      ],
      "execution_count": 2,
      "outputs": []
    },
    {
      "cell_type": "code",
      "metadata": {
        "id": "z48MUKyPjrlJ"
      },
      "source": [
        "def inferior(list,b):#list debe contener las entradas de la matriz triangular.\n",
        "#Será aceptable introducir un arreglo de arreglos de distintos tamaños, para solo introducir las entradas no cero.\n",
        "  X=[b[0]/list[0][0]]\n",
        "  for i in range(1,len(list)):#len(list) es el número de renglones de la matriz\n",
        "    acum=0\n",
        "    for j in range(i):#0<=j<=i-1 \n",
        "      acum+=X[j]*list[i][j]\n",
        "    X.append((b[i]-acum)/list[i][i])\n",
        "  return X"
      ],
      "execution_count": 5,
      "outputs": []
    },
    {
      "cell_type": "code",
      "metadata": {
        "colab": {
          "base_uri": "https://localhost:8080/"
        },
        "id": "LGbxsibA1owx",
        "outputId": "53f79cf4-9a32-4eb7-d1aa-d9a615eb6383"
      },
      "source": [
        "inferior([[1],[1,1],[1,1,1]],b=[1,2,1])"
      ],
      "execution_count": 7,
      "outputs": [
        {
          "output_type": "execute_result",
          "data": {
            "text/plain": [
              "[1.0, 1.0, -1.0]"
            ]
          },
          "metadata": {},
          "execution_count": 7
        }
      ]
    },
    {
      "cell_type": "code",
      "metadata": {
        "id": "mztK1zvO3Vuu"
      },
      "source": [
        "def superior(list,b):\n",
        "  n=len(list)\n",
        "  X=[b[n-1]/list[n-1][n-1]]\n",
        "  X_inv=[X[0]]\n",
        "  for i in range(1,n):#len(list) es el número de renglones de la matriz\n",
        "    acum=0\n",
        "    for j in range(i):#0<=j<=i-1 \n",
        "      acum+=X[j]*list[n-i-1][n-1-j]\n",
        "    X.append((b[n-1-i]-acum)/list[n-1-i][n-1-i])\n",
        "    X_inv.insert(0,X[i])\n",
        "  return X_inv"
      ],
      "execution_count": 8,
      "outputs": []
    },
    {
      "cell_type": "code",
      "metadata": {
        "id": "SxQnPHaR79Xv",
        "colab": {
          "base_uri": "https://localhost:8080/"
        },
        "outputId": "72559e8c-fd92-45d0-b20e-2804b035b1e5"
      },
      "source": [
        "superior([[1,1,1],[0,1,1],[0,0,1]],[0,2,2])"
      ],
      "execution_count": 9,
      "outputs": [
        {
          "output_type": "execute_result",
          "data": {
            "text/plain": [
              "[-2.0, 0.0, 2.0]"
            ]
          },
          "metadata": {},
          "execution_count": 9
        }
      ]
    },
    {
      "cell_type": "code",
      "metadata": {
        "colab": {
          "base_uri": "https://localhost:8080/"
        },
        "id": "_VdIo0-DpatR",
        "outputId": "9c4ff65a-604e-4ed2-ec4c-f362c834303a"
      },
      "source": [
        "import numpy as np\n",
        "x1 = np.loadtxt(\"M_DIAG.txt\",skiprows=1)\n",
        "b1=np.loadtxt(\"V_DIAG.txt\",skiprows=1)\n",
        "diagonal(x1,b1)"
      ],
      "execution_count": 12,
      "outputs": [
        {
          "output_type": "execute_result",
          "data": {
            "text/plain": [
              "[1.0, 1.0, 1.0, 1.0]"
            ]
          },
          "metadata": {},
          "execution_count": 12
        }
      ]
    },
    {
      "cell_type": "code",
      "metadata": {
        "colab": {
          "base_uri": "https://localhost:8080/"
        },
        "id": "eZoGGm1xtR6L",
        "outputId": "e31aaea1-72b3-42c6-9e04-6362ccfbfca0"
      },
      "source": [
        "x2 = np.loadtxt(\"M_TINF.txt\",skiprows=1)\n",
        "b2=np.loadtxt(\"V_TINF.txt\",skiprows=1)\n",
        "inferior(x2,b2)"
      ],
      "execution_count": 13,
      "outputs": [
        {
          "output_type": "execute_result",
          "data": {
            "text/plain": [
              "[1.0, 0.0, -0.16666666666666666, -0.15]"
            ]
          },
          "metadata": {},
          "execution_count": 13
        }
      ]
    },
    {
      "cell_type": "code",
      "metadata": {
        "id": "W1sPfRv63KBP",
        "colab": {
          "base_uri": "https://localhost:8080/"
        },
        "outputId": "0a87fe30-de72-449f-aa44-f5b4c72736d2"
      },
      "source": [
        "x3 = np.loadtxt(\"M_TSUP.txt\",skiprows=1)\n",
        "b3=np.loadtxt(\"V_TSUP.txt\",skiprows=1)\n",
        "superior(x3,b3)"
      ],
      "execution_count": 19,
      "outputs": [
        {
          "output_type": "execute_result",
          "data": {
            "text/plain": [
              "[-0.23499999999999988, -0.07000000000000002, -0.07500000000000001, 0.4]"
            ]
          },
          "metadata": {},
          "execution_count": 19
        }
      ]
    },
    {
      "cell_type": "code",
      "metadata": {
        "id": "3YqjQEo1CTRg"
      },
      "source": [
        "def eliminacion_gaussiana(matriz,b):\n",
        "  M_b=matriz\n",
        "  for k in range(len(b)):\n",
        "    M_b[k].append(b[k])\n",
        "  for i in range(len(b)):\n",
        "    for j in range(i+1, n):\n",
        "        ratio = M_b[j][i]/M_b[i][i]\n",
        "        for k in range(n+1):\n",
        "            M_b[j][k] = M_b[j][k] - ratio * M_b[i][k]\n",
        "# Back Substitution\n",
        "  x[n-1] = M_b[n-1][n]/M_b[n-1][n-1]\n",
        "\n",
        "  for i in range(n-2,-1,-1):\n",
        "      x[i] = M_b[i][n]\n",
        "      \n",
        "      for j in range(i+1,n):\n",
        "          x[i] = x[i] - M_b[i][j]*x[j]\n",
        "      \n",
        "      x[i] = x[i]/M_b[i][i]\n",
        "  return x"
      ],
      "execution_count": 26,
      "outputs": []
    },
    {
      "cell_type": "code",
      "metadata": {
        "id": "nUYCy6SXDoHl",
        "outputId": "cfebafca-4ee4-4a39-ed46-6ac87de13bea",
        "colab": {
          "base_uri": "https://localhost:8080/"
        }
      },
      "source": [
        "print(list(x3[0]).append(0))"
      ],
      "execution_count": 32,
      "outputs": [
        {
          "output_type": "stream",
          "name": "stdout",
          "text": [
            "None\n"
          ]
        }
      ]
    },
    {
      "cell_type": "code",
      "metadata": {
        "id": "o28Fhmz2GySL",
        "outputId": "5ba9f818-73d0-4eb7-c705-40b6784360e5",
        "colab": {
          "base_uri": "https://localhost:8080/"
        }
      },
      "source": [
        "x4 = np.loadtxt(\"M_LARGE.txt\",skiprows=1)\n",
        "b4=np.loadtxt(\"V_LARGE.txt\",skiprows=1)\n",
        "count=0\n",
        "for i in range(len(b4)):\n",
        "  if(x4[i][i]==0):\n",
        "    count+=1\n",
        "print(count)"
      ],
      "execution_count": 25,
      "outputs": [
        {
          "output_type": "stream",
          "name": "stdout",
          "text": [
            "0\n"
          ]
        }
      ]
    }
  ]
}