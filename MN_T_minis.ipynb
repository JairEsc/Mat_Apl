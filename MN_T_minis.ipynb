{
  "nbformat": 4,
  "nbformat_minor": 0,
  "metadata": {
    "colab": {
      "name": "Untitled15.ipynb",
      "provenance": [],
      "authorship_tag": "ABX9TyMTO5P+z1wHczO9GNLb54kn",
      "include_colab_link": true
    },
    "kernelspec": {
      "name": "python3",
      "display_name": "Python 3"
    },
    "language_info": {
      "name": "python"
    }
  },
  "cells": [
    {
      "cell_type": "markdown",
      "metadata": {
        "id": "view-in-github",
        "colab_type": "text"
      },
      "source": [
        "<a href=\"https://colab.research.google.com/github/JairEsc/Mat_Apl/blob/main/MN_T_minis.ipynb\" target=\"_parent\"><img src=\"https://colab.research.google.com/assets/colab-badge.svg\" alt=\"Open In Colab\"/></a>"
      ]
    },
    {
      "cell_type": "markdown",
      "metadata": {
        "id": "En3znfVohs9J"
      },
      "source": [
        "Mini-tareas Métodos numéricos."
      ]
    },
    {
      "cell_type": "code",
      "metadata": {
        "id": "Ljb3N_WchsTy"
      },
      "source": [
        "def diagonal(list,b):#Recibe dos vectores, uno representa las entradas de la diagoal\n",
        "#Y b representa los valores del sistema a resolver.\n",
        "  X=[]\n",
        "  for i in range(len(list)):\n",
        "    if(list[i]==0):\n",
        "      return('el sistema no tiene solución única')\n",
        "    else: \n",
        "      X.append(b[i]/list[i])\n",
        "  return X"
      ],
      "execution_count": 3,
      "outputs": []
    },
    {
      "cell_type": "code",
      "metadata": {
        "id": "PtugSBGBjpd7"
      },
      "source": [
        "Ejemplo:"
      ],
      "execution_count": null,
      "outputs": []
    },
    {
      "cell_type": "code",
      "metadata": {
        "colab": {
          "base_uri": "https://localhost:8080/",
          "height": 35
        },
        "id": "riRATsWnjad_",
        "outputId": "c9832077-6979-4b41-d51c-5f6aa80bbad7"
      },
      "source": [
        "diagonal([0.5,0,0.5],[1,2,3])"
      ],
      "execution_count": 5,
      "outputs": [
        {
          "output_type": "execute_result",
          "data": {
            "application/vnd.google.colaboratory.intrinsic+json": {
              "type": "string"
            },
            "text/plain": [
              "'el sistema no tiene solución única'"
            ]
          },
          "metadata": {},
          "execution_count": 5
        }
      ]
    },
    {
      "cell_type": "code",
      "metadata": {
        "id": "z48MUKyPjrlJ"
      },
      "source": [
        "def inferior(list,b):#list debe contener las entradas de la matriz triangular.\n",
        "#Será aceptable introducir un arreglo de arreglos de distintos tamaños, para solo introducir las entradas no cero.\n",
        "  X=[b[0]/list[0][0]]\n",
        "  for i in range(1,len(list)):#len(list) es el número de renglones del sistema.\n",
        "    for j in range(len(i)):#len(i) es el número de entradas distintas de cero en el renglón i. (1,2,3,...,len(list))\n",
        "      \n",
        "    X.append()"
      ],
      "execution_count": null,
      "outputs": []
    },
    {
      "cell_type": "code",
      "metadata": {
        "colab": {
          "base_uri": "https://localhost:8080/"
        },
        "id": "GCZ5WodllEVe",
        "outputId": "4cb4fc46-8c9c-4d3c-d54d-ee10d111909d"
      },
      "source": [
        "list=[[1],[1,1],[1,1,1]]\n",
        "print(list[0])"
      ],
      "execution_count": 8,
      "outputs": [
        {
          "output_type": "stream",
          "name": "stdout",
          "text": [
            "1\n"
          ]
        }
      ]
    }
  ]
}