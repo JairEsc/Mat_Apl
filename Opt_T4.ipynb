{
  "nbformat": 4,
  "nbformat_minor": 0,
  "metadata": {
    "colab": {
      "name": "Untitled82.ipynb",
      "provenance": [],
      "authorship_tag": "ABX9TyOOeWvI34Pv2Tpc7zImuLFe",
      "include_colab_link": true
    },
    "kernelspec": {
      "name": "python3",
      "display_name": "Python 3"
    },
    "language_info": {
      "name": "python"
    }
  },
  "cells": [
    {
      "cell_type": "markdown",
      "metadata": {
        "id": "view-in-github",
        "colab_type": "text"
      },
      "source": [
        "<a href=\"https://colab.research.google.com/github/JairEsc/Mat_Apl/blob/main/Opt_T4.ipynb\" target=\"_parent\"><img src=\"https://colab.research.google.com/assets/colab-badge.svg\" alt=\"Open In Colab\"/></a>"
      ]
    },
    {
      "cell_type": "code",
      "source": [
        "import numpy as np"
      ],
      "metadata": {
        "id": "BKmtnB-kgQH1"
      },
      "execution_count": 1,
      "outputs": []
    },
    {
      "cell_type": "code",
      "execution_count": 2,
      "metadata": {
        "id": "tSqtOjk1eXXH"
      },
      "outputs": [],
      "source": [
        "#steepest descent.\n",
        "def Steepest_descent(alpha,x_0,f,grad_f,tol_grad=10**(-4)):\n",
        "    x_1=x_0-alpha*np.array(grad_f(x_0[0],x_0[1]))\n",
        "    x_0=x_1\n",
        "    k=1\n",
        "    while(np.linalg.norm(grad_f(x_1[0],x_1[1]))>tol_grad):\n",
        "        k+=1\n",
        "        x_1=x_0-alpha*np.array(grad_f(x_0[0],x_0[1]))\n",
        "        x_0=x_1\n",
        "    print(k,\"iter\")\n",
        "    return (x_1)"
      ]
    },
    {
      "cell_type": "code",
      "source": [
        "def f(x_1,x_2):\n",
        "    return ((1-x_1)**2 +100*(x_2-x_1**2)**2)\n",
        "def grad_f(x_1,x_2):\n",
        "    return ([-2*(1-x_1)-400*(x_2-x_1**2)*x_1,200*(x_2-x_1**2)])"
      ],
      "metadata": {
        "id": "n5cVNH7NgaVL"
      },
      "execution_count": 3,
      "outputs": []
    },
    {
      "cell_type": "code",
      "source": [
        "print(Steepest_descent(alpha=0.002,x_0=[1.57,1.6],f=f,grad_f=grad_f))"
      ],
      "metadata": {
        "colab": {
          "base_uri": "https://localhost:8080/"
        },
        "id": "uUvHemGsh0yf",
        "outputId": "7326c169-0b8d-46c9-d6a4-f48bed8be164"
      },
      "execution_count": 11,
      "outputs": [
        {
          "output_type": "stream",
          "name": "stdout",
          "text": [
            "7257 iter\n",
            "[0.99988821 0.99977599]\n"
          ]
        }
      ]
    },
    {
      "cell_type": "code",
      "source": [
        "def Newton(x_0,f,grad_f,Hess_f,tol_grad=10**(-4)):\n",
        "    d=np.linalg.solve(Hess_f(x_0[0],x_0[1]),-np.array(grad_f(x_0[0],x_0[1])))\n",
        "    x_1=x_0+d\n",
        "    x_0=x_1\n",
        "    k=1\n",
        "    while(np.linalg.norm(grad_f(x_1[0],x_1[1]))>tol_grad):\n",
        "        k+=1\n",
        "        d=np.linalg.solve(Hess_f(x_0[0],x_0[1]),-np.array(grad_f(x_0[0],x_0[1])))\n",
        "        x_1=x_0+d\n",
        "        x_0=x_1\n",
        "    print(k,\"iter\")\n",
        "    return (x_1)"
      ],
      "metadata": {
        "id": "eXpX0iRuhbtb"
      },
      "execution_count": 20,
      "outputs": []
    },
    {
      "cell_type": "code",
      "source": [
        "def Hess_f(x_1,x_2):\n",
        "    return ([[-400*(x_2-x_1**2)+800*x_1**2+2,-400*x_1],[400*x_1,200]])"
      ],
      "metadata": {
        "id": "CTePsvWDmkPf"
      },
      "execution_count": 13,
      "outputs": []
    },
    {
      "cell_type": "code",
      "source": [
        "Newton(x_0=[1.57,1.6],f=f,grad_f=grad_f,Hess_f=Hess_f)"
      ],
      "metadata": {
        "id": "Vy0qn4EpnVrh",
        "outputId": "47c12920-2fb1-4143-cef4-a900032b38b5",
        "colab": {
          "base_uri": "https://localhost:8080/"
        }
      },
      "execution_count": 21,
      "outputs": [
        {
          "output_type": "stream",
          "name": "stdout",
          "text": [
            "7965 iter\n"
          ]
        },
        {
          "output_type": "execute_result",
          "data": {
            "text/plain": [
              "array([1.00009997, 1.00020046])"
            ]
          },
          "metadata": {},
          "execution_count": 21
        }
      ]
    }
  ]
}