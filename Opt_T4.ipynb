{
  "nbformat": 4,
  "nbformat_minor": 0,
  "metadata": {
    "colab": {
      "name": "Untitled82.ipynb",
      "provenance": [],
      "authorship_tag": "ABX9TyMOQfaNtDOJAo+tHhVj99ks",
      "include_colab_link": true
    },
    "kernelspec": {
      "name": "python3",
      "display_name": "Python 3"
    },
    "language_info": {
      "name": "python"
    }
  },
  "cells": [
    {
      "cell_type": "markdown",
      "metadata": {
        "id": "view-in-github",
        "colab_type": "text"
      },
      "source": [
        "<a href=\"https://colab.research.google.com/github/JairEsc/Mat_Apl/blob/main/Opt_T4.ipynb\" target=\"_parent\"><img src=\"https://colab.research.google.com/assets/colab-badge.svg\" alt=\"Open In Colab\"/></a>"
      ]
    },
    {
      "cell_type": "code",
      "source": [
        "import numpy as np\n",
        "import matplotlib.pyplot as plt"
      ],
      "metadata": {
        "id": "BKmtnB-kgQH1"
      },
      "execution_count": 55,
      "outputs": []
    },
    {
      "cell_type": "code",
      "source": [
        "#Implementation"
      ],
      "metadata": {
        "id": "LaMjk1ANo46a"
      },
      "execution_count": null,
      "outputs": []
    },
    {
      "cell_type": "code",
      "execution_count": 118,
      "metadata": {
        "id": "tSqtOjk1eXXH"
      },
      "outputs": [],
      "source": [
        "#steepest descent.\n",
        "def Steepest_descent(alpha,x_0,f,grad_f,tol_grad=10**(-4),max_iter=10**5,pr=\"False\"):\n",
        "    x_1=x_0-alpha*np.array(grad_f(x_0))#First iteration\n",
        "    if(pr=='True'):\n",
        "        print(\"Initial approximation: \", x_0)\n",
        "        F=[f(x_0)]\n",
        "        G=[np.linalg.norm(grad_f(x_0))]\n",
        "    x_0=x_1\n",
        "    k=1\n",
        "    norm_grad=np.linalg.norm(grad_f(x_1))\n",
        "    #Cycle\n",
        "    while(norm_grad>tol_grad and k<max_iter):#stop criteria\n",
        "        k+=1\n",
        "        x_1=x_0-alpha*np.array(grad_f(x_0))\n",
        "        x_0=x_1\n",
        "        norm_grad=np.linalg.norm(grad_f(x_1))\n",
        "        if(pr=='True'):\n",
        "            F.append(f(x_0))\n",
        "            G.append(np.linalg.norm(grad_f(x_0)))\n",
        "    if(k==max_iter):\n",
        "        print(\"There wasnt convergence after \"+str(max_iter)+\" iterations.\\nLast iteration: \"+str(x_1))\n",
        "    else:\n",
        "        if(pr=='True'):\n",
        "            plt.plot(range(201,len(F)),F[200:-1])\n",
        "            plt.title(\"k vs. F(X_k)\")   \n",
        "            plt.show()         \n",
        "            plt.plot(range(201,len(G)),G[200:-1])\n",
        "            plt.title(\"k vs. ||g(X_k)||\")   \n",
        "            plt.show()         \n",
        "        print(\"iterations: \",k)\n",
        "        return (x_1)"
      ]
    },
    {
      "cell_type": "code",
      "source": [
        "def Newton(x_0,f,grad_f,Hess_f,tol_grad=10**(-4),pr='False',max_iter=10**4):\n",
        "    d=np.linalg.solve(Hess_f(x_0),-np.array(grad_f(x_0)))\n",
        "    x_1=x_0+d\n",
        "    if(pr=='True'):\n",
        "        print(\"Initial approximation: \", x_0)\n",
        "        F=[f(x_0)]\n",
        "        G=[np.linalg.norm(grad_f(x_0))]\n",
        "    x_0=x_1\n",
        "    k=1\n",
        "    while(np.linalg.norm(grad_f(x_0))>tol_grad):\n",
        "        k+=1\n",
        "        d=np.linalg.solve(Hess_f(x_0),-np.array(grad_f(x_0)))\n",
        "        x_1=x_0+d\n",
        "        x_0=x_1\n",
        "        if(pr=='True'):\n",
        "            F.append(f(x_0))\n",
        "            G.append(np.linalg.norm(grad_f(x_0)))\n",
        "    if(k==max_iter):\n",
        "        print(\"There wasnt convergence after \"+str(max_iter)+\" iterations.\\nLast iteration: \"+str(x_1))\n",
        "    else:\n",
        "        if(pr=='True'):\n",
        "            plt.plot(range(201,len(F)),F[200:-1])\n",
        "            plt.title(\"k vs. F(X_k)\")   \n",
        "            plt.show()         \n",
        "            plt.plot(range(201,len(G)),G[200:-1])\n",
        "            plt.title(\"k vs. ||g(X_k)||\")   \n",
        "            plt.show()         \n",
        "        print(\"iterations: \",k)\n",
        "        return (x_1)"
      ],
      "metadata": {
        "id": "eXpX0iRuhbtb"
      },
      "execution_count": 129,
      "outputs": []
    },
    {
      "cell_type": "code",
      "source": [
        "#Exercise 2. Rosembrok's function.---------------------------------------------"
      ],
      "metadata": {
        "id": "dTFNFv4IpBYS"
      },
      "execution_count": null,
      "outputs": []
    },
    {
      "cell_type": "code",
      "source": [
        "def Rosembrok(X):#X es un vector.\n",
        "    suma=0\n",
        "    for i in range(len(X)-1):\n",
        "        suma+=100*((X[i+1]-X[i]**2)**2)+(1-X[i])**2\n",
        "    return (suma)\n",
        "def Rosembrok_grad(X):\n",
        "    D=[]\n",
        "    D.append(-400*(X[0]*(X[1]-X[0]**2))-2*(1-X[0]))\n",
        "    for i in range(1,len(X)-1):\n",
        "        D.append(-400*(X[i]*(X[i+1]-X[i]**2))+200*(X[i]-X[i-1]**2)-2*(1-X[i]))\n",
        "    D.append(200*(X[-1]-X[-2]**2))\n",
        "    return D\n",
        "def Rosembrok_Hessian(X):\n",
        "    M=[]\n",
        "    #Renglon 1\n",
        "    D=np.zeros(len(X))\n",
        "    D[0]=(-400*(X[1]-X[0]**2)+800*(X[0]**2)+2)\n",
        "    D[1]=-400*(X[1])\n",
        "    M.append(D)\n",
        "    #Renglon 2<i<n\n",
        "    for i in range(1,len(X)-1):\n",
        "        D=np.zeros(len(X))\n",
        "        D[i]=(-400*(X[i+1]-X[i]**2)+800*(X[i]**2)+202)\n",
        "        D[i-1]=-400*X[i-1]\n",
        "        D[i+1]=-400*X[i]\n",
        "        M.append(D)\n",
        "    #Renglon n\n",
        "    D=np.zeros(len(X))\n",
        "    D[-2]=-400*X[-2]\n",
        "    D[-1]=200\n",
        "    M.append(D)\n",
        "    return M"
      ],
      "metadata": {
        "id": "IINu-BcfZ1Gg"
      },
      "execution_count": 58,
      "outputs": []
    },
    {
      "cell_type": "code",
      "source": [
        "#Grafica\n",
        "#Case n=2----------------------------------\n",
        "print(\"local minimum approximation: \",(Steepest_descent(alpha=0.001,x_0=[-1.2,1],f=Rosembrok,grad_f=Rosembrok_grad,pr='True')))#Si ploteo G[200:-1] se ve mas bonito.\n",
        "print(\"\\nX_0 random\")\n",
        "np.random.seed(0)\n",
        "x_0=np.random.normal(1,0.5,size=2)#Close to the minimum\n",
        "print(\"local minimum approximation: \",(Steepest_descent(alpha=0.001,x_0=x_0,f=Rosembrok,grad_f=Rosembrok_grad,pr='True')))#Si ploteo G[200:-1] se ve mas bonito."
      ],
      "metadata": {
        "id": "LA4Z4KBF-mgN",
        "outputId": "47d6d64f-e0eb-4446-cf58-26080efdffb9",
        "colab": {
          "base_uri": "https://localhost:8080/",
          "height": 1000
        }
      },
      "execution_count": 114,
      "outputs": [
        {
          "output_type": "stream",
          "name": "stdout",
          "text": [
            "Initial approximation:  [-1.2, 1]\n"
          ]
        },
        {
          "output_type": "display_data",
          "data": {
            "image/png": "[encoded data removed]",
            "text/plain": [
              "<Figure size 432x288 with 1 Axes>"
            ]
          },
          "metadata": {
            "needs_background": "light"
          }
        },
        {
          "output_type": "display_data",
          "data": {
            "image/png": "[encoded data removed]",
            "text/plain": [
              "<Figure size 432x288 with 1 Axes>"
            ]
          },
          "metadata": {
            "needs_background": "light"
          }
        },
        {
          "output_type": "stream",
          "name": "stdout",
          "text": [
            "iterations:  20548\n",
            "local minimum approximation:  [0.99988824 0.99977604]\n",
            "\n",
            "X_0 random\n",
            "Initial approximation:  [1.88202617 1.2000786 ]\n"
          ]
        },
        {
          "output_type": "display_data",
          "data": {
            "image/png": "[encoded data removed]",
            "text/plain": [
              "<Figure size 432x288 with 1 Axes>"
            ]
          },
          "metadata": {
            "needs_background": "light"
          }
        },
        {
          "output_type": "display_data",
          "data": {
            "image/png": "[encoded data removed]",
            "text/plain": [
              "<Figure size 432x288 with 1 Axes>"
            ]
          },
          "metadata": {
            "needs_background": "light"
          }
        },
        {
          "output_type": "stream",
          "name": "stdout",
          "text": [
            "iterations:  18363\n",
            "local minimum approximation:  [0.99988821 0.99977599]\n"
          ]
        }
      ]
    },
    {
      "cell_type": "code",
      "source": [
        "#Case n=100----------------------------------\n",
        "n=100\n",
        "x_0=[]\n",
        "x_0.append(-1.2)\n",
        "for i in range(1,n-2):\n",
        "    x_0.append(1)\n",
        "x_0.append(-1.2)\n",
        "x_0.append(1)\n",
        "loc_min=Steepest_descent(alpha=0.001,x_0=x_0,f=Rosembrok,grad_f=Rosembrok_grad,pr='True',tol_grad=10**(-8))#Si ploteo G[200:-1] se ve mas bonito.\n",
        "print(\"local minimum approximation: \",(loc_min))\n",
        "print(\"f-Value: \",Rosembrok(loc_min))"
      ],
      "metadata": {
        "id": "TS0dUrSjpQf6",
        "outputId": "c5be82a0-59d0-42d5-8f6e-0ab5a20a4248",
        "colab": {
          "base_uri": "https://localhost:8080/",
          "height": 912
        }
      },
      "execution_count": 68,
      "outputs": [
        {
          "output_type": "stream",
          "name": "stdout",
          "text": [
            "Initial approximation:  [-1.2, 1, 1, 1, 1, 1, 1, 1, 1, 1, 1, 1, 1, 1, 1, 1, 1, 1, 1, 1, 1, 1, 1, 1, 1, 1, 1, 1, 1, 1, 1, 1, 1, 1, 1, 1, 1, 1, 1, 1, 1, 1, 1, 1, 1, 1, 1, 1, 1, 1, 1, 1, 1, 1, 1, 1, 1, 1, 1, 1, 1, 1, 1, 1, 1, 1, 1, 1, 1, 1, 1, 1, 1, 1, 1, 1, 1, 1, 1, 1, 1, 1, 1, 1, 1, 1, 1, 1, 1, 1, 1, 1, 1, 1, 1, 1, 1, 1, -1.2, 1]\n"
          ]
        },
        {
          "output_type": "display_data",
          "data": {
            "image/png": "[encoded data removed]",
            "text/plain": [
              "<Figure size 432x288 with 1 Axes>"
            ]
          },
          "metadata": {
            "needs_background": "light"
          }
        },
        {
          "output_type": "display_data",
          "data": {
            "image/png": "[encoded data removed]",
            "text/plain": [
              "<Figure size 432x288 with 1 Axes>"
            ]
          },
          "metadata": {
            "needs_background": "light"
          }
        },
        {
          "output_type": "stream",
          "name": "stdout",
          "text": [
            "iterations:  34984\n",
            "local minimum approximation:  [-0.9932861   0.99665107  0.99833032  0.99916774  0.9995852   0.99979328\n",
            "  0.99989698  0.99994866  0.99997441  0.99998725  0.99999365  0.99999683\n",
            "  0.99999842  0.99999921  0.99999961  0.9999998   0.9999999   0.99999995\n",
            "  0.99999998  0.99999999  0.99999999  1.          1.          1.\n",
            "  1.          1.          1.          1.          1.          1.\n",
            "  1.          1.          1.          1.          1.          1.\n",
            "  1.          1.          1.          1.          1.          1.\n",
            "  1.          1.          1.          1.          1.          1.\n",
            "  1.          1.          1.          1.          1.          1.\n",
            "  1.          1.          1.          1.          1.          1.\n",
            "  1.          1.          1.          1.          1.          1.\n",
            "  1.          1.          1.          1.          1.          1.\n",
            "  1.          1.          1.          1.          1.          1.\n",
            "  1.          1.          1.          1.          1.          1.\n",
            "  1.          1.          1.          1.          1.          1.\n",
            "  1.          1.          1.          1.          1.          1.\n",
            "  1.          1.          0.99999999  0.99999998]\n",
            "f-Value:  3.9866238543009334\n"
          ]
        }
      ]
    },
    {
      "cell_type": "code",
      "source": [
        "x_0=np.random.normal(1,0.5,size=n)\n",
        "loc_min=Steepest_descent(alpha=0.001,x_0=x_0,f=Rosembrok,grad_f=Rosembrok_grad,pr='True',tol_grad=10**(-8))#Si ploteo G[200:-1] se ve mas bonito.\n",
        "print(\"local minimum approximation: \",(loc_min))\n",
        "print(\"f-Value: \",Rosembrok(loc_min))"
      ],
      "metadata": {
        "id": "lzXuC6gkuv3r",
        "outputId": "33b81ff9-47d4-4288-f673-59ba52b30f20",
        "colab": {
          "base_uri": "https://localhost:8080/",
          "height": 1000
        }
      },
      "execution_count": 75,
      "outputs": [
        {
          "output_type": "stream",
          "name": "stdout",
          "text": [
            "Initial approximation:  [ 1.38333159  1.17814641  0.11573077  1.1777409   1.40725991  1.02946279\n",
            "  0.90747316  0.59617576  0.27673265  1.40014897  0.84544278  0.88326667\n",
            "  1.86636059  1.34225055  1.1854125   1.0710309   1.75999743  1.85979465\n",
            "  1.46475256  1.2911123  -0.04730154  1.06186096  0.93494652  1.04697661\n",
            "  1.47152304 -0.36983858  0.71534397  1.13495218  0.76657723  0.29154694\n",
            "  1.43448174  1.13843595  0.51444771  1.1574086   1.41079286  1.00264632\n",
            "  1.4002824   1.03913009  0.80238551  0.42028974  0.95703462  1.09714647\n",
            "  1.43791638  0.94244627  1.2287078   0.51769399  0.60868542  0.94480535\n",
            "  0.47268577  1.41012392  1.23156516  1.13954788  1.16945206  2.01052178\n",
            "  0.76556791 -0.10072064  1.0996501   0.97469823  0.74124048  0.51058507\n",
            "  0.78040524  1.09066921  0.74859165  2.20622684  0.51974781  0.60344132\n",
            " -0.14431002  1.12574221 -0.00820331  0.73027268  0.86216473  0.64513602\n",
            "  1.86943634  1.4971972   1.65956844  0.55879059  1.56429703  1.24800047\n",
            "  1.38570297  1.51471941  0.54561838  0.78784119  1.43129801 -0.32780955\n",
            "  1.75666404  1.27656603  0.97714802  1.11025383  0.48503236  0.82502832\n",
            "  1.55014217  1.64901099  2.34811203  0.96303767  0.67072352  0.74288302\n",
            "  0.49097906  0.96107262  1.19136622  0.98287886]\n"
          ]
        },
        {
          "output_type": "display_data",
          "data": {
            "image/png": "[encoded data removed]",
            "text/plain": [
              "<Figure size 432x288 with 1 Axes>"
            ]
          },
          "metadata": {
            "needs_background": "light"
          }
        },
        {
          "output_type": "display_data",
          "data": {
            "image/png": "[encoded data removed]",
            "text/plain": [
              "<Figure size 432x288 with 1 Axes>"
            ]
          },
          "metadata": {
            "needs_background": "light"
          }
        },
        {
          "output_type": "stream",
          "name": "stdout",
          "text": [
            "iterations:  42707\n",
            "local minimum approximation:  [1.         1.         1.         1.         1.         1.\n",
            " 1.         1.         1.         1.         1.         1.\n",
            " 1.         1.         1.         1.         1.         1.\n",
            " 1.         1.         1.         1.         1.         1.\n",
            " 1.         1.         1.         1.         1.         1.\n",
            " 1.         1.         1.         1.         1.         1.\n",
            " 1.         1.         1.         1.         1.         1.\n",
            " 1.         1.         1.         1.         1.         1.\n",
            " 1.         1.         1.         1.         1.         1.\n",
            " 1.         1.         1.         1.         1.         1.\n",
            " 1.         1.         1.         1.         1.         1.\n",
            " 1.         1.         1.         1.         1.         1.\n",
            " 1.         1.         1.         1.         1.         1.\n",
            " 1.         1.         1.         1.         1.         1.\n",
            " 1.         1.         1.         1.         1.         1.\n",
            " 1.         1.         1.         1.         1.         1.\n",
            " 1.         1.         0.99999999 0.99999998]\n",
            "f-Value:  1.0016439243196674e-16\n"
          ]
        }
      ]
    },
    {
      "cell_type": "code",
      "source": [
        "#Exercise 2. Rosembrok's function with Newton's algorithm.-------------------"
      ],
      "metadata": {
        "id": "UDJ-qTnwW_79"
      },
      "execution_count": null,
      "outputs": []
    },
    {
      "cell_type": "code",
      "source": [
        "#n=2\n",
        "#Given X_0---------------------------------------\n",
        "x_0=[-1.2,1]\n",
        "loc_min=Newton(x_0=x_0,f=Rosembrok,grad_f=Rosembrok_grad,Hess_f=Rosembrok_Hessian,pr='True',tol_grad=10**(-6))#Si ploteo G[200:-1] se ve mas bonito.\n",
        "print(\"local minimum approximation: \",(loc_min))\n",
        "print(\"f-Value: \",Rosembrok(loc_min))\n",
        "#Random X_0---------------------------------------\n",
        "\n",
        "#n=100\n",
        "#Given X_0---------------------------------------\n",
        "\n",
        "\n",
        "\n",
        "\n",
        "\n",
        "\n",
        "#Random X_0---------------------------------------\n",
        "np.random.seed(0)\n",
        "x_0=np.random.normal(1,0.5,size=100)\n",
        "loc_min=Newton(x_0=x_0,f=Rosembrok,grad_f=Rosembrok_grad,Hess_f=Rosembrok_Hessian,pr='True',tol_grad=10**(-6))#Si ploteo G[200:-1] se ve mas bonito.\n",
        "print(\"local minimum approximation: \",(loc_min))\n",
        "print(\"f-Value: \",Rosembrok(loc_min))"
      ],
      "metadata": {
        "id": "j53F-W8aXI7h",
        "outputId": "d8eb06c9-8f57-4cc8-8b62-aed6577814ba",
        "colab": {
          "base_uri": "https://localhost:8080/",
          "height": 1000
        }
      },
      "execution_count": 134,
      "outputs": [
        {
          "output_type": "stream",
          "name": "stdout",
          "text": [
            "Initial approximation:  [-1.2, 1]\n"
          ]
        },
        {
          "output_type": "display_data",
          "data": {
            "image/png": "[encoded data removed]",
            "text/plain": [
              "<Figure size 432x288 with 1 Axes>"
            ]
          },
          "metadata": {
            "needs_background": "light"
          }
        },
        {
          "output_type": "display_data",
          "data": {
            "image/png": "[encoded data removed]",
            "text/plain": [
              "<Figure size 432x288 with 1 Axes>"
            ]
          },
          "metadata": {
            "needs_background": "light"
          }
        },
        {
          "output_type": "stream",
          "name": "stdout",
          "text": [
            "iterations:  286\n",
            "local minimum approximation:  [1. 1.]\n",
            "f-Value:  5.363586112503317e-19\n",
            "Initial approximation:  [ 1.88202617  1.2000786   1.48936899  2.1204466   1.933779    0.51136106\n",
            "  1.47504421  0.9243214   0.94839057  1.20529925  1.07202179  1.72713675\n",
            "  1.38051886  1.06083751  1.22193162  1.16683716  1.74703954  0.89742087\n",
            "  1.15653385  0.57295213 -0.27649491  1.3268093   1.4322181   0.62891749\n",
            "  2.13487731  0.27281716  1.02287926  0.90640807  1.76638961  1.73467938\n",
            "  1.07747371  1.18908126  0.55610713  0.00960177  0.82604393  1.07817448\n",
            "  1.61514534  1.60118992  0.80633659  0.84884862  0.47572352  0.28999103\n",
            "  0.1468649   1.9753877   0.74517391  0.78096285  0.37360232  1.38874518\n",
            "  0.19305108  0.89362986  0.55226672  1.19345125  0.74459743  0.40968391\n",
            "  0.98590889  1.21416594  1.03325861  1.15123595  0.68283895  0.81862942\n",
            "  0.66376978  0.82022342  0.59342686  0.1368587   1.08871307  0.79910953\n",
            "  0.18490083  1.23139113  0.54635082  1.0259727   1.36454528  1.06449146\n",
            "  1.56970034  0.38258709  1.20117082  0.65759495  0.56460143  0.71057517\n",
            "  0.84422373  1.02808267  0.41742508  1.45041324  1.23283122  0.23187816\n",
            "  1.7441261   1.94794459  1.58938979  0.91003758  0.46462369  1.52722586\n",
            "  0.79841153  1.61122254  1.10413749  1.48831952  1.1781832   1.35328658\n",
            "  1.00525001  1.89293525  1.06345605  1.20099468]\n"
          ]
        },
        {
          "output_type": "display_data",
          "data": {
            "image/png": "[encoded data removed]",
            "text/plain": [
              "<Figure size 432x288 with 1 Axes>"
            ]
          },
          "metadata": {
            "needs_background": "light"
          }
        },
        {
          "output_type": "display_data",
          "data": {
            "image/png": "[encoded data removed]",
            "text/plain": [
              "<Figure size 432x288 with 1 Axes>"
            ]
          },
          "metadata": {
            "needs_background": "light"
          }
        },
        {
          "output_type": "stream",
          "name": "stdout",
          "text": [
            "iterations:  1239\n",
            "local minimum approximation:  [1. 1. 1. 1. 1. 1. 1. 1. 1. 1. 1. 1. 1. 1. 1. 1. 1. 1. 1. 1. 1. 1. 1. 1.\n",
            " 1. 1. 1. 1. 1. 1. 1. 1. 1. 1. 1. 1. 1. 1. 1. 1. 1. 1. 1. 1. 1. 1. 1. 1.\n",
            " 1. 1. 1. 1. 1. 1. 1. 1. 1. 1. 1. 1. 1. 1. 1. 1. 1. 1. 1. 1. 1. 1. 1. 1.\n",
            " 1. 1. 1. 1. 1. 1. 1. 1. 1. 1. 1. 1. 1. 1. 1. 1. 1. 1. 1. 1. 1. 1. 1. 1.\n",
            " 1. 1. 1. 1.]\n",
            "f-Value:  1.3578628192698333e-21\n"
          ]
        }
      ]
    },
    {
      "cell_type": "code",
      "source": [
        "#Exercise 2. Wood's function.---------------------------------------------"
      ],
      "metadata": {
        "id": "Ar4fVm16pLvZ"
      },
      "execution_count": null,
      "outputs": []
    },
    {
      "cell_type": "code",
      "source": [
        "def Wood(X):\n",
        "    return (100*(X[0]**2-X[1])**2+(X[0]-1)**2+(X[2]-1)**2+90*(X[2]**2-X[3])**2+10.1*((X[1]-1)**2+(X[3]-1)**2)+19.8*(X[1]-1)*(X[3]-1))\n",
        "def Wood_grad(X):\n",
        "    G=[]\n",
        "    G.append(400*X[0]*(X[0]**2-X[1])+2*(X[0]-1))\n",
        "    G.append(-200*(X[0]**2-X[1])+20.2*(X[1]-1)+19.8*(X[3]-1))\n",
        "    G.append(2*(X[2]-1)+360*(X[2]**2-X[3])*X[2])\n",
        "    G.append(-180*(X[2]**2-X[3])+20.2*(X[3]-1)+19.8*(X[1]-1))\n",
        "    return G\n",
        "def Wood_Hessian(X):\n",
        "    D1=[2+400*(X[0]**2-1)+800*X[0]**2,-400*X[0],0,0]\n",
        "    D2=[-400*X[0],220.2,0,19.8]\n",
        "    D3=[0,0,2+720*(X[2]**2)+360*(X[2]-X[3]),-360*X[2]]\n",
        "    D4=[0,19.8,-360*X[2],200.2]\n",
        "    return [D1,D2,D3,D4]\n"
      ],
      "metadata": {
        "id": "tHk7accUVeGU"
      },
      "execution_count": 76,
      "outputs": []
    },
    {
      "cell_type": "code",
      "source": [
        "print(\"local minimum approximation: \",Steepest_descent(alpha=0.00001,x_0=[-3,-1,-3,-1],f=Wood,grad_f=Wood_grad,pr='True',max_iter=100000,))"
      ],
      "metadata": {
        "id": "h1RjDZ7v1JkU",
        "outputId": "ef0c5f8e-2175-4906-deac-fd451e89afec",
        "colab": {
          "base_uri": "https://localhost:8080/"
        }
      },
      "execution_count": 92,
      "outputs": [
        {
          "output_type": "stream",
          "name": "stdout",
          "text": [
            "Initial approximation:  [-3, -1, -3, -1]\n",
            "There wasnt convergence after 100000 iterations.\n",
            "Last iteration: [-0.96889398  0.94891635 -0.96859671  0.9494705 ]\n"
          ]
        }
      ]
    },
    {
      "cell_type": "code",
      "source": [
        "np.random.seed(0)\n",
        "x_0=np.random.normal(1,0.5,size=4)\n",
        "loc_min=Steepest_descent(alpha=0.001,x_0=x_0,f=Wood,grad_f=Wood_grad,pr='True',max_iter=100000,)\n",
        "print(\"local minimum approximation: \",loc_min)\n",
        "print(\"f-Value: \",Wood(loc_min))"
      ],
      "metadata": {
        "id": "0bn1AUMOHXxw",
        "outputId": "80427227-0f14-4725-a73c-ca786ec1855d",
        "colab": {
          "base_uri": "https://localhost:8080/",
          "height": 614
        }
      },
      "execution_count": 121,
      "outputs": [
        {
          "output_type": "stream",
          "name": "stdout",
          "text": [
            "Initial approximation:  [1.88202617 1.2000786  1.48936899 2.1204466 ]\n"
          ]
        },
        {
          "output_type": "display_data",
          "data": {
            "image/png": "[encoded data removed]",
            "text/plain": [
              "<Figure size 432x288 with 1 Axes>"
            ]
          },
          "metadata": {
            "needs_background": "light"
          }
        },
        {
          "output_type": "display_data",
          "data": {
            "image/png": "[encoded data removed]",
            "text/plain": [
              "<Figure size 432x288 with 1 Axes>"
            ]
          },
          "metadata": {
            "needs_background": "light"
          }
        },
        {
          "output_type": "stream",
          "name": "stdout",
          "text": [
            "iterations:  12471\n",
            "local minimum approximation:  [0.99995611 0.99991208 1.00004388 1.00008792]\n",
            "f-Value:  6.948228755169045e-09\n"
          ]
        }
      ]
    },
    {
      "cell_type": "code",
      "source": [
        "#Exercise 3.----------------------------------------"
      ],
      "metadata": {
        "id": "eBV9lyJz1KLh"
      },
      "execution_count": null,
      "outputs": []
    },
    {
      "cell_type": "code",
      "source": [
        "l=1.5\n",
        "s=0.5\n",
        "def gen_y(s,n,pr='False'):\n",
        "    etha=np.random.normal(0,s,size=n)\n",
        "    t=[]\n",
        "    y=[]\n",
        "    for i in range(n-1):\n",
        "        t.append(((2/(n-1))*(i)-1))\n",
        "        y.append((t[-1]**2+etha[i]))\n",
        "    t.append(1)\n",
        "    y.append((t[-1]**2+etha[i]))\n",
        "    if(pr=='True'):\n",
        "        print(t)\n",
        "        print(y)\n",
        "        plt.plot(t,y)\n",
        "    return (y)\n",
        "x=np.zeros(128)\n",
        "Y=gen_y(s=s,n=128)\n",
        "def f_normal(X,l=l,Y=Y):\n",
        "    n=len(X)\n",
        "    suma=0\n",
        "    for i in range(n-1):\n",
        "        suma+=(X[i]-Y[-1])**2+l*(X[i+1]-X[i])**2\n",
        "    suma+=(X[-1]-Y[-1])**2\n",
        "    return suma\n",
        "def f_normal_grad(X,l=l,Y=Y):\n",
        "    D=[]\n",
        "    D.append(2*(X[0]-Y[0])-2*l*(X[1]-X[0]))\n",
        "    for i in range(1,len(X)-1):\n",
        "        D.append(2*(X[i]-Y[i])-2*l*(X[i+1]-X[i])+2*l*(X[i]-X[i-1]))\n",
        "    D.append(2*(X[-1]-Y[-1])-2*l*(X[-1]-X[-2]))\n",
        "    return D\n",
        "def f_normal_Hessian(X,l=l,Y=Y):##\n",
        "    M=[]\n",
        "    #Renglon 1\n",
        "    D=np.zeros(len(X))\n",
        "    D[0]=2+2*l\n",
        "    D[1]=-2*l\n",
        "    M.append(D)\n",
        "    #Renglon 2<i<n\n",
        "    for i in range(1,len(X)-1):\n",
        "        D=np.zeros(len(X))\n",
        "        D[i]=2\n",
        "        D[i-1]=-2*l\n",
        "        D[i+1]=-2*l\n",
        "        M.append(D)\n",
        "    #Renglon n\n",
        "    D=np.zeros(len(X))\n",
        "    D[-2]=-2*l\n",
        "    D[-1]=2+2*l\n",
        "    M.append(D)\n",
        "    return M\n"
      ],
      "metadata": {
        "id": "bMH_qQX0djKM"
      },
      "execution_count": 126,
      "outputs": []
    },
    {
      "cell_type": "code",
      "source": [
        "np.random.seed(0)\n",
        "x_0=np.random.normal(1,0.5,size=128)\n",
        "loc_min=Steepest_descent(alpha=0.001,x_0=x_0,f=f_normal,grad_f=f_normal_grad,pr='True')\n",
        "print(\"local minimum approximation: \",loc_min)\n",
        "print(\"f-Value: \",f_normal(loc_min))"
      ],
      "metadata": {
        "id": "rkz39sdBfso3",
        "outputId": "16aa3798-ea92-470b-99f3-5a3165ca1d66",
        "colab": {
          "base_uri": "https://localhost:8080/",
          "height": 1000
        }
      },
      "execution_count": 127,
      "outputs": [
        {
          "output_type": "stream",
          "name": "stdout",
          "text": [
            "Initial approximation:  [ 1.88202617  1.2000786   1.48936899  2.1204466   1.933779    0.51136106\n",
            "  1.47504421  0.9243214   0.94839057  1.20529925  1.07202179  1.72713675\n",
            "  1.38051886  1.06083751  1.22193162  1.16683716  1.74703954  0.89742087\n",
            "  1.15653385  0.57295213 -0.27649491  1.3268093   1.4322181   0.62891749\n",
            "  2.13487731  0.27281716  1.02287926  0.90640807  1.76638961  1.73467938\n",
            "  1.07747371  1.18908126  0.55610713  0.00960177  0.82604393  1.07817448\n",
            "  1.61514534  1.60118992  0.80633659  0.84884862  0.47572352  0.28999103\n",
            "  0.1468649   1.9753877   0.74517391  0.78096285  0.37360232  1.38874518\n",
            "  0.19305108  0.89362986  0.55226672  1.19345125  0.74459743  0.40968391\n",
            "  0.98590889  1.21416594  1.03325861  1.15123595  0.68283895  0.81862942\n",
            "  0.66376978  0.82022342  0.59342686  0.1368587   1.08871307  0.79910953\n",
            "  0.18490083  1.23139113  0.54635082  1.0259727   1.36454528  1.06449146\n",
            "  1.56970034  0.38258709  1.20117082  0.65759495  0.56460143  0.71057517\n",
            "  0.84422373  1.02808267  0.41742508  1.45041324  1.23283122  0.23187816\n",
            "  1.7441261   1.94794459  1.58938979  0.91003758  0.46462369  1.52722586\n",
            "  0.79841153  1.61122254  1.10413749  1.48831952  1.1781832   1.35328658\n",
            "  1.00525001  1.89293525  1.06345605  1.20099468  1.94157535  0.32612047\n",
            "  0.3647575   1.48469835  0.4134383   1.97181059  0.79319051  0.62627259\n",
            "  1.96147101  1.7402574   1.93377948  1.45302233  0.56938716  1.95503248\n",
            "  0.86599831  1.4012282   1.47362598  0.92249495  1.30703969  1.46110334\n",
            "  1.18821277  0.4502996   1.14911909  1.66319295  0.65271607  0.92518273\n",
            "  0.78242322  1.92463186]\n"
          ]
        },
        {
          "output_type": "display_data",
          "data": {
            "image/png": "[encoded data removed]",
            "text/plain": [
              "<Figure size 432x288 with 1 Axes>"
            ]
          },
          "metadata": {
            "needs_background": "light"
          }
        },
        {
          "output_type": "display_data",
          "data": {
            "image/png": "[encoded data removed]",
            "text/plain": [
              "<Figure size 432x288 with 1 Axes>"
            ]
          },
          "metadata": {
            "needs_background": "light"
          }
        },
        {
          "output_type": "stream",
          "name": "stdout",
          "text": [
            "iterations:  13458\n",
            "local minimum approximation:  [ 1.17196505e+00  1.06251017e+00  8.79740165e-01  9.14769044e-01\n",
            "  7.74731678e-01  7.90637147e-01  7.57210730e-01  8.93905733e-01\n",
            "  8.73273737e-01  7.33358275e-01  6.60698933e-01  4.23277030e-01\n",
            "  3.76692738e-01  6.39816591e-01  7.61378762e-01  9.29860132e-01\n",
            "  1.11766500e+00  8.83164197e-01  5.65120315e-01  5.85815366e-01\n",
            "  2.97313244e-01  3.32803130e-01  4.45389372e-01  5.92903162e-01\n",
            "  2.93382944e-01  1.79741114e-01  2.16340382e-01  1.97483614e-01\n",
            "  3.11176243e-01  4.84126441e-02 -1.88870830e-02  9.81656475e-02\n",
            "  2.51968475e-01  5.75708776e-01  4.86275934e-01  2.60671826e-01\n",
            "  4.53729192e-02  1.43767548e-01 -5.95526819e-02 -7.66777991e-02\n",
            "  2.70760718e-01  3.11390934e-01  3.70267401e-01  2.92610375e-01\n",
            "  2.34302909e-01 -1.62809476e-02 -1.17295685e-01 -2.39336544e-03\n",
            " -1.61296886e-01 -1.99649855e-01 -1.76014205e-01 -1.48009250e-01\n",
            " -2.50336900e-01 -4.23423224e-01 -4.38702636e-01 -5.46832368e-01\n",
            " -2.90327984e-01 -4.45086092e-01 -3.69534390e-01 -1.77212512e-01\n",
            " -1.23768675e-01  9.16583736e-02 -1.47180529e-01 -5.35594826e-02\n",
            " -8.47030475e-02 -1.59262371e-01  4.89958887e-02  1.14459186e-01\n",
            "  3.11385380e-01  4.55290304e-01  6.23219368e-01  4.78564014e-01\n",
            "  1.98142002e-01  1.60929912e-01  2.95876127e-01  2.43291858e-01\n",
            "  1.12615541e-01 -1.82194309e-01 -8.96137431e-02 -8.34283678e-02\n",
            "  7.34269860e-02  1.40913374e-01  2.84425373e-01  2.57575872e-01\n",
            "  2.33836089e-01  3.43962384e-02 -6.30652404e-02  2.85450384e-02\n",
            "  1.84563058e-01  3.70055055e-01  5.68358296e-01  2.76358519e-01\n",
            "  5.76498882e-02  6.17305812e-02  7.84106324e-02  1.48094789e-01\n",
            " -8.03734742e-03  1.69437607e-01  2.53237929e-01  2.56906299e-01\n",
            "  1.46090105e-01  1.11506896e-01 -1.93160267e-03  1.12963309e-01\n",
            "  2.09645206e-01  3.55855856e-01  3.15874493e-01  5.73236338e-01\n",
            "  6.39503749e-01  3.06543490e-01  5.25658548e-01  5.95633680e-01\n",
            "  4.64027842e-01  4.65346796e-01  5.04212077e-01  5.01870096e-01\n",
            "  4.94865603e-01  4.65074936e-01  8.30775911e-01  8.75134713e-01\n",
            "  6.33774887e-01  5.58266908e-01  7.97111001e-01  8.27861906e-01\n",
            "  1.01712937e+00  1.23200643e+00  1.74933787e+00  2.55656145e+00]\n",
            "f-Value:  163.79047581747872\n"
          ]
        }
      ]
    },
    {
      "cell_type": "code",
      "source": [
        "print(\"f-Value: \",f_normal(loc_min))"
      ],
      "metadata": {
        "id": "O-m9TmFUOmE9",
        "outputId": "1be2a85d-e3d9-4847-a23a-9b8b3875464a",
        "colab": {
          "base_uri": "https://localhost:8080/"
        }
      },
      "execution_count": 124,
      "outputs": [
        {
          "output_type": "stream",
          "name": "stdout",
          "text": [
            "f-Value:  41.03091007177438\n"
          ]
        }
      ]
    },
    {
      "cell_type": "code",
      "source": [
        "f_normal_Hessian([1,1,1,1,1,1,1,1,1,1,1,1,1],1.5,gen_y(0.01,13))"
      ],
      "metadata": {
        "id": "Xw_4ffccfXYq",
        "outputId": "c25272bb-ff71-43bd-d0a6-6550becc4c1d",
        "colab": {
          "base_uri": "https://localhost:8080/"
        }
      },
      "execution_count": null,
      "outputs": [
        {
          "output_type": "execute_result",
          "data": {
            "text/plain": [
              "[array([ 5., -3.,  0.,  0.,  0.,  0.,  0.,  0.,  0.,  0.,  0.,  0.,  0.]),\n",
              " array([-3.,  2., -3.,  0.,  0.,  0.,  0.,  0.,  0.,  0.,  0.,  0.,  0.]),\n",
              " array([ 0., -3.,  2., -3.,  0.,  0.,  0.,  0.,  0.,  0.,  0.,  0.,  0.]),\n",
              " array([ 0.,  0., -3.,  2., -3.,  0.,  0.,  0.,  0.,  0.,  0.,  0.,  0.]),\n",
              " array([ 0.,  0.,  0., -3.,  2., -3.,  0.,  0.,  0.,  0.,  0.,  0.,  0.]),\n",
              " array([ 0.,  0.,  0.,  0., -3.,  2., -3.,  0.,  0.,  0.,  0.,  0.,  0.]),\n",
              " array([ 0.,  0.,  0.,  0.,  0., -3.,  2., -3.,  0.,  0.,  0.,  0.,  0.]),\n",
              " array([ 0.,  0.,  0.,  0.,  0.,  0., -3.,  2., -3.,  0.,  0.,  0.,  0.]),\n",
              " array([ 0.,  0.,  0.,  0.,  0.,  0.,  0., -3.,  2., -3.,  0.,  0.,  0.]),\n",
              " array([ 0.,  0.,  0.,  0.,  0.,  0.,  0.,  0., -3.,  2., -3.,  0.,  0.]),\n",
              " array([ 0.,  0.,  0.,  0.,  0.,  0.,  0.,  0.,  0., -3.,  2., -3.,  0.]),\n",
              " array([ 0.,  0.,  0.,  0.,  0.,  0.,  0.,  0.,  0.,  0., -3.,  2., -3.]),\n",
              " array([ 0.,  0.,  0.,  0.,  0.,  0.,  0.,  0.,  0.,  0.,  0., -3.,  5.])]"
            ]
          },
          "metadata": {},
          "execution_count": 47
        }
      ]
    },
    {
      "cell_type": "code",
      "source": [
        "Wood_Hessian([1,1,1,1])"
      ],
      "metadata": {
        "id": "qdaiROWIZgax",
        "outputId": "46536d9a-1f70-425d-d608-77fd1da15b25",
        "colab": {
          "base_uri": "https://localhost:8080/"
        }
      },
      "execution_count": null,
      "outputs": [
        {
          "output_type": "execute_result",
          "data": {
            "text/plain": [
              "[[802, -400, 0, 0],\n",
              " [-400, 220.2, 0, 19.8],\n",
              " [0, 0, 722, -360],\n",
              " [0, 19.8, -360, 200.2]]"
            ]
          },
          "metadata": {},
          "execution_count": 11
        }
      ]
    },
    {
      "cell_type": "markdown",
      "source": [
        ""
      ],
      "metadata": {
        "id": "ALYiV95IY2TH"
      }
    },
    {
      "cell_type": "code",
      "source": [
        "print(Steepest_descent(alpha=0.001,x_0=[1.5,1.6],f=Rosembrok,grad_f=Rosembrok_grad))"
      ],
      "metadata": {
        "colab": {
          "base_uri": "https://localhost:8080/"
        },
        "id": "uUvHemGsh0yf",
        "outputId": "9b10db99-d54d-4cc3-9bdc-a9bf1a3c3534"
      },
      "execution_count": null,
      "outputs": [
        {
          "output_type": "stream",
          "name": "stdout",
          "text": [
            "20832 numero de iteraciones\n",
            "[1.0001118  1.00022405]\n"
          ]
        }
      ]
    },
    {
      "cell_type": "code",
      "source": [
        "def Hess_f(x_1,x_2):\n",
        "    return ([[-400*(x_2-x_1**2)+800*x_1**2+2,-400*x_1],[400*x_1,200]])"
      ],
      "metadata": {
        "id": "CTePsvWDmkPf"
      },
      "execution_count": null,
      "outputs": []
    },
    {
      "cell_type": "code",
      "source": [
        "Newton(x_0=[1.57,1.6],f=f,grad_f=grad_f,Hess_f=Hess_f)"
      ],
      "metadata": {
        "id": "Vy0qn4EpnVrh",
        "outputId": "e1737e2c-b04e-4167-9560-440d63e03b47",
        "colab": {
          "base_uri": "https://localhost:8080/"
        }
      },
      "execution_count": null,
      "outputs": [
        {
          "output_type": "stream",
          "name": "stdout",
          "text": [
            "7965 iter\n"
          ]
        },
        {
          "output_type": "execute_result",
          "data": {
            "text/plain": [
              "array([1.00009997, 1.00020046])"
            ]
          },
          "metadata": {},
          "execution_count": 50
        }
      ]
    }
  ]
}