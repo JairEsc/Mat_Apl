{
  "nbformat": 4,
  "nbformat_minor": 0,
  "metadata": {
    "colab": {
      "name": "Untitled82.ipynb",
      "provenance": [],
      "authorship_tag": "ABX9TyMpjXsi3X8yDqhcHqzOlsQZ",
      "include_colab_link": true
    },
    "kernelspec": {
      "name": "python3",
      "display_name": "Python 3"
    },
    "language_info": {
      "name": "python"
    }
  },
  "cells": [
    {
      "cell_type": "markdown",
      "metadata": {
        "id": "view-in-github",
        "colab_type": "text"
      },
      "source": [
        "<a href=\"https://colab.research.google.com/github/JairEsc/Mat_Apl/blob/main/Opt_T4.ipynb\" target=\"_parent\"><img src=\"https://colab.research.google.com/assets/colab-badge.svg\" alt=\"Open In Colab\"/></a>"
      ]
    },
    {
      "cell_type": "code",
      "source": [
        "import numpy as np"
      ],
      "metadata": {
        "id": "BKmtnB-kgQH1"
      },
      "execution_count": 1,
      "outputs": []
    },
    {
      "cell_type": "code",
      "execution_count": 30,
      "metadata": {
        "id": "tSqtOjk1eXXH"
      },
      "outputs": [],
      "source": [
        "#steepest descent.\n",
        "def Steepest_descent(alpha,x_0,f,grad_f,tol_grad=10**(-4)):\n",
        "    x_1=x_0-alpha*np.array(grad_f(x_0[0],x_0[1]))\n",
        "    x_0=x_1\n",
        "    k=1\n",
        "    while(np.linalg.norm(grad_f(x_1[0],x_1[1]))>tol_grad):\n",
        "        k+=1\n",
        "        x_1=x_0-alpha*np.array(grad_f(x_0[0],x_0[1]))\n",
        "        x_0=x_1\n",
        "    print(k,\"iter\")\n",
        "    return (x_1)"
      ]
    },
    {
      "cell_type": "code",
      "source": [
        "def f(x_1,x_2):\n",
        "    return ((1-x_1)**2 +100*(x_2-x_1**2)**2)\n",
        "def grad_f(x_1,x_2):\n",
        "    return ([-2*(1-x_1)-400*(x_2-x_1**2)*x_1,200*(x_2-x_1**2)])"
      ],
      "metadata": {
        "id": "n5cVNH7NgaVL"
      },
      "execution_count": 21,
      "outputs": []
    },
    {
      "cell_type": "code",
      "source": [
        "print(Steepest_descent(alpha=0.001,x_0=[1.57,1.6],f=f,grad_f=grad_f))"
      ],
      "metadata": {
        "colab": {
          "base_uri": "https://localhost:8080/"
        },
        "id": "uUvHemGsh0yf",
        "outputId": "8c5e3fcc-21e3-40d5-ff4a-6b8d902b38a0"
      },
      "execution_count": 32,
      "outputs": [
        {
          "output_type": "stream",
          "name": "stdout",
          "text": [
            "20813 iter\n",
            "[1.00011178 1.00022401]\n"
          ]
        }
      ]
    },
    {
      "cell_type": "code",
      "source": [
        "np.array([0,1])*0.2+[5,5]"
      ],
      "metadata": {
        "colab": {
          "base_uri": "https://localhost:8080/"
        },
        "id": "eXpX0iRuhbtb",
        "outputId": "d3a552c8-f36b-40bc-fc50-5ae7c78f069f"
      },
      "execution_count": 5,
      "outputs": [
        {
          "output_type": "execute_result",
          "data": {
            "text/plain": [
              "array([5. , 5.2])"
            ]
          },
          "metadata": {},
          "execution_count": 5
        }
      ]
    }
  ]
}