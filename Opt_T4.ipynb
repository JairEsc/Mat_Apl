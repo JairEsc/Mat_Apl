{
  "nbformat": 4,
  "nbformat_minor": 0,
  "metadata": {
    "colab": {
      "name": "Untitled82.ipynb",
      "provenance": [],
      "authorship_tag": "ABX9TyM1aaPWx8lcB+ZpdI0gNtBQ",
      "include_colab_link": true
    },
    "kernelspec": {
      "name": "python3",
      "display_name": "Python 3"
    },
    "language_info": {
      "name": "python"
    }
  },
  "cells": [
    {
      "cell_type": "markdown",
      "metadata": {
        "id": "view-in-github",
        "colab_type": "text"
      },
      "source": [
        "<a href=\"https://colab.research.google.com/github/JairEsc/Mat_Apl/blob/main/Opt_T4.ipynb\" target=\"_parent\"><img src=\"https://colab.research.google.com/assets/colab-badge.svg\" alt=\"Open In Colab\"/></a>"
      ]
    },
    {
      "cell_type": "code",
      "source": [
        "import numpy as np"
      ],
      "metadata": {
        "id": "BKmtnB-kgQH1"
      },
      "execution_count": 44,
      "outputs": []
    },
    {
      "cell_type": "code",
      "execution_count": 45,
      "metadata": {
        "id": "tSqtOjk1eXXH"
      },
      "outputs": [],
      "source": [
        "#steepest descent.\n",
        "def Steepest_descent(alpha,x_0,f,grad_f,tol_grad=10**(-4),max_iter=10**5):\n",
        "    x_1=x_0-alpha*np.array(grad_f(x_0))\n",
        "    x_0=x_1\n",
        "    k=1\n",
        "    while(np.linalg.norm(grad_f(x_1))>tol_grad and k<max_iter):\n",
        "        k+=1\n",
        "        x_1=x_0-alpha*np.array(grad_f(x_0))\n",
        "        x_0=x_1\n",
        "    \n",
        "    if(k==max_iter):\n",
        "        return \"F\"\n",
        "    else:\n",
        "        print(k,\"numero de iteraciones\")\n",
        "        return (x_1)"
      ]
    },
    {
      "cell_type": "code",
      "source": [
        "def Rosembrok(X):#X es un vector.\n",
        "    suma=0\n",
        "    for i in range(len(X)-1):\n",
        "        suma+=100*((X[i+1]-X[i]**2)**2)+(1-X[i])**2\n",
        "    return (suma)\n",
        "def Rosembrok_grad(X):\n",
        "    D=[]\n",
        "    D.append(-400*(X[0]*(X[1]-X[0]**2))-2*(1-X[0]))\n",
        "    for i in range(1,len(X)-1):\n",
        "        D.append(-400*(X[i]*(X[i+1]-X[i]**2))+200*(X[i]-X[i-1]**2)-2*(1-X[i]))\n",
        "    D.append(200*(X[-1]-X[-2]**2))\n",
        "    return D\n",
        "def Rosembrok_Hessian(X):\n",
        "    M=[]\n",
        "    #Renglon 1\n",
        "    D=np.zeros(len(X))\n",
        "    D[0]=(-400*(X[1]-X[0]**2)+800*(X[0]**2)+2)\n",
        "    D[1]=-400*(X[1])\n",
        "    M.append(D)\n",
        "    #Renglon 2<i<n\n",
        "    for i in range(1,len(X)-1):\n",
        "        D=np.zeros(len(X))\n",
        "        D[i]=(-400*(X[i+1]-X[i]**2)+800*(X[i]**2)+202)\n",
        "        D[i-1]=-400*X[i-1]\n",
        "        D[i+1]=-400*X[i]\n",
        "        M.append(D)\n",
        "    #Renglon n\n",
        "    D=np.zeros(len(X))\n",
        "    D[-2]=-400*X[-2]\n",
        "    D[-1]=200\n",
        "    M.append(D)\n",
        "    return M"
      ],
      "metadata": {
        "id": "IINu-BcfZ1Gg"
      },
      "execution_count": 52,
      "outputs": []
    },
    {
      "cell_type": "code",
      "source": [
        "Rosembrok_Hessian([1,1,1])"
      ],
      "metadata": {
        "id": "LA4Z4KBF-mgN",
        "outputId": "9dfbd7fa-793a-4856-f270-3f8811efa39e",
        "colab": {
          "base_uri": "https://localhost:8080/"
        }
      },
      "execution_count": 53,
      "outputs": [
        {
          "output_type": "execute_result",
          "data": {
            "text/plain": [
              "[array([ 802., -400.,    0.]),\n",
              " array([-400., 1002., -400.]),\n",
              " array([   0., -400.,  200.])]"
            ]
          },
          "metadata": {},
          "execution_count": 53
        }
      ]
    },
    {
      "cell_type": "code",
      "source": [
        "print(Steepest_descent(alpha=0.001,x_0=[1.5,1.6],f=Rosembrok,grad_f=Rosembrok_grad))"
      ],
      "metadata": {
        "colab": {
          "base_uri": "https://localhost:8080/"
        },
        "id": "uUvHemGsh0yf",
        "outputId": "9b10db99-d54d-4cc3-9bdc-a9bf1a3c3534"
      },
      "execution_count": 47,
      "outputs": [
        {
          "output_type": "stream",
          "name": "stdout",
          "text": [
            "20832 numero de iteraciones\n",
            "[1.0001118  1.00022405]\n"
          ]
        }
      ]
    },
    {
      "cell_type": "code",
      "source": [
        "def Newton(x_0,f,grad_f,Hess_f,tol_grad=10**(-4)):\n",
        "    d=np.linalg.solve(Hess_f(x_0[0],x_0[1]),-np.array(grad_f(x_0[0],x_0[1])))\n",
        "    x_1=x_0+d\n",
        "    x_0=x_1\n",
        "    k=1\n",
        "    while(np.linalg.norm(grad_f(x_1[0],x_1[1]))>tol_grad):\n",
        "        k+=1\n",
        "        d=np.linalg.solve(Hess_f(x_0[0],x_0[1]),-np.array(grad_f(x_0[0],x_0[1])))\n",
        "        x_1=x_0+d\n",
        "        x_0=x_1\n",
        "    print(k,\"iter\")\n",
        "    return (x_1)"
      ],
      "metadata": {
        "id": "eXpX0iRuhbtb"
      },
      "execution_count": 48,
      "outputs": []
    },
    {
      "cell_type": "code",
      "source": [
        "def Hess_f(x_1,x_2):\n",
        "    return ([[-400*(x_2-x_1**2)+800*x_1**2+2,-400*x_1],[400*x_1,200]])"
      ],
      "metadata": {
        "id": "CTePsvWDmkPf"
      },
      "execution_count": 49,
      "outputs": []
    },
    {
      "cell_type": "code",
      "source": [
        "Newton(x_0=[1.57,1.6],f=f,grad_f=grad_f,Hess_f=Hess_f)"
      ],
      "metadata": {
        "id": "Vy0qn4EpnVrh",
        "outputId": "e1737e2c-b04e-4167-9560-440d63e03b47",
        "colab": {
          "base_uri": "https://localhost:8080/"
        }
      },
      "execution_count": 50,
      "outputs": [
        {
          "output_type": "stream",
          "name": "stdout",
          "text": [
            "7965 iter\n"
          ]
        },
        {
          "output_type": "execute_result",
          "data": {
            "text/plain": [
              "array([1.00009997, 1.00020046])"
            ]
          },
          "metadata": {},
          "execution_count": 50
        }
      ]
    }
  ]
}