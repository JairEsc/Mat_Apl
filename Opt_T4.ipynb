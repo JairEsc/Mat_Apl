{
  "nbformat": 4,
  "nbformat_minor": 0,
  "metadata": {
    "colab": {
      "name": "Untitled82.ipynb",
      "provenance": [],
      "authorship_tag": "ABX9TyNUqPwwcbjcznkwaJKGv4ta",
      "include_colab_link": true
    },
    "kernelspec": {
      "name": "python3",
      "display_name": "Python 3"
    },
    "language_info": {
      "name": "python"
    }
  },
  "cells": [
    {
      "cell_type": "markdown",
      "metadata": {
        "id": "view-in-github",
        "colab_type": "text"
      },
      "source": [
        "<a href=\"https://colab.research.google.com/github/JairEsc/Mat_Apl/blob/main/Opt_T4.ipynb\" target=\"_parent\"><img src=\"https://colab.research.google.com/assets/colab-badge.svg\" alt=\"Open In Colab\"/></a>"
      ]
    },
    {
      "cell_type": "code",
      "source": [
        "import numpy as np\n",
        "import matplotlib.pyplot as plt\n"
      ],
      "metadata": {
        "id": "BKmtnB-kgQH1"
      },
      "execution_count": 48,
      "outputs": []
    },
    {
      "cell_type": "code",
      "source": [
        "#Implementation"
      ],
      "metadata": {
        "id": "LaMjk1ANo46a"
      },
      "execution_count": null,
      "outputs": []
    },
    {
      "cell_type": "code",
      "execution_count": 71,
      "metadata": {
        "id": "tSqtOjk1eXXH"
      },
      "outputs": [],
      "source": [
        "#steepest descent.\n",
        "def Steepest_descent(alpha,x_0,f,grad_f,tol_grad=10**(-4),max_iter=10**5,pr=\"False\"):\n",
        "    x_1=x_0-alpha*np.array(grad_f(x_0))\n",
        "    if(pr=='True'):\n",
        "        print(\"Initial approximation: \", x_0)\n",
        "        F=[f(x_0)]\n",
        "        G=[np.linalg.norm(grad_f(x_0))]\n",
        "    x_0=x_1\n",
        "    k=1\n",
        "    norm_grad=np.linalg.norm(grad_f(x_1))\n",
        "    while(norm_grad>tol_grad and k<max_iter):\n",
        "        k+=1\n",
        "        x_1=x_0-alpha*np.array(grad_f(x_0))\n",
        "        x_0=x_1\n",
        "        norm_grad=np.linalg.norm(grad_f(x_1))\n",
        "        if(pr=='True'):\n",
        "            F.append(f(x_0))\n",
        "            G.append(np.linalg.norm(grad_f(x_0)))\n",
        "    if(k==max_iter):\n",
        "        return \"F\"\n",
        "    else:\n",
        "        if(pr=='True'):\n",
        "            #plt.plot(F)\n",
        "            plt.plot(G[0:-1])\n",
        "        print(\"iterations: \",k)\n",
        "        return (x_1)"
      ]
    },
    {
      "cell_type": "code",
      "source": [
        "def Newton(x_0,f,grad_f,Hess_f,tol_grad=10**(-4)):\n",
        "    d=np.linalg.solve(Hess_f(x_0[0],x_0[1]),-np.array(grad_f(x_0[0],x_0[1])))\n",
        "    x_1=x_0+d\n",
        "    x_0=x_1\n",
        "    k=1\n",
        "    while(np.linalg.norm(grad_f(x_1[0],x_1[1]))>tol_grad):\n",
        "        k+=1\n",
        "        d=np.linalg.solve(Hess_f(x_0[0],x_0[1]),-np.array(grad_f(x_0[0],x_0[1])))\n",
        "        x_1=x_0+d\n",
        "        x_0=x_1\n",
        "    print(k,\"iter\")\n",
        "    return (x_1)"
      ],
      "metadata": {
        "id": "eXpX0iRuhbtb"
      },
      "execution_count": 52,
      "outputs": []
    },
    {
      "cell_type": "code",
      "source": [
        "#Exercise 2. Rosembrok's function.---------------------------------------------"
      ],
      "metadata": {
        "id": "dTFNFv4IpBYS"
      },
      "execution_count": null,
      "outputs": []
    },
    {
      "cell_type": "code",
      "source": [
        "def Rosembrok(X):#X es un vector.\n",
        "    suma=0\n",
        "    for i in range(len(X)-1):\n",
        "        suma+=100*((X[i+1]-X[i]**2)**2)+(1-X[i])**2\n",
        "    return (suma)\n",
        "def Rosembrok_grad(X):\n",
        "    D=[]\n",
        "    D.append(-400*(X[0]*(X[1]-X[0]**2))-2*(1-X[0]))\n",
        "    for i in range(1,len(X)-1):\n",
        "        D.append(-400*(X[i]*(X[i+1]-X[i]**2))+200*(X[i]-X[i-1]**2)-2*(1-X[i]))\n",
        "    D.append(200*(X[-1]-X[-2]**2))\n",
        "    return D\n",
        "def Rosembrok_Hessian(X):\n",
        "    M=[]\n",
        "    #Renglon 1\n",
        "    D=np.zeros(len(X))\n",
        "    D[0]=(-400*(X[1]-X[0]**2)+800*(X[0]**2)+2)\n",
        "    D[1]=-400*(X[1])\n",
        "    M.append(D)\n",
        "    #Renglon 2<i<n\n",
        "    for i in range(1,len(X)-1):\n",
        "        D=np.zeros(len(X))\n",
        "        D[i]=(-400*(X[i+1]-X[i]**2)+800*(X[i]**2)+202)\n",
        "        D[i-1]=-400*X[i-1]\n",
        "        D[i+1]=-400*X[i]\n",
        "        M.append(D)\n",
        "    #Renglon n\n",
        "    D=np.zeros(len(X))\n",
        "    D[-2]=-400*X[-2]\n",
        "    D[-1]=200\n",
        "    M.append(D)\n",
        "    return M"
      ],
      "metadata": {
        "id": "IINu-BcfZ1Gg"
      },
      "execution_count": 53,
      "outputs": []
    },
    {
      "cell_type": "code",
      "source": [
        "#Grafica\n",
        "x_0=[]\n",
        "x_0.append(-1.2)\n",
        "n=100\n",
        "for i in range(1,n-2):\n",
        "    x_0.append(1)\n",
        "x_0.append(-1.2)\n",
        "x_0.append(1)\n",
        "#print(\"local minimum pproximation: \",Steepest_descent(alpha=0.001,x_0=x_0,f=Rosembrok,grad_f=Rosembrok_grad,pr='True'))#Si ploteo G[200:-1] se ve mas bonito.\n",
        "#print(\"local minimum pproximation: \",Steepest_descent(alpha=0.001,x_0=[-1.2,1],f=Rosembrok,grad_f=Rosembrok_grad,pr='True'))#Si ploteo G[200:-1] se ve mas bonito."
      ],
      "metadata": {
        "id": "LA4Z4KBF-mgN",
        "outputId": "c5ae4c81-6483-4228-a46a-6e6810981e80",
        "colab": {
          "base_uri": "https://localhost:8080/",
          "height": 614
        }
      },
      "execution_count": 74,
      "outputs": [
        {
          "output_type": "stream",
          "name": "stdout",
          "text": [
            "Initial approximation:  [-1.2, 1, 1, 1, 1, 1, 1, 1, 1, 1, 1, 1, 1, 1, 1, 1, 1, 1, 1, 1, 1, 1, 1, 1, 1, 1, 1, 1, 1, 1, 1, 1, 1, 1, 1, 1, 1, 1, 1, 1, 1, 1, 1, 1, 1, 1, 1, 1, 1, 1, 1, 1, 1, 1, 1, 1, 1, 1, 1, 1, 1, 1, 1, 1, 1, 1, 1, 1, 1, 1, 1, 1, 1, 1, 1, 1, 1, 1, 1, 1, 1, 1, 1, 1, 1, 1, 1, 1, 1, 1, 1, 1, 1, 1, 1, 1, 1, 1, -1.2, 1]\n",
            "iterations:  16522\n",
            "local minimum pproximation:  [-0.9932861   0.99665107  0.99833032  0.99916774  0.9995852   0.99979328\n",
            "  0.99989698  0.99994866  0.99997441  0.99998725  0.99999365  0.99999683\n",
            "  0.99999842  0.99999921  0.99999961  0.9999998   0.9999999   0.99999995\n",
            "  0.99999998  0.99999999  0.99999999  1.          1.          1.\n",
            "  1.          1.          1.          1.          1.          1.\n",
            "  1.          1.          1.          1.          1.          1.\n",
            "  1.          1.          1.          1.          1.          1.\n",
            "  1.          1.          1.          1.          1.          1.\n",
            "  1.          1.          1.          1.          1.          1.\n",
            "  1.          1.          1.          1.          1.          1.\n",
            "  1.          1.          1.          1.          1.          1.\n",
            "  1.          1.          1.          1.          1.          1.\n",
            "  1.          1.          1.          1.          1.          1.\n",
            "  1.          1.          1.          1.          1.          1.\n",
            "  0.99999999  0.99999999  0.99999998  0.99999996  0.99999992  0.99999983\n",
            "  0.99999967  0.99999933  0.99999867  0.99999733  0.99999464  0.99998925\n",
            "  0.99997845  0.99995678  0.99991335  0.99982628]\n"
          ]
        },
        {
          "output_type": "display_data",
          "data": {
            "image/png": "[encoded data removed]",
            "text/plain": [
              "<Figure size 432x288 with 1 Axes>"
            ]
          },
          "metadata": {
            "needs_background": "light"
          }
        }
      ]
    },
    {
      "cell_type": "code",
      "source": [
        ""
      ],
      "metadata": {
        "id": "TS0dUrSjpQf6"
      },
      "execution_count": null,
      "outputs": []
    },
    {
      "cell_type": "code",
      "source": [
        "#Exercise 2. Wood's function.---------------------------------------------"
      ],
      "metadata": {
        "id": "Ar4fVm16pLvZ"
      },
      "execution_count": null,
      "outputs": []
    },
    {
      "cell_type": "code",
      "source": [
        "def Wood(X):\n",
        "    return (100*(X[0]**2-X[1])**2+(X[0]-1)**2+(X[2]-1)**2+90*(X[2]**2-X[3])**2+10.1*((X[1]-1)**2+(X[3]-1)**2)+19.8*(X[1]-1)*(X[3]-1))\n",
        "def Wood_grad(X):\n",
        "    G=[]\n",
        "    G.append(400*X[0]*(X[0]**2-X[1])+2*(X[0]-1))\n",
        "    G.append(-200*(X[0]**2-X[1])+20.2*(X[1]-1)+19.8*(X[3]-1))\n",
        "    G.append(2*(X[2]-1)+360*(X[2]**2-X[3])*X[2])\n",
        "    G.append(-180*(X[2]**2-X[3])+20.2*(X[3]-1)+19.8*(X[1]-1))\n",
        "    return G\n",
        "def Wood_Hessian(X):\n",
        "    D1=[2+400*(X[0]**2-1)+800*X[0]**2,-400*X[0],0,0]\n",
        "    D2=[-400*X[0],220.2,0,19.8]\n",
        "    D3=[0,0,2+720*(X[2]**2)+360*(X[2]-X[3]),-360*X[2]]\n",
        "    D4=[0,19.8,-360*X[2],200.2]\n",
        "    return [D1,D2,D3,D4]\n"
      ],
      "metadata": {
        "id": "tHk7accUVeGU"
      },
      "execution_count": null,
      "outputs": []
    },
    {
      "cell_type": "code",
      "source": [
        "Steepest_descent(alpha=0.001,x_0=[-3,-1,-3,-1],f=Wood,grad_f=Wood_grad,pr='True')#Si ploteo G[200:-1] se ve mas bonito."
      ],
      "metadata": {
        "id": "h1RjDZ7v1JkU",
        "outputId": "5a35f58c-b069-49a8-976b-1ca1087a9250",
        "colab": {
          "base_uri": "https://localhost:8080/",
          "height": 675
        }
      },
      "execution_count": 75,
      "outputs": [
        {
          "output_type": "stream",
          "name": "stdout",
          "text": [
            "Initial approximation:  [-3, -1, -3, -1]\n",
            "iterations:  7\n"
          ]
        },
        {
          "output_type": "stream",
          "name": "stderr",
          "text": [
            "/usr/local/lib/python3.7/dist-packages/ipykernel_launcher.py:5: RuntimeWarning: overflow encountered in double_scalars\n",
            "  \"\"\"\n",
            "/usr/local/lib/python3.7/dist-packages/ipykernel_launcher.py:6: RuntimeWarning: overflow encountered in double_scalars\n",
            "  \n",
            "/usr/local/lib/python3.7/dist-packages/ipykernel_launcher.py:7: RuntimeWarning: overflow encountered in double_scalars\n",
            "  import sys\n",
            "/usr/local/lib/python3.7/dist-packages/ipykernel_launcher.py:8: RuntimeWarning: overflow encountered in double_scalars\n",
            "  \n",
            "/usr/local/lib/python3.7/dist-packages/ipykernel_launcher.py:2: RuntimeWarning: overflow encountered in double_scalars\n",
            "  \n",
            "/usr/local/lib/python3.7/dist-packages/ipykernel_launcher.py:5: RuntimeWarning: invalid value encountered in double_scalars\n",
            "  \"\"\"\n",
            "/usr/local/lib/python3.7/dist-packages/ipykernel_launcher.py:6: RuntimeWarning: invalid value encountered in double_scalars\n",
            "  \n",
            "/usr/local/lib/python3.7/dist-packages/ipykernel_launcher.py:7: RuntimeWarning: invalid value encountered in double_scalars\n",
            "  import sys\n",
            "/usr/local/lib/python3.7/dist-packages/ipykernel_launcher.py:8: RuntimeWarning: invalid value encountered in double_scalars\n",
            "  \n",
            "/usr/local/lib/python3.7/dist-packages/ipykernel_launcher.py:2: RuntimeWarning: invalid value encountered in double_scalars\n",
            "  \n"
          ]
        },
        {
          "output_type": "execute_result",
          "data": {
            "text/plain": [
              "array([inf, inf, inf, inf])"
            ]
          },
          "metadata": {},
          "execution_count": 75
        },
        {
          "output_type": "display_data",
          "data": {
            "image/png": "[encoded data removed]",
            "text/plain": [
              "<Figure size 432x288 with 1 Axes>"
            ]
          },
          "metadata": {
            "needs_background": "light"
          }
        }
      ]
    },
    {
      "cell_type": "code",
      "source": [
        "#Exercise 3.----------------------------------------"
      ],
      "metadata": {
        "id": "eBV9lyJz1KLh"
      },
      "execution_count": null,
      "outputs": []
    },
    {
      "cell_type": "code",
      "source": [
        "l=1.5\n",
        "s=0.5\n",
        "x=np.zeros(128)\n",
        "Y=gen_y(s=s,n=128)\n",
        "def f_normal(X,l=l,Y=Y):\n",
        "    n=len(X)\n",
        "    suma=0\n",
        "    for i in range(n-1):\n",
        "        suma+=(X[i]-Y[-1])**2+l*(X[i+1]-X[i])**2\n",
        "    suma+=(X[-1]-Y[-1])**2\n",
        "    return suma\n",
        "def gen_y(s,n,pr='False'):\n",
        "    etha=np.random.normal(0,s,size=n)\n",
        "    t=[]\n",
        "    y=[]\n",
        "    for i in range(n-1):\n",
        "        t.append(((2/(n-1))*(i)-1))\n",
        "        y.append((t[-1]**2+etha[i]))\n",
        "    t.append(1)\n",
        "    y.append((t[-1]**2+etha[i]))\n",
        "    if(pr=='True'):\n",
        "        print(t)\n",
        "        print(y)\n",
        "        plt.plot(t,y)\n",
        "    return (y)\n",
        "def f_normal_grad(X,l=l,Y=Y):\n",
        "    D=[]\n",
        "    D.append(2*(X[0]-Y[0])-2*l*(X[1]-X[0]))\n",
        "    for i in range(1,len(X)-1):\n",
        "        D.append(2*(X[i]-Y[i])-2*l*(X[i+1]-X[i])+2*l*(X[i]-X[i-1]))\n",
        "    D.append(2*(X[-1]-Y[-1])-2*l*(X[-1]-X[-2]))\n",
        "    return D\n",
        "def f_normal_Hessian(X,l=l,Y=Y):##\n",
        "    M=[]\n",
        "    #Renglon 1\n",
        "    D=np.zeros(len(X))\n",
        "    D[0]=2+2*l\n",
        "    D[1]=-2*l\n",
        "    M.append(D)\n",
        "    #Renglon 2<i<n\n",
        "    for i in range(1,len(X)-1):\n",
        "        D=np.zeros(len(X))\n",
        "        D[i]=2\n",
        "        D[i-1]=-2*l\n",
        "        D[i+1]=-2*l\n",
        "        M.append(D)\n",
        "    #Renglon n\n",
        "    D=np.zeros(len(X))\n",
        "    D[-2]=-2*l\n",
        "    D[-1]=2+2*l\n",
        "    M.append(D)\n",
        "    return M"
      ],
      "metadata": {
        "id": "bMH_qQX0djKM"
      },
      "execution_count": 83,
      "outputs": []
    },
    {
      "cell_type": "code",
      "source": [
        "Steepest_descent(alpha=0.001,x_0=x_0,f=f_normal,grad_f=f_normal_grad,pr='True')#Si ploteo G[200:-1] se ve mas bonito."
      ],
      "metadata": {
        "id": "rkz39sdBfso3",
        "outputId": "63368958-d6bd-4b58-f7ce-147be37b4663",
        "colab": {
          "base_uri": "https://localhost:8080/",
          "height": 755
        }
      },
      "execution_count": 84,
      "outputs": [
        {
          "output_type": "stream",
          "name": "stdout",
          "text": [
            "Initial approximation:  [-1.2, 1, 1, 1, 1, 1, 1, 1, 1, 1, 1, 1, 1, 1, 1, 1, 1, 1, 1, 1, 1, 1, 1, 1, 1, 1, 1, 1, 1, 1, 1, 1, 1, 1, 1, 1, 1, 1, 1, 1, 1, 1, 1, 1, 1, 1, 1, 1, 1, 1, 1, 1, 1, 1, 1, 1, 1, 1, 1, 1, 1, 1, 1, 1, 1, 1, 1, 1, 1, 1, 1, 1, 1, 1, 1, 1, 1, 1, 1, 1, 1, 1, 1, 1, 1, 1, 1, 1, 1, 1, 1, 1, 1, 1, 1, 1, 1, 1, -1.2, 1]\n",
            "iterations:  20615\n"
          ]
        },
        {
          "output_type": "execute_result",
          "data": {
            "text/plain": [
              "array([ 1.13059255e+00,  1.34833756e+00,  1.24978741e+00,  1.23959341e+00,\n",
              "        1.16944508e+00,  1.07793752e+00,  9.51362249e-01,  1.04132035e+00,\n",
              "        1.26427340e+00,  1.06887018e+00,  8.60996020e-01,  7.49992839e-01,\n",
              "        5.62444999e-01,  5.52709117e-01,  5.24844513e-01,  3.42148632e-01,\n",
              "        6.16664980e-01,  5.67860460e-01,  6.79417820e-01,  7.99698189e-01,\n",
              "        7.36037831e-01,  6.97538444e-01,  7.01534370e-01,  4.86115060e-01,\n",
              "        3.70840947e-01,  2.78716409e-01,  2.61465670e-01,  1.60642432e-01,\n",
              "        3.26099272e-01,  5.45779611e-01,  5.87840100e-01,  5.61719459e-01,\n",
              "        4.59080597e-01,  4.15960731e-01,  1.39817614e-01,  2.38780987e-01,\n",
              "        2.36653752e-01,  3.81052444e-01,  7.14231575e-03, -2.87863889e-02,\n",
              "        1.74746121e-01,  2.41862562e-01, -1.00559272e-01, -6.88546361e-02,\n",
              "       -4.49325273e-02,  4.73832607e-02,  2.05433883e-01, -2.18425442e-03,\n",
              "        8.70058781e-02, -1.73082225e-01, -4.23259360e-01, -3.45414382e-01,\n",
              "        8.07705562e-02,  3.93944759e-02, -6.23656117e-02,  6.78707757e-02,\n",
              "        2.23237587e-02, -7.20860649e-02, -1.48401461e-01, -3.25930099e-03,\n",
              "       -3.03837212e-01, -1.95524321e-01,  5.60187013e-02,  1.21521400e-01,\n",
              "        3.14201537e-01,  1.83474014e-01, -8.36144474e-02,  4.94050767e-02,\n",
              "        1.66274880e-01,  1.13108759e-01, -1.48710102e-01, -1.00403637e-01,\n",
              "        2.89369501e-02,  8.81937311e-02,  8.55970514e-02,  1.67128560e-01,\n",
              "        4.64834910e-01,  3.36252007e-01,  3.86846888e-01,  5.41645471e-01,\n",
              "        4.62767721e-01,  2.54644749e-01,  3.18312737e-01,  4.85691668e-01,\n",
              "        3.89363796e-01,  2.31707935e-01,  3.90864204e-01,  3.48629792e-01,\n",
              "        1.83420454e-02,  3.33902146e-03,  1.72688201e-01,  4.05250545e-01,\n",
              "        4.98777959e-01,  3.96965971e-01,  4.88675124e-01,  3.14847105e-01,\n",
              "        5.38255691e-01,  1.39184714e+00,  3.08163739e+00,  6.56945943e+00])"
            ]
          },
          "metadata": {},
          "execution_count": 84
        },
        {
          "output_type": "display_data",
          "data": {
            "image/png": "[encoded data removed]",
            "text/plain": [
              "<Figure size 432x288 with 1 Axes>"
            ]
          },
          "metadata": {
            "needs_background": "light"
          }
        }
      ]
    },
    {
      "cell_type": "code",
      "source": [
        "f_normal_Hessian([1,1,1,1,1,1,1,1,1,1,1,1,1],1.5,gen_y(0.01,13))"
      ],
      "metadata": {
        "id": "Xw_4ffccfXYq",
        "outputId": "c25272bb-ff71-43bd-d0a6-6550becc4c1d",
        "colab": {
          "base_uri": "https://localhost:8080/"
        }
      },
      "execution_count": null,
      "outputs": [
        {
          "output_type": "execute_result",
          "data": {
            "text/plain": [
              "[array([ 5., -3.,  0.,  0.,  0.,  0.,  0.,  0.,  0.,  0.,  0.,  0.,  0.]),\n",
              " array([-3.,  2., -3.,  0.,  0.,  0.,  0.,  0.,  0.,  0.,  0.,  0.,  0.]),\n",
              " array([ 0., -3.,  2., -3.,  0.,  0.,  0.,  0.,  0.,  0.,  0.,  0.,  0.]),\n",
              " array([ 0.,  0., -3.,  2., -3.,  0.,  0.,  0.,  0.,  0.,  0.,  0.,  0.]),\n",
              " array([ 0.,  0.,  0., -3.,  2., -3.,  0.,  0.,  0.,  0.,  0.,  0.,  0.]),\n",
              " array([ 0.,  0.,  0.,  0., -3.,  2., -3.,  0.,  0.,  0.,  0.,  0.,  0.]),\n",
              " array([ 0.,  0.,  0.,  0.,  0., -3.,  2., -3.,  0.,  0.,  0.,  0.,  0.]),\n",
              " array([ 0.,  0.,  0.,  0.,  0.,  0., -3.,  2., -3.,  0.,  0.,  0.,  0.]),\n",
              " array([ 0.,  0.,  0.,  0.,  0.,  0.,  0., -3.,  2., -3.,  0.,  0.,  0.]),\n",
              " array([ 0.,  0.,  0.,  0.,  0.,  0.,  0.,  0., -3.,  2., -3.,  0.,  0.]),\n",
              " array([ 0.,  0.,  0.,  0.,  0.,  0.,  0.,  0.,  0., -3.,  2., -3.,  0.]),\n",
              " array([ 0.,  0.,  0.,  0.,  0.,  0.,  0.,  0.,  0.,  0., -3.,  2., -3.]),\n",
              " array([ 0.,  0.,  0.,  0.,  0.,  0.,  0.,  0.,  0.,  0.,  0., -3.,  5.])]"
            ]
          },
          "metadata": {},
          "execution_count": 47
        }
      ]
    },
    {
      "cell_type": "code",
      "source": [
        "Wood_Hessian([1,1,1,1])"
      ],
      "metadata": {
        "id": "qdaiROWIZgax",
        "outputId": "46536d9a-1f70-425d-d608-77fd1da15b25",
        "colab": {
          "base_uri": "https://localhost:8080/"
        }
      },
      "execution_count": null,
      "outputs": [
        {
          "output_type": "execute_result",
          "data": {
            "text/plain": [
              "[[802, -400, 0, 0],\n",
              " [-400, 220.2, 0, 19.8],\n",
              " [0, 0, 722, -360],\n",
              " [0, 19.8, -360, 200.2]]"
            ]
          },
          "metadata": {},
          "execution_count": 11
        }
      ]
    },
    {
      "cell_type": "markdown",
      "source": [
        ""
      ],
      "metadata": {
        "id": "ALYiV95IY2TH"
      }
    },
    {
      "cell_type": "code",
      "source": [
        "print(Steepest_descent(alpha=0.001,x_0=[1.5,1.6],f=Rosembrok,grad_f=Rosembrok_grad))"
      ],
      "metadata": {
        "colab": {
          "base_uri": "https://localhost:8080/"
        },
        "id": "uUvHemGsh0yf",
        "outputId": "9b10db99-d54d-4cc3-9bdc-a9bf1a3c3534"
      },
      "execution_count": null,
      "outputs": [
        {
          "output_type": "stream",
          "name": "stdout",
          "text": [
            "20832 numero de iteraciones\n",
            "[1.0001118  1.00022405]\n"
          ]
        }
      ]
    },
    {
      "cell_type": "code",
      "source": [
        "def Hess_f(x_1,x_2):\n",
        "    return ([[-400*(x_2-x_1**2)+800*x_1**2+2,-400*x_1],[400*x_1,200]])"
      ],
      "metadata": {
        "id": "CTePsvWDmkPf"
      },
      "execution_count": null,
      "outputs": []
    },
    {
      "cell_type": "code",
      "source": [
        "Newton(x_0=[1.57,1.6],f=f,grad_f=grad_f,Hess_f=Hess_f)"
      ],
      "metadata": {
        "id": "Vy0qn4EpnVrh",
        "outputId": "e1737e2c-b04e-4167-9560-440d63e03b47",
        "colab": {
          "base_uri": "https://localhost:8080/"
        }
      },
      "execution_count": null,
      "outputs": [
        {
          "output_type": "stream",
          "name": "stdout",
          "text": [
            "7965 iter\n"
          ]
        },
        {
          "output_type": "execute_result",
          "data": {
            "text/plain": [
              "array([1.00009997, 1.00020046])"
            ]
          },
          "metadata": {},
          "execution_count": 50
        }
      ]
    }
  ]
}