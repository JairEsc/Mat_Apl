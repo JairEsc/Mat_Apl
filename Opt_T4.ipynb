{
  "nbformat": 4,
  "nbformat_minor": 0,
  "metadata": {
    "colab": {
      "name": "Untitled82.ipynb",
      "provenance": [],
      "authorship_tag": "ABX9TyOJ1QlOEjGZgyWKOcOZ/ANr",
      "include_colab_link": true
    },
    "kernelspec": {
      "name": "python3",
      "display_name": "Python 3"
    },
    "language_info": {
      "name": "python"
    }
  },
  "cells": [
    {
      "cell_type": "markdown",
      "metadata": {
        "id": "view-in-github",
        "colab_type": "text"
      },
      "source": [
        "<a href=\"https://colab.research.google.com/github/JairEsc/Mat_Apl/blob/main/Opt_T4.ipynb\" target=\"_parent\"><img src=\"https://colab.research.google.com/assets/colab-badge.svg\" alt=\"Open In Colab\"/></a>"
      ]
    },
    {
      "cell_type": "code",
      "source": [
        "import numpy as np"
      ],
      "metadata": {
        "id": "BKmtnB-kgQH1"
      },
      "execution_count": 36,
      "outputs": []
    },
    {
      "cell_type": "code",
      "execution_count": 37,
      "metadata": {
        "id": "tSqtOjk1eXXH"
      },
      "outputs": [],
      "source": [
        "#steepest descent.\n",
        "def Steepest_descent(alpha,x_0,f,grad_f,tol_grad=10**(-4),max_iter=10**5):\n",
        "    x_1=x_0-alpha*np.array(grad_f(x_0))\n",
        "    x_0=x_1\n",
        "    k=1\n",
        "    while(np.linalg.norm(grad_f(x_1))>tol_grad and k<max_iter):\n",
        "        k+=1\n",
        "        x_1=x_0-alpha*np.array(grad_f(x_0))\n",
        "        x_0=x_1\n",
        "    \n",
        "    if(k==max_iter):\n",
        "        return \"F\"\n",
        "    else:\n",
        "        print(k,\"numero de iteraciones\")\n",
        "        return (x_1)"
      ]
    },
    {
      "cell_type": "code",
      "source": [
        "def Rosembrok(X):#X es un vector.\n",
        "    suma=0\n",
        "    for i in range(len(X)-1):\n",
        "        suma+=100*((X[i+1]-X[i]**2)**2)+(1-X[i])**2\n",
        "    return (suma)\n",
        "def Rosembrok_grad(X):\n",
        "    D=[]\n",
        "    D.append(-400*(X[0]*(X[1]-X[0]**2))-2*(1-X[0]))\n",
        "    for i in range(1,len(X)-1):\n",
        "        D.append(-400*(X[i]*(X[i+1]-X[i]**2))+200*(X[i]-X[i-1]**2)-2*(1-X[i]))\n",
        "    D.append(200*(X[-1]-X[-2]**2))\n",
        "    return D"
      ],
      "metadata": {
        "id": "IINu-BcfZ1Gg"
      },
      "execution_count": 38,
      "outputs": []
    },
    {
      "cell_type": "code",
      "source": [
        "print(Steepest_descent(alpha=0.001,x_0=[1.5,1.6],f=Rosembrok,grad_f=Rosembrok_grad))"
      ],
      "metadata": {
        "colab": {
          "base_uri": "https://localhost:8080/"
        },
        "id": "uUvHemGsh0yf",
        "outputId": "197ecede-dba0-461b-d028-8359b45863e5"
      },
      "execution_count": 39,
      "outputs": [
        {
          "output_type": "stream",
          "name": "stdout",
          "text": [
            "20832 numero de iteraciones\n",
            "[1.0001118  1.00022405]\n"
          ]
        }
      ]
    },
    {
      "cell_type": "code",
      "source": [
        "def Newton(x_0,f,grad_f,Hess_f,tol_grad=10**(-4)):\n",
        "    d=np.linalg.solve(Hess_f(x_0[0],x_0[1]),-np.array(grad_f(x_0[0],x_0[1])))\n",
        "    x_1=x_0+d\n",
        "    x_0=x_1\n",
        "    k=1\n",
        "    while(np.linalg.norm(grad_f(x_1[0],x_1[1]))>tol_grad):\n",
        "        k+=1\n",
        "        d=np.linalg.solve(Hess_f(x_0[0],x_0[1]),-np.array(grad_f(x_0[0],x_0[1])))\n",
        "        x_1=x_0+d\n",
        "        x_0=x_1\n",
        "    print(k,\"iter\")\n",
        "    return (x_1)"
      ],
      "metadata": {
        "id": "eXpX0iRuhbtb"
      },
      "execution_count": 40,
      "outputs": []
    },
    {
      "cell_type": "code",
      "source": [
        "def Hess_f(x_1,x_2):\n",
        "    return ([[-400*(x_2-x_1**2)+800*x_1**2+2,-400*x_1],[400*x_1,200]])"
      ],
      "metadata": {
        "id": "CTePsvWDmkPf"
      },
      "execution_count": 41,
      "outputs": []
    },
    {
      "cell_type": "code",
      "source": [
        "Newton(x_0=[1.57,1.6],f=f,grad_f=grad_f,Hess_f=Hess_f)"
      ],
      "metadata": {
        "id": "Vy0qn4EpnVrh",
        "outputId": "3de3fa16-2454-44cc-e65f-9aa913dd7e70",
        "colab": {
          "base_uri": "https://localhost:8080/"
        }
      },
      "execution_count": 42,
      "outputs": [
        {
          "output_type": "stream",
          "name": "stdout",
          "text": [
            "7965 iter\n"
          ]
        },
        {
          "output_type": "execute_result",
          "data": {
            "text/plain": [
              "array([1.00009997, 1.00020046])"
            ]
          },
          "metadata": {},
          "execution_count": 42
        }
      ]
    }
  ]
}