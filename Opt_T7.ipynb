{
  "nbformat": 4,
  "nbformat_minor": 0,
  "metadata": {
    "colab": {
      "name": "Untitled100.ipynb",
      "provenance": [],
      "authorship_tag": "ABX9TyPRJeDpPKChRXtm6lMhhmtD",
      "include_colab_link": true
    },
    "kernelspec": {
      "name": "python3",
      "display_name": "Python 3"
    },
    "language_info": {
      "name": "python"
    }
  },
  "cells": [
    {
      "cell_type": "markdown",
      "metadata": {
        "id": "view-in-github",
        "colab_type": "text"
      },
      "source": [
        "<a href=\"https://colab.research.google.com/github/JairEsc/Mat_Apl/blob/main/Opt_T7.ipynb\" target=\"_parent\"><img src=\"https://colab.research.google.com/assets/colab-badge.svg\" alt=\"Open In Colab\"/></a>"
      ]
    },
    {
      "cell_type": "code",
      "source": [
        "import numpy as np\n",
        "import matplotlib.pyplot as plt"
      ],
      "metadata": {
        "id": "QhjBvrhfvZjO"
      },
      "execution_count": 1,
      "outputs": []
    },
    {
      "cell_type": "markdown",
      "source": [
        "Definimos las funciones para calcular el gradiente y Hessiano de la función de Rosembrok."
      ],
      "metadata": {
        "id": "yz_LR6PAaV68"
      }
    },
    {
      "cell_type": "code",
      "execution_count": 203,
      "metadata": {
        "id": "b_4lrAFMvJVh"
      },
      "outputs": [],
      "source": [
        "def Rosembrok(X):#X es un vector.\n",
        "    return np.sum(100*(X[1:]-X[:-1]**2)**2+(1-X[:-1])**2)\n",
        "def Rosembrok_grad(X):\n",
        "    n=len(X)\n",
        "    grad=np.zeros(n)\n",
        "    grad[1:-1]=-400*X[1:-1]*(X[2:]-X[1:-1]**2)+200*(X[1:-1]-X[:-2]**2)-2*(1-X[1:-1])\n",
        "    grad[0]=-400*X[0]*(X[1]-X[0]**2)-2*(1-X[0])\n",
        "    grad[-1]=200*(X[-1]-X[-2]**2)\n",
        "    return grad\n",
        "def Rosembrok_Hessian(X):\n",
        "    banda_s=X[:-1]\n",
        "    H=np.diag(banda_s,1)\n",
        "    H=-400*H+-400*H.T\n",
        "    main_diag=-400*(X[2:]-X[1:-1]**2)+800*(X[1:-1]**2)+202\n",
        "    np.fill_diagonal(H[1:-1,1:-1],main_diag)\n",
        "    H[0,0]=(-400*(X[1]-X[0]**2)+800*(X[0]**2)+2)\n",
        "    H[-1,-1]=200\n",
        "    H[0,1]=-400*(X[1])\n",
        "    H[-1,-2]=-400*X[-2]\n",
        "    return(H)"
      ]
    },
    {
      "cell_type": "markdown",
      "source": [
        "Definimos las funciones para calcular el gradiente y Hessiano de la función de Wood.\n"
      ],
      "metadata": {
        "id": "3ggQm8aganyg"
      }
    },
    {
      "cell_type": "code",
      "source": [
        "def Wood(X):\n",
        "    return (100*(X[0]**2-X[1])**2+(X[0]-1)**2+(X[2]-1)**2+90*(X[2]**2-X[3])**2+10.1*((X[1]-1)**2+(X[3]-1)**2)+19.8*(X[1]-1)*(X[3]-1))\n",
        "def Wood_grad(X):\n",
        "    G=[]\n",
        "    G.append(400*X[0]*(X[0]**2-X[1])+2*(X[0]-1))\n",
        "    G.append(-200*(X[0]**2-X[1])+20.2*(X[1]-1)+19.8*(X[3]-1))\n",
        "    G.append(2*(X[2]-1)+360*(X[2]**2-X[3])*X[2])\n",
        "    G.append(-180*(X[2]**2-X[3])+20.2*(X[3]-1)+19.8*(X[1]-1))\n",
        "    return np.array(G)\n",
        "def Wood_Hessian(X):\n",
        "    D1=[2+400*(X[0]**2-1)+800*X[0]**2,-400*X[0],0,0]\n",
        "    D2=[-400*X[0],220.2,0,19.8]\n",
        "    D3=[0,0,2+720*(X[2]**2)+360*(X[2]-X[3]),-360*X[2]]\n",
        "    D4=[0,19.8,-360*X[2],200.2]\n",
        "    return np.array([D1,D2,D3,D4])"
      ],
      "metadata": {
        "id": "UqdOEv0kadJB"
      },
      "execution_count": 104,
      "outputs": []
    },
    {
      "cell_type": "markdown",
      "source": [
        "Definimos las funciones para calcular el gradiente y Hessiano de a función de Branin.\n"
      ],
      "metadata": {
        "id": "_OYUpHlkawwC"
      }
    },
    {
      "cell_type": "code",
      "source": [
        "a=1\n",
        "b=5.1/(4*np.pi**2)\n",
        "c=5/np.pi\n",
        "r=6\n",
        "s=10\n",
        "t=1/(8*np.pi)\n",
        "def Branin(X):\n",
        "    return (a*(X[1]-b*X[0]**2+c*X[0]-r)**2+s*(1-t)*np.cos(X[0])+s)\n",
        "def Branin_grad(X):\n",
        "    return np.array([2*a*(X[1]-b*X[0]**2+c*X[0]-r)*(-2*X[0]+c)-s*(1-t)*np.sin(X[0]),2*a*(X[1]-b*X[0]**2+c*X[0]-r)])\n",
        "def Branin_Hessian(X):\n",
        "    R1=np.array([2*a*(X[1]-b*X[0]**2+c*X[0]-r)*(-2*b)+(-2*b*X[0]+c)*(-4*a*b*X[0]+2*a*c)-s*(1-t)*np.cos(X[0]),2*a*(-2*b*X[0]+c)])\n",
        "    R2=np.array([2*a*(-2*b*X[0]+c),2*a])\n",
        "    return np.array([R1,R2])"
      ],
      "metadata": {
        "id": "U-eX0g0fau5U"
      },
      "execution_count": 113,
      "outputs": []
    },
    {
      "cell_type": "markdown",
      "source": [
        "A continuncación implementamos el método de región de confianza usando la modificación de Dog-leg."
      ],
      "metadata": {
        "id": "7Cu3HM9ffBLp"
      }
    },
    {
      "cell_type": "code",
      "source": [
        "def get_Newton(grad,B):\n",
        "    return np.linalg.solve(B,-grad)\n",
        "def get_Cauchy(grad,B):\n",
        "    return (grad*(-(np.dot(grad,grad))/(np.dot(grad,np.dot(B,grad)))))\n",
        "def get_Newton_intersection(a,b,c):#Formula para hallar la interseccion\n",
        "    return ((-b+np.sqrt(b**2-4*a*c))/(2*a))\n",
        "def get_Cauchy_boundary(grad,H,radio):\n",
        "    FC=np.dot(grad,np.dot(H,grad))\n",
        "    if FC<=0:\n",
        "        return -(radio/np.linalg.norm(grad))*grad#En la frontera\n",
        "    else:\n",
        "        tao=min(1,np.linalg.norm(grad)**3/(radio*FC))\n",
        "        return -tao*(radio/np.linalg.norm(grad))*grad#Dentro de la region\n",
        "def update_radio(radio_k,radio_global,rho,p_k):\n",
        "    if rho<0.25:\n",
        "        return 0.25*radio_k\n",
        "    else:\n",
        "        if rho>0.75:\n",
        "            return np.min([2*radio_k,radio_global]) \n",
        "        else:\n",
        "             return radio_k\n",
        "    "
      ],
      "metadata": {
        "id": "HWakdOgEmLkt"
      },
      "execution_count": 387,
      "outputs": []
    },
    {
      "cell_type": "code",
      "source": [
        "def Dog_leg(x_0,f,grad_f,Hessian_f,radio_global,etha_1=0.25,tol_g=10**(-4),max_iter=10**3):\n",
        "    x_k=x_0\n",
        "    radio_k=radio_global\n",
        "    for k in range(max_iter):\n",
        "        grad_k=grad_f(x_k)\n",
        "        f_k=f(x_k)\n",
        "        H_k=Hessian_f(x_k)\n",
        "        if(np.linalg.norm(grad_k)<tol_g):\n",
        "            break\n",
        "        #Conseguimos $p_k$\n",
        "        p_k_B=get_Newton(grad_k,H_k)#Newton sin restricciones\n",
        "        if (np.linalg.norm(p_k_B)>=radio_k):#Fuera de la region\n",
        "            p_k_U=get_Cauchy(grad_k,H_k)\n",
        "            if(np.linalg.norm(p_k_U)>=radio_k): #Fuera de la region\n",
        "                #Buscamos que se satisfaga la restriccion de la region\n",
        "                p_k= get_Cauchy_boundary(grad_k,H_k,radio_k)\n",
        "            else:# p_k_U Dentro de la region \n",
        "                #Buscamos interseccion de Newton\n",
        "                lamb=get_Newton_intersection(a=np.linalg.norm(p_k_B-p_k_U)**2,b=2*np.dot(p_k_U,p_k_B-p_k_U),c=np.linalg.norm(p_k_U)**2-radio_k**2)\n",
        "                p_k=p_k_U+lamb*(p_k_B-p_k_U)\n",
        "        else:\n",
        "            p_k=p_k_B\n",
        "        #Calcular medida de ajuste\n",
        "        rho=(f_k-f(x_k+p_k))/(-(np.dot(grad_k,p_k)+0.5*np.dot(p_k,np.dot(H_k,p_k))))\n",
        "        if(rho>etha_1):\n",
        "            #Actualizamos x_k\n",
        "            x_k_next=x_k+p_k\n",
        "            x_k=x_k_next\n",
        "        radio_k=update_radio(radio_k,radio_global,rho,p_k)\n",
        "    return [x_k,k]"
      ],
      "metadata": {
        "id": "EWIq9FTdfA9S"
      },
      "execution_count": 418,
      "outputs": []
    },
    {
      "cell_type": "markdown",
      "source": [
        "Implementamos el algoritmo de Newton-Cauchy alterno"
      ],
      "metadata": {
        "id": "Fvsh413SLYga"
      }
    },
    {
      "cell_type": "code",
      "source": [
        "def Cauchy_Newton(x_0,f,grad_f,Hessian_f,radio_global,etha_1=0.25,tol_g=10**(-4),max_iter=10**3):\n",
        "    x_k=x_0\n",
        "    radio_k=radio_global\n",
        "    progr=[]\n",
        "    for k in range(max_iter):\n",
        "        grad_k=grad_f(x_k)\n",
        "        f_k=f(x_k)\n",
        "        H_k=Hessian_f(x_k)\n",
        "        if(np.linalg.norm(grad_k)<tol_g):\n",
        "            break\n",
        "        #Conseguimos $p_k$\n",
        "        p_k_B=get_Newton(grad_k,H_k)#Newton sin restricciones\n",
        "        if (np.linalg.norm(p_k_B)>=radio_k):#Fuera de la region\n",
        "            p_k=get_Cauchy_boundary(grad_k,H_k,radio_k)\n",
        "        else:\n",
        "            p_k=p_k_B\n",
        "        #Calcular medida de ajuste\n",
        "        rho=(f_k-f(x_k+p_k))/(-(np.dot(grad_k,p_k)+0.5*np.dot(p_k,np.dot(H_k,p_k))))\n",
        "        if(rho>etha_1):\n",
        "            #Actualizamos x_k\n",
        "            x_k_next=x_k+p_k\n",
        "            x_k=x_k_next\n",
        "        radio_k=update_radio(radio_k,radio_global,rho,p_k)\n",
        "        progr.append(f(x_k))\n",
        "    return [x_k,k]"
      ],
      "metadata": {
        "id": "ggKB12WTLiB7"
      },
      "execution_count": 419,
      "outputs": []
    },
    {
      "cell_type": "code",
      "source": [
        ""
      ],
      "metadata": {
        "id": "SM0zJ0h4Rqaq"
      },
      "execution_count": null,
      "outputs": []
    },
    {
      "cell_type": "markdown",
      "source": [
        "Implementamos el algoritmo de Newton Modificado. Utilizaremos un múltiplo de la identidad usando una aproximación del menor eigenvalor, aunque pueda ser computacionalmente costoso."
      ],
      "metadata": {
        "id": "lE4XgDRHTAic"
      }
    },
    {
      "cell_type": "code",
      "source": [
        "def min_eigen(A,tol,max_iter,pr=True,v_0=[]):#Codigo reciclado\n",
        "    n=len(A)\n",
        "    if(len(v_0)==0):#Es opcional\n",
        "        v_0=(np.zeros(n)+1/np.sqrt(n))#Normalizado\n",
        "    v_1=np.linalg.solve(A,v_0)#Se resuelve el sistema\n",
        "    lambda_0=np.dot(v_0,v_1)\n",
        "    lambda_1=np.sqrt(np.dot(v_1,v_1))#se toma raíz para poder compararlos\n",
        "    count=0\n",
        "    while((abs(lambda_0-lambda_1)>tol)&(count<max_iter)):\n",
        "        count+=1\n",
        "        v_0=v_1/np.linalg.norm(v_1)#Se normaliza\n",
        "        v_1=np.linalg.solve(A,v_0)#iteracion\n",
        "        lambda_0=lambda_1\n",
        "        lambda_1=np.dot(v_0,v_1)\n",
        "    if(count>=max_iter):\n",
        "        print(\"Maxima iteracion alcanzada\")\n",
        "    else:\n",
        "        if(pr==True):\n",
        "            print(\"numero de iteraciones: \"+str(count))\n",
        "    return([1/lambda_1,v_1])\n",
        "def get_alpha(f,grad_f,d,x_k,alpha_0=1,c_1=10**(-4),c_2=0.9,max_iter=10**3):#Bisection with Wolfe conditions\n",
        "    alpha=0\n",
        "    grad_f_k=grad_f(x_k)\n",
        "    f_k=f(x_k)\n",
        "    beta=np.inf\n",
        "    alpha_i=alpha_0\n",
        "    for i in range(max_iter):\n",
        "        if(f(x_k+alpha_i*d)>f_k+c_1*alpha_i*np.dot(grad_f_k,d)):\n",
        "            beta=alpha_i\n",
        "            alpha_i=0.5*(alpha+beta)\n",
        "        else:\n",
        "            if(np.dot(grad_f(x_k+alpha_i*d),d)<c_2*np.dot(grad_f_k,d)):\n",
        "                alpha=alpha_i\n",
        "                if(beta==np.inf):\n",
        "                    alpha_i=2*alpha\n",
        "                else:\n",
        "                    0.5*(alpha+beta)\n",
        "            else:\n",
        "                break\n",
        "    return alpha_i"
      ],
      "metadata": {
        "id": "QGQhjw42Tz13"
      },
      "execution_count": 414,
      "outputs": []
    },
    {
      "cell_type": "code",
      "source": [
        "def Newton_mod(x_0,f,grad_f,Hessian_f,tol_g=10**(-4),max_iter=10**3):\n",
        "    x_k=x_0\n",
        "    alpha_k=10\n",
        "    for j in range(max_iter):\n",
        "        f_k=f(x_k)\n",
        "        grad_k=grad_f(x_k)\n",
        "        H_k=Hessian_f(x_k)\n",
        "        if(np.linalg.norm(grad_k)<tol_g):\n",
        "            break\n",
        "        lamb_0=min_eigen(H_k,tol=10**(-6),max_iter=10**3,pr=False)[0]#Menor eigenvalor\n",
        "        if(lamb_0<0):\n",
        "            H_k=H_k-np.identity(len(x_0))*(lamb_0)\n",
        "        #Calculamos la direccion\n",
        "        d=np.linalg.solve(H_k,-grad_k)\n",
        "        #Compute alpha_k\n",
        "        alpha_k=get_alpha(f=f,grad_f=grad_f,x_k=x_k,d=d,alpha_0=1)\n",
        "        x_k=x_k+alpha_k*d\n",
        "    return [x_k,j]"
      ],
      "metadata": {
        "id": "LBQQ20VjTKSL"
      },
      "execution_count": 420,
      "outputs": []
    },
    {
      "cell_type": "code",
      "source": [
        "print(\"Ejemplo: función de Wood\\n\")\n",
        "n=4\n",
        "np.random.seed(0)\n",
        "x_0=np.random.uniform(-2,2,size=n)\n",
        "print(\"Usando Cauchy-Newton:\",\"f(x_k)=\",Wood(Cauchy_Newton(x_0=x_0,f=Wood,grad_f=Wood_grad,Hessian_f=Wood_Hessian,radio_global=0.2,etha_1=0.25,tol_g=10**(-4),max_iter=10**3)[0]))\n",
        "print(\"Usando Dog-leg:\",\"f(x_k)=\",Wood(Dog_leg(x_0=x_0,f=Wood,grad_f=Wood_grad,Hessian_f=Wood_Hessian,radio_global=0.05,etha_1=0.25,tol_g=10**(-4),max_iter=10**3)[0]))\n",
        "print(\"Usando Newton modificado:\",\"f(x_k)=\",Wood(Newton_mod(x_0=x_0,f=Wood,grad_f=Wood_grad,Hessian_f=Wood_Hessian,tol_g=10**(-4),max_iter=10**3)[0]))"
      ],
      "metadata": {
        "id": "Ux7T32yayZ5i",
        "outputId": "0d17c448-c025-4adf-bd02-e17728990f01",
        "colab": {
          "base_uri": "https://localhost:8080/"
        }
      },
      "execution_count": 421,
      "outputs": [
        {
          "output_type": "stream",
          "name": "stdout",
          "text": [
            "Ejemplo: función de Wood\n",
            "\n",
            "Usando Cauchy-Newton: f(x_k)= 3.542045387404165e-12\n",
            "Usando Dog-leg: f(x_k)= 3.555100497710087e-13\n",
            "Usando Newton modificado: f(x_k)= 2.815556199461769\n"
          ]
        }
      ]
    },
    {
      "cell_type": "code",
      "source": [
        "import numpy as np\n",
        "from numba import njit\n",
        "import time\n",
        "from datetime import timedelta"
      ],
      "metadata": {
        "id": "_02ma45vMYXD"
      },
      "execution_count": 422,
      "outputs": []
    },
    {
      "cell_type": "code",
      "source": [
        "print(\"Promedios de tiempo: función de Rosembrok\\n\")\n",
        "n=100\n",
        "T=3\n",
        "tiempo_1=0\n",
        "iter_1=0\n",
        "tiempo_2=0\n",
        "iter_2=0\n",
        "tiempo_3=0\n",
        "iter_3=0\n",
        "for i in range(T):\n",
        "        np.random.seed(0)\n",
        "        x_0=np.random.uniform(-2,2,size=n)\n",
        "        start = time.monotonic()\n",
        "        C1 =Cauchy_Newton(x_0=x_0,f=Rosembrok,grad_f=Rosembrok_grad,Hessian_f=Rosembrok_Hessian,radio_global=0.05,etha_1=0.25,tol_g=10**(-4),max_iter=10**4)[1]\n",
        "        end = time.monotonic()\n",
        "        tiempo_1+=(timedelta(seconds=end - start).total_seconds())/T\n",
        "        iter_1+=C1/T\n",
        "        start = time.monotonic()\n",
        "        C2 =Dog_leg(x_0=x_0,f=Rosembrok,grad_f=Rosembrok_grad,Hessian_f=Rosembrok_Hessian,radio_global=0.05,etha_1=0.25,tol_g=10**(-4),max_iter=10**4)[1]\n",
        "        end = time.monotonic()\n",
        "        tiempo_2+=(timedelta(seconds=end - start).total_seconds())/T\n",
        "        iter_2+=C2/T\n",
        "        C3 =Newton_mod(x_0=x_0,f=Rosembrok,grad_f=Rosembrok_grad,Hessian_f=Rosembrok_Hessian,tol_g=10**(-4),max_iter=10**4)[1]\n",
        "        end = time.monotonic()\n",
        "        tiempo_3+=(timedelta(seconds=end - start).total_seconds())/T\n",
        "        iter_3+=C3/T\n",
        "\n",
        "print(\"Usando Cauchy-Newton:\", \"Tiempo:\",tiempo_1,'\\n',\"        \",\"Iteraciones:\",iter_1)\n",
        "print(\"Usando Dog-leg:\", \"Tiempo:\",tiempo_2,'\\n',\"        \",\"Iteraciones:\",iter_2)\n",
        "print(\"Usando Newton modificado:\", \"Tiempo:\",tiempo_3,'\\n',\"        \",\"Iteraciones:\",iter_3)\n",
        "print('-----------------------')\n"
      ],
      "metadata": {
        "id": "9EUDFKmX5qdY",
        "outputId": "58e3a846-49d2-4add-c1c3-7b9dbc12d226",
        "colab": {
          "base_uri": "https://localhost:8080/"
        }
      },
      "execution_count": 437,
      "outputs": [
        {
          "output_type": "stream",
          "name": "stdout",
          "text": [
            "Promedios de tiempo: función de Rosembrok\n",
            "\n",
            "Usando Cauchy-Newton: Tiempo: 5.714868333333333 \n",
            "          Iteraciones: 9999.0\n",
            "Usando Dog-leg: Tiempo: 0.7388269999999999 \n",
            "          Iteraciones: 1114.0\n",
            "Usando Newton modificado: Tiempo: 59.84583333333333 \n",
            "          Iteraciones: 9999.0\n",
            "-----------------------\n"
          ]
        }
      ]
    },
    {
      "cell_type": "code",
      "source": [
        "print(\"Promedios de tiempo: función de Wood\\n\")\n",
        "n=4\n",
        "T=30\n",
        "tiempo_1=0\n",
        "iter_1=0\n",
        "tiempo_2=0\n",
        "iter_2=0\n",
        "tiempo_3=0\n",
        "iter_3=0\n",
        "for i in range(T):\n",
        "        np.random.seed(0)\n",
        "        x_0=np.random.uniform(-2,2,size=n)\n",
        "        start = time.monotonic()\n",
        "        C2 =Cauchy_Newton(x_0=x_0,f=Wood,grad_f=Wood_grad,Hessian_f=Wood_Hessian,radio_global=0.05,etha_1=0.25,tol_g=10**(-4),max_iter=10**4)[1]\n",
        "        end = time.monotonic()\n",
        "        tiempo_1+=(timedelta(seconds=end - start).total_seconds())/T\n",
        "        iter_1+=C1/T\n",
        "        start = time.monotonic()\n",
        "        C2 =Dog_leg(x_0=x_0,f=Wood,grad_f=Wood_grad,Hessian_f=Wood_Hessian,radio_global=0.05,etha_1=0.25,tol_g=10**(-4),max_iter=10**4)[1]\n",
        "        iter_2+=C2/T\n",
        "        end = time.monotonic()\n",
        "        tiempo_2+=(timedelta(seconds=end - start).total_seconds())/T\n",
        "        C2 =Newton_mod(x_0=x_0,f=Wood,grad_f=Wood_grad,Hessian_f=Wood_Hessian,tol_g=10**(-4),max_iter=10**4)[1]\n",
        "        iter_3+=C3/T\n",
        "        end = time.monotonic()\n",
        "        tiempo_3+=(timedelta(seconds=end - start).total_seconds())/T\n",
        "        \n",
        "print(\"Usando Cauchy-Newton:\", \"Tiempo:\",tiempo_1,'\\n',\"        \",\"Iteraciones:\",iter_1)\n",
        "print(\"Usando Dog-leg:\", \"Tiempo:\",tiempo_2,'\\n',\"        \",\"Iteraciones:\",iter_2)\n",
        "print(\"Usando Newton modificado:\", \"Tiempo:\",tiempo_3,'\\n',\"        \",\"Iteraciones:\",iter_3)\n",
        "print('-----------------------')\n"
      ],
      "metadata": {
        "id": "QkstUTBr8BTz",
        "outputId": "195e80c7-c594-4059-aea8-d0c4e1347175",
        "colab": {
          "base_uri": "https://localhost:8080/"
        }
      },
      "execution_count": 438,
      "outputs": [
        {
          "output_type": "stream",
          "name": "stdout",
          "text": [
            "Promedios de tiempo: función de Wood\n",
            "\n",
            "Usando Cauchy-Newton: Tiempo: 0.005123566666666667 \n",
            "          Iteraciones: 9998.999999999998\n",
            "Usando Dog-leg: Tiempo: 0.004549666666666665 \n",
            "          Iteraciones: 47.00000000000003\n",
            "Usando Newton modificado: Tiempo: 5.977737800000001 \n",
            "          Iteraciones: 9998.999999999998\n",
            "-----------------------\n"
          ]
        }
      ]
    },
    {
      "cell_type": "code",
      "source": [
        "print(\"Promedios de tiempo: función de Branin\\n\")\n",
        "n=2\n",
        "T=30\n",
        "tiempo_1=0\n",
        "iter_1=0\n",
        "tiempo_2=0\n",
        "iter_2=0\n",
        "tiempo_3=0\n",
        "iter_3=0\n",
        "for i in range(T):\n",
        "        np.random.seed(0)\n",
        "        x_0=np.random.uniform(-2,2,size=n)\n",
        "        start = time.monotonic()\n",
        "        C1 =Cauchy_Newton(x_0=x_0,f=Branin,grad_f=Branin_grad,Hessian_f=Branin_Hessian,radio_global=0.1,etha_1=0.25,tol_g=10**(-4),max_iter=10**4)[1]\n",
        "        iter_1+=C1/T\n",
        "        end = time.monotonic()\n",
        "        tiempo_1+=(timedelta(seconds=end - start).total_seconds())/T\n",
        "        start = time.monotonic()\n",
        "        C2 =Dog_leg(x_0=x_0,f=Branin,grad_f=Branin_grad,Hessian_f=Branin_Hessian,radio_global=0.05,etha_1=0.25,tol_g=10**(-4),max_iter=10**4)[1]\n",
        "        iter_2+=C2/T\n",
        "        end = time.monotonic()\n",
        "        tiempo_2+=(timedelta(seconds=end - start).total_seconds())/T\n",
        "        C2 =Newton_mod(x_0=x_0,f=Branin,grad_f=Branin_grad,Hessian_f=Branin_Hessian,tol_g=10**(-4),max_iter=10**3)[1]\n",
        "        iter_3+=C3/T\n",
        "        end = time.monotonic()\n",
        "        tiempo_3+=(timedelta(seconds=end - start).total_seconds())/T\n",
        "        \n",
        "print(\"Usando Cauchy-Newton:\", \"Tiempo:\",tiempo_1,'\\n',\"        \",\"Iteraciones:\",iter_1)\n",
        "print(\"Usando Dog-leg:\", \"Tiempo:\",tiempo_2,'\\n',\"        \",\"Iteraciones:\",iter_2)\n",
        "print(\"Usando Newton modificado:\", \"Tiempo:\",tiempo_3,'\\n',\"        \",\"Iteraciones:\",iter_3)\n",
        "print('-----------------------')\n"
      ],
      "metadata": {
        "id": "V6xVV39f8CIV",
        "outputId": "38131774-062a-45ad-b9b3-76d0e85bf36c",
        "colab": {
          "base_uri": "https://localhost:8080/"
        }
      },
      "execution_count": 444,
      "outputs": [
        {
          "output_type": "stream",
          "name": "stdout",
          "text": [
            "Promedios de tiempo: función de Branin\n",
            "\n"
          ]
        },
        {
          "output_type": "stream",
          "name": "stderr",
          "text": [
            "/usr/local/lib/python3.7/dist-packages/ipykernel_launcher.py:12: RuntimeWarning: overflow encountered in double_scalars\n",
            "  if sys.path[0] == '':\n",
            "/usr/local/lib/python3.7/dist-packages/ipykernel_launcher.py:12: RuntimeWarning: divide by zero encountered in double_scalars\n",
            "  if sys.path[0] == '':\n",
            "/usr/local/lib/python3.7/dist-packages/ipykernel_launcher.py:18: RuntimeWarning: invalid value encountered in double_scalars\n",
            "/usr/local/lib/python3.7/dist-packages/ipykernel_launcher.py:24: RuntimeWarning: invalid value encountered in double_scalars\n"
          ]
        },
        {
          "output_type": "stream",
          "name": "stdout",
          "text": [
            "Usando Cauchy-Newton: Tiempo: 0.8709520999999998 \n",
            "          Iteraciones: 9998.999999999998\n",
            "Usando Dog-leg: Tiempo: 0.9555218 \n",
            "          Iteraciones: 9998.999999999998\n",
            "Usando Newton modificado: Tiempo: 1.739676933333333 \n",
            "          Iteraciones: 9998.999999999998\n",
            "-----------------------\n"
          ]
        }
      ]
    }
  ]
}