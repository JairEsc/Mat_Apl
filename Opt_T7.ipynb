{
  "nbformat": 4,
  "nbformat_minor": 0,
  "metadata": {
    "colab": {
      "name": "Untitled100.ipynb",
      "provenance": [],
      "authorship_tag": "ABX9TyNSwMgtWK+qQIKZ00fFVLt7",
      "include_colab_link": true
    },
    "kernelspec": {
      "name": "python3",
      "display_name": "Python 3"
    },
    "language_info": {
      "name": "python"
    }
  },
  "cells": [
    {
      "cell_type": "markdown",
      "metadata": {
        "id": "view-in-github",
        "colab_type": "text"
      },
      "source": [
        "<a href=\"https://colab.research.google.com/github/JairEsc/Mat_Apl/blob/main/Opt_T7.ipynb\" target=\"_parent\"><img src=\"https://colab.research.google.com/assets/colab-badge.svg\" alt=\"Open In Colab\"/></a>"
      ]
    },
    {
      "cell_type": "code",
      "source": [
        "import numpy as np\n",
        "import matplotlib.pyplot as plt"
      ],
      "metadata": {
        "id": "QhjBvrhfvZjO"
      },
      "execution_count": 1,
      "outputs": []
    },
    {
      "cell_type": "markdown",
      "source": [
        "Definimos las funciones para calcular el gradiente y Hessiano de la función de Rosembrok."
      ],
      "metadata": {
        "id": "yz_LR6PAaV68"
      }
    },
    {
      "cell_type": "code",
      "execution_count": 2,
      "metadata": {
        "id": "b_4lrAFMvJVh"
      },
      "outputs": [],
      "source": [
        "def Rosembrok(X):#X es un vector.\n",
        "    return np.sum(100*(X[1:]-X[:-1]**2)**2+(1-X[:-1])**2)\n",
        "def Rosembok_grad(X):\n",
        "    n=len(X)\n",
        "    grad=np.zeros(n)\n",
        "    grad[1:-1]=-400*X[1:-1]*(X[2:]-X[1:-1]**2)+200*(X[1:-1]-X[:-2]**2)-2*(1-X[1:-1])\n",
        "    grad[0]=-400*X[0]*(X[1]-X[0]**2)-2*(1-X[0])\n",
        "    grad[-1]=200*(X[-1]-X[-2]**2)\n",
        "    return grad\n",
        "def Rosembrok_Hessian(X):\n",
        "    banda_s=X[:-1]\n",
        "    H=np.diag(banda_s,1)\n",
        "    H=-400*H+-400*H.T\n",
        "    main_diag=-400*(X[2:]-X[1:-1]**2)+800*(X[1:-1]**2)+202\n",
        "    np.fill_diagonal(H[1:-1,1:-1],main_diag)\n",
        "    H[0,0]=(-400*(X[1]-X[0]**2)+800*(X[0]**2)+2)\n",
        "    H[-1,-1]=200\n",
        "    H[0,1]=-400*(X[1])\n",
        "    H[-1,-2]=-400*X[-2]\n",
        "    return(H)"
      ]
    },
    {
      "cell_type": "markdown",
      "source": [
        "Definimos las funciones para calcular el gradiente y Hessiano de a función de Wood.\n"
      ],
      "metadata": {
        "id": "3ggQm8aganyg"
      }
    },
    {
      "cell_type": "code",
      "source": [
        "def Wood(X):\n",
        "    return (100*(X[0]**2-X[1])**2+(X[0]-1)**2+(X[2]-1)**2+90*(X[2]**2-X[3])**2+10.1*((X[1]-1)**2+(X[3]-1)**2)+19.8*(X[1]-1)*(X[3]-1))\n",
        "def Wood_grad(X):\n",
        "    G=[]\n",
        "    G.append(400*X[0]*(X[0]**2-X[1])+2*(X[0]-1))\n",
        "    G.append(-200*(X[0]**2-X[1])+20.2*(X[1]-1)+19.8*(X[3]-1))\n",
        "    G.append(2*(X[2]-1)+360*(X[2]**2-X[3])*X[2])\n",
        "    G.append(-180*(X[2]**2-X[3])+20.2*(X[3]-1)+19.8*(X[1]-1))\n",
        "    return G\n",
        "def Wood_Hessian(X):\n",
        "    D1=[2+400*(X[0]**2-1)+800*X[0]**2,-400*X[0],0,0]\n",
        "    D2=[-400*X[0],220.2,0,19.8]\n",
        "    D3=[0,0,2+720*(X[2]**2)+360*(X[2]-X[3]),-360*X[2]]\n",
        "    D4=[0,19.8,-360*X[2],200.2]\n",
        "    return [D1,D2,D3,D4]"
      ],
      "metadata": {
        "id": "UqdOEv0kadJB"
      },
      "execution_count": 3,
      "outputs": []
    },
    {
      "cell_type": "markdown",
      "source": [
        "Definimos las funciones para calcular el gradiente y Hessiano de a función de Branin.\n"
      ],
      "metadata": {
        "id": "_OYUpHlkawwC"
      }
    },
    {
      "cell_type": "code",
      "source": [
        "a=1\n",
        "b=5.1/(4*np.pi**2)\n",
        "c=5/np.pi\n",
        "r=6\n",
        "s=10\n",
        "t=1/(8*np.pi)\n",
        "def Branin(X):\n",
        "    return (a*(X[1]-b*X[0]**2+c*X[0]-r)**2+s*(1-t)*np.cos(X[0])+s)\n",
        "def Branin_grad(X):\n",
        "    return [2*a*(X[1]-b*X[0]**2+c*X[0]-r)*(-2*X[0]+c)-s*(1-t)*np.sin(X[0]),2*a*(X[1]-b*X[0]**2+c*X[0]-r)]\n",
        "def Branin_Hessian(X):\n",
        "    R1=[2*a*(X[1]-b*X[0]**2+c*X[0]-r)*(-2*b)+(-2*b*X[0]+c)*(-4*a*b*X[0]+2*a*c)-s*(1-t)*np.cos(X[0]),2*a*(-2*b*X[0]+c)]\n",
        "    R2=[2*a*(-2*b*X[0]+c),2*a]\n",
        "    return [R1,R2]"
      ],
      "metadata": {
        "id": "U-eX0g0fau5U"
      },
      "execution_count": 4,
      "outputs": []
    },
    {
      "cell_type": "markdown",
      "source": [
        "A continuncación implementamos el método de región de confianza usando la modificación de Dog-leg."
      ],
      "metadata": {
        "id": "7Cu3HM9ffBLp"
      }
    },
    {
      "cell_type": "code",
      "source": [
        "def conseguir_p_k():\n",
        "    pass\n",
        "def get_Newton(grad,B):\n",
        "    return np.linalg.solve(B,-grad)\n",
        "def get_Cauchy(grad,B):\n",
        "    pass\n",
        "def get_Newton_intersection(a,b,c):\n",
        "    return ((-b+np.sqrt(b**2-4*a*c))/(2*a))\n",
        "def get_Cauchy_wRestrictions(grad,B,radio):\n",
        "    FC=np.dot(grad,np.dot(B,grad))\n",
        "    if(FC<=0):\n",
        "        tao=1\n",
        "    else:\n",
        "        tao=np.min(1,np.linalg.norm(grad)**3/(radio*FC))\n",
        "    return tao"
      ],
      "metadata": {
        "id": "HWakdOgEmLkt"
      },
      "execution_count": null,
      "outputs": []
    },
    {
      "cell_type": "code",
      "source": [
        "def Dog_leg(x_0,f,grad_f,Hessian_f,radio_global,radio_0,etha_1=0.25,etha_2=0.75,tol_g=10**(-4),max_iter=10**3):\n",
        "    #Conseguimos $p_k$\n",
        "    \n",
        "    ### Pendiente\n",
        "    x_k=x_0\n",
        "    radio_k=radio_global/2\n",
        "    ####\n",
        "    p_k_B=get_Newton(grad_f(x_k),Hessian_f(x_k))\n",
        "    if (np.linalg.norm(p_k_B)>=radio_k):\n",
        "        p_k_U=get_Cauchy(grad_f(x_k),Hessian_f(x_k))\n",
        "        if(np.linalg.norm(p_k_U)>=radio_k):\n",
        "            #Buscamos la interseccion\n",
        "            pass#Creo es conocido P_k_C\n",
        "            p_k=get_Cauchy_wRestrictions(grad_f(x_k),Hessian_f(x_k),radio_k)\n",
        "        else:\n",
        "            #Buscamos interseccion de Newton\n",
        "            tao=get_Newton_intersection(a=np.linalg.norm(p_k_B-p_k_U)**2,b=2*np.dot(p_k_B,p_k_B-p_k_U),c=np.linalg.norm(p_k_U)**2-radio_k**2)\n",
        "            p_k=p_k_U+tao*(p_k_B-p_k_U)\n",
        "    else:\n",
        "        p_k=p_k_B\n",
        "    #Calcular medida de ajuste\n",
        "    rho=(f(x_k)-f(x_k+p_k))/(m(0)-m(p_k))\n",
        "    if(rho>etha_1):\n",
        "        if(rho>etha_2 and np.norm(p_k)==radio_k):\n",
        "        #Actualizamos el radio_k\n",
        "            radio_k=np.min(2*radio_k,radio_global)\n",
        "        #Actualizamos x_k\n",
        "        x_k_next=x_k+p_k\n",
        "        x_k=x_k_next\n",
        "    else:\n",
        "        radio_k=0.25*radio_k\n",
        "\n"
      ],
      "metadata": {
        "id": "EWIq9FTdfA9S"
      },
      "execution_count": null,
      "outputs": []
    }
  ]
}