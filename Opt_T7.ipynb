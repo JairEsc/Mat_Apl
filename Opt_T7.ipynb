{
  "nbformat": 4,
  "nbformat_minor": 0,
  "metadata": {
    "colab": {
      "name": "Untitled100.ipynb",
      "provenance": [],
      "authorship_tag": "ABX9TyOzzfKyOpYswA7EqTCsVNG3",
      "include_colab_link": true
    },
    "kernelspec": {
      "name": "python3",
      "display_name": "Python 3"
    },
    "language_info": {
      "name": "python"
    }
  },
  "cells": [
    {
      "cell_type": "markdown",
      "metadata": {
        "id": "view-in-github",
        "colab_type": "text"
      },
      "source": [
        "<a href=\"https://colab.research.google.com/github/JairEsc/Mat_Apl/blob/main/Opt_T7.ipynb\" target=\"_parent\"><img src=\"https://colab.research.google.com/assets/colab-badge.svg\" alt=\"Open In Colab\"/></a>"
      ]
    },
    {
      "cell_type": "code",
      "source": [
        "import numpy as np\n",
        "import matplotlib.pyplot as plt"
      ],
      "metadata": {
        "id": "QhjBvrhfvZjO"
      },
      "execution_count": 1,
      "outputs": []
    },
    {
      "cell_type": "markdown",
      "source": [
        "Definimos las funciones para calcular el gradiente y Hessiano de la función de Rosembrok."
      ],
      "metadata": {
        "id": "yz_LR6PAaV68"
      }
    },
    {
      "cell_type": "code",
      "execution_count": 203,
      "metadata": {
        "id": "b_4lrAFMvJVh"
      },
      "outputs": [],
      "source": [
        "def Rosembrok(X):#X es un vector.\n",
        "    return np.sum(100*(X[1:]-X[:-1]**2)**2+(1-X[:-1])**2)\n",
        "def Rosembrok_grad(X):\n",
        "    n=len(X)\n",
        "    grad=np.zeros(n)\n",
        "    grad[1:-1]=-400*X[1:-1]*(X[2:]-X[1:-1]**2)+200*(X[1:-1]-X[:-2]**2)-2*(1-X[1:-1])\n",
        "    grad[0]=-400*X[0]*(X[1]-X[0]**2)-2*(1-X[0])\n",
        "    grad[-1]=200*(X[-1]-X[-2]**2)\n",
        "    return grad\n",
        "def Rosembrok_Hessian(X):\n",
        "    banda_s=X[:-1]\n",
        "    H=np.diag(banda_s,1)\n",
        "    H=-400*H+-400*H.T\n",
        "    main_diag=-400*(X[2:]-X[1:-1]**2)+800*(X[1:-1]**2)+202\n",
        "    np.fill_diagonal(H[1:-1,1:-1],main_diag)\n",
        "    H[0,0]=(-400*(X[1]-X[0]**2)+800*(X[0]**2)+2)\n",
        "    H[-1,-1]=200\n",
        "    H[0,1]=-400*(X[1])\n",
        "    H[-1,-2]=-400*X[-2]\n",
        "    return(H)"
      ]
    },
    {
      "cell_type": "code",
      "source": [
        "Rosembrok(np.zeros(100))"
      ],
      "metadata": {
        "colab": {
          "base_uri": "https://localhost:8080/"
        },
        "id": "Ysgblf6f06Yc",
        "outputId": "70e75666-0fbf-467e-cdaf-3f55d0b50521"
      },
      "execution_count": 19,
      "outputs": [
        {
          "output_type": "execute_result",
          "data": {
            "text/plain": [
              "99.0"
            ]
          },
          "metadata": {},
          "execution_count": 19
        }
      ]
    },
    {
      "cell_type": "markdown",
      "source": [
        "Definimos las funciones para calcular el gradiente y Hessiano de la función de Wood.\n"
      ],
      "metadata": {
        "id": "3ggQm8aganyg"
      }
    },
    {
      "cell_type": "code",
      "source": [
        "def Wood(X):\n",
        "    return (100*(X[0]**2-X[1])**2+(X[0]-1)**2+(X[2]-1)**2+90*(X[2]**2-X[3])**2+10.1*((X[1]-1)**2+(X[3]-1)**2)+19.8*(X[1]-1)*(X[3]-1))\n",
        "def Wood_grad(X):\n",
        "    G=[]\n",
        "    G.append(400*X[0]*(X[0]**2-X[1])+2*(X[0]-1))\n",
        "    G.append(-200*(X[0]**2-X[1])+20.2*(X[1]-1)+19.8*(X[3]-1))\n",
        "    G.append(2*(X[2]-1)+360*(X[2]**2-X[3])*X[2])\n",
        "    G.append(-180*(X[2]**2-X[3])+20.2*(X[3]-1)+19.8*(X[1]-1))\n",
        "    return np.array(G)\n",
        "def Wood_Hessian(X):\n",
        "    D1=[2+400*(X[0]**2-1)+800*X[0]**2,-400*X[0],0,0]\n",
        "    D2=[-400*X[0],220.2,0,19.8]\n",
        "    D3=[0,0,2+720*(X[2]**2)+360*(X[2]-X[3]),-360*X[2]]\n",
        "    D4=[0,19.8,-360*X[2],200.2]\n",
        "    return np.array([D1,D2,D3,D4])"
      ],
      "metadata": {
        "id": "UqdOEv0kadJB"
      },
      "execution_count": 104,
      "outputs": []
    },
    {
      "cell_type": "markdown",
      "source": [
        "Definimos las funciones para calcular el gradiente y Hessiano de a función de Branin.\n"
      ],
      "metadata": {
        "id": "_OYUpHlkawwC"
      }
    },
    {
      "cell_type": "code",
      "source": [
        "a=1\n",
        "b=5.1/(4*np.pi**2)\n",
        "c=5/np.pi\n",
        "r=6\n",
        "s=10\n",
        "t=1/(8*np.pi)\n",
        "def Branin(X):\n",
        "    return (a*(X[1]-b*X[0]**2+c*X[0]-r)**2+s*(1-t)*np.cos(X[0])+s)\n",
        "def Branin_grad(X):\n",
        "    return np.array([2*a*(X[1]-b*X[0]**2+c*X[0]-r)*(-2*X[0]+c)-s*(1-t)*np.sin(X[0]),2*a*(X[1]-b*X[0]**2+c*X[0]-r)])\n",
        "def Branin_Hessian(X):\n",
        "    R1=np.array([2*a*(X[1]-b*X[0]**2+c*X[0]-r)*(-2*b)+(-2*b*X[0]+c)*(-4*a*b*X[0]+2*a*c)-s*(1-t)*np.cos(X[0]),2*a*(-2*b*X[0]+c)])\n",
        "    R2=np.array([2*a*(-2*b*X[0]+c),2*a])\n",
        "    return np.array([R1,R2])"
      ],
      "metadata": {
        "id": "U-eX0g0fau5U"
      },
      "execution_count": 113,
      "outputs": []
    },
    {
      "cell_type": "markdown",
      "source": [
        "A continuncación implementamos el método de región de confianza usando la modificación de Dog-leg."
      ],
      "metadata": {
        "id": "7Cu3HM9ffBLp"
      }
    },
    {
      "cell_type": "code",
      "source": [
        "def conseguir_p_k():\n",
        "    pass\n",
        "def get_Newton(grad,B):\n",
        "    return np.linalg.solve(B,-grad)\n",
        "def get_Cauchy(grad,B):\n",
        "    return (grad*(-(np.dot(grad,grad))/(np.dot(grad,np.dot(B,grad)))))\n",
        "def get_Newton_intersection(a,b,c):#Formula para hallar la interseccion\n",
        "    return ((-b+np.sqrt(b**2-4*a*c))/(2*a))\n",
        "def get_Cauchy_boundary(vector,radio):#Regresa un punto en la direccion del vector, de radio dado.\n",
        "    return (radio/np.linalg.norm(vector))*vector\n",
        "def update_radio(radio_k,radio_global,rho,p_k):\n",
        "    if rho<0.25:\n",
        "        return 0.25*radio_k\n",
        "    else:\n",
        "        if rho>0.75:\n",
        "            return np.min([2*radio_k,radio_global]) \n",
        "        else:\n",
        "             return radio_k\n",
        "    "
      ],
      "metadata": {
        "id": "HWakdOgEmLkt"
      },
      "execution_count": 163,
      "outputs": []
    },
    {
      "cell_type": "code",
      "source": [
        "def Dog_leg(x_0,f,grad_f,Hessian_f,radio_global,etha_1=0.25,tol_g=10**(-4),max_iter=10**3):\n",
        "    x_k=x_0\n",
        "    radio_k=radio_global\n",
        "    progr=[]\n",
        "    for k in range(max_iter):\n",
        "        grad_k=grad_f(x_k)\n",
        "        f_k=f(x_k)\n",
        "        H_k=Hessian_f(x_k)\n",
        "        if(np.linalg.norm(grad_k)<tol_g):\n",
        "            break\n",
        "        #Conseguimos $p_k$\n",
        "        p_k_B=get_Newton(grad_k,H_k)#Newton sin restricciones\n",
        "        if (np.linalg.norm(p_k_B)>=radio_k):#Fuera de la region\n",
        "            p_k_U=get_Cauchy(grad_k,H_k)\n",
        "            if(np.linalg.norm(p_k_U)>=radio_k): #Fuera de la region\n",
        "                #Buscamos la interseccion\n",
        "                p_k= get_Cauchy_boundary(p_k_U,radio_k)\n",
        "            else:# p_k_U Dentro de la region \n",
        "                #Buscamos interseccion de Newton\n",
        "                lamb=get_Newton_intersection(a=np.linalg.norm(p_k_B-p_k_U)**2,b=2*np.dot(p_k_U,p_k_B-p_k_U),c=np.linalg.norm(p_k_U)**2-radio_k**2)\n",
        "                p_k=p_k_U+lamb*(p_k_B-p_k_U)\n",
        "\n",
        "        else:\n",
        "            p_k=p_k_B\n",
        "            print(\"Caso Newton_no inter\")\n",
        "        #Calcular medida de ajuste\n",
        "        rho=(f_k-f(x_k+p_k))/(-(np.dot(grad_k,p_k)+0.5*np.dot(p_k,np.dot(H_k,p_k))))\n",
        "        if(rho>etha_1):\n",
        "            #Actualizamos x_k\n",
        "            x_k_next=x_k+p_k\n",
        "            x_k=x_k_next\n",
        "            print(\"f\",f(x_k))\n",
        "        else:\n",
        "            print(\"Mal paso\")\n",
        "        radio_k=update_radio(radio_k,radio_global,rho,p_k)\n",
        "        progr.append(f(x_k))\n",
        "    return 0\n",
        "\n"
      ],
      "metadata": {
        "id": "EWIq9FTdfA9S"
      },
      "execution_count": 188,
      "outputs": []
    },
    {
      "cell_type": "markdown",
      "source": [
        "Implementamos el algoritmo de Newton-Cauchy alterno"
      ],
      "metadata": {
        "id": "Fvsh413SLYga"
      }
    },
    {
      "cell_type": "code",
      "source": [
        "def Cauchy_Newton(x_0,f,grad_f,Hessian_f,radio_global,etha_1=0.25,tol_g=10**(-4),max_iter=10**3):\n",
        "    x_k=x_0\n",
        "    radio_k=radio_global\n",
        "    progr=[]\n",
        "    for k in range(max_iter):\n",
        "        grad_k=grad_f(x_k)\n",
        "        f_k=f(x_k)\n",
        "        H_k=Hessian_f(x_k)\n",
        "        if(np.linalg.norm(grad_k)<tol_g):\n",
        "            break\n",
        "        #Conseguimos $p_k$\n",
        "        p_k_B=get_Newton(grad_k,H_k)#Newton sin restricciones\n",
        "        if (np.linalg.norm(p_k_B)>=radio_k):#Fuera de la region\n",
        "            p_k=get_Cauchy(grad_k,H_k)\n",
        "        else:\n",
        "            p_k=p_k_B\n",
        "        #Calcular medida de ajuste\n",
        "        rho=(f_k-f(x_k+p_k))/(-(np.dot(grad_k,p_k)+0.5*np.dot(p_k,np.dot(H_k,p_k))))\n",
        "        if(rho>etha_1):\n",
        "            #Actualizamos x_k\n",
        "            x_k_next=x_k+p_k\n",
        "            x_k=x_k_next\n",
        "        radio_k=update_radio(radio_k,radio_global,rho,p_k)\n",
        "        progr.append(f(x_k))\n",
        "    return x_k"
      ],
      "metadata": {
        "id": "ggKB12WTLiB7"
      },
      "execution_count": 194,
      "outputs": []
    },
    {
      "cell_type": "code",
      "source": [
        "np.random.seed(10)\n",
        "x_0=np.random.normal(0,0.5,size=100)+1\n",
        "Dog_leg(x_0=x_0,f=Rosembrok,grad_f=Rosembrok_grad,Hessian_f=Rosembrok_Hessian,radio_global=0.5,etha_1=0.2,tol_g=10**(-4),max_iter=500)"
      ],
      "metadata": {
        "id": "P_WLeibqL-Wn"
      },
      "execution_count": null,
      "outputs": []
    },
    {
      "cell_type": "code",
      "source": [
        "np.random.seed(10)\n",
        "x_0=np.random.normal(0,0.5,size=100)+1\n",
        "Cauchy_Newton(x_0=x_0,f=Rosembrok,grad_f=Rosembrok_grad,Hessian_f=Rosembrok_Hessian,radio_global=0.5,etha_1=0.2,tol_g=10**(-4),max_iter=500)"
      ],
      "metadata": {
        "id": "QJ72FZpzz6F4"
      },
      "execution_count": null,
      "outputs": []
    },
    {
      "cell_type": "code",
      "source": [
        "np.random.seed(15)\n",
        "x_0=np.random.normal(0,0.5,size=4)+1\n",
        "Dog_leg(x_0=x_0,f=Wood,grad_f=Wood_grad,Hessian_f=Wood_Hessian,radio_global=0.25,etha_1=0.25,tol_g=10**(-4),max_iter=50)"
      ],
      "metadata": {
        "id": "6jEw0LZ-At9X"
      },
      "execution_count": null,
      "outputs": []
    },
    {
      "cell_type": "code",
      "source": [
        "np.random.seed(15)\n",
        "x_0=np.random.normal(0,0.5,size=2)+1\n",
        "Dog_leg(x_0=x_0,f=Branin,grad_f=Branin_grad,Hessian_f=Branin_Hessian,radio_global=0.55,etha_1=0.25,tol_g=10**(-4),max_iter=150)"
      ],
      "metadata": {
        "id": "5Li86Wq1BHek"
      },
      "execution_count": null,
      "outputs": []
    },
    {
      "cell_type": "code",
      "source": [
        "import numpy as np\n",
        "from numba import njit\n",
        "import time\n",
        "from datetime import timedelta"
      ],
      "metadata": {
        "id": "_02ma45vMYXD"
      },
      "execution_count": 191,
      "outputs": []
    },
    {
      "cell_type": "code",
      "source": [
        "Funcion_name=['Rosembrok','Wood','Branin']\n",
        "algo_name=['Cauchy-Newton Alterno', 'Newton modificado',\"Dog-leg\"]\n",
        "functions=[Rosembrok,Wood,Branin]\n",
        "gradients=[Rosembrok_grad,Wood_grad,Branin_grad]\n",
        "Hessians=[Rosembrok_Hessian,Wood_Hessian,Branin_Hessian]\n",
        "for w in range(3):\n",
        "        print('Tiempo promedio para '+Funcion_name[w]+' usando ' +algo_name[0] +'\\n')\n",
        "        tiempos=[]\n",
        "        for i in range(3):\n",
        "            start = time.monotonic()\n",
        "            np.random.seed(i)\n",
        "            if(w==0):\n",
        "                x_0=np.random.uniform(-2,2,size=100)\n",
        "            if(w==1):\n",
        "                x_0=np.random.uniform(-2,2,size=4)\n",
        "            if(w==2):\n",
        "                x_0=np.random.uniform(-2,2,size=2)\n",
        "            C1 = Cauchy_Newton(x_0=x_0,f=functions[w],grad_f=gradients[w],Hessian_f=Hessians[w],radio_global=0.5,etha_1=0.2,tol_g=10**(-4),max_iter=10**4)\n",
        "            end = time.monotonic()\n",
        "            tiempos.append(timedelta(seconds=end - start).total_seconds())\n",
        "        print(np.mean(tiempos))\n",
        "        print('-----------------------')\n",
        "        print('Tiempo promedio para '+Funcion_name[w]+' usando ' +algo_name[1] +'\\n')\n",
        "        tiempos=[]\n",
        "        for i in range(3):\n",
        "            start = time.monotonic()\n",
        "            np.random.seed(i)\n",
        "            if(w==0):\n",
        "                x_0=np.random.uniform(-2,2,size=100)\n",
        "            if(w==1):\n",
        "                x_0=np.random.uniform(-2,2,size=4)\n",
        "            if(w==2):\n",
        "                x_0=np.random.uniform(-2,2,size=2)\n",
        "            C1 = Newton_mod(x_0=x_0,f=functions[w],grad_f=gradients[w],Hessian_f=Hessians[w],radio_global=0.5,etha_1=0.2,tol_g=10**(-4),max_iter=10**4)\n",
        "            end = time.monotonic()\n",
        "            tiempos.append(timedelta(seconds=end - start).total_seconds())\n",
        "        print(np.mean(tiempos))\n",
        "        print('-----------------------')\n",
        "        print('Tiempo promedio para '+Funcion_name[w]+' usando ' +algo_name[2] +'\\n')\n",
        "        tiempos=[]\n",
        "        for i in range(3):\n",
        "            start = time.monotonic()\n",
        "            np.random.seed(i)\n",
        "            if(w==0):\n",
        "                x_0=np.random.uniform(-2,2,size=100)\n",
        "            if(w==1):\n",
        "                x_0=np.random.uniform(-2,2,size=4)\n",
        "            if(w==2):\n",
        "                x_0=np.random.uniform(-2,2,size=2)\n",
        "            C1 = Dog_leg(x_0=x_0,f=functions[w],grad_f=gradients[w],Hessian_f=Hessians[w],radio_global=0.5,etha_1=0.2,tol_g=10**(-4),max_iter=10**4)\n",
        "            end = time.monotonic()\n",
        "            tiempos.append(timedelta(seconds=end - start).total_seconds())\n",
        "        print(np.mean(tiempos))\n",
        "        print('-----------------------')\n"
      ],
      "metadata": {
        "colab": {
          "base_uri": "https://localhost:8080/",
          "height": 442
        },
        "id": "yhvSwrttMilJ",
        "outputId": "554c748d-41af-498f-8fcd-f4fb63547f4b"
      },
      "execution_count": 210,
      "outputs": [
        {
          "output_type": "stream",
          "name": "stdout",
          "text": [
            "Tiempo promedio para Rosembrok usando Cauchy-Newton Alterno\n",
            "\n"
          ]
        },
        {
          "output_type": "error",
          "ename": "KeyboardInterrupt",
          "evalue": "ignored",
          "traceback": [
            "\u001b[0;31m---------------------------------------------------------------------------\u001b[0m",
            "\u001b[0;31mKeyboardInterrupt\u001b[0m                         Traceback (most recent call last)",
            "\u001b[0;32m<ipython-input-210-58150d69d800>\u001b[0m in \u001b[0;36m<module>\u001b[0;34m()\u001b[0m\n\u001b[1;32m     16\u001b[0m             \u001b[0;32mif\u001b[0m\u001b[0;34m(\u001b[0m\u001b[0mw\u001b[0m\u001b[0;34m==\u001b[0m\u001b[0;36m2\u001b[0m\u001b[0;34m)\u001b[0m\u001b[0;34m:\u001b[0m\u001b[0;34m\u001b[0m\u001b[0;34m\u001b[0m\u001b[0m\n\u001b[1;32m     17\u001b[0m                 \u001b[0mx_0\u001b[0m\u001b[0;34m=\u001b[0m\u001b[0mnp\u001b[0m\u001b[0;34m.\u001b[0m\u001b[0mrandom\u001b[0m\u001b[0;34m.\u001b[0m\u001b[0muniform\u001b[0m\u001b[0;34m(\u001b[0m\u001b[0;34m-\u001b[0m\u001b[0;36m2\u001b[0m\u001b[0;34m,\u001b[0m\u001b[0;36m2\u001b[0m\u001b[0;34m,\u001b[0m\u001b[0msize\u001b[0m\u001b[0;34m=\u001b[0m\u001b[0;36m2\u001b[0m\u001b[0;34m)\u001b[0m\u001b[0;34m\u001b[0m\u001b[0;34m\u001b[0m\u001b[0m\n\u001b[0;32m---> 18\u001b[0;31m             \u001b[0mC1\u001b[0m \u001b[0;34m=\u001b[0m \u001b[0mCauchy_Newton\u001b[0m\u001b[0;34m(\u001b[0m\u001b[0mx_0\u001b[0m\u001b[0;34m=\u001b[0m\u001b[0mx_0\u001b[0m\u001b[0;34m,\u001b[0m\u001b[0mf\u001b[0m\u001b[0;34m=\u001b[0m\u001b[0mfunctions\u001b[0m\u001b[0;34m[\u001b[0m\u001b[0mw\u001b[0m\u001b[0;34m]\u001b[0m\u001b[0;34m,\u001b[0m\u001b[0mgrad_f\u001b[0m\u001b[0;34m=\u001b[0m\u001b[0mgradients\u001b[0m\u001b[0;34m[\u001b[0m\u001b[0mw\u001b[0m\u001b[0;34m]\u001b[0m\u001b[0;34m,\u001b[0m\u001b[0mHessian_f\u001b[0m\u001b[0;34m=\u001b[0m\u001b[0mHessians\u001b[0m\u001b[0;34m[\u001b[0m\u001b[0mw\u001b[0m\u001b[0;34m]\u001b[0m\u001b[0;34m,\u001b[0m\u001b[0mradio_global\u001b[0m\u001b[0;34m=\u001b[0m\u001b[0;36m0.5\u001b[0m\u001b[0;34m,\u001b[0m\u001b[0metha_1\u001b[0m\u001b[0;34m=\u001b[0m\u001b[0;36m0.2\u001b[0m\u001b[0;34m,\u001b[0m\u001b[0mtol_g\u001b[0m\u001b[0;34m=\u001b[0m\u001b[0;36m10\u001b[0m\u001b[0;34m**\u001b[0m\u001b[0;34m(\u001b[0m\u001b[0;34m-\u001b[0m\u001b[0;36m4\u001b[0m\u001b[0;34m)\u001b[0m\u001b[0;34m,\u001b[0m\u001b[0mmax_iter\u001b[0m\u001b[0;34m=\u001b[0m\u001b[0;36m10\u001b[0m\u001b[0;34m**\u001b[0m\u001b[0;36m4\u001b[0m\u001b[0;34m)\u001b[0m\u001b[0;34m\u001b[0m\u001b[0;34m\u001b[0m\u001b[0m\n\u001b[0m\u001b[1;32m     19\u001b[0m             \u001b[0mend\u001b[0m \u001b[0;34m=\u001b[0m \u001b[0mtime\u001b[0m\u001b[0;34m.\u001b[0m\u001b[0mmonotonic\u001b[0m\u001b[0;34m(\u001b[0m\u001b[0;34m)\u001b[0m\u001b[0;34m\u001b[0m\u001b[0;34m\u001b[0m\u001b[0m\n\u001b[1;32m     20\u001b[0m             \u001b[0mtiempos\u001b[0m\u001b[0;34m.\u001b[0m\u001b[0mappend\u001b[0m\u001b[0;34m(\u001b[0m\u001b[0mtimedelta\u001b[0m\u001b[0;34m(\u001b[0m\u001b[0mseconds\u001b[0m\u001b[0;34m=\u001b[0m\u001b[0mend\u001b[0m \u001b[0;34m-\u001b[0m \u001b[0mstart\u001b[0m\u001b[0;34m)\u001b[0m\u001b[0;34m.\u001b[0m\u001b[0mtotal_seconds\u001b[0m\u001b[0;34m(\u001b[0m\u001b[0;34m)\u001b[0m\u001b[0;34m)\u001b[0m\u001b[0;34m\u001b[0m\u001b[0;34m\u001b[0m\u001b[0m\n",
            "\u001b[0;32m<ipython-input-194-7c9f33990530>\u001b[0m in \u001b[0;36mCauchy_Newton\u001b[0;34m(x_0, f, grad_f, Hessian_f, radio_global, etha_1, tol_g, max_iter)\u001b[0m\n\u001b[1;32m     16\u001b[0m             \u001b[0mp_k\u001b[0m\u001b[0;34m=\u001b[0m\u001b[0mp_k_B\u001b[0m\u001b[0;34m\u001b[0m\u001b[0;34m\u001b[0m\u001b[0m\n\u001b[1;32m     17\u001b[0m         \u001b[0;31m#Calcular medida de ajuste\u001b[0m\u001b[0;34m\u001b[0m\u001b[0;34m\u001b[0m\u001b[0;34m\u001b[0m\u001b[0m\n\u001b[0;32m---> 18\u001b[0;31m         \u001b[0mrho\u001b[0m\u001b[0;34m=\u001b[0m\u001b[0;34m(\u001b[0m\u001b[0mf_k\u001b[0m\u001b[0;34m-\u001b[0m\u001b[0mf\u001b[0m\u001b[0;34m(\u001b[0m\u001b[0mx_k\u001b[0m\u001b[0;34m+\u001b[0m\u001b[0mp_k\u001b[0m\u001b[0;34m)\u001b[0m\u001b[0;34m)\u001b[0m\u001b[0;34m/\u001b[0m\u001b[0;34m(\u001b[0m\u001b[0;34m-\u001b[0m\u001b[0;34m(\u001b[0m\u001b[0mnp\u001b[0m\u001b[0;34m.\u001b[0m\u001b[0mdot\u001b[0m\u001b[0;34m(\u001b[0m\u001b[0mgrad_k\u001b[0m\u001b[0;34m,\u001b[0m\u001b[0mp_k\u001b[0m\u001b[0;34m)\u001b[0m\u001b[0;34m+\u001b[0m\u001b[0;36m0.5\u001b[0m\u001b[0;34m*\u001b[0m\u001b[0mnp\u001b[0m\u001b[0;34m.\u001b[0m\u001b[0mdot\u001b[0m\u001b[0;34m(\u001b[0m\u001b[0mp_k\u001b[0m\u001b[0;34m,\u001b[0m\u001b[0mnp\u001b[0m\u001b[0;34m.\u001b[0m\u001b[0mdot\u001b[0m\u001b[0;34m(\u001b[0m\u001b[0mH_k\u001b[0m\u001b[0;34m,\u001b[0m\u001b[0mp_k\u001b[0m\u001b[0;34m)\u001b[0m\u001b[0;34m)\u001b[0m\u001b[0;34m)\u001b[0m\u001b[0;34m)\u001b[0m\u001b[0;34m\u001b[0m\u001b[0;34m\u001b[0m\u001b[0m\n\u001b[0m\u001b[1;32m     19\u001b[0m         \u001b[0;32mif\u001b[0m\u001b[0;34m(\u001b[0m\u001b[0mrho\u001b[0m\u001b[0;34m>\u001b[0m\u001b[0metha_1\u001b[0m\u001b[0;34m)\u001b[0m\u001b[0;34m:\u001b[0m\u001b[0;34m\u001b[0m\u001b[0;34m\u001b[0m\u001b[0m\n\u001b[1;32m     20\u001b[0m             \u001b[0;31m#Actualizamos x_k\u001b[0m\u001b[0;34m\u001b[0m\u001b[0;34m\u001b[0m\u001b[0;34m\u001b[0m\u001b[0m\n",
            "\u001b[0;32m<__array_function__ internals>\u001b[0m in \u001b[0;36mdot\u001b[0;34m(*args, **kwargs)\u001b[0m\n",
            "\u001b[0;31mKeyboardInterrupt\u001b[0m: "
          ]
        }
      ]
    }
  ]
}