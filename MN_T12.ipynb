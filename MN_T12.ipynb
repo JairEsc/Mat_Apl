{
  "nbformat": 4,
  "nbformat_minor": 0,
  "metadata": {
    "colab": {
      "name": "Untitled49.ipynb",
      "provenance": [],
      "authorship_tag": "ABX9TyO9YXj46TmOIcZfbmfbXJXO",
      "include_colab_link": true
    },
    "kernelspec": {
      "name": "python3",
      "display_name": "Python 3"
    },
    "language_info": {
      "name": "python"
    }
  },
  "cells": [
    {
      "cell_type": "markdown",
      "metadata": {
        "id": "view-in-github",
        "colab_type": "text"
      },
      "source": [
        "<a href=\"https://colab.research.google.com/github/JairEsc/Mat_Apl/blob/main/MN_T12.ipynb\" target=\"_parent\"><img src=\"https://colab.research.google.com/assets/colab-badge.svg\" alt=\"Open In Colab\"/></a>"
      ]
    },
    {
      "cell_type": "code",
      "metadata": {
        "id": "tEiY8XzR0gEi"
      },
      "source": [
        "import numpy as np"
      ],
      "execution_count": 1,
      "outputs": []
    },
    {
      "cell_type": "code",
      "metadata": {
        "id": "T6uVqi58zYZ3"
      },
      "source": [
        "#Factorizacion QR\n",
        "def QR(A):\n",
        "    n=len(A);\n",
        "    Q=np.zeros((n,n))\n",
        "    R=np.zeros((n,n))\n",
        "    R[0,0]=np.linalg.norm(A[:,0])\n",
        "    Q[:,0]=A[:,0]/np.linalg.norm(A[:,0])\n",
        "    # A_k=r_{1l}*q_1+\\cdots+ r_{kk}*q_{k} entonces r_{ik}=q_{i} \\cdot a_{k}\n",
        "    #q_{k}=(a_k-\\sum^{k-1} r_{ik}*q_{i})/norma.\n",
        "    for k in range(1,n):\n",
        "        a_star=np.array(A[:,k])\n",
        "        for i in range(k):\n",
        "            R[i,k]=np.dot(Q[:,i],A[:,k])\n",
        "            a_star=np.subtract(a_star,R[i,k]*Q[:,i])\n",
        "        Q[:,k]=a_star/np.linalg.norm(a_star)\n",
        "        R[k,k]=np.linalg.norm(a_star)\n",
        "    return(Q,R)\n",
        "def check_diag(A,tol):#Pensado para matrices en general (NO simetricas)\n",
        "    boolean=True\n",
        "    breaker=False\n",
        "    for i in range(len(A)):\n",
        "        for j in range(i,len(A)):\n",
        "            if(i!=j):\n",
        "                if(abs(A[i][j])>tol):\n",
        "                    boolean=False;\n",
        "                    breaker=True;\n",
        "                    break;\n",
        "        if(breaker==True):\n",
        "            break\n",
        "    return(boolean)"
      ],
      "execution_count": 8,
      "outputs": []
    },
    {
      "cell_type": "code",
      "metadata": {
        "colab": {
          "base_uri": "https://localhost:8080/"
        },
        "id": "gyd6Ou3O1F76",
        "outputId": "73674d6a-0920-4b6a-fce7-dbe4ce4189c9"
      },
      "source": [
        "A=np.array([[1,1,1],[0,5,2],[-1,2,1]])\n",
        "Q,R=QR(A)\n",
        "print(np.dot(Q,R))"
      ],
      "execution_count": null,
      "outputs": [
        {
          "output_type": "stream",
          "name": "stdout",
          "text": [
            "[[ 1.  1.  1.]\n",
            " [ 0.  5.  2.]\n",
            " [-1.  2.  1.]]\n"
          ]
        }
      ]
    },
    {
      "cell_type": "code",
      "metadata": {
        "id": "R_5XSPCI_0Iu"
      },
      "source": [
        "A=np.loadtxt(\"Eigen_3.txt\",skiprows=1)\n",
        "Q,R=QR(A)"
      ],
      "execution_count": 38,
      "outputs": []
    },
    {
      "cell_type": "code",
      "metadata": {
        "id": "EkNRMV8YDrck"
      },
      "source": [
        "def QR_iteration(A,tol=10**(-6),max_iter=10):\n",
        "    Q,R=QR(A)\n",
        "    A=np.dot(R,Q)\n",
        "    count=0\n",
        "    phi=Q\n",
        "    while(check_diag(A,tol)==False & (count<max_iter)):\n",
        "        count+=1\n",
        "        Q,R=QR(A)\n",
        "        phi=np.dot(phi,Q)\n",
        "        A=np.dot(R,Q)\n",
        "    if(count==max_iter):\n",
        "        print(\"max iter\")\n",
        "    else:\n",
        "        return [phi,np.diag(A)]"
      ],
      "execution_count": 48,
      "outputs": []
    },
    {
      "cell_type": "code",
      "metadata": {
        "id": "hpGX6KkyFic7"
      },
      "source": [
        "Q,D=QR_iteration(A)"
      ],
      "execution_count": 55,
      "outputs": []
    },
    {
      "cell_type": "code",
      "metadata": {
        "id": "7dkGRbmQG9n2",
        "outputId": "f6d2c4bf-2218-436e-cc46-ed9c0ca63b9a",
        "colab": {
          "base_uri": "https://localhost:8080/"
        }
      },
      "source": [
        "print(\"Verificacion : \", np.dot(np.dot(Q.T,A),Q))"
      ],
      "execution_count": 57,
      "outputs": [
        {
          "output_type": "stream",
          "name": "stdout",
          "text": [
            "Verificacion :  [[ 3.61363835e+00  5.44282437e-15 -3.21371742e-15]\n",
            " [ 3.19545569e-16  7.19555862e-01 -7.09161734e-07]\n",
            " [-3.99596841e-18 -7.09161733e-07  4.74661293e-01]]\n"
          ]
        }
      ]
    },
    {
      "cell_type": "code",
      "metadata": {
        "id": "AqjYVKy3GEIe",
        "outputId": "acf25894-2aa7-48d8-f5b5-8eb9011c5ad9",
        "colab": {
          "base_uri": "https://localhost:8080/"
        }
      },
      "source": [
        "np.linalg.eig(A)"
      ],
      "execution_count": 18,
      "outputs": [
        {
          "output_type": "execute_result",
          "data": {
            "text/plain": [
              "(array([3.61363835, 0.71955586, 0.47466129]),\n",
              " array([[ 0.1864669 , -0.95093899,  0.24687067],\n",
              "        [-0.96209818, -0.22763778, -0.15016034],\n",
              "        [-0.19899041,  0.20951389,  0.95734359]]))"
            ]
          },
          "metadata": {},
          "execution_count": 18
        }
      ]
    }
  ]
}