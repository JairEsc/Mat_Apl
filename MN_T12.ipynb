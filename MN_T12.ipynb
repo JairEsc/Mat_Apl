{
  "nbformat": 4,
  "nbformat_minor": 0,
  "metadata": {
    "colab": {
      "name": "Untitled49.ipynb",
      "provenance": [],
      "authorship_tag": "ABX9TyPZCu43owmKjbtxd9b5VyK9",
      "include_colab_link": true
    },
    "kernelspec": {
      "name": "python3",
      "display_name": "Python 3"
    },
    "language_info": {
      "name": "python"
    }
  },
  "cells": [
    {
      "cell_type": "markdown",
      "metadata": {
        "id": "view-in-github",
        "colab_type": "text"
      },
      "source": [
        "<a href=\"https://colab.research.google.com/github/JairEsc/Mat_Apl/blob/main/MN_T12.ipynb\" target=\"_parent\"><img src=\"https://colab.research.google.com/assets/colab-badge.svg\" alt=\"Open In Colab\"/></a>"
      ]
    },
    {
      "cell_type": "code",
      "metadata": {
        "id": "tEiY8XzR0gEi"
      },
      "source": [
        "import numpy as np"
      ],
      "execution_count": 1,
      "outputs": []
    },
    {
      "cell_type": "code",
      "metadata": {
        "id": "T6uVqi58zYZ3"
      },
      "source": [
        "#Factorizacion QR\n",
        "def QR(A):\n",
        "    n=len(A);\n",
        "    Q=np.zeros((n,n))\n",
        "    R=np.zeros((n,n))\n",
        "    R[0,0]=np.linalg.norm(A[:,0])\n",
        "    Q[:,0]=A[:,0]/np.linalg.norm(A[:,0])\n",
        "    # A_k=r_{1l}*q_1+\\cdots+ r_{kk}*q_{k} entonces r_{ik}=q_{i} \\cdot a_{k}\n",
        "    #q_{k}=(a_k-\\sum^{k-1} r_{ik}*q_{i})/norma.\n",
        "    for k in range(1,n):\n",
        "        a_star=np.array(A[:,k])\n",
        "        for i in range(k):\n",
        "            R[i,k]=np.dot(Q[:,i],A[:,k])\n",
        "            a_star=np.subtract(a_star,R[i,k]*Q[:,i])\n",
        "        Q[:,k]=a_star/np.linalg.norm(a_star)\n",
        "        R[k,k]=np.linalg.norm(a_star)\n",
        "    return(Q,R)"
      ],
      "execution_count": 30,
      "outputs": []
    },
    {
      "cell_type": "code",
      "metadata": {
        "colab": {
          "base_uri": "https://localhost:8080/"
        },
        "id": "gyd6Ou3O1F76",
        "outputId": "73674d6a-0920-4b6a-fce7-dbe4ce4189c9"
      },
      "source": [
        "A=np.array([[1,1,1],[0,5,2],[-1,2,1]])\n",
        "Q,R=QR(A)\n",
        "print(np.dot(Q,R))"
      ],
      "execution_count": 31,
      "outputs": [
        {
          "output_type": "stream",
          "name": "stdout",
          "text": [
            "[[ 1.  1.  1.]\n",
            " [ 0.  5.  2.]\n",
            " [-1.  2.  1.]]\n"
          ]
        }
      ]
    }
  ]
}