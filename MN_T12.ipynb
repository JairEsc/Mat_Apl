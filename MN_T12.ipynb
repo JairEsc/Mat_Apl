{
  "nbformat": 4,
  "nbformat_minor": 0,
  "metadata": {
    "colab": {
      "name": "Untitled49.ipynb",
      "provenance": [],
      "authorship_tag": "ABX9TyOcrKVk+hvDNqI2ZJakU4aZ",
      "include_colab_link": true
    },
    "kernelspec": {
      "name": "python3",
      "display_name": "Python 3"
    },
    "language_info": {
      "name": "python"
    }
  },
  "cells": [
    {
      "cell_type": "markdown",
      "metadata": {
        "id": "view-in-github",
        "colab_type": "text"
      },
      "source": [
        "<a href=\"https://colab.research.google.com/github/JairEsc/Mat_Apl/blob/main/MN_T12.ipynb\" target=\"_parent\"><img src=\"https://colab.research.google.com/assets/colab-badge.svg\" alt=\"Open In Colab\"/></a>"
      ]
    },
    {
      "cell_type": "code",
      "metadata": {
        "id": "tEiY8XzR0gEi"
      },
      "source": [
        "import numpy as np"
      ],
      "execution_count": null,
      "outputs": []
    },
    {
      "cell_type": "code",
      "metadata": {
        "id": "T6uVqi58zYZ3"
      },
      "source": [
        "#Factorizacion QR\n",
        "def QR(A):\n",
        "    n=len(A);\n",
        "    Q=np.zeros((n,n))\n",
        "    R=np.zeros((n,n))\n",
        "    R[0,0]=np.linalg.norm(A[:,0])\n",
        "    Q[:,0]=A[:,0]/np.linalg.norm(A[:,0])\n",
        "    # A_k=r_{1l}*q_1+\\cdots+ r_{kk}*q_{k} entonces r_{ik}=q_{i} \\cdot a_{k}\n",
        "    #q_{k}=(a_k-\\sum^{k-1} r_{ik}*q_{i})/norma.\n",
        "    for k in range(1,n):\n",
        "        a_star=np.array(A[:,k])\n",
        "        for i in range(k):\n",
        "            R[i,k]=np.dot(Q[:,i],A[:,k])\n",
        "            a_star=np.subtract(a_star,R[i,k]*Q[:,i])\n",
        "        Q[:,k]=a_star/np.linalg.norm(a_star)\n",
        "        R[k,k]=np.linalg.norm(a_star)\n",
        "    return(Q,R)\n",
        "def check_diag(A,tol):#Pensado para matrices en general (NO simetricas)\n",
        "    boolean=True\n",
        "    breaker=False\n",
        "    for i in range(len(A)):\n",
        "        for j in range(i,len(A)):\n",
        "            if(i!=j):\n",
        "                if(abs(A[i][j])>tol):\n",
        "                    boolean=False;\n",
        "                    breaker=True;\n",
        "                    break;\n",
        "        if(breaker==True):\n",
        "            break\n",
        "    return(boolean)"
      ],
      "execution_count": null,
      "outputs": []
    },
    {
      "cell_type": "code",
      "metadata": {
        "id": "EkNRMV8YDrck"
      },
      "source": [
        "def QR_iteration(A,tol=10**(-6),max_iter=10,pr=True):\n",
        "    Q,R=QR(A)\n",
        "    A=np.dot(R,Q)\n",
        "    count=1\n",
        "    phi=Q\n",
        "    while(check_diag(A,tol)==False & (count<max_iter)):\n",
        "        count+=1\n",
        "        Q,R=QR(A)\n",
        "        phi=np.dot(phi,Q)\n",
        "        A=np.dot(R,Q)\n",
        "    if(count==max_iter):\n",
        "        print(\"max iter\")\n",
        "    else:\n",
        "        if(pr==True):\n",
        "            print(\"Numero de iteraciones: \", count)\n",
        "    return [phi,np.diag(A)]"
      ],
      "execution_count": null,
      "outputs": []
    },
    {
      "cell_type": "code",
      "metadata": {
        "colab": {
          "base_uri": "https://localhost:8080/"
        },
        "id": "hpGX6KkyFic7",
        "outputId": "516837d2-d081-4152-c8aa-412910822501"
      },
      "source": [
        "A=np.loadtxt(\"Eigen_3.txt\",skiprows=1)\n",
        "Q,D=QR_iteration(A)\n",
        "print(\"Verificacion ||A*Q-Q*D||/||A*Q||: \", np.linalg.norm(np.dot(A,Q)-np.dot(Q,np.diag(D)))/np.linalg.norm(np.dot(A,Q)))\n",
        "print(\"Aproximacion eigenvalores :\", D)"
      ],
      "execution_count": null,
      "outputs": [
        {
          "output_type": "stream",
          "name": "stdout",
          "text": [
            "Numero de iteraciones:  27\n",
            "Verificacion ||A*Q-Q*D||/||A*Q||:  2.69959113696392e-07\n",
            "Aproximacion eigenvalores : [3.61363835 0.71955586 0.47466129]\n"
          ]
        }
      ]
    },
    {
      "cell_type": "code",
      "metadata": {
        "colab": {
          "base_uri": "https://localhost:8080/"
        },
        "id": "7dkGRbmQG9n2",
        "outputId": "f71f3e06-172a-4feb-f10d-7aeab23488e4"
      },
      "source": [
        "A=np.loadtxt(\"Eigen_25.txt\",skiprows=1)\n",
        "Q,D=QR_iteration(A)\n",
        "print(\"Verificacion ||A*Q-Q*D||/||A*Q||: \", np.linalg.norm(np.dot(A,Q)-np.dot(Q,np.diag(D)))/np.linalg.norm(np.dot(A,Q)))\n",
        "print(\"Aproximacion eigenvalores :\", D)"
      ],
      "execution_count": null,
      "outputs": [
        {
          "output_type": "stream",
          "name": "stdout",
          "text": [
            "Numero de iteraciones:  622\n",
            "Verificacion ||A*Q-Q*D||/||A*Q||:  5.5200834473455166e-08\n",
            "Aproximacion eigenvalores : [25.46861213  0.98974483  0.96053995  0.88936694  0.81472991  0.74310482\n",
            "  0.69349945  0.64214197  0.58616015  0.54030573  0.50133635  0.43696989\n",
            "  0.43145426  0.42294509  0.40492083  0.3823956   0.35823032  0.31768207\n",
            "  0.29515689  0.23867958  0.19043193  0.13367051  0.09655695  0.06109875\n",
            "  0.03698549]\n"
          ]
        }
      ]
    },
    {
      "cell_type": "code",
      "metadata": {
        "id": "WH9EMU_HntVC"
      },
      "source": [
        "import numpy as np"
      ],
      "execution_count": 1,
      "outputs": []
    },
    {
      "cell_type": "code",
      "metadata": {
        "id": "4gTc77v_qxum"
      },
      "source": [
        "def gen_bandada_3(h):#Recibe el vector h del algoritmo.\n",
        "    H=np.zeros((len(h)+1,len(h)+1))\n",
        "    for i in range(len(h)+1):\n",
        "        if i==0:\n",
        "            H[i,i]=1\n",
        "        else:\n",
        "            if i==len(h):\n",
        "                H[i,i]=1\n",
        "            else:\n",
        "                H[i,i-1]=h[i-1]\n",
        "                H[i,i]=2*(h[i]+h[i-1])\n",
        "                H[i,i+1]=h[i]\n",
        "    return H"
      ],
      "execution_count": 2,
      "outputs": []
    },
    {
      "cell_type": "code",
      "metadata": {
        "id": "no09-hwStPMZ"
      },
      "source": [
        "def eliminacion_gaussiana(matriz,b):\n",
        "  for d in range(len(matriz)):\n",
        "    if(matriz[d][d]==0): return \"un cero apareció\"\n",
        "    for i in range(d+1,len(matriz)):\n",
        "      aux=(matriz[i][d]/matriz[d][d])\n",
        "      for j in range(d,len(matriz)):\n",
        "        matriz[i][j]+=-matriz[d][j]*(aux)\n",
        "      b[i]+=-b[d]*(aux)\n",
        "  return superior(matriz,b)"
      ],
      "execution_count": 3,
      "outputs": []
    },
    {
      "cell_type": "code",
      "metadata": {
        "id": "RVfpfFnDtPqa"
      },
      "source": [
        "def superior(list,b):\n",
        "  n=len(list)\n",
        "  X=[b[n-1]/list[n-1][n-1]]\n",
        "  X_inv=[X[0]]\n",
        "  for i in range(1,n):#len(list) es el número de renglones de la matriz\n",
        "    acum=0\n",
        "    for j in range(i):#0<=j<=i-1 \n",
        "      acum+=X[j]*list[n-i-1][n-1-j]\n",
        "    X.append((b[n-1-i]-acum)/list[n-1-i][n-1-i])\n",
        "    X_inv.insert(0,X[i])\n",
        "  return X_inv"
      ],
      "execution_count": 4,
      "outputs": []
    },
    {
      "cell_type": "code",
      "metadata": {
        "colab": {
          "base_uri": "https://localhost:8080/"
        },
        "id": "VQhpblXnr-5d",
        "outputId": "0336e6e8-99ca-46b7-ccbb-02f1364acd95"
      },
      "source": [
        "gen_bandada_3([2,3,3,4])"
      ],
      "execution_count": null,
      "outputs": [
        {
          "output_type": "execute_result",
          "data": {
            "text/plain": [
              "array([[ 1.,  0.,  0.,  0.,  0.],\n",
              "       [ 2., 10.,  3.,  0.,  0.],\n",
              "       [ 0.,  3., 12.,  3.,  0.],\n",
              "       [ 0.,  0.,  3., 14.,  4.],\n",
              "       [ 0.,  0.,  0.,  0.,  1.]])"
            ]
          },
          "metadata": {},
          "execution_count": 18
        }
      ]
    },
    {
      "cell_type": "code",
      "metadata": {
        "id": "0GrWiS_GRhna"
      },
      "source": [
        "def spline_cubico_extramos_libres(x,y):\n",
        "    a=y\n",
        "    h=x[1:]-x[0:-1]\n",
        "    g=np.zeros(len(a))\n",
        "    for i in range(1,len(a)-1):\n",
        "        g[i]=3*(a[i+1]-a[i])/h[i]-3*(a[i]-a[i-1])/h[i-1]\n",
        "    c=np.zeros(len(a))\n",
        "    H=gen_bandada_3(h)\n",
        "    c=eliminacion_gaussiana(H,g)\n",
        "    b=np.zeros(len(a)-1)\n",
        "    d=np.zeros(len(a)-1)\n",
        "    for i in range(0,len(a)-1):\n",
        "        b[i]=((a[i+1]-a[i])/h[i])-((c[i+1]+2*c[i])*h[i])/3\n",
        "        d[i]=(c[i+1]-c[i])/(3*h[i])\n",
        "    return [a,b,c,d]"
      ],
      "execution_count": 5,
      "outputs": []
    },
    {
      "cell_type": "code",
      "metadata": {
        "id": "fLdmh0Itv6G8"
      },
      "source": [
        "import matplotlib.pyplot as plt\n",
        "def spline(x,a,b,c,d,x_0):\n",
        "    return (d*(x-x_0)**3+c*(x-x_0)**2+b*(x-x_0)+a)"
      ],
      "execution_count": 7,
      "outputs": []
    },
    {
      "cell_type": "code",
      "metadata": {
        "id": "5MgVJHu3w_aH"
      },
      "source": [
        "v_spline = np.vectorize(spline)"
      ],
      "execution_count": 8,
      "outputs": []
    },
    {
      "cell_type": "code",
      "metadata": {
        "id": "2Vlqk8g6xUVf",
        "colab": {
          "base_uri": "https://localhost:8080/",
          "height": 265
        },
        "outputId": "5565753f-60db-4bf7-ec5a-ae509debc5ac"
      },
      "source": [
        "#Ejercicio.\n",
        "def f(x):\n",
        "    return (x/(1+x**2))\n",
        "x=np.zeros(17)\n",
        "y=np.zeros(17)\n",
        "for i in range(0,17):\n",
        "    x[i]=(i-8)/2\n",
        "    y[i]=f(x[i])\n",
        "a,b,c,d=spline_cubico_extramos_libres(x,y)\n",
        "\n",
        "for i in range(len(a)-1):\n",
        "    x_0=x[i]\n",
        "    x_s=np.linspace(x_0,x[i+1],20)\n",
        "    plt.plot(x_s,v_spline(x_s,a[i],b[i],c[i],d[i],x_0=x_0))\n",
        "plt.plot(x,y,'k*',label='puntos de interpolacion')\n",
        "plt.legend(framealpha=1, frameon=True);"
      ],
      "execution_count": 9,
      "outputs": [
        {
          "output_type": "display_data",
          "data": {
            "image/png": "[encoded data removed]",
            "text/plain": [
              "<Figure size 432x288 with 1 Axes>"
            ]
          },
          "metadata": {
            "needs_background": "light"
          }
        }
      ]
    },
    {
      "cell_type": "code",
      "metadata": {
        "colab": {
          "base_uri": "https://localhost:8080/",
          "height": 265
        },
        "id": "MmKI33tVC5W1",
        "outputId": "1431158d-9b52-443c-a41b-c8f052fbe12b"
      },
      "source": [
        "t=np.zeros(25)\n",
        "x_s=np.zeros(25)\n",
        "y_s=np.zeros(25)\n",
        "def x(t):\n",
        "    return (r(t)*np.sin(t))\n",
        "def y(t):\n",
        "    return (r(t)*np.cos(t))\n",
        "def r(t):\n",
        "    return (np.exp(np.cos(t))-2*np.cos(4*t)+(np.sin(t/12))**5)\n",
        "for i in range(25):\n",
        "    t[i]=np.pi*i/12\n",
        "    x_s[i]=x(t[i])\n",
        "    y_s[i]=y(t[i])\n",
        "a1,b1,c1,d1=spline_cubico_extramos_libres(t,x_s)\n",
        "a2,b2,c2,d2=spline_cubico_extramos_libres(t,y_s)\n",
        "\n",
        "for i in range(len(a1)-1):\n",
        "    t_0=t[i]\n",
        "    t_s=np.linspace(t_0,t[i+1],20)\n",
        "    plt.plot(v_spline(t_s,a1[i],b1[i],c1[i],d1[i],x_0=t_0),\n",
        "             v_spline(t_s,a2[i],b2[i],c2[i],d2[i],x_0=t_0))\n",
        "plt.plot(x_s,y_s,'k*',label='puntos de interpolacion')\n",
        "plt.legend(framealpha=1, frameon=True);"
      ],
      "execution_count": 10,
      "outputs": [
        {
          "output_type": "display_data",
          "data": {
            "image/png": "[encoded data removed]",
            "text/plain": [
              "<Figure size 432x288 with 1 Axes>"
            ]
          },
          "metadata": {
            "needs_background": "light"
          }
        }
      ]
    }
  ]
}