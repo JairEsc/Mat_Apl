{
  "nbformat": 4,
  "nbformat_minor": 0,
  "metadata": {
    "colab": {
      "name": "Untitled23.ipynb",
      "provenance": [],
      "authorship_tag": "ABX9TyOVg2e20cz8JRcJJEjzosnR",
      "include_colab_link": true
    },
    "kernelspec": {
      "name": "python3",
      "display_name": "Python 3"
    },
    "language_info": {
      "name": "python"
    }
  },
  "cells": [
    {
      "cell_type": "markdown",
      "metadata": {
        "id": "view-in-github",
        "colab_type": "text"
      },
      "source": [
        "<a href=\"https://colab.research.google.com/github/JairEsc/Mat_Apl/blob/main/MN_T8.ipynb\" target=\"_parent\"><img src=\"https://colab.research.google.com/assets/colab-badge.svg\" alt=\"Open In Colab\"/></a>"
      ]
    },
    {
      "cell_type": "code",
      "metadata": {
        "id": "6MAiLJD0U9b9"
      },
      "source": [
        "def check_diag_dom(matriz):\n",
        "    n=len(matriz)\n",
        "    diago_dom=True\n",
        "    for i in range(n):\n",
        "        sum=0\n",
        "        for j in range(n):\n",
        "            sum+=matriz[i][j]\n",
        "        if(2*matriz[i][i]<sum):\n",
        "            diago_dom=False;\n",
        "            break;\n",
        "    return (diago_dom)"
      ],
      "execution_count": 2,
      "outputs": []
    },
    {
      "cell_type": "code",
      "metadata": {
        "id": "LiTrL95xYuzp"
      },
      "source": [
        "import math\n",
        "def dist_rel(x,y):#x=(x_1,x_2,...x_n), y=(y_1,y_2,...y_n)\n",
        "    numerador=0\n",
        "    denominador=0\n",
        "    for i in range(len(x)):\n",
        "        numerador+=(x[i]-y[i])**2\n",
        "        denominador+=(x[i])**2\n",
        "    return(math.sqrt(numerador/denominador))"
      ],
      "execution_count": 3,
      "outputs": []
    },
    {
      "cell_type": "code",
      "metadata": {
        "id": "TBe3pFj3WQo0"
      },
      "source": [
        "import numpy as np\n",
        "def Jacobi(matriz,b,tol=10**(-6),max_iter=100,**x_0,):\n",
        "    if(not check_diag_dom(matriz)): \n",
        "        return(\"la matriz no es diagonalmente dominante\")\n",
        "    else:\n",
        "        count=0\n",
        "        n=len(matriz)\n",
        "        if(x_0):\n",
        "            x_0=x_0['x_0']\n",
        "            x_1=np.zeros(n)\n",
        "        else:\n",
        "            x_0=np.zeros(n)\n",
        "            x_1=np.zeros(n)\n",
        "        while(count<=max_iter):\n",
        "            count+=1\n",
        "            for i in range(n):\n",
        "                sum=0\n",
        "                for j in range(n):\n",
        "                    if(j!=i):\n",
        "                        sum+=matriz[i][j]*x_0[j]\n",
        "                x_1[i]=(b[i]-sum)/matriz[i][i]\n",
        "            if(np.linalg.norm(np.array(x_1)-np.array(x_0))<tol):\n",
        "                print(\"numero de iteraciones: \",count)\n",
        "                return (x_1)\n",
        "            else:\n",
        "                x_0=x_1\n",
        "                x_1=np.zeros(n)\n",
        "        return (\"Iteracion maxima alcanzada\")\n",
        "        "
      ],
      "execution_count": 18,
      "outputs": []
    },
    {
      "cell_type": "code",
      "metadata": {
        "id": "qdyPlF2Pqsx9"
      },
      "source": [
        "def Gauss_Seidel(matriz,b,tol=10**(-6),max_iter=100,**x_0,):\n",
        "    if(not check_diag_dom(matriz)): \n",
        "        return(\"la matriz no es diagonalmente dominante\")\n",
        "    else:\n",
        "        count=0\n",
        "        n=len(matriz)\n",
        "        if(x_0):\n",
        "            x_0=x_0['x_0']\n",
        "        else:\n",
        "            x_0=np.zeros(n)\n",
        "        while(count<=max_iter):\n",
        "            count+=1\n",
        "            x_1=np.copy(x_0)\n",
        "            for i in range(n):\n",
        "                sum=0\n",
        "                for j in range(n):\n",
        "                    if(j!=i):\n",
        "                        sum+=matriz[i][j]*x_0[j]\n",
        "                x_0[i]=(b[i]-sum)/matriz[i][i]\n",
        "            if(np.linalg.norm(np.array(x_1)-np.array(x_0))<tol):\n",
        "                print(\"numero de iteraciones: \",count)\n",
        "                return (x_0)\n",
        "        return(\"Iteracion maxima alcanzada\")\n",
        "            "
      ],
      "execution_count": 19,
      "outputs": []
    },
    {
      "cell_type": "code",
      "metadata": {
        "colab": {
          "base_uri": "https://localhost:8080/"
        },
        "id": "evr2e7RwaGHV",
        "outputId": "d588d9d5-3c84-4453-9255-17bd679bbe94"
      },
      "source": [
        "matriz=[[10,2,1],[1,5,1],[2,3,10]]\n",
        "b=[7,-8,6]\n",
        "tol=0.05\n",
        "x_0=[0.1,-1.7,0.9]\n",
        "Jacobi(matriz,b,tol=10**(-3),x_0=x_0)"
      ],
      "execution_count": 6,
      "outputs": [
        {
          "output_type": "stream",
          "name": "stdout",
          "text": [
            "numero de iteraciones:  8\n"
          ]
        },
        {
          "output_type": "execute_result",
          "data": {
            "text/plain": [
              "array([ 0.99989363, -2.00012224,  0.99984466])"
            ]
          },
          "metadata": {},
          "execution_count": 6
        }
      ]
    },
    {
      "cell_type": "code",
      "metadata": {
        "id": "qjDROas9rWpa",
        "colab": {
          "base_uri": "https://localhost:8080/"
        },
        "outputId": "56be94f6-b5e6-4852-abdb-c6e04bf6b554"
      },
      "source": [
        "matriz=[[10,2,1],[1,5,1],[2,3,10]]\n",
        "b=[7,-8,6]\n",
        "tol=0.05\n",
        "x_0=[0.1,-1.7,0.9]\n",
        "Gauss_Seidel(matriz,b,tol=10**(-3),x_0=x_0)"
      ],
      "execution_count": 7,
      "outputs": [
        {
          "output_type": "stream",
          "name": "stdout",
          "text": [
            "numero de iteraciones:  4\n"
          ]
        },
        {
          "output_type": "execute_result",
          "data": {
            "text/plain": [
              "[1.0000151244, -2.00002226408, 1.000003654344]"
            ]
          },
          "metadata": {},
          "execution_count": 7
        }
      ]
    },
    {
      "cell_type": "code",
      "metadata": {
        "id": "YWbK16mDPGIW"
      },
      "source": [
        "def superior(list,b):\n",
        "  n=len(list)\n",
        "  X=[b[n-1]/list[n-1][n-1]]\n",
        "  X_inv=[X[0]]\n",
        "  for i in range(1,n):#len(list) es el número de renglones de la matriz\n",
        "    acum=0\n",
        "    for j in range(i):#0<=j<=i-1 \n",
        "      acum+=X[j]*list[n-i-1][n-1-j]\n",
        "    X.append((b[n-1-i]-acum)/list[n-1-i][n-1-i])\n",
        "    X_inv.insert(0,X[i])\n",
        "  return X_inv\n",
        "def inferior(list,b):#list debe contener las entradas de la matriz triangular.\n",
        "#Será aceptable introducir un arreglo de arreglos de distintos tamaños, para solo introducir las entradas no cero.\n",
        "  X=[b[0]/list[0][0]]\n",
        "  for i in range(1,len(list)):#len(list) es el número de renglones de la matriz\n",
        "    acum=0\n",
        "    for j in range(i):#0<=j<=i-1 \n",
        "      acum+=X[j]*list[i][j]\n",
        "    X.append((b[i]-acum)/list[i][i])\n",
        "  return X\n",
        "def factorizar_LU(matriz):\n",
        "    n=len(matriz)\n",
        "    L=np.zeros((n,n))\n",
        "    U=np.zeros((n,n))\n",
        "    for j in range(n):\n",
        "        for i in range(j,n):\n",
        "            sum=0\n",
        "            for k in range(i):\n",
        "                sum+=L[i][k]*U[k][j]\n",
        "            L[i][j]=matriz[i][j]-sum\n",
        "            \n",
        "            if(i>j):\n",
        "                sum=0\n",
        "                for k in range(j):\n",
        "                    sum+=L[j][k]*U[k][i]\n",
        "                U[j][i]=(matriz[j][i]-sum)/L[j][j]\n",
        "            else: \n",
        "                U[i][j]=1 \n",
        "                if(L[i][i]==0):\n",
        "                    return(\"Error en la construcción de L\")\n",
        "    return([L,U])"
      ],
      "execution_count": 8,
      "outputs": []
    },
    {
      "cell_type": "code",
      "metadata": {
        "id": "43uTv6OqTNMx",
        "colab": {
          "base_uri": "https://localhost:8080/",
          "height": 290
        },
        "outputId": "0b6b0a75-0b24-46f4-daea-c23b6f034e75"
      },
      "source": [
        "def calor(K,Q,n,phi_n,phi_0,L,):\n",
        "    dx=1/(n)\n",
        "    n=n-1\n",
        "    tri_diag=np.zeros((n,n))\n",
        "    b=np.zeros(n)\n",
        "    for j in range(n):#Llenado de la matriz\n",
        "        if j==0:\n",
        "            tri_diag[j][j]=2\n",
        "            tri_diag[j][j+1]=-1\n",
        "            b[j]=Q*dx**2/K+phi_0\n",
        "        if j==n-1:\n",
        "            tri_diag[j][j-1]=-1\n",
        "            tri_diag[j][j]=2\n",
        "            b[j]=Q*dx**2/K+phi_n\n",
        "        if (j>0):\n",
        "            if(j<n-1):\n",
        "                tri_diag[j][j]=2\n",
        "                tri_diag[j][j+1]=-1\n",
        "                tri_diag[j][j-1]=-1\n",
        "                b[j]=Q*dx**2/K\n",
        "    L_m,U_m=factorizar_LU(tri_diag)#Descomposición\n",
        "    y=inferior(L_m,b)#Resolver Ly=b\n",
        "    x=superior(U_m,y)#Resolver Ux=y\n",
        "    return x\n",
        "N=[10, 30, 50, 70, 100]\n",
        "temp_media=[]\n",
        "for n in N:\n",
        "    temp_media.append(calor(K=5,Q=3,n=n,phi_n=20,phi_0=10,L=1)[int(np.floor(n/2)-1)])#Guardamos la temperatura del nodo central.\n",
        "import matplotlib.pyplot as plt\n",
        "plt.plot(N,temp_media,'o')\n",
        "plt.xlabel(\"Número de nodos - 1\");\n",
        "plt.ylabel(\"Temperatura en el nodo central\");"
      ],
      "execution_count": 9,
      "outputs": [
        {
          "output_type": "display_data",
          "data": {
            "image/png": "[encoded data removed]",
            "text/plain": [
              "<Figure size 432x288 with 1 Axes>"
            ]
          },
          "metadata": {
            "needs_background": "light"
          }
        }
      ]
    },
    {
      "cell_type": "code",
      "metadata": {
        "id": "SkRi7q-uf7dJ",
        "colab": {
          "base_uri": "https://localhost:8080/"
        },
        "outputId": "683afc12-887e-4088-c0bf-1464ddde7ec0"
      },
      "source": [
        "matriz=np.loadtxt(\"M_sys_3x3.txt\",skiprows=1)\n",
        "print(matriz)\n",
        "b=np.loadtxt(\"V_sys_3x1.txt\",skiprows=1)\n",
        "print(b)\n",
        "tol=0.05\n",
        "x_0=np.zeros(3)\n",
        "print('Jacobi:')\n",
        "print(Jacobi(matriz,b,tol=10**(-6),x_0=x_0))\n",
        "print('\\nGauss-Seidel:')\n",
        "print(Gauss_Seidel(matriz,b,tol=10**(-6),x_0=x_0))\n",
        "print('Solucion real:')\n",
        "print(np.linalg.solve(matriz,b))\n"
      ],
      "execution_count": 16,
      "outputs": [
        {
          "output_type": "stream",
          "name": "stdout",
          "text": [
            "[[ 3.  -0.1 -0.2]\n",
            " [ 0.1  7.  -0.3]\n",
            " [ 0.3 -0.2 10. ]]\n",
            "[  7.85 -19.3   71.4 ]\n",
            "Jacobi:\n",
            "numero de iteraciones:  7\n",
            "[ 3.  -2.5  7. ]\n",
            "\n",
            "Gauss-Seidel:\n",
            "numero de iteraciones:  5\n",
            "[ 3.  -2.5  7. ]\n",
            "Solucion real:\n",
            "[ 3.  -2.5  7. ]\n"
          ]
        }
      ]
    },
    {
      "cell_type": "code",
      "metadata": {
        "id": "o4DECXvjh6Ja",
        "colab": {
          "base_uri": "https://localhost:8080/"
        },
        "outputId": "89a3599c-bba0-4bcf-ba5e-facef8ef13ac"
      },
      "source": [
        "#Algo está pasando.\n",
        "matriz=np.loadtxt(\"M_sys_125x125.txt\",skiprows=1)\n",
        "\n",
        "b=np.loadtxt(\"V_sys_125x1.txt\",skiprows=1)\n",
        "tol=0.05\n",
        "x_0=np.zeros(125)\n",
        "print('Jacobi:')\n",
        "#print(Jacobi(matriz,b,tol=10**(-6),x_0=x_0,max_iter=1000))\n",
        "print('\\nGauss-Seidel:')\n",
        "#print(Gauss_Seidel(matriz,b,tol=10**(-6),x_0=x_0,max_iter=1000))\n",
        "print('Solucion real:')\n",
        "print(np.linalg.solve(matriz,b))\n",
        "print('\\nError entre Gauss-Seidel y solve():')\n",
        "print(np.linalg.norm(np.linalg.solve(matriz,b)-Gauss_Seidel(matriz,b,tol=10**(-6),x_0=x_0,max_iter=1000)))"
      ],
      "execution_count": 25,
      "outputs": [
        {
          "output_type": "stream",
          "name": "stdout",
          "text": [
            "Jacobi:\n",
            "\n",
            "Gauss-Seidel:\n",
            "Solucion real:\n",
            "[0.60490115 0.56797115 0.00673795 0.60315831 0.59778873 0.58870279\n",
            " 0.4858645  0.37039705 0.00673795 0.19108876 0.57584911 0.07443077\n",
            " 0.60450881 0.12312666 0.5384961  0.4492824  0.33641533 0.20798226\n",
            " 0.59381722 0.3838099  0.05049276 0.52342531 0.24667197 0.53811615\n",
            " 0.00673795 0.15311178 0.57436878 0.3665231  0.44303401 0.14740468\n",
            " 0.57183278 0.58283645 0.00673795 0.51859483 0.50151497 0.55868349\n",
            " 0.11343189 0.08209209 0.21908177 0.39561754 0.24116932 0.35457156\n",
            " 0.60097725 0.5577814  0.08596886 0.11692495 0.18247946 0.14169175\n",
            " 0.21168195 0.17769978 0.2745975  0.32621288 0.49870083 0.47131707\n",
            " 0.42339345 0.47399902 0.49691972 0.27293604 0.43756243 0.41390666\n",
            " 0.31063958 0.38699685 0.54914614 0.00673795 0.00673795 0.53808504\n",
            " 0.4425834  0.48242177 0.44681863 0.28912955 0.40503421 0.35575295\n",
            " 0.26466518 0.13926688 0.5260363  0.00673795 0.00673795 0.32827991\n",
            " 0.19393613 0.00673795 0.51264839 0.05387114 0.08198386 0.2975121\n",
            " 0.46542972 0.35373711 0.34178009 0.49735424 0.07456383 0.09796312\n",
            " 0.47437362 0.18641874 0.49829247 0.17961783 0.12441039 0.38157984\n",
            " 0.24342811 0.4468188  0.00673795 0.08706538 0.4139751  0.00673795\n",
            " 0.07981901 0.41113066 0.38067821 0.13851502 0.1558144  0.31533554\n",
            " 0.31507215 0.2275405  0.24029705 0.36861954 0.23395171 0.29613116\n",
            " 0.25767275 0.42684715 0.3297133  0.40852525 0.55904051 0.00673795\n",
            " 0.51927775 0.26627772 0.06687316 0.17816533 0.46630444]\n",
            "\n",
            "Error entre Gauss-Seidel y solve():\n",
            "numero de iteraciones:  818\n",
            "7.350358458105307e-05\n"
          ]
        }
      ]
    }
  ]
}