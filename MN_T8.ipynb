{
  "nbformat": 4,
  "nbformat_minor": 0,
  "metadata": {
    "colab": {
      "name": "Untitled23.ipynb",
      "provenance": [],
      "authorship_tag": "ABX9TyN+lUSVViZL2lcVy7iurJyp",
      "include_colab_link": true
    },
    "kernelspec": {
      "name": "python3",
      "display_name": "Python 3"
    },
    "language_info": {
      "name": "python"
    }
  },
  "cells": [
    {
      "cell_type": "markdown",
      "metadata": {
        "id": "view-in-github",
        "colab_type": "text"
      },
      "source": [
        "<a href=\"https://colab.research.google.com/github/JairEsc/Mat_Apl/blob/main/MN_T8.ipynb\" target=\"_parent\"><img src=\"https://colab.research.google.com/assets/colab-badge.svg\" alt=\"Open In Colab\"/></a>"
      ]
    },
    {
      "cell_type": "code",
      "metadata": {
        "id": "6MAiLJD0U9b9"
      },
      "source": [
        "def check_diag_dom(matriz):\n",
        "    n=len(matriz)\n",
        "    diago_dom=True\n",
        "    for i in range(n):\n",
        "        sum=0\n",
        "        for j in range(n):\n",
        "            sum+=matriz[i][j]\n",
        "        if(2*matriz[i][i]<sum):\n",
        "            diago_dom=False;\n",
        "            break;\n",
        "    return (diago_dom)"
      ],
      "execution_count": 9,
      "outputs": []
    },
    {
      "cell_type": "code",
      "metadata": {
        "id": "LiTrL95xYuzp"
      },
      "source": [
        "import math\n",
        "def dist_rel(x,y):#x=(x_1,x_2,...x_n), y=(y_1,y_2,...y_n)\n",
        "    numerador=0\n",
        "    denominador=0\n",
        "    for i in range(len(x)):\n",
        "        numerador+=(x[i]-y[i])**2\n",
        "        denominador+=(x[i])**2\n",
        "    return(math.sqrt(numerador/denominador))"
      ],
      "execution_count": 16,
      "outputs": []
    },
    {
      "cell_type": "code",
      "metadata": {
        "colab": {
          "base_uri": "https://localhost:8080/",
          "height": 129
        },
        "id": "TBe3pFj3WQo0",
        "outputId": "1bef819c-bc39-4191-8018-0d8a273e2260"
      },
      "source": [
        "def Jacobi(matriz,b,**x_0,tol=10**(-6),max_iter=1000):\n",
        "    if(!check_diag_dom(matriz)): \n",
        "        return(\"la matriz no es diagonalmente dominante\")\n",
        "    else:\n",
        "        count=0\n",
        "        n=len(matriz)\n",
        "        if(x_0):\n",
        "            x_1=x_0\n",
        "        else:\n",
        "            x_0=np.zeros(n)\n",
        "            x_1=np.zeros(n)\n",
        "        while(count<=max_iter):\n",
        "            for i in range(n):\n",
        "                sum=0\n",
        "                for j in range(n):\n",
        "                    if(j!=i):\n",
        "                        sum+=matriz[i][j]*x_0[j]\n",
        "                x_1[i]=(b[i]-sum)/matriz[i][i]\n",
        "            if(dist_rel(x_1,x_0)<tol):\n",
        "                break;\n",
        "            x_0=x_1\n",
        "        print(\"numero de iteraciones: \",count)\n",
        "        return (x_1)"
      ],
      "execution_count": 17,
      "outputs": [
        {
          "output_type": "error",
          "ename": "SyntaxError",
          "evalue": "ignored",
          "traceback": [
            "\u001b[0;36m  File \u001b[0;32m\"<ipython-input-17-4c31a336eaa9>\"\u001b[0;36m, line \u001b[0;32m1\u001b[0m\n\u001b[0;31m    def Jacobi(matriz,b,**x_0,tol=10**(-6),max_iter=1000):\u001b[0m\n\u001b[0m                                ^\u001b[0m\n\u001b[0;31mSyntaxError\u001b[0m\u001b[0;31m:\u001b[0m invalid syntax\n"
          ]
        }
      ]
    },
    {
      "cell_type": "code",
      "metadata": {
        "colab": {
          "base_uri": "https://localhost:8080/"
        },
        "id": "evr2e7RwaGHV",
        "outputId": "d819a674-0376-4be7-8365-bcd076c4b185"
      },
      "source": [
        ""
      ],
      "execution_count": 15,
      "outputs": [
        {
          "output_type": "stream",
          "name": "stdout",
          "text": [
            "sss\n"
          ]
        },
        {
          "output_type": "execute_result",
          "data": {
            "text/plain": [
              "0"
            ]
          },
          "metadata": {},
          "execution_count": 15
        }
      ]
    },
    {
      "cell_type": "code",
      "metadata": {
        "colab": {
          "base_uri": "https://localhost:8080/"
        },
        "id": "MGPqiDHAVvrB",
        "outputId": "f4c1bb4a-d54c-4637-e356-bc3a495747f6"
      },
      "source": [
        "A=[[-0.1,1000,-1000],[-1000,0.1,1000],[-1000,1000,0.1]]\n",
        "check_diag_dom(A)"
      ],
      "execution_count": 11,
      "outputs": [
        {
          "output_type": "execute_result",
          "data": {
            "text/plain": [
              "False"
            ]
          },
          "metadata": {},
          "execution_count": 11
        }
      ]
    }
  ]
}