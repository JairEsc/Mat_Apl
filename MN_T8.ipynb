{
  "nbformat": 4,
  "nbformat_minor": 0,
  "metadata": {
    "colab": {
      "name": "Untitled23.ipynb",
      "provenance": [],
      "authorship_tag": "ABX9TyMWZ5O4BXIJvFBdio9z9sQx",
      "include_colab_link": true
    },
    "kernelspec": {
      "name": "python3",
      "display_name": "Python 3"
    },
    "language_info": {
      "name": "python"
    }
  },
  "cells": [
    {
      "cell_type": "markdown",
      "metadata": {
        "id": "view-in-github",
        "colab_type": "text"
      },
      "source": [
        "<a href=\"https://colab.research.google.com/github/JairEsc/Mat_Apl/blob/main/MN_T8.ipynb\" target=\"_parent\"><img src=\"https://colab.research.google.com/assets/colab-badge.svg\" alt=\"Open In Colab\"/></a>"
      ]
    },
    {
      "cell_type": "code",
      "metadata": {
        "id": "6MAiLJD0U9b9"
      },
      "source": [
        "def check_diag_dom(matriz):\n",
        "    n=len(matriz)\n",
        "    diago_dom=True\n",
        "    for i in range(n):\n",
        "        sum=0\n",
        "        for j in range(n):\n",
        "            sum+=matriz[i][j]\n",
        "        if(2*matriz[i][i]<sum):\n",
        "            diago_dom=False;\n",
        "            break;\n",
        "    return (diago_dom)"
      ],
      "execution_count": 1,
      "outputs": []
    },
    {
      "cell_type": "code",
      "metadata": {
        "id": "LiTrL95xYuzp"
      },
      "source": [
        "import math\n",
        "def dist_rel(x,y):#x=(x_1,x_2,...x_n), y=(y_1,y_2,...y_n)\n",
        "    numerador=0\n",
        "    denominador=0\n",
        "    for i in range(len(x)):\n",
        "        numerador+=(x[i]-y[i])**2\n",
        "        denominador+=(x[i])**2\n",
        "    return(math.sqrt(numerador/denominador))"
      ],
      "execution_count": 2,
      "outputs": []
    },
    {
      "cell_type": "code",
      "metadata": {
        "id": "TBe3pFj3WQo0"
      },
      "source": [
        "import numpy as np\n",
        "def Jacobi(matriz,b,tol=10**(-6),max_iter=100,**x_0,):\n",
        "    if(not check_diag_dom(matriz)): \n",
        "        return(\"la matriz no es diagonalmente dominante\")\n",
        "    else:\n",
        "        count=0\n",
        "        n=len(matriz)\n",
        "        if(x_0):\n",
        "            x_0=x_0['x_0']\n",
        "            x_1=np.zeros(n)\n",
        "        else:\n",
        "            x_0=np.zeros(n)\n",
        "            x_1=np.zeros(n)\n",
        "        while(count<=max_iter):\n",
        "            count+=1\n",
        "            for i in range(n):\n",
        "                sum=0\n",
        "                for j in range(n):\n",
        "                    if(j!=i):\n",
        "                        sum+=matriz[i][j]*x_0[j]\n",
        "                x_1[i]=(b[i]-sum)/matriz[i][i]\n",
        "            if(np.linalg.norm(np.array(x_1)-np.array(x_0))<tol):\n",
        "                print(\"numero de iteraciones: \",count)\n",
        "                return (x_1)\n",
        "            else:\n",
        "                x_0=x_1\n",
        "                x_1=np.zeros(n)\n",
        "        return (\"Iteracion maxima alcanzada\")\n",
        "        "
      ],
      "execution_count": 3,
      "outputs": []
    },
    {
      "cell_type": "code",
      "metadata": {
        "id": "qdyPlF2Pqsx9"
      },
      "source": [
        "def Gauss_Seidel(matriz,b,tol=10**(-6),max_iter=100,**x_0,):\n",
        "    if(not check_diag_dom(matriz)): \n",
        "        return(\"la matriz no es diagonalmente dominante\")\n",
        "    else:\n",
        "        count=0\n",
        "        n=len(matriz)\n",
        "        if(x_0):\n",
        "            x_0=x_0['x_0']\n",
        "        else:\n",
        "            x_0=np.zeros(n)\n",
        "        while(count<=max_iter):\n",
        "            count+=1\n",
        "            x_1=np.copy(x_0)\n",
        "            for i in range(n):\n",
        "                sum=0\n",
        "                for j in range(n):\n",
        "                    if(j!=i):\n",
        "                        sum+=matriz[i][j]*x_0[j]\n",
        "                x_0[i]=(b[i]-sum)/matriz[i][i]\n",
        "            if(np.linalg.norm(np.array(x_1)-np.array(x_0))<tol):\n",
        "                print(\"numero de iteraciones: \",count)\n",
        "                return (x_0)\n",
        "        return(\"Iteracion maxima alcanzada\")\n",
        "            "
      ],
      "execution_count": 4,
      "outputs": []
    },
    {
      "cell_type": "code",
      "metadata": {
        "colab": {
          "base_uri": "https://localhost:8080/"
        },
        "id": "evr2e7RwaGHV",
        "outputId": "d95df660-66af-405c-8f77-77693ae334ff"
      },
      "source": [
        "matriz=[[10,2,1],[1,5,1],[2,3,10]]\n",
        "b=[7,-8,6]\n",
        "tol=0.05\n",
        "x_0=[0.1,-1.7,0.9]\n",
        "Jacobi(matriz,b,tol=10**(-3),x_0=x_0)"
      ],
      "execution_count": 5,
      "outputs": [
        {
          "output_type": "stream",
          "name": "stdout",
          "text": [
            "numero de iteraciones:  8\n"
          ]
        },
        {
          "output_type": "execute_result",
          "data": {
            "text/plain": [
              "array([ 0.99989363, -2.00012224,  0.99984466])"
            ]
          },
          "metadata": {},
          "execution_count": 5
        }
      ]
    },
    {
      "cell_type": "code",
      "metadata": {
        "id": "qjDROas9rWpa",
        "colab": {
          "base_uri": "https://localhost:8080/"
        },
        "outputId": "72b88919-6448-4948-c650-6f5b513d7141"
      },
      "source": [
        "matriz=[[10,2,1],[1,5,1],[2,3,10]]\n",
        "b=[7,-8,6]\n",
        "tol=0.05\n",
        "x_0=[0.1,-1.7,0.9]\n",
        "Gauss_Seidel(matriz,b,tol=10**(-3),x_0=x_0)"
      ],
      "execution_count": 6,
      "outputs": [
        {
          "output_type": "stream",
          "name": "stdout",
          "text": [
            "numero de iteraciones:  4\n"
          ]
        },
        {
          "output_type": "execute_result",
          "data": {
            "text/plain": [
              "[1.0000151244, -2.00002226408, 1.000003654344]"
            ]
          },
          "metadata": {},
          "execution_count": 6
        }
      ]
    },
    {
      "cell_type": "code",
      "metadata": {
        "id": "YWbK16mDPGIW"
      },
      "source": [
        "def superior(list,b):\n",
        "  n=len(list)\n",
        "  X=[b[n-1]/list[n-1][n-1]]\n",
        "  X_inv=[X[0]]\n",
        "  for i in range(1,n):#len(list) es el número de renglones de la matriz\n",
        "    acum=0\n",
        "    for j in range(i):#0<=j<=i-1 \n",
        "      acum+=X[j]*list[n-i-1][n-1-j]\n",
        "    X.append((b[n-1-i]-acum)/list[n-1-i][n-1-i])\n",
        "    X_inv.insert(0,X[i])\n",
        "  return X_inv\n",
        "def inferior(list,b):#list debe contener las entradas de la matriz triangular.\n",
        "#Será aceptable introducir un arreglo de arreglos de distintos tamaños, para solo introducir las entradas no cero.\n",
        "  X=[b[0]/list[0][0]]\n",
        "  for i in range(1,len(list)):#len(list) es el número de renglones de la matriz\n",
        "    acum=0\n",
        "    for j in range(i):#0<=j<=i-1 \n",
        "      acum+=X[j]*list[i][j]\n",
        "    X.append((b[i]-acum)/list[i][i])\n",
        "  return X\n",
        "def factorizar_LU(matriz):\n",
        "    n=len(matriz)\n",
        "    L=np.zeros((n,n))\n",
        "    U=np.zeros((n,n))\n",
        "    for j in range(n):\n",
        "        for i in range(j,n):\n",
        "            sum=0\n",
        "            for k in range(i):\n",
        "                sum+=L[i][k]*U[k][j]\n",
        "            L[i][j]=matriz[i][j]-sum\n",
        "            \n",
        "            if(i>j):\n",
        "                sum=0\n",
        "                for k in range(j):\n",
        "                    sum+=L[j][k]*U[k][i]\n",
        "                U[j][i]=(matriz[j][i]-sum)/L[j][j]\n",
        "            else: \n",
        "                U[i][j]=1 \n",
        "                if(L[i][i]==0):\n",
        "                    return(\"Error en la construcción de L\")\n",
        "    return([L,U])"
      ],
      "execution_count": 7,
      "outputs": []
    },
    {
      "cell_type": "code",
      "metadata": {
        "id": "43uTv6OqTNMx",
        "colab": {
          "base_uri": "https://localhost:8080/",
          "height": 429
        },
        "outputId": "8d75dd80-33fa-44da-8c31-b39023318961"
      },
      "source": [
        "def calor(K,Q,n,phi_n,phi_0,L,):\n",
        "    dx=1/(n)\n",
        "    n=n-1\n",
        "    tri_diag=np.zeros((n,n))\n",
        "    b=np.zeros(n)\n",
        "    for j in range(n):#Llenado de la matriz\n",
        "        if j==0:\n",
        "            tri_diag[j][j]=2\n",
        "            tri_diag[j][j+1]=-1\n",
        "            b[j]=Q*dx**2/K+phi_0\n",
        "        if j==n-1:\n",
        "            tri_diag[j][j-1]=-1\n",
        "            tri_diag[j][j]=2\n",
        "            b[j]=Q*dx**2/K+phi_n\n",
        "        if (j>0):\n",
        "            if(j<n-1):\n",
        "                tri_diag[j][j]=2\n",
        "                tri_diag[j][j+1]=-1\n",
        "                tri_diag[j][j-1]=-1\n",
        "                b[j]=Q*dx**2/K\n",
        "    L_m,U_m=factorizar_LU(tri_diag)#Descomposición\n",
        "    y=inferior(L_m,b)#Resolver Ly=b\n",
        "    x=superior(U_m,y)#Resolver Ux=y\n",
        "    return x\n",
        "n=4\n",
        "print(\"Configuración: {Q=3, K=5, \\Phi_{0}=10, \\Phi_{n}=20, n=4, L=1}\\n\")\n",
        "print(calor(K=5,Q=3,n=n,phi_n=20,phi_0=10,L=1))\n",
        "n=100\n",
        "print(\"\\nConfiguración: {Q=3, K=5, \\Phi_{0}=10, \\Phi_{n}=20, n=100, L=1}\\n\")\n",
        "print(calor(K=5,Q=3,n=n,phi_n=20,phi_0=10,L=1))\n",
        "N=[10, 30, 50, 70, 100]\n",
        "temp_media=[]\n",
        "for n in N:\n",
        "    temp_media.append(calor(K=5,Q=3,n=n,phi_n=20,phi_0=10,L=1)[int(np.floor(n/2)-1)])#Guardamos la temperatura del nodo central.\n",
        "import matplotlib.pyplot as plt\n",
        "plt.plot(N,temp_media,'o')\n",
        "plt.xlabel(\"Número de nodos - 1\");\n",
        "plt.ylabel(\"Temperatura en el nodo central\");"
      ],
      "execution_count": 11,
      "outputs": [
        {
          "output_type": "stream",
          "name": "stdout",
          "text": [
            "Configuración: {Q=3, K=5, \\Phi_{0}=10, \\Phi_{n}=20, n=4, L=1}\n",
            "\n",
            "[12.556249999999999, 15.075, 17.55625]\n",
            "\n",
            "Configuración: {Q=3, K=5, \\Phi_{0}=10, \\Phi_{n}=20, n=100, L=1}\n",
            "\n",
            "[10.102969999999992, 10.205879999999985, 10.308729999999978, 10.411519999999971, 10.514249999999965, 10.616919999999958, 10.71952999999995, 10.822079999999941, 10.924569999999935, 11.026999999999928, 11.129369999999922, 11.231679999999914, 11.333929999999906, 11.436119999999898, 11.538249999999891, 11.640319999999884, 11.742329999999876, 11.84427999999987, 11.946169999999864, 12.047999999999858, 12.149769999999856, 12.251479999999853, 12.353129999999853, 12.45471999999985, 12.556249999999848, 12.657719999999845, 12.759129999999844, 12.860479999999843, 12.961769999999843, 13.062999999999843, 13.164169999999842, 13.265279999999844, 13.366329999999847, 13.467319999999848, 13.568249999999852, 13.669119999999854, 13.769929999999855, 13.870679999999854, 13.971369999999856, 14.071999999999859, 14.172569999999864, 14.273079999999869, 14.373529999999873, 14.473919999999877, 14.574249999999882, 14.674519999999886, 14.77472999999989, 14.87487999999989, 14.974969999999892, 15.074999999999894, 15.174969999999899, 15.274879999999904, 15.374729999999909, 15.474519999999911, 15.574249999999914, 15.673919999999917, 15.773529999999921, 15.873079999999923, 15.972569999999925, 16.071999999999925, 16.171369999999925, 16.270679999999924, 16.36992999999992, 16.469119999999915, 16.568249999999914, 16.667319999999915, 16.766329999999915, 16.86527999999991, 16.964169999999907, 17.062999999999906, 17.161769999999905, 17.260479999999905, 17.359129999999904, 17.457719999999906, 17.55624999999991, 17.65471999999991, 17.753129999999906, 17.851479999999906, 17.94976999999991, 18.04799999999991, 18.146169999999913, 18.24427999999991, 18.342329999999915, 18.440319999999918, 18.53824999999992, 18.636119999999924, 18.733929999999923, 18.831679999999924, 18.929369999999924, 19.02699999999993, 19.124569999999938, 19.22207999999995, 19.31952999999995, 19.416919999999955, 19.51424999999996, 19.611519999999967, 19.708729999999974, 19.805879999999984, 19.902969999999993]\n"
          ]
        },
        {
          "output_type": "display_data",
          "data": {
            "image/png": "[encoded data removed]",
            "text/plain": [
              "<Figure size 432x288 with 1 Axes>"
            ]
          },
          "metadata": {
            "needs_background": "light"
          }
        }
      ]
    },
    {
      "cell_type": "code",
      "metadata": {
        "id": "SkRi7q-uf7dJ",
        "colab": {
          "base_uri": "https://localhost:8080/"
        },
        "outputId": "16b4264a-21c0-4842-f815-6c0b9700af3e"
      },
      "source": [
        "matriz=np.loadtxt(\"M_sys_3x3.txt\",skiprows=1)\n",
        "b=np.loadtxt(\"V_sys_3x1.txt\",skiprows=1)\n",
        "x_0=np.zeros(3)\n",
        "print('Jacobi:')\n",
        "print(Jacobi(matriz,b,tol=10**(-6),x_0=x_0))\n",
        "print('\\nGauss-Seidel:')\n",
        "print(Gauss_Seidel(matriz,b,tol=10**(-6),x_0=x_0))\n",
        "print('Solucion real:')\n",
        "print(np.linalg.solve(matriz,b))\n"
      ],
      "execution_count": 13,
      "outputs": [
        {
          "output_type": "stream",
          "name": "stdout",
          "text": [
            "Jacobi:\n",
            "numero de iteraciones:  7\n",
            "[ 3.  -2.5  7. ]\n",
            "\n",
            "Gauss-Seidel:\n",
            "numero de iteraciones:  5\n",
            "[ 3.  -2.5  7. ]\n",
            "Solucion real:\n",
            "[ 3.  -2.5  7. ]\n"
          ]
        }
      ]
    },
    {
      "cell_type": "code",
      "metadata": {
        "id": "o4DECXvjh6Ja",
        "colab": {
          "base_uri": "https://localhost:8080/"
        },
        "outputId": "8cdf5c9c-8bcc-43b6-da6d-2a93f09057db"
      },
      "source": [
        "#Algo está pasando.\n",
        "matriz=np.loadtxt(\"M_sys_125x125.txt\",skiprows=1)\n",
        "\n",
        "b=np.loadtxt(\"V_sys_125x1.txt\",skiprows=1)\n",
        "tol=0.05\n",
        "x_0=np.zeros(125)\n",
        "print('Jacobi:')\n",
        "print(Jacobi(matriz,b,tol=10**(-6),x_0=x_0,max_iter=1000))\n",
        "print('\\nGauss-Seidel:')\n",
        "print(Gauss_Seidel(matriz,b,tol=10**(-6),x_0=x_0,max_iter=1000))\n",
        "print('Solucion real:')\n",
        "print(np.linalg.solve(matriz,b))\n",
        "print('\\nError entre Gauss-Seidel y solve():')\n",
        "print(np.linalg.norm(np.linalg.solve(matriz,b)-Gauss_Seidel(matriz,b,tol=10**(-6),x_0=x_0,max_iter=1000)))"
      ],
      "execution_count": 14,
      "outputs": [
        {
          "output_type": "stream",
          "name": "stdout",
          "text": [
            "Jacobi:\n",
            "Iteracion maxima alcanzada\n",
            "\n",
            "Gauss-Seidel:\n",
            "numero de iteraciones:  818\n",
            "[0.60489006 0.56796134 0.00673795 0.60314733 0.59777799 0.58869234\n",
            " 0.48585538 0.37038972 0.00673795 0.19108498 0.57583907 0.07442916\n",
            " 0.60449781 0.12312427 0.5384855  0.44927298 0.3364079  0.20797757\n",
            " 0.59380668 0.38380213 0.05049178 0.52341523 0.2466667  0.5381065\n",
            " 0.00673795 0.15310863 0.57435791 0.36651514 0.44302486 0.14740145\n",
            " 0.57182201 0.58282624 0.00673795 0.51858456 0.50150541 0.55867336\n",
            " 0.1134294  0.08209035 0.21907726 0.39560905 0.24116394 0.35456412\n",
            " 0.60096647 0.55777097 0.08596715 0.11692249 0.18247558 0.14168859\n",
            " 0.21167732 0.17769584 0.27459154 0.32620623 0.49869095 0.47130775\n",
            " 0.42338455 0.47398937 0.49690971 0.27292997 0.43755395 0.41389823\n",
            " 0.3106328  0.38698871 0.54913693 0.00673795 0.00673795 0.53807619\n",
            " 0.44257554 0.48241449 0.44681225 0.28912426 0.4050288  0.35574854\n",
            " 0.26466239 0.13926574 0.5260278  0.00673795 0.00673795 0.32827603\n",
            " 0.19393286 0.00673795 0.5126403  0.05387026 0.08198329 0.29750878\n",
            " 0.46542291 0.35373082 0.34177472 0.49734582 0.07456268 0.09796219\n",
            " 0.47436586 0.18641704 0.49828483 0.1796159  0.12440826 0.38157494\n",
            " 0.24342469 0.44681176 0.00673795 0.08706434 0.41396806 0.00673795\n",
            " 0.07981791 0.4111245  0.38067201 0.13851287 0.15581229 0.31533024\n",
            " 0.31506808 0.22753828 0.24029421 0.36861435 0.23394803 0.29612679\n",
            " 0.25766833 0.4268413  0.32970705 0.40851767 0.55903106 0.00673795\n",
            " 0.5192687  0.26627258 0.06687196 0.1781621  0.466296  ]\n",
            "Solucion real:\n",
            "[0.60490115 0.56797115 0.00673795 0.60315831 0.59778873 0.58870279\n",
            " 0.4858645  0.37039705 0.00673795 0.19108876 0.57584911 0.07443077\n",
            " 0.60450881 0.12312666 0.5384961  0.4492824  0.33641533 0.20798226\n",
            " 0.59381722 0.3838099  0.05049276 0.52342531 0.24667197 0.53811615\n",
            " 0.00673795 0.15311178 0.57436878 0.3665231  0.44303401 0.14740468\n",
            " 0.57183278 0.58283645 0.00673795 0.51859483 0.50151497 0.55868349\n",
            " 0.11343189 0.08209209 0.21908177 0.39561754 0.24116932 0.35457156\n",
            " 0.60097725 0.5577814  0.08596886 0.11692495 0.18247946 0.14169175\n",
            " 0.21168195 0.17769978 0.2745975  0.32621288 0.49870083 0.47131707\n",
            " 0.42339345 0.47399902 0.49691972 0.27293604 0.43756243 0.41390666\n",
            " 0.31063958 0.38699685 0.54914614 0.00673795 0.00673795 0.53808504\n",
            " 0.4425834  0.48242177 0.44681863 0.28912955 0.40503421 0.35575295\n",
            " 0.26466518 0.13926688 0.5260363  0.00673795 0.00673795 0.32827991\n",
            " 0.19393613 0.00673795 0.51264839 0.05387114 0.08198386 0.2975121\n",
            " 0.46542972 0.35373711 0.34178009 0.49735424 0.07456383 0.09796312\n",
            " 0.47437362 0.18641874 0.49829247 0.17961783 0.12441039 0.38157984\n",
            " 0.24342811 0.4468188  0.00673795 0.08706538 0.4139751  0.00673795\n",
            " 0.07981901 0.41113066 0.38067821 0.13851502 0.1558144  0.31533554\n",
            " 0.31507215 0.2275405  0.24029705 0.36861954 0.23395171 0.29613116\n",
            " 0.25767275 0.42684715 0.3297133  0.40852525 0.55904051 0.00673795\n",
            " 0.51927775 0.26627772 0.06687316 0.17816533 0.46630444]\n",
            "\n",
            "Error entre Gauss-Seidel y solve():\n",
            "numero de iteraciones:  1\n",
            "7.252978407349147e-05\n"
          ]
        }
      ]
    }
  ]
}