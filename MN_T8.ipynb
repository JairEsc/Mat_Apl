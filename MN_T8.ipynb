{
  "nbformat": 4,
  "nbformat_minor": 0,
  "metadata": {
    "colab": {
      "name": "Untitled23.ipynb",
      "provenance": [],
      "authorship_tag": "ABX9TyNrEpcJBWFibGZmai5Dw4Ul",
      "include_colab_link": true
    },
    "kernelspec": {
      "name": "python3",
      "display_name": "Python 3"
    },
    "language_info": {
      "name": "python"
    }
  },
  "cells": [
    {
      "cell_type": "markdown",
      "metadata": {
        "id": "view-in-github",
        "colab_type": "text"
      },
      "source": [
        "<a href=\"https://colab.research.google.com/github/JairEsc/Mat_Apl/blob/main/MN_T8.ipynb\" target=\"_parent\"><img src=\"https://colab.research.google.com/assets/colab-badge.svg\" alt=\"Open In Colab\"/></a>"
      ]
    },
    {
      "cell_type": "code",
      "metadata": {
        "id": "6MAiLJD0U9b9"
      },
      "source": [
        "def check_diag_dom(matriz):\n",
        "    n=len(matriz)\n",
        "    diago_dom=True\n",
        "    for i in range(n):\n",
        "        sum=0\n",
        "        for j in range(n):\n",
        "            sum+=matriz[i][j]\n",
        "        if(2*matriz[i][i]<sum):\n",
        "            diago_dom=False;\n",
        "            break;\n",
        "    return (diago_dom)"
      ],
      "execution_count": 3,
      "outputs": []
    },
    {
      "cell_type": "code",
      "metadata": {
        "id": "LiTrL95xYuzp"
      },
      "source": [
        "import math\n",
        "def dist_rel(x,y):#x=(x_1,x_2,...x_n), y=(y_1,y_2,...y_n)\n",
        "    numerador=0\n",
        "    denominador=0\n",
        "    for i in range(len(x)):\n",
        "        numerador+=(x[i]-y[i])**2\n",
        "        denominador+=(x[i])**2\n",
        "    return(math.sqrt(numerador/denominador))"
      ],
      "execution_count": 4,
      "outputs": []
    },
    {
      "cell_type": "code",
      "metadata": {
        "id": "TBe3pFj3WQo0"
      },
      "source": [
        "import numpy as np\n",
        "def Jacobi(matriz,b,tol=10**(-6),max_iter=100,**x_0,):\n",
        "    if(not check_diag_dom(matriz)): \n",
        "        return(\"la matriz no es diagonalmente dominante\")\n",
        "    else:\n",
        "        count=0\n",
        "        n=len(matriz)\n",
        "        if(x_0):\n",
        "            x_0=x_0['x_0']\n",
        "            x_1=np.zeros(n)\n",
        "        else:\n",
        "            x_0=np.zeros(n)\n",
        "            x_1=np.zeros(n)\n",
        "        print(matriz)\n",
        "        print(b)\n",
        "        while(count<=max_iter):\n",
        "            count+=1\n",
        "            for i in range(n):\n",
        "                sum=0\n",
        "                for j in range(n):\n",
        "                    if(j!=i):\n",
        "                        sum+=matriz[i][j]*x_0[j]\n",
        "                x_1[i]=(b[i]-sum)/matriz[i][i]\n",
        "            if(np.linalg.norm(np.array(x_1)-np.array(x_0))<tol):\n",
        "                print(\"numero de iteraciones: \",count)\n",
        "                return (x_1)\n",
        "            else:\n",
        "                x_0=x_1\n",
        "                x_1=np.zeros(n)\n",
        "        "
      ],
      "execution_count": 125,
      "outputs": []
    },
    {
      "cell_type": "code",
      "metadata": {
        "id": "qdyPlF2Pqsx9"
      },
      "source": [
        "def Gauss_Seidel(matriz,b,tol=10**(-6),max_iter=100,**x_0,):\n",
        "    if(not check_diag_dom(matriz)): \n",
        "        return(\"la matriz no es diagonalmente dominante\")\n",
        "    else:\n",
        "        count=0\n",
        "        n=len(matriz)\n",
        "        if(x_0):\n",
        "            x_0=x_0['x_0']\n",
        "        else:\n",
        "            x_0=np.zeros(n)\n",
        "        print(matriz)\n",
        "        print(b)\n",
        "        while(count<=max_iter):\n",
        "            count+=1\n",
        "            x_1=np.copy(x_0)\n",
        "            for i in range(n):\n",
        "                sum=0\n",
        "                for j in range(n):\n",
        "                    if(j!=i):\n",
        "                        sum+=matriz[i][j]*x_0[j]\n",
        "                x_0[i]=(b[i]-sum)/matriz[i][i]\n",
        "            if(np.linalg.norm(np.array(x_1)-np.array(x_0))<tol):\n",
        "                print(\"numero de iteraciones: \",count)\n",
        "                return (x_0)\n",
        "            "
      ],
      "execution_count": 131,
      "outputs": []
    },
    {
      "cell_type": "code",
      "metadata": {
        "colab": {
          "base_uri": "https://localhost:8080/"
        },
        "id": "evr2e7RwaGHV",
        "outputId": "f0a8ca47-0d31-4fc2-efa9-aa90a475f489"
      },
      "source": [
        "matriz=[[10,2,1],[1,5,1],[2,3,10]]\n",
        "b=[7,-8,6]\n",
        "tol=0.05\n",
        "x_0=[0.1,-1.7,0.9]\n",
        "Jacobi(matriz,b,tol=10**(-3),x_0=x_0)"
      ],
      "execution_count": 126,
      "outputs": [
        {
          "output_type": "stream",
          "name": "stdout",
          "text": [
            "[[10, 2, 1], [1, 5, 1], [2, 3, 10]]\n",
            "[7, -8, 6]\n",
            "numero de iteraciones:  8\n"
          ]
        },
        {
          "output_type": "execute_result",
          "data": {
            "text/plain": [
              "array([ 0.99989363, -2.00012224,  0.99984466])"
            ]
          },
          "metadata": {},
          "execution_count": 126
        }
      ]
    },
    {
      "cell_type": "code",
      "metadata": {
        "id": "qjDROas9rWpa",
        "outputId": "23d0c2e8-7788-459f-e3bc-c42224f5be37",
        "colab": {
          "base_uri": "https://localhost:8080/"
        }
      },
      "source": [
        "matriz=[[10,2,1],[1,5,1],[2,3,10]]\n",
        "b=[7,-8,6]\n",
        "tol=0.05\n",
        "x_0=[0.1,-1.7,0.9]\n",
        "Gauss_Seidel(matriz,b,tol=10**(-3),x_0=x_0)"
      ],
      "execution_count": 130,
      "outputs": [
        {
          "output_type": "stream",
          "name": "stdout",
          "text": [
            "[[10, 2, 1], [1, 5, 1], [2, 3, 10]]\n",
            "[7, -8, 6]\n",
            "[ 0.1 -1.7  0.9] [0.95, -1.7, 0.9]\n",
            "[ 0.1 -1.7  0.9] [0.95, -1.97, 0.9]\n",
            "[ 0.1 -1.7  0.9] [0.95, -1.97, 1.001]\n",
            "[ 0.95  -1.97   1.001] [0.9939, -1.97, 1.001]\n",
            "[ 0.95  -1.97   1.001] [0.9939, -1.99898, 1.001]\n",
            "[ 0.95  -1.97   1.001] [0.9939, -1.99898, 1.000914]\n",
            "[ 0.9939   -1.99898   1.000914] [0.9997046, -1.99898, 1.000914]\n",
            "[ 0.9939   -1.99898   1.000914] [0.9997046, -2.00012372, 1.000914]\n",
            "[ 0.9939   -1.99898   1.000914] [0.9997046, -2.00012372, 1.0000961959999999]\n",
            "[ 0.9997046  -2.00012372  1.0000962 ] [1.0000151244, -2.00012372, 1.0000961959999999]\n",
            "[ 0.9997046  -2.00012372  1.0000962 ] [1.0000151244, -2.00002226408, 1.0000961959999999]\n",
            "[ 0.9997046  -2.00012372  1.0000962 ] [1.0000151244, -2.00002226408, 1.000003654344]\n",
            "numero de iteraciones:  4\n"
          ]
        },
        {
          "output_type": "execute_result",
          "data": {
            "text/plain": [
              "[1.0000151244, -2.00002226408, 1.000003654344]"
            ]
          },
          "metadata": {},
          "execution_count": 130
        }
      ]
    },
    {
      "cell_type": "code",
      "metadata": {
        "id": "xT5mICLSdWmy",
        "outputId": "b8361834-dba5-4731-f09a-2e1d8176958c",
        "colab": {
          "base_uri": "https://localhost:8080/"
        }
      },
      "source": [
        "x_0=np.zeros(3)\n",
        "x_0"
      ],
      "execution_count": 30,
      "outputs": [
        {
          "output_type": "execute_result",
          "data": {
            "text/plain": [
              "array([0., 0., 0.])"
            ]
          },
          "metadata": {},
          "execution_count": 30
        }
      ]
    },
    {
      "cell_type": "code",
      "metadata": {
        "colab": {
          "base_uri": "https://localhost:8080/"
        },
        "id": "MGPqiDHAVvrB",
        "outputId": "f4c1bb4a-d54c-4637-e356-bc3a495747f6"
      },
      "source": [
        "A=[[-0.1,1000,-1000],[-1000,0.1,1000],[-1000,1000,0.1]]\n",
        "check_diag_dom(A)"
      ],
      "execution_count": null,
      "outputs": [
        {
          "output_type": "execute_result",
          "data": {
            "text/plain": [
              "False"
            ]
          },
          "metadata": {},
          "execution_count": 11
        }
      ]
    }
  ]
}