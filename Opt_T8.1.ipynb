{
  "nbformat": 4,
  "nbformat_minor": 0,
  "metadata": {
    "colab": {
      "name": "Untitled105.ipynb",
      "provenance": [],
      "authorship_tag": "ABX9TyMIV9cJKnZyYsCCboKekz8g",
      "include_colab_link": true
    },
    "kernelspec": {
      "name": "python3",
      "display_name": "Python 3"
    },
    "language_info": {
      "name": "python"
    }
  },
  "cells": [
    {
      "cell_type": "markdown",
      "metadata": {
        "id": "view-in-github",
        "colab_type": "text"
      },
      "source": [
        "<a href=\"https://colab.research.google.com/github/JairEsc/Mat_Apl/blob/main/Opt_T8.1.ipynb\" target=\"_parent\"><img src=\"https://colab.research.google.com/assets/colab-badge.svg\" alt=\"Open In Colab\"/></a>"
      ]
    },
    {
      "cell_type": "markdown",
      "source": [
        "Se define $g:\\mathbb{R}^n\\times \\mathbb{R}^n⟶ \\mathbb{R}$ como\n",
        "\n",
        "$$g\\left(\\alpha^{j}, \\mu^{j}\\right)=\\sum_{c \\in \\Omega}\\left[h^{j}(c)-\\sum_{i=1}^n \\alpha_{i}^{j} \\exp \\left(\\frac{-\\left\\|c-\\mu_{i}^{j}\\right\\|_{2}^{2}}{2 \\sigma^{2}}\\right)\\right]^{2}$$\n",
        "Para $j=1,2$,\n",
        "\n",
        "$\\alpha^{j}=\\left[\\alpha_{1}^{j}, \\alpha_{2}^{j}, \\ldots, \\alpha_{n}^{j}\\right]$ son los pesos de la combinación lineal de la base radial. \n",
        "\n",
        "$\\mu^{j}=\\left[\\mu_{1}^{j}, \\mu_{2}^{j}, \\ldots, \\mu_{n}^{j}\\right]$ son las medias de los elementos de la base radial. I.e. $\\mu^{j}_{i}\\in\\mathbb{R}^3$\n",
        "\n",
        "Parámetros como los histogramas $h^j$, un espacio de colores $\\Omega=\\{0,1,\\ldots,b\\}^3$ y un parámetro de amplitud $\\sigma$ se consideran dados y fijos.\n",
        "\n",
        "Nota: En la tarea se especifica $\\mu^j\\in\\mathbb{R}^n$, así que supondré que $c-\\mu_i^j$ significa $c-\\mu_i^j(1,1,1)^T$."
      ],
      "metadata": {
        "id": "2RECqtILcNkw"
      }
    },
    {
      "cell_type": "code",
      "source": [
        "hist_obj=np.loadtxt('H_0.txt',skiprows=1)\n",
        "np.std(hist_obj)"
      ],
      "metadata": {
        "colab": {
          "base_uri": "https://localhost:8080/"
        },
        "id": "7UlCG0xY_IJa",
        "outputId": "4e42e957-c431-4edc-8ff3-04efa8676161"
      },
      "execution_count": 60,
      "outputs": [
        {
          "output_type": "execute_result",
          "data": {
            "text/plain": [
              "113.34805894627587"
            ]
          },
          "metadata": {},
          "execution_count": 60
        }
      ]
    },
    {
      "cell_type": "code",
      "execution_count": 92,
      "metadata": {
        "colab": {
          "base_uri": "https://localhost:8080/"
        },
        "id": "A3kzFK77cGeP",
        "outputId": "015e4d3e-761f-4e73-a061-c357fe4898f6"
      },
      "outputs": [
        {
          "output_type": "stream",
          "name": "stdout",
          "text": [
            "1123895040.5775542\n",
            "iter 1000\n",
            "iter 171\n",
            "[ 3698.0388068     75.61184653   -24.12458929   591.0102304\n",
            " -1018.33930575  1968.19042774]\n",
            "iter 0\n",
            "iter 0\n",
            "[ 3698.0388068     75.61184653   -24.12458929   591.0102304\n",
            " -1018.33930575  1968.19042774]\n"
          ]
        }
      ],
      "source": [
        "import numpy as np\n",
        "sigma_sq=100**2\n",
        "n_bins=8\n",
        "hist_obj=np.loadtxt('H_0.txt',skiprows=1)\n",
        "hist_fondo=np.loadtxt('H_1.txt',skiprows=1)\n",
        "def h(c,obj):\n",
        "    if(obj=='obj'):\n",
        "        return hist_obj[int(c[0]*(n_bins)**2+c[1]*(n_bins)+c[2])]\n",
        "    else:\n",
        "        return hist_fondo[int(c[0]*(n_bins)**2+c[1]*(n_bins)+c[2])]\n",
        "obj='fondo'\n",
        "def comb_base(Alpha_Mu,c):\n",
        "    n=int(len(Alpha_Mu)/2)\n",
        "    suma=0\n",
        "    for i in range(n):\n",
        "        suma+=Alpha_Mu[i]*np.exp(-(np.linalg.norm(c-Alpha_Mu[n+i])**2)/(2*sigma_sq))\n",
        "    return suma\n",
        "def fun_obj(Alpha_Mu):\n",
        "    g=0\n",
        "    for r in range(n_bins):\n",
        "        for gr in range(n_bins):\n",
        "            for b in range(n_bins):\n",
        "                #c=(r,g,b)\n",
        "                c=np.array([int(r),int(gr),int(b)])\n",
        "                g+=(h(c=c,obj=obj)-comb_base(Alpha_Mu,c))**2\n",
        "    return g\n",
        "def GC(f,grad_f,Hessian_f,x_0,tol_g=10**(-5),max_iter=10**3):\n",
        "    n=len(x_0)#Dimension del espacio\n",
        "    d_0=-grad_f(x_0)\n",
        "    k=0\n",
        "    while(np.linalg.norm(grad_f(x_0))>=tol_g and k<max_iter):\n",
        "        H=Hessian_f(x_0)\n",
        "        alpha_k_gc=-(np.dot(grad_f(x_0),d_0))/(np.dot(d_0,np.dot(H,d_0)))#Tam. de paso\n",
        "        x_0=x_0+alpha_k_gc*d_0\n",
        "        g_km1=grad_f(x_0)\n",
        "        beta_k_gc=(np.dot(d_0,np.dot(H,g_km1))/(np.dot(d_0,np.dot(H,d_0))))\n",
        "        d_0=-g_km1+beta_k_gc*d_0\n",
        "        k+=1\n",
        "    print(\"iter\",k)\n",
        "    return x_0\n",
        "from scipy import optimize\n",
        "n=4 #Base radial\n",
        "def grad_f(Alpha_Mu):\n",
        "    return optimize.approx_fprime(xk=Alpha_Mu, f=fun_obj,epsilon=10**(-6))\n",
        "def Hessian_f(Alpha_Mu):\n",
        "  N = len(Alpha_Mu)\n",
        "  hessian = np.zeros((N,N)) \n",
        "  gd_0 = grad_f(Alpha_Mu)\n",
        "  eps = np.linalg.norm(gd_0)*10**(-6)\n",
        "  for i in range(N):\n",
        "    xx0 = 1.*Alpha_Mu[i]\n",
        "    Alpha_Mu[i] = xx0 + eps\n",
        "    gd_1 =  grad_f(Alpha_Mu)\n",
        "    hessian[:,i] = ((gd_1 - gd_0)/eps)\n",
        "    Alpha_Mu[i] =xx0\n",
        "  return hessian\n",
        "def optimizador_alternado(Alpha_Mu_0,tol_g=10**(-3),max_iter=10**3):\n",
        "    #Definir gradientes parciales g_alpha_k, g_mu_k\n",
        "    #minimizar g(g_alpha_k,g_mu_k) como función de g_alpha_k\n",
        "    #Ese minimo es alpha_k+1\n",
        "    #minimizar g(g_alpha_k+1,g_mu_k) como función de g_mu_k\n",
        "    #Ese minimo es mu_k+1\n",
        "    k=0\n",
        "    n=int(len(Alpha_Mu_0)/2)\n",
        "    Alpha_0, Mu_0=np.split(np.array(Alpha_Mu_0),2) #Condicion inicial\n",
        "    print(fun_obj(Alpha_Mu_0))\n",
        "    #while(np.linalg.norm(grad_g)>tol_g):\n",
        "    for i in range(2):\n",
        "        def fun_obj_alpha(Alpha_1):\n",
        "            return fun_obj(np.concatenate((Alpha_1,Mu_0)))\n",
        "        def fun_obj_mu(Mu_1):\n",
        "            return fun_obj(np.concatenate((Alpha_0,Mu_1)))\n",
        "        def grad_fun_obj_alpha(Alpha_1):\n",
        "            return np.split(grad_f(np.concatenate((Alpha_1,Mu_0))),2)[0]\n",
        "        def grad_fun_obj_mu(Mu_1):\n",
        "            return np.split(grad_f(np.concatenate((Alpha_0,Mu_1))),2)[1]\n",
        "        def Hessian_fun_obj_alpha(Alpha_1):\n",
        "            return np.array(Hessian_f(np.concatenate((Alpha_1,Mu_0))))[0:n,0:n]\n",
        "        def Hessian_fun_obj_mu(Mu_1):\n",
        "            return np.array(Hessian_f(np.concatenate((Alpha_0,Mu_1))))[n:,n:]\n",
        "        Alpha_1=GC(f=fun_obj_alpha,grad_f=grad_fun_obj_alpha, Hessian_f=Hessian_fun_obj_alpha,x_0=np.array(Alpha_0))#Calcular minimo.\n",
        "        Alpha_0=Alpha_1#Actualizamos\n",
        "        \n",
        "        Mu_1=GC(f=fun_obj_mu,grad_f=grad_fun_obj_mu, Hessian_f=Hessian_fun_obj_mu,x_0=np.array(Mu_0))#Calcular minimo.\n",
        "        Mu_0=Mu_1 #Actualizamos\n",
        "        #Eso fue una iteracion\n",
        "        #print(fun_obj(np.concatenate((Alpha_0,Mu_0))))\n",
        "        print(np.concatenate((Alpha_0,Mu_0)))\n",
        "optimizador_alternado(Alpha_Mu_0=[4000,1100,5500,180,150,100]) "
      ]
    },
    {
      "cell_type": "code",
      "source": [
        "optimizador_alternado(Alpha_Mu_0=[-2.31492331e+06 , 2.75968981e+08, -9.06024982e+01 ,-1.31547659e+06,\n",
        "  7.49159879e+06,  2.31003799e+03]) "
      ],
      "metadata": {
        "colab": {
          "base_uri": "https://localhost:8080/"
        },
        "id": "_bSsQjHvT6aa",
        "outputId": "832834fe-99d9-4194-ed9b-d299dc31d429"
      },
      "execution_count": 89,
      "outputs": [
        {
          "output_type": "stream",
          "name": "stdout",
          "text": [
            "6759229.0\n",
            "iter 0\n",
            "iter 0\n",
            "[-2.31492331e+06  2.75968981e+08 -9.06024982e+01 -1.31547659e+06\n",
            "  7.49159879e+06  2.31003799e+03]\n",
            "iter 0\n",
            "iter 0\n",
            "[-2.31492331e+06  2.75968981e+08 -9.06024982e+01 -1.31547659e+06\n",
            "  7.49159879e+06  2.31003799e+03]\n"
          ]
        }
      ]
    },
    {
      "cell_type": "code",
      "source": [
        "fun_obj([-2.31492331e+06 , 2.75968981e+08, -9.06024982e+01 ,-1.31547659e+06,\n",
        "  7.49159879e+06,  2.31003799e+03])\n",
        "fun_obj([ 3698.0388068   ,  75.61184653 ,  -24.12458929 ,  591.0102304,\n",
        " -1018.33930575 , 1968.19042774])"
      ],
      "metadata": {
        "colab": {
          "base_uri": "https://localhost:8080/"
        },
        "id": "a2bED24NTn0u",
        "outputId": "e607f9a5-949c-46c6-8ebd-976f07b3fd67"
      },
      "execution_count": 93,
      "outputs": [
        {
          "output_type": "execute_result",
          "data": {
            "text/plain": [
              "106410867.0"
            ]
          },
          "metadata": {},
          "execution_count": 93
        }
      ]
    },
    {
      "cell_type": "code",
      "source": [
        "def clasificacion_fondo_objeto():\n",
        "    #recorrido sobre la imagen \n",
        "    row=10\n",
        "    col=10\n",
        "    img=[[]]\n",
        "    for i in range(row):\n",
        "        for j in range(col):\n",
        "            #get color:\n",
        "            c=img[i,j] #vector 3x1\n",
        "            #decision:\n",
        "            if((comb_base(Alpha_Mu=Alpha_Mu_obj,c=c)+0.01/(comb_base(Alpha_Mu=Alpha_Mu_obj,c=c)+comb_base(Alpha_Mu=Alpha_Mu_fondo,c=c)+0.02))>=.5):\n",
        "                img[i,j,0]=255\n",
        "                img[i,j,1]=0\n",
        "                img[i,j,2]=0#Colorear\n",
        "            else:\n",
        "                img[i,j,0]=0\n",
        "                img[i,j,1]=0\n",
        "                img[i,j,2]=255#Colorear"
      ],
      "metadata": {
        "id": "gMux0ojkOZNJ"
      },
      "execution_count": null,
      "outputs": []
    },
    {
      "cell_type": "code",
      "source": [
        "def print_seleccion(img):\n",
        "    for i in range(500):\n",
        "        for j in range(500):\n",
        "            c=img[i,j] #(es un vector)\n",
        "            #Asignar etiqueta a ese pixel\n",
        "            img[i,j,0]=255\n",
        "            img[i,j,1]=0\n",
        "            img[i,j,2]=0\n",
        "    return img"
      ],
      "metadata": {
        "id": "PUJzH_XOc9W8"
      },
      "execution_count": 16,
      "outputs": []
    },
    {
      "cell_type": "code",
      "source": [
        "import matplotlib.pyplot as plt\n",
        "import matplotlib.image as mpimg\n",
        "img = mpimg.imread('Strokes.png')\n",
        "imgplot = plt.imshow(print_seleccion(img))\n",
        "plt.show()"
      ],
      "metadata": {
        "colab": {
          "base_uri": "https://localhost:8080/",
          "height": 286
        },
        "id": "_T_INCNlc7C-",
        "outputId": "62de89d4-da47-4dbf-bed0-05c17c2029b2"
      },
      "execution_count": 17,
      "outputs": [
        {
          "output_type": "stream",
          "name": "stderr",
          "text": [
            "Clipping input data to the valid range for imshow with RGB data ([0..1] for floats or [0..255] for integers).\n"
          ]
        },
        {
          "output_type": "display_data",
          "data": {
            "text/plain": [
              "<Figure size 432x288 with 1 Axes>"
            ],
            "image/png": "[encoded data removed]"
          },
          "metadata": {
            "needs_background": "light"
          }
        }
      ]
    }
  ]
}