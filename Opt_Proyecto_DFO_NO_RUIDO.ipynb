{
  "nbformat": 4,
  "nbformat_minor": 0,
  "metadata": {
    "colab": {
      "name": "Untitled110.ipynb",
      "provenance": [],
      "authorship_tag": "ABX9TyM7XPg2Rg3rUgUnMgXJG4j/",
      "include_colab_link": true
    },
    "kernelspec": {
      "name": "python3",
      "display_name": "Python 3"
    },
    "language_info": {
      "name": "python"
    }
  },
  "cells": [
    {
      "cell_type": "markdown",
      "metadata": {
        "id": "view-in-github",
        "colab_type": "text"
      },
      "source": [
        "<a href=\"https://colab.research.google.com/github/JairEsc/Mat_Apl/blob/main/Opt_Proyecto_DFO_NO_RUIDO.ipynb\" target=\"_parent\"><img src=\"https://colab.research.google.com/assets/colab-badge.svg\" alt=\"Open In Colab\"/></a>"
      ]
    },
    {
      "cell_type": "code",
      "execution_count": 10,
      "metadata": {
        "id": "xIq935OahJhP"
      },
      "outputs": [],
      "source": [
        "import numpy as np\n",
        "import scipy.optimize\n",
        "import matplotlib.pyplot as plt\n"
      ]
    },
    {
      "cell_type": "code",
      "source": [
        "def BFGS(s_k,y_k,g_k,H_k):\n",
        "    n=len(s_k)\n",
        "    I=np.identity(n)\n",
        "    rho=1/max(np.dot(s_k,y_k),10**(-8))\n",
        "    M_1=np.outer(s_k,y_k)\n",
        "    M_2=np.outer(y_k,s_k)\n",
        "    H_k_m=np.dot((I-rho*M_1),np.dot(H_k,(I-rho*M_2)))+rho*np.outer(s_k,s_k)\n",
        "    return H_k_m\n",
        "def L_BFGS(S,Y,g):#Checar las posibles divisiones por cero\n",
        "    n=len(g)\n",
        "    m=len(S)\n",
        "    #supondremos H_0 un multiplo de la identidad\n",
        "    H_0=(np.dot(S[-1],Y[-1])/(np.dot(Y[-1],Y[-1])))*np.identity(n)#Dado en clase.\n",
        "    q=g\n",
        "    alphas=[]\n",
        "    for i in range(m):\n",
        "        alphas.append((1/max(10**(-6),np.dot(S[m-1-i],Y[m-1-i])))*np.dot(S[m-1-i],q))\n",
        "        q=q-alphas[i]*Y[m-1-i]\n",
        "    r=np.dot(H_0,q)\n",
        "    for i in range(m):\n",
        "        beta=(1/max(10**(-6),np.dot(Y[i],Y[i])))*np.dot(Y[i],r)\n",
        "        r=r+S[i]*(alphas[m-1-i]-beta)#aproximacion de -H*g\n",
        "    return r"
      ],
      "metadata": {
        "id": "dDfa8epfhLTz"
      },
      "execution_count": 152,
      "outputs": []
    },
    {
      "cell_type": "code",
      "source": [
        "def Rosembrok(X):#X es un vector.\n",
        "    return (np.sum(100*(X[1:]-X[:-1]**2)**2+(1-X[:-1])**2))#+10**(-3)*np.random.uniform(0,1))#Ruido\n",
        "def Rosembrok_grad(X):\n",
        "    return scipy.optimize.approx_fprime(f=Rosembrok,xk=X,epsilon=10**(-4))\n",
        "def Rosembrok_Hessian(X):\n",
        "    M=[]\n",
        "    #Renglon 1\n",
        "    D=np.zeros(len(X))\n",
        "    D[0]=(-400*(X[1]-X[0]**2)+800*(X[0]**2)+2)\n",
        "    D[1]=-400*(X[1])\n",
        "    M.append(D)\n",
        "    #Renglon 2<i<n\n",
        "    for i in range(1,len(X)-1):\n",
        "        D=np.zeros(len(X))\n",
        "        D[i]=(-400*(X[i+1]-X[i]**2)+800*(X[i]**2)+202)\n",
        "        D[i-1]=-400*X[i-1]\n",
        "        D[i+1]=-400*X[i]\n",
        "        M.append(D)\n",
        "    #Renglon n\n",
        "    D=np.zeros(len(X))\n",
        "    D[-2]=-400*X[-2]\n",
        "    D[-1]=200\n",
        "    M.append(D)\n",
        "    return M"
      ],
      "metadata": {
        "id": "5PCyQD6IhQwF"
      },
      "execution_count": 129,
      "outputs": []
    },
    {
      "cell_type": "code",
      "source": [
        "def relaxed_Wolfe(x_k,f,fprime,d,e_f,c_1=0.001,c_2=0.9,max_iter=10**4):##Intenté usar scipy.line_search(), pero Strong Wolfe son dificiles de satisfacerse\n",
        "    #Metodo visto en clase.\n",
        "    iter=0\n",
        "    alpha_0=1\n",
        "    alpha=0\n",
        "    grad_f_k=fprime(x_k)\n",
        "    f_k=f(x_k)\n",
        "    beta=np.inf\n",
        "    alpha_i=alpha_0\n",
        "    for i in range(max_iter):\n",
        "        if(f(x_k+alpha_i*d)>f_k+c_1*alpha_i*np.dot(grad_f_k,d)+2*e_f):#Aqui esta la condicion relajada, dado e_f estimacion del error estandar.\n",
        "            beta=alpha_i\n",
        "            alpha_i=0.5*(alpha+beta)\n",
        "        else:\n",
        "            if(np.dot(fprime(x_k+alpha_i*d),d)<c_2*np.dot(grad_f_k,d)):\n",
        "                alpha=alpha_i\n",
        "                if(beta==np.inf):\n",
        "                    alpha_i=2*alpha\n",
        "                else:\n",
        "                    0.5*(alpha+beta)\n",
        "            else:\n",
        "                break\n",
        "    if(i==max_iter):\n",
        "        print(\"F\")\n",
        "    return alpha_i"
      ],
      "metadata": {
        "id": "oYO3uZVZoyXN"
      },
      "execution_count": 95,
      "outputs": []
    },
    {
      "cell_type": "code",
      "source": [
        "def ros_chiquito(f,x_0,tol_g=10**(-4),max_iter=10**2):\n",
        "    #----------------------\n",
        "    #Listas\n",
        "    iter=0\n",
        "    GG=[]\n",
        "    Y=[]\n",
        "    S=[]\n",
        "    #----------------------\n",
        "    #----------------------\n",
        "    g_0=Rosembrok_grad(x_0)#Gradiente REAL\n",
        "    alpha_k=scipy.optimize.line_search(f=f,myfprime=Rosembrok_grad,xk=x_0,pk=-g_0)[0]#line_search\n",
        "    x_1=x_0-alpha_k*g_0#Primera direccion de descenso es -grad(x_0)\n",
        "    g_1=Rosembrok_grad(x_1)\n",
        "    #----------------------\n",
        "    y_k=(g_1-g_0)#diferencia de gradientes\n",
        "    s_k=-alpha_k*g_0#diferencia de x's\n",
        "    Y.append(y_k)\n",
        "    S.append(s_k)\n",
        "    d_k_r=-np.dot(np.linalg.inv(Rosembrok_Hessian(x_0)),g_0)#Direccion de Newton REAL\n",
        "    #comp=[np.linalg.norm(d_k_r+g_0)]#Lista para compararlos\n",
        "    H_k=(np.dot(s_k,y_k)/(np.dot(y_k,y_k)))*np.identity(n)#Dado en clase.\n",
        "    #----------------------\n",
        "    while(np.linalg.norm(g_1)>tol_g and iter<max_iter):\n",
        "        x_0=x_1\n",
        "        g_0=g_1\n",
        "        #H_k_m=BFGS(s_k=s_k,y_k=y_k,g_k=0,H_k=H_k)\n",
        "        #d_k_r=-np.dot(np.linalg.inv(Rosembrok_Hessian(x_0)),g_0)\n",
        "        d_k_l=-L_BFGS(S=S,Y=Y,g=g_1)\n",
        "        #d_k=-np.dot(H_k_m,g_0)\n",
        "        alpha_k_try=scipy.optimize.line_search(f=f,myfprime=Rosembrok_grad,xk=x_0,pk=d_k_l,)[0] #line_search\n",
        "        if(alpha_k_try!=None):\n",
        "            alpha_k=alpha_k_try\n",
        "        x_1=x_0+alpha_k*d_k_l#\n",
        "        g_1=Rosembrok_grad(x_1)\n",
        "        iter+=1\n",
        "        #H_k=H_k_m\n",
        "        y_k=(g_1-g_0)#diferencia de gradientes\n",
        "        s_k=alpha_k*d_k_l#diferencia de x's\n",
        "        Y.append(y_k)\n",
        "        S.append(s_k)\n",
        "        #print(np.linalg.norm(d_k-d_k_l))\n",
        "\n",
        "        GG.append(np.linalg.norm(g_1))\n",
        "    print(\"norm:\",GG[-1])\n",
        "    #print(\"comp:\",comp[-1])\n",
        "    plt.plot(GG)\n",
        "    plt.show()\n",
        "    return x_1"
      ],
      "metadata": {
        "id": "C9FQsyNBhUUi"
      },
      "execution_count": 158,
      "outputs": []
    },
    {
      "cell_type": "code",
      "source": [
        "n=20\n",
        "x_0=np.random.uniform(.7,1.3,size=n)\n",
        "ros_chiquito(f=Rosembrok,x_0=x_0,tol_g=10**(-4),max_iter=100)"
      ],
      "metadata": {
        "colab": {
          "base_uri": "https://localhost:8080/",
          "height": 386
        },
        "id": "jLGkuztZiO1m",
        "outputId": "179e7010-6a31-4360-ca6e-ab0ba5585226"
      },
      "execution_count": 160,
      "outputs": [
        {
          "output_type": "stream",
          "name": "stderr",
          "text": [
            "/usr/local/lib/python3.7/dist-packages/scipy/optimize/linesearch.py:314: LineSearchWarning: The line search algorithm did not converge\n",
            "  warn('The line search algorithm did not converge', LineSearchWarning)\n"
          ]
        },
        {
          "output_type": "stream",
          "name": "stdout",
          "text": [
            "norm: 5.03255850761624e-05\n"
          ]
        },
        {
          "output_type": "display_data",
          "data": {
            "text/plain": [
              "<Figure size 432x288 with 1 Axes>"
            ],
            "image/png": "[encoded data removed]"
          },
          "metadata": {
            "needs_background": "light"
          }
        },
        {
          "output_type": "execute_result",
          "data": {
            "text/plain": [
              "array([0.99985073, 0.99980094, 0.99977588, 0.9997629 , 0.99975547,\n",
              "       0.9997498 , 0.99974309, 0.99973196, 0.99971076, 0.99966887,\n",
              "       0.99958505, 0.99941709, 0.99908028, 0.99840499, 0.99705163,\n",
              "       0.99434214, 0.98892839, 0.97815507, 0.95688911, 0.91558669])"
            ]
          },
          "metadata": {},
          "execution_count": 160
        }
      ]
    }
  ]
}