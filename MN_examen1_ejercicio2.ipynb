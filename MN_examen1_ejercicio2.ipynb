{
  "nbformat": 4,
  "nbformat_minor": 0,
  "metadata": {
    "colab": {
      "name": "Untitled45.ipynb",
      "provenance": [],
      "authorship_tag": "ABX9TyMt/d6qyAOVAXnHXHYiSrAY",
      "include_colab_link": true
    },
    "kernelspec": {
      "name": "python3",
      "display_name": "Python 3"
    },
    "language_info": {
      "name": "python"
    }
  },
  "cells": [
    {
      "cell_type": "markdown",
      "metadata": {
        "id": "view-in-github",
        "colab_type": "text"
      },
      "source": [
        "<a href=\"https://colab.research.google.com/github/JairEsc/Mat_Apl/blob/main/MN_examen1_ejercicio2.ipynb\" target=\"_parent\"><img src=\"https://colab.research.google.com/assets/colab-badge.svg\" alt=\"Open In Colab\"/></a>"
      ]
    },
    {
      "cell_type": "code",
      "metadata": {
        "id": "cyUP_xby5wYe"
      },
      "source": [
        "import numpy as np\n",
        "from numba import njit\n",
        "@njit  \n",
        "def factorizar_LU_numba(matriz):\n",
        "    n=len(matriz)\n",
        "    L=np.zeros((n,n))\n",
        "    U=np.zeros((n,n))\n",
        "    for j in range(n):\n",
        "        for i in range(j,n):\n",
        "            sum=0\n",
        "            for k in range(i):\n",
        "                sum+=L[i,k]*U[k,j]\n",
        "            L[i,j]=matriz[i,j]-sum\n",
        "            \n",
        "            if(i>j):\n",
        "                sum=0\n",
        "                for k in range(j):\n",
        "                    sum+=L[j,k]*U[k,i]\n",
        "                U[j,i]=(matriz[j,i]-sum)/L[j,j]\n",
        "            else: \n",
        "                U[i,j]=1 \n",
        "                if(L[i,i]==0):\n",
        "                    print(\"Error en la construcción de L\")\n",
        "    return([L,U])\n",
        "        "
      ],
      "execution_count": null,
      "outputs": []
    },
    {
      "cell_type": "code",
      "metadata": {
        "id": "sNGdIcP5_XTa"
      },
      "source": [
        "@njit \n",
        "def superior_numba(list,b):\n",
        "  n=len(list)\n",
        "  X=np.zeros(n)\n",
        "  X[n-1]=b[n-1]/list[n-1,n-1]\n",
        "  for i in range(1,n):#len(list) es el número de renglones de la matriz\n",
        "    acum=0\n",
        "    for j in range(i):#0<=j<=i-1 \n",
        "      acum+=X[n-1-j]*list[n-i-1,n-1-j]\n",
        "    X[n-1-i]=((b[n-1-i]-acum)/list[n-1-i,n-1-i])\n",
        "    \n",
        "  return X\n",
        "@njit\n",
        "def inferior(list,b):#list debe contener las entradas de la matriz triangular.\n",
        "#Será aceptable introducir un arreglo de arreglos de distintos tamaños, para solo introducir las entradas no cero.\n",
        "  X=[b[0]/list[0][0]]\n",
        "  for i in range(1,len(list)):#len(list) es el número de renglones de la matriz\n",
        "    acum=0\n",
        "    for j in range(i):#0<=j<=i-1 \n",
        "      acum+=X[j]*list[i][j]\n",
        "    X.append((b[i]-acum)/list[i][i])\n",
        "  return X\n",
        "def solve(L_m,U_m,b):\n",
        "    y=inferior(L_m,b)#Resolver Ly=b\n",
        "    return(superior_numba(U_m,y))#Resolver Ux=y"
      ],
      "execution_count": null,
      "outputs": []
    },
    {
      "cell_type": "code",
      "metadata": {
        "colab": {
          "base_uri": "https://localhost:8080/"
        },
        "id": "FEpAa37819s9",
        "outputId": "3f3a50e2-05f2-4a8c-e5c2-109b6e503932"
      },
      "source": [
        "A=np.loadtxt(\"A_1000.mtx\",skiprows=1)\n",
        "L,U=factorizar_LU_numba(A)\n",
        "#Verificacion\n",
        "def matrices_iguales(A,B,tol):#Funcion que verifica que dos matrices sean iguales salvo una tolerancia\n",
        "    n=len(A)\n",
        "    boolean=True\n",
        "    if(n!=len(B)):\n",
        "        print(\"ni siquiera son del mismo tam.\")\n",
        "    for i in range(n):\n",
        "        if(boolean==True):\n",
        "            for j in range(n):\n",
        "                if(abs(B[i,j]-A[i,j])>tol):\n",
        "                    boolean=False;\n",
        "                    break;\n",
        "        else:\n",
        "            break;\n",
        "    return(boolean)\n",
        "print(\"La descomposicion es correcta con tolerancia 10**(-6): \",matrices_iguales(A,np.dot(L,U),tol=10**(-6)))\n",
        "A_inv=[]\n",
        "for i in range(1000):\n",
        "    b=np.zeros(1000)\n",
        "    b[i]=1\n",
        "    A_inv.append(solve(L_m=L,U_m=U,b=b))\n",
        "identidad_approximada=np.dot(A,np.array(A_inv).T)\n",
        "identidad=np.identity(1000)\n",
        "print(\"La inversa es correcta con tolerancia 10**(-6): \",matrices_iguales(identidad,identidad_approximada,tol=10**(-6)))"
      ],
      "execution_count": null,
      "outputs": [
        {
          "output_type": "stream",
          "name": "stdout",
          "text": [
            "La descomposicion es correcta con tolerancia 10**(-6):  True\n",
            "La inversa es correcta con tolerancia 10**(-6):  True\n"
          ]
        }
      ]
    },
    {
      "cell_type": "code",
      "metadata": {
        "id": "Lp1S6sNsIgbu"
      },
      "source": [
        "#Guardar la matriz\n",
        "fo = open(f\"A_inverse.txt\", \"w\")\n",
        "fo.write(str(1000)+\" \"+str(1000)+\"\\n\")#Add size\n",
        "np.savetxt(fo, np.array(A_inv).T, fmt='%1.9e', comments='')\n",
        "\n",
        "fo.close()"
      ],
      "execution_count": 144,
      "outputs": []
    },
    {
      "cell_type": "code",
      "metadata": {
        "colab": {
          "base_uri": "https://localhost:8080/"
        },
        "id": "mua-6DdkJ3cw",
        "outputId": "0371559f-3b1a-421e-9417-237d2f04ce56"
      },
      "source": [
        "b=np.loadtxt(\"b_1000.vec\",skiprows=1)\n",
        "x_sol=np.dot(np.array(A_inv).T,b)\n",
        "print(\"error ||Ax-b|| : \",np.linalg.norm(np.dot(A,x_sol)-b))"
      ],
      "execution_count": 127,
      "outputs": [
        {
          "output_type": "stream",
          "name": "stdout",
          "text": [
            "error ||Ax-b|| :  1.042980169448857e-12\n"
          ]
        }
      ]
    },
    {
      "cell_type": "code",
      "metadata": {
        "id": "cNJuKUbuKVvU"
      },
      "source": [
        "#Guardar la solucion\n",
        "fo = open(f\"x_sol.txt\", \"w\")\n",
        "fo.write(str(1000)+\"\\n\")#Add size\n",
        "np.savetxt(fo, x_sol, fmt='%1.9e', comments='')\n",
        "fo.close()"
      ],
      "execution_count": 147,
      "outputs": []
    }
  ]
}