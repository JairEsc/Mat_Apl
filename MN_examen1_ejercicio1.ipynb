{
  "nbformat": 4,
  "nbformat_minor": 0,
  "metadata": {
    "colab": {
      "name": "Untitled44.ipynb",
      "provenance": [],
      "authorship_tag": "ABX9TyP4aujAjuRy++VeYfUg4YMe",
      "include_colab_link": true
    },
    "kernelspec": {
      "name": "python3",
      "display_name": "Python 3"
    },
    "language_info": {
      "name": "python"
    }
  },
  "cells": [
    {
      "cell_type": "markdown",
      "metadata": {
        "id": "view-in-github",
        "colab_type": "text"
      },
      "source": [
        "<a href=\"https://colab.research.google.com/github/JairEsc/Mat_Apl/blob/main/MN_examen1_ejercicio1.ipynb\" target=\"_parent\"><img src=\"https://colab.research.google.com/assets/colab-badge.svg\" alt=\"Open In Colab\"/></a>"
      ]
    },
    {
      "cell_type": "code",
      "metadata": {
        "id": "15dryjF90M8t"
      },
      "source": [
        "\n",
        "def Newton_modificado(f,f_p,f_pp,x_0,tol_x=10**(-10),tol_f=10**(-8)):#La funcion y sus derivadas son dadas por el usuario\n",
        "    x_1=x_0+(f_p(x_0)*f(x_0))/(f(x_0)*f_pp(x_0)-(f_p(x_0))**2)#Primera iteracion\n",
        "    print(\"Iteracion    |  x_k  |       |f(x_k)|  |\")\n",
        "    print(0,\" \"*10,\"{:.6f}\".format(x_0),\" \"*5, \"{:.6f}\".format(abs(f(x_0))))\n",
        "    print(1,\" \"*10, \"{:.6f}\".format(x_1),\" \"*5, \"{:.6f}\".format(abs(f(x_1))))\n",
        "    count=1\n",
        "    while((abs(f(x_1))>tol_f) & (abs(x_0-x_1)>tol_x)):\n",
        "        x_0=x_1\n",
        "        x_1=x_1+(f_p(x_1)*f(x_1))/(f(x_1)*f_pp(x_1)-(f_p(x_1))**2)\n",
        "        count+=1   \n",
        "        print(count,\" \"*10, \"{:.6f}\".format(x_1),\" \"*5, \"{:.6f}\".format(abs(f(x_1))))\n",
        "\n",
        "    \n",
        "    print(\"\\nNumero de iteraciones: \", count)\n",
        "    return(x_1)"
      ],
      "execution_count": 106,
      "outputs": []
    },
    {
      "cell_type": "code",
      "metadata": {
        "colab": {
          "base_uri": "https://localhost:8080/"
        },
        "id": "xm--UtVd1Se7",
        "outputId": "e35ee78a-3a64-4e55-9be4-452957c1c724"
      },
      "source": [
        "def f(x):\n",
        "    return (math.exp(2*x-2)-2*x+1)\n",
        "def f_p(x):\n",
        "    return (2*math.exp(2*x-2)-2)\n",
        "def f_pp(x):\n",
        "    return(4*math.exp(2*x-2))\n",
        "Newton_modificado(f,f_p,f_pp,x_0=0.5)"
      ],
      "execution_count": 108,
      "outputs": [
        {
          "output_type": "stream",
          "name": "stdout",
          "text": [
            "Iteracion    |  x_k  |       |f(x_k)|  |\n",
            "0            0.500000       0.367879\n",
            "0            0.940023       0.006915\n",
            "2            0.998848       0.000003\n",
            "3            1.000000       0.000000\n",
            "\n",
            "Numero de iteraciones:  3\n"
          ]
        },
        {
          "output_type": "execute_result",
          "data": {
            "text/plain": [
              "0.9999995578305696"
            ]
          },
          "metadata": {},
          "execution_count": 108
        }
      ]
    }
  ]
}