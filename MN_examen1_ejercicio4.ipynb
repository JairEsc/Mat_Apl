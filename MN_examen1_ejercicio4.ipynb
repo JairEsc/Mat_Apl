{
  "nbformat": 4,
  "nbformat_minor": 0,
  "metadata": {
    "colab": {
      "name": "Untitled47.ipynb",
      "provenance": [],
      "authorship_tag": "ABX9TyOoh38MV0bH+SjoTYaU3nUP",
      "include_colab_link": true
    },
    "kernelspec": {
      "name": "python3",
      "display_name": "Python 3"
    },
    "language_info": {
      "name": "python"
    }
  },
  "cells": [
    {
      "cell_type": "markdown",
      "metadata": {
        "id": "view-in-github",
        "colab_type": "text"
      },
      "source": [
        "<a href=\"https://colab.research.google.com/github/JairEsc/Mat_Apl/blob/main/MN_examen1_ejercicio4.ipynb\" target=\"_parent\"><img src=\"https://colab.research.google.com/assets/colab-badge.svg\" alt=\"Open In Colab\"/></a>"
      ]
    },
    {
      "cell_type": "code",
      "metadata": {
        "id": "Bhkubt3-gvmY"
      },
      "source": [
        "import numpy as np\n",
        "n=2000\n",
        "bandada=np.zeros((n,n))\n",
        "for j in range(n):#Llenado de la matriz\n",
        "    if j==0:\n",
        "        bandada[j][j]=40\n",
        "        bandada[j][j+1]=-8\n",
        "        bandada[j][j+2]=-4\n",
        "    if j==1:\n",
        "        bandada[j][j-1]=-8\n",
        "        bandada[j][j]=40\n",
        "        bandada[j][j+1]=-8\n",
        "        bandada[j][j+2]=-4\n",
        "    if j==n-1:\n",
        "        bandada[j][j-1]=-8\n",
        "        bandada[j][j-2]=-4\n",
        "        bandada[j][j]=40\n",
        "    if j==n-2:\n",
        "        bandada[j][j-1]=-8\n",
        "        bandada[j][j-2]=-4\n",
        "        bandada[j][j]=40\n",
        "        bandada[j][j+1]=-8\n",
        "    if (j>1):\n",
        "        if(j<n-2):\n",
        "            bandada[j][j]=40\n",
        "            bandada[j][j+1]=-8\n",
        "            bandada[j][j-1]=-8\n",
        "            bandada[j][j-2]=-4\n",
        "            bandada[j][j+2]=-4\n",
        "\n"
      ],
      "execution_count": 1,
      "outputs": []
    },
    {
      "cell_type": "code",
      "metadata": {
        "colab": {
          "base_uri": "https://localhost:8080/"
        },
        "id": "P_nKo-qbiroZ",
        "outputId": "54b75e33-04a7-49d0-9e86-dc49d6e42fb8"
      },
      "source": [
        "#Valores propios mas chicos\n",
        "def potencia_inv_def(A, M, tol, k):\n",
        "    n = len(A)\n",
        "    x0 = [1]*n\n",
        "    values = np.zeros(k) #Inicializa vector de k eigenvalores \n",
        "    vectors = [] #Inicializa lista de k eigenvectores \n",
        "    inversa=np.linalg.inv(A)#Solo se calcula una vez.\n",
        "    for i in range(1, k+1):\n",
        "        val_aux = tol + 1\n",
        "        val_min = 0\n",
        "        cont = 0  #Inicializa contador de iteraciones\n",
        "        vec_min = x0\n",
        "        while cont < M and tol < np.abs(val_aux - val_min):\n",
        "            #Quitamos la contribución del menor valor propio\n",
        "            for j in range(n-i+1, n): \n",
        "                vec_min -= np.array(np.dot(vectors[n-j-1], vec_min))*vectors[n-j-1]\n",
        "            #Aplicamos el método de la potencia para el vec_min calculado\n",
        "            \n",
        "            vec_min = vec_min/np.max(vec_min)#En lugar de calcular raiz, solo el maximo\n",
        "            vec_aux = np.dot(inversa,vec_min)\n",
        "            val_min = val_aux\n",
        "            val_aux = np.dot(vec_min, vec_min)/np.dot(vec_aux, vec_min)\n",
        "            vec_min = vec_aux\n",
        "            #Revisa si se ha alcanzdo al tolerancia\n",
        "            if np.abs(val_min - val_aux) < tol: \n",
        "                norma = np.linalg.norm(vec_min)\n",
        "                vec_min = vec_min/norma\n",
        "                break\n",
        "            cont = cont + 1 \n",
        "        #Guarda las listas de valores y vectores propios calculados\n",
        "        values[i-1]=val_aux\n",
        "        vectors += [vec_min] \n",
        "        print(values[i-1])\n",
        "    return [values,vectors]\n",
        "valores,vectores=potencia_inv_def(A=bandada,M=10000,tol=10**(-5),k=10)\n",
        "errores=[]\n",
        "for i in range(len(valores)):\n",
        "    errores.append(np.linalg.norm(np.dot(bandada,vectores[i])-valores[i]*vectores[i]))\n",
        "print(\"Error maximo: ||Av-l*v||\",np.max(errores))    \n"
      ],
      "execution_count": 17,
      "outputs": [
        {
          "output_type": "stream",
          "name": "stdout",
          "text": [
            "16.001077311622005\n",
            "16.01100421163443\n",
            "16.011369670296343\n",
            "16.01129166610773\n",
            "16.01119193669166\n",
            "16.01112905739945\n",
            "16.011154593443486\n",
            "16.011367764672265\n",
            "16.01220178529237\n",
            "16.014927192150495\n",
            "Error maximo: ||Av-l*v|| 0.012850474884719135\n"
          ]
        }
      ]
    },
    {
      "cell_type": "code",
      "metadata": {
        "colab": {
          "base_uri": "https://localhost:8080/"
        },
        "id": "yMDDV3kAl6-S",
        "outputId": "273b6792-cb14-4827-dff6-309e5e09eb4a"
      },
      "source": [
        "#Valores propios mas grandes\n",
        "def deflacion(A,l,v):\n",
        "    for i in range(len(A)):\n",
        "        for j in range(len(A[0])):\n",
        "            A[i][j]-=l*v[i]*v[j]\n",
        "    return(A)\n",
        "\n",
        "def multiple_max_eigen(A,m,tol,max_iter,pr=False,v_0=[]):\n",
        "    n=len(A)\n",
        "    if(len(v_0)==0):#Es opcional\n",
        "        v_0=(np.zeros(n)+1/np.sqrt(n))#Normalizado\n",
        "    L=[]\n",
        "    V=[]\n",
        "    B=np.copy(A)\n",
        "    for i in range(m):\n",
        "        max=max_eigen(B,tol=10**(-6),max_iter=10000,pr=pr)\n",
        "        L.append(max[0])\n",
        "        V.append(max[1]/np.linalg.norm(max[1]))\n",
        "        print(L[i])\n",
        "        B=deflacion(B,L[i],V[i])\n",
        "    return([L,V])\n",
        "def max_eigen(A,tol,max_iter,pr=True,v_0=[]):\n",
        "    n=len(A)\n",
        "    if(len(v_0)==0):#Es opcional\n",
        "        v_0=(np.zeros(n)+1/np.sqrt(n))#Normalizado\n",
        "    v_1=np.dot(A,v_0)#iteracion\n",
        "    lambda_0=np.dot(v_0,v_1)\n",
        "    lambda_1=np.sqrt(np.dot(v_1,v_1))#se toma raíz para poder compararlos\n",
        "    count=0\n",
        "    while((abs(lambda_0-lambda_1)>tol)&(count<max_iter)):\n",
        "        count+=1\n",
        "        v_0=v_1/np.linalg.norm(v_1)#Normalizacion\n",
        "        v_1=np.dot(A,v_0)#iteracion\n",
        "        lambda_0=lambda_1\n",
        "        lambda_1=np.dot(v_0,v_1)\n",
        "    if(count>max_iter):\n",
        "        return(\"Maxima iteracion alcanzada\")\n",
        "    else:\n",
        "        if(pr==True):\n",
        "            print(\"numero de iteraciones: \"+str(count))\n",
        "        return([lambda_1,v_1])\n",
        "valoresM,vectoresM=multiple_max_eigen(A=bandada,m=10,tol=10**(-5),max_iter=10000)\n",
        "erroresM=[]\n",
        "for i in range(len(valoresM)):\n",
        "    erroresM.append(np.linalg.norm(np.dot(bandada,vectoresM[i])-valoresM[i]*vectoresM[i]))\n",
        "print(\"Error maximo: ||Av-l*v||\",np.max(erroresM))    "
      ],
      "execution_count": 24,
      "outputs": [
        {
          "output_type": "stream",
          "name": "stdout",
          "text": [
            "51.99375559231386\n",
            "51.99357286105868\n",
            "51.99363132582669\n",
            "51.99370646077384\n",
            "51.99377272930335\n",
            "51.99382796850876\n",
            "51.99387286241438\n",
            "51.99391113147273\n",
            "51.99403122612582\n",
            "51.994522819621494\n",
            "Error maximo: ||Av-l*v|| 0.007134590231487545\n"
          ]
        }
      ]
    }
  ]
}