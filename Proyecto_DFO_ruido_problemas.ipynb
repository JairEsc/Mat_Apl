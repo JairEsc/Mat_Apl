{
  "nbformat": 4,
  "nbformat_minor": 0,
  "metadata": {
    "colab": {
      "name": "Untitled114.ipynb",
      "provenance": [],
      "authorship_tag": "ABX9TyNTbHPWbu4/UM9oC6wqzYwX",
      "include_colab_link": true
    },
    "kernelspec": {
      "name": "python3",
      "display_name": "Python 3"
    },
    "language_info": {
      "name": "python"
    }
  },
  "cells": [
    {
      "cell_type": "markdown",
      "metadata": {
        "id": "view-in-github",
        "colab_type": "text"
      },
      "source": [
        "<a href=\"https://colab.research.google.com/github/JairEsc/Mat_Apl/blob/main/Proyecto_DFO_ruido_problemas.ipynb\" target=\"_parent\"><img src=\"https://colab.research.google.com/assets/colab-badge.svg\" alt=\"Open In Colab\"/></a>"
      ]
    },
    {
      "cell_type": "code",
      "source": [
        "import numpy as np\n",
        "import scipy.optimize\n",
        "import matplotlib.pyplot as plt"
      ],
      "metadata": {
        "id": "f_eEzJF9qQT8"
      },
      "execution_count": 160,
      "outputs": []
    },
    {
      "cell_type": "code",
      "source": [
        "def L_BFGS(S,Y,g):#Checar las posibles divisiones por cero\n",
        "    n=len(g)\n",
        "    m=len(S)\n",
        "    #supondremos H_0 un multiplo de la identidad\n",
        "    H_0=(np.dot(S[-1],Y[-1])/(np.max([np.dot(Y[-1],Y[-1]),10**(-6)] )))*np.identity(n)#Dado en clase.\n",
        "    q=g\n",
        "    alphas=[]\n",
        "    for i in range(m):\n",
        "        alphas.append((1/max(10**(-6),np.dot(S[m-1-i],Y[m-1-i])))*np.dot(S[m-1-i],q))\n",
        "        q=q-alphas[i]*Y[m-1-i]\n",
        "    r=np.dot(H_0,q)\n",
        "    for i in range(m):\n",
        "        beta=(1/max(10**(-6),np.dot(Y[i],S[i])))*np.dot(Y[i],r)\n",
        "        r=r+S[i]*(alphas[m-1-i]-beta)#aproximacion de -H*g\n",
        "    return r\n",
        "def ECNoise(F):#F es un vector que guarda f(t_i), i=0,...,m. Evaluaciones de m+1 puntos equiespaciados\n",
        "#Ver metodo en Estimating_Computational_Noise, pagina 8\n",
        "    m=len(F)-1\n",
        "    T=np.zeros((m+1,m+1))\n",
        "    for i in range(m+1):\n",
        "        T[i,0]=F[i]\n",
        "    for k in range(m):\n",
        "        for i in range(m-k):\n",
        "            T[i,k+1]=T[i+1,k]-T[i,k]\n",
        "    return T\n",
        "def var_estimation(T):#Recibe la tabla.\n",
        "    m=len(T)-1\n",
        "    sigma_array=[]\n",
        "    for k in range(1,m):\n",
        "        sigma_array.append(((np.math.factorial(k)/np.math.factorial(2*k))/(m+1-k))*np.sum(T.T[k]**2))\n",
        "    #Ahora checamos las 2 condiciones.\n",
        "    for k in range(1,m-2):\n",
        "        max_k=np.max(sigma_array[k:k+2])\n",
        "        min_k=np.min(sigma_array[k:k+2])\n",
        "        if(max_k<=4*min_k):\n",
        "            if(np.sign(min_k*max_k)==-1):\n",
        "                print(\"es el \", k)\n",
        "                break\n",
        "    return np.sqrt(sigma_array[k])#Podria ser que las condiciones no se cumplan, en tal caso regresa la ultima estimacion sigma.\n",
        "def aprox_f_biprima(e_f,f,x_k,p):#Usando una direccion (aleatoria dada) se aproxima el max ||Hessiana_f(x_k)*p||\n",
        "    #Ver Estimating Derivatives of Noisy Simulations, pagina 14.\n",
        "    tao_1=100\n",
        "    tao_2=0.1\n",
        "    h_a=e_f**(1/4)\n",
        "    f_mas=f(x_k+h_a*p)\n",
        "    f_menos=f(x_k-h_a*p)\n",
        "    f_0=f(x_k)\n",
        "    delta_h_a=abs(f_mas+f_menos-2*f_0)\n",
        "    mu_a=delta_h_a/(np.max([h_a**2,10**(-6)]))\n",
        "    if(delta_h_a/np.max([e_f,10**(-6)])>=tao_1):\n",
        "        mu=mu_a\n",
        "        if(abs(f_mas-f_0)<=tao_2*max(f_mas,f_menos,f_0) and abs(f_menos-f_0)<=tao_2*max(f_mas,f_menos,f_0)):\n",
        "            return mu_a\n",
        "    h_b=(e_f/np.max([mu_a,10**(-6)]))**(1/4)\n",
        "    f_mas=f(x_k+h_b*p)\n",
        "    f_menos=f(x_k-h_b*p)\n",
        "    delta_h_b=abs(f_mas+f_menos-2*f_0)\n",
        "    mu_b=delta_h_b/(np.max([h_b**2,10**(-6)] ))\n",
        "    if(delta_h_b/np.max([e_f,10**(-6)])>=tao_1):\n",
        "        mu=mu_b\n",
        "        if(abs(f_mas-f_0)<=tao_2*max(f_mas,f_menos,f_0) and abs(f_menos-f_0)<=tao_2*max(f_mas,f_menos,f_0)):\n",
        "            return mu_b\n",
        "    if(abs(mu_a-mu_b)<=0.5*mu_b):\n",
        "        return mu_b\n",
        "    #print(\"No hay regla de decision\")\n",
        "    return np.max([mu_a,mu_b,10**(-6)])#Por falta de relga de descicion. En el algoritmo no se especifica una opcion.\n",
        "\n",
        "def rutina_h(f,p,x_0,m=10):#Calcula h a partir de una direccion dada, con m+1 puntos equiespaciados.\n",
        "    f_0=f(x_0)\n",
        "    n=len(x_0)\n",
        "    delta=10**(-3)#Suggested by ECnoise algorithm.\n",
        "    F_st=[f(x_0+delta*i*p) for i in range(m)]\n",
        "    T=ECNoise(F_st)\n",
        "    e_f=var_estimation(T)\n",
        "    #print(\"e_f: \",e_f)#Breakpoint\n",
        "    mu=aprox_f_biprima(e_f=e_f,f=f,x_k=x_0,p=p)\n",
        "    h=(8**(1/4))*(e_f/np.max([mu,10**(-6)]))**(1/2)\n",
        "    return e_f,h\n",
        "def relaxed_Armijo(x_k,f,fprime,d,alpha_0=1,e_f=0.0,c_1=0.1,c_2=0.9,\n",
        "                   max_iter=10**2):##Intenté usar scipy.line_search(), pero Strong Wolfe son dificiles de satisfacerse\n",
        "    #Metodo visto en clase.\n",
        "    iter=0\n",
        "    alpha=0\n",
        "    grad_f_k=fprime(x_k)\n",
        "    f_k=f(x_k)\n",
        "    beta=np.inf\n",
        "    alpha_i=alpha_0\n",
        "    g_dot_d=np.dot(grad_f_k,d)\n",
        "    Armijo=False\n",
        "    for i in range(max_iter):\n",
        "        if(f(x_k+alpha_i*d)>f_k+c_1*alpha_i*g_dot_d+2*e_f):#Aqui esta la condicion relajada, dado e_f estimacion del error estandar.\n",
        "            beta=alpha_i\n",
        "            alpha_i=0.5*(alpha+beta)\n",
        "        else:\n",
        "            Armijo=True\n",
        "            if(np.dot(fprime(x_k+alpha_i*d),d)<c_2*g_dot_d):\n",
        "                alpha=alpha_i\n",
        "                if(beta==np.inf):\n",
        "                    alpha_i=2*alpha\n",
        "                else:\n",
        "                    alpha_i=0.5*(alpha+beta)\n",
        "            else:\n",
        "                break\n",
        "    if(Armijo==True):\n",
        "        return alpha_i\n",
        "    else:\n",
        "        return Armijo"
      ],
      "metadata": {
        "id": "8zB4uyJdLJ6g"
      },
      "execution_count": 161,
      "outputs": []
    },
    {
      "cell_type": "code",
      "source": [
        "def recovery(x_k,f,grad_k,e_f,h,l1,l2,d_k,m=10):#Genera un nuevo h\n",
        "    d_k=d_k/np.max(d_k)\n",
        "    e_f_b,h_b=rutina_h(f=f,p=d_k,m=m,x_0=x_k)\n",
        "    n=len(x_k)\n",
        "    f_stencil=[]\n",
        "    f_k=f(x_k)\n",
        "    if(h_b<l1*h or h_b>l2*h):\n",
        "        return x_k,e_f_b,h_b\n",
        "    else:\n",
        "        \n",
        "        x_h=x_k+h*(d_k)\n",
        "        f_h=f(x_h)\n",
        "        if(f_h<=f(x_k)+0.1*h*np.dot(grad_k,d_k)+2*e_f):\n",
        "            return x_h,e_f,h\n",
        "        else:\n",
        "            for i in range(n):\n",
        "                x_s=x_k\n",
        "                x_s[i]+=h\n",
        "                f_stencil.append(f(x_s))\n",
        "            ii=np.argmin(f_stencil)\n",
        "            x_s=x_k\n",
        "            x_s[ii]+=h\n",
        "            f_s=f(x_s)\n",
        "            if(f_h<=f_s and f_h<=f_k):\n",
        "                return x_h,e_f,h\n",
        "            else:\n",
        "                if(f_k>f_s and f_h>f_s):\n",
        "                    return x_s,e_f,h\n",
        "                else:\n",
        "                    e_f_n,h_n=rutina_h(f=f,p=np.random.uniform(-1,1,size=n),m=m,x_0=x_k)\n",
        "                    return x_k,e_f_n,h_n"
      ],
      "metadata": {
        "id": "kcexZsIE9aMQ"
      },
      "execution_count": 162,
      "outputs": []
    },
    {
      "cell_type": "code",
      "source": [
        "import time\n",
        "def find_minimum(f,x_0,tol_g=10**(-4),zeta=0.01,max_iter=10**2,alpha_max_iter=100,m=10,ml=200):\n",
        "    t1 = time.time()\n",
        "    n=len(x_0)\n",
        "    #----------------------\n",
        "    #Listas\n",
        "    iter=0\n",
        "    GG=[]\n",
        "    Y=[]\n",
        "    S=[]\n",
        "    #----------------------\n",
        "    #Primera iteracion para crear S_k, Y_k------------------------\n",
        "    e_f,h=rutina_h(f=f,p=np.random.uniform(-1,1,size=len(x_0)),m=m,x_0=x_0)\n",
        "    #print(\"h: \",h)\n",
        "    def fprime(x):\n",
        "        return scipy.optimize.approx_fprime(xk=x,f=f,epsilon=np.max([h,10**(-6)]))\n",
        "    g_0=fprime(x_0)#Gradiente\n",
        "    alpha_k=relaxed_Armijo(f=f,fprime=fprime,x_k=x_0,d=-g_0,e_f=e_f,max_iter=alpha_max_iter)#line_search\n",
        "    #alpha_k=backtrack(x_k=x_0, f=f, grad=fprime, d_k=-g_0)\n",
        "    x_1=x_0-alpha_k*g_0#Primera direccion de descenso es -grad(x_0)\n",
        "    g_1=fprime(x_1)\n",
        "    GG.append(np.linalg.norm(g_1))\n",
        "    #----------------------\n",
        "    #diferencia de gradientes\n",
        "    #diferencia de x's\n",
        "    Y.append(g_1-g_0)\n",
        "    S.append(-alpha_k*g_0)\n",
        "    #comp=[np.linalg.norm(d_k_r+g_0)]#Lista para compararlos\n",
        "    #H_k=(np.dot(S[-1],Y[-1])/(np.dot(Y[-1],Y[-1])))*np.identity(n)#Dado en clase.\n",
        "    #----------------------\n",
        "    #----------------------\n",
        "    while(np.linalg.norm(g_1)>tol_g and iter<max_iter):#Criterio de par\n",
        "        x_0=x_1\n",
        "        g_0=g_1\n",
        "        #H_k_m=BFGS(s=S[-1],y=Y[-1],H=H_k)\n",
        "        #d_k=-np.dot(np.linalg.inv(Rosembrok_Hessian(x_0)),g_0)\n",
        "        d_k=-L_BFGS(S=S,Y=Y,g=g_1)\n",
        "        #d_k=d_k/np.max([10**(-6),np.linalg.norm(d_k)])\n",
        "        #d_k=-np.dot(H_k_m,g_0)\n",
        "        if(iter>ml and len(Y)>ml-10):#Elimina los viejos s_k,y_k\n",
        "            del S[0]\n",
        "            del Y[0]\n",
        "        alpha_k_try=relaxed_Armijo(f=f,fprime=fprime,x_k=x_0,d=d_k,e_f=e_f,max_iter=alpha_max_iter)\n",
        "        if(alpha_k_try==False):\n",
        "            #print(\"Line search no funcionó\")\n",
        "            x_1,e_f,h=recovery(x_k=x_0,f=f,grad_k=g_1,e_f=e_f,h=h,l1=0.01,l2=100,d_k=d_k,m=12)\n",
        "            def fprime(x):\n",
        "                return scipy.optimize.approx_fprime(xk=x,f=f,epsilon=np.max([h,10**(-6)]))\n",
        "        else:\n",
        "            x_1=x_0+alpha_k*d_k#\n",
        "        g_1=fprime(x_1)\n",
        "        iter+=1\n",
        "        #H_k=H_k_m\n",
        "        y_k=g_1-g_0\n",
        "        s_k=x_1-x_0\n",
        "        if(np.dot(s_k,y_k)>=zeta*np.linalg.norm(y_k)*np.linalg.norm(s_k)):\n",
        "            Y.append(y_k)\n",
        "            S.append(s_k)\n",
        "        #print(np.linalg.norm(d_k-d_k_l))\n",
        "        GG.append(np.linalg.norm(g_1))\n",
        "    print(\"Summary: \")\n",
        "    #print(\"comp:\",comp[-1])\n",
        "    #plt.plot(GG)\n",
        "    plt.show()\n",
        "    t2 = time.time()\n",
        "    tim = t2-t1\n",
        "    niter = iter\n",
        "    print(\"time: {:.02e}\\t Niter: {} \\t ||g_k||: {:.02e} \".format(\n",
        "             tim,niter,GG[-1]))\n",
        "    return x_1"
      ],
      "metadata": {
        "id": "RvIgGawfE0Se"
      },
      "execution_count": 163,
      "outputs": []
    },
    {
      "cell_type": "code",
      "source": [
        "def p_204(X):#x_0=np.array([0.1,0.1] ), x_opt=np.array([0,0] )\n",
        "    A=np.array([0.13294 ,-0.244378, 0.325895] )\n",
        "    D=np.array([2.5074 ,-1.36401,1.02282] )\n",
        "    H=np.array([[-0.564255 ,0.392417], [ -0.404979, 0.927589], [-0.0735084 ,0.535493]] )\n",
        "    B=np.linalg.inv(np.dot(H.T,H))\n",
        "    W=A+np.dot(H,X)+0.5*np.dot(X,np.dot(B,X))*D\n",
        "    return np.dot(W,W)+np.random.uniform(-10**(-2),10**(-2))"
      ],
      "metadata": {
        "id": "r9J2WxiJ_DJq"
      },
      "execution_count": 164,
      "outputs": []
    },
    {
      "cell_type": "code",
      "source": [
        "def p_205(X):#x_0=np.array([0.1,0.] ), x_opt=np.array([3,0.5] )\n",
        "    return ((1.5-X[0]*(1-X[1]))**2+(2.25-X[0]*(1-X[1]**2))**2+(2.625-X[0]*(1-X[1]**3))**2)\n"
      ],
      "metadata": {
        "id": "1_dgHnv4LPkf"
      },
      "execution_count": 165,
      "outputs": []
    },
    {
      "cell_type": "code",
      "source": [
        "def p_206(X):#x_0=[-1.2,1], x_opt=[1,1]\n",
        "    return ((X[1]-X[0]**2)**2+100*(1-X[0])**2)"
      ],
      "metadata": {
        "id": "e4s-YMJxOBYe"
      },
      "execution_count": 166,
      "outputs": []
    },
    {
      "cell_type": "code",
      "source": [
        "def p_212(X):#x_0=[2,0], x_opt=[0,0]\n",
        "    return (((4*(X[0]+X[1]))**2+(4*(X[0]+X[1])+(X[0]-X[1])*((X[0]-2)**2+X[1]**2-1))**2))\n"
      ],
      "metadata": {
        "id": "pk0WC1zOiMpU"
      },
      "execution_count": 167,
      "outputs": []
    },
    {
      "cell_type": "code",
      "source": [
        "def p_214(X):#x_0=[-1.2,1], x_opt=[1,1]\n",
        "    return ((10*(X[0]-X[1])**2+(X[0]-1)**2)**(1/4))"
      ],
      "metadata": {
        "id": "uLQwWBu7PlyG"
      },
      "execution_count": 168,
      "outputs": []
    },
    {
      "cell_type": "code",
      "source": [
        "def p_271(X):#x_0=np.array([0,0,0,0,0,0]),x_opt=np.array([1,1,1,1,1,1])\n",
        "    suma=0\n",
        "    for i in range(1,len(X)+1):\n",
        "        suma+=(16-i)*(X[i-1]-1)**2\n",
        "    return 10*suma"
      ],
      "metadata": {
        "id": "ngJAHSdRqMtF"
      },
      "execution_count": 169,
      "outputs": []
    },
    {
      "cell_type": "code",
      "source": [
        "def p_276(X):#x_0=np.array([-4,-2,-1.333,-1,-0.8,-0.6667]), x_opt=np.zeros(6)\n",
        "    n=len(X)\n",
        "    X=np.array(X)\n",
        "    A=np.zeros((n,n))\n",
        "    for i in range(n):\n",
        "        for j in range(n):\n",
        "            if(i+j!=1):\n",
        "                A[i,j]=1/(i+j+1)\n",
        "    return np.dot(X,np.dot(A,X))"
      ],
      "metadata": {
        "id": "taecLcIFrZpY"
      },
      "execution_count": 170,
      "outputs": []
    },
    {
      "cell_type": "code",
      "source": [
        "def p_281(X):#x_0=np.array([0,0,0,0,0,0,0,0,0,0]), x_opt=np.ones(10)\n",
        "    suma=0\n",
        "    for i in range(1,len(X)+1):\n",
        "        suma+=(i**3)*(X[i-1]-1)**2\n",
        "    return suma**(1/3)"
      ],
      "metadata": {
        "id": "iuH6Ih25swb8"
      },
      "execution_count": 171,
      "outputs": []
    },
    {
      "cell_type": "code",
      "source": [
        "def p_282(X):#x_0=[-1.2,0,0,0,0,0,0,0,0,0], x_opt=np.ones(10)\n",
        "    sum=0\n",
        "    for i in range(1,len(X)):\n",
        "        sum+=(10-i)*(X[i-1]**2-X[i])**2\n",
        "    return (X[0]-1)**2+(X[9]-1)**2+10*sum"
      ],
      "metadata": {
        "id": "1e-cdZCBuDyP"
      },
      "execution_count": 172,
      "outputs": []
    },
    {
      "cell_type": "code",
      "source": [
        "def p_283(X):#x_0=np.zeros(10), x_opt=np.ones(10)\n",
        "    sum=0\n",
        "    for i in range(1,len(X)+1):\n",
        "        sum+=(i**3)*(X[i-1]-1)**2\n",
        "    return sum**3\n"
      ],
      "metadata": {
        "id": "zv5Jrg2yu5IB"
      },
      "execution_count": 173,
      "outputs": []
    },
    {
      "cell_type": "code",
      "source": [
        "def p_303(X):#x_0=np.ones(20)*0.1, x_opt=np.zeros(20)\n",
        "    sum_1=0\n",
        "    sum_2=0\n",
        "    sum_3=0\n",
        "    for i in range(1,len(X)+1):\n",
        "        sum_1+=X[i-1]**2\n",
        "        sum_2+=0.5*i*X[i-1]\n",
        "    return sum_1+sum_2**2+sum_2**4"
      ],
      "metadata": {
        "id": "DOZFece0vpWk"
      },
      "execution_count": 174,
      "outputs": []
    },
    {
      "cell_type": "code",
      "source": [
        "def p_ros(X):\n",
        "    return (np.sum(100*(X[1:]-X[:-1]**2)**2+(1-X[:-1])**2))"
      ],
      "metadata": {
        "id": "qxwchH-0w4Bx"
      },
      "execution_count": 175,
      "outputs": []
    },
    {
      "cell_type": "code",
      "source": [
        "def additive_noise(f,x,eps=10**(-2),label='stochastic'):\n",
        "    if(label=='stochastic'):\n",
        "        u=np.random.uniform(-eps,eps)\n",
        "    return(f(x)+u)\n",
        "def multiplicative_noise(f,x,eps=10**(-2),label='stochastic'):\n",
        "    if(label=='stochastic'):\n",
        "        u=np.random.uniform(-eps,eps)\n",
        "    return(f(x)*(1+u))"
      ],
      "metadata": {
        "id": "HvDTJgGWSd12"
      },
      "execution_count": 176,
      "outputs": []
    },
    {
      "cell_type": "code",
      "source": [
        "def f_noise(f,x,eps,noise):\n",
        "        if(noise=='additive'):\n",
        "            return additive_noise(f=f,eps=eps,x=x)\n",
        "        if(noise=='multiplicative'):\n",
        "            return multiplicative_noise(f=f,eps=eps,x=x)"
      ],
      "metadata": {
        "id": "H_R4ynhHWz56"
      },
      "execution_count": 177,
      "outputs": []
    },
    {
      "cell_type": "code",
      "source": [
        "x_0=np.array([-1.2,0.5])\n",
        "def f_1(x):\n",
        "    return f_noise(f=p_206,eps=10**(-2),x=x,noise='additive')\n",
        "x_opt=find_minimum(f=f_1,x_0=np.array(x_0),tol_g=10**(-3),max_iter=10**3,alpha_max_iter=10)"
      ],
      "metadata": {
        "colab": {
          "base_uri": "https://localhost:8080/"
        },
        "id": "sHYdjypH3-Ws",
        "outputId": "9923125c-57b5-4cd3-cb50-6552c3b380c5"
      },
      "execution_count": 178,
      "outputs": [
        {
          "output_type": "stream",
          "name": "stdout",
          "text": [
            "Summary: \n",
            "time: 2.91e+00\t Niter: 1000 \t ||g_k||: 1.23e+02 \n"
          ]
        }
      ]
    },
    {
      "cell_type": "code",
      "source": [
        "#Funciones de prueba con ruido.\n",
        "funciones=[p_204,p_205,p_206,p_212,p_271,p_276,p_281,p_282,p_283,p_303,p_ros]\n",
        "x_initial=[np.array([0.1,0.1] ),np.array([0.1,0.] ),[-1.2,1],[2,0],np.array([0,0,0,0,0,0]),np.array([-4,-2,-1.333,-1,-0.8,-0.6667]),np.array([0,0,0,0,0,0,0,0,0,0]),[-1.2,0,0,0,0,0,0,0,0,0],np.zeros(10), np.ones(20)*0.1, np.zeros(50) ]\n",
        "x_optims=np.array([[0,0],[3,0.5],[1,1],[0,0] ,np.array([1,1,1,1,1,1]),np.zeros(6),np.ones(10),np.ones(10),np.ones(10),np.zeros(20),np.ones(50)])\n",
        "noise_type=['additive']\n",
        "for i in range(len(funciones)):\n",
        "    f=funciones[i]\n",
        "    print(\"Function: \", str(f))\n",
        "    x_0=x_initial[i]\n",
        "    n=len(x_0)\n",
        "    for noise in noise_type:\n",
        "        print(noise+' Case\\n')\n",
        "        def f_1(x):\n",
        "            return f_noise(f=f,eps=10**(-2),x=x,noise=noise)\n",
        "        x_opt=find_minimum(f=f_1,x_0=np.array(x_0),tol_g=10**(-3),max_iter=10**3,alpha_max_iter=10)\n",
        "        print(\"||x_opt-x^*||:\",np.linalg.norm(x_opt-x_optims[i]))\n",
        "        print(\"--------------------------\")\n",
        "    print(\"---------------------------------\")\n"
      ],
      "metadata": {
        "id": "7haJT0uCRyGw",
        "outputId": "d6e40fb9-daad-48e1-adc3-c64a4039150e",
        "colab": {
          "base_uri": "https://localhost:8080/"
        }
      },
      "execution_count": 179,
      "outputs": [
        {
          "output_type": "stream",
          "name": "stdout",
          "text": [
            "Function:  <function p_204 at 0x7f832ea64cb0>\n",
            "additive Case\n",
            "\n"
          ]
        },
        {
          "output_type": "stream",
          "name": "stderr",
          "text": [
            "/usr/local/lib/python3.7/dist-packages/ipykernel_launcher.py:4: VisibleDeprecationWarning: Creating an ndarray from ragged nested sequences (which is a list-or-tuple of lists-or-tuples-or ndarrays with different lengths or shapes) is deprecated. If you meant to do this, you must specify 'dtype=object' when creating the ndarray.\n",
            "  after removing the cwd from sys.path.\n"
          ]
        },
        {
          "output_type": "stream",
          "name": "stdout",
          "text": [
            "Summary: \n",
            "time: 6.60e+00\t Niter: 1000 \t ||g_k||: 2.01e+00 \n",
            "||x_opt-x^*||: 0.11053039503466018\n",
            "--------------------------\n",
            "---------------------------------\n",
            "Function:  <function p_205 at 0x7f832eab64d0>\n",
            "additive Case\n",
            "\n",
            "Summary: \n",
            "time: 2.72e+00\t Niter: 1000 \t ||g_k||: 1.69e+02 \n",
            "||x_opt-x^*||: 4.3307985975015715\n",
            "--------------------------\n",
            "---------------------------------\n",
            "Function:  <function p_206 at 0x7f832eab6560>\n",
            "additive Case\n",
            "\n",
            "Summary: \n",
            "time: 2.63e+00\t Niter: 1000 \t ||g_k||: 1.56e+02 \n",
            "||x_opt-x^*||: 1.6772064747977113\n",
            "--------------------------\n",
            "---------------------------------\n",
            "Function:  <function p_212 at 0x7f832eab6f80>\n",
            "additive Case\n",
            "\n",
            "Summary: \n",
            "time: 2.57e+00\t Niter: 1000 \t ||g_k||: 1.67e+01 \n",
            "||x_opt-x^*||: 1.1696470100587693\n",
            "--------------------------\n",
            "---------------------------------\n",
            "Function:  <function p_271 at 0x7f832d17e710>\n",
            "additive Case\n",
            "\n",
            "Summary: \n",
            "time: 2.90e+00\t Niter: 1000 \t ||g_k||: 9.26e+01 \n",
            "||x_opt-x^*||: 0.29802736124578333\n",
            "--------------------------\n",
            "---------------------------------\n",
            "Function:  <function p_276 at 0x7f832d17ea70>\n",
            "additive Case\n",
            "\n",
            "Summary: \n",
            "time: 3.40e+00\t Niter: 1000 \t ||g_k||: 1.91e+00 \n",
            "||x_opt-x^*||: 5.56947004686071\n",
            "--------------------------\n",
            "---------------------------------\n",
            "Function:  <function p_281 at 0x7f832d16d050>\n",
            "additive Case\n",
            "\n",
            "Summary: \n",
            "time: 3.44e+00\t Niter: 1000 \t ||g_k||: 5.43e+01 \n",
            "||x_opt-x^*||: 3.772686309784149\n",
            "--------------------------\n",
            "---------------------------------\n",
            "Function:  <function p_282 at 0x7f832d16d0e0>\n",
            "additive Case\n",
            "\n",
            "Summary: \n",
            "time: 3.92e+00\t Niter: 1000 \t ||g_k||: 1.22e+02 \n",
            "||x_opt-x^*||: 3.031290549150726\n",
            "--------------------------\n",
            "---------------------------------\n",
            "Function:  <function p_283 at 0x7f832d16d560>\n",
            "additive Case\n",
            "\n"
          ]
        },
        {
          "output_type": "stream",
          "name": "stderr",
          "text": [
            "/usr/local/lib/python3.7/dist-packages/ipykernel_launcher.py:2: RuntimeWarning: invalid value encountered in true_divide\n",
            "  \n"
          ]
        },
        {
          "output_type": "stream",
          "name": "stdout",
          "text": [
            "Summary: \n",
            "time: 3.32e+00\t Niter: 1000 \t ||g_k||: 7.72e+10 \n",
            "||x_opt-x^*||: 3.1622645084936942\n",
            "--------------------------\n",
            "---------------------------------\n",
            "Function:  <function p_303 at 0x7f832d16d680>\n",
            "additive Case\n",
            "\n",
            "Summary: \n",
            "time: 4.26e+00\t Niter: 1000 \t ||g_k||: 1.39e+05 \n",
            "||x_opt-x^*||: 0.4610104783085393\n",
            "--------------------------\n",
            "---------------------------------\n",
            "Function:  <function p_ros at 0x7f832d16dcb0>\n",
            "additive Case\n",
            "\n",
            "Summary: \n",
            "time: 6.33e+00\t Niter: 1000 \t ||g_k||: 3.98e+02 \n",
            "||x_opt-x^*||: 7.013351390978638\n",
            "--------------------------\n",
            "---------------------------------\n"
          ]
        }
      ]
    }
  ]
}