{
  "nbformat": 4,
  "nbformat_minor": 0,
  "metadata": {
    "colab": {
      "name": "Untitled84.ipynb",
      "provenance": [],
      "authorship_tag": "ABX9TyMEWCM6ZSJQgKu2HsJvzy2j",
      "include_colab_link": true
    },
    "kernelspec": {
      "name": "python3",
      "display_name": "Python 3"
    },
    "language_info": {
      "name": "python"
    }
  },
  "cells": [
    {
      "cell_type": "markdown",
      "metadata": {
        "id": "view-in-github",
        "colab_type": "text"
      },
      "source": [
        "<a href=\"https://colab.research.google.com/github/JairEsc/Mat_Apl/blob/main/Est_T5.ipynb\" target=\"_parent\"><img src=\"https://colab.research.google.com/assets/colab-badge.svg\" alt=\"Open In Colab\"/></a>"
      ]
    },
    {
      "cell_type": "code",
      "execution_count": 1,
      "metadata": {
        "id": "F9HiXjDeOKi7"
      },
      "outputs": [],
      "source": [
        "#bootstrap\n",
        "import numpy as np\n",
        "def bootstrap(X,T,B=10000):\n",
        "    estimations=[T(X)]\n",
        "    for i in range(B):\n",
        "        Y=np.random.choice(X,len(X))\n",
        "        estimations.append(T(Y))\n",
        "    se=np.std(estimations)\n",
        "    #Intervalos.\n",
        "    print(\"Normal interval: \",\"(\",estimations[0]-2*se,estimations[0]+2*se,\")\")\n",
        "    print(\"Percentile interval: \",\"(\",estimations[0]-2*se,estimations[0]+2*se,\")\")#Percentile, quantile\n",
        "    print(\"Pivotal interval: \",\"(\",estimations[0]-2*se,estimations[0]+2*se,\")\")"
      ]
    },
    {
      "cell_type": "code",
      "source": [
        "print([1])"
      ],
      "metadata": {
        "colab": {
          "base_uri": "https://localhost:8080/"
        },
        "id": "eCknxFb8OQJz",
        "outputId": "fcc5ed8b-8481-420d-8d2e-fd04d17b2a5d"
      },
      "execution_count": 10,
      "outputs": [
        {
          "output_type": "stream",
          "name": "stdout",
          "text": [
            "R\n"
          ]
        }
      ]
    }
  ]
}