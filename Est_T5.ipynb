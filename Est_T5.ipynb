{
  "nbformat": 4,
  "nbformat_minor": 0,
  "metadata": {
    "colab": {
      "name": "Untitled84.ipynb",
      "provenance": [],
      "authorship_tag": "ABX9TyOvM2xMBNgUK5O7refTMdBI",
      "include_colab_link": true
    },
    "kernelspec": {
      "name": "python3",
      "display_name": "Python 3"
    },
    "language_info": {
      "name": "python"
    }
  },
  "cells": [
    {
      "cell_type": "markdown",
      "metadata": {
        "id": "view-in-github",
        "colab_type": "text"
      },
      "source": [
        "<a href=\"https://colab.research.google.com/github/JairEsc/Mat_Apl/blob/main/Est_T5.ipynb\" target=\"_parent\"><img src=\"https://colab.research.google.com/assets/colab-badge.svg\" alt=\"Open In Colab\"/></a>"
      ]
    },
    {
      "cell_type": "code",
      "execution_count": 50,
      "metadata": {
        "id": "F9HiXjDeOKi7"
      },
      "outputs": [],
      "source": [
        "import numpy as np\n",
        "import matplotlib.pyplot as plt\n",
        "#Correlation-----------------------------------\n",
        "def corr(X,Y):#Same len\n",
        "    up=np.sum((X-np.mean(X))*(Y-np.mean(Y)))\n",
        "    down=np.sum((Y-np.mean(Y))**2)*np.sum((X-np.mean(X))**2)\n",
        "    return(up/np.sqrt(down))\n",
        "def bootstrap_correlation(X,Y,T,B=10000):\n",
        "    plt.plot(X,Y,'.')\n",
        "    plt.xlabel('X')\n",
        "    plt.xlabel('Y',rotation=0)\n",
        "    plt.title(\"X vs, Y.\")\n",
        "    estimations=[T(X,Y)]\n",
        "    for i in range(B):\n",
        "        X_s=np.random.choice(X,len(X))\n",
        "        Y_s=np.random.choice(Y,len(Y))\n",
        "        estimations.append(T(X_s,Y_s))\n",
        "    se=np.std(estimations)\n",
        "    print(\"Estimation T.hat: \", estimations[0],\"\\n\")\n",
        "    #Intervalos.\n",
        "    print(\"Normal interval: \",\"(\",estimations[0]-2*se,estimations[0]+2*se,\")\")\n",
        "    print(\"Percentile interval: \",\"(\",np.quantile(estimations,0.025),np.quantile(estimations,0.975),\")\")#Percentile, quantile\n",
        "    print(\"Pivotal interval: \",\"(\",2*estimations[0]-np.quantile(estimations,0.975),2*estimations[0]-np.quantile(estimations,0.025),\")\")"
      ]
    },
    {
      "cell_type": "code",
      "source": [
        "#Datos-------------------------------------\n",
        "LSAT=[576,635,558,578,666,580,555,661,651,605,653,575,545,572,594]\n",
        "GPA=[3.39,3.3,2.81,3.03,3.44,3.07,3.0,3.43,3.36,3.13,3.12,2.74,2.76,2.88,3.96]"
      ],
      "metadata": {
        "id": "eCknxFb8OQJz"
      },
      "execution_count": 40,
      "outputs": []
    },
    {
      "cell_type": "code",
      "source": [
        "#Exercise 1--------------------------------------------\n",
        "bootstrap_correlation(X=LSAT,Y=GPA,T=corr)"
      ],
      "metadata": {
        "colab": {
          "base_uri": "https://localhost:8080/",
          "height": 382
        },
        "id": "doHvYF4DeEiU",
        "outputId": "8ba8a289-b91f-4699-ae91-f49114c620f9"
      },
      "execution_count": 51,
      "outputs": [
        {
          "output_type": "stream",
          "name": "stdout",
          "text": [
            "Estimation T.hat:  0.5459189161795885 \n",
            "\n",
            "Normal interval:  ( 0.012908932357279412 1.0789289000018978 )\n",
            "Percentile interval:  ( -0.4887102234759617 0.5318113238868437 )\n",
            "Pivotal interval:  ( 0.5600265084723334 1.5805480558351388 )\n"
          ]
        },
        {
          "output_type": "display_data",
          "data": {
            "image/png": "[encoded data removed]",
            "text/plain": [
              "<Figure size 432x288 with 1 Axes>"
            ]
          },
          "metadata": {
            "needs_background": "light"
          }
        }
      ]
    },
    {
      "cell_type": "code",
      "source": [
        "#Exercise 2--------------------------------------------\n",
        "def Skewness(X):\n",
        "    up=np.sum((X-np.mean(X))**3)/len(X)\n",
        "    down=((len(X)**(-1))*np.sum((X-np.mean(X))**2))**(3/2)\n",
        "    return (up/down)\n",
        "def bootstrap(X,T,B=10000):\n",
        "    plt.hist(X)\n",
        "    plt.title(\"Histogram of X\")\n",
        "    estimations=[T(X)]\n",
        "    for i in range(B):\n",
        "        X_s=np.random.choice(X,len(X))\n",
        "        estimations.append(T(X_s))\n",
        "    se=np.std(estimations)\n",
        "    print(\"Estimation T.hat: \", estimations[0],\"\\n\")\n",
        "    #Intervalos.\n",
        "    print(\"Normal interval: \",\"(\",estimations[0]-2*se,estimations[0]+2*se,\")\")\n",
        "    print(\"Percentile interval: \",\"(\",np.quantile(estimations,0.025),np.quantile(estimations,0.975),\")\")#Percentile, quantile\n",
        "    print(\"Pivotal interval: \",\"(\",2*estimations[0]-np.quantile(estimations,0.975),2*estimations[0]-np.quantile(estimations,0.025),\")\")"
      ],
      "metadata": {
        "id": "a3em48EIiHll"
      },
      "execution_count": 41,
      "outputs": []
    },
    {
      "cell_type": "code",
      "source": [
        "np.random.seed(0)\n",
        "Y=np.random.normal(0,1,size=50)\n",
        "X=np.exp(Y)\n",
        "bootstrap(X=X,T=Skewness)"
      ],
      "metadata": {
        "id": "YYFYhRhYkttJ",
        "outputId": "7c3c6073-6057-44b1-b9ac-8f0bcc61982e",
        "colab": {
          "base_uri": "https://localhost:8080/",
          "height": 368
        }
      },
      "execution_count": 42,
      "outputs": [
        {
          "output_type": "stream",
          "name": "stdout",
          "text": [
            "Estimation T.hat:  1.8286302517433406 \n",
            "\n",
            "Normal interval:  ( 1.041036398150864 2.6162241053358173 )\n",
            "Percentile interval:  ( 1.0874922350539196 2.634717239527425 )\n",
            "Pivotal interval:  ( 1.022543263959256 2.5697682684327616 )\n"
          ]
        },
        {
          "output_type": "display_data",
          "data": {
            "image/png": "[encoded data removed]",
            "text/plain": [
              "<Figure size 432x288 with 1 Axes>"
            ]
          },
          "metadata": {
            "needs_background": "light"
          }
        }
      ]
    },
    {
      "cell_type": "code",
      "source": [
        "def T_F(X):\n",
        "    return((np.quantile(X,0.75)-np.quantile(X,0.25))/1.34)"
      ],
      "metadata": {
        "id": "95Tk2KvHntMR"
      },
      "execution_count": 12,
      "outputs": []
    },
    {
      "cell_type": "code",
      "source": [
        "np.random.seed(0)\n",
        "X=np.random.standard_t(3,size=25)\n",
        "def bootstrap_intervals(X,T,B=10000):\n",
        "    estimations=[T(X)]\n",
        "    for i in range(B):\n",
        "        X_s=np.random.choice(X,len(X))\n",
        "        estimations.append(T(X_s))\n",
        "    se=np.std(estimations)\n",
        "    print(\"Estimation T.hat: \", estimations[0],\"\\n\")\n",
        "    #Intervalos.\n",
        "    print(\"Normal interval: \",\"(\",estimations[0]-2*se,estimations[0]+2*se,\")\")\n",
        "    print(\"Percentile interval: \",\"(\",np.quantile(estimations,0.025),np.quantile(estimations,0.975),\")\")#Percentile, quantile\n",
        "    print(\"Pivotal interval: \",\"(\",2*estimations[0]-np.quantile(estimations,0.975),2*estimations[0]-np.quantile(estimations,0.025),\")\")\n",
        "    return [[estimations[0]-2*se,estimations[0]+2*se],[np.quantile(estimations,0.025),np.quantile(estimations,0.975)],[2*estimations[0]-np.quantile(estimations,0.975),2*estimations[0]-np.quantile(estimations,0.025)]]\n",
        "    \n",
        "intervals=bootstrap_intervals(X,T=T_F)\n",
        "I1='Normal interval'\n",
        "I2='Percentile interval'\n",
        "I3='Pivotal interval'\n",
        "plt.plot(range(1,26),X,'.')\n",
        "plt.plot(range(1,26),[np.mean(intervals[0])]*25,label='Estimation T_hat')\n",
        "plt.plot(range(1,26), [intervals[0][1]]*25,'r--')\n",
        "plt.plot(range(1,26), [intervals[0][0]]*25,'r--',label=I1)\n",
        "plt.plot(range(1,26), [intervals[1][1]]*25,'g--')\n",
        "plt.plot(range(1,26), [intervals[1][0]]*25,'g--',label=I2)\n",
        "plt.plot(range(1,26), [intervals[2][1]]*25,'b--')\n",
        "plt.plot(range(1,26), [intervals[2][0]]*25,'b--',label=I3)\n",
        "plt.ylim((np.min(intervals)-0.1,np.max(intervals)+0.1))\n",
        "plt.legend(framealpha=1, frameon=True);\n",
        "plt.title('Observations and intervals.')\n",
        "plt.show()\n"
      ],
      "metadata": {
        "colab": {
          "base_uri": "https://localhost:8080/",
          "height": 368
        },
        "id": "DYia5JfhAzBw",
        "outputId": "0c096018-0792-4368-d7af-cca1bce169e0"
      },
      "execution_count": 44,
      "outputs": [
        {
          "output_type": "stream",
          "name": "stdout",
          "text": [
            "Estimation T.hat:  1.4222051531869766 \n",
            "\n",
            "Normal interval:  ( 0.7604314144651186 2.0839788919088345 )\n",
            "Percentile interval:  ( 0.7246196945236993 1.8932916331582994 )\n",
            "Pivotal interval:  ( 0.9511186732156538 2.119790611850254 )\n"
          ]
        },
        {
          "output_type": "display_data",
          "data": {
            "image/png": "[encoded data removed]",
            "text/plain": [
              "<Figure size 432x288 with 1 Axes>"
            ]
          },
          "metadata": {
            "needs_background": "light"
          }
        }
      ]
    },
    {
      "cell_type": "code",
      "source": [
        "def length(I):\n",
        "    return I[1]-I[0]\n",
        "plt.bar([I1,I2,I3],[length(i) for i in intervals],color='green')\n",
        "plt.ylabel('Length            ',rotation=0)\n",
        "plt.title('Lengths of confidence intervals.')\n",
        "plt.show()"
      ],
      "metadata": {
        "id": "b0uLot0_lssS",
        "outputId": "a43b3ecd-4b20-4ed5-f8f4-c7daaceb6a95",
        "colab": {
          "base_uri": "https://localhost:8080/",
          "height": 281
        }
      },
      "execution_count": 45,
      "outputs": [
        {
          "output_type": "display_data",
          "data": {
            "image/png": "[encoded data removed]",
            "text/plain": [
              "<Figure size 432x288 with 1 Axes>"
            ]
          },
          "metadata": {
            "needs_background": "light"
          }
        }
      ]
    },
    {
      "cell_type": "code",
      "source": [
        ""
      ],
      "metadata": {
        "id": "pgwk7EhIK7xR",
        "outputId": "1edc1b40-cb23-471c-97d9-dc0edc318f49",
        "colab": {
          "base_uri": "https://localhost:8080/"
        }
      },
      "execution_count": null,
      "outputs": [
        {
          "output_type": "execute_result",
          "data": {
            "text/plain": [
              "[2, 2, 2, 2, 2]"
            ]
          },
          "metadata": {},
          "execution_count": 14
        }
      ]
    }
  ]
}