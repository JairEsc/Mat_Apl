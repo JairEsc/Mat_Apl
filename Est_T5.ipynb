{
  "nbformat": 4,
  "nbformat_minor": 0,
  "metadata": {
    "colab": {
      "name": "Untitled84.ipynb",
      "provenance": [],
      "authorship_tag": "ABX9TyPJnPJCy3nanegK1j8pgaWX",
      "include_colab_link": true
    },
    "kernelspec": {
      "name": "python3",
      "display_name": "Python 3"
    },
    "language_info": {
      "name": "python"
    }
  },
  "cells": [
    {
      "cell_type": "markdown",
      "metadata": {
        "id": "view-in-github",
        "colab_type": "text"
      },
      "source": [
        "<a href=\"https://colab.research.google.com/github/JairEsc/Mat_Apl/blob/main/Est_T5.ipynb\" target=\"_parent\"><img src=\"https://colab.research.google.com/assets/colab-badge.svg\" alt=\"Open In Colab\"/></a>"
      ]
    },
    {
      "cell_type": "code",
      "execution_count": 39,
      "metadata": {
        "id": "F9HiXjDeOKi7"
      },
      "outputs": [],
      "source": [
        "#bootstrap\n",
        "import numpy as np\n",
        "import matplotlib.pyplot as plt\n",
        "\n",
        "def bootstrap_correlation(X,Y,T,B=10000):\n",
        "    plt.plot(X,Y,'.')\n",
        "    plt.xlabel('X')\n",
        "    plt.xlabel('Y',rotation=0)\n",
        "    plt.title(\"X vs, Y.\")\n",
        "    estimations=[T(X,Y)]\n",
        "    for i in range(B):\n",
        "        X_s=np.random.choice(X,len(X))\n",
        "        Y_s=np.random.choice(Y,len(Y))\n",
        "        estimations.append(T(X_s,Y_s))\n",
        "    se=np.std(estimations)\n",
        "    print(\"Estimation T.hat: \", estimations[0],\"\\n\")\n",
        "    #Intervalos.\n",
        "    print(\"Normal interval: \",\"(\",estimations[0]-2*se,estimations[0]+2*se,\")\")\n",
        "    print(\"Percentile interval: \",\"(\",np.quantile(estimations,0.025),np.quantile(estimations,0.975),\")\")#Percentile, quantile\n",
        "    print(\"Pivotal interval: \",\"(\",2*estimations[0]-np.quantile(estimations,0.975),2*estimations[0]-np.quantile(estimations,0.025),\")\")"
      ]
    },
    {
      "cell_type": "code",
      "source": [
        ""
      ],
      "metadata": {
        "id": "2knluFZhf7pc"
      },
      "execution_count": null,
      "outputs": []
    },
    {
      "cell_type": "code",
      "source": [
        "LSAT=[576,635,558,578,666,580,555,661,651,605,653,575,545,572,594]\n",
        "GPA=[3.39,3.3,2.81,3.03,3.44,3.07,3.0,3.43,3.36,3.13,3.12,2.74,2.76,2.88,3.96]"
      ],
      "metadata": {
        "id": "eCknxFb8OQJz"
      },
      "execution_count": 32,
      "outputs": []
    },
    {
      "cell_type": "code",
      "source": [
        "def corr(X,Y):#Same len\n",
        "    up=np.sum((X-np.mean(X))*(Y-np.mean(Y)))\n",
        "    down=np.sum((Y-np.mean(Y))**2)*np.sum((X-np.mean(X))**2)\n",
        "    return(up/np.sqrt(down))"
      ],
      "metadata": {
        "id": "NFlf6ITUcUqo"
      },
      "execution_count": 33,
      "outputs": []
    },
    {
      "cell_type": "code",
      "source": [
        "bootstrap_correlation(X=LSAT,Y=GPA,T=corr)"
      ],
      "metadata": {
        "id": "doHvYF4DeEiU",
        "outputId": "ae185b74-0e71-4052-f943-962920b8b91d",
        "colab": {
          "base_uri": "https://localhost:8080/",
          "height": 382
        }
      },
      "execution_count": 40,
      "outputs": [
        {
          "output_type": "stream",
          "name": "stdout",
          "text": [
            "Estimation T.hat:  0.5459189161795885 \n",
            "\n",
            "Normal interval:  ( 0.008836813122761633 1.0830010192364155 )\n",
            "Percentile interval:  ( -0.4976555000686635 0.5331298494126026 )\n",
            "Pivotal interval:  ( 0.5587079829465745 1.5894933324278406 )\n"
          ]
        },
        {
          "output_type": "display_data",
          "data": {
            "image/png": "[encoded data removed]",
            "text/plain": [
              "<Figure size 432x288 with 1 Axes>"
            ]
          },
          "metadata": {
            "needs_background": "light"
          }
        }
      ]
    }
  ]
}