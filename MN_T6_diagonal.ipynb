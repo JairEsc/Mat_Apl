{
  "nbformat": 4,
  "nbformat_minor": 0,
  "metadata": {
    "colab": {
      "name": "Untitled16.ipynb",
      "provenance": [],
      "authorship_tag": "ABX9TyOZhjwmHqfblUmTgSU7wTnF",
      "include_colab_link": true
    },
    "kernelspec": {
      "name": "python3",
      "display_name": "Python 3"
    },
    "language_info": {
      "name": "python"
    }
  },
  "cells": [
    {
      "cell_type": "markdown",
      "metadata": {
        "id": "view-in-github",
        "colab_type": "text"
      },
      "source": [
        "<a href=\"https://colab.research.google.com/github/JairEsc/Mat_Apl/blob/main/MN_T6_diagonal.ipynb\" target=\"_parent\"><img src=\"https://colab.research.google.com/assets/colab-badge.svg\" alt=\"Open In Colab\"/></a>"
      ]
    },
    {
      "cell_type": "code",
      "metadata": {
        "id": "4LtLkyY0c-Cw"
      },
      "source": [
        "def diagonal(matriz,b):#Recibe la matriz del sistema.\n",
        "#Y b representa los valores del sistema a resolver.\n",
        "  if(type(matriz[0])==type(0.)):\n",
        "    X=[]\n",
        "    for i in range(len(matriz)):\n",
        "      if(matriz[i]==0):\n",
        "        return('el sistema no tiene solución única')\n",
        "      else: \n",
        "        X.append(b[i]/matriz[i])\n",
        "    return X\n",
        "  else:\n",
        "    X=[]\n",
        "    for i in range(len(matriz)):\n",
        "      if(matriz[i][i]==0):\n",
        "        return('el sistema no tiene solución única')\n",
        "      else: \n",
        "        X.append(b[i]/matriz[i][i])\n",
        "    return X"
      ],
      "execution_count": 1,
      "outputs": []
    },
    {
      "cell_type": "markdown",
      "metadata": {
        "id": "8FilRl8zdPHV"
      },
      "source": [
        "Example"
      ]
    },
    {
      "cell_type": "code",
      "metadata": {
        "colab": {
          "base_uri": "https://localhost:8080/"
        },
        "id": "ek8TxTrqdNwF",
        "outputId": "3cb5e2ba-49db-4a59-f581-5ab3695a5bfb"
      },
      "source": [
        "import numpy as np\n",
        "x1 = np.loadtxt(\"M_DIAG.txt\",skiprows=1)\n",
        "b1=np.loadtxt(\"V_DIAG.txt\",skiprows=1)\n",
        "diagonal(x1,b1)"
      ],
      "execution_count": 2,
      "outputs": [
        {
          "output_type": "execute_result",
          "data": {
            "text/plain": [
              "[1.0, 1.0, 1.0, 1.0]"
            ]
          },
          "metadata": {},
          "execution_count": 2
        }
      ]
    }
  ]
}