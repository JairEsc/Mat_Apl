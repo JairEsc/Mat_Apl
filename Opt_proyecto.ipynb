{
  "nbformat": 4,
  "nbformat_minor": 0,
  "metadata": {
    "colab": {
      "name": "Untitled101.ipynb",
      "provenance": [],
      "authorship_tag": "ABX9TyPj62fi5zDW69uQEmtaesOC",
      "include_colab_link": true
    },
    "kernelspec": {
      "name": "python3",
      "display_name": "Python 3"
    },
    "language_info": {
      "name": "python"
    }
  },
  "cells": [
    {
      "cell_type": "markdown",
      "metadata": {
        "id": "view-in-github",
        "colab_type": "text"
      },
      "source": [
        "<a href=\"https://colab.research.google.com/github/JairEsc/Mat_Apl/blob/main/Opt_proyecto.ipynb\" target=\"_parent\"><img src=\"https://colab.research.google.com/assets/colab-badge.svg\" alt=\"Open In Colab\"/></a>"
      ]
    },
    {
      "cell_type": "markdown",
      "source": [
        "**Antibiotics time machine problem**"
      ],
      "metadata": {
        "id": "zgJBGEs6Je_I"
      }
    },
    {
      "cell_type": "markdown",
      "source": [
        "Given K drugs and the\n",
        "initial genotype, and a treatment plan of length N such that the probability of reaching the wild\n",
        "type is maximized.\n",
        "\n",
        "\n",
        "En este contexto, se define $s\\in \\{0,1\\}^g$ una palabra de longitud $g$ con las letras $\\{0,1\\}$ que representa las mutaciones en los alelos $1,2,\\ldots,g$.\n",
        "\n",
        "El \"wild type\" es la palabra $000\\cdots 0$, que representa el genoma sin mutaciones.\n",
        "\n",
        "Sea $p$ el estado inicial. Consideraremos las matrices de transición de cada \"genoma\" por cada medicamento $\\{\\hat{T_k}, k=1,\\ldots,K\\}$. Un plan de tratamiento consiste en la elección de decisiones $T_k$, que definen una cadena de Markov. En tal caso, maximizar la función objetivo consiste en elegir el camino de $p$ a $0$ que tenga la probabilidad máxima.  \n",
        "\n"
      ],
      "metadata": {
        "id": "tBMBVAfQJoAT"
      }
    },
    {
      "cell_type": "markdown",
      "source": [
        "Problema de optimización.\n",
        "\n",
        "$$max_{u,v,x} f(w)=w\\cdot q^t,$$\n",
        "Subject to:\n",
        "\\begin{align}\n",
        "    \\sum\\limits_{k=1}^K v_{n-1,k}=u_{n-1}\\\\\n",
        "    \\sum\\limits_{k=1}^K v_{n-1,k}\\hat{T_k}=u_{n}\\\\\n",
        "    \\sum\\limits_{k=1}^K x_{n-1,k}=1\\\\\n",
        "    v_{n-1,k}\\in \\bar{U}_{n-1}, x_{n-1,k}\\in\\{0,1\\}\n",
        "\\end{align}\n",
        " Aquí, $f$ es la probabilidad de transición en exactamente $N$ pasos del estado inicial $p$ al estado final $q$."
      ],
      "metadata": {
        "id": "aYwKVw_BJj0O"
      }
    },
    {
      "cell_type": "markdown",
      "source": [
        "Mixed integer problem.\n",
        "\n",
        "\n",
        "\n",
        "*   Elemento de lista\n",
        "*   Elemento de lista\n",
        "\n"
      ],
      "metadata": {
        "id": "cMM-GWM9Jt7N"
      }
    },
    {
      "cell_type": "code",
      "execution_count": null,
      "metadata": {
        "id": "lZmFPKJ4JdyN"
      },
      "outputs": [],
      "source": [
        ""
      ]
    }
  ]
}