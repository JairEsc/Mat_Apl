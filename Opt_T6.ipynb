{
  "nbformat": 4,
  "nbformat_minor": 0,
  "metadata": {
    "colab": {
      "name": "Untitled94.ipynb",
      "provenance": [],
      "authorship_tag": "ABX9TyMnanUvP2anz7NTP7ih6VNR",
      "include_colab_link": true
    },
    "kernelspec": {
      "name": "python3",
      "display_name": "Python 3"
    },
    "language_info": {
      "name": "python"
    }
  },
  "cells": [
    {
      "cell_type": "markdown",
      "metadata": {
        "id": "view-in-github",
        "colab_type": "text"
      },
      "source": [
        "<a href=\"https://colab.research.google.com/github/JairEsc/Mat_Apl/blob/main/Opt_T6.ipynb\" target=\"_parent\"><img src=\"https://colab.research.google.com/assets/colab-badge.svg\" alt=\"Open In Colab\"/></a>"
      ]
    },
    {
      "cell_type": "code",
      "source": [
        "import numpy as np\n",
        "import matplotlib.pyplot as plt"
      ],
      "metadata": {
        "id": "3m14b5WfF4yc"
      },
      "execution_count": 1,
      "outputs": []
    },
    {
      "cell_type": "markdown",
      "source": [
        "Cargamos los datos usando gxp y pickle."
      ],
      "metadata": {
        "id": "nYfEfPNJfBC4"
      }
    },
    {
      "cell_type": "code",
      "source": [
        "import gzip, pickle\n",
        "with gzip.open('mnist.pkl.gz','rb') as ff :\n",
        "    u = pickle._Unpickler( ff )\n",
        "    u.encoding = 'latin1'\n",
        "    train, val, test = u.load()"
      ],
      "metadata": {
        "id": "VmWjyjd0e_lS"
      },
      "execution_count": 2,
      "outputs": []
    },
    {
      "cell_type": "code",
      "source": [
        "print( train[0].shape, train[1].shape )"
      ],
      "metadata": {
        "id": "YITO0s4AfD_k",
        "outputId": "e3f0b6bd-0dc7-49c4-d184-00e46fa5b92a",
        "colab": {
          "base_uri": "https://localhost:8080/"
        }
      },
      "execution_count": 3,
      "outputs": [
        {
          "output_type": "stream",
          "name": "stdout",
          "text": [
            "(50000, 784) (50000,)\n"
          ]
        }
      ]
    },
    {
      "cell_type": "markdown",
      "source": [
        "Tenemos 50000 arreglos de 784 entradas cada uno, el cual representa un número el cual se puede observar con el siguiente código:"
      ],
      "metadata": {
        "id": "KV8jfhGJi5RV"
      }
    },
    {
      "cell_type": "code",
      "source": [
        "idimg = 2000\n",
        "\n",
        "im =  train[0][idimg].reshape(-1, 28) #train[0] es una matriz,\n",
        "#train[0][5000] es un vector de longitud 784\n",
        "#reshape(-1,28) significa crea una matriz de k x 28 tal que k*28=784\n",
        "plt.imshow(im)#Plotealo como imagen.\n",
        "print('clase: ', train[1][idimg])"
      ],
      "metadata": {
        "id": "Oav_G3BYiKg7",
        "outputId": "dff4912c-b64a-48e3-c8e1-5a54b715b713",
        "colab": {
          "base_uri": "https://localhost:8080/",
          "height": 282
        }
      },
      "execution_count": 7,
      "outputs": [
        {
          "output_type": "stream",
          "name": "stdout",
          "text": [
            "clase:  5\n"
          ]
        },
        {
          "output_type": "display_data",
          "data": {
            "text/plain": [
              "<Figure size 432x288 with 1 Axes>"
            ],
            "image/png": "[encoded data removed]"
          },
          "metadata": {
            "needs_background": "light"
          }
        }
      ]
    },
    {
      "cell_type": "markdown",
      "source": [
        "train[1][k] guarda el número que representa el respectivo train[0][k]."
      ],
      "metadata": {
        "id": "HIGwkL6_jZSH"
      }
    },
    {
      "cell_type": "markdown",
      "source": [
        "------------------------------------------------"
      ],
      "metadata": {
        "id": "soZ3iRwyk6Fg"
      }
    },
    {
      "cell_type": "markdown",
      "source": [
        "Implementación del descenso de gradiente."
      ],
      "metadata": {
        "id": "VJFwtxOpk1Sn"
      }
    },
    {
      "cell_type": "markdown",
      "source": [
        "Consideramos el tamaño de paso $\\alpha_k=\\frac{d_k^Td_k}{d_k^THd_k}$"
      ],
      "metadata": {
        "id": "MWmmdEFOlLd7"
      }
    },
    {
      "cell_type": "code",
      "source": [
        "def get_alpha_k(x,d,H):#Si tenemos H la matriz Hessiana.\n",
        "    top=np.linalg.norm(d)\n",
        "    bottom=np.dot(d,np.dot(H,d))\n",
        "    return (top/bottom)"
      ],
      "metadata": {
        "id": "pb5BpulEjXdh"
      },
      "execution_count": 12,
      "outputs": []
    },
    {
      "cell_type": "markdown",
      "source": [
        "Nuestra función de descenso recibe una condición inicial $x_0$, la función a minimizar, el gradiente y Hessiano de la misma, y hay parámetros opcionales para tolerancia del gradiente y número máximo de iteraciones, así como un parámetro (False por default) que grafica el valor de $f(x_k)$ y $||g_k||$."
      ],
      "metadata": {
        "id": "XQrBi6DhldlE"
      }
    },
    {
      "cell_type": "code",
      "execution_count": 8,
      "metadata": {
        "id": "WI6qv9P7EsAt"
      },
      "outputs": [],
      "source": [
        "def Steepest_descent(x_0,f,grad_f,Hessian_f,tol_grad=10**(-6),max_iter=10**5,pr=\"False\"):\n",
        "    alpha_k=get_alpha_k(x=x_0,d=grad_f(x_0),H=Hessian_f(x_0))\n",
        "    x_1=x_0-alpha_k*np.array(grad_f(x_0))#First iteration\n",
        "    if(pr=='True'):\n",
        "        print(\"Initial approximation: \", x_0)\n",
        "        F=[f(x_0)]\n",
        "        G=[np.linalg.norm(grad_f(x_0))]\n",
        "    x_0=x_1\n",
        "    k=1\n",
        "    norm_grad=np.linalg.norm(grad_f(x_1))\n",
        "    #Cycle\n",
        "    while(norm_grad>tol_grad and k<max_iter):#stop criteria\n",
        "        k+=1\n",
        "        alpha_k=get_alpha_k(x=x_0,d=grad_f(x_0),H=Hessian_f(x_0))\n",
        "        x_1=x_0-alpha_k*np.array(grad_f(x_0))\n",
        "        x_0=x_1\n",
        "        norm_grad=np.linalg.norm(grad_f(x_1))\n",
        "        if(pr=='True'):\n",
        "            F.append(f(x_0))\n",
        "            G.append(np.linalg.norm(grad_f(x_0)))\n",
        "    if(k==max_iter):\n",
        "        print(\"There wasnt convergence after \"+str(max_iter)+\" iterations.\\nLast iteration: \"+str(x_1),\"   \",\"f(x_k)= \",str(f(x_1)))\n",
        "    else:\n",
        "        L=0\n",
        "        plt.plot(range(L+1,len(F)),F[L:-1])#Posterior convergence\n",
        "        plt.title(\"k vs. F(X_k)\")   \n",
        "        plt.show()         \n",
        "        plt.plot(range(L+1,len(G)),G[L:-1])\n",
        "        plt.title(\"k vs. ||g(X_k)||\")   \n",
        "        plt.show()         \n",
        "    print(\"iterations: \",k)\n",
        "    return (x_1)"
      ]
    },
    {
      "cell_type": "markdown",
      "source": [
        "Definimos $f$, $\\nabla f$ y $H_f$ para el problema."
      ],
      "metadata": {
        "id": "L335f8FWmW2d"
      }
    },
    {
      "cell_type": "markdown",
      "source": [
        "Primero seleccionamos un subconjunto de los datos, tales que $y\\in\\{0,1\\}$."
      ],
      "metadata": {
        "id": "79ZLjjIxntuR"
      }
    },
    {
      "cell_type": "code",
      "source": [
        "y=train[1][train[1]<2]\n",
        "x=train[0][train[1]<2]\n",
        "n=len(x)"
      ],
      "metadata": {
        "id": "KckQQ7LontUj"
      },
      "execution_count": 26,
      "outputs": []
    },
    {
      "cell_type": "code",
      "source": [
        "print(n)"
      ],
      "metadata": {
        "id": "Hs6AsTnIwkqq",
        "outputId": "4e7f5e1d-873e-43ad-9e51-e77d9d87cc7a",
        "colab": {
          "base_uri": "https://localhost:8080/"
        }
      },
      "execution_count": 35,
      "outputs": [
        {
          "output_type": "stream",
          "name": "stdout",
          "text": [
            "10610\n"
          ]
        }
      ]
    },
    {
      "cell_type": "code",
      "source": [
        "np.outer([2,1],[8,1])"
      ],
      "metadata": {
        "id": "6bwIDjI9ybwt",
        "outputId": "8a3490c2-aa86-4d91-9ae5-72d285d95028",
        "colab": {
          "base_uri": "https://localhost:8080/"
        }
      },
      "execution_count": 41,
      "outputs": [
        {
          "output_type": "execute_result",
          "data": {
            "text/plain": [
              "array([[16,  2],\n",
              "       [ 8,  1]])"
            ]
          },
          "metadata": {},
          "execution_count": 41
        }
      ]
    },
    {
      "cell_type": "code",
      "source": [
        "n_n=np.zeros(n)+1"
      ],
      "metadata": {
        "id": "WEanHnAEo4j0"
      },
      "execution_count": 42,
      "outputs": []
    },
    {
      "cell_type": "code",
      "source": [
        "A=[2,1],[8,1]\n",
        "b=[3,3]\n",
        "A=np.matrix(A)\n",
        "A=np.c_[A,b]\n",
        "print(A)"
      ],
      "metadata": {
        "id": "Mt-E3vOT09GH",
        "outputId": "ef9ce3e1-19bf-4fe5-bf68-eabdadaefcf8",
        "colab": {
          "base_uri": "https://localhost:8080/"
        }
      },
      "execution_count": 57,
      "outputs": [
        {
          "output_type": "stream",
          "name": "stdout",
          "text": [
            "[[2 1 3]\n",
            " [8 1 3]]\n"
          ]
        }
      ]
    },
    {
      "cell_type": "code",
      "source": [
        ""
      ],
      "metadata": {
        "id": "UVRHi8If3zRQ"
      },
      "execution_count": null,
      "outputs": []
    },
    {
      "cell_type": "code",
      "source": [
        "x_plus=np.c_[x,-1*np.ones(n)]\n",
        "x_plus.shape"
      ],
      "metadata": {
        "id": "M9Iohqg0we9u",
        "outputId": "ff44da61-c46e-4936-89d2-1a90ab9fd400",
        "colab": {
          "base_uri": "https://localhost:8080/"
        }
      },
      "execution_count": 59,
      "outputs": [
        {
          "output_type": "execute_result",
          "data": {
            "text/plain": [
              "(10610, 785)"
            ]
          },
          "metadata": {},
          "execution_count": 59
        }
      ]
    },
    {
      "cell_type": "code",
      "source": [
        "def pi_i(i,b,b_0):\n",
        "    u=np.dot(x[i],b)\n",
        "    a=1+np.exp(-u-b_0)\n",
        "    return (1/a)"
      ],
      "metadata": {
        "id": "I2FP7zcYnM4I"
      },
      "execution_count": 27,
      "outputs": []
    },
    {
      "cell_type": "code",
      "source": [
        "def h(b_and_b_0):#recibe un vector\n",
        "    b=b_and_b_0[:-2]\n",
        "    b_0=b_and_b_0[-1]\n",
        "    suma=0\n",
        "    for i in range(n):\n",
        "        p_i=pi_i(i=i,b=b,b_0=b_0)\n",
        "        suma+=y[i]*np.log(p_i)+(1-y[i])*np.log(1-p_i)\n",
        "    return suma"
      ],
      "metadata": {
        "id": "nm6_uxZ8mXJm"
      },
      "execution_count": 28,
      "outputs": []
    },
    {
      "cell_type": "code",
      "source": [
        ""
      ],
      "metadata": {
        "id": "eHrR7oqbnLEQ"
      },
      "execution_count": null,
      "outputs": []
    }
  ]
}