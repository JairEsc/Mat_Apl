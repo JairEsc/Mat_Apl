{
  "nbformat": 4,
  "nbformat_minor": 0,
  "metadata": {
    "colab": {
      "name": "Untitled94.ipynb",
      "provenance": [],
      "authorship_tag": "ABX9TyM9mEutA2flFjXyy51/cYkT",
      "include_colab_link": true
    },
    "kernelspec": {
      "name": "python3",
      "display_name": "Python 3"
    },
    "language_info": {
      "name": "python"
    }
  },
  "cells": [
    {
      "cell_type": "markdown",
      "metadata": {
        "id": "view-in-github",
        "colab_type": "text"
      },
      "source": [
        "<a href=\"https://colab.research.google.com/github/JairEsc/Mat_Apl/blob/main/Opt_T6.ipynb\" target=\"_parent\"><img src=\"https://colab.research.google.com/assets/colab-badge.svg\" alt=\"Open In Colab\"/></a>"
      ]
    },
    {
      "cell_type": "code",
      "source": [
        "import numpy as np\n",
        "import matplotlib.pyplot as plt"
      ],
      "metadata": {
        "id": "3m14b5WfF4yc"
      },
      "execution_count": null,
      "outputs": []
    },
    {
      "cell_type": "markdown",
      "source": [
        "Cargamos los datos usando gxp y pickle."
      ],
      "metadata": {
        "id": "nYfEfPNJfBC4"
      }
    },
    {
      "cell_type": "code",
      "source": [
        "import gzip, pickle\n",
        "with gzip.open('mnist.pkl.gz','rb') as ff :\n",
        "    u = pickle._Unpickler( ff )\n",
        "    u.encoding = 'latin1'\n",
        "    train, val, test = u.load()"
      ],
      "metadata": {
        "id": "VmWjyjd0e_lS"
      },
      "execution_count": null,
      "outputs": []
    },
    {
      "cell_type": "code",
      "source": [
        "print( train[0].shape, train[1].shape )"
      ],
      "metadata": {
        "id": "YITO0s4AfD_k",
        "outputId": "e3f0b6bd-0dc7-49c4-d184-00e46fa5b92a",
        "colab": {
          "base_uri": "https://localhost:8080/"
        }
      },
      "execution_count": null,
      "outputs": [
        {
          "output_type": "stream",
          "name": "stdout",
          "text": [
            "(50000, 784) (50000,)\n"
          ]
        }
      ]
    },
    {
      "cell_type": "markdown",
      "source": [
        "Tenemos 50000 arreglos de 784 entradas cada uno, el cual representa un número el cual se puede observar con el siguiente código:"
      ],
      "metadata": {
        "id": "KV8jfhGJi5RV"
      }
    },
    {
      "cell_type": "code",
      "source": [
        "idimg = 2000\n",
        "\n",
        "im =  train[0][idimg].reshape(-1, 28) #train[0] es una matriz,\n",
        "#train[0][5000] es un vector de longitud 784\n",
        "#reshape(-1,28) significa crea una matriz de k x 28 tal que k*28=784\n",
        "plt.imshow(im)#Plotealo como imagen.\n",
        "print('clase: ', train[1][idimg])"
      ],
      "metadata": {
        "id": "Oav_G3BYiKg7",
        "outputId": "dff4912c-b64a-48e3-c8e1-5a54b715b713",
        "colab": {
          "base_uri": "https://localhost:8080/",
          "height": 282
        }
      },
      "execution_count": null,
      "outputs": [
        {
          "output_type": "stream",
          "name": "stdout",
          "text": [
            "clase:  5\n"
          ]
        },
        {
          "output_type": "display_data",
          "data": {
            "text/plain": [
              "<Figure size 432x288 with 1 Axes>"
            ],
            "image/png": "[encoded data removed]"
          },
          "metadata": {
            "needs_background": "light"
          }
        }
      ]
    },
    {
      "cell_type": "markdown",
      "source": [
        "train[1][k] guarda el número que representa el respectivo train[0][k]."
      ],
      "metadata": {
        "id": "HIGwkL6_jZSH"
      }
    },
    {
      "cell_type": "markdown",
      "source": [
        "------------------------------------------------"
      ],
      "metadata": {
        "id": "soZ3iRwyk6Fg"
      }
    },
    {
      "cell_type": "markdown",
      "source": [
        "Implementación del descenso de gradiente."
      ],
      "metadata": {
        "id": "VJFwtxOpk1Sn"
      }
    },
    {
      "cell_type": "markdown",
      "source": [
        "Consideramos el tamaño de paso $\\alpha_k=\\frac{d_k^Td_k}{d_k^THd_k}$"
      ],
      "metadata": {
        "id": "MWmmdEFOlLd7"
      }
    },
    {
      "cell_type": "code",
      "source": [
        "def get_alpha_k(x,d,H):#Si tenemos H la matriz Hessiana.\n",
        "    top=np.linalg.norm(d)\n",
        "    bottom=np.dot(d,np.dot(H,d))\n",
        "    return (top/bottom)"
      ],
      "metadata": {
        "id": "pb5BpulEjXdh"
      },
      "execution_count": null,
      "outputs": []
    },
    {
      "cell_type": "markdown",
      "source": [
        "Nuestra función de descenso recibe una condición inicial $x_0$, la función a minimizar, el gradiente y Hessiano de la misma, y hay parámetros opcionales para tolerancia del gradiente y número máximo de iteraciones, así como un parámetro (False por default) que grafica el valor de $f(x_k)$ y $||g_k||$."
      ],
      "metadata": {
        "id": "XQrBi6DhldlE"
      }
    },
    {
      "cell_type": "code",
      "execution_count": null,
      "metadata": {
        "id": "WI6qv9P7EsAt"
      },
      "outputs": [],
      "source": [
        "def Steepest_descent(x_0,f,grad_f,Hessian_f,tol_grad=10**(-6),max_iter=10**5,pr=\"False\"):\n",
        "    alpha_k=get_alpha_k(x=x_0,d=grad_f(x_0),H=Hessian_f(x_0))\n",
        "    x_1=x_0-alpha_k*np.array(grad_f(x_0))#First iteration\n",
        "    if(pr=='True'):\n",
        "        print(\"Initial approximation: \", x_0)\n",
        "        F=[f(x_0)]\n",
        "        G=[np.linalg.norm(grad_f(x_0))]\n",
        "    x_0=x_1\n",
        "    k=1\n",
        "    norm_grad=np.linalg.norm(grad_f(x_1))\n",
        "    #Cycle\n",
        "    while(norm_grad>tol_grad and k<max_iter):#stop criteria\n",
        "        k+=1\n",
        "        alpha_k=get_alpha_k(x=x_0,d=grad_f(x_0),H=Hessian_f(x_0))\n",
        "        x_1=x_0-alpha_k*np.array(grad_f(x_0))\n",
        "        x_0=x_1\n",
        "        norm_grad=np.linalg.norm(grad_f(x_1))\n",
        "        if(pr=='True'):\n",
        "            F.append(f(x_0))\n",
        "            G.append(np.linalg.norm(grad_f(x_0)))\n",
        "    if(k==max_iter):\n",
        "        print(\"There wasnt convergence after \"+str(max_iter)+\" iterations.\\nLast iteration: \"+str(x_1),\"   \",\"f(x_k)= \",str(f(x_1)))\n",
        "    else:\n",
        "        L=0\n",
        "        plt.plot(range(L+1,len(F)),F[L:-1])#Posterior convergence\n",
        "        plt.title(\"k vs. F(X_k)\")   \n",
        "        plt.show()         \n",
        "        plt.plot(range(L+1,len(G)),G[L:-1])\n",
        "        plt.title(\"k vs. ||g(X_k)||\")   \n",
        "        plt.show()\n",
        "    print(\"iterations: \",k)\n",
        "    return (x_1)"
      ]
    },
    {
      "cell_type": "markdown",
      "source": [
        "Definimos $f$, $\\nabla f$ y $H_f$ para el problema."
      ],
      "metadata": {
        "id": "L335f8FWmW2d"
      }
    },
    {
      "cell_type": "markdown",
      "source": [
        "Primero seleccionamos un subconjunto de los datos, tales que $y\\in\\{0,1\\}$."
      ],
      "metadata": {
        "id": "79ZLjjIxntuR"
      }
    },
    {
      "cell_type": "code",
      "source": [
        "import random"
      ],
      "metadata": {
        "id": "I3OQ-_h6PCy0"
      },
      "execution_count": 131,
      "outputs": []
    },
    {
      "cell_type": "code",
      "source": [
        "y=train[1][train[1]<2]\n",
        "x=train[0][train[1]<2]\n",
        "np.random.seed(0)\n",
        "u=np.random.randint(0,5000,200)\n",
        "x=x[u]\n",
        "np.random.seed(0)\n",
        "y=y[np.random.randint(0,5000,200)]\n",
        "n=len(x)"
      ],
      "metadata": {
        "id": "KckQQ7LontUj"
      },
      "execution_count": 154,
      "outputs": []
    },
    {
      "cell_type": "code",
      "source": [
        "x_plus=np.c_[x,np.ones(n)]\n",
        "x_plus.shape"
      ],
      "metadata": {
        "id": "M9Iohqg0we9u",
        "outputId": "e664a462-d55a-4826-d65a-f738ff1d12eb",
        "colab": {
          "base_uri": "https://localhost:8080/"
        }
      },
      "execution_count": 155,
      "outputs": [
        {
          "output_type": "execute_result",
          "data": {
            "text/plain": [
              "(200, 785)"
            ]
          },
          "metadata": {},
          "execution_count": 155
        }
      ]
    },
    {
      "cell_type": "code",
      "source": [
        "def pi_i(i,b,b_0):\n",
        "    u=np.dot(x[i],b)\n",
        "    a=1+np.exp(-u-b_0)\n",
        "    return (1/a)"
      ],
      "metadata": {
        "id": "I2FP7zcYnM4I"
      },
      "execution_count": 142,
      "outputs": []
    },
    {
      "cell_type": "code",
      "source": [
        "def h(b_and_b_0):\n",
        "    b=b_and_b_0[0:-1]\n",
        "    b_0=b_and_b_0[-1]\n",
        "    suma=0\n",
        "    for i in range(n):\n",
        "        p_i=pi_i(i=i,b=b,b_0=b_0)\n",
        "        suma+=y[i]*np.log(p_i)+(1-y[i])*np.log(1-p_i)\n",
        "    return suma"
      ],
      "metadata": {
        "id": "nm6_uxZ8mXJm"
      },
      "execution_count": 143,
      "outputs": []
    },
    {
      "cell_type": "code",
      "source": [
        "def grad_h(b_and_b_0):\n",
        "    b=b_and_b_0[:-1]\n",
        "    b_0=b_and_b_0[-1]\n",
        "    suma_g=np.zeros(len(b_and_b_0))\n",
        "    for i in range(n):\n",
        "        p_i=pi_i(i=i,b=b,b_0=b_0)\n",
        "        suma_g+=(y[i]/p_i)-(1-y[i])*(1/(1-p_i))*(-((p_i**(-1)-1)/p_i**2))*x_plus[i]\n",
        "    return suma_g"
      ],
      "metadata": {
        "id": "eHrR7oqbnLEQ"
      },
      "execution_count": 144,
      "outputs": []
    },
    {
      "cell_type": "code",
      "source": [
        "def Hessian_h(b_and_b_0):\n",
        "    b=b_and_b_0[:-1]\n",
        "    b_0=b_and_b_0[-1]\n",
        "    suma_h=np.zeros((len(b_and_b_0),len(b_and_b_0)))\n",
        "    for i in range(n):\n",
        "        p_i=pi_i(i=i,b=b,b_0=b_0)\n",
        "        common_exp=p_i**(-1)-1\n",
        "        suma_h+=np.outer(x_plus[i],x_plus[i])*(common_exp*(-(common_exp+1)**2+2*(common_exp+1)))*p_i**4\n",
        "    return suma_h"
      ],
      "metadata": {
        "id": "eefKtgDa_oKc"
      },
      "execution_count": 145,
      "outputs": []
    },
    {
      "cell_type": "code",
      "source": [
        "pi_i(i=1,b=np.ones(784)*0.005,b_0=1)"
      ],
      "metadata": {
        "id": "-3OAQFr-KW-t",
        "outputId": "eba5d309-f7db-4c71-ff12-031c4f3313c1",
        "colab": {
          "base_uri": "https://localhost:8080/"
        }
      },
      "execution_count": 120,
      "outputs": [
        {
          "output_type": "execute_result",
          "data": {
            "text/plain": [
              "0.9872158134167734"
            ]
          },
          "metadata": {},
          "execution_count": 120
        }
      ]
    },
    {
      "cell_type": "code",
      "source": [
        "grad_h(np.ones(785)*0.005)"
      ],
      "metadata": {
        "id": "e2w968q7IQnL",
        "outputId": "7523a0ba-47df-445d-8635-acfeaa553cd4",
        "colab": {
          "base_uri": "https://localhost:8080/"
        }
      },
      "execution_count": 146,
      "outputs": [
        {
          "output_type": "execute_result",
          "data": {
            "text/plain": [
              "array([18.85197201, 18.85197201, 18.85197201, 18.85197201, 18.85197201,\n",
              "       18.85197201, 18.85197201, 18.85197201, 18.85197201, 18.85197201,\n",
              "       18.85197201, 18.85197201, 18.85197201, 18.85197201, 18.85197201,\n",
              "       18.85197201, 18.85197201, 18.85197201, 18.85197201, 18.85197201,\n",
              "       18.85197201, 18.85197201, 18.85197201, 18.85197201, 18.85197201,\n",
              "       18.85197201, 18.85197201, 18.85197201, 18.85197201, 18.85197201,\n",
              "       18.85197201, 18.85197201, 18.85197201, 18.85197201, 18.85197201,\n",
              "       18.85197201, 18.85197201, 18.85197201, 18.85197201, 18.85197201,\n",
              "       18.85197201, 18.85197201, 18.85197201, 18.85197201, 18.85197201,\n",
              "       18.85197201, 18.85197201, 18.85197201, 18.85197201, 18.85197201,\n",
              "       18.85197201, 18.85197201, 18.85197201, 18.85197201, 18.85197201,\n",
              "       18.85197201, 18.85197201, 18.85197201, 18.85197201, 18.85197201,\n",
              "       18.85197201, 18.85197201, 18.85197201, 18.85197201, 18.85197201,\n",
              "       18.85197201, 18.85197201, 18.85197201, 18.85197201, 18.85197201,\n",
              "       18.85197201, 18.85197201, 18.85197201, 18.85197201, 18.85197201,\n",
              "       18.85197201, 18.85197201, 18.85197201, 18.85197201, 18.85197201,\n",
              "       18.85197201, 18.85197201, 18.85197201, 18.85197201, 18.85197201,\n",
              "       18.85197201, 18.85197201, 18.85197201, 18.85197201, 18.85197201,\n",
              "       18.85197201, 18.85197201, 18.85197201, 18.85197201, 18.85197201,\n",
              "       18.85197201, 18.85197201, 18.85197201, 19.84566654, 22.47185924,\n",
              "       21.19425198, 20.47027453, 18.85197201, 18.85197201, 18.85197201,\n",
              "       18.85197201, 18.85197201, 18.85197201, 18.85197201, 18.85197201,\n",
              "       18.85197201, 18.85197201, 18.85197201, 18.85197201, 18.85197201,\n",
              "       18.85197201, 18.85197201, 18.85197201, 18.85197201, 18.85197201,\n",
              "       18.85197201, 18.85197201, 19.06863499, 20.91027036, 24.56113315,\n",
              "       27.71424924, 30.22097402, 31.26664116, 31.6614695 , 31.73049786,\n",
              "       26.48951768, 20.65806546, 18.85197201, 18.85197201, 18.85197201,\n",
              "       18.85197201, 18.85197201, 18.85197201, 18.85197201, 18.85197201,\n",
              "       18.85197201, 18.85197201, 18.85197201, 18.85197201, 18.85197201,\n",
              "       18.85197201, 18.85197201, 18.85197201, 18.85197201, 19.20404936,\n",
              "       24.70222613, 27.27696573, 28.746836  , 31.68830203, 39.37348387,\n",
              "       43.57308579, 45.27513274, 39.04607194, 38.15344878, 34.37883938,\n",
              "       26.12551155, 20.40785251, 19.31797628, 19.77314325, 19.00369433,\n",
              "       18.85197201, 18.85197201, 18.85197201, 18.85197201, 18.85197201,\n",
              "       18.85197201, 18.85197201, 18.85197201, 18.85197201, 18.85197201,\n",
              "       18.85197201, 19.2582151 , 25.06892332, 30.36722693, 31.12545099,\n",
              "       30.4008962 , 32.8188946 , 43.62492055, 47.74115995, 47.68244475,\n",
              "       45.49208967, 43.51033973, 37.30373296, 28.97601048, 20.46829511,\n",
              "       20.22831021, 21.56129918, 20.43421908, 18.85197201, 18.85197201,\n",
              "       18.85197201, 18.85197201, 18.85197201, 18.85197201, 18.85197201,\n",
              "       18.85197201, 18.85197201, 18.85197201, 18.85197201, 22.93112686,\n",
              "       29.25016445, 31.37993118, 29.64595962, 32.01160196, 41.56389549,\n",
              "       47.58869446, 47.54363334, 47.07316176, 47.14679563, 44.12541425,\n",
              "       44.12244618, 36.01152023, 22.22309484, 20.22831021, 21.56129918,\n",
              "       21.56129918, 18.85197201, 18.85197201, 18.85197201, 18.85197201,\n",
              "       18.85197201, 18.85197201, 18.85197201, 18.85197201, 18.85197201,\n",
              "       18.85197201, 20.52613862, 27.82547913, 31.18365239, 33.05432764,\n",
              "       35.14403889, 37.86044223, 45.4747332 , 43.71759805, 39.40156139,\n",
              "       38.12104576, 43.33904012, 37.24187162, 45.7278467 , 40.75544056,\n",
              "       25.17850048, 20.22831021, 21.56129918, 21.56129918, 18.85197201,\n",
              "       18.85197201, 18.85197201, 18.85197201, 18.85197201, 18.85197201,\n",
              "       18.85197201, 18.85197201, 18.85197201, 19.01453164, 23.43547639,\n",
              "       31.205327  , 32.19658987, 32.83864154, 39.72245543, 41.15825526,\n",
              "       41.93347277, 36.61650169, 31.94825645, 33.29573555, 30.19610621,\n",
              "       35.24514886, 42.13973416, 45.44355804, 29.40120492, 20.37883086,\n",
              "       21.58297379, 21.58297379, 18.85197201, 18.85197201, 18.85197201,\n",
              "       18.85197201, 18.85197201, 18.85197201, 18.85197201, 18.85197201,\n",
              "       19.01453164, 20.3962781 , 26.6307654 , 32.12482092, 38.72913851,\n",
              "       37.84607433, 38.47982173, 39.34676433, 40.11280984, 31.27491247,\n",
              "       27.77575703, 22.92454006, 21.48957422, 30.84726641, 41.82127299,\n",
              "       45.52496872, 37.69582115, 22.14645839, 21.56129918, 21.56129918,\n",
              "       18.85197201, 18.85197201, 18.85197201, 18.85197201, 18.85197201,\n",
              "       18.85197201, 18.85197201, 18.85197201, 19.31797628, 22.5362826 ,\n",
              "       30.32227176, 33.37894536, 37.27071878, 36.02782126, 38.17099618,\n",
              "       34.69544829, 30.74783611, 24.40872645, 21.87473619, 19.0421275 ,\n",
              "       18.92803421, 25.64196881, 35.62768756, 45.07099785, 39.68245652,\n",
              "       28.73387396, 21.56129918, 21.56129918, 18.85197201, 18.85197201,\n",
              "       18.85197201, 18.85197201, 18.85197201, 18.85197201, 18.85197201,\n",
              "       18.85197201, 20.8351995 , 23.19977849, 31.40032882, 37.22945472,\n",
              "       40.46963212, 38.48677938, 34.06537043, 28.99309879, 25.30829558,\n",
              "       18.85197201, 18.85197201, 18.85197201, 19.88215945, 26.67604252,\n",
              "       31.66661114, 43.17403008, 40.54150893, 32.53298627, 22.37565202,\n",
              "       21.56129918, 18.85197201, 18.85197201, 18.85197201, 18.85197201,\n",
              "       18.85197201, 18.85197201, 18.85197201, 18.85197201, 21.58297379,\n",
              "       24.57333138, 32.96972613, 38.19704681, 37.48835143, 35.17536425,\n",
              "       30.23247682, 28.15540431, 21.79989137, 18.85197201, 18.85197201,\n",
              "       18.85197201, 20.34324997, 27.18125102, 29.96333156, 41.44703275,\n",
              "       41.43274472, 37.29529983, 24.52296795, 21.56129918, 18.85197201,\n",
              "       18.85197201, 18.85197201, 18.85197201, 18.85197201, 18.85197201,\n",
              "       18.85197201, 18.85197201, 21.60464841, 27.48239979, 35.43455848,\n",
              "       39.07375261, 36.00238299, 31.71751603, 27.03617329, 20.31667853,\n",
              "       18.85197201, 18.85197201, 18.85197201, 18.85197201, 20.34324997,\n",
              "       27.20660508, 30.20162017, 35.21968122, 39.47146374, 35.56919169,\n",
              "       24.95205233, 21.20366799, 18.85197201, 18.85197201, 18.85197201,\n",
              "       18.85197201, 18.85197201, 18.85197201, 18.85197201, 18.85197201,\n",
              "       21.58297379, 29.27684569, 37.80423461, 44.59489238, 37.19108687,\n",
              "       29.97448999, 23.95783147, 18.85197201, 18.85197201, 18.85197201,\n",
              "       18.85197201, 18.85197201, 20.67285282, 28.54376794, 31.90813372,\n",
              "       33.72489615, 36.08024303, 33.95586877, 24.94201799, 19.29630167,\n",
              "       18.85197201, 18.85197201, 18.85197201, 18.85197201, 18.85197201,\n",
              "       18.85197201, 18.85197201, 18.85197201, 21.58297379, 27.97417899,\n",
              "       43.86926275, 47.85396505, 36.60976067, 29.31132781, 20.6021634 ,\n",
              "       18.91535717, 18.85197201, 18.85197201, 18.85197201, 18.85197201,\n",
              "       20.67285282, 30.36171356, 33.75726778, 31.05628474, 35.34884382,\n",
              "       31.53015424, 24.93037771, 19.29630167, 18.85197201, 18.85197201,\n",
              "       18.85197201, 18.85197201, 18.85197201, 18.85197201, 18.85197201,\n",
              "       18.85197201, 21.58297379, 26.18670937, 43.02051024, 47.77919764,\n",
              "       40.55359501, 26.68418532, 21.23525418, 19.10551267, 18.85197201,\n",
              "       18.85197201, 19.25763706, 20.23376859, 24.60914288, 32.86196695,\n",
              "       34.24013155, 34.61202932, 32.99965774, 30.2207759 , 24.442886  ,\n",
              "       19.29630167, 18.85197201, 18.85197201, 18.85197201, 18.85197201,\n",
              "       18.85197201, 18.85197201, 18.85197201, 18.85197201, 19.67560747,\n",
              "       26.40995897, 44.68197144, 46.66186278, 39.18713855, 23.50547857,\n",
              "       19.23228299, 18.85197201, 18.85197201, 18.85197201, 19.7773954 ,\n",
              "       23.66545826, 32.64014669, 35.68833246, 34.49193861, 31.9923628 ,\n",
              "       31.88349511, 28.73121789, 22.46525394, 18.92783317, 18.85197201,\n",
              "       18.85197201, 18.85197201, 18.85197201, 18.85197201, 18.85197201,\n",
              "       18.85197201, 18.85197201, 19.24211512, 26.0134952 , 43.88179599,\n",
              "       47.85487594, 41.49452735, 29.6624601 , 21.6259042 , 20.24339968,\n",
              "       21.2195312 , 22.13512247, 25.31437332, 33.03760591, 36.19401561,\n",
              "       35.82569406, 34.29074538, 31.2591431 , 29.61954444, 23.67703801,\n",
              "       20.76097772, 18.85197201, 18.85197201, 18.85197201, 18.85197201,\n",
              "       18.85197201, 18.85197201, 18.85197201, 18.85197201, 18.85197201,\n",
              "       18.85197201, 22.78166351, 40.35881189, 47.22892625, 43.97252638,\n",
              "       34.47367178, 31.10891687, 30.89840175, 30.83377526, 32.85239063,\n",
              "       35.58541378, 36.7901363 , 38.33475591, 35.56064618, 31.66993526,\n",
              "       31.27744169, 26.09864616, 21.74195629, 19.04985675, 18.85197201,\n",
              "       18.85197201, 18.85197201, 18.85197201, 18.85197201, 18.85197201,\n",
              "       18.85197201, 18.85197201, 18.85197201, 18.85197201, 21.39195957,\n",
              "       34.26571973, 44.50063872, 47.93909557, 47.31635196, 42.11261023,\n",
              "       41.34265015, 40.28338478, 39.04951524, 38.20720651, 39.63187659,\n",
              "       37.3968065 , 30.86172023, 30.96318709, 25.70825348, 23.10270225,\n",
              "       19.01493591, 18.85197201, 18.85197201, 18.85197201, 18.85197201,\n",
              "       18.85197201, 18.85197201, 18.85197201, 18.85197201, 18.85197201,\n",
              "       18.85197201, 18.85197201, 19.25306658, 27.13270056, 38.19118342,\n",
              "       43.89902894, 46.42473344, 47.68004243, 44.07802032, 44.34750647,\n",
              "       44.65911431, 40.37927693, 38.6656047 , 32.85319812, 28.64384934,\n",
              "       24.86308899, 21.47103473, 19.01493591, 18.86361229, 18.85197201,\n",
              "       18.85197201, 18.85197201, 18.85197201, 18.85197201, 18.85197201,\n",
              "       18.85197201, 18.85197201, 18.85197201, 18.85197201, 18.85197201,\n",
              "       18.85197201, 21.65671833, 26.96459316, 40.29475537, 42.40626048,\n",
              "       43.26448901, 40.71055943, 39.24142187, 38.06487538, 35.65440093,\n",
              "       29.09325906, 27.68494966, 23.73615447, 21.64563891, 19.96943877,\n",
              "       18.85197201, 18.85197201, 18.85197201, 18.85197201, 18.85197201,\n",
              "       18.85197201, 18.85197201, 18.85197201, 18.85197201, 18.85197201,\n",
              "       18.85197201, 18.85197201, 18.85197201, 18.85197201, 18.85197201,\n",
              "       19.20905934, 20.84145856, 21.30057084, 25.30505016, 25.73574048,\n",
              "       26.51563915, 24.5812601 , 23.2485924 , 21.79696253, 21.79696253,\n",
              "       20.97050274, 19.70171236, 18.85197201, 18.85197201, 18.85197201,\n",
              "       18.85197201, 18.85197201, 18.85197201, 18.85197201, 18.85197201,\n",
              "       18.85197201, 18.85197201, 18.85197201, 18.85197201, 18.85197201,\n",
              "       18.85197201, 18.85197201, 18.85197201, 18.85197201, 18.85197201,\n",
              "       18.85197201, 18.85197201, 18.85197201, 18.85197201, 18.85197201,\n",
              "       18.85197201, 18.85197201, 18.85197201, 18.85197201, 18.85197201,\n",
              "       18.85197201, 18.85197201, 18.85197201, 18.85197201, 18.85197201,\n",
              "       18.85197201, 18.85197201, 18.85197201, 18.85197201, 18.85197201,\n",
              "       18.85197201, 18.85197201, 18.85197201, 18.85197201, 18.85197201,\n",
              "       18.85197201, 18.85197201, 18.85197201, 18.85197201, 18.85197201,\n",
              "       18.85197201, 18.85197201, 18.85197201, 18.85197201, 18.85197201,\n",
              "       18.85197201, 18.85197201, 18.85197201, 18.85197201, 18.85197201,\n",
              "       18.85197201, 18.85197201, 18.85197201, 18.85197201, 18.85197201,\n",
              "       18.85197201, 18.85197201, 18.85197201, 18.85197201, 18.85197201,\n",
              "       18.85197201, 18.85197201, 18.85197201, 18.85197201, 18.85197201,\n",
              "       18.85197201, 18.85197201, 18.85197201, 18.85197201, 18.85197201,\n",
              "       18.85197201, 18.85197201, 18.85197201, 18.85197201, 18.85197201,\n",
              "       18.85197201, 18.85197201, 18.85197201, 18.85197201, 18.85197201,\n",
              "       18.85197201, 18.85197201, 18.85197201, 18.85197201, 48.61560034])"
            ]
          },
          "metadata": {},
          "execution_count": 146
        }
      ]
    },
    {
      "cell_type": "code",
      "source": [
        "loc_min=Steepest_descent(x_0=np.ones(785)*0.005,f=h,grad_f=grad_h,Hessian_f=Hessian_h,tol_grad=0.0001,max_iter=1000,pr='True')"
      ],
      "metadata": {
        "id": "ZCPMh9_IAMbq",
        "outputId": "57f7b2c7-c81a-411e-f4e9-f49e87cade7a",
        "colab": {
          "base_uri": "https://localhost:8080/"
        }
      },
      "execution_count": 156,
      "outputs": [
        {
          "output_type": "stream",
          "name": "stdout",
          "text": [
            "Initial approximation:  [0.005 0.005 0.005 0.005 0.005 0.005 0.005 0.005 0.005 0.005 0.005 0.005\n",
            " 0.005 0.005 0.005 0.005 0.005 0.005 0.005 0.005 0.005 0.005 0.005 0.005\n",
            " 0.005 0.005 0.005 0.005 0.005 0.005 0.005 0.005 0.005 0.005 0.005 0.005\n",
            " 0.005 0.005 0.005 0.005 0.005 0.005 0.005 0.005 0.005 0.005 0.005 0.005\n",
            " 0.005 0.005 0.005 0.005 0.005 0.005 0.005 0.005 0.005 0.005 0.005 0.005\n",
            " 0.005 0.005 0.005 0.005 0.005 0.005 0.005 0.005 0.005 0.005 0.005 0.005\n",
            " 0.005 0.005 0.005 0.005 0.005 0.005 0.005 0.005 0.005 0.005 0.005 0.005\n",
            " 0.005 0.005 0.005 0.005 0.005 0.005 0.005 0.005 0.005 0.005 0.005 0.005\n",
            " 0.005 0.005 0.005 0.005 0.005 0.005 0.005 0.005 0.005 0.005 0.005 0.005\n",
            " 0.005 0.005 0.005 0.005 0.005 0.005 0.005 0.005 0.005 0.005 0.005 0.005\n",
            " 0.005 0.005 0.005 0.005 0.005 0.005 0.005 0.005 0.005 0.005 0.005 0.005\n",
            " 0.005 0.005 0.005 0.005 0.005 0.005 0.005 0.005 0.005 0.005 0.005 0.005\n",
            " 0.005 0.005 0.005 0.005 0.005 0.005 0.005 0.005 0.005 0.005 0.005 0.005\n",
            " 0.005 0.005 0.005 0.005 0.005 0.005 0.005 0.005 0.005 0.005 0.005 0.005\n",
            " 0.005 0.005 0.005 0.005 0.005 0.005 0.005 0.005 0.005 0.005 0.005 0.005\n",
            " 0.005 0.005 0.005 0.005 0.005 0.005 0.005 0.005 0.005 0.005 0.005 0.005\n",
            " 0.005 0.005 0.005 0.005 0.005 0.005 0.005 0.005 0.005 0.005 0.005 0.005\n",
            " 0.005 0.005 0.005 0.005 0.005 0.005 0.005 0.005 0.005 0.005 0.005 0.005\n",
            " 0.005 0.005 0.005 0.005 0.005 0.005 0.005 0.005 0.005 0.005 0.005 0.005\n",
            " 0.005 0.005 0.005 0.005 0.005 0.005 0.005 0.005 0.005 0.005 0.005 0.005\n",
            " 0.005 0.005 0.005 0.005 0.005 0.005 0.005 0.005 0.005 0.005 0.005 0.005\n",
            " 0.005 0.005 0.005 0.005 0.005 0.005 0.005 0.005 0.005 0.005 0.005 0.005\n",
            " 0.005 0.005 0.005 0.005 0.005 0.005 0.005 0.005 0.005 0.005 0.005 0.005\n",
            " 0.005 0.005 0.005 0.005 0.005 0.005 0.005 0.005 0.005 0.005 0.005 0.005\n",
            " 0.005 0.005 0.005 0.005 0.005 0.005 0.005 0.005 0.005 0.005 0.005 0.005\n",
            " 0.005 0.005 0.005 0.005 0.005 0.005 0.005 0.005 0.005 0.005 0.005 0.005\n",
            " 0.005 0.005 0.005 0.005 0.005 0.005 0.005 0.005 0.005 0.005 0.005 0.005\n",
            " 0.005 0.005 0.005 0.005 0.005 0.005 0.005 0.005 0.005 0.005 0.005 0.005\n",
            " 0.005 0.005 0.005 0.005 0.005 0.005 0.005 0.005 0.005 0.005 0.005 0.005\n",
            " 0.005 0.005 0.005 0.005 0.005 0.005 0.005 0.005 0.005 0.005 0.005 0.005\n",
            " 0.005 0.005 0.005 0.005 0.005 0.005 0.005 0.005 0.005 0.005 0.005 0.005\n",
            " 0.005 0.005 0.005 0.005 0.005 0.005 0.005 0.005 0.005 0.005 0.005 0.005\n",
            " 0.005 0.005 0.005 0.005 0.005 0.005 0.005 0.005 0.005 0.005 0.005 0.005\n",
            " 0.005 0.005 0.005 0.005 0.005 0.005 0.005 0.005 0.005 0.005 0.005 0.005\n",
            " 0.005 0.005 0.005 0.005 0.005 0.005 0.005 0.005 0.005 0.005 0.005 0.005\n",
            " 0.005 0.005 0.005 0.005 0.005 0.005 0.005 0.005 0.005 0.005 0.005 0.005\n",
            " 0.005 0.005 0.005 0.005 0.005 0.005 0.005 0.005 0.005 0.005 0.005 0.005\n",
            " 0.005 0.005 0.005 0.005 0.005 0.005 0.005 0.005 0.005 0.005 0.005 0.005\n",
            " 0.005 0.005 0.005 0.005 0.005 0.005 0.005 0.005 0.005 0.005 0.005 0.005\n",
            " 0.005 0.005 0.005 0.005 0.005 0.005 0.005 0.005 0.005 0.005 0.005 0.005\n",
            " 0.005 0.005 0.005 0.005 0.005 0.005 0.005 0.005 0.005 0.005 0.005 0.005\n",
            " 0.005 0.005 0.005 0.005 0.005 0.005 0.005 0.005 0.005 0.005 0.005 0.005\n",
            " 0.005 0.005 0.005 0.005 0.005 0.005 0.005 0.005 0.005 0.005 0.005 0.005\n",
            " 0.005 0.005 0.005 0.005 0.005 0.005 0.005 0.005 0.005 0.005 0.005 0.005\n",
            " 0.005 0.005 0.005 0.005 0.005 0.005 0.005 0.005 0.005 0.005 0.005 0.005\n",
            " 0.005 0.005 0.005 0.005 0.005 0.005 0.005 0.005 0.005 0.005 0.005 0.005\n",
            " 0.005 0.005 0.005 0.005 0.005 0.005 0.005 0.005 0.005 0.005 0.005 0.005\n",
            " 0.005 0.005 0.005 0.005 0.005 0.005 0.005 0.005 0.005 0.005 0.005 0.005\n",
            " 0.005 0.005 0.005 0.005 0.005 0.005 0.005 0.005 0.005 0.005 0.005 0.005\n",
            " 0.005 0.005 0.005 0.005 0.005 0.005 0.005 0.005 0.005 0.005 0.005 0.005\n",
            " 0.005 0.005 0.005 0.005 0.005 0.005 0.005 0.005 0.005 0.005 0.005 0.005\n",
            " 0.005 0.005 0.005 0.005 0.005 0.005 0.005 0.005 0.005 0.005 0.005 0.005\n",
            " 0.005 0.005 0.005 0.005 0.005 0.005 0.005 0.005 0.005 0.005 0.005 0.005\n",
            " 0.005 0.005 0.005 0.005 0.005 0.005 0.005 0.005 0.005 0.005 0.005 0.005\n",
            " 0.005 0.005 0.005 0.005 0.005 0.005 0.005 0.005 0.005 0.005 0.005 0.005\n",
            " 0.005 0.005 0.005 0.005 0.005 0.005 0.005 0.005 0.005 0.005 0.005 0.005\n",
            " 0.005 0.005 0.005 0.005 0.005 0.005 0.005 0.005 0.005 0.005 0.005 0.005\n",
            " 0.005 0.005 0.005 0.005 0.005 0.005 0.005 0.005 0.005 0.005 0.005 0.005\n",
            " 0.005 0.005 0.005 0.005 0.005 0.005 0.005 0.005 0.005 0.005 0.005 0.005\n",
            " 0.005 0.005 0.005 0.005 0.005 0.005 0.005 0.005 0.005 0.005 0.005 0.005\n",
            " 0.005 0.005 0.005 0.005 0.005 0.005 0.005 0.005 0.005 0.005 0.005 0.005\n",
            " 0.005 0.005 0.005 0.005 0.005 0.005 0.005 0.005 0.005 0.005 0.005 0.005\n",
            " 0.005 0.005 0.005 0.005 0.005 0.005 0.005 0.005 0.005 0.005 0.005 0.005\n",
            " 0.005 0.005 0.005 0.005 0.005 0.005 0.005 0.005 0.005 0.005 0.005 0.005\n",
            " 0.005 0.005 0.005 0.005 0.005 0.005 0.005 0.005 0.005 0.005 0.005 0.005\n",
            " 0.005 0.005 0.005 0.005 0.005]\n",
            "There wasnt convergence after 1000 iterations.\n",
            "Last iteration: [-8.35083787e-02 -8.35083787e-02 -8.35083787e-02 -8.35083787e-02\n",
            " -8.35083787e-02 -8.35083787e-02 -8.35083787e-02 -8.35083787e-02\n",
            " -8.35083787e-02 -8.35083787e-02 -8.35083787e-02 -8.35083787e-02\n",
            " -8.35083787e-02 -8.35083787e-02 -8.35083787e-02 -8.35083787e-02\n",
            " -8.35083787e-02 -8.35083787e-02 -8.35083787e-02 -8.35083787e-02\n",
            " -8.35083787e-02 -8.35083787e-02 -8.35083787e-02 -8.35083787e-02\n",
            " -8.35083787e-02 -8.35083787e-02 -8.35083787e-02 -8.35083787e-02\n",
            " -8.35083787e-02 -8.35083787e-02 -8.35083787e-02 -8.35083787e-02\n",
            " -8.35083787e-02 -8.35083787e-02 -8.35083787e-02 -8.35083787e-02\n",
            " -8.35083787e-02 -8.35083787e-02 -8.35083787e-02 -8.35083787e-02\n",
            " -8.35083787e-02 -8.35083787e-02 -8.35083787e-02 -8.35083787e-02\n",
            " -8.35083787e-02 -8.35083787e-02 -8.35083787e-02 -8.35083787e-02\n",
            " -8.35083787e-02 -8.35083787e-02 -8.35083787e-02 -8.35083787e-02\n",
            " -8.35083787e-02 -8.35083787e-02 -8.35083787e-02 -8.35083787e-02\n",
            " -8.35083787e-02 -8.35083787e-02 -8.35083787e-02 -8.35083787e-02\n",
            " -8.35083787e-02 -8.35083787e-02 -8.35083787e-02 -8.35083787e-02\n",
            " -8.35083787e-02 -8.35083787e-02 -8.35083787e-02 -8.35083787e-02\n",
            " -8.35083787e-02 -8.35083787e-02 -8.35083787e-02 -8.35083787e-02\n",
            " -8.35083787e-02 -8.35083787e-02 -8.35083787e-02 -8.35083787e-02\n",
            " -8.35083787e-02 -8.35083787e-02 -8.35083787e-02 -8.35083787e-02\n",
            " -8.35083787e-02 -8.35083787e-02 -8.35083787e-02 -8.35083787e-02\n",
            " -8.35083787e-02 -8.35083787e-02 -8.35083787e-02 -8.35083787e-02\n",
            " -8.35083787e-02 -8.35083787e-02 -8.35083787e-02 -8.35083787e-02\n",
            " -8.35083787e-02 -8.35083787e-02 -8.35519054e-02 -8.37562919e-02\n",
            " -8.38717324e-02 -8.37464900e-02 -8.39241669e-02 -8.18558215e-02\n",
            " -7.90505971e-02 -7.82060093e-02 -7.78654232e-02 -7.98479193e-02\n",
            " -8.19635034e-02 -8.31351061e-02 -8.35083787e-02 -8.35083787e-02\n",
            " -8.35083787e-02 -8.35083787e-02 -8.35083787e-02 -8.35083787e-02\n",
            " -8.35083787e-02 -8.35083787e-02 -8.35083787e-02 -8.35083787e-02\n",
            " -8.35083787e-02 -8.35083787e-02 -8.35083787e-02 -8.35083787e-02\n",
            " -8.35083787e-02 -8.27313826e-02 -8.01628452e-02 -7.65749128e-02\n",
            " -6.65468025e-02 -4.60686001e-02 -4.50871776e-02 -5.51973307e-02\n",
            " -6.33064893e-02 -6.33003649e-02 -6.59614991e-02 -6.85687365e-02\n",
            " -7.37807023e-02 -7.90092405e-02 -8.26567882e-02 -8.35083787e-02\n",
            " -8.35083787e-02 -8.35083787e-02 -8.35083787e-02 -8.35083787e-02\n",
            " -8.35083787e-02 -8.35083787e-02 -8.35083787e-02 -8.35083787e-02\n",
            " -8.35083787e-02 -8.35083787e-02 -8.35083787e-02 -8.34574573e-02\n",
            " -7.71342649e-02 -6.47841658e-02 -3.22618305e-02 -2.48633700e-02\n",
            " -2.10647383e-02 -6.79269279e-03 -1.06360271e-03  4.99782986e-04\n",
            " -3.53668878e-07 -8.39484373e-03 -3.02315228e-02 -5.33622823e-02\n",
            " -6.84187878e-02 -7.42309172e-02 -7.88031476e-02 -8.27134205e-02\n",
            " -8.35083787e-02 -8.35083787e-02 -8.35083787e-02 -8.35083787e-02\n",
            " -8.35083787e-02 -8.35083787e-02 -8.35083787e-02 -8.35083787e-02\n",
            " -8.35083787e-02 -8.35083787e-02 -8.35083787e-02 -7.48717371e-02\n",
            " -5.67365990e-02 -4.08148933e-02 -5.70106176e-03  7.94970192e-04\n",
            "  9.22686571e-03  1.69813919e-02  2.39630709e-02  2.81007138e-02\n",
            "  2.39141891e-02  2.48868038e-02  7.85910447e-03 -6.87489946e-03\n",
            " -4.01959172e-02 -5.59243820e-02 -6.65603566e-02 -7.56277063e-02\n",
            " -8.34742446e-02 -8.35083787e-02 -8.35083787e-02 -8.35083787e-02\n",
            " -8.35083787e-02 -8.35083787e-02 -8.35083787e-02 -8.35083787e-02\n",
            " -8.35083787e-02 -8.35083787e-02 -8.21810314e-02 -6.20408113e-02\n",
            " -4.81469793e-02 -3.28505790e-02  4.49228624e-03  1.74009134e-02\n",
            "  2.16762073e-02  2.00708491e-02  2.52867549e-02  3.33307488e-02\n",
            "  3.11464848e-02  2.85974886e-02  1.96731816e-02  9.07584406e-03\n",
            " -5.78943600e-03 -3.03675974e-02 -5.37198939e-02 -6.37915399e-02\n",
            " -7.88647340e-02 -8.35083787e-02 -8.35083787e-02 -8.35083787e-02\n",
            " -8.35083787e-02 -8.35083787e-02 -8.35083787e-02 -8.35083787e-02\n",
            " -8.35083787e-02 -8.35356275e-02 -7.67995515e-02 -5.21663294e-02\n",
            " -4.17602581e-02 -8.21907762e-03  9.26655993e-03  1.29851561e-02\n",
            "  1.20341706e-02  1.75839987e-02  2.17694911e-02  2.42343571e-02\n",
            "  2.51089539e-02  2.36960477e-02  2.03504984e-02  7.49532357e-03\n",
            " -5.60152521e-03 -1.47006323e-02 -5.03338194e-02 -5.60887215e-02\n",
            " -7.78533434e-02 -8.35083787e-02 -8.35083787e-02 -8.35083787e-02\n",
            " -8.35083787e-02 -8.35083787e-02 -8.35083787e-02 -8.35083787e-02\n",
            " -8.35083787e-02 -8.21961658e-02 -6.21614332e-02 -3.43443712e-02\n",
            "  1.45689014e-04  9.30175808e-03  7.13354596e-03  1.05290346e-02\n",
            "  1.73924254e-02  1.94771974e-02  1.55715314e-02  1.01424927e-02\n",
            "  1.03847778e-02  1.07822116e-02  1.61089995e-02  3.07072776e-03\n",
            "  3.31379189e-03 -8.43632149e-03 -3.92864229e-02 -5.21725313e-02\n",
            " -7.31555392e-02 -8.35083787e-02 -8.35083787e-02 -8.35083787e-02\n",
            " -8.35083787e-02 -8.35083787e-02 -8.35083787e-02 -8.35083787e-02\n",
            " -8.35083787e-02 -7.53642374e-02 -3.00199989e-02  9.05817154e-04\n",
            "  1.25663161e-02  8.39765165e-03  9.23969139e-03  1.31548849e-02\n",
            "  6.82396258e-03  2.85478057e-03 -1.74596803e-02 -2.93445807e-02\n",
            " -2.30956757e-02 -8.49767404e-03  8.75955585e-03  1.31400840e-03\n",
            " -3.14946865e-03  2.80433227e-03 -7.72658231e-03 -4.35365078e-02\n",
            " -7.15489367e-02 -8.29268791e-02 -8.35083787e-02 -8.35083787e-02\n",
            " -8.35083787e-02 -8.35083787e-02 -8.35083787e-02 -8.35083787e-02\n",
            " -8.35083787e-02 -5.57928982e-02 -7.82368657e-03  7.27460825e-03\n",
            "  1.08374634e-02  9.87858514e-03  1.09926589e-02  1.02529606e-02\n",
            " -6.01831381e-03 -2.27217260e-02 -5.49623404e-02 -6.06190729e-02\n",
            " -6.33669807e-02 -3.76918572e-02  4.68022888e-03 -1.69274757e-03\n",
            " -3.56203123e-03  1.61834931e-03  5.16200440e-03 -3.44217878e-02\n",
            " -6.95690240e-02 -8.32319249e-02 -8.35083787e-02 -8.35083787e-02\n",
            " -8.35083787e-02 -8.35083787e-02 -8.35083787e-02 -8.35083787e-02\n",
            " -8.35655675e-02 -3.19858062e-02  1.22846853e-04  4.70819222e-03\n",
            "  8.70871199e-03  1.03148076e-02  8.45902671e-03  3.16218213e-03\n",
            " -3.12126630e-02 -5.49078389e-02 -6.70537167e-02 -7.06521349e-02\n",
            " -6.91068615e-02 -5.37886498e-02 -1.51345107e-02 -3.97441188e-03\n",
            " -8.75886371e-03  2.54626073e-03  1.17804918e-02 -2.30676802e-02\n",
            " -6.73507969e-02 -8.29217731e-02 -8.35083787e-02 -8.35083787e-02\n",
            " -8.35083787e-02 -8.35083787e-02 -8.35083787e-02 -8.35083787e-02\n",
            " -7.22460976e-02 -1.40613941e-02  3.70691036e-03  7.75054873e-03\n",
            "  1.22740899e-02  1.32227106e-02 -9.82744028e-05 -3.42695507e-02\n",
            " -4.64233380e-02 -6.50317303e-02 -7.30457918e-02 -7.55809241e-02\n",
            " -6.74944302e-02 -5.61176743e-02 -3.55890832e-02 -7.89812757e-03\n",
            " -8.96029345e-03  5.76249709e-03  1.23560728e-02 -1.64626923e-02\n",
            " -6.12649446e-02 -8.21438387e-02 -8.35083787e-02 -8.35083787e-02\n",
            " -8.35083787e-02 -8.35083787e-02 -8.35083787e-02 -8.35083787e-02\n",
            " -5.77092015e-02 -1.57731265e-02  5.11945249e-03  1.15011790e-02\n",
            "  1.55180823e-02 -4.49129793e-03 -2.69264289e-02 -4.85184506e-02\n",
            " -6.17655736e-02 -6.91246416e-02 -7.64007414e-02 -7.71236777e-02\n",
            " -7.11674417e-02 -6.19103519e-02 -4.93210468e-02 -1.14974746e-02\n",
            " -6.76492763e-03  6.08811013e-03  1.10708009e-02  1.55725095e-03\n",
            " -5.36857510e-02 -8.13988593e-02 -8.35083787e-02 -8.35083787e-02\n",
            " -8.35083787e-02 -8.35083787e-02 -8.35083787e-02 -8.35083787e-02\n",
            " -5.04980707e-02 -1.19471968e-02  9.59984841e-03  1.22420286e-02\n",
            " -2.39134146e-03 -2.19719318e-02 -3.31378368e-02 -5.86620024e-02\n",
            " -7.16771048e-02 -7.95378916e-02 -7.98012629e-02 -7.88978910e-02\n",
            " -7.07460236e-02 -5.31298059e-02 -3.69729276e-02 -1.10131546e-02\n",
            " -5.26547149e-03  3.15243432e-03  1.37761240e-02  9.11764321e-03\n",
            " -5.44351825e-02 -8.12463063e-02 -8.35083787e-02 -8.35083787e-02\n",
            " -8.35083787e-02 -8.35083787e-02 -8.35083787e-02 -8.35083787e-02\n",
            " -4.74329150e-02 -1.31314967e-02  1.13278616e-02  9.95996521e-03\n",
            " -1.43690214e-02 -2.46139517e-02 -3.75608405e-02 -6.13720606e-02\n",
            " -7.14954760e-02 -7.33274093e-02 -6.95495268e-02 -6.66148370e-02\n",
            " -4.02214037e-02 -2.53128649e-02 -1.17708530e-02  9.11392516e-06\n",
            "  6.91419096e-04  4.51736134e-03  8.22686472e-03 -1.48197265e-02\n",
            " -5.65063581e-02 -8.10575599e-02 -8.35083787e-02 -8.35083787e-02\n",
            " -8.35083787e-02 -8.35083787e-02 -8.35083787e-02 -8.35083787e-02\n",
            " -4.41561564e-02 -1.68773922e-02  1.09273953e-02  1.80921909e-02\n",
            "  8.27232593e-03 -1.66495135e-02 -4.06218634e-02 -6.02756921e-02\n",
            " -5.16343881e-02 -5.32422343e-02 -3.62476457e-02 -2.05523132e-02\n",
            " -1.26802552e-02 -3.10670591e-03  6.75282635e-03  3.42374689e-04\n",
            " -2.55423357e-03  2.89180048e-03  5.06539784e-03 -2.29960538e-02\n",
            " -6.07055474e-02 -8.20432449e-02 -8.35083787e-02 -8.35083787e-02\n",
            " -8.35083787e-02 -8.35083787e-02 -8.35083787e-02 -8.35083787e-02\n",
            " -4.46684303e-02 -2.24859616e-02  6.54037821e-03  2.24221633e-02\n",
            "  2.46066409e-02  7.62676155e-03 -6.80644565e-03 -2.26765433e-02\n",
            " -2.97600947e-02 -2.79273864e-02 -2.52883911e-02 -1.58959452e-02\n",
            " -1.42985201e-03  8.02941103e-03  4.04685360e-03 -1.48610436e-03\n",
            "  1.76842425e-03 -5.43995316e-03 -1.20024985e-03 -3.37688693e-02\n",
            " -7.22209283e-02 -8.34742164e-02 -8.35083787e-02 -8.35083787e-02\n",
            " -8.35083787e-02 -8.35083787e-02 -8.35083787e-02 -8.35083787e-02\n",
            " -4.70543697e-02 -2.69804640e-02 -8.41653310e-05  1.80579941e-02\n",
            "  2.22422950e-02  1.36591686e-02  7.01647094e-03 -1.51566755e-02\n",
            " -2.13867103e-02 -1.54410471e-02 -9.46259973e-03  3.62387311e-03\n",
            "  1.61186241e-02  9.12456141e-03  2.21994731e-03  2.79389594e-03\n",
            " -4.86785413e-03 -9.76257804e-03 -1.81835585e-02 -5.78456725e-02\n",
            " -7.68803738e-02 -8.35083787e-02 -8.35083787e-02 -8.35083787e-02\n",
            " -8.35083787e-02 -8.35083787e-02 -8.35083787e-02 -8.35083787e-02\n",
            " -6.70904976e-02 -2.87600680e-02 -6.31560317e-04  1.16051651e-02\n",
            "  2.27810181e-02  2.29792645e-02  1.85347260e-02  8.06983150e-03\n",
            "  7.44872788e-03  1.42306844e-02  1.80180114e-02  1.87086664e-02\n",
            "  1.11218509e-02  6.93959242e-03  2.51613858e-03 -3.23830586e-03\n",
            " -1.08264468e-02 -3.28560904e-02 -6.11388685e-02 -7.21357374e-02\n",
            " -7.95095599e-02 -8.35083787e-02 -8.35083787e-02 -8.35083787e-02\n",
            " -8.35083787e-02 -8.35083787e-02 -8.35083787e-02 -8.38479009e-02\n",
            " -7.77187617e-02 -5.51631939e-02 -1.75942066e-02  5.94186364e-03\n",
            "  1.61348118e-02  2.34493514e-02  2.44813975e-02  1.91654974e-02\n",
            "  2.54050911e-02  2.49362621e-02  2.17715478e-02  1.83494060e-02\n",
            "  9.44015754e-03  2.48089539e-03 -3.68105443e-03 -2.59275253e-02\n",
            " -3.06372142e-02 -5.93810728e-02 -7.10975838e-02 -7.58047557e-02\n",
            " -8.17513176e-02 -8.35083787e-02 -8.35083787e-02 -8.35083787e-02\n",
            " -8.35083787e-02 -8.35083787e-02 -8.35083787e-02 -8.40107329e-02\n",
            " -8.32847700e-02 -7.60443552e-02 -5.15495877e-02 -1.22024325e-02\n",
            "  6.64731288e-03  1.54519878e-02  1.79885946e-02  1.91419868e-02\n",
            "  2.34576030e-02  2.18499099e-02  1.82504583e-02  8.54634002e-03\n",
            " -8.44455115e-03 -1.33200298e-02 -3.48652862e-02 -5.65979334e-02\n",
            " -6.65797034e-02 -7.15979603e-02 -7.61521631e-02 -8.11808432e-02\n",
            " -8.35083787e-02 -8.35083787e-02 -8.35083787e-02 -8.35083787e-02\n",
            " -8.35083787e-02 -8.35083787e-02 -8.35083787e-02 -8.35083787e-02\n",
            " -8.35083787e-02 -8.06901677e-02 -7.77127968e-02 -5.69825013e-02\n",
            " -3.08109578e-02 -1.19508605e-02 -4.64760404e-03  4.82194333e-03\n",
            "  7.94956411e-03 -8.52564114e-03 -2.85099590e-02 -3.51947545e-02\n",
            " -4.56255350e-02 -5.73022823e-02 -6.39959009e-02 -7.10143209e-02\n",
            " -7.61013518e-02 -8.05924672e-02 -8.17513176e-02 -8.35083787e-02\n",
            " -8.35083787e-02 -8.35083787e-02 -8.35083787e-02 -8.35083787e-02\n",
            " -8.35083787e-02 -8.35083787e-02 -8.35083787e-02 -8.35083787e-02\n",
            " -8.35083787e-02 -8.29122811e-02 -8.15100886e-02 -7.82150085e-02\n",
            " -7.09720108e-02 -6.88669352e-02 -6.62687125e-02 -6.45811749e-02\n",
            " -6.00535270e-02 -6.82295356e-02 -6.83129386e-02 -6.28764943e-02\n",
            " -7.03425705e-02 -7.84411845e-02 -8.15566853e-02 -8.34768813e-02\n",
            " -8.35083787e-02 -8.35083787e-02 -8.35083787e-02 -8.35083787e-02\n",
            " -8.35083787e-02 -8.35083787e-02 -8.35083787e-02 -8.35083787e-02\n",
            " -8.35083787e-02 -8.35083787e-02 -8.35083787e-02 -8.35083787e-02\n",
            " -8.35083787e-02 -8.35083787e-02 -8.35083787e-02 -8.20182091e-02\n",
            " -7.48418663e-02 -7.36262017e-02 -7.36262017e-02 -8.10378344e-02\n",
            " -8.35083787e-02 -8.35083787e-02 -8.35083787e-02 -8.35083787e-02\n",
            " -8.35083787e-02 -8.35083787e-02 -8.35083787e-02 -8.35083787e-02\n",
            " -8.35083787e-02 -8.35083787e-02 -8.35083787e-02 -8.35083787e-02\n",
            " -8.35083787e-02 -8.35083787e-02 -8.35083787e-02 -8.35083787e-02\n",
            " -8.35083787e-02 -8.35083787e-02 -8.35083787e-02 -8.35083787e-02\n",
            " -8.35083787e-02 -8.35083787e-02 -8.35083787e-02 -8.35083787e-02\n",
            " -8.35083787e-02 -8.35083787e-02 -8.35083787e-02 -8.35083787e-02\n",
            " -8.35083787e-02 -8.35083787e-02 -8.35083787e-02 -8.35083787e-02\n",
            " -8.35083787e-02 -8.35083787e-02 -8.35083787e-02 -8.35083787e-02\n",
            " -8.35083787e-02 -8.35083787e-02 -8.35083787e-02 -8.35083787e-02\n",
            " -8.35083787e-02 -8.35083787e-02 -8.35083787e-02 -8.35083787e-02\n",
            " -8.35083787e-02 -8.35083787e-02 -8.35083787e-02 -8.35083787e-02\n",
            " -8.35083787e-02 -8.35083787e-02 -8.35083787e-02 -8.35083787e-02\n",
            " -8.35083787e-02 -8.35083787e-02 -8.35083787e-02 -8.35083787e-02\n",
            " -8.35083787e-02 -8.35083787e-02 -8.35083787e-02 -8.35083787e-02\n",
            " -8.35083787e-02 -8.35083787e-02 -8.35083787e-02 -8.35083787e-02\n",
            " -8.35083787e-02 -8.35083787e-02 -8.35083787e-02 -8.35083787e-02\n",
            " -8.35083787e-02 -8.35083787e-02 -8.35083787e-02 -8.35083787e-02\n",
            "  3.57082971e-02]     f(x_k)=  -230.30250602582325\n",
            "iterations:  1000\n"
          ]
        }
      ]
    },
    {
      "cell_type": "code",
      "source": [
        "print(loc_min)"
      ],
      "metadata": {
        "id": "ibhRzqYTUQW6",
        "outputId": "11c0c27a-ae64-428a-9947-c6b16d3ac4d0",
        "colab": {
          "base_uri": "https://localhost:8080/"
        }
      },
      "execution_count": 157,
      "outputs": [
        {
          "output_type": "stream",
          "name": "stdout",
          "text": [
            "[-8.35083787e-02 -8.35083787e-02 -8.35083787e-02 -8.35083787e-02\n",
            " -8.35083787e-02 -8.35083787e-02 -8.35083787e-02 -8.35083787e-02\n",
            " -8.35083787e-02 -8.35083787e-02 -8.35083787e-02 -8.35083787e-02\n",
            " -8.35083787e-02 -8.35083787e-02 -8.35083787e-02 -8.35083787e-02\n",
            " -8.35083787e-02 -8.35083787e-02 -8.35083787e-02 -8.35083787e-02\n",
            " -8.35083787e-02 -8.35083787e-02 -8.35083787e-02 -8.35083787e-02\n",
            " -8.35083787e-02 -8.35083787e-02 -8.35083787e-02 -8.35083787e-02\n",
            " -8.35083787e-02 -8.35083787e-02 -8.35083787e-02 -8.35083787e-02\n",
            " -8.35083787e-02 -8.35083787e-02 -8.35083787e-02 -8.35083787e-02\n",
            " -8.35083787e-02 -8.35083787e-02 -8.35083787e-02 -8.35083787e-02\n",
            " -8.35083787e-02 -8.35083787e-02 -8.35083787e-02 -8.35083787e-02\n",
            " -8.35083787e-02 -8.35083787e-02 -8.35083787e-02 -8.35083787e-02\n",
            " -8.35083787e-02 -8.35083787e-02 -8.35083787e-02 -8.35083787e-02\n",
            " -8.35083787e-02 -8.35083787e-02 -8.35083787e-02 -8.35083787e-02\n",
            " -8.35083787e-02 -8.35083787e-02 -8.35083787e-02 -8.35083787e-02\n",
            " -8.35083787e-02 -8.35083787e-02 -8.35083787e-02 -8.35083787e-02\n",
            " -8.35083787e-02 -8.35083787e-02 -8.35083787e-02 -8.35083787e-02\n",
            " -8.35083787e-02 -8.35083787e-02 -8.35083787e-02 -8.35083787e-02\n",
            " -8.35083787e-02 -8.35083787e-02 -8.35083787e-02 -8.35083787e-02\n",
            " -8.35083787e-02 -8.35083787e-02 -8.35083787e-02 -8.35083787e-02\n",
            " -8.35083787e-02 -8.35083787e-02 -8.35083787e-02 -8.35083787e-02\n",
            " -8.35083787e-02 -8.35083787e-02 -8.35083787e-02 -8.35083787e-02\n",
            " -8.35083787e-02 -8.35083787e-02 -8.35083787e-02 -8.35083787e-02\n",
            " -8.35083787e-02 -8.35083787e-02 -8.35519054e-02 -8.37562919e-02\n",
            " -8.38717324e-02 -8.37464900e-02 -8.39241669e-02 -8.18558215e-02\n",
            " -7.90505971e-02 -7.82060093e-02 -7.78654232e-02 -7.98479193e-02\n",
            " -8.19635034e-02 -8.31351061e-02 -8.35083787e-02 -8.35083787e-02\n",
            " -8.35083787e-02 -8.35083787e-02 -8.35083787e-02 -8.35083787e-02\n",
            " -8.35083787e-02 -8.35083787e-02 -8.35083787e-02 -8.35083787e-02\n",
            " -8.35083787e-02 -8.35083787e-02 -8.35083787e-02 -8.35083787e-02\n",
            " -8.35083787e-02 -8.27313826e-02 -8.01628452e-02 -7.65749128e-02\n",
            " -6.65468025e-02 -4.60686001e-02 -4.50871776e-02 -5.51973307e-02\n",
            " -6.33064893e-02 -6.33003649e-02 -6.59614991e-02 -6.85687365e-02\n",
            " -7.37807023e-02 -7.90092405e-02 -8.26567882e-02 -8.35083787e-02\n",
            " -8.35083787e-02 -8.35083787e-02 -8.35083787e-02 -8.35083787e-02\n",
            " -8.35083787e-02 -8.35083787e-02 -8.35083787e-02 -8.35083787e-02\n",
            " -8.35083787e-02 -8.35083787e-02 -8.35083787e-02 -8.34574573e-02\n",
            " -7.71342649e-02 -6.47841658e-02 -3.22618305e-02 -2.48633700e-02\n",
            " -2.10647383e-02 -6.79269279e-03 -1.06360271e-03  4.99782986e-04\n",
            " -3.53668878e-07 -8.39484373e-03 -3.02315228e-02 -5.33622823e-02\n",
            " -6.84187878e-02 -7.42309172e-02 -7.88031476e-02 -8.27134205e-02\n",
            " -8.35083787e-02 -8.35083787e-02 -8.35083787e-02 -8.35083787e-02\n",
            " -8.35083787e-02 -8.35083787e-02 -8.35083787e-02 -8.35083787e-02\n",
            " -8.35083787e-02 -8.35083787e-02 -8.35083787e-02 -7.48717371e-02\n",
            " -5.67365990e-02 -4.08148933e-02 -5.70106176e-03  7.94970192e-04\n",
            "  9.22686571e-03  1.69813919e-02  2.39630709e-02  2.81007138e-02\n",
            "  2.39141891e-02  2.48868038e-02  7.85910447e-03 -6.87489946e-03\n",
            " -4.01959172e-02 -5.59243820e-02 -6.65603566e-02 -7.56277063e-02\n",
            " -8.34742446e-02 -8.35083787e-02 -8.35083787e-02 -8.35083787e-02\n",
            " -8.35083787e-02 -8.35083787e-02 -8.35083787e-02 -8.35083787e-02\n",
            " -8.35083787e-02 -8.35083787e-02 -8.21810314e-02 -6.20408113e-02\n",
            " -4.81469793e-02 -3.28505790e-02  4.49228624e-03  1.74009134e-02\n",
            "  2.16762073e-02  2.00708491e-02  2.52867549e-02  3.33307488e-02\n",
            "  3.11464848e-02  2.85974886e-02  1.96731816e-02  9.07584406e-03\n",
            " -5.78943600e-03 -3.03675974e-02 -5.37198939e-02 -6.37915399e-02\n",
            " -7.88647340e-02 -8.35083787e-02 -8.35083787e-02 -8.35083787e-02\n",
            " -8.35083787e-02 -8.35083787e-02 -8.35083787e-02 -8.35083787e-02\n",
            " -8.35083787e-02 -8.35356275e-02 -7.67995515e-02 -5.21663294e-02\n",
            " -4.17602581e-02 -8.21907762e-03  9.26655993e-03  1.29851561e-02\n",
            "  1.20341706e-02  1.75839987e-02  2.17694911e-02  2.42343571e-02\n",
            "  2.51089539e-02  2.36960477e-02  2.03504984e-02  7.49532357e-03\n",
            " -5.60152521e-03 -1.47006323e-02 -5.03338194e-02 -5.60887215e-02\n",
            " -7.78533434e-02 -8.35083787e-02 -8.35083787e-02 -8.35083787e-02\n",
            " -8.35083787e-02 -8.35083787e-02 -8.35083787e-02 -8.35083787e-02\n",
            " -8.35083787e-02 -8.21961658e-02 -6.21614332e-02 -3.43443712e-02\n",
            "  1.45689014e-04  9.30175808e-03  7.13354596e-03  1.05290346e-02\n",
            "  1.73924254e-02  1.94771974e-02  1.55715314e-02  1.01424927e-02\n",
            "  1.03847778e-02  1.07822116e-02  1.61089995e-02  3.07072776e-03\n",
            "  3.31379189e-03 -8.43632149e-03 -3.92864229e-02 -5.21725313e-02\n",
            " -7.31555392e-02 -8.35083787e-02 -8.35083787e-02 -8.35083787e-02\n",
            " -8.35083787e-02 -8.35083787e-02 -8.35083787e-02 -8.35083787e-02\n",
            " -8.35083787e-02 -7.53642374e-02 -3.00199989e-02  9.05817154e-04\n",
            "  1.25663161e-02  8.39765165e-03  9.23969139e-03  1.31548849e-02\n",
            "  6.82396258e-03  2.85478057e-03 -1.74596803e-02 -2.93445807e-02\n",
            " -2.30956757e-02 -8.49767404e-03  8.75955585e-03  1.31400840e-03\n",
            " -3.14946865e-03  2.80433227e-03 -7.72658231e-03 -4.35365078e-02\n",
            " -7.15489367e-02 -8.29268791e-02 -8.35083787e-02 -8.35083787e-02\n",
            " -8.35083787e-02 -8.35083787e-02 -8.35083787e-02 -8.35083787e-02\n",
            " -8.35083787e-02 -5.57928982e-02 -7.82368657e-03  7.27460825e-03\n",
            "  1.08374634e-02  9.87858514e-03  1.09926589e-02  1.02529606e-02\n",
            " -6.01831381e-03 -2.27217260e-02 -5.49623404e-02 -6.06190729e-02\n",
            " -6.33669807e-02 -3.76918572e-02  4.68022888e-03 -1.69274757e-03\n",
            " -3.56203123e-03  1.61834931e-03  5.16200440e-03 -3.44217878e-02\n",
            " -6.95690240e-02 -8.32319249e-02 -8.35083787e-02 -8.35083787e-02\n",
            " -8.35083787e-02 -8.35083787e-02 -8.35083787e-02 -8.35083787e-02\n",
            " -8.35655675e-02 -3.19858062e-02  1.22846853e-04  4.70819222e-03\n",
            "  8.70871199e-03  1.03148076e-02  8.45902671e-03  3.16218213e-03\n",
            " -3.12126630e-02 -5.49078389e-02 -6.70537167e-02 -7.06521349e-02\n",
            " -6.91068615e-02 -5.37886498e-02 -1.51345107e-02 -3.97441188e-03\n",
            " -8.75886371e-03  2.54626073e-03  1.17804918e-02 -2.30676802e-02\n",
            " -6.73507969e-02 -8.29217731e-02 -8.35083787e-02 -8.35083787e-02\n",
            " -8.35083787e-02 -8.35083787e-02 -8.35083787e-02 -8.35083787e-02\n",
            " -7.22460976e-02 -1.40613941e-02  3.70691036e-03  7.75054873e-03\n",
            "  1.22740899e-02  1.32227106e-02 -9.82744028e-05 -3.42695507e-02\n",
            " -4.64233380e-02 -6.50317303e-02 -7.30457918e-02 -7.55809241e-02\n",
            " -6.74944302e-02 -5.61176743e-02 -3.55890832e-02 -7.89812757e-03\n",
            " -8.96029345e-03  5.76249709e-03  1.23560728e-02 -1.64626923e-02\n",
            " -6.12649446e-02 -8.21438387e-02 -8.35083787e-02 -8.35083787e-02\n",
            " -8.35083787e-02 -8.35083787e-02 -8.35083787e-02 -8.35083787e-02\n",
            " -5.77092015e-02 -1.57731265e-02  5.11945249e-03  1.15011790e-02\n",
            "  1.55180823e-02 -4.49129793e-03 -2.69264289e-02 -4.85184506e-02\n",
            " -6.17655736e-02 -6.91246416e-02 -7.64007414e-02 -7.71236777e-02\n",
            " -7.11674417e-02 -6.19103519e-02 -4.93210468e-02 -1.14974746e-02\n",
            " -6.76492763e-03  6.08811013e-03  1.10708009e-02  1.55725095e-03\n",
            " -5.36857510e-02 -8.13988593e-02 -8.35083787e-02 -8.35083787e-02\n",
            " -8.35083787e-02 -8.35083787e-02 -8.35083787e-02 -8.35083787e-02\n",
            " -5.04980707e-02 -1.19471968e-02  9.59984841e-03  1.22420286e-02\n",
            " -2.39134146e-03 -2.19719318e-02 -3.31378368e-02 -5.86620024e-02\n",
            " -7.16771048e-02 -7.95378916e-02 -7.98012629e-02 -7.88978910e-02\n",
            " -7.07460236e-02 -5.31298059e-02 -3.69729276e-02 -1.10131546e-02\n",
            " -5.26547149e-03  3.15243432e-03  1.37761240e-02  9.11764321e-03\n",
            " -5.44351825e-02 -8.12463063e-02 -8.35083787e-02 -8.35083787e-02\n",
            " -8.35083787e-02 -8.35083787e-02 -8.35083787e-02 -8.35083787e-02\n",
            " -4.74329150e-02 -1.31314967e-02  1.13278616e-02  9.95996521e-03\n",
            " -1.43690214e-02 -2.46139517e-02 -3.75608405e-02 -6.13720606e-02\n",
            " -7.14954760e-02 -7.33274093e-02 -6.95495268e-02 -6.66148370e-02\n",
            " -4.02214037e-02 -2.53128649e-02 -1.17708530e-02  9.11392516e-06\n",
            "  6.91419096e-04  4.51736134e-03  8.22686472e-03 -1.48197265e-02\n",
            " -5.65063581e-02 -8.10575599e-02 -8.35083787e-02 -8.35083787e-02\n",
            " -8.35083787e-02 -8.35083787e-02 -8.35083787e-02 -8.35083787e-02\n",
            " -4.41561564e-02 -1.68773922e-02  1.09273953e-02  1.80921909e-02\n",
            "  8.27232593e-03 -1.66495135e-02 -4.06218634e-02 -6.02756921e-02\n",
            " -5.16343881e-02 -5.32422343e-02 -3.62476457e-02 -2.05523132e-02\n",
            " -1.26802552e-02 -3.10670591e-03  6.75282635e-03  3.42374689e-04\n",
            " -2.55423357e-03  2.89180048e-03  5.06539784e-03 -2.29960538e-02\n",
            " -6.07055474e-02 -8.20432449e-02 -8.35083787e-02 -8.35083787e-02\n",
            " -8.35083787e-02 -8.35083787e-02 -8.35083787e-02 -8.35083787e-02\n",
            " -4.46684303e-02 -2.24859616e-02  6.54037821e-03  2.24221633e-02\n",
            "  2.46066409e-02  7.62676155e-03 -6.80644565e-03 -2.26765433e-02\n",
            " -2.97600947e-02 -2.79273864e-02 -2.52883911e-02 -1.58959452e-02\n",
            " -1.42985201e-03  8.02941103e-03  4.04685360e-03 -1.48610436e-03\n",
            "  1.76842425e-03 -5.43995316e-03 -1.20024985e-03 -3.37688693e-02\n",
            " -7.22209283e-02 -8.34742164e-02 -8.35083787e-02 -8.35083787e-02\n",
            " -8.35083787e-02 -8.35083787e-02 -8.35083787e-02 -8.35083787e-02\n",
            " -4.70543697e-02 -2.69804640e-02 -8.41653310e-05  1.80579941e-02\n",
            "  2.22422950e-02  1.36591686e-02  7.01647094e-03 -1.51566755e-02\n",
            " -2.13867103e-02 -1.54410471e-02 -9.46259973e-03  3.62387311e-03\n",
            "  1.61186241e-02  9.12456141e-03  2.21994731e-03  2.79389594e-03\n",
            " -4.86785413e-03 -9.76257804e-03 -1.81835585e-02 -5.78456725e-02\n",
            " -7.68803738e-02 -8.35083787e-02 -8.35083787e-02 -8.35083787e-02\n",
            " -8.35083787e-02 -8.35083787e-02 -8.35083787e-02 -8.35083787e-02\n",
            " -6.70904976e-02 -2.87600680e-02 -6.31560317e-04  1.16051651e-02\n",
            "  2.27810181e-02  2.29792645e-02  1.85347260e-02  8.06983150e-03\n",
            "  7.44872788e-03  1.42306844e-02  1.80180114e-02  1.87086664e-02\n",
            "  1.11218509e-02  6.93959242e-03  2.51613858e-03 -3.23830586e-03\n",
            " -1.08264468e-02 -3.28560904e-02 -6.11388685e-02 -7.21357374e-02\n",
            " -7.95095599e-02 -8.35083787e-02 -8.35083787e-02 -8.35083787e-02\n",
            " -8.35083787e-02 -8.35083787e-02 -8.35083787e-02 -8.38479009e-02\n",
            " -7.77187617e-02 -5.51631939e-02 -1.75942066e-02  5.94186364e-03\n",
            "  1.61348118e-02  2.34493514e-02  2.44813975e-02  1.91654974e-02\n",
            "  2.54050911e-02  2.49362621e-02  2.17715478e-02  1.83494060e-02\n",
            "  9.44015754e-03  2.48089539e-03 -3.68105443e-03 -2.59275253e-02\n",
            " -3.06372142e-02 -5.93810728e-02 -7.10975838e-02 -7.58047557e-02\n",
            " -8.17513176e-02 -8.35083787e-02 -8.35083787e-02 -8.35083787e-02\n",
            " -8.35083787e-02 -8.35083787e-02 -8.35083787e-02 -8.40107329e-02\n",
            " -8.32847700e-02 -7.60443552e-02 -5.15495877e-02 -1.22024325e-02\n",
            "  6.64731288e-03  1.54519878e-02  1.79885946e-02  1.91419868e-02\n",
            "  2.34576030e-02  2.18499099e-02  1.82504583e-02  8.54634002e-03\n",
            " -8.44455115e-03 -1.33200298e-02 -3.48652862e-02 -5.65979334e-02\n",
            " -6.65797034e-02 -7.15979603e-02 -7.61521631e-02 -8.11808432e-02\n",
            " -8.35083787e-02 -8.35083787e-02 -8.35083787e-02 -8.35083787e-02\n",
            " -8.35083787e-02 -8.35083787e-02 -8.35083787e-02 -8.35083787e-02\n",
            " -8.35083787e-02 -8.06901677e-02 -7.77127968e-02 -5.69825013e-02\n",
            " -3.08109578e-02 -1.19508605e-02 -4.64760404e-03  4.82194333e-03\n",
            "  7.94956411e-03 -8.52564114e-03 -2.85099590e-02 -3.51947545e-02\n",
            " -4.56255350e-02 -5.73022823e-02 -6.39959009e-02 -7.10143209e-02\n",
            " -7.61013518e-02 -8.05924672e-02 -8.17513176e-02 -8.35083787e-02\n",
            " -8.35083787e-02 -8.35083787e-02 -8.35083787e-02 -8.35083787e-02\n",
            " -8.35083787e-02 -8.35083787e-02 -8.35083787e-02 -8.35083787e-02\n",
            " -8.35083787e-02 -8.29122811e-02 -8.15100886e-02 -7.82150085e-02\n",
            " -7.09720108e-02 -6.88669352e-02 -6.62687125e-02 -6.45811749e-02\n",
            " -6.00535270e-02 -6.82295356e-02 -6.83129386e-02 -6.28764943e-02\n",
            " -7.03425705e-02 -7.84411845e-02 -8.15566853e-02 -8.34768813e-02\n",
            " -8.35083787e-02 -8.35083787e-02 -8.35083787e-02 -8.35083787e-02\n",
            " -8.35083787e-02 -8.35083787e-02 -8.35083787e-02 -8.35083787e-02\n",
            " -8.35083787e-02 -8.35083787e-02 -8.35083787e-02 -8.35083787e-02\n",
            " -8.35083787e-02 -8.35083787e-02 -8.35083787e-02 -8.20182091e-02\n",
            " -7.48418663e-02 -7.36262017e-02 -7.36262017e-02 -8.10378344e-02\n",
            " -8.35083787e-02 -8.35083787e-02 -8.35083787e-02 -8.35083787e-02\n",
            " -8.35083787e-02 -8.35083787e-02 -8.35083787e-02 -8.35083787e-02\n",
            " -8.35083787e-02 -8.35083787e-02 -8.35083787e-02 -8.35083787e-02\n",
            " -8.35083787e-02 -8.35083787e-02 -8.35083787e-02 -8.35083787e-02\n",
            " -8.35083787e-02 -8.35083787e-02 -8.35083787e-02 -8.35083787e-02\n",
            " -8.35083787e-02 -8.35083787e-02 -8.35083787e-02 -8.35083787e-02\n",
            " -8.35083787e-02 -8.35083787e-02 -8.35083787e-02 -8.35083787e-02\n",
            " -8.35083787e-02 -8.35083787e-02 -8.35083787e-02 -8.35083787e-02\n",
            " -8.35083787e-02 -8.35083787e-02 -8.35083787e-02 -8.35083787e-02\n",
            " -8.35083787e-02 -8.35083787e-02 -8.35083787e-02 -8.35083787e-02\n",
            " -8.35083787e-02 -8.35083787e-02 -8.35083787e-02 -8.35083787e-02\n",
            " -8.35083787e-02 -8.35083787e-02 -8.35083787e-02 -8.35083787e-02\n",
            " -8.35083787e-02 -8.35083787e-02 -8.35083787e-02 -8.35083787e-02\n",
            " -8.35083787e-02 -8.35083787e-02 -8.35083787e-02 -8.35083787e-02\n",
            " -8.35083787e-02 -8.35083787e-02 -8.35083787e-02 -8.35083787e-02\n",
            " -8.35083787e-02 -8.35083787e-02 -8.35083787e-02 -8.35083787e-02\n",
            " -8.35083787e-02 -8.35083787e-02 -8.35083787e-02 -8.35083787e-02\n",
            " -8.35083787e-02 -8.35083787e-02 -8.35083787e-02 -8.35083787e-02\n",
            "  3.57082971e-02]\n"
          ]
        }
      ]
    },
    {
      "cell_type": "code",
      "source": [
        "#Guardar la solucion\n",
        "fo = open(f\"b_0.txt\", \"w\")\n",
        "fo.write(str(785)+\"\\n\")#Add size\n",
        "np.savetxt(fo, loc_min, fmt='%1.9e', comments='')\n",
        "fo.close()"
      ],
      "metadata": {
        "id": "Z51L91CPTpLl"
      },
      "execution_count": 158,
      "outputs": []
    }
  ]
}