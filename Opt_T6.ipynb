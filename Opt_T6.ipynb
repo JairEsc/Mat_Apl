{
  "nbformat": 4,
  "nbformat_minor": 0,
  "metadata": {
    "colab": {
      "name": "Untitled94.ipynb",
      "provenance": [],
      "authorship_tag": "ABX9TyMe5lStCIKl6nPw+LkEWNkk",
      "include_colab_link": true
    },
    "kernelspec": {
      "name": "python3",
      "display_name": "Python 3"
    },
    "language_info": {
      "name": "python"
    }
  },
  "cells": [
    {
      "cell_type": "markdown",
      "metadata": {
        "id": "view-in-github",
        "colab_type": "text"
      },
      "source": [
        "<a href=\"https://colab.research.google.com/github/JairEsc/Mat_Apl/blob/main/Opt_T6.ipynb\" target=\"_parent\"><img src=\"https://colab.research.google.com/assets/colab-badge.svg\" alt=\"Open In Colab\"/></a>"
      ]
    },
    {
      "cell_type": "code",
      "source": [
        "import numpy as np\n",
        "import matplotlib.pyplot as plt"
      ],
      "metadata": {
        "id": "3m14b5WfF4yc"
      },
      "execution_count": 1,
      "outputs": []
    },
    {
      "cell_type": "markdown",
      "source": [
        "Cargamos los datos usando gzip y pickle."
      ],
      "metadata": {
        "id": "nYfEfPNJfBC4"
      }
    },
    {
      "cell_type": "code",
      "source": [
        "import gzip, pickle\n",
        "with gzip.open('mnist.pkl.gz','rb') as ff :\n",
        "    u = pickle._Unpickler( ff )\n",
        "    u.encoding = 'latin1'\n",
        "    train, val, test = u.load()"
      ],
      "metadata": {
        "id": "VmWjyjd0e_lS"
      },
      "execution_count": 2,
      "outputs": []
    },
    {
      "cell_type": "code",
      "source": [
        "print( train[0].shape, train[1].shape )"
      ],
      "metadata": {
        "id": "YITO0s4AfD_k",
        "outputId": "60c35a46-d60a-4fb0-f318-5cc05812de58",
        "colab": {
          "base_uri": "https://localhost:8080/"
        }
      },
      "execution_count": 3,
      "outputs": [
        {
          "output_type": "stream",
          "name": "stdout",
          "text": [
            "(50000, 784) (50000,)\n"
          ]
        }
      ]
    },
    {
      "cell_type": "markdown",
      "source": [
        "Tenemos 50000 arreglos de 784 entradas cada uno, el cual representa un número el cual se puede observar con el siguiente código:"
      ],
      "metadata": {
        "id": "KV8jfhGJi5RV"
      }
    },
    {
      "cell_type": "code",
      "source": [
        "idimg = 2000\n",
        "\n",
        "im =  train[0][idimg].reshape(-1, 28) #train[0] es una matriz,\n",
        "#train[0][j] es un vector de longitud 784\n",
        "#reshape(-1,28) significa crea una matriz de k x 28 tal que k*28=784\n",
        "plt.imshow(im)#Plotealo como imagen.\n",
        "print('clase: ', train[1][idimg])"
      ],
      "metadata": {
        "id": "Oav_G3BYiKg7",
        "outputId": "ef9d8855-42ef-41b1-dfe4-9de1850d7b31",
        "colab": {
          "base_uri": "https://localhost:8080/",
          "height": 282
        }
      },
      "execution_count": 4,
      "outputs": [
        {
          "output_type": "stream",
          "name": "stdout",
          "text": [
            "clase:  5\n"
          ]
        },
        {
          "output_type": "display_data",
          "data": {
            "text/plain": [
              "<Figure size 432x288 with 1 Axes>"
            ],
            "image/png": "[encoded data removed]"
          },
          "metadata": {
            "needs_background": "light"
          }
        }
      ]
    },
    {
      "cell_type": "markdown",
      "source": [
        "train[1][k] guarda el número que representa el respectivo train[0][k]."
      ],
      "metadata": {
        "id": "HIGwkL6_jZSH"
      }
    },
    {
      "cell_type": "markdown",
      "source": [
        "------------------------------------------------"
      ],
      "metadata": {
        "id": "soZ3iRwyk6Fg"
      }
    },
    {
      "cell_type": "markdown",
      "source": [
        "Implementación del descenso de gradiente."
      ],
      "metadata": {
        "id": "VJFwtxOpk1Sn"
      }
    },
    {
      "cell_type": "markdown",
      "source": [
        "Consideramos el tamaño de paso $\\alpha_k=\\frac{d_k^Td_k}{d_k^THd_k}$\n",
        "\n",
        "*   Elemento de la lista\n",
        "*   Elemento de la lista\n",
        "\n"
      ],
      "metadata": {
        "id": "MWmmdEFOlLd7"
      }
    },
    {
      "cell_type": "code",
      "source": [
        "def get_alpha_k(x,d,H):#Si tenemos H la matriz Hessiana.\n",
        "    top=np.linalg.norm(d)\n",
        "    bottom=np.dot(d,np.dot(H,d))\n",
        "    return (top/bottom)"
      ],
      "metadata": {
        "id": "pb5BpulEjXdh"
      },
      "execution_count": 5,
      "outputs": []
    },
    {
      "cell_type": "markdown",
      "source": [
        "Nuestra función de descenso recibe una condición inicial $x_0$, la función a minimizar, el gradiente y Hessiano de la misma, y hay parámetros opcionales para tolerancia del gradiente y número máximo de iteraciones, así como un parámetro (False por default) que grafica el valor de $f(x_k)$ y $||g_k||$."
      ],
      "metadata": {
        "id": "XQrBi6DhldlE"
      }
    },
    {
      "cell_type": "code",
      "execution_count": 145,
      "metadata": {
        "id": "WI6qv9P7EsAt"
      },
      "outputs": [],
      "source": [
        "def Steepest_descent(x_0,f,grad_f,Hessian_f,tol_grad=10**(-6),max_iter=10**5,pr=\"False\"):\n",
        "    alpha_k=get_alpha_k(x=x_0,d=grad_f(x_0),H=Hessian_f(x_0))\n",
        "    x_1=x_0-alpha_k*np.array(grad_f(x_0))#First iteration\n",
        "    if(pr=='True'):\n",
        "        F=[f(x_0)]\n",
        "        G=[np.linalg.norm(grad_f(x_0))]\n",
        "    x_0=x_1\n",
        "    k=1\n",
        "    norm_grad=np.linalg.norm(grad_f(x_1))\n",
        "    #Cycle\n",
        "    while(norm_grad>tol_grad and k<max_iter):#stop criteria\n",
        "        k+=1\n",
        "        alpha_k=get_alpha_k(x=x_0,d=grad_f(x_0),H=Hessian_f(x_0))\n",
        "        x_1=x_0-alpha_k*np.array(grad_f(x_0))\n",
        "        x_0=x_1\n",
        "        norm_grad=np.linalg.norm(grad_f(x_1))\n",
        "        if(pr=='True'):\n",
        "            F.append(f(x_0))\n",
        "            G.append(np.linalg.norm(grad_f(x_0)))\n",
        "    if(k==max_iter):\n",
        "        print(\"There wasnt convergence after \"+str(max_iter)+\" iterations.\\nLast iteration: \"+str(x_1),\"   \",\"f(x_k)= \",str(f(x_1)))\n",
        "    else:\n",
        "        L=0\n",
        "        plt.plot(range(L+1,len(F)),F[L:-1])\n",
        "        plt.title(\"k vs. F(X_k)\")   \n",
        "        plt.show()         \n",
        "        plt.plot(range(L+1,len(G)),G[L:-1])\n",
        "        plt.title(\"k vs. ||g(X_k)||\")   \n",
        "        plt.show()\n",
        "    print(\"iterations: \",k)\n",
        "    return (x_1)"
      ]
    },
    {
      "cell_type": "markdown",
      "source": [
        "Definimos $f$, $\\nabla f$ y $H_f$ para el problema."
      ],
      "metadata": {
        "id": "L335f8FWmW2d"
      }
    },
    {
      "cell_type": "markdown",
      "source": [
        "Primero seleccionamos un subconjunto de los datos, tales que $y\\in\\{0,1\\}$."
      ],
      "metadata": {
        "id": "79ZLjjIxntuR"
      }
    },
    {
      "cell_type": "code",
      "source": [
        "def common_exp(i,b,b_0):\n",
        "    u=np.dot(x[i],b)\n",
        "    return(np.exp(-u-b_0))"
      ],
      "metadata": {
        "id": "UFbC8cD-1cbG"
      },
      "execution_count": 10,
      "outputs": []
    },
    {
      "cell_type": "code",
      "source": [
        "def h(b_and_b_0):\n",
        "    b=b_and_b_0[0:-1]\n",
        "    b_0=b_and_b_0[-1]\n",
        "    suma=0\n",
        "    for i in range(n):\n",
        "        comm_exp=common_exp(i=i,b=b,b_0=b_0)\n",
        "        if(y[i]==1):\n",
        "            suma+=-np.log(1+comm_exp)\n",
        "        else:\n",
        "            suma+=np.dot(x[i],b)-np.log(1+comm_exp)\n",
        "    return suma"
      ],
      "metadata": {
        "id": "nm6_uxZ8mXJm"
      },
      "execution_count": 11,
      "outputs": []
    },
    {
      "cell_type": "code",
      "source": [
        "def grad_h(b_and_b_0):\n",
        "    b=b_and_b_0[:-1]\n",
        "    b_0=b_and_b_0[-1]\n",
        "    suma_g=np.zeros(len(b_and_b_0))\n",
        "    for i in range(n):\n",
        "        comm_exp=common_exp(i=i,b=b,b_0=b_0)\n",
        "        if(y[i]==1):\n",
        "            suma_g+=(comm_exp/(1+comm_exp))*x_plus[i]\n",
        "        else:\n",
        "            suma_g+=-(1/(1+comm_exp))*x_plus[i]\n",
        "    return suma_g"
      ],
      "metadata": {
        "id": "eHrR7oqbnLEQ"
      },
      "execution_count": 12,
      "outputs": []
    },
    {
      "cell_type": "code",
      "source": [
        "def Hessian_h(b_and_b_0):\n",
        "    b=b_and_b_0[:-1]\n",
        "    b_0=b_and_b_0[-1]\n",
        "    suma_h=np.zeros((len(b_and_b_0),len(b_and_b_0)))\n",
        "    for i in range(n):\n",
        "        comm_exp=common_exp(i=i,b=b,b_0=b_0)\n",
        "        suma_h+=-(comm_exp)/((1+comm_exp)**2)*np.outer(x_plus[i],x_plus[i])\n",
        "        \n",
        "    return suma_h"
      ],
      "metadata": {
        "id": "eefKtgDa_oKc"
      },
      "execution_count": 13,
      "outputs": []
    },
    {
      "cell_type": "code",
      "source": [
        "def subset(k):\n",
        "    y=train[1][train[1]<2]\n",
        "    x=train[0][train[1]<2]\n",
        "    np.random.seed(0)\n",
        "    x=x[np.random.randint(0,len(x),k)]\n",
        "    np.random.seed(0)\n",
        "    y=y[np.random.randint(0,len(x),k)]\n",
        "    n=len(x)\n",
        "    x_plus=np.c_[x,np.ones(n)]\n",
        "    x_plus.shape"
      ],
      "metadata": {
        "id": "BbPERHwGSGkr"
      },
      "execution_count": 143,
      "outputs": []
    },
    {
      "cell_type": "code",
      "source": [
        "loc_min=np.ones(785)*0.05\n",
        "for k in [100]:\n",
        "    start = time.monotonic()\n",
        "    subset(k)\n",
        "    loc_min=Steepest_descent(x_0=loc_min,f=h,grad_f=grad_h,Hessian_f=Hessian_h,tol_grad=0.001,max_iter=1000,pr='True')\n",
        "    print(\"||g(x_k)||= \", np.linalg.norm(grad_h(loc_min)))\n",
        "    end = time.monotonic()\n",
        "    tiempo_total = timedelta(seconds=end - start).total_seconds()\n",
        "    print('Tiempo: ', tiempo_total)"
      ],
      "metadata": {
        "id": "hTU896jHSRh8",
        "outputId": "9d373a2f-0fe8-4031-b97b-d5205d0c5a1b",
        "colab": {
          "base_uri": "https://localhost:8080/"
        }
      },
      "execution_count": 146,
      "outputs": [
        {
          "output_type": "stream",
          "name": "stdout",
          "text": [
            "There wasnt convergence after 1000 iterations.\n",
            "Last iteration: [ 5.00000000e-02  5.00000000e-02  5.00000000e-02  5.00000000e-02\n",
            "  5.00000000e-02  5.00000000e-02  5.00000000e-02  5.00000000e-02\n",
            "  5.00000000e-02  5.00000000e-02  5.00000000e-02  5.00000000e-02\n",
            "  5.00000000e-02  5.00000000e-02  5.00000000e-02  5.00000000e-02\n",
            "  5.00000000e-02  5.00000000e-02  5.00000000e-02  5.00000000e-02\n",
            "  5.00000000e-02  5.00000000e-02  5.00000000e-02  5.00000000e-02\n",
            "  5.00000000e-02  5.00000000e-02  5.00000000e-02  5.00000000e-02\n",
            "  5.00000000e-02  5.00000000e-02  5.00000000e-02  5.00000000e-02\n",
            "  5.00000000e-02  5.00000000e-02  5.00000000e-02  5.00000000e-02\n",
            "  5.00000000e-02  5.00000000e-02  5.00000000e-02  5.00000000e-02\n",
            "  5.00000000e-02  5.00000000e-02  5.00000000e-02  5.00000000e-02\n",
            "  5.00000000e-02  5.00000000e-02  5.00000000e-02  5.00000000e-02\n",
            "  5.00000000e-02  5.00000000e-02  5.00000000e-02  5.00000000e-02\n",
            "  5.00000000e-02  5.00000000e-02  5.00000000e-02  5.00000000e-02\n",
            "  5.00000000e-02  5.00000000e-02  5.00000000e-02  4.99779719e-02\n",
            "  4.99924041e-02  5.00000000e-02  4.99428634e-02  4.99825229e-02\n",
            "  5.00000000e-02  5.00000000e-02  5.00000000e-02  5.00000000e-02\n",
            "  5.00000000e-02  5.00000000e-02  5.00056481e-02  5.00064045e-02\n",
            "  5.00000000e-02  5.00000452e-02  5.00026435e-02  5.00057162e-02\n",
            "  5.00013556e-02  5.00000000e-02  5.00000000e-02  5.00000000e-02\n",
            "  5.00000000e-02  5.00000000e-02  5.00000000e-02  5.00000000e-02\n",
            "  5.00000000e-02  5.00000000e-02  5.00000000e-02  4.99361945e-02\n",
            "  4.99787315e-02  5.00000000e-02  5.00000000e-02  5.00000000e-02\n",
            "  4.99975949e-02  4.99895781e-02  4.99131502e-02  4.95139159e-02\n",
            "  4.92150513e-02  4.87845882e-02  4.86616062e-02  4.84763215e-02\n",
            "  4.90038725e-02  4.91384717e-02  4.92638814e-02  4.94295033e-02\n",
            "  4.95803994e-02  4.98787166e-02  4.99977624e-02  5.00000000e-02\n",
            "  5.00000000e-02  5.00000000e-02  5.00000000e-02  5.00000000e-02\n",
            "  5.00000000e-02  5.00000000e-02  5.00000000e-02  5.00000000e-02\n",
            "  5.00036437e-02  5.00000000e-02  4.99421506e-02  4.96074913e-02\n",
            "  4.92825562e-02  4.84219227e-02  4.66602287e-02  4.39209739e-02\n",
            "  4.07461681e-02  3.88736509e-02  3.52081124e-02  3.13263667e-02\n",
            "  2.94984936e-02  2.95891140e-02  3.25308127e-02  3.75354203e-02\n",
            "  4.32109925e-02  4.62958612e-02  4.84565593e-02  4.98356937e-02\n",
            "  5.00013854e-02  5.00000000e-02  5.00000000e-02  5.00000000e-02\n",
            "  5.00000000e-02  5.00000000e-02  5.00000000e-02  5.00000000e-02\n",
            "  5.00123515e-02  4.99790672e-02  4.97705529e-02  4.93564030e-02\n",
            "  4.80815432e-02  4.43736007e-02  3.94920313e-02  3.44297156e-02\n",
            "  2.97036603e-02  2.13132878e-02  1.53852147e-02  8.12436099e-03\n",
            "  4.73896623e-03  5.79578775e-03  1.24423769e-02  2.09394369e-02\n",
            "  3.11184216e-02  3.96133920e-02  4.51042020e-02  4.90123197e-02\n",
            "  5.00378054e-02  5.00000000e-02  5.00000000e-02  5.00000000e-02\n",
            "  5.00000000e-02  5.00000000e-02  5.00000000e-02  5.00000000e-02\n",
            "  5.00007076e-02  4.99554441e-02  4.94875779e-02  4.85209944e-02\n",
            "  4.43266889e-02  3.80506078e-02  3.09307175e-02  2.37629794e-02\n",
            "  1.45013946e-02  6.65552789e-03  6.00518558e-04 -3.33157129e-03\n",
            " -6.53020181e-03 -8.16020175e-03 -4.67139394e-03  3.25856935e-03\n",
            "  1.51516588e-02  2.72867751e-02  3.90596117e-02  4.64601421e-02\n",
            "  4.97260375e-02  5.00000000e-02  5.00000000e-02  5.00000000e-02\n",
            "  5.00000000e-02  5.00000000e-02  5.00000000e-02  5.00000000e-02\n",
            "  5.00026179e-02  4.97359279e-02  4.89317631e-02  4.59816004e-02\n",
            "  3.86754100e-02  3.12846869e-02  2.15955234e-02  1.21860351e-02\n",
            "  2.81222137e-03 -1.99000391e-03 -3.92085406e-03 -4.09154242e-03\n",
            " -4.81916591e-03 -7.02866232e-03 -9.15705124e-03 -5.70350335e-03\n",
            "  2.46154871e-03  1.57479364e-02  3.06171822e-02  4.21006640e-02\n",
            "  4.83039798e-02  5.00000000e-02  5.00000000e-02  5.00000000e-02\n",
            "  5.00000000e-02  5.00000000e-02  5.00000000e-02  5.00000000e-02\n",
            "  5.00048169e-02  4.97294632e-02  4.76636541e-02  4.13052860e-02\n",
            "  3.38331261e-02  2.30732969e-02  1.17985601e-02  2.63829140e-03\n",
            " -2.53118632e-03 -2.30359057e-03  1.28348085e-03  6.32334071e-03\n",
            "  7.57435207e-03  3.93517356e-03 -2.57453523e-03 -6.49280896e-03\n",
            " -4.79596739e-03  4.20854007e-03  2.07224951e-02  3.70808646e-02\n",
            "  4.67275336e-02  4.99977222e-02  5.00000000e-02  5.00000000e-02\n",
            "  5.00000000e-02  5.00000000e-02  4.99792141e-02  4.99953809e-02\n",
            "  4.99884523e-02  4.94202331e-02  4.45964717e-02  3.63506602e-02\n",
            "  2.68824300e-02  1.32153043e-02  3.52075734e-03 -2.97505534e-03\n",
            " -2.58546240e-03  3.24922749e-03  1.31921047e-02  2.04115793e-02\n",
            "  2.21493228e-02  1.76683180e-02  9.85116501e-03 -7.30990849e-04\n",
            " -4.63139564e-03 -2.13093028e-03  1.20790472e-02  3.15361527e-02\n",
            "  4.50534794e-02  4.99028159e-02  5.00000000e-02  5.00000000e-02\n",
            "  5.00000000e-02  5.00000000e-02  4.98929912e-02  4.99060786e-02\n",
            "  4.98828621e-02  4.79317759e-02  4.04085407e-02  2.95780295e-02\n",
            "  1.75064174e-02  5.93453295e-03 -1.72174930e-03 -3.87107284e-03\n",
            "  9.22638870e-04  1.43359123e-02  2.81287056e-02  3.78147165e-02\n",
            "  3.82862631e-02  3.11146386e-02  2.08328863e-02  7.50472762e-03\n",
            " -2.32610522e-03 -4.23449550e-03  5.13744982e-03  2.64510451e-02\n",
            "  4.32221923e-02  4.98079095e-02  5.00000000e-02  5.00000000e-02\n",
            "  5.00000000e-02  5.00000000e-02  5.00000000e-02  5.00000000e-02\n",
            "  4.98034821e-02  4.59352993e-02  3.58430960e-02  2.16813470e-02\n",
            "  8.47342360e-03 -1.27309617e-03 -4.25392624e-03 -2.86472216e-04\n",
            "  1.21203367e-02  2.88249071e-02  4.27046580e-02  4.89332708e-02\n",
            "  4.63638687e-02  3.97305708e-02  3.00190797e-02  1.45386714e-02\n",
            "  1.49995540e-03 -4.61260696e-03  2.24690748e-03  2.15917840e-02\n",
            "  4.19741191e-02  4.98079095e-02  5.00000000e-02  5.00039535e-02\n",
            "  5.00000000e-02  5.00000000e-02  5.00000000e-02  5.00000000e-02\n",
            "  4.96321666e-02  4.33330137e-02  2.91693699e-02  1.22143279e-02\n",
            "  6.42030653e-05 -4.85779750e-03 -2.22551566e-03  8.64145723e-03\n",
            "  2.51101821e-02  3.99395789e-02  5.28122301e-02  5.51388992e-02\n",
            "  5.03646513e-02  4.37182059e-02  3.45430662e-02  2.02926235e-02\n",
            "  4.70638241e-03 -4.87956464e-03  1.57477714e-03  1.81665365e-02\n",
            "  3.93626316e-02  4.99217972e-02  5.00000000e-02  5.00053034e-02\n",
            "  5.00000000e-02  5.00000000e-02  5.00000000e-02  5.00000000e-02\n",
            "  4.90895670e-02  3.92344744e-02  2.11832841e-02  2.66709201e-03\n",
            " -4.71324219e-03 -3.82261313e-03  5.08341678e-03  1.96998908e-02\n",
            "  3.57406706e-02  5.07652357e-02  5.88299344e-02  5.78391123e-02\n",
            "  5.05893087e-02  4.36215633e-02  3.52892058e-02  2.19328149e-02\n",
            "  5.43887985e-03 -4.57449779e-03  1.75826403e-03  1.80192542e-02\n",
            "  3.88057019e-02  4.99992407e-02  5.00000000e-02  5.00000000e-02\n",
            "  5.00000000e-02  5.00000000e-02  5.00000000e-02  5.00042419e-02\n",
            "  4.80291331e-02  3.34022971e-02  1.30652298e-02 -3.73654416e-03\n",
            " -6.71745791e-03  1.72830747e-04  1.38507334e-02  3.02103443e-02\n",
            "  4.38182884e-02  5.60827167e-02  6.08364121e-02  5.73458052e-02\n",
            "  4.90491200e-02  4.24859887e-02  3.33252944e-02  1.92928421e-02\n",
            "  3.62136031e-03 -4.80539614e-03  3.82824671e-03  1.95146107e-02\n",
            "  3.93776349e-02  5.00000000e-02  5.00000000e-02  5.00000000e-02\n",
            "  5.00000000e-02  5.00000000e-02  5.00000000e-02  4.99979637e-02\n",
            "  4.63330324e-02  2.75568984e-02  6.28666902e-03 -7.30942672e-03\n",
            " -5.70071858e-03  5.92747659e-03  2.16878962e-02  3.75392136e-02\n",
            "  4.95640592e-02  5.84091323e-02  6.14203168e-02  5.53257200e-02\n",
            "  4.68874818e-02  3.95126397e-02  2.82899232e-02  1.36807365e-02\n",
            " -5.10667845e-04 -3.20944880e-03  7.52743859e-03  2.36981643e-02\n",
            "  4.16692079e-02  4.99695828e-02  5.00000000e-02  5.00000000e-02\n",
            "  5.00000000e-02  5.00000000e-02  5.00000000e-02  4.99152437e-02\n",
            "  4.47616649e-02  2.23140177e-02  1.24664816e-03 -8.49830469e-03\n",
            " -2.88425736e-03  1.04195137e-02  2.82274153e-02  4.23333373e-02\n",
            "  5.17806239e-02  5.89921267e-02  5.95894526e-02  5.22623061e-02\n",
            "  4.32523794e-02  3.28850496e-02  2.01982843e-02  5.26529365e-03\n",
            " -3.62130216e-03  7.73191927e-04  1.32857767e-02  2.93325587e-02\n",
            "  4.43277144e-02  4.99847914e-02  5.00000000e-02  5.00000000e-02\n",
            "  5.00000000e-02  5.00000000e-02  5.00000000e-02  4.97206182e-02\n",
            "  4.23989646e-02  1.90179015e-02 -8.03382522e-04 -7.82253674e-03\n",
            " -1.03750536e-03  1.33614961e-02  3.11699344e-02  4.39000093e-02\n",
            "  5.22861468e-02  5.78879900e-02  5.57352815e-02  4.63037774e-02\n",
            "  3.40654821e-02  2.18786487e-02  7.73013662e-03 -2.29157608e-03\n",
            " -3.53089294e-03  6.98722556e-03  2.03249284e-02  3.67287691e-02\n",
            "  4.66708640e-02  5.00009077e-02  5.00000000e-02  5.00000000e-02\n",
            "  5.00000000e-02  5.00000000e-02  5.00000000e-02  4.96029011e-02\n",
            "  4.15287463e-02  1.86755266e-02 -4.09949607e-04 -7.51663556e-03\n",
            " -2.11985740e-03  1.16294214e-02  2.72432145e-02  3.95993364e-02\n",
            "  4.72422930e-02  4.95248368e-02  4.44025542e-02  3.30130970e-02\n",
            "  2.05208493e-02  7.72311999e-03 -2.24571012e-03 -2.77174502e-03\n",
            "  2.96579026e-03  1.55839055e-02  2.97465139e-02  4.20465396e-02\n",
            "  4.84932040e-02  5.00023954e-02  5.00000000e-02  5.00000000e-02\n",
            "  5.00000000e-02  5.00000000e-02  5.00000000e-02  4.94789245e-02\n",
            "  4.16355335e-02  2.27823087e-02  2.40248793e-03 -7.63485908e-03\n",
            " -4.16171679e-03  4.93514097e-03  1.61175229e-02  2.68935012e-02\n",
            "  3.29214573e-02  3.27215815e-02  2.68869827e-02  1.75180491e-02\n",
            "  5.42201469e-03 -2.42961982e-03 -2.86984830e-03  1.97090198e-03\n",
            "  1.21545556e-02  2.48819226e-02  3.74762408e-02  4.63988308e-02\n",
            "  4.95549277e-02  5.00011851e-02  5.00000000e-02  5.00000000e-02\n",
            "  5.00000000e-02  5.00000000e-02  5.00000000e-02  4.97986380e-02\n",
            "  4.36050822e-02  2.79260210e-02  8.93494890e-03 -5.14306751e-03\n",
            " -7.96525623e-03 -6.93457119e-03 -1.99347335e-05  8.57345710e-03\n",
            "  1.27623144e-02  1.22770494e-02  8.64438859e-03  2.36740361e-03\n",
            " -2.51511450e-03 -3.49279125e-03  2.23107080e-03  1.19858923e-02\n",
            "  2.34171925e-02  3.44374672e-02  4.50816746e-02  4.89543560e-02\n",
            "  4.98567863e-02  4.99455837e-02  5.00000000e-02  5.00000000e-02\n",
            "  5.00000000e-02  5.00000000e-02  4.99715614e-02  5.00000000e-02\n",
            "  4.69026723e-02  3.57982892e-02  2.00886021e-02  3.43804097e-03\n",
            " -5.94504233e-03 -1.24774080e-02 -1.28129866e-02 -8.61428906e-03\n",
            " -4.45048139e-03 -2.66952677e-03 -3.31589533e-03 -4.17166268e-03\n",
            " -2.82628687e-03  3.61901156e-03  1.34114770e-02  2.41908196e-02\n",
            "  3.50230569e-02  4.41762223e-02  4.83153018e-02  4.96145557e-02\n",
            "  4.99877745e-02  5.00000000e-02  5.00000000e-02  5.00000000e-02\n",
            "  5.00000000e-02  5.00000000e-02  5.00000000e-02  5.00000000e-02\n",
            "  4.91662091e-02  4.41405048e-02  3.30126714e-02  1.95917694e-02\n",
            "  6.55769985e-03 -4.55931145e-03 -1.00786409e-02 -1.08701971e-02\n",
            " -8.61392339e-03 -6.60383824e-03 -1.92219360e-03  4.26692379e-03\n",
            "  1.15388190e-02  2.04537142e-02  3.02028130e-02  3.83143762e-02\n",
            "  4.51924718e-02  4.85596186e-02  4.95315811e-02  4.98669057e-02\n",
            "  5.00000000e-02  5.00000000e-02  5.00000000e-02  5.00000000e-02\n",
            "  5.00000000e-02  5.00000000e-02  5.00000000e-02  5.00000000e-02\n",
            "  4.98644663e-02  4.86258586e-02  4.50867561e-02  3.80205464e-02\n",
            "  2.80066046e-02  1.90816353e-02  1.18865439e-02  7.99269681e-03\n",
            "  7.75055794e-03  1.20509759e-02  1.87215872e-02  2.54608390e-02\n",
            "  3.23749487e-02  3.81469350e-02  4.33788073e-02  4.74639458e-02\n",
            "  4.91950269e-02  4.96704751e-02  4.99135048e-02  4.99914890e-02\n",
            "  5.00047821e-02  5.00000000e-02  5.00000000e-02  5.00000000e-02\n",
            "  5.00000000e-02  5.00000000e-02  5.00000000e-02  5.00000000e-02\n",
            "  5.00000000e-02  4.99087394e-02  4.94877825e-02  4.88035009e-02\n",
            "  4.75194736e-02  4.54709185e-02  4.30681111e-02  4.11792564e-02\n",
            "  4.03800685e-02  4.10777644e-02  4.24678190e-02  4.41201908e-02\n",
            "  4.63894230e-02  4.81101940e-02  4.94519718e-02  4.97541041e-02\n",
            "  4.98627553e-02  4.99829217e-02  5.00000000e-02  5.00000000e-02\n",
            "  5.00000000e-02  5.00000000e-02  5.00000000e-02  5.00000000e-02\n",
            "  5.00000000e-02  5.00000000e-02  5.00000000e-02  5.00000000e-02\n",
            "  5.00000000e-02  5.00000000e-02  5.00000000e-02  5.00020703e-02\n",
            "  4.99045986e-02  4.98313945e-02  4.97992751e-02  4.98384123e-02\n",
            "  4.99384570e-02  4.99189937e-02  4.99388430e-02  4.99733913e-02\n",
            "  4.99984251e-02  5.00000000e-02  5.00000000e-02  5.00000000e-02\n",
            "  5.00000000e-02  5.00000000e-02  5.00000000e-02  5.00000000e-02\n",
            "  5.00000000e-02  5.00000000e-02  5.00000000e-02  5.00000000e-02\n",
            "  5.00000000e-02  5.00000000e-02  5.00000000e-02  5.00000000e-02\n",
            "  5.00000000e-02  5.00000000e-02  5.00000000e-02  5.00000000e-02\n",
            "  5.00000000e-02  5.00000000e-02  5.00000000e-02  5.00000000e-02\n",
            "  5.00000000e-02  5.00000000e-02  5.00000000e-02  5.00000000e-02\n",
            "  5.00000000e-02  5.00000000e-02  5.00000000e-02  5.00000000e-02\n",
            "  5.00000000e-02  5.00000000e-02  5.00000000e-02  5.00000000e-02\n",
            "  5.00000000e-02  5.00000000e-02  5.00000000e-02  5.00000000e-02\n",
            "  5.00000000e-02  5.00000000e-02  5.00000000e-02  5.00000000e-02\n",
            "  5.00000000e-02  5.00000000e-02  5.00000000e-02  5.00000000e-02\n",
            "  5.00000000e-02  5.00000000e-02  5.00000000e-02  5.00000000e-02\n",
            "  5.00000000e-02  5.00000000e-02  5.00000000e-02  5.00000000e-02\n",
            "  5.00000000e-02  5.00000000e-02  5.00000000e-02  5.00000000e-02\n",
            "  5.00000000e-02  5.00000000e-02  5.00000000e-02  5.00000000e-02\n",
            "  5.00000000e-02  5.00000000e-02  5.00000000e-02  5.00000000e-02\n",
            " -2.07947528e-02]     f(x_k)=  284.7831321995587\n",
            "iterations:  1000\n",
            "||g(x_k)||=  2571.8913382001574\n"
          ]
        }
      ]
    },
    {
      "cell_type": "code",
      "source": [
        "#bbb=np.loadtxt(\"b_1000.txt\",skiprows=1)"
      ],
      "metadata": {
        "id": "KbbZ3bBpGHAA"
      },
      "execution_count": 111,
      "outputs": []
    },
    {
      "cell_type": "code",
      "source": [
        "#Guardar la solucion\n",
        "fo = open(f\"b_100.txt\", \"w\")\n",
        "fo.write(str(785)+\"\\n\")#Add size\n",
        "np.savetxt(fo, loc_min, fmt='%1.9e', comments='')\n",
        "fo.close()"
      ],
      "metadata": {
        "id": "Z51L91CPTpLl"
      },
      "execution_count": 147,
      "outputs": []
    },
    {
      "cell_type": "code",
      "source": [
        "import time\n",
        "from datetime import timedelta\n",
        "\n",
        "start = time.monotonic()\n",
        "\n",
        "#Hacer cositas\n",
        "end = time.monotonic()\n",
        "\n",
        "\n",
        "tiempo_total = timedelta(seconds=end - start).total_seconds()\n",
        "print('Tiempo de ejecución original', tiempo_total)\n",
        "\n",
        "#Segundo intento\n",
        "start = time.monotonic()\n",
        "\n",
        "#Hacer lo mismo\n",
        "end = time.monotonic()\n",
        "\n",
        "\n",
        "tiempo_total = timedelta(seconds=end - start).total_seconds()\n",
        "print('Tiempo de ejecución con inversa', tiempo_total)"
      ],
      "metadata": {
        "id": "3TfoqCFFqDb5",
        "outputId": "674dca74-b8be-4e6a-8993-87c657bf72e1",
        "colab": {
          "base_uri": "https://localhost:8080/"
        }
      },
      "execution_count": 16,
      "outputs": [
        {
          "output_type": "stream",
          "name": "stdout",
          "text": [
            "Tiempo de ejecución original 3e-05\n",
            "Tiempo de ejecución con inversa 3.5e-05\n"
          ]
        }
      ]
    }
  ]
}