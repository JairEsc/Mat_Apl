{
  "nbformat": 4,
  "nbformat_minor": 0,
  "metadata": {
    "colab": {
      "name": "Untitled94.ipynb",
      "provenance": [],
      "authorship_tag": "ABX9TyOXrCkGEPsXrSddQjc+MWBF",
      "include_colab_link": true
    },
    "kernelspec": {
      "name": "python3",
      "display_name": "Python 3"
    },
    "language_info": {
      "name": "python"
    }
  },
  "cells": [
    {
      "cell_type": "markdown",
      "metadata": {
        "id": "view-in-github",
        "colab_type": "text"
      },
      "source": [
        "<a href=\"https://colab.research.google.com/github/JairEsc/Mat_Apl/blob/main/Opt_T6.ipynb\" target=\"_parent\"><img src=\"https://colab.research.google.com/assets/colab-badge.svg\" alt=\"Open In Colab\"/></a>"
      ]
    },
    {
      "cell_type": "code",
      "source": [
        "import numpy as np\n",
        "import matplotlib.pyplot as plt"
      ],
      "metadata": {
        "id": "3m14b5WfF4yc"
      },
      "execution_count": null,
      "outputs": []
    },
    {
      "cell_type": "code",
      "execution_count": null,
      "metadata": {
        "id": "WI6qv9P7EsAt"
      },
      "outputs": [],
      "source": [
        "#steepest descent.\n",
        "def get_alpha_k(x,d,H):\n",
        "    top=np.linalg.norm(d)\n",
        "    bottom=np.dot(d,np.dot(H,d))\n",
        "    return (top/bottom)\n",
        "def Steepest_descent(x_0,f,grad_f,Hessian_f,tol_grad=10**(-6),max_iter=10**5,pr=\"False\"):\n",
        "    alpha_k=get_alpha_k(x=x_0,d=grad_f(x_0),H=Hessian_f(x_0))\n",
        "    x_1=x_0-alpha_k*np.array(grad_f(x_0))#First iteration\n",
        "    if(pr=='True'):\n",
        "        print(\"Initial approximation: \", x_0)\n",
        "        F=[f(x_0)]\n",
        "        G=[np.linalg.norm(grad_f(x_0))]\n",
        "    x_0=x_1\n",
        "    k=1\n",
        "    norm_grad=np.linalg.norm(grad_f(x_1))\n",
        "    #Cycle\n",
        "    while(norm_grad>tol_grad and k<max_iter):#stop criteria\n",
        "        k+=1\n",
        "        alpha_k=get_alpha_k(x=x_0,d=grad_f(x_0),H=Hessian_f(x_0))\n",
        "        x_1=x_0-alpha_k*np.array(grad_f(x_0))\n",
        "        x_0=x_1\n",
        "        norm_grad=np.linalg.norm(grad_f(x_1))\n",
        "        if(pr=='True'):\n",
        "            F.append(f(x_0))\n",
        "            G.append(np.linalg.norm(grad_f(x_0)))\n",
        "    if(k==max_iter):\n",
        "        print(\"There wasnt convergence after \"+str(max_iter)+\" iterations.\\nLast iteration: \"+str(x_1))\n",
        "    else:\n",
        "        if(pr=='True'):\n",
        "            if(len(F)>1000):\n",
        "                L=200\n",
        "            else:\n",
        "                L=0\n",
        "            plt.plot(range(L+1,len(F)),F[L:-1])#Posterior convergence\n",
        "            #Ploteo los ultimos para ver qué forma tiene la curva en las ultimas iteraciones, pues inicia decreciendo muy rápido.\n",
        "            plt.title(\"k vs. F(X_k)\")   \n",
        "            plt.show()         \n",
        "            plt.plot(range(L+1,len(G)),G[L:-1])\n",
        "            plt.title(\"k vs. ||g(X_k)||\")   \n",
        "            plt.show()         \n",
        "        print(\"iterations: \",k)\n",
        "        return (x_1)"
      ]
    },
    {
      "cell_type": "code",
      "source": [
        "def Rosembrok(X):#X es un vector.\n",
        "    suma=0\n",
        "    for i in range(len(X)-1):#Se puede otpimizar.\n",
        "        suma+=100*((X[i+1]-X[i]**2)**2)+(1-X[i])**2\n",
        "    return (suma)\n",
        "def Rosembrok_grad(X):\n",
        "    D=[]\n",
        "    D.append(-400*(X[0]*(X[1]-X[0]**2))-2*(1-X[0]))\n",
        "    for i in range(1,len(X)-1):\n",
        "        D.append(-400*(X[i]*(X[i+1]-X[i]**2))+200*(X[i]-X[i-1]**2)-2*(1-X[i]))\n",
        "    D.append(200*(X[-1]-X[-2]**2))\n",
        "    return D\n",
        "def Rosembrok_Hessian(X):\n",
        "    M=[]\n",
        "    #Renglon 1\n",
        "    D=np.zeros(len(X))\n",
        "    D[0]=(-400*(X[1]-X[0]**2)+800*(X[0]**2)+2)\n",
        "    D[1]=-400*(X[1])\n",
        "    M.append(D)\n",
        "    #Renglon 2<i<n\n",
        "    for i in range(1,len(X)-1):\n",
        "        D=np.zeros(len(X))\n",
        "        D[i]=(-400*(X[i+1]-X[i]**2)+800*(X[i]**2)+202)\n",
        "        D[i-1]=-400*X[i-1]\n",
        "        D[i+1]=-400*X[i]\n",
        "        M.append(D)\n",
        "    #Renglon n\n",
        "    D=np.zeros(len(X))\n",
        "    D[-2]=-400*X[-2]\n",
        "    D[-1]=200\n",
        "    M.append(D)\n",
        "    return M"
      ],
      "metadata": {
        "id": "cRaHfYA0Ge6r"
      },
      "execution_count": null,
      "outputs": []
    },
    {
      "cell_type": "code",
      "source": [
        "n=2\n",
        "x_0=[]\n",
        "if(n>2):\n",
        "    x_0.append(-1.2)\n",
        "for i in range(1,n-2):\n",
        "    x_0.append(1)\n",
        "x_0.append(-1.2)\n",
        "x_0.append(1)\n",
        "loc_min=Steepest_descent(x_0=x_0,f=Rosembrok,grad_f=Rosembrok_grad,Hessian_f=Rosembrok_Hessian,pr='True',tol_grad=10**(-4))\n",
        "print(\"local minimum approximation: \",(loc_min))\n",
        "print(\"f-Value: \",Rosembrok(loc_min))#Error"
      ],
      "metadata": {
        "colab": {
          "base_uri": "https://localhost:8080/",
          "height": 614
        },
        "id": "EINTxni_Gkl8",
        "outputId": "926536e1-4385-4acf-ffa8-bbe9efe9b676"
      },
      "execution_count": null,
      "outputs": [
        {
          "output_type": "stream",
          "name": "stdout",
          "text": [
            "Initial approximation:  [-1.2, 1]\n"
          ]
        },
        {
          "output_type": "display_data",
          "data": {
            "text/plain": [
              "<Figure size 432x288 with 1 Axes>"
            ],
            "image/png": "[encoded data removed]"
          },
          "metadata": {
            "needs_background": "light"
          }
        },
        {
          "output_type": "display_data",
          "data": {
            "text/plain": [
              "<Figure size 432x288 with 1 Axes>"
            ],
            "image/png": "[encoded data removed]"
          },
          "metadata": {
            "needs_background": "light"
          }
        },
        {
          "output_type": "stream",
          "name": "stdout",
          "text": [
            "iterations:  30400\n",
            "local minimum approximation:  [0.99997841 0.99995692]\n",
            "f-Value:  4.673490508027672e-10\n"
          ]
        }
      ]
    }
  ]
}