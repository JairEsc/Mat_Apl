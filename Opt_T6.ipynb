{
  "nbformat": 4,
  "nbformat_minor": 0,
  "metadata": {
    "colab": {
      "name": "Untitled94.ipynb",
      "provenance": [],
      "authorship_tag": "ABX9TyOuZcykzStn2yVcJQapokmb",
      "include_colab_link": true
    },
    "kernelspec": {
      "name": "python3",
      "display_name": "Python 3"
    },
    "language_info": {
      "name": "python"
    }
  },
  "cells": [
    {
      "cell_type": "markdown",
      "metadata": {
        "id": "view-in-github",
        "colab_type": "text"
      },
      "source": [
        "<a href=\"https://colab.research.google.com/github/JairEsc/Mat_Apl/blob/main/Opt_T6.ipynb\" target=\"_parent\"><img src=\"https://colab.research.google.com/assets/colab-badge.svg\" alt=\"Open In Colab\"/></a>"
      ]
    },
    {
      "cell_type": "code",
      "source": [
        "import numpy as np\n",
        "import matplotlib.pyplot as plt"
      ],
      "metadata": {
        "id": "3m14b5WfF4yc"
      },
      "execution_count": 3,
      "outputs": []
    },
    {
      "cell_type": "markdown",
      "source": [
        "Cargamos los datos usando gzip y pickle."
      ],
      "metadata": {
        "id": "nYfEfPNJfBC4"
      }
    },
    {
      "cell_type": "code",
      "source": [
        "import gzip, pickle\n",
        "with gzip.open('mnist.pkl.gz','rb') as ff :\n",
        "    u = pickle._Unpickler( ff )\n",
        "    u.encoding = 'latin1'\n",
        "    train, val, test = u.load()"
      ],
      "metadata": {
        "id": "VmWjyjd0e_lS"
      },
      "execution_count": 4,
      "outputs": []
    },
    {
      "cell_type": "code",
      "source": [
        "print( train[0].shape, train[1].shape )"
      ],
      "metadata": {
        "id": "YITO0s4AfD_k",
        "outputId": "298cb1fc-f161-43a2-ee68-ab1534f99b5e",
        "colab": {
          "base_uri": "https://localhost:8080/"
        }
      },
      "execution_count": 12,
      "outputs": [
        {
          "output_type": "stream",
          "name": "stdout",
          "text": [
            "(50000, 784) (50000,)\n"
          ]
        }
      ]
    },
    {
      "cell_type": "markdown",
      "source": [
        "Tenemos 50000 arreglos de 784 entradas cada uno, el cual representa un número el cual se puede observar con el siguiente código:"
      ],
      "metadata": {
        "id": "KV8jfhGJi5RV"
      }
    },
    {
      "cell_type": "code",
      "source": [
        "idimg = 2000\n",
        "\n",
        "im =  train[0][idimg].reshape(-1, 28) #train[0] es una matriz,\n",
        "#train[0][j] es un vector de longitud 784\n",
        "#reshape(-1,28) significa crea una matriz de k x 28 tal que k*28=784\n",
        "plt.imshow(im)#Plotealo como imagen.\n",
        "print('clase: ', train[1][idimg])"
      ],
      "metadata": {
        "id": "Oav_G3BYiKg7",
        "outputId": "d16fb120-6f60-4038-a5d5-66396a4fa297",
        "colab": {
          "base_uri": "https://localhost:8080/",
          "height": 282
        }
      },
      "execution_count": 5,
      "outputs": [
        {
          "output_type": "stream",
          "name": "stdout",
          "text": [
            "clase:  5\n"
          ]
        },
        {
          "output_type": "display_data",
          "data": {
            "text/plain": [
              "<Figure size 432x288 with 1 Axes>"
            ],
            "image/png": "[encoded data removed]"
          },
          "metadata": {
            "needs_background": "light"
          }
        }
      ]
    },
    {
      "cell_type": "markdown",
      "source": [
        "train[1][k] guarda el número que representa el respectivo train[0][k]."
      ],
      "metadata": {
        "id": "HIGwkL6_jZSH"
      }
    },
    {
      "cell_type": "markdown",
      "source": [
        "------------------------------------------------"
      ],
      "metadata": {
        "id": "soZ3iRwyk6Fg"
      }
    },
    {
      "cell_type": "markdown",
      "source": [
        "Implementación del descenso de gradiente."
      ],
      "metadata": {
        "id": "VJFwtxOpk1Sn"
      }
    },
    {
      "cell_type": "markdown",
      "source": [
        "Consideramos el tamaño de paso $\\alpha_k=\\frac{d_k^Td_k}{d_k^THd_k}$"
      ],
      "metadata": {
        "id": "MWmmdEFOlLd7"
      }
    },
    {
      "cell_type": "code",
      "source": [
        "def get_alpha_k(x,d,H):#Si tenemos H la matriz Hessiana.\n",
        "    top=np.linalg.norm(d)\n",
        "    bottom=np.dot(d,np.dot(H,d))\n",
        "    return (top/bottom)"
      ],
      "metadata": {
        "id": "pb5BpulEjXdh"
      },
      "execution_count": 6,
      "outputs": []
    },
    {
      "cell_type": "markdown",
      "source": [
        "Nuestra función de descenso recibe una condición inicial $x_0$, la función a minimizar, el gradiente y Hessiano de la misma, y hay parámetros opcionales para tolerancia del gradiente y número máximo de iteraciones, así como un parámetro (False por default) que grafica el valor de $f(x_k)$ y $||g_k||$."
      ],
      "metadata": {
        "id": "XQrBi6DhldlE"
      }
    },
    {
      "cell_type": "code",
      "execution_count": 7,
      "metadata": {
        "id": "WI6qv9P7EsAt"
      },
      "outputs": [],
      "source": [
        "def Steepest_descent(x_0,f,grad_f,Hessian_f,tol_grad=10**(-6),max_iter=10**5,pr=\"False\"):\n",
        "    alpha_k=get_alpha_k(x=x_0,d=grad_f(x_0),H=Hessian_f(x_0))\n",
        "    x_1=x_0-alpha_k*np.array(grad_f(x_0))#First iteration\n",
        "    if(pr=='True'):\n",
        "        print(\"Initial approximation: \", x_0)\n",
        "        F=[f(x_0)]\n",
        "        G=[np.linalg.norm(grad_f(x_0))]\n",
        "    x_0=x_1\n",
        "    k=1\n",
        "    norm_grad=np.linalg.norm(grad_f(x_1))\n",
        "    #Cycle\n",
        "    while(norm_grad>tol_grad and k<max_iter):#stop criteria\n",
        "        k+=1\n",
        "        alpha_k=get_alpha_k(x=x_0,d=grad_f(x_0),H=Hessian_f(x_0))\n",
        "        x_1=x_0-alpha_k*np.array(grad_f(x_0))\n",
        "        x_0=x_1\n",
        "        norm_grad=np.linalg.norm(grad_f(x_1))\n",
        "        if(pr=='True'):\n",
        "            F.append(f(x_0))\n",
        "            G.append(np.linalg.norm(grad_f(x_0)))\n",
        "    if(k==max_iter):\n",
        "        print(\"There wasnt convergence after \"+str(max_iter)+\" iterations.\\nLast iteration: \"+str(x_1),\"   \",\"f(x_k)= \",str(f(x_1)))\n",
        "    else:\n",
        "        L=0\n",
        "        plt.plot(range(L+1,len(F)),F[L:-1])\n",
        "        plt.title(\"k vs. F(X_k)\")   \n",
        "        plt.show()         \n",
        "        plt.plot(range(L+1,len(G)),G[L:-1])\n",
        "        plt.title(\"k vs. ||g(X_k)||\")   \n",
        "        plt.show()\n",
        "    print(\"iterations: \",k)\n",
        "    return (x_1)"
      ]
    },
    {
      "cell_type": "markdown",
      "source": [
        "Definimos $f$, $\\nabla f$ y $H_f$ para el problema."
      ],
      "metadata": {
        "id": "L335f8FWmW2d"
      }
    },
    {
      "cell_type": "markdown",
      "source": [
        "Primero seleccionamos un subconjunto de los datos, tales que $y\\in\\{0,1\\}$."
      ],
      "metadata": {
        "id": "79ZLjjIxntuR"
      }
    },
    {
      "cell_type": "code",
      "source": [
        "import random"
      ],
      "metadata": {
        "id": "I3OQ-_h6PCy0"
      },
      "execution_count": 8,
      "outputs": []
    },
    {
      "cell_type": "code",
      "source": [
        "y=train[1][train[1]<2]\n",
        "x=train[0][train[1]<2]\n",
        "np.random.seed(0)\n",
        "u=np.random.randint(0,5000,200)\n",
        "x=x[u]\n",
        "np.random.seed(0)\n",
        "y=y[np.random.randint(0,5000,200)]\n",
        "n=len(x)"
      ],
      "metadata": {
        "id": "KckQQ7LontUj"
      },
      "execution_count": 9,
      "outputs": []
    },
    {
      "cell_type": "code",
      "source": [
        "x_plus=np.c_[x,np.ones(n)]\n",
        "x_plus.shape"
      ],
      "metadata": {
        "id": "M9Iohqg0we9u",
        "outputId": "0efd2933-681e-47f3-d04c-7369431c047f",
        "colab": {
          "base_uri": "https://localhost:8080/"
        }
      },
      "execution_count": 10,
      "outputs": [
        {
          "output_type": "execute_result",
          "data": {
            "text/plain": [
              "(200, 785)"
            ]
          },
          "metadata": {},
          "execution_count": 10
        }
      ]
    },
    {
      "cell_type": "code",
      "source": [
        "def common_exp(i,b,b_0):\n",
        "    u=np.dot(x[i],b)\n",
        "    return(np.exp(-u-b_0))"
      ],
      "metadata": {
        "id": "UFbC8cD-1cbG"
      },
      "execution_count": 11,
      "outputs": []
    },
    {
      "cell_type": "code",
      "source": [
        "def pi_i(i,b,b_0):\n",
        "    u=np.dot(x[i],b)\n",
        "    a=1+np.exp(-u-b_0)\n",
        "    return (1/a)"
      ],
      "metadata": {
        "id": "I2FP7zcYnM4I"
      },
      "execution_count": 12,
      "outputs": []
    },
    {
      "cell_type": "code",
      "source": [
        "def h(b_and_b_0):\n",
        "    b=b_and_b_0[0:-1]\n",
        "    b_0=b_and_b_0[-1]\n",
        "    suma=0\n",
        "    for i in range(n):\n",
        "        comm_exp=common_exp(i=i,b=b,b_0=b_0)\n",
        "        if(y[i]==1):\n",
        "            suma+=-np.log(1+comm_exp)\n",
        "        else:\n",
        "            suma+=np.dot(x[i],b)-np.log(1+comm_exp)\n",
        "    return suma"
      ],
      "metadata": {
        "id": "nm6_uxZ8mXJm"
      },
      "execution_count": 13,
      "outputs": []
    },
    {
      "cell_type": "code",
      "source": [
        "def grad_h(b_and_b_0):\n",
        "    b=b_and_b_0[:-1]\n",
        "    b_0=b_and_b_0[-1]\n",
        "    suma_g=np.zeros(len(b_and_b_0))\n",
        "    for i in range(n):\n",
        "        comm_exp=common_exp(i=i,b=b,b_0=b_0)\n",
        "        if(y[i]==1):\n",
        "            suma_g+=(comm_exp/(1+comm_exp))*x_plus[i]\n",
        "        else:\n",
        "            suma_g+=-(1/(1+comm_exp))*x_plus[i]\n",
        "    return suma_g"
      ],
      "metadata": {
        "id": "eHrR7oqbnLEQ"
      },
      "execution_count": 14,
      "outputs": []
    },
    {
      "cell_type": "code",
      "source": [
        "def Hessian_h(b_and_b_0):\n",
        "    b=b_and_b_0[:-1]\n",
        "    b_0=b_and_b_0[-1]\n",
        "    suma_h=np.zeros((len(b_and_b_0),len(b_and_b_0)))\n",
        "    for i in range(n):\n",
        "        comm_exp=common_exp(i=i,b=b,b_0=b_0)\n",
        "        if(y[i]==1):\n",
        "            suma_h+=-(comm_exp)/((1+comm_exp)**2)*np.outer(x_plus,x_plus)\n",
        "        else:\n",
        "            suma_h+=-(comm_exp)/((1+comm_exp)**2)*np.outer(x_plus,x_plus)\n",
        "    return suma_h"
      ],
      "metadata": {
        "id": "eefKtgDa_oKc"
      },
      "execution_count": 15,
      "outputs": []
    },
    {
      "cell_type": "code",
      "source": [
        "loc_min=Steepest_descent(x_0=np.ones(785)*0.0009,f=h,grad_f=grad_h,Hessian_f=Hessian_h,tol_grad=0.001,max_iter=1000,pr='True')"
      ],
      "metadata": {
        "colab": {
          "base_uri": "https://localhost:8080/",
          "height": 165
        },
        "id": "ZCPMh9_IAMbq",
        "outputId": "c061a4b9-e82c-41ca-d816-18983c1212d2"
      },
      "execution_count": 1,
      "outputs": [
        {
          "output_type": "error",
          "ename": "NameError",
          "evalue": "ignored",
          "traceback": [
            "\u001b[0;31m---------------------------------------------------------------------------\u001b[0m",
            "\u001b[0;31mNameError\u001b[0m                                 Traceback (most recent call last)",
            "\u001b[0;32m<ipython-input-1-8b54997e1010>\u001b[0m in \u001b[0;36m<module>\u001b[0;34m()\u001b[0m\n\u001b[0;32m----> 1\u001b[0;31m \u001b[0mloc_min\u001b[0m\u001b[0;34m=\u001b[0m\u001b[0mSteepest_descent\u001b[0m\u001b[0;34m(\u001b[0m\u001b[0mx_0\u001b[0m\u001b[0;34m=\u001b[0m\u001b[0mnp\u001b[0m\u001b[0;34m.\u001b[0m\u001b[0mones\u001b[0m\u001b[0;34m(\u001b[0m\u001b[0;36m785\u001b[0m\u001b[0;34m)\u001b[0m\u001b[0;34m*\u001b[0m\u001b[0;36m0.0009\u001b[0m\u001b[0;34m,\u001b[0m\u001b[0mf\u001b[0m\u001b[0;34m=\u001b[0m\u001b[0mh\u001b[0m\u001b[0;34m,\u001b[0m\u001b[0mgrad_f\u001b[0m\u001b[0;34m=\u001b[0m\u001b[0mgrad_h\u001b[0m\u001b[0;34m,\u001b[0m\u001b[0mHessian_f\u001b[0m\u001b[0;34m=\u001b[0m\u001b[0mHessian_h\u001b[0m\u001b[0;34m,\u001b[0m\u001b[0mtol_grad\u001b[0m\u001b[0;34m=\u001b[0m\u001b[0;36m0.001\u001b[0m\u001b[0;34m,\u001b[0m\u001b[0mmax_iter\u001b[0m\u001b[0;34m=\u001b[0m\u001b[0;36m1000\u001b[0m\u001b[0;34m,\u001b[0m\u001b[0mpr\u001b[0m\u001b[0;34m=\u001b[0m\u001b[0;34m'True'\u001b[0m\u001b[0;34m)\u001b[0m\u001b[0;34m\u001b[0m\u001b[0;34m\u001b[0m\u001b[0m\n\u001b[0m",
            "\u001b[0;31mNameError\u001b[0m: name 'Steepest_descent' is not defined"
          ]
        }
      ]
    },
    {
      "cell_type": "code",
      "source": [
        "#Guardar la solucion\n",
        "fo = open(f\"b_0.txt\", \"w\")\n",
        "fo.write(str(785)+\"\\n\")#Add size\n",
        "np.savetxt(fo, loc_min, fmt='%1.9e', comments='')\n",
        "fo.close()"
      ],
      "metadata": {
        "id": "Z51L91CPTpLl"
      },
      "execution_count": null,
      "outputs": []
    },
    {
      "cell_type": "code",
      "source": [
        "h(np.ones(785)*0.0009)"
      ],
      "metadata": {
        "id": "t3jkn6ICaQ4i"
      },
      "execution_count": null,
      "outputs": []
    },
    {
      "cell_type": "code",
      "source": [
        "from scipy.optimize import minimize\n",
        "minimize(h,np.ones(785)*-2)"
      ],
      "metadata": {
        "id": "0v5z1MT7ZWhY"
      },
      "execution_count": null,
      "outputs": []
    },
    {
      "cell_type": "code",
      "source": [
        "grad_h(np.array(loc_min))"
      ],
      "metadata": {
        "id": "VVbmrNAXc_w4"
      },
      "execution_count": null,
      "outputs": []
    },
    {
      "cell_type": "code",
      "source": [
        "loc_min=[  -2.        ,   -2.        ,   -2.        ,   -2.        ,\n",
        "         -2.        ,   -2.        ,   -2.        ,   -2.        ,\n",
        "         -2.        ,   -2.        ,   -2.        ,   -2.        ,\n",
        "         -2.        ,   -2.        ,   -2.        ,   -2.        ,\n",
        "         -2.        ,   -2.        ,   -2.        ,   -2.        ,\n",
        "         -2.        ,   -2.        ,   -2.        ,   -2.        ,\n",
        "         -2.        ,   -2.        ,   -2.        ,   -2.        ,\n",
        "         -2.        ,   -2.        ,   -2.        ,   -2.        ,\n",
        "         -2.        ,   -2.        ,   -2.        ,   -2.        ,\n",
        "         -2.        ,   -2.        ,   -2.        ,   -2.        ,\n",
        "         -2.        ,   -2.        ,   -2.        ,   -2.        ,\n",
        "         -2.        ,   -2.        ,   -2.        ,   -2.        ,\n",
        "         -2.        ,   -2.        ,   -2.        ,   -2.        ,\n",
        "         -2.        ,   -2.        ,   -2.        ,   -2.        ,\n",
        "         -2.        ,   -2.        ,   -2.        ,   -2.        ,\n",
        "         -2.        ,   -2.        ,   -2.        ,   -2.        ,\n",
        "         -2.        ,   -2.        ,   -2.        ,   -2.        ,\n",
        "         -2.        ,   -2.        ,   -2.        ,   -2.        ,\n",
        "         -2.        ,   -2.        ,   -2.        ,   -2.        ,\n",
        "         -2.        ,   -2.        ,   -2.        ,   -2.        ,\n",
        "         -2.        ,   -2.        ,   -2.        ,   -2.        ,\n",
        "         -2.        ,   -2.        ,   -2.        ,   -2.        ,\n",
        "         -2.        ,   -2.        ,   -2.        ,   -2.        ,\n",
        "         -2.        ,   -2.        ,   -2.        ,   -2.        ,\n",
        "         -2.        ,   -2.        ,   -2.        ,   -2.        ,\n",
        "         -2.        ,   -2.        ,   -2.        ,   -2.        ,\n",
        "         -2.        ,   -2.        ,   -2.        ,   -2.        ,\n",
        "         -2.        ,   -2.        ,   -2.        ,   -2.        ,\n",
        "         -2.        ,   -2.        ,   -2.        ,   -2.        ,\n",
        "         -2.        ,   -2.        ,   -2.        ,   -2.        ,\n",
        "         -2.        ,   -2.        ,   -2.        ,   -2.        ,\n",
        "         -7.08593411,  -24.65552465,  -52.0270973 ,  -66.73007044,\n",
        "        -29.18662958,  -39.3584978 ,  -49.16047989,  -22.71362254,\n",
        "         -2.        ,   -2.        ,   -2.        ,   -2.        ,\n",
        "         -2.        ,   -2.        ,   -2.        ,   -2.        ,\n",
        "         -2.        ,   -2.        ,   -2.        ,   -2.        ,\n",
        "         -2.        ,   -2.        ,   -2.        ,   -2.        ,\n",
        "         -2.        ,   -2.        ,   -3.47954447,  -25.58023995,\n",
        "        -31.03606017,  -29.00168653,  -68.76444408,  -72.09341913,\n",
        "        -62.93873774,  -45.36914719,  -66.08276973,  -44.25948884,\n",
        "         -2.        ,   -2.        ,   -2.        ,   -2.        ,\n",
        "         -2.        ,   -2.        ,   -2.        ,   -2.        ,\n",
        "         -2.        ,   -2.        ,   -2.        ,   -2.        ,\n",
        "         -2.        ,   -2.        ,   -2.        ,   -2.        ,\n",
        "         -2.        ,   -2.        ,   -7.45582022,  -26.41248371,\n",
        "        -42.68747285,  -60.62694951,  -73.75790666,  -72.83319136,\n",
        "        -77.82665394,  -59.14740504,  -67.37737114,  -35.75210816,\n",
        "         -3.01718682,   -2.        ,   -2.        ,   -2.        ,\n",
        "         -2.        ,   -2.        ,   -2.        ,   -2.        ,\n",
        "         -2.        ,   -2.        ,   -2.        ,   -2.        ,\n",
        "         -2.        ,   -2.        ,   -2.        ,   -2.        ,\n",
        "         -2.        ,   -2.        ,   -2.6473007 ,  -21.60396419,\n",
        "        -43.51971661,  -56.74314528,  -97.43061813,  -73.5729636 ,\n",
        "        -83.09753111,  -73.38802054,  -65.15805444,  -11.70951057,\n",
        "         -2.        ,   -2.        ,   -2.        ,   -2.        ,\n",
        "         -2.        ,   -2.        ,   -2.        ,   -2.        ,\n",
        "         -2.        ,   -2.        ,   -2.        ,   -2.        ,\n",
        "         -2.        ,   -2.        ,   -2.        ,   -2.        ,\n",
        "         -2.        ,   -2.        ,   -2.        ,  -10.32243763,\n",
        "        -41.02298532,  -52.39698341, -109.17450234,  -86.61144921,\n",
        "        -79.76855605,  -78.75136923,  -48.14329307,   -2.        ,\n",
        "         -2.        ,   -2.        ,   -2.        ,   -2.        ,\n",
        "         -2.        ,   -2.        ,   -2.        ,   -2.        ,\n",
        "         -2.        ,   -2.        ,   -2.        ,   -2.        ,\n",
        "         -2.        ,   -2.        ,   -2.        ,   -2.        ,\n",
        "         -2.        ,   -2.        ,   -2.        ,   -2.46235765,\n",
        "        -10.2299661 ,  -65.80535515, -116.38728162, -135.99124581,\n",
        "        -91.14255415,  -72.18589066,  -16.98038773,   -2.        ,\n",
        "         -2.        ,   -2.        ,   -2.        ,   -2.        ,\n",
        "         -2.        ,   -2.        ,   -2.        ,   -2.        ,\n",
        "         -2.        ,   -2.        ,   -2.        ,   -2.        ,\n",
        "         -2.        ,   -2.        ,   -2.        ,   -2.        ,\n",
        "         -2.        ,   -2.        ,   -2.        ,   -6.06874728,\n",
        "        -23.45339477,  -67.19242808, -126.55914983, -138.21056251,\n",
        "       -100.75959318,  -49.43789448,   -3.94190211,   -2.        ,\n",
        "         -2.        ,   -2.        ,   -2.        ,   -2.        ,\n",
        "         -2.        ,   -2.        ,   -2.        ,   -2.        ,\n",
        "         -2.        ,   -2.        ,   -2.        ,   -2.        ,\n",
        "         -2.        ,   -2.        ,   -2.        ,   -2.        ,\n",
        "         -2.        ,   -2.        ,   -2.        ,   -5.14403199,\n",
        "        -33.25537687,  -70.70634619, -148.10501613, -169.09605326,\n",
        "       -101.68430847,  -22.8985656 ,   -2.        ,   -2.        ,\n",
        "         -2.        ,   -2.        ,   -2.        ,   -2.        ,\n",
        "         -2.        ,   -2.        ,   -2.        ,   -2.        ,\n",
        "         -2.        ,   -2.        ,   -2.        ,   -2.        ,\n",
        "         -2.        ,   -2.        ,   -2.        ,   -2.        ,\n",
        "         -2.        ,   -2.        ,   -2.        ,   -2.        ,\n",
        "        -21.14160654, -101.77678   , -171.03795537, -169.92829702,\n",
        "        -68.67197255,   -5.7913327 ,   -2.        ,   -2.        ,\n",
        "         -2.        ,   -2.        ,   -2.        ,   -2.        ,\n",
        "         -2.        ,   -2.        ,   -2.        ,   -2.        ,\n",
        "         -2.        ,   -2.        ,   -2.        ,   -2.        ,\n",
        "         -2.        ,   -2.        ,   -2.        ,   -2.        ,\n",
        "         -2.        ,   -2.        ,   -2.        ,   -2.        ,\n",
        "        -33.44031993, -140.98470838, -186.85058686, -165.67460668,\n",
        "        -35.5671651 ,   -2.        ,   -2.        ,   -2.        ,\n",
        "         -2.        ,   -2.        ,   -2.        ,   -2.        ,\n",
        "         -2.        ,   -2.        ,   -2.        ,   -2.        ,\n",
        "         -2.        ,   -2.        ,   -2.        ,   -2.        ,\n",
        "         -2.        ,   -2.        ,   -2.        ,   -2.        ,\n",
        "         -2.        ,   -2.        ,   -2.        ,   -2.        ,\n",
        "        -50.27013824, -165.21224903, -189.16237509, -129.88812488,\n",
        "        -16.98038773,   -2.        ,   -2.        ,   -2.        ,\n",
        "         -2.        ,   -2.        ,   -2.        ,   -2.        ,\n",
        "         -2.        ,   -2.        ,   -2.        ,   -2.        ,\n",
        "         -2.        ,   -2.        ,   -2.        ,   -2.        ,\n",
        "         -2.        ,   -2.        ,   -2.        ,   -2.        ,\n",
        "         -2.        ,   -2.        ,   -2.        ,   -4.40425976,\n",
        "        -76.439581  , -173.81210125, -186.57317228, -126.83656441,\n",
        "         -9.95255151,   -2.        ,   -2.        ,   -2.        ,\n",
        "         -2.        ,   -2.        ,   -2.        ,   -2.        ,\n",
        "         -2.        ,   -2.        ,   -2.        ,   -2.        ,\n",
        "         -2.        ,   -2.        ,   -2.        ,   -2.        ,\n",
        "         -2.        ,   -2.        ,   -2.        ,   -2.        ,\n",
        "         -2.        ,   -2.        ,   -2.        ,  -16.33308703,\n",
        "       -114.63032256, -176.40130406, -170.39065467,  -92.62209861,\n",
        "        -10.41490916,   -2.        ,   -2.        ,   -2.        ,\n",
        "         -2.        ,   -2.        ,   -2.        ,   -2.        ,\n",
        "         -2.        ,   -2.        ,   -2.        ,   -2.        ,\n",
        "         -2.        ,   -2.        ,   -2.        ,   -2.        ,\n",
        "         -2.        ,   -2.        ,   -2.        ,   -2.        ,\n",
        "         -2.        ,   -2.        ,   -2.36988612,  -37.69401027,\n",
        "       -124.33983313, -170.29818314, -134.04934369,  -73.01813442,\n",
        "         -8.47300704,   -2.        ,   -2.        ,   -2.        ,\n",
        "         -2.        ,   -2.        ,   -2.        ,   -2.        ,\n",
        "         -2.        ,   -2.        ,   -2.        ,   -2.        ,\n",
        "         -2.        ,   -2.        ,   -2.        ,   -2.        ,\n",
        "         -2.        ,   -2.        ,   -2.        ,   -2.        ,\n",
        "         -2.        ,   -2.        ,   -9.02783622,  -64.60322527,\n",
        "       -126.92903594, -160.95855869, -109.26697387,  -70.33646008,\n",
        "        -21.3265496 ,   -2.        ,   -2.        ,   -2.        ,\n",
        "         -2.        ,   -2.        ,   -2.        ,   -2.        ,\n",
        "         -2.        ,   -2.        ,   -2.        ,   -2.        ,\n",
        "         -2.        ,   -2.        ,   -2.        ,   -2.        ,\n",
        "         -2.        ,   -2.        ,   -2.        ,   -2.        ,\n",
        "         -2.        ,   -3.84943058,  -26.04259759,  -86.42650616,\n",
        "       -116.6646962 , -140.42987921,  -82.08034428,  -72.18589066,\n",
        "        -41.48534297,  -11.98692515,   -2.36988612,   -2.        ,\n",
        "         -2.        ,   -2.        ,   -2.        ,   -2.        ,\n",
        "         -2.        ,   -2.        ,   -2.        ,   -2.        ,\n",
        "         -2.        ,   -2.        ,   -2.        ,   -2.        ,\n",
        "         -2.        ,   -2.        ,   -2.        ,   -2.        ,\n",
        "         -2.        ,  -11.89445362,  -41.85522908,  -99.37252024,\n",
        "       -104.73586894, -115.18515174,  -78.47395465,  -66.26771279,\n",
        "        -45.09173261,  -26.13506912,   -4.31178823,   -2.        ,\n",
        "         -2.        ,   -2.        ,   -2.        ,   -2.        ,\n",
        "         -2.        ,   -2.        ,   -2.        ,   -2.        ,\n",
        "         -2.        ,   -2.        ,   -2.        ,   -2.        ,\n",
        "         -2.        ,   -2.        ,   -2.        ,   -2.        ,\n",
        "         -2.        ,  -20.49430584,  -55.07865776, -101.03700777,\n",
        "        -94.93388684,  -95.1188299 ,  -76.71699559,  -64.32581068,\n",
        "        -46.6637486 ,  -26.41248371,   -4.31178823,   -2.        ,\n",
        "         -2.        ,   -2.        ,   -2.        ,   -2.        ,\n",
        "         -2.        ,   -2.        ,   -2.        ,   -2.        ,\n",
        "         -2.        ,   -2.        ,   -2.        ,   -2.        ,\n",
        "         -2.        ,   -2.        ,   -2.        ,   -2.        ,\n",
        "         -9.12030775,  -26.04259759,  -69.50421631,  -98.07791883,\n",
        "        -87.25874992,  -66.26771279,  -57.1130314 ,  -64.32581068,\n",
        "        -40.6530992 ,  -25.39529689,   -4.31178823,   -2.        ,\n",
        "         -2.        ,   -2.        ,   -2.        ,   -2.        ,\n",
        "         -2.        ,   -2.        ,   -2.        ,   -2.        ,\n",
        "         -2.        ,   -2.        ,   -2.        ,   -2.        ,\n",
        "         -2.        ,   -2.        ,   -2.        ,   -2.        ,\n",
        "         -6.4386334 ,  -27.61461359,  -68.30208643,  -83.74483181,\n",
        "        -71.07623231,  -51.28732506,  -53.22922717,  -58.77751893,\n",
        "        -36.12199427,   -9.21277928,   -2.73977223,   -2.        ,\n",
        "         -2.        ,   -2.        ,   -2.        ,   -2.        ,\n",
        "         -2.        ,   -2.        ,   -2.        ,   -2.        ,\n",
        "         -2.        ,   -2.        ,   -2.        ,   -2.        ,\n",
        "         -2.        ,   -2.        ,   -2.        ,   -2.        ,\n",
        "         -2.        ,   -7.27087716,  -24.47058159,  -15.40837173,\n",
        "         -2.        ,   -4.86661741,  -15.77825785,  -19.75453361,\n",
        "         -7.17840563,   -2.        ,   -2.        ,   -2.        ,\n",
        "         -2.        ,   -2.        ,   -2.        ,   -2.        ,\n",
        "         -2.        ,   -2.        ,   -2.        ,   -2.        ,\n",
        "         -2.        ,   -2.        ,   -2.        ,   -2.        ,\n",
        "         -2.        ,   -2.        ,   -2.        ,   -2.        ,\n",
        "         -2.        ,   -2.        ,   -2.        ,   -2.        ,\n",
        "         -2.        ,   -2.        ,   -2.        ,   -2.        ,\n",
        "         -2.        ,   -2.        ,   -2.        ,   -2.        ,\n",
        "         -2.        ,   -2.        ,   -2.        ,   -2.        ,\n",
        "         -2.        ,   -2.        ,   -2.        ,   -2.        ,\n",
        "         -2.        ,   -2.        ,   -2.        ,   -2.        ,\n",
        "         -2.        ,   -2.        ,   -2.        ,   -2.        ,\n",
        "         -2.        ,   -2.        ,   -2.        ,   -2.        ,\n",
        "         -2.        ,   -2.        ,   -2.        ,   -2.        ,\n",
        "         -2.        ,   -2.        ,   -2.        ,   -2.        ,\n",
        "         -2.        ,   -2.        ,   -2.        ,   -2.        ,\n",
        "         -2.        ,   -2.        ,   -2.        ,   -2.        ,\n",
        "         -2.        ,   -2.        ,   -2.        ,   -2.        ,\n",
        "         -2.        ,   -2.        ,   -2.        ,   -2.        ,\n",
        "         -2.        ,   -2.        ,   -2.        ,   -2.        ,\n",
        "         -2.        ,   -2.        ,   -2.        ,   -2.        ,\n",
        "         -2.        ,   -2.        ,   -2.        ,   -2.        ,\n",
        "         -2.        ,   -2.        ,   -2.        ,   -2.        ,\n",
        "         -2.        ,   -2.        ,   -2.        ,   -2.        ,\n",
        "       -191.38169179]"
      ],
      "metadata": {
        "id": "ZOe29vmfan49"
      },
      "execution_count": null,
      "outputs": []
    },
    {
      "cell_type": "code",
      "source": [
        ""
      ],
      "metadata": {
        "id": "QVq62Bbzc6wq"
      },
      "execution_count": null,
      "outputs": []
    },
    {
      "cell_type": "code",
      "source": [
        "minimize(h,np.ones(785)*-2)"
      ],
      "metadata": {
        "id": "QuIANJPoaraZ"
      },
      "execution_count": null,
      "outputs": []
    },
    {
      "cell_type": "code",
      "source": [
        "loc_min=[  -2.        ,   -2.        ,   -2.        ,   -2.        ,\n",
        "         -2.        ,   -2.        ,   -2.        ,   -2.        ,\n",
        "         -2.        ,   -2.        ,   -2.        ,   -2.        ,\n",
        "         -2.        ,   -2.        ,   -2.        ,   -2.        ,\n",
        "         -2.        ,   -2.        ,   -2.        ,   -2.        ,\n",
        "         -2.        ,   -2.        ,   -2.        ,   -2.        ,\n",
        "         -2.        ,   -2.        ,   -2.        ,   -2.        ,\n",
        "         -2.        ,   -2.        ,   -2.        ,   -2.        ,\n",
        "         -2.        ,   -2.        ,   -2.        ,   -2.        ,\n",
        "         -2.        ,   -2.        ,   -2.        ,   -2.        ,\n",
        "         -2.        ,   -2.        ,   -2.        ,   -2.        ,\n",
        "         -2.        ,   -2.        ,   -2.        ,   -2.        ,\n",
        "         -2.        ,   -2.        ,   -2.        ,   -2.        ,\n",
        "         -2.        ,   -2.        ,   -2.        ,   -2.        ,\n",
        "         -2.        ,   -2.        ,   -2.        ,   -2.        ,\n",
        "         -2.        ,   -2.        ,   -2.        ,   -2.        ,\n",
        "         -2.        ,   -2.        ,   -2.        ,   -2.        ,\n",
        "         -2.        ,   -2.        ,   -2.        ,   -2.        ,\n",
        "         -2.        ,   -2.        ,   -2.        ,   -2.        ,\n",
        "         -2.        ,   -2.        ,   -2.        ,   -2.        ,\n",
        "         -2.        ,   -2.        ,   -2.        ,   -2.        ,\n",
        "         -2.        ,   -2.        ,   -2.        ,   -2.        ,\n",
        "         -2.        ,   -2.        ,   -2.        ,   -2.        ,\n",
        "         -2.        ,   -2.        ,   -2.        ,   -2.        ,\n",
        "         -2.        ,   -2.6429043 ,   -3.53467478,   -3.76280211,\n",
        "         -2.38021222,   -2.        ,   -2.        ,   -2.        ,\n",
        "         -2.        ,   -2.        ,   -2.        ,   -2.        ,\n",
        "         -2.        ,   -2.        ,   -2.        ,   -2.        ,\n",
        "         -2.        ,   -2.        ,   -2.        ,   -2.        ,\n",
        "         -2.        ,   -2.        ,   -2.        ,   -2.        ,\n",
        "         -2.        ,   -2.        ,   -2.85720573,   -6.52106894,\n",
        "        -14.91338959,  -18.73625064,  -24.12143826,  -34.14521498,\n",
        "        -28.0963842 ,  -33.49539773,  -35.89419119,  -25.01320874,\n",
        "        -16.24067588,  -11.00757314,   -4.68222439,   -2.44242877,\n",
        "         -2.        ,   -2.        ,   -2.        ,   -2.        ,\n",
        "         -2.        ,   -2.        ,   -2.        ,   -2.        ,\n",
        "         -2.        ,   -2.        ,   -2.        ,   -2.        ,\n",
        "         -2.        ,   -2.        ,   -4.11536253,  -14.7751306 ,\n",
        "        -23.87257208,  -32.76953803,  -47.819029  ,  -70.09255215,\n",
        "        -67.90806012,  -68.00484142,  -61.92144589,  -39.30918822,\n",
        "        -25.22059723,  -16.05402625,   -7.6755315 ,   -3.14063666,\n",
        "         -2.        ,   -2.        ,   -2.        ,   -2.        ,\n",
        "         -2.        ,   -2.        ,   -2.        ,   -2.        ,\n",
        "         -2.        ,   -2.        ,   -2.        ,   -2.        ,\n",
        "         -2.13134604,   -2.24886618,   -5.24908624,  -14.49861262,\n",
        "        -28.37981513,  -40.96138314,  -65.76504579,  -84.31248919,\n",
        "        -94.91695365,  -81.92060867,  -66.56694793,  -40.47747668,\n",
        "        -25.40724686,  -13.4616702 ,   -7.7723128 ,   -2.66364315,\n",
        "         -2.        ,   -2.        ,   -2.        ,   -2.        ,\n",
        "         -2.        ,   -2.        ,   -2.        ,   -2.        ,\n",
        "         -2.        ,   -2.        ,   -2.        ,   -2.        ,\n",
        "         -2.26960503,   -3.41715464,   -5.05552366,  -12.79802705,\n",
        "        -30.0804007 ,  -46.46409091,  -75.90634265,  -93.98370548,\n",
        "       -109.99409642,  -87.98326535,  -60.67711499,  -38.61789327,\n",
        "        -20.4783139 ,  -11.80947528,   -5.26291214,   -2.        ,\n",
        "         -2.        ,   -2.        ,   -2.        ,   -2.        ,\n",
        "         -2.        ,   -2.        ,   -2.        ,   -2.        ,\n",
        "         -2.        ,   -2.        ,   -2.        ,   -2.        ,\n",
        "         -2.47699351,   -3.52776183,   -4.60618195,  -12.11364506,\n",
        "        -27.81295327,  -49.31222608,  -88.23904448, -110.80982446,\n",
        "       -115.9876236 ,  -83.20641727,  -53.63973245,  -32.36167402,\n",
        "        -15.79133417,   -8.65717033,   -2.33182157,   -2.        ,\n",
        "         -2.        ,   -2.        ,   -2.        ,   -2.        ,\n",
        "         -2.        ,   -2.        ,   -2.        ,   -2.        ,\n",
        "         -2.        ,   -2.        ,   -2.        ,   -2.        ,\n",
        "         -2.        ,   -2.17973669,   -4.27436037,   -9.30007463,\n",
        "        -23.32644908,  -54.60754537, -103.8553973 , -133.93364039,\n",
        "       -122.72774932,  -76.81885197,  -44.18281759,  -23.24349368,\n",
        "        -10.47527603,   -2.38021222,   -2.        ,   -2.        ,\n",
        "         -2.        ,   -2.        ,   -2.        ,   -2.        ,\n",
        "         -2.        ,   -2.        ,   -2.        ,   -2.        ,\n",
        "         -2.        ,   -2.        ,   -2.        ,   -2.        ,\n",
        "         -2.        ,   -2.37329927,   -5.8435999 ,   -8.80234227,\n",
        "        -24.57769293,  -63.85707174, -125.07815214, -151.6860946 ,\n",
        "       -115.78714807,  -65.03227315,  -31.40077404,  -14.38800543,\n",
        "         -3.89414815,   -2.        ,   -2.        ,   -2.        ,\n",
        "         -2.        ,   -2.        ,   -2.        ,   -2.        ,\n",
        "         -2.        ,   -2.        ,   -2.        ,   -2.        ,\n",
        "         -2.        ,   -2.        ,   -2.        ,   -2.        ,\n",
        "         -2.        ,   -2.92633523,   -4.88269992,   -7.56492431,\n",
        "        -25.35194327,  -77.32349729, -151.16071044, -163.98423168,\n",
        "       -102.94288797,  -49.80995845,  -22.02681458,   -8.67099623,\n",
        "         -2.13825899,   -2.        ,   -2.        ,   -2.        ,\n",
        "         -2.        ,   -2.        ,   -2.        ,   -2.        ,\n",
        "         -2.        ,   -2.        ,   -2.        ,   -2.        ,\n",
        "         -2.        ,   -2.        ,   -2.        ,   -2.        ,\n",
        "         -2.20047553,   -3.56923953,   -4.18449203,   -8.18708976,\n",
        "        -29.48588704, -103.30927429, -171.58847608, -163.50723817,\n",
        "        -89.21377035,  -35.77667105,  -10.62736092,   -3.49319708,\n",
        "         -2.        ,   -2.        ,   -2.        ,   -2.        ,\n",
        "         -2.        ,   -2.        ,   -2.        ,   -2.        ,\n",
        "         -2.        ,   -2.        ,   -2.        ,   -2.        ,\n",
        "         -2.        ,   -2.        ,   -2.        ,   -2.        ,\n",
        "         -2.45625466,   -3.83884456,   -5.42882293,  -11.22878753,\n",
        "        -39.26771052, -131.50719513, -182.13763695, -156.92611028,\n",
        "        -67.77671408,  -23.72048719,   -6.36207111,   -2.        ,\n",
        "         -2.        ,   -2.        ,   -2.        ,   -2.        ,\n",
        "         -2.        ,   -2.        ,   -2.        ,   -2.        ,\n",
        "         -2.        ,   -2.        ,   -2.        ,   -2.        ,\n",
        "         -2.        ,   -2.        ,   -2.        ,   -2.        ,\n",
        "         -2.        ,   -2.51155826,   -5.83668695,  -19.62802112,\n",
        "        -61.94218474, -154.66557581, -184.88207789, -140.61154957,\n",
        "        -45.26815065,  -11.29100407,   -2.06912949,   -2.        ,\n",
        "         -2.        ,   -2.        ,   -2.        ,   -2.        ,\n",
        "         -2.        ,   -2.        ,   -2.        ,   -2.        ,\n",
        "         -2.        ,   -2.        ,   -2.        ,   -2.        ,\n",
        "         -2.        ,   -2.        ,   -2.        ,   -2.        ,\n",
        "         -2.        ,   -2.0276518 ,   -7.28840633,  -26.96957344,\n",
        "        -82.50820938, -162.87124682, -182.10307221, -120.39808535,\n",
        "        -31.50446828,   -6.5003301 ,   -2.02073885,   -2.        ,\n",
        "         -2.        ,   -2.        ,   -2.        ,   -2.        ,\n",
        "         -2.        ,   -2.        ,   -2.        ,   -2.        ,\n",
        "         -2.        ,   -2.        ,   -2.        ,   -2.        ,\n",
        "         -2.        ,   -2.        ,   -2.        ,   -2.        ,\n",
        "         -2.26269208,   -5.8574258 ,  -16.99418737,  -44.91559023,\n",
        "       -103.01893042, -164.58565828, -167.80017978,  -92.37298825,\n",
        "        -22.94623686,   -4.05314599,   -2.        ,   -2.        ,\n",
        "         -2.        ,   -2.        ,   -2.        ,   -2.        ,\n",
        "         -2.        ,   -2.        ,   -2.        ,   -2.        ,\n",
        "         -2.        ,   -2.        ,   -2.        ,   -2.        ,\n",
        "         -2.        ,   -2.11060719,   -2.        ,   -2.56686186,\n",
        "         -4.72370209,  -12.45237958,  -28.26920794,  -62.11500848,\n",
        "       -113.66487258, -157.05745632, -138.75887911,  -74.15736643,\n",
        "        -18.57033985,   -4.84122223,   -2.11752014,   -2.        ,\n",
        "         -2.        ,   -2.        ,   -2.        ,   -2.        ,\n",
        "         -2.        ,   -2.        ,   -2.        ,   -2.        ,\n",
        "         -2.        ,   -2.        ,   -2.        ,   -2.        ,\n",
        "         -2.        ,   -2.43551582,   -2.53921006,   -5.02095891,\n",
        "         -7.92439768,  -20.13957938,  -42.71035935,  -73.57667868,\n",
        "       -116.75496099, -138.97318054, -118.531589  ,  -68.35740184,\n",
        "        -21.59129876,   -4.92417762,   -3.2166791 ,   -2.43551582,\n",
        "         -2.        ,   -2.        ,   -2.        ,   -2.        ,\n",
        "         -2.        ,   -2.        ,   -2.        ,   -2.        ,\n",
        "         -2.        ,   -2.        ,   -2.        ,   -2.        ,\n",
        "         -2.        ,   -2.        ,   -4.39188051,   -7.7584869 ,\n",
        "        -14.37417953,  -32.29945747,  -54.09598711,  -83.07507123,\n",
        "       -112.66940786, -123.48126081,  -98.80203125,  -64.49306309,\n",
        "        -28.44203167,   -8.69173507,   -5.51177832,   -3.69367262,\n",
        "         -3.25124385,   -2.06912949,   -2.        ,   -2.        ,\n",
        "         -2.        ,   -2.        ,   -2.        ,   -2.        ,\n",
        "         -2.        ,   -2.        ,   -2.        ,   -2.        ,\n",
        "         -2.        ,   -2.88485753,   -7.37827468,  -10.41305949,\n",
        "        -21.21108654,  -40.29773999,  -61.70023151,  -87.72748622,\n",
        "       -101.64325348, -109.87657628,  -86.05455245,  -61.45136533,\n",
        "        -32.49993301,  -11.89243067,   -5.58090782,   -3.74897621,\n",
        "         -3.74897621,   -2.16591079,   -2.        ,   -2.        ,\n",
        "         -2.        ,   -2.        ,   -2.        ,   -2.        ,\n",
        "         -2.        ,   -2.        ,   -2.        ,   -2.        ,\n",
        "         -3.32037335,   -4.68222439,   -9.23785808,  -15.3903831 ,\n",
        "        -29.50662589,  -44.34181543,  -65.97934723,  -83.38615396,\n",
        "        -89.98110774,  -96.71432051,  -77.16449945,  -57.25520501,\n",
        "        -35.43102357,  -15.88811546,   -6.4035488 ,   -3.81119276,\n",
        "         -3.09224601,   -2.0138259 ,   -2.        ,   -2.        ,\n",
        "         -2.        ,   -2.        ,   -2.        ,   -2.        ,\n",
        "         -2.        ,   -2.        ,   -2.        ,   -2.        ,\n",
        "         -3.76280211,   -5.13847905,  -10.9453566 ,  -17.20848881,\n",
        "        -30.48135176,  -46.98947507,  -62.61965379,  -72.76786359,\n",
        "        -80.77305906,  -78.33278791,  -66.43560189,  -52.40231449,\n",
        "        -34.62220849,  -16.35819602,   -7.39901353,   -3.8595834 ,\n",
        "         -2.54612301,   -2.        ,   -2.        ,   -2.        ,\n",
        "         -2.        ,   -2.        ,   -2.        ,   -2.        ,\n",
        "         -2.        ,   -2.        ,   -2.        ,   -2.        ,\n",
        "         -3.76280211,   -5.35969344,   -8.81616816,  -14.57465506,\n",
        "        -27.4949576 ,  -40.90607954,  -48.5172369 ,  -57.52481004,\n",
        "        -63.93311419,  -56.62612661,  -48.89053617,  -43.74038882,\n",
        "        -30.6403496 ,   -8.72629982,   -4.13610138,   -2.84337983,\n",
        "         -2.        ,   -2.        ,   -2.        ,   -2.        ,\n",
        "         -2.        ,   -2.        ,   -2.        ,   -2.        ,\n",
        "         -2.        ,   -2.        ,   -2.        ,   -2.        ,\n",
        "         -2.        ,   -2.        ,   -2.94016113,   -3.74897621,\n",
        "         -5.145392  ,   -9.18255449,  -15.06547447,  -16.68310465,\n",
        "        -14.93412843,  -18.5219492 ,  -19.81467075,  -14.24283349,\n",
        "         -9.83928468,   -3.98401649,   -2.        ,   -2.        ,\n",
        "         -2.        ,   -2.        ,   -2.        ,   -2.        ,\n",
        "         -2.        ,   -2.        ,   -2.        ,   -2.        ,\n",
        "         -2.        ,   -2.        ,   -2.        ,   -2.        ,\n",
        "         -2.        ,   -2.        ,   -2.        ,   -2.        ,\n",
        "         -2.        ,   -2.        ,   -2.        ,   -2.        ,\n",
        "         -2.0414777 ,   -3.38950284,   -3.16828846,   -2.03456475,\n",
        "         -2.        ,   -2.        ,   -2.        ,   -2.        ,\n",
        "         -2.        ,   -2.        ,   -2.        ,   -2.        ,\n",
        "         -2.        ,   -2.        ,   -2.        ,   -2.        ,\n",
        "         -2.        ,   -2.        ,   -2.        ,   -2.        ,\n",
        "         -2.        ,   -2.        ,   -2.        ,   -2.        ,\n",
        "         -2.        ,   -2.        ,   -2.        ,   -2.        ,\n",
        "         -2.        ,   -2.        ,   -2.        ,   -2.        ,\n",
        "         -2.        ,   -2.        ,   -2.        ,   -2.        ,\n",
        "         -2.        ,   -2.        ,   -2.        ,   -2.        ,\n",
        "         -2.        ,   -2.        ,   -2.        ,   -2.        ,\n",
        "         -2.        ,   -2.        ,   -2.        ,   -2.        ,\n",
        "         -2.        ,   -2.        ,   -2.        ,   -2.        ,\n",
        "         -2.        ,   -2.        ,   -2.        ,   -2.        ,\n",
        "         -2.        ,   -2.        ,   -2.        ,   -2.        ,\n",
        "         -2.        ,   -2.        ,   -2.        ,   -2.        ,\n",
        "         -2.        ,   -2.        ,   -2.        ,   -2.        ,\n",
        "         -2.        ,   -2.        ,   -2.        ,   -2.        ,\n",
        "       -187.82008141]"
      ],
      "metadata": {
        "id": "6euuC1Dnc2v3"
      },
      "execution_count": null,
      "outputs": []
    }
  ]
}