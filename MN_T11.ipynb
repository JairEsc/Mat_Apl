{
  "nbformat": 4,
  "nbformat_minor": 0,
  "metadata": {
    "colab": {
      "name": "Untitled38.ipynb",
      "provenance": [],
      "authorship_tag": "ABX9TyN9g4Sjug2BYQ//68fzD4GH",
      "include_colab_link": true
    },
    "kernelspec": {
      "name": "python3",
      "display_name": "Python 3"
    },
    "language_info": {
      "name": "python"
    }
  },
  "cells": [
    {
      "cell_type": "markdown",
      "metadata": {
        "id": "view-in-github",
        "colab_type": "text"
      },
      "source": [
        "<a href=\"https://colab.research.google.com/github/JairEsc/Mat_Apl/blob/main/MN_T11.ipynb\" target=\"_parent\"><img src=\"https://colab.research.google.com/assets/colab-badge.svg\" alt=\"Open In Colab\"/></a>"
      ]
    },
    {
      "cell_type": "code",
      "metadata": {
        "id": "4wpRGZiypgt6"
      },
      "source": [
        "import numpy as np"
      ],
      "execution_count": 2,
      "outputs": []
    },
    {
      "cell_type": "code",
      "metadata": {
        "id": "5PXpE8-0c0c4"
      },
      "source": [
        "#metodo de rayleigh"
      ],
      "execution_count": 3,
      "outputs": []
    },
    {
      "cell_type": "code",
      "metadata": {
        "id": "i8tjU5Ouc4Gf"
      },
      "source": [
        "#metodo de iteracion en subespacio.\n",
        "def gen_base_ortogonal(m,n):\n",
        "    base=[]\n",
        "    for j in range(m):\n",
        "        b=[0]*n\n",
        "        b[j]=1\n",
        "        base.append(np.array(b))\n",
        "    return np.array(base)\n",
        "def factorizar_LU(matriz):#Codigo reciclado: Factorizacion LU\n",
        "    n=len(matriz)\n",
        "    L=np.zeros((n,n))\n",
        "    U=np.zeros((n,n))\n",
        "    for j in range(n):\n",
        "        for i in range(j,n):\n",
        "            sum=0\n",
        "            for k in range(i):\n",
        "                sum+=L[i][k]*U[k][j]\n",
        "            L[i][j]=matriz[i][j]-sum\n",
        "            if(i>j):\n",
        "                sum=0\n",
        "                for k in range(j):\n",
        "                    sum+=L[j][k]*U[k][i]\n",
        "                U[j][i]=(matriz[j][i]-sum)/L[j][j]\n",
        "            else: \n",
        "                U[i][j]=1 \n",
        "                if(L[i][i]==0):\n",
        "                    print(\"Error en la construcción de L\")\n",
        "    return([L,U])\n",
        "\n",
        "def superior(list,b):#Codigo reciclado:Resolver sistema triangular\n",
        "  n=len(list)\n",
        "  X=[b[n-1]/list[n-1][n-1]]\n",
        "  X_inv=[X[0]]\n",
        "  for i in range(1,n):#len(list) es el número de renglones de la matriz\n",
        "    acum=0\n",
        "    for j in range(i):#0<=j<=i-1 \n",
        "      acum+=X[j]*list[n-i-1][n-1-j]\n",
        "    X.append((b[n-1-i]-acum)/list[n-1-i][n-1-i])\n",
        "    X_inv.insert(0,X[i])\n",
        "  return X_inv\n",
        "\n",
        "#Codigo reciclado:Resolver sistema triangular\n",
        "def inferior(list,b):#list debe contener las entradas de la matriz triangular.\n",
        "#Será aceptable introducir un arreglo de arreglos de distintos tamaños, para solo introducir las entradas no cero.\n",
        "  X=[b[0]/list[0][0]]\n",
        "  for i in range(1,len(list)):#len(list) es el número de renglones de la matriz\n",
        "    acum=0\n",
        "    for j in range(i):#0<=j<=i-1 \n",
        "      acum+=X[j]*list[i][j]\n",
        "    X.append((b[i]-acum)/list[i][i])\n",
        "  return X\n",
        "def solve(L_m,U_m,b):\n",
        "    y=inferior(L_m,b)#Resolver Ly=b\n",
        "    return(superior(U_m,y))#Resolver Ux=y\n",
        "def check_diag(A,tol):#Pensado para matrices en general (NO simetricas)\n",
        "    boolean=True\n",
        "    breaker=False\n",
        "    for i in range(len(A)):\n",
        "        for j in range(i,len(A)):\n",
        "            if(i!=j):\n",
        "                if(abs(A[i][j])>tol):\n",
        "                    boolean=False;\n",
        "                    breaker=True;\n",
        "                    break;\n",
        "        if(breaker==True):\n",
        "            break\n",
        "    return(boolean)\n",
        "def Jacobi_rot(A,tol,max_Iter,pr=True):\n",
        "    count=0\n",
        "    n=len(A)\n",
        "    P=np.identity(n)\n",
        "    while((check_diag(A,tol)==False)&(count<=max_Iter)):\n",
        "        p,q=entrada_max(A)\n",
        "        a=A[p][q]\n",
        "        if(A[p][p]==A[q][q]):\n",
        "            theta=np.pi/4\n",
        "        else:\n",
        "            theta=0.5*np.arctan(2*a/(A[p][p]-A[q][q]))\n",
        "        #Ya tenemos la rotacion y podemos hacer el producto de matrices\n",
        "        R=np.identity(n)\n",
        "        R[p][p]=np.cos(theta)\n",
        "        R[p][q]=-np.sin(theta)\n",
        "        R[q][p]=-R[p][q]\n",
        "        R[q][q]=R[p][p]\n",
        "        A=np.dot(R.T,np.dot(A,R))#Se puede mejorar, modificando solo aquellas entradas que cambian.\n",
        "        count+=1\n",
        "        P=np.dot(P,R)\n",
        "    if(count>max_Iter):\n",
        "        print(\"Maxima iteracion alcanzada\")\n",
        "    else:\n",
        "        if(pr==True):\n",
        "            print(\"num. Iteraciones: \", str(count))\n",
        "    return(P,np.diagonal(A))\n",
        "def entrada_max(A):#Regresa una lista [i,j], tal que a_{i,j} es el valor maximo en valor absoluto.\n",
        "#Pensado para matrices simetricas\n",
        "    max=abs(A[0][1])\n",
        "    index=[0,1]\n",
        "    for i in range(len(A)):\n",
        "        for j in range(i,len(A[0])):\n",
        "            if(i!=j):\n",
        "                if(max<abs(A[i][j])):\n",
        "                    max=abs(A[i][j])\n",
        "                    index=i,j\n",
        "    return(index)\n",
        "def min_eigen(A,tol,max_iter,pr=True,v_0=[]):\n",
        "    n=len(A)\n",
        "    if(len(v_0)==0):#Es opcional\n",
        "        v_0=(np.zeros(n)+1/math.sqrt(n))#Normalizado\n",
        "    L,U=factorizar_LU(A)\n",
        "    v_1=solve(L,U,v_0)#Se resuelve el sistema\n",
        "    lambda_0=np.dot(v_0,v_1)\n",
        "    lambda_1=np.sqrt(np.dot(v_1,v_1))#se toma raíz para poder compararlos\n",
        "    count=0\n",
        "    while((abs(lambda_0-lambda_1)>tol)&(count<max_iter)):\n",
        "        count+=1\n",
        "        v_0=v_1/np.linalg.norm(v_1)#Se normaliza\n",
        "        v_1=solve(L_m=L,U_m=U,b=v_0)#iteracion\n",
        "        lambda_0=lambda_1\n",
        "        lambda_1=np.dot(v_0,v_1)\n",
        "    if(count>=max_iter):\n",
        "        return(\"Maxima iteracion alcanzada\")\n",
        "    else:\n",
        "        if(pr==True):\n",
        "            print(\"numero de iteraciones: \"+str(count))\n",
        "        return([1/lambda_1,v_1])"
      ],
      "execution_count": 16,
      "outputs": []
    },
    {
      "cell_type": "code",
      "metadata": {
        "id": "fW4Ybkaakc74"
      },
      "source": [
        "##Algoritmo\n",
        "##1 Genera subconjunto ortonormal.\n",
        "## Usa ese vector inicial (con deflación para conservar la ortogonalidad) para UNA iteración de potencia inversa (o potencia.) \n",
        "#-> eso genera una nueva matriz \\Phi de approximaciones de vectores. Se normalizan. Estos nuevos vectores no necesariamente son ortogonales (solo cuando A sea ortogonal).\n",
        "## Hacer el producto B=\\Phi.T*A*\\Phi. Parar cuando esto sea diagonal.\n",
        "## Aplicar Jacobi (Completo) sobre B.\n",
        "#-> Genera un producto de matrices de rotacion Q, que puedo usar para actualizar.\\Phi=\\Phi_old*Q.\n",
        "##Repetir"
      ],
      "execution_count": 5,
      "outputs": []
    },
    {
      "cell_type": "code",
      "metadata": {
        "id": "N9H1y7kLlhtP"
      },
      "source": [
        ""
      ],
      "execution_count": 5,
      "outputs": []
    },
    {
      "cell_type": "code",
      "metadata": {
        "id": "OnT-XANxlAHi"
      },
      "source": [
        "def quitar_contribucion(v_0,list_eigen):\n",
        "    if list_eigen==[]:\n",
        "        print(\"no se quito nada\")\n",
        "        return(np.array(v_0))\n",
        "    else:\n",
        "        aux=v_0\n",
        "        for v in list_eigen:\n",
        "            v_0-=np.dot(aux,np.array(v))*np.array(v)\n",
        "        print(\"se quitaron: \",list_eigen)\n",
        "        return v_0\n"
      ],
      "execution_count": 6,
      "outputs": []
    },
    {
      "cell_type": "code",
      "metadata": {
        "colab": {
          "base_uri": "https://localhost:8080/"
        },
        "id": "ZMfg-WKGl-nY",
        "outputId": "a28cce0b-cdcf-4b07-caad-aa1c4f50a157"
      },
      "source": [
        "np.dot([[2,0],[0,2]],np.array([1,2]))"
      ],
      "execution_count": 7,
      "outputs": [
        {
          "output_type": "execute_result",
          "data": {
            "text/plain": [
              "array([2, 4])"
            ]
          },
          "metadata": {},
          "execution_count": 7
        }
      ]
    },
    {
      "cell_type": "code",
      "metadata": {
        "id": "0ZSlxoSNkddA"
      },
      "source": [
        "def Iter_subespacio(A,m,tol=0.000001,max_iter=1000):\n",
        "    n=len(A)\n",
        "    phi_old=[[1/np.sqrt(3),1/np.sqrt(3),1/np.sqrt(3)],[-1/np.sqrt(2),1/np.sqrt(2),0]]\n",
        "    print(\"phi_initial:,\" ,phi_old)\n",
        "    print(\"Y es ortog,\", np.dot(phi_old[0],phi_old[1]))\n",
        "    B=A\n",
        "    count=0;\n",
        "    while(check_diag(B,tol=tol)==False):\n",
        "        count+=1\n",
        "        phi_new=[]\n",
        "        for j in range(m):\n",
        "            v_i=np.array(phi_old[j])\n",
        "            if(j==0):\n",
        "                v_i_next=min_eigen(A=A,tol=tol,max_iter=max_iter,pr=False,v_0=v_i)[1]\n",
        "                phi_new.append(v_i_next/np.linalg.norm(v_i_next))\n",
        "            if(j>0):\n",
        "                aux=v_i\n",
        "                for k in range(j):\n",
        "                    v_i-=np.dot(aux,phi_new[k])*np.array(phi_new[k])\n",
        "                print(\"wacha que si era ortogonal:\",np.dot(v_i,phi_new[j-1]))\n",
        "                v_i_next=np.linalg.solve(A,v_i)\n",
        "                phi_new.append(v_i_next/np.linalg.norm(v_i_next))\n",
        "        print(\"Pero defini phi_new\",phi_new)\n",
        "        print(\"La cual es ortogonal\", np.dot(np.array(phi_new).T[0],np.array(phi_new).T[1]))\n",
        "        B=np.dot(np.dot(phi_new,A),np.array(phi_new).T)\n",
        "        print(\"no cambio phi\",np.array(phi_old).T)\n",
        "        #phi tiene renglones ortogonales.\n",
        "        print(\"B no es d\", B)\n",
        "        phi_old=np.dot(np.array(phi_old).T,Jacobi_rot(B,tol,max_iter,pr=False)[0].T).T\n",
        "        print(\"J es ortogonal?\",Jacobi_rot(B,tol,max_iter,pr=False)[0])\n",
        "\n",
        "        print(\"Acttualizo phi\", phi_old)\n",
        "        print(\"Checo que sigue siendo ortogonal:\", phi_old[0],\"*\",phi_old[1],np.dot(phi_old[0],phi_old[1]))#No es :c\n",
        "        \n",
        "    print(\"Num. iteraciones\", count)\n",
        "    return (B)"
      ],
      "execution_count": 41,
      "outputs": []
    },
    {
      "cell_type": "code",
      "metadata": {
        "colab": {
          "base_uri": "https://localhost:8080/"
        },
        "id": "vL8F0kcb7ND0",
        "outputId": "3f10abfb-2a93-403c-aee5-db03f3e89ab5"
      },
      "source": [
        "P=Jacobi_rot([[4,-14,-12],[-14,10,13],[-12,13,1]],tol=0.00001,max_Iter=50)\n",
        "np.dot(np.dot(P[0].T,[[4,-14,-12],[-14,10,13],[-12,13,1]]),P[0])\n"
      ],
      "execution_count": 12,
      "outputs": [
        {
          "output_type": "stream",
          "name": "stdout",
          "text": [
            "num. Iteraciones:  7\n"
          ]
        },
        {
          "output_type": "execute_result",
          "data": {
            "text/plain": [
              "array([[-6.89202501e+00,  2.54932891e-15, -8.77293857e-15],\n",
              "       [ 3.16732778e-15,  3.15356897e+01,  2.06425703e-08],\n",
              "       [-9.18432492e-15,  2.06425679e-08, -9.64366467e+00]])"
            ]
          },
          "metadata": {},
          "execution_count": 12
        }
      ]
    },
    {
      "cell_type": "code",
      "metadata": {
        "colab": {
          "base_uri": "https://localhost:8080/"
        },
        "id": "KZcZDQv-6Fld",
        "outputId": "d936961d-5035-4382-f333-eabfd83e5bc5"
      },
      "source": [
        "Iter_subespacio([[4,3,12],[3,10,13],[12,13,50]],m=2)"
      ],
      "execution_count": 42,
      "outputs": [
        {
          "output_type": "stream",
          "name": "stdout",
          "text": [
            "phi_initial:, [[0.5773502691896258, 0.5773502691896258, 0.5773502691896258], [-0.7071067811865475, 0.7071067811865475, 0]]\n",
            "Y es ortog, 1.7796192843178415e-17\n",
            "wacha que si era ortogonal: -1.978066325881488e-16\n",
            "Pero defini phi_new [array([ 0.96864941,  0.03298568, -0.24623214]), array([-0.09738332,  0.96234231, -0.25379867])]\n",
            "La cual es ortogonal -0.06176453522287375\n",
            "no cambio phi [[ 0.57735027 -0.70710678]\n",
            " [ 0.57735027  0.70710678]\n",
            " [ 0.57735027  0.        ]]\n",
            "B no es d [[ 1.05175165e+00 -1.05815103e-15]\n",
            " [-1.39465496e-15  6.20026000e+00]]\n",
            "J es ortogonal? [[1. 0.]\n",
            " [0. 1.]]\n",
            "Acttualizo phi [[ 0.57735027  0.57735027  0.57735027]\n",
            " [-0.70710678  0.70710678  0.        ]]\n",
            "Checo que sigue siendo ortogonal: [0.57735027 0.57735027 0.57735027] * [-0.70710678  0.70710678  0.        ] 1.7796192843178415e-17\n",
            "Num. iteraciones 1\n"
          ]
        },
        {
          "output_type": "execute_result",
          "data": {
            "text/plain": [
              "array([[ 1.05175165e+00, -1.05815103e-15],\n",
              "       [-1.39465496e-15,  6.20026000e+00]])"
            ]
          },
          "metadata": {},
          "execution_count": 42
        }
      ]
    },
    {
      "cell_type": "code",
      "metadata": {
        "colab": {
          "base_uri": "https://localhost:8080/"
        },
        "id": "0EjJHniamy2m",
        "outputId": "17cc0ef0-b0db-4065-db02-bef995c87567"
      },
      "source": [
        "np.linalg.eig([[4,3,12],[3,10,13],[12,13,50]])"
      ],
      "execution_count": 39,
      "outputs": [
        {
          "output_type": "execute_result",
          "data": {
            "text/plain": [
              "(array([56.74913984,  1.05175165,  6.19910851]),\n",
              " array([[ 0.22812092,  0.96865129,  0.09836429],\n",
              "        [ 0.27441092,  0.03296734, -0.96104724],\n",
              "        [ 0.93416245, -0.24622721,  0.25828796]]))"
            ]
          },
          "metadata": {},
          "execution_count": 39
        }
      ]
    }
  ]
}