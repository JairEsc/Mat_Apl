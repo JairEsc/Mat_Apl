{
  "nbformat": 4,
  "nbformat_minor": 0,
  "metadata": {
    "colab": {
      "name": "Untitled38.ipynb",
      "provenance": [],
      "authorship_tag": "ABX9TyPHvIm+GX3TJYyLpYkZXHDP",
      "include_colab_link": true
    },
    "kernelspec": {
      "name": "python3",
      "display_name": "Python 3"
    },
    "language_info": {
      "name": "python"
    }
  },
  "cells": [
    {
      "cell_type": "markdown",
      "metadata": {
        "id": "view-in-github",
        "colab_type": "text"
      },
      "source": [
        "<a href=\"https://colab.research.google.com/github/JairEsc/Mat_Apl/blob/main/MN_T11.ipynb\" target=\"_parent\"><img src=\"https://colab.research.google.com/assets/colab-badge.svg\" alt=\"Open In Colab\"/></a>"
      ]
    },
    {
      "cell_type": "code",
      "metadata": {
        "id": "4wpRGZiypgt6"
      },
      "source": [
        "import numpy as np"
      ],
      "execution_count": 4,
      "outputs": []
    },
    {
      "cell_type": "code",
      "metadata": {
        "id": "5PXpE8-0c0c4"
      },
      "source": [
        "#metodo de rayleigh"
      ],
      "execution_count": null,
      "outputs": []
    },
    {
      "cell_type": "code",
      "metadata": {
        "id": "i8tjU5Ouc4Gf"
      },
      "source": [
        "#metodo de iteracion en subespacio.\n",
        "def gen_base_ortogonal(m,n):\n",
        "    base=[]\n",
        "    for j in range(m):\n",
        "        b=[0]*n\n",
        "        b[j]=1\n",
        "        base.append(np.array(b))\n",
        "    return np.array(base)\n",
        "def factorizar_LU(matriz):#Codigo reciclado: Factorizacion LU\n",
        "    n=len(matriz)\n",
        "    L=np.zeros((n,n))\n",
        "    U=np.zeros((n,n))\n",
        "    for j in range(n):\n",
        "        for i in range(j,n):\n",
        "            sum=0\n",
        "            for k in range(i):\n",
        "                sum+=L[i][k]*U[k][j]\n",
        "            L[i][j]=matriz[i][j]-sum\n",
        "            if(i>j):\n",
        "                sum=0\n",
        "                for k in range(j):\n",
        "                    sum+=L[j][k]*U[k][i]\n",
        "                U[j][i]=(matriz[j][i]-sum)/L[j][j]\n",
        "            else: \n",
        "                U[i][j]=1 \n",
        "                if(L[i][i]==0):\n",
        "                    print(\"Error en la construcción de L\")\n",
        "    return([L,U])\n",
        "\n",
        "def superior(list,b):#Codigo reciclado:Resolver sistema triangular\n",
        "  n=len(list)\n",
        "  X=[b[n-1]/list[n-1][n-1]]\n",
        "  X_inv=[X[0]]\n",
        "  for i in range(1,n):#len(list) es el número de renglones de la matriz\n",
        "    acum=0\n",
        "    for j in range(i):#0<=j<=i-1 \n",
        "      acum+=X[j]*list[n-i-1][n-1-j]\n",
        "    X.append((b[n-1-i]-acum)/list[n-1-i][n-1-i])\n",
        "    X_inv.insert(0,X[i])\n",
        "  return X_inv\n",
        "\n",
        "#Codigo reciclado:Resolver sistema triangular\n",
        "def inferior(list,b):#list debe contener las entradas de la matriz triangular.\n",
        "#Será aceptable introducir un arreglo de arreglos de distintos tamaños, para solo introducir las entradas no cero.\n",
        "  X=[b[0]/list[0][0]]\n",
        "  for i in range(1,len(list)):#len(list) es el número de renglones de la matriz\n",
        "    acum=0\n",
        "    for j in range(i):#0<=j<=i-1 \n",
        "      acum+=X[j]*list[i][j]\n",
        "    X.append((b[i]-acum)/list[i][i])\n",
        "  return X\n",
        "def solve(L_m,U_m,b):\n",
        "    y=inferior(L_m,b)#Resolver Ly=b\n",
        "    return(superior(U_m,y))#Resolver Ux=y\n",
        "def check_diag(A,tol):#Pensado para matrices en general (NO simetricas)\n",
        "    boolean=True\n",
        "    breaker=False\n",
        "    for i in range(len(A)):\n",
        "        for j in range(i,len(A)):\n",
        "            if(i!=j):\n",
        "                if(abs(A[i][j])>tol):\n",
        "                    boolean=False;\n",
        "                    breaker=True;\n",
        "                    break;\n",
        "        if(breaker==True):\n",
        "            break\n",
        "    return(boolean)\n",
        "def Jacobi_rot(A,tol,max_Iter,pr=True):\n",
        "    count=0\n",
        "    n=len(A)\n",
        "    P=np.identity(n)\n",
        "    while((check_diag(A,tol)==False)&(count<=max_Iter)):\n",
        "        p,q=entrada_max(A)\n",
        "        a=A[p][q]\n",
        "        if(A[p][p]==A[q][q]):\n",
        "            theta=np.pi/4\n",
        "        else:\n",
        "            theta=0.5*np.arctan(2*a/(A[p][p]-A[q][q]))\n",
        "        #Ya tenemos la rotacion y podemos hacer el producto de matrices\n",
        "        R=np.identity(n)\n",
        "        R[p][p]=np.cos(theta)\n",
        "        R[p][q]=-np.sin(theta)\n",
        "        R[q][p]=-R[p][q]\n",
        "        R[q][q]=R[p][p]\n",
        "        A=np.dot(R.T,np.dot(A,R))#Se puede mejorar, modificando solo aquellas entradas que cambian.\n",
        "        count+=1\n",
        "        P=np.dot(P,R)\n",
        "    if(count>max_Iter):\n",
        "        print(\"Maxima iteracion alcanzada\")\n",
        "    else:\n",
        "        if(pr==True):\n",
        "            print(\"num. Iteraciones: \", str(count))\n",
        "    return(P,np.diagonal(A))\n",
        "def entrada_max(A):#Regresa una lista [i,j], tal que a_{i,j} es el valor maximo en valor absoluto.\n",
        "#Pensado para matrices simetricas\n",
        "    max=abs(A[0][1])\n",
        "    index=[0,1]\n",
        "    for i in range(len(A)):\n",
        "        for j in range(i,len(A[0])):\n",
        "            if(i!=j):\n",
        "                if(max<abs(A[i][j])):\n",
        "                    max=abs(A[i][j])\n",
        "                    index=i,j\n",
        "    return(index)\n",
        "def min_eigen(A,tol,max_iter,pr=True,v_0=[]):\n",
        "    n=len(A)\n",
        "    if(len(v_0)==0):#Es opcional\n",
        "        v_0=(np.zeros(n)+1/math.sqrt(n))#Normalizado\n",
        "    L,U=factorizar_LU(A)\n",
        "    v_1=solve(L,U,v_0)#Se resuelve el sistema\n",
        "    lambda_0=np.dot(v_0,v_1)\n",
        "    lambda_1=np.sqrt(np.dot(v_1,v_1))#se toma raíz para poder compararlos\n",
        "    count=0\n",
        "    while((abs(lambda_0-lambda_1)>tol)&(count<max_iter)):\n",
        "        count+=1\n",
        "        v_0=v_1/np.linalg.norm(v_1)#Se normaliza\n",
        "        v_1=solve(L_m=L,U_m=U,b=v_0)#iteracion\n",
        "        lambda_0=lambda_1\n",
        "        lambda_1=np.dot(v_0,v_1)\n",
        "    if(count>=max_iter):\n",
        "        return(\"Maxima iteracion alcanzada\")\n",
        "    else:\n",
        "        if(pr==True):\n",
        "            print(\"numero de iteraciones: \"+str(count))\n",
        "        return([1/lambda_1,v_1])"
      ],
      "execution_count": 1,
      "outputs": []
    },
    {
      "cell_type": "code",
      "metadata": {
        "id": "fW4Ybkaakc74"
      },
      "source": [
        "##Algoritmo\n",
        "##1 Genera subconjunto ortonormal.\n",
        "## Usa ese vector inicial (con deflación para conservar la ortogonalidad) para UNA iteración de potencia inversa (o potencia.) \n",
        "#-> eso genera una nueva matriz \\Phi de approximaciones de vectores. Se normalizan. Estos nuevos vectores no necesariamente son ortogonales (solo cuando A sea ortogonal).\n",
        "## Hacer el producto B=\\Phi.T*A*\\Phi. Parar cuando esto sea diagonal.\n",
        "## Aplicar Jacobi (Completo) sobre B.\n",
        "#-> Genera un producto de matrices de rotacion Q, que puedo usar para actualizar.\\Phi=\\Phi_old*Q.\n",
        "##Repetir"
      ],
      "execution_count": null,
      "outputs": []
    },
    {
      "cell_type": "code",
      "metadata": {
        "id": "N9H1y7kLlhtP"
      },
      "source": [
        ""
      ],
      "execution_count": null,
      "outputs": []
    },
    {
      "cell_type": "code",
      "metadata": {
        "id": "OnT-XANxlAHi"
      },
      "source": [
        "def quitar_contribucion(v_0,list_eigen):\n",
        "    if list_eigen==[]:\n",
        "        print(\"no se quito nada\")\n",
        "        return(np.array(v_0))\n",
        "    else:\n",
        "        aux=v_0\n",
        "        for v in list_eigen:\n",
        "            v_0-=np.dot(aux,np.array(v))*np.array(v)\n",
        "        print(\"se quitaron: \",list_eigen)\n",
        "        return v_0\n"
      ],
      "execution_count": null,
      "outputs": []
    },
    {
      "cell_type": "code",
      "metadata": {
        "colab": {
          "base_uri": "https://localhost:8080/"
        },
        "id": "ZMfg-WKGl-nY",
        "outputId": "a28cce0b-cdcf-4b07-caad-aa1c4f50a157"
      },
      "source": [
        "np.dot([[2,0],[0,2]],np.array([1,2]))"
      ],
      "execution_count": null,
      "outputs": [
        {
          "output_type": "execute_result",
          "data": {
            "text/plain": [
              "array([2, 4])"
            ]
          },
          "metadata": {},
          "execution_count": 7
        }
      ]
    },
    {
      "cell_type": "code",
      "metadata": {
        "id": "0ZSlxoSNkddA"
      },
      "source": [
        "def Iter_subespacio(A,m,tol=0.0000001,max_iter=4000):\n",
        "    n=len(A)\n",
        "    phi_old=[[1/np.sqrt(3),1/np.sqrt(3),1/np.sqrt(3)],[-1/np.sqrt(2),1/np.sqrt(2),0]]\n",
        "    B=A\n",
        "    count=0;\n",
        "    while(check_diag(B,tol=tol)==False):\n",
        "        count+=1\n",
        "        phi_new=[]\n",
        "        for j in range(m):\n",
        "            v_i=np.array(phi_old[j])\n",
        "            if(j==0):\n",
        "                v_i_next=min_eigen(A=A,tol=tol,max_iter=max_iter,pr=False,v_0=v_i)[1]#Metodo completo\n",
        "                phi_new.append(v_i_next)\n",
        "                phi_old[0]=v_i_next\n",
        "            if(j>0):\n",
        "                aux=v_i\n",
        "                for k in range(j):\n",
        "                    v_i-=np.dot(aux,phi_new[k])*np.array(phi_new[k])\n",
        "                v_i_next=np.linalg.solve(A,v_i)\n",
        "                phi_new.append(v_i_next/np.linalg.norm(v_i_next))\n",
        "        B=np.dot(np.dot(phi_new,A),np.array(phi_new).T)\n",
        "        #phi tiene renglones ortogonales.\n",
        "        phi_old=np.dot(np.array(phi_old).T,Jacobi_rot(B,tol,max_iter,pr=False)[0].T).T        \n",
        "    print(\"Num. iteraciones\", count)\n",
        "    return (phi_old)"
      ],
      "execution_count": 41,
      "outputs": []
    },
    {
      "cell_type": "code",
      "metadata": {
        "colab": {
          "base_uri": "https://localhost:8080/"
        },
        "id": "KZcZDQv-6Fld",
        "outputId": "5e613647-da12-4e10-a22c-7b59f7f42a65"
      },
      "source": [
        "phi=Iter_subespacio([[4,3,12],[3,10,13],[12,13,50]],m=2)\n",
        "print(phi)"
      ],
      "execution_count": 42,
      "outputs": [
        {
          "output_type": "stream",
          "name": "stdout",
          "text": [
            "Num. iteraciones 104\n",
            "[[ 0.92098861  0.03134517 -0.23411155]\n",
            " [-0.06499106  0.71539552 -0.15988836]]\n"
          ]
        }
      ]
    },
    {
      "cell_type": "code",
      "metadata": {
        "colab": {
          "base_uri": "https://localhost:8080/"
        },
        "id": "0EjJHniamy2m",
        "outputId": "768d19cb-afd3-43bc-c416-c4b178b6cc51"
      },
      "source": [
        "np.linalg.eig([[4,3,12],[3,10,13],[12,13,50]])"
      ],
      "execution_count": 13,
      "outputs": [
        {
          "output_type": "execute_result",
          "data": {
            "text/plain": [
              "(array([56.74913984,  1.05175165,  6.19910851]),\n",
              " array([[ 0.22812092,  0.96865129,  0.09836429],\n",
              "        [ 0.27441092,  0.03296734, -0.96104724],\n",
              "        [ 0.93416245, -0.24622721,  0.25828796]]))"
            ]
          },
          "metadata": {},
          "execution_count": 13
        }
      ]
    },
    {
      "cell_type": "code",
      "metadata": {
        "id": "4LZfo2vjxw6A",
        "outputId": "7e494143-bb31-411c-f811-44e39dff4160",
        "colab": {
          "base_uri": "https://localhost:8080/"
        }
      },
      "source": [
        "np.dot([ 0.92098861 , 0.03134517, -0.23411155],np.dot([[4,3,12],[3,10,13],[12,13,50]],[ 0.92098861 , 0.03134517, -0.23411155]))\n",
        "#np.dot(np.dot([[4,3,12],[3,10,13],[12,13,50]],[-0.09727447,  0.96234605, -0.25382625]),[-0.09727447,  0.96234605, -0.25382625])\n"
      ],
      "execution_count": 45,
      "outputs": [
        {
          "output_type": "execute_result",
          "data": {
            "text/plain": [
              "0.9507948061401813"
            ]
          },
          "metadata": {},
          "execution_count": 45
        }
      ]
    }
  ]
}