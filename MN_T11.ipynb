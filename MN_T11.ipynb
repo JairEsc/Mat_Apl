{
  "nbformat": 4,
  "nbformat_minor": 0,
  "metadata": {
    "colab": {
      "name": "Untitled38.ipynb",
      "provenance": [],
      "authorship_tag": "ABX9TyOmXuR7CZPnCJOC9b1GDY7u",
      "include_colab_link": true
    },
    "kernelspec": {
      "name": "python3",
      "display_name": "Python 3"
    },
    "language_info": {
      "name": "python"
    }
  },
  "cells": [
    {
      "cell_type": "markdown",
      "metadata": {
        "id": "view-in-github",
        "colab_type": "text"
      },
      "source": [
        "<a href=\"https://colab.research.google.com/github/JairEsc/Mat_Apl/blob/main/MN_T11.ipynb\" target=\"_parent\"><img src=\"https://colab.research.google.com/assets/colab-badge.svg\" alt=\"Open In Colab\"/></a>"
      ]
    },
    {
      "cell_type": "code",
      "metadata": {
        "id": "4wpRGZiypgt6"
      },
      "source": [
        "import numpy as np"
      ],
      "execution_count": 4,
      "outputs": []
    },
    {
      "cell_type": "code",
      "metadata": {
        "id": "5PXpE8-0c0c4"
      },
      "source": [
        "#metodo de rayleigh\n"
      ],
      "execution_count": null,
      "outputs": []
    },
    {
      "cell_type": "code",
      "metadata": {
        "id": "i8tjU5Ouc4Gf"
      },
      "source": [
        "#metodo de iteracion en subespacio.\n",
        "def gen_base_ortogonal(m,n):\n",
        "    base=[]\n",
        "    for j in range(m):\n",
        "        b=[0.0]*n\n",
        "        b[j]=1.0\n",
        "        base.append(np.array(b))\n",
        "    return np.array(base)\n",
        "def factorizar_LU(matriz):#Codigo reciclado: Factorizacion LU\n",
        "    n=len(matriz)\n",
        "    L=np.zeros((n,n))\n",
        "    U=np.zeros((n,n))\n",
        "    for j in range(n):\n",
        "        for i in range(j,n):\n",
        "            sum=0\n",
        "            for k in range(i):\n",
        "                sum+=L[i][k]*U[k][j]\n",
        "            L[i][j]=matriz[i][j]-sum\n",
        "            if(i>j):\n",
        "                sum=0\n",
        "                for k in range(j):\n",
        "                    sum+=L[j][k]*U[k][i]\n",
        "                U[j][i]=(matriz[j][i]-sum)/L[j][j]\n",
        "            else: \n",
        "                U[i][j]=1 \n",
        "                if(L[i][i]==0):\n",
        "                    print(\"Error en la construcción de L\")\n",
        "    return([L,U])\n",
        "\n",
        "def superior(list,b):#Codigo reciclado:Resolver sistema triangular\n",
        "  n=len(list)\n",
        "  X=[b[n-1]/list[n-1][n-1]]\n",
        "  X_inv=[X[0]]\n",
        "  for i in range(1,n):#len(list) es el número de renglones de la matriz\n",
        "    acum=0\n",
        "    for j in range(i):#0<=j<=i-1 \n",
        "      acum+=X[j]*list[n-i-1][n-1-j]\n",
        "    X.append((b[n-1-i]-acum)/list[n-1-i][n-1-i])\n",
        "    X_inv.insert(0,X[i])\n",
        "  return X_inv\n",
        "\n",
        "#Codigo reciclado:Resolver sistema triangular\n",
        "def inferior(list,b):#list debe contener las entradas de la matriz triangular.\n",
        "#Será aceptable introducir un arreglo de arreglos de distintos tamaños, para solo introducir las entradas no cero.\n",
        "  X=[b[0]/list[0][0]]\n",
        "  for i in range(1,len(list)):#len(list) es el número de renglones de la matriz\n",
        "    acum=0\n",
        "    for j in range(i):#0<=j<=i-1 \n",
        "      acum+=X[j]*list[i][j]\n",
        "    X.append((b[i]-acum)/list[i][i])\n",
        "  return X\n",
        "def solve(L_m,U_m,b):\n",
        "    y=inferior(L_m,b)#Resolver Ly=b\n",
        "    return(superior(U_m,y))#Resolver Ux=y\n",
        "def check_diag(A,tol):#Pensado para matrices en general (NO simetricas)\n",
        "    boolean=True\n",
        "    breaker=False\n",
        "    for i in range(len(A)):\n",
        "        for j in range(i,len(A)):\n",
        "            if(i!=j):\n",
        "                if(abs(A[i][j])>tol):\n",
        "                    boolean=False;\n",
        "                    breaker=True;\n",
        "                    break;\n",
        "        if(breaker==True):\n",
        "            break\n",
        "    return(boolean)\n",
        "def Jacobi_rot(A,tol,max_Iter,pr=True):\n",
        "    count=0\n",
        "    n=len(A)\n",
        "    P=np.identity(n)\n",
        "    while((check_diag(A,tol)==False)&(count<=max_Iter)):\n",
        "        p,q=entrada_max(A)\n",
        "        a=A[p][q]\n",
        "        if(A[p][p]==A[q][q]):\n",
        "            theta=np.pi/4\n",
        "        else:\n",
        "            theta=0.5*np.arctan(2*a/(A[p][p]-A[q][q]))\n",
        "        #Ya tenemos la rotacion y podemos hacer el producto de matrices\n",
        "        R=np.identity(n)\n",
        "        R[p][p]=np.cos(theta)\n",
        "        R[p][q]=-np.sin(theta)\n",
        "        R[q][p]=-R[p][q]\n",
        "        R[q][q]=R[p][p]\n",
        "        A=np.dot(R.T,np.dot(A,R))#Se puede mejorar, modificando solo aquellas entradas que cambian.\n",
        "        count+=1\n",
        "        P=np.dot(P,R)\n",
        "    if(count>max_Iter):\n",
        "        print(\"Maxima iteracion alcanzada\")\n",
        "    else:\n",
        "        if(pr==True):\n",
        "            print(\"num. Iteraciones: \", str(count))\n",
        "    return(P,np.diagonal(A))\n",
        "def entrada_max(A):#Regresa una lista [i,j], tal que a_{i,j} es el valor maximo en valor absoluto.\n",
        "#Pensado para matrices simetricas\n",
        "    max=abs(A[0][1])\n",
        "    index=[0,1]\n",
        "    for i in range(len(A)):\n",
        "        for j in range(i,len(A[0])):\n",
        "            if(i!=j):\n",
        "                if(max<abs(A[i][j])):\n",
        "                    max=abs(A[i][j])\n",
        "                    index=i,j\n",
        "    return(index)\n",
        "def min_eigen(A,tol,max_iter,pr=True,v_0=[]):\n",
        "    n=len(A)\n",
        "    if(len(v_0)==0):#Es opcional\n",
        "        v_0=(np.zeros(n)+1/math.sqrt(n))#Normalizado\n",
        "    L,U=factorizar_LU(A)\n",
        "    v_1=solve(L,U,v_0)#Se resuelve el sistema\n",
        "    lambda_0=np.dot(v_0,v_1)\n",
        "    lambda_1=np.sqrt(np.dot(v_1,v_1))#se toma raíz para poder compararlos\n",
        "    count=0\n",
        "    while((abs(lambda_0-lambda_1)>tol)&(count<max_iter)):\n",
        "        count+=1\n",
        "        v_0=v_1/np.linalg.norm(v_1)#Se normaliza\n",
        "        v_1=solve(L_m=L,U_m=U,b=v_0)#iteracion\n",
        "        lambda_0=lambda_1\n",
        "        lambda_1=np.dot(v_0,v_1)\n",
        "    if(count>=max_iter):\n",
        "        return(\"Maxima iteracion alcanzada\")\n",
        "    else:\n",
        "        if(pr==True):\n",
        "            print(\"numero de iteraciones: \"+str(count))\n",
        "        return([1/lambda_1,v_1])"
      ],
      "execution_count": 91,
      "outputs": []
    },
    {
      "cell_type": "code",
      "metadata": {
        "id": "fW4Ybkaakc74"
      },
      "source": [
        "##Algoritmo\n",
        "##1 Genera subconjunto ortonormal.\n",
        "## Usa ese vector inicial (con deflación para conservar la ortogonalidad) para UNA iteración de potencia inversa (o potencia.) \n",
        "#-> eso genera una nueva matriz \\Phi de approximaciones de vectores. Se normalizan. Estos nuevos vectores no necesariamente son ortogonales (solo cuando A sea ortogonal).\n",
        "## Hacer el producto B=\\Phi.T*A*\\Phi. Parar cuando esto sea diagonal.\n",
        "## Aplicar Jacobi (Completo) sobre B.\n",
        "#-> Genera un producto de matrices de rotacion Q, que puedo usar para actualizar.\\Phi=\\Phi_old*Q.\n",
        "##Repetir"
      ],
      "execution_count": null,
      "outputs": []
    },
    {
      "cell_type": "code",
      "metadata": {
        "id": "N9H1y7kLlhtP"
      },
      "source": [
        ""
      ],
      "execution_count": null,
      "outputs": []
    },
    {
      "cell_type": "code",
      "metadata": {
        "id": "OnT-XANxlAHi"
      },
      "source": [
        "def quitar_contribucion(v_0,list_eigen):\n",
        "    if list_eigen==[]:\n",
        "        print(\"no se quito nada\")\n",
        "        return(np.array(v_0))\n",
        "    else:\n",
        "        aux=v_0\n",
        "        for v in list_eigen:\n",
        "            v_0-=np.dot(aux,np.array(v))*np.array(v)\n",
        "        print(\"se quitaron: \",list_eigen)\n",
        "        return v_0\n"
      ],
      "execution_count": null,
      "outputs": []
    },
    {
      "cell_type": "code",
      "metadata": {
        "colab": {
          "base_uri": "https://localhost:8080/"
        },
        "id": "ZMfg-WKGl-nY",
        "outputId": "a28cce0b-cdcf-4b07-caad-aa1c4f50a157"
      },
      "source": [
        "np.dot([[2,0],[0,2]],np.array([1,2]))"
      ],
      "execution_count": null,
      "outputs": [
        {
          "output_type": "execute_result",
          "data": {
            "text/plain": [
              "array([2, 4])"
            ]
          },
          "metadata": {},
          "execution_count": 7
        }
      ]
    },
    {
      "cell_type": "code",
      "metadata": {
        "id": "0ZSlxoSNkddA"
      },
      "source": [
        "def Iter_subespacio(A,m,tol=0.000001,max_iter=4000):\n",
        "    #1 Generar subconjunto ortonormal.\n",
        "    phi_old=gen_base_ortogonal(m,len(A))\n",
        "    B=A\n",
        "    while(check_diag(B,tol=tol)==False):\n",
        "        phi_new=[]\n",
        "        for j in range(m):\n",
        "            v_i=np.array(phi_old[j])\n",
        "            if(j==0):#no hay deflacion\n",
        "                v_i_next=np.linalg.solve(A,v_i)\n",
        "                phi_new.append(v_i_next/np.linalg.norm(v_i_next))\n",
        "            else:\n",
        "                aux=v_i\n",
        "                for k in range(j):#Si hay deflacion\n",
        "                    v_i-=np.dot(np.array(aux),np.array(phi_new[k]))*np.array(phi_new[k])\n",
        "                v_i_next=np.linalg.solve(A,v_i)\n",
        "                phi_new.append(v_i_next/np.linalg.norm(v_i_next))\n",
        "        B=np.dot(np.array(phi_new),np.dot(A,np.array(phi_new).T)).T\n",
        "        phi_old=np.dot(np.array(phi_new).T,Jacobi_rot(A=B,tol=tol,max_Iter=max_iter,pr=False)[0]).T\n",
        "    return[phi_old,np.diag(B)]"
      ],
      "execution_count": 118,
      "outputs": []
    },
    {
      "cell_type": "code",
      "metadata": {
        "colab": {
          "base_uri": "https://localhost:8080/"
        },
        "id": "KZcZDQv-6Fld",
        "outputId": "9cf9206b-3e42-42ef-e20c-2a026543b1c7"
      },
      "source": [
        "print(\"Matriz 125x125\\n\")\n",
        "A=np.loadtxt(\"Eigen_125x125.txt\",skiprows=1)\n",
        "print(\"De 9 eigenpares aproximados, se calcularon sus errores y se obtuvo\\n\")\n",
        "phi,eigenvalues=Iter_subespacio(A,m=9)\n",
        "error=[]\n",
        "for i in range(len(phi)):\n",
        "    error.append(np.linalg.norm(np.dot(A,phi[i])-eigenvalues[i]*np.array(phi[i])))\n",
        "print(\"maximo error:\", np.max(error))\n",
        "print(\"Matriz 125x125\\n\")\n",
        "A=np.loadtxt(\"Eigen_125x125.txt\",skiprows=1)\n",
        "phi,eigenvalues=Iter_subespacio(A,m=25)\n",
        "print(\"De 25 eigenpares aproximados, se calcularon sus errores y se obtuvo\\n\")\n",
        "error=[]\n",
        "for i in range(len(phi)):\n",
        "    error.append(np.linalg.norm(np.dot(A,phi[i])-eigenvalues[i]*np.array(phi[i])))\n",
        "print(\"maximo error:\", np.max(error))\n"
      ],
      "execution_count": 116,
      "outputs": [
        {
          "output_type": "stream",
          "name": "stdout",
          "text": [
            "Matriz 125x125\n",
            "\n",
            "De 9 eigenpares aproximados, se calcularon sus errores y se obtuvo\n",
            "\n",
            "maximo error: 0.00011897364770181613\n",
            "Matriz 125x125\n",
            "\n",
            "De 25 eigenpares aproximados, se calcularon sus errores y se obtuvo\n",
            "\n",
            "maximo error: 3.8335612439161984e-05\n"
          ]
        }
      ]
    },
    {
      "cell_type": "code",
      "metadata": {
        "id": "Gpy-liQ3p5bi",
        "outputId": "c7d042c1-3136-4967-de70-a56226cea1b7",
        "colab": {
          "base_uri": "https://localhost:8080/"
        }
      },
      "source": [
        "print(\"Matriz 500x500\\n\")\n",
        "A=np.loadtxt(\"Eigen_500x500.txt\",skiprows=1)\n",
        "print(\"De 9 eigenpares aproximados, se calcularon sus errores y se obtuvo\\n\")\n",
        "phi,eigenvalues=Iter_subespacio(A,m=9)\n",
        "error=[]\n",
        "for i in range(len(phi)):\n",
        "    error.append(np.linalg.norm(np.dot(A,phi[i])-eigenvalues[i]*np.array(phi[i])))\n",
        "print(\"maximo error:\", np.max(error))\n",
        "print(\"Matriz 500x500\\n\")\n",
        "A=np.loadtxt(\"Eigen_500x500.txt\",skiprows=1)\n",
        "phi,eigenvalues=Iter_subespacio(A,m=25)\n",
        "print(\"De 25 eigenpares aproximados, se calcularon sus errores y se obtuvo\\n\")\n",
        "error=[]\n",
        "for i in range(len(phi)):\n",
        "    error.append(np.linalg.norm(np.dot(A,phi[i])-eigenvalues[i]*np.array(phi[i])))\n",
        "print(\"maximo error:\", np.max(error))"
      ],
      "execution_count": 119,
      "outputs": [
        {
          "output_type": "stream",
          "name": "stdout",
          "text": [
            "Matriz 500x500\n",
            "\n",
            "De 9 eigenpares aproximados, se calcularon sus errores y se obtuvo\n",
            "\n",
            "maximo error: 0.013601432488576351\n",
            "Matriz 500x500\n",
            "\n",
            "De 25 eigenpares aproximados, se calcularon sus errores y se obtuvo\n",
            "\n",
            "maximo error: 0.01472776298910187\n"
          ]
        }
      ]
    },
    {
      "cell_type": "code",
      "metadata": {
        "colab": {
          "base_uri": "https://localhost:8080/"
        },
        "id": "0EjJHniamy2m",
        "outputId": "900f495f-7089-4c43-f349-20189ac15763"
      },
      "source": [
        "np.linalg.eig(A)"
      ],
      "execution_count": 94,
      "outputs": [
        {
          "output_type": "execute_result",
          "data": {
            "text/plain": [
              "(array([5.97537881e-04, 5.80571977e-04, 1.86275566e-06, 8.13485613e-06,\n",
              "        1.65012229e-05, 1.76249768e-05, 2.61130524e-05, 3.64801354e-05,\n",
              "        3.82898652e-05, 4.84761211e-05, 4.57379733e-05, 5.61184341e-04,\n",
              "        5.56494726e-04, 6.05957594e-05, 5.50804423e-04, 5.47941792e-04,\n",
              "        5.43415094e-04, 5.38471098e-04, 6.80906395e-05, 7.18368801e-05,\n",
              "        7.35555477e-05, 5.30048006e-04, 8.59443676e-05, 8.44370742e-05,\n",
              "        9.83984375e-05, 1.00533581e-04, 1.03736601e-04, 5.18072516e-04,\n",
              "        5.19857401e-04, 5.08062092e-04, 5.03446305e-04, 1.13178103e-04,\n",
              "        4.99921491e-04, 4.96475222e-04, 1.26631734e-04, 1.31516893e-04,\n",
              "        4.90537461e-04, 4.86156336e-04, 4.81049247e-04, 4.77670727e-04,\n",
              "        1.32687792e-04, 1.35282168e-04, 1.41042173e-04, 1.42195981e-04,\n",
              "        4.70812158e-04, 4.72429278e-04, 4.73347378e-04, 4.68122733e-04,\n",
              "        4.65176718e-04, 4.61423601e-04, 1.55605918e-04, 4.48761475e-04,\n",
              "        4.46361798e-04, 4.44778756e-04, 1.64007471e-04, 4.43083956e-04,\n",
              "        4.38420626e-04, 4.30825573e-04, 4.28213831e-04, 1.73008717e-04,\n",
              "        1.73285175e-04, 4.22082158e-04, 1.71461619e-04, 4.17108288e-04,\n",
              "        1.81729461e-04, 1.82379420e-04, 4.09714339e-04, 1.89300835e-04,\n",
              "        1.90845568e-04, 1.96229892e-04, 4.04141698e-04, 3.99873259e-04,\n",
              "        3.96790172e-04, 3.91868327e-04, 3.86730856e-04, 2.04318130e-04,\n",
              "        2.10656184e-04, 3.76705305e-04, 3.74341739e-04, 3.69468695e-04,\n",
              "        2.17124465e-04, 2.18407728e-04, 2.19237033e-04, 2.26810090e-04,\n",
              "        2.34052925e-04, 3.58351177e-04, 2.48257313e-04, 2.41834082e-04,\n",
              "        2.43924578e-04, 3.55590439e-04, 2.52885665e-04, 2.58256911e-04,\n",
              "        3.53126328e-04, 2.63349922e-04, 3.46314729e-04, 2.67543196e-04,\n",
              "        3.42421472e-04, 2.81180608e-04, 2.87517507e-04, 2.72580472e-04,\n",
              "        2.94415679e-04, 2.99799487e-04, 3.36999115e-04, 3.26560344e-04,\n",
              "        3.15001559e-04, 3.04091699e-04, 3.14015280e-04, 3.36357490e-04,\n",
              "        2.71298376e-04, 3.28137205e-04, 2.91537704e-04, 3.08674101e-04,\n",
              "        3.06384024e-04, 1.00000000e+00, 1.00000000e+00, 1.00000000e+00,\n",
              "        1.00000000e+00, 1.00000000e+00, 1.00000000e+00, 1.00000000e+00,\n",
              "        1.00000000e+00, 1.00000000e+00, 1.00000000e+00, 1.00000000e+00,\n",
              "        1.00000000e+00]),\n",
              " array([[ 2.73584087e-05, -4.54293988e-05, -1.58229467e-01, ...,\n",
              "          0.00000000e+00,  0.00000000e+00,  0.00000000e+00],\n",
              "        [ 9.92935441e-04, -2.01794942e-03, -1.32466914e-01, ...,\n",
              "          0.00000000e+00,  0.00000000e+00,  0.00000000e+00],\n",
              "        [ 0.00000000e+00,  0.00000000e+00,  0.00000000e+00, ...,\n",
              "          0.00000000e+00,  0.00000000e+00,  0.00000000e+00],\n",
              "        ...,\n",
              "        [ 1.76751910e-02,  6.24567550e-02, -1.57255459e-02, ...,\n",
              "          0.00000000e+00,  0.00000000e+00,  0.00000000e+00],\n",
              "        [ 4.43675372e-03,  8.67001205e-02, -4.22909798e-02, ...,\n",
              "          0.00000000e+00,  0.00000000e+00,  0.00000000e+00],\n",
              "        [-2.06646749e-02,  3.18633971e-02, -1.13514835e-01, ...,\n",
              "          0.00000000e+00,  0.00000000e+00,  0.00000000e+00]]))"
            ]
          },
          "metadata": {},
          "execution_count": 94
        }
      ]
    },
    {
      "cell_type": "code",
      "metadata": {
        "id": "4LZfo2vjxw6A",
        "colab": {
          "base_uri": "https://localhost:8080/"
        },
        "outputId": "e129db05-6d46-48b5-c4c7-f947757156d5"
      },
      "source": [
        "#np.dot([ 0.92098861 , 0.03134517, -0.23411155],np.dot([[4,3,12],[3,10,13],[12,13,50]],[ 0.92098861 , 0.03134517, -0.23411155]))\n",
        "np.linalg.norm(np.dot([[4,3,12],[3,10,13],[12,13,50]],[-0.09727447,  0.96234605, -0.25382625])-0.95*np.array([-0.09727447,  0.96234605, -0.25382625]))\n"
      ],
      "execution_count": 12,
      "outputs": [
        {
          "output_type": "execute_result",
          "data": {
            "text/plain": [
              "5.255800913724584"
            ]
          },
          "metadata": {},
          "execution_count": 12
        }
      ]
    }
  ]
}