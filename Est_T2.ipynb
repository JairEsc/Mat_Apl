{
  "nbformat": 4,
  "nbformat_minor": 0,
  "metadata": {
    "colab": {
      "name": "Untitled75.ipynb",
      "provenance": [],
      "authorship_tag": "ABX9TyMVjMkR/id/w9QIzP/ar/qx",
      "include_colab_link": true
    },
    "kernelspec": {
      "name": "python3",
      "display_name": "Python 3"
    },
    "language_info": {
      "name": "python"
    }
  },
  "cells": [
    {
      "cell_type": "markdown",
      "metadata": {
        "id": "view-in-github",
        "colab_type": "text"
      },
      "source": [
        "<a href=\"https://colab.research.google.com/github/JairEsc/Mat_Apl/blob/main/Est_T2.ipynb\" target=\"_parent\"><img src=\"https://colab.research.google.com/assets/colab-badge.svg\" alt=\"Open In Colab\"/></a>"
      ]
    },
    {
      "cell_type": "code",
      "execution_count": 1,
      "metadata": {
        "id": "8Sqe_EMr_gCz"
      },
      "outputs": [],
      "source": [
        "import numpy as np"
      ]
    },
    {
      "cell_type": "code",
      "source": [
        "p=0.4\n",
        "print('p: ',p)\n",
        "alpha=0.05\n",
        "coverages_n=[]\n",
        "N=[100,500,1000,5000,7500,10000]\n",
        "m=100 #Number of simulations\n",
        "for n in N:\n",
        "    coverage=0\n",
        "    eps=np.sqrt(np.log(2/alpha)/(2*n))\n",
        "    for k in range(m):\n",
        "        X=np.random.binomial(1,p,size=n)\n",
        "        p_hat=np.mean(X)\n",
        "        if(p>p_hat-eps and p<p_hat+eps):\n",
        "            coverage+=1\n",
        "    coverages_n.append(coverage/m)\n"
      ],
      "metadata": {
        "colab": {
          "base_uri": "https://localhost:8080/"
        },
        "id": "q9iDKinc_lbM",
        "outputId": "36cbd2a7-4ee7-454a-a6e3-177ea2694282"
      },
      "execution_count": 62,
      "outputs": [
        {
          "output_type": "stream",
          "name": "stdout",
          "text": [
            "p:  0.4\n"
          ]
        }
      ]
    },
    {
      "cell_type": "code",
      "source": [
        "print(coverages_n)"
      ],
      "metadata": {
        "colab": {
          "base_uri": "https://localhost:8080/"
        },
        "id": "n0PbMJIDGv2l",
        "outputId": "f0f1d83d-3af4-44cd-f4a5-64b1da358925"
      },
      "execution_count": 59,
      "outputs": [
        {
          "output_type": "stream",
          "name": "stdout",
          "text": [
            "[1.0, 1.0, 0.98, 0.99, 0.99, 0.99]\n"
          ]
        }
      ]
    },
    {
      "cell_type": "code",
      "source": [
        "import matplotlib.pyplot as plt\n",
        "plt.plot(N,coverages_n)"
      ],
      "metadata": {
        "colab": {
          "base_uri": "https://localhost:8080/",
          "height": 282
        },
        "id": "nlZ3beAXE3z6",
        "outputId": "09f5ee70-6ab5-4219-ba71-5e70cd15aa90"
      },
      "execution_count": 61,
      "outputs": [
        {
          "output_type": "execute_result",
          "data": {
            "text/plain": [
              "[<matplotlib.lines.Line2D at 0x7fcd8a06b690>]"
            ]
          },
          "metadata": {},
          "execution_count": 61
        },
        {
          "output_type": "display_data",
          "data": {
            "image/png": "[encoded data removed]",
            "text/plain": [
              "<Figure size 432x288 with 1 Axes>"
            ]
          },
          "metadata": {
            "needs_background": "light"
          }
        }
      ]
    },
    {
      "cell_type": "code",
      "source": [
        "    "
      ],
      "metadata": {
        "id": "0j6AzDUfCnXu"
      },
      "execution_count": null,
      "outputs": []
    }
  ]
}