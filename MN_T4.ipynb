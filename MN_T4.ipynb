{
  "nbformat": 4,
  "nbformat_minor": 0,
  "metadata": {
    "colab": {
      "name": "Untitled14.ipynb",
      "provenance": [],
      "authorship_tag": "ABX9TyPo4XoeyEYN7Y7wEqVZTaLB",
      "include_colab_link": true
    },
    "kernelspec": {
      "name": "python3",
      "display_name": "Python 3"
    },
    "language_info": {
      "name": "python"
    }
  },
  "cells": [
    {
      "cell_type": "markdown",
      "metadata": {
        "id": "view-in-github",
        "colab_type": "text"
      },
      "source": [
        "<a href=\"https://colab.research.google.com/github/JairEsc/Mat_Apl/blob/main/MN_T4.ipynb\" target=\"_parent\"><img src=\"https://colab.research.google.com/assets/colab-badge.svg\" alt=\"Open In Colab\"/></a>"
      ]
    },
    {
      "cell_type": "code",
      "metadata": {
        "id": "6CTBO444QfU2"
      },
      "source": [
        "def bisection(f,a_0,b_0,tol_x=0,tol_f=10**(-6)):\n",
        "  # Input: f, [a,b], \n",
        "  #         tol_x: Tolerancia del tamaño del intervalo (default=0)\n",
        "  #         tol_f: Tolerancia, criterio de paro (default=10^{-6})\n",
        "  x_m=a_0+(b_0-a_0)/2\n",
        "  while (abs(f(x_m))>tol_f) & (abs(b_0-a_0)>tol_x):\n",
        "    if (f(x_m)*f(a_0)<0):\n",
        "      b_0=x_m\n",
        "    else:\n",
        "      a_0=x_m\n",
        "    x_m=a_0+(b_0-a_0)/2\n",
        "  return (x_m)"
      ],
      "execution_count": 1,
      "outputs": []
    },
    {
      "cell_type": "code",
      "metadata": {
        "colab": {
          "base_uri": "https://localhost:8080/"
        },
        "id": "m-F38OsqTCTE",
        "outputId": "872ad4d9-f168-4c51-b94c-2e18cefb4a86"
      },
      "source": [
        "import math\n",
        "bisection(math.cos,0.025,math.pi-.0001)"
      ],
      "execution_count": 2,
      "outputs": [
        {
          "output_type": "execute_result",
          "data": {
            "text/plain": [
              "1.5707961202997183"
            ]
          },
          "metadata": {},
          "execution_count": 2
        }
      ]
    },
    {
      "cell_type": "code",
      "metadata": {
        "id": "beOLheKJSlZa"
      },
      "source": [
        "def Newton(f, fprime, x_0,tol_x=0,tol_f=10**(-6)):\n",
        "  #Input: f, f', x_0,\n",
        "  #         tol_x: Tolerancia del tamaño del intervalo (default=0)\n",
        "  #         tol_f: Tolerancia, criterio de paro (default=10^{-6})\n",
        "  if(fprime(x_0)==0):\n",
        "    return('considere otro valor inicial')\n",
        "  else: x_1=x_0+f(x_0)/fprime(x_0)\n",
        "  while (abs(f(x_1))>tol_f) & (abs(x_0-x_1)>tol_x):\n",
        "    if(fprime(x_1)==0): \n",
        "      break\n",
        "    else:\n",
        "      x_0=x_1\n",
        "      x_1=x_0-f(x_0)/fprime(x_0)\n",
        "  return x_1"
      ],
      "execution_count": 3,
      "outputs": []
    },
    {
      "cell_type": "code",
      "metadata": {
        "colab": {
          "base_uri": "https://localhost:8080/"
        },
        "id": "yARtMcvjWj9C",
        "outputId": "8982d85f-301f-42e5-b1ab-3feaed4d4832"
      },
      "source": [
        "Newton(math.sin,math.cos,3.1,tol_x=0.00001,tol_f=0.000001)"
      ],
      "execution_count": 4,
      "outputs": [
        {
          "output_type": "execute_result",
          "data": {
            "text/plain": [
              "3.141592653587413"
            ]
          },
          "metadata": {},
          "execution_count": 4
        }
      ]
    },
    {
      "cell_type": "code",
      "metadata": {
        "id": "o3l54NTlX7S6"
      },
      "source": [
        "def secant(f,x_0,x_1,tol_x=0,tol_f=10**(-6)):\n",
        "  #Input: f, \n",
        "  #         x_0, x_1: Aproximaciones iniciales.\n",
        "  #         tol_x: Tolerancia del tamaño del intervalo (default=0)\n",
        "  #         tol_f: Tolerancia, criterio de paro (default=10^{-6})\n",
        "  while (abs(f(x_1))>tol_f) & (abs(x_0-x_1)>tol_x):\n",
        "    x_aux=x_1\n",
        "    x_1=(x_0*f(x_1)-x_1*f(x_0))/(f(x_1)-f(x_0))\n",
        "    x_0=x_aux\n",
        "  return x_1"
      ],
      "execution_count": 5,
      "outputs": []
    },
    {
      "cell_type": "code",
      "metadata": {
        "id": "CVu8gbHsQXAP",
        "colab": {
          "base_uri": "https://localhost:8080/"
        },
        "outputId": "f9e04d5b-7455-4d36-bbbf-ac0f6879ee60"
      },
      "source": [
        "secant(math.sin,-math.pi/2+0.05,math.pi/3)"
      ],
      "execution_count": 6,
      "outputs": [
        {
          "output_type": "execute_result",
          "data": {
            "text/plain": [
              "8.049693470823058e-09"
            ]
          },
          "metadata": {},
          "execution_count": 6
        }
      ]
    }
  ]
}