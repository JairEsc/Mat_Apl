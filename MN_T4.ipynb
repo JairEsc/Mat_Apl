{
  "nbformat": 4,
  "nbformat_minor": 0,
  "metadata": {
    "colab": {
      "name": "Untitled14.ipynb",
      "provenance": [],
      "authorship_tag": "ABX9TyO55PsDph7N9Avi3MsXiK42",
      "include_colab_link": true
    },
    "kernelspec": {
      "name": "python3",
      "display_name": "Python 3"
    },
    "language_info": {
      "name": "python"
    }
  },
  "cells": [
    {
      "cell_type": "markdown",
      "metadata": {
        "id": "view-in-github",
        "colab_type": "text"
      },
      "source": [
        "<a href=\"https://colab.research.google.com/github/JairEsc/Mat_Apl/blob/main/MN_T4.ipynb\" target=\"_parent\"><img src=\"https://colab.research.google.com/assets/colab-badge.svg\" alt=\"Open In Colab\"/></a>"
      ]
    },
    {
      "cell_type": "code",
      "metadata": {
        "id": "CVu8gbHsQXAP"
      },
      "source": [
        ""
      ],
      "execution_count": null,
      "outputs": []
    },
    {
      "cell_type": "code",
      "metadata": {
        "id": "-fI-tt6AZzD8"
      },
      "source": [
        "def bisection(f,a_0,b_0,tol_x=0,tol_f=10**(-6)):\n",
        "  # Input: f, [a,b], \n",
        "  #         tol_x: Tolerancia del tamaño del intervalo (default=0)\n",
        "  #         tol_f: Tolerancia, criterio de paro (default=10^{-6})\n",
        "  x_m=a_0+(b_0-a_0)/2\n",
        "  while (abs(f(x_m))>tol_f) & (abs(b_0-a_0)>tol_x):\n",
        "    if (f(x_m)*f(a_0)<0):\n",
        "      b_0=x_m\n",
        "    else:\n",
        "      a_0=x_m\n",
        "    x_m=a_0+(b_0-a_0)/2\n",
        "  return (x_m)"
      ],
      "execution_count": null,
      "outputs": []
    },
    {
      "cell_type": "code",
      "metadata": {
        "colab": {
          "base_uri": "https://localhost:8080/"
        },
        "id": "m-F38OsqTCTE",
        "outputId": "5e897ced-692b-48f8-b9bb-f52bf2db24b4"
      },
      "source": [
        "import math\n",
        "bisection(math.cos,0.025,math.pi-.0001)"
      ],
      "execution_count": null,
      "outputs": [
        {
          "output_type": "execute_result",
          "data": {
            "text/plain": [
              "1.5707961202997183"
            ]
          },
          "metadata": {},
          "execution_count": 9
        }
      ]
    },
    {
      "cell_type": "code",
      "metadata": {
        "id": "beOLheKJSlZa"
      },
      "source": [
        "def Newton(f, fprime, x_0,tol_x=0,tol_f=10**(-6)):\n",
        "  #Input: f, f', x_0,\n",
        "  #         tol_x: Tolerancia del tamaño del intervalo (default=0)\n",
        "  #         tol_f: Tolerancia, criterio de paro (default=10^{-6})\n",
        "  if(fprime(x_0)==0):\n",
        "    return('considere otro valor inicial')\n",
        "  else: x_1=x_0+f(x_0)/fprime(x_0)\n",
        "  while (abs(f(x_1))>tol_f) & (abs(x_0-x_1)>tol_x):\n",
        "    if(fprime(x_1)==0): \n",
        "      break\n",
        "    else:\n",
        "      x_0=x_1\n",
        "      x_1=x_0-f(x_0)/fprime(x_0)\n",
        "  return x_1"
      ],
      "execution_count": null,
      "outputs": []
    },
    {
      "cell_type": "code",
      "metadata": {
        "colab": {
          "base_uri": "https://localhost:8080/"
        },
        "id": "yARtMcvjWj9C",
        "outputId": "eed0b364-b49c-4a62-f620-c713618d673d"
      },
      "source": [
        "Newton(math.sin,math.cos,3.1,tol_x=0.00001,tol_f=0.000001)"
      ],
      "execution_count": null,
      "outputs": [
        {
          "output_type": "execute_result",
          "data": {
            "text/plain": [
              "3.141592653587413"
            ]
          },
          "metadata": {},
          "execution_count": 21
        }
      ]
    },
    {
      "cell_type": "code",
      "metadata": {
        "id": "o3l54NTlX7S6"
      },
      "source": [
        "def secant(f,x_0,x_1,tol_x=0,tol_f=10**(-6)):\n",
        "  #Input: f, \n",
        "  #         x_0, x_1: Aproximaciones iniciales.\n",
        "  #         tol_x: Tolerancia del tamaño del intervalo (default=0)\n",
        "  #         tol_f: Tolerancia, criterio de paro (default=10^{-6})\n",
        "  while (abs(f(x_1))>tol_f) & (abs(x_0-x_1)>tol_x):\n",
        "    x_aux=x_1\n",
        "    x_1=(x_0*f(x_1)-x_1*f(x_0))/(f(x_1)-f(x_0))\n",
        "    x_0=x_aux\n",
        "  return x_1"
      ],
      "execution_count": null,
      "outputs": []
    }
  ]
}