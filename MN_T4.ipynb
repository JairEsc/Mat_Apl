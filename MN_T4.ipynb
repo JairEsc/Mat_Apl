{
  "nbformat": 4,
  "nbformat_minor": 0,
  "metadata": {
    "colab": {
      "name": "Untitled14.ipynb",
      "provenance": [],
      "authorship_tag": "ABX9TyPZ1keD8SroiEKJPsMtKKuM",
      "include_colab_link": true
    },
    "kernelspec": {
      "name": "python3",
      "display_name": "Python 3"
    },
    "language_info": {
      "name": "python"
    }
  },
  "cells": [
    {
      "cell_type": "markdown",
      "metadata": {
        "id": "view-in-github",
        "colab_type": "text"
      },
      "source": [
        "<a href=\"https://colab.research.google.com/github/JairEsc/Mat_Apl/blob/main/MN_T4.ipynb\" target=\"_parent\"><img src=\"https://colab.research.google.com/assets/colab-badge.svg\" alt=\"Open In Colab\"/></a>"
      ]
    },
    {
      "cell_type": "code",
      "metadata": {
        "id": "6CTBO444QfU2"
      },
      "source": [
        "def bisection(f,a_0,b_0,tol_x=0,tol_f=10**(-6)):\n",
        "  # Input: f, [a,b], \n",
        "  #         tol_x: Tolerancia del tamaño del intervalo (default=0)\n",
        "  #         tol_f: Tolerancia, criterio de paro (default=10^{-6})\n",
        "  x_m=a_0+(b_0-a_0)/2\n",
        "  while (abs(f(x_m))>tol_f) & (abs(b_0-a_0)>tol_x):\n",
        "    if (f(x_m)*f(a_0)<0):\n",
        "      b_0=x_m\n",
        "    else:\n",
        "      a_0=x_m\n",
        "    x_m=a_0+(b_0-a_0)/2\n",
        "  return (x_m)"
      ],
      "execution_count": 24,
      "outputs": []
    },
    {
      "cell_type": "code",
      "metadata": {
        "colab": {
          "base_uri": "https://localhost:8080/"
        },
        "id": "m-F38OsqTCTE",
        "outputId": "8529db70-d6e2-49d2-f0a6-52ff8275f6fb"
      },
      "source": [
        "import math\n",
        "bisection(math.cos,0.025,math.pi-.0001)"
      ],
      "execution_count": 23,
      "outputs": [
        {
          "output_type": "execute_result",
          "data": {
            "text/plain": [
              "1.5707961202997183"
            ]
          },
          "metadata": {},
          "execution_count": 23
        }
      ]
    },
    {
      "cell_type": "code",
      "metadata": {
        "id": "beOLheKJSlZa"
      },
      "source": [
        "def Newton(f, fprime, x_0,tol_x=0,tol_f=10**(-6)):\n",
        "  #Input: f, f', x_0,\n",
        "  #         tol_x: Tolerancia del tamaño del intervalo (default=0)\n",
        "  #         tol_f: Tolerancia, criterio de paro (default=10^{-6})\n",
        "  if(fprime(x_0)==0):\n",
        "    return('considere otro valor inicial')\n",
        "  else: x_1=x_0+f(x_0)/fprime(x_0)\n",
        "  while (abs(f(x_1))>tol_f) & (abs(x_0-x_1)>tol_x):\n",
        "    if(fprime(x_1)==0): \n",
        "      break\n",
        "    else:\n",
        "      x_0=x_1\n",
        "      x_1=x_0-f(x_0)/fprime(x_0)\n",
        "  return x_1"
      ],
      "execution_count": 25,
      "outputs": []
    },
    {
      "cell_type": "code",
      "metadata": {
        "colab": {
          "base_uri": "https://localhost:8080/"
        },
        "id": "yARtMcvjWj9C",
        "outputId": "098d51c3-2ef8-4a1a-da2a-a924c244792c"
      },
      "source": [
        "Newton(math.sin,math.cos,3.1,tol_x=0.00001,tol_f=0.000001)"
      ],
      "execution_count": 26,
      "outputs": [
        {
          "output_type": "execute_result",
          "data": {
            "text/plain": [
              "3.141592653587413"
            ]
          },
          "metadata": {},
          "execution_count": 26
        }
      ]
    },
    {
      "cell_type": "code",
      "metadata": {
        "id": "o3l54NTlX7S6"
      },
      "source": [
        "def secant(f,x_0,x_1,tol_x=0,tol_f=10**(-6)):\n",
        "  #Input: f, \n",
        "  #         x_0, x_1: Aproximaciones iniciales.\n",
        "  #         tol_x: Tolerancia del tamaño del intervalo (default=0)\n",
        "  #         tol_f: Tolerancia, criterio de paro (default=10^{-6})\n",
        "  while (abs(f(x_1))>tol_f) & (abs(x_0-x_1)>tol_x):\n",
        "    x_aux=x_1\n",
        "    x_1=(x_0*f(x_1)-x_1*f(x_0))/(f(x_1)-f(x_0))\n",
        "    x_0=x_aux\n",
        "  return x_1"
      ],
      "execution_count": 27,
      "outputs": []
    },
    {
      "cell_type": "code",
      "metadata": {
        "id": "CVu8gbHsQXAP",
        "colab": {
          "base_uri": "https://localhost:8080/"
        },
        "outputId": "f9e04d5b-7455-4d36-bbbf-ac0f6879ee60"
      },
      "source": [
        "secant(math.sin,-math.pi/2+0.05,math.pi/3)"
      ],
      "execution_count": null,
      "outputs": [
        {
          "output_type": "execute_result",
          "data": {
            "text/plain": [
              "8.049693470823058e-09"
            ]
          },
          "metadata": {},
          "execution_count": 6
        }
      ]
    },
    {
      "cell_type": "code",
      "metadata": {
        "id": "92e0IyYxKOlG"
      },
      "source": [
        "def ejemplo1(x):\n",
        "  return(math.exp(x)+2**(-x)+2*math.cos(x)-6)\n",
        "def deriv_ejemplo1(x):\n",
        "  return(math.exp(x)-math.log(2)*(2**(-x))-2*math.sin(x))\n",
        "def ejemplo2(x):\n",
        "  return(math.log(x-1)+math.cos(x-1))\n",
        "def deriv_ejemplo2(x):\n",
        "  return(1/(x-1)-math.sin(x-1))"
      ],
      "execution_count": 65,
      "outputs": []
    },
    {
      "cell_type": "code",
      "metadata": {
        "colab": {
          "base_uri": "https://localhost:8080/"
        },
        "id": "NV2bQeNDK2Iv",
        "outputId": "db0b16a4-9585-4b98-ee17-8e5d9470bc83"
      },
      "source": [
        "x_b=bisection(ejemplo1,1,2)\n",
        "x_N=Newton(ejemplo1,deriv_ejemplo1,1.5)\n",
        "x_s=secant(ejemplo1,1,2)\n",
        "print('Bisection: ', x_b,'\\n','Newton: ', x_N,'\\n','Secant: ', x_s,)\n",
        "print('Function value-Bisection: ', ejemplo1(x_b),'\\n','Function value-Newton: ', ejemplo1(x_N),'\\n','Function value-Secant: ', ejemplo1(x_s),)"
      ],
      "execution_count": 31,
      "outputs": [
        {
          "output_type": "stream",
          "name": "stdout",
          "text": [
            "Bisection:  1.829383373260498 \n",
            " Newton:  1.8293836019359082 \n",
            " Secant:  1.8293834739842125\n",
            "Function value-Bisection:  -9.37903522846284e-07 \n",
            " Function value-Newton:  8.446576771348191e-12 \n",
            " Function value-Secant:  -5.24785351174728e-07\n"
          ]
        }
      ]
    },
    {
      "cell_type": "code",
      "metadata": {
        "colab": {
          "base_uri": "https://localhost:8080/"
        },
        "id": "gOG3kxacLwwa",
        "outputId": "3a4b1b16-4935-4979-bc06-65600cbdc829"
      },
      "source": [
        "#x_b=bisection(ejemplo2,1.3,2)\n",
        "x_N=Newton(ejemplo2,deriv_ejemplo2,1.31)\n",
        "x_N\n",
        "#x_s=secant(ejemplo2,1.3,2)\n",
        "#print('Bisection: ', x_b,'\\n','Newton: ', x_N,'\\n','Secant: ', x_s,)\n",
        "#print('Function value-Bisection: ', ejemplo2(x_b),'\\n','Function value-Newton: ', ejemplo2(x_N),'\\n','Function value-Secant: ', ejemplo2(x_s),)"
      ],
      "execution_count": 70,
      "outputs": [
        {
          "output_type": "execute_result",
          "data": {
            "text/plain": [
              "1.3977484753651963"
            ]
          },
          "metadata": {},
          "execution_count": 70
        }
      ]
    },
    {
      "cell_type": "code",
      "metadata": {
        "colab": {
          "base_uri": "https://localhost:8080/",
          "height": 282
        },
        "id": "VFpMHpWCPO66",
        "outputId": "98ede7f6-2e16-41b9-942c-3efc1755f4b0"
      },
      "source": [
        "x=np.arange(1.3,2,0.01)\n",
        "v_ejemplo2=np.vectorize(ejemplo2)\n",
        "v_deriv_ejemplo2=np.vectorize(deriv_ejemplo2)\n",
        "plt.plot(x,v_ejemplo2(x)/v_deriv_ejemplo2(x),x,x)\n",
        "plt.plot(x,v_deriv_ejemplo2(x))\n"
      ],
      "execution_count": 79,
      "outputs": [
        {
          "output_type": "execute_result",
          "data": {
            "text/plain": [
              "[<matplotlib.lines.Line2D at 0x7f5f7fb8cb10>]"
            ]
          },
          "metadata": {},
          "execution_count": 79
        },
        {
          "output_type": "display_data",
          "data": {
            "image/png": "[encoded data removed]",
            "text/plain": [
              "<Figure size 432x288 with 1 Axes>"
            ]
          },
          "metadata": {
            "needs_background": "light"
          }
        }
      ]
    },
    {
      "cell_type": "code",
      "metadata": {
        "id": "HQD4xCfRediC"
      },
      "source": [
        "def ejemplo3(x):\n",
        "  return (230*x**4 + 18*x**3 +9*x**2-221*x-9)\n",
        "def deriv_ejemplo3(x):\n",
        "  return(920*x**3+54*x**2+18*x-221)"
      ],
      "execution_count": 81,
      "outputs": []
    },
    {
      "cell_type": "code",
      "metadata": {
        "id": "M1NqQRJAe9NX",
        "outputId": "bfa7a5cd-0d07-4669-950d-d7bcaa4c1d55",
        "colab": {
          "base_uri": "https://localhost:8080/"
        }
      },
      "source": [
        "#Entre -1 y 0\n",
        "x_b=bisection(ejemplo3,-1,0)\n",
        "x_N=Newton(ejemplo3,deriv_ejemplo3,-0.5)\n",
        "x_s=secant(ejemplo3,-1,0)\n",
        "print('Bisection: ', x_b,'\\n','Newton: ', x_N,'\\n','Secant: ', x_s,)\n",
        "print('Function value-Bisection: ', ejemplo3(x_b),'\\n','Function value-Newton: ', ejemplo3(x_N),'\\n','Function value-Secant: ', ejemplo3(x_s),)"
      ],
      "execution_count": 85,
      "outputs": [
        {
          "output_type": "stream",
          "name": "stdout",
          "text": [
            "Bisection:  -0.040659286081790924 \n",
            " Newton:  -0.04065928831575888 \n",
            " Secant:  -0.040659288315725135\n",
            "Function value-Bisection:  -4.952806005320554e-07 \n",
            " Function value-Newton:  5.329070518200751e-15 \n",
            " Function value-Secant:  -7.478462293875054e-12\n"
          ]
        }
      ]
    },
    {
      "cell_type": "code",
      "metadata": {
        "id": "Z7W2Lcg6fN-7",
        "outputId": "76135eb1-79d9-45fc-ce69-b4b2c7389c38",
        "colab": {
          "base_uri": "https://localhost:8080/"
        }
      },
      "source": [
        "#Entre 0 y 1\n",
        "x_b=bisection(ejemplo3,0,1)\n",
        "x_N=Newton(ejemplo3,deriv_ejemplo3,0.5)\n",
        "x_s=secant(ejemplo3,0,1)\n",
        "print('Bisection: ', x_b,'\\n','Newton: ', x_N,'\\n','Secant: ', x_s,)\n",
        "print('Function value-Bisection: ', ejemplo3(x_b),'\\n','Function value-Newton: ', ejemplo3(x_N),'\\n','Function value-Secant: ', ejemplo3(x_s),)"
      ],
      "execution_count": 84,
      "outputs": [
        {
          "output_type": "stream",
          "name": "stdout",
          "text": [
            "Bisection:  0.9623984172940254 \n",
            " Newton:  0.9623984187970517 \n",
            " Secant:  -0.04065928831557161\n",
            "Function value-Bisection:  -9.706391495001299e-07 \n",
            " Function value-Newton:  3.0994954158813925e-08 \n",
            " Function value-Secant:  -4.1515235693623254e-11\n"
          ]
        }
      ]
    }
  ]
}