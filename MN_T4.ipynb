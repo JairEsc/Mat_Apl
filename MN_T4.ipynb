{
  "nbformat": 4,
  "nbformat_minor": 0,
  "metadata": {
    "colab": {
      "name": "Untitled14.ipynb",
      "provenance": [],
      "authorship_tag": "ABX9TyOYPAOgime+jriaUVgVyIBj",
      "include_colab_link": true
    },
    "kernelspec": {
      "name": "python3",
      "display_name": "Python 3"
    },
    "language_info": {
      "name": "python"
    }
  },
  "cells": [
    {
      "cell_type": "markdown",
      "metadata": {
        "id": "view-in-github",
        "colab_type": "text"
      },
      "source": [
        "<a href=\"https://colab.research.google.com/github/JairEsc/Mat_Apl/blob/main/MN_T4.ipynb\" target=\"_parent\"><img src=\"https://colab.research.google.com/assets/colab-badge.svg\" alt=\"Open In Colab\"/></a>"
      ]
    },
    {
      "cell_type": "markdown",
      "metadata": {
        "id": "VIq0bTtkv4zv"
      },
      "source": [
        "Bisection method."
      ]
    },
    {
      "cell_type": "code",
      "metadata": {
        "id": "6CTBO444QfU2"
      },
      "source": [
        "def bisection(f,a_0,b_0,tol_x=0,tol_f=10**(-6)):\n",
        "  # Input: f, [a,b], \n",
        "  #         tol_x: Tolerancia del tamaño del intervalo (default=0)\n",
        "  #         tol_f: Tolerancia, criterio de paro (default=10^{-6})\n",
        "  x_m=a_0+(b_0-a_0)/2\n",
        "  while (abs(f(x_m))>tol_f) & (abs(b_0-a_0)>tol_x):\n",
        "    if (f(x_m)*f(a_0)<0):\n",
        "      b_0=x_m\n",
        "    else:\n",
        "      a_0=x_m\n",
        "    x_m=a_0+(b_0-a_0)/2\n",
        "  return (x_m)"
      ],
      "execution_count": 2,
      "outputs": []
    },
    {
      "cell_type": "markdown",
      "metadata": {
        "id": "Ct6SRjpwwBzo"
      },
      "source": [
        "Example: sin(x) on [0.025, pi)"
      ]
    },
    {
      "cell_type": "code",
      "metadata": {
        "colab": {
          "base_uri": "https://localhost:8080/"
        },
        "id": "m-F38OsqTCTE",
        "outputId": "59e359bb-aea2-4a63-c6ac-6c2ca148f604"
      },
      "source": [
        "import math\n",
        "print('root approximation: ',bisection(math.cos,0.025,math.pi-.0001))"
      ],
      "execution_count": 3,
      "outputs": [
        {
          "output_type": "stream",
          "name": "stdout",
          "text": [
            "root approximation:  1.5707961202997183\n"
          ]
        }
      ]
    },
    {
      "cell_type": "markdown",
      "metadata": {
        "id": "0cg_ij_7wDXx"
      },
      "source": [
        "Newton method."
      ]
    },
    {
      "cell_type": "code",
      "metadata": {
        "id": "beOLheKJSlZa"
      },
      "source": [
        "def Newton(f, fprime, x_0,tol_x=0,tol_f=10**(-6),iter_max=10000):\n",
        "  #Input: f, f', x_0,\n",
        "  #         tol_x: Tolerancia del tamaño del intervalo (default=0)\n",
        "  #         tol_f: Tolerancia, criterio de paro (default=10^{-6})\n",
        "  if(fprime(x_0)==0):\n",
        "    return('considere otro valor inicial')\n",
        "  else: \n",
        "    x_1=x_0-f(x_0)/fprime(x_0)\n",
        "  iter=1\n",
        "  while (abs(f(x_1))>tol_f) & (abs(x_0-x_1)>tol_x) & (iter<iter_max):\n",
        "    if(fprime(x_1)==0): \n",
        "      break\n",
        "    else:\n",
        "      x_0=x_1\n",
        "      x_1=x_0-f(x_0)/fprime(x_0)\n",
        "      iter+=1\n",
        "  return x_1"
      ],
      "execution_count": 4,
      "outputs": []
    },
    {
      "cell_type": "markdown",
      "metadata": {
        "id": "79bPqB6swFXL"
      },
      "source": [
        "Example: sin(x), initial condition 3.1"
      ]
    },
    {
      "cell_type": "code",
      "metadata": {
        "colab": {
          "base_uri": "https://localhost:8080/"
        },
        "id": "yARtMcvjWj9C",
        "outputId": "6f4ee999-c087-4999-fecb-159b9f7c45c4"
      },
      "source": [
        "print('root approximation: ',Newton(math.sin,math.cos,3.1,tol_x=0.00001,tol_f=0.000001))"
      ],
      "execution_count": 5,
      "outputs": [
        {
          "output_type": "stream",
          "name": "stdout",
          "text": [
            "root approximation:  3.1415926535897887\n"
          ]
        }
      ]
    },
    {
      "cell_type": "markdown",
      "metadata": {
        "id": "mjVIp7cnwGx2"
      },
      "source": [
        "Secant method"
      ]
    },
    {
      "cell_type": "code",
      "metadata": {
        "id": "o3l54NTlX7S6"
      },
      "source": [
        "def secant(f,x_0,x_1,tol_x=0,tol_f=10**(-6)):\n",
        "  #Input: f, \n",
        "  #         x_0, x_1: Aproximaciones iniciales.\n",
        "  #         tol_x: Tolerancia del tamaño del intervalo (default=0)\n",
        "  #         tol_f: Tolerancia, criterio de paro (default=10^{-6})\n",
        "  while (abs(f(x_1))>tol_f) & (abs(x_0-x_1)>tol_x):\n",
        "    x_aux=x_1\n",
        "    x_1=(x_0*f(x_1)-x_1*f(x_0))/(f(x_1)-f(x_0))\n",
        "    x_0=x_aux\n",
        "  return x_1"
      ],
      "execution_count": 6,
      "outputs": []
    },
    {
      "cell_type": "markdown",
      "metadata": {
        "id": "h7tf3lGKwJzS"
      },
      "source": [
        "Example: sin(x) on [-pi/2,pi/3]."
      ]
    },
    {
      "cell_type": "code",
      "metadata": {
        "id": "CVu8gbHsQXAP",
        "colab": {
          "base_uri": "https://localhost:8080/"
        },
        "outputId": "87281a20-48f0-4e9a-85ee-ea73f12319b6"
      },
      "source": [
        "print('root approximation: ',secant(math.sin,-math.pi/2,math.pi/3))"
      ],
      "execution_count": 7,
      "outputs": [
        {
          "output_type": "stream",
          "name": "stdout",
          "text": [
            "root approximation:  1.521313143515061e-08\n"
          ]
        }
      ]
    },
    {
      "cell_type": "markdown",
      "metadata": {
        "id": "ulcfL3kkwbjc"
      },
      "source": [
        "Exercise 2"
      ]
    },
    {
      "cell_type": "code",
      "metadata": {
        "id": "92e0IyYxKOlG"
      },
      "source": [
        "def ejemplo1(x):\n",
        "  return(math.exp(x)+2**(-x)+2*math.cos(x)-6)\n",
        "def deriv_ejemplo1(x):\n",
        "  return(math.exp(x)-math.log(2)*(2**(-x))-2*math.sin(x))\n",
        "def ejemplo2(x):\n",
        "    return(math.log(x-1)+math.cos(x-1))\n",
        "def deriv_ejemplo2(x):\n",
        "  return(1/(x-1)-math.sin(x-1))"
      ],
      "execution_count": 8,
      "outputs": []
    },
    {
      "cell_type": "markdown",
      "metadata": {
        "id": "GrAtq3tqwukx"
      },
      "source": [
        "Function 1: f(x)=e^x+2^{-x}+2cos(x)-6."
      ]
    },
    {
      "cell_type": "code",
      "metadata": {
        "colab": {
          "base_uri": "https://localhost:8080/"
        },
        "id": "NV2bQeNDK2Iv",
        "outputId": "7b6a2a94-5b15-43b1-ad3a-7f4babefdae2"
      },
      "source": [
        "x_b=bisection(ejemplo1,1,2)\n",
        "x_N=Newton(ejemplo1,deriv_ejemplo1,1.5)\n",
        "x_s=secant(ejemplo1,1,2)\n",
        "print('Bisection: ', x_b,'\\n','Newton: ', x_N,'\\n','Secant: ', x_s,)\n",
        "print('Function value-Bisection: ', ejemplo1(x_b),'\\n','Function value-Newton: ', ejemplo1(x_N),'\\n','Function value-Secant: ', ejemplo1(x_s),)"
      ],
      "execution_count": 9,
      "outputs": [
        {
          "output_type": "stream",
          "name": "stdout",
          "text": [
            "Bisection:  1.829383373260498 \n",
            " Newton:  1.829383614494166 \n",
            " Secant:  1.8293834739842125\n",
            "Function value-Bisection:  -9.37903522846284e-07 \n",
            " Function value-Newton:  5.151613891030138e-08 \n",
            " Function value-Secant:  -5.24785351174728e-07\n"
          ]
        }
      ]
    },
    {
      "cell_type": "markdown",
      "metadata": {
        "id": "Mb9KFvCWxBgf"
      },
      "source": [
        "Function 2: f(x)=log(x-1)+cos(x-1)."
      ]
    },
    {
      "cell_type": "code",
      "metadata": {
        "colab": {
          "base_uri": "https://localhost:8080/"
        },
        "id": "gOG3kxacLwwa",
        "outputId": "36294a63-f546-4115-8829-3df3142b1130"
      },
      "source": [
        "x_b=bisection(ejemplo2,1.3,2)\n",
        "x_N=Newton(ejemplo2,deriv_ejemplo2,1.65)\n",
        "x_s=secant(ejemplo2,1.3,2)\n",
        "print('Bisection: ', x_b,'\\n','Newton: ', x_N,'\\n','Secant: ', x_s,)\n",
        "print('Function value-Bisection: ', ejemplo2(x_b),'\\n','Function value-Newton: ', ejemplo2(x_N),'\\n','Function value-Secant: ', ejemplo2(x_s),)"
      ],
      "execution_count": 10,
      "outputs": [
        {
          "output_type": "stream",
          "name": "stdout",
          "text": [
            "Bisection:  1.3977485656738282 \n",
            " Newton:  1.3977484759114591 \n",
            " Secant:  1.3977485079374574\n",
            "Function value-Bisection:  1.908067338574071e-07 \n",
            " Function value-Newton:  -1.005722172209289e-10 \n",
            " Function value-Secant:  6.801257712574227e-08\n"
          ]
        }
      ]
    },
    {
      "cell_type": "markdown",
      "metadata": {
        "id": "-VGYFqU-xxTs"
      },
      "source": [
        "Note about Newton method at function 2."
      ]
    },
    {
      "cell_type": "code",
      "metadata": {
        "colab": {
          "base_uri": "https://localhost:8080/",
          "height": 282
        },
        "id": "VFpMHpWCPO66",
        "outputId": "25512394-975c-4b74-f4b8-5497fcb626f6"
      },
      "source": [
        "import numpy as np\n",
        "import matplotlib.pyplot as plt\n",
        "\n",
        "x=np.arange(1.1,2.1,0.01)\n",
        "v_ejemplo2=np.vectorize(ejemplo2)\n",
        "v_deriv_ejemplo2=np.vectorize(deriv_ejemplo2)\n",
        "plt.plot(x,v_ejemplo2(x)/v_deriv_ejemplo2(x),x,x-1)\n",
        "plt.plot(x,v_deriv_ejemplo2(x))\n",
        "plt.legend(['g(x)',\"y=x-1\",\"f'(x)\"])"
      ],
      "execution_count": 11,
      "outputs": [
        {
          "output_type": "execute_result",
          "data": {
            "text/plain": [
              "<matplotlib.legend.Legend at 0x7fb2075b5050>"
            ]
          },
          "metadata": {},
          "execution_count": 11
        },
        {
          "output_type": "display_data",
          "data": {
            "image/png": "[encoded data removed]",
            "text/plain": [
              "<Figure size 432x288 with 1 Axes>"
            ]
          },
          "metadata": {
            "needs_background": "light"
          }
        }
      ]
    },
    {
      "cell_type": "markdown",
      "metadata": {
        "id": "y1R0d_ZpJTFr"
      },
      "source": [
        "Approximation to the point where f(x)/f'(x)=x-1:"
      ]
    },
    {
      "cell_type": "code",
      "metadata": {
        "colab": {
          "base_uri": "https://localhost:8080/"
        },
        "id": "4THBeBLu-48J",
        "outputId": "03b84dbb-cd14-47c3-c0a6-1fb4d56e20ae"
      },
      "source": [
        "def g(x):\n",
        "  return(ejemplo2(x)/deriv_ejemplo2(x)-x+1)\n",
        "intersection=bisection(g,1.3,2) ##This is where f(x)/f'(x)=x-1\n",
        "x_0=np.random.uniform(1.3,intersection)#For values of x<intersection, always will be a good approximation by Newton method.\n",
        "print(Newton(ejemplo2,deriv_ejemplo2,x_0))"
      ],
      "execution_count": 41,
      "outputs": [
        {
          "output_type": "stream",
          "name": "stdout",
          "text": [
            "1.3977484757911072\n"
          ]
        }
      ]
    },
    {
      "cell_type": "code",
      "metadata": {
        "colab": {
          "base_uri": "https://localhost:8080/",
          "height": 323
        },
        "id": "7DVGbunQKbHn",
        "outputId": "546dfe5c-9ebc-44ad-9b24-ae06c15e0bab"
      },
      "source": [
        "x_0=np.random.uniform(intersection,intersection+0.5)#For values of x<intersection, always will be a good approximation by Newton method.\n",
        "print(Newton(ejemplo2,deriv_ejemplo2,x_0)) #x_1<1, then f(x) is not defined or doesnt converge to the root\n"
      ],
      "execution_count": 49,
      "outputs": [
        {
          "output_type": "error",
          "ename": "ValueError",
          "evalue": "ignored",
          "traceback": [
            "\u001b[0;31m---------------------------------------------------------------------------\u001b[0m",
            "\u001b[0;31mValueError\u001b[0m                                Traceback (most recent call last)",
            "\u001b[0;32m<ipython-input-49-e3fcdf81c14d>\u001b[0m in \u001b[0;36m<module>\u001b[0;34m()\u001b[0m\n\u001b[1;32m      1\u001b[0m \u001b[0mx_0\u001b[0m\u001b[0;34m=\u001b[0m\u001b[0mnp\u001b[0m\u001b[0;34m.\u001b[0m\u001b[0mrandom\u001b[0m\u001b[0;34m.\u001b[0m\u001b[0muniform\u001b[0m\u001b[0;34m(\u001b[0m\u001b[0mintersection\u001b[0m\u001b[0;34m,\u001b[0m\u001b[0mintersection\u001b[0m\u001b[0;34m+\u001b[0m\u001b[0;36m0.5\u001b[0m\u001b[0;34m)\u001b[0m\u001b[0;31m#For values of x<intersection, always will be a good approximation by Newton method.\u001b[0m\u001b[0;34m\u001b[0m\u001b[0;34m\u001b[0m\u001b[0m\n\u001b[0;32m----> 2\u001b[0;31m \u001b[0mprint\u001b[0m\u001b[0;34m(\u001b[0m\u001b[0mNewton\u001b[0m\u001b[0;34m(\u001b[0m\u001b[0mejemplo2\u001b[0m\u001b[0;34m,\u001b[0m\u001b[0mderiv_ejemplo2\u001b[0m\u001b[0;34m,\u001b[0m\u001b[0mx_0\u001b[0m\u001b[0;34m)\u001b[0m\u001b[0;34m)\u001b[0m \u001b[0;31m#x_1<1, then f(x) is not defined or doesnt converge to the root\u001b[0m\u001b[0;34m\u001b[0m\u001b[0;34m\u001b[0m\u001b[0m\n\u001b[0m",
            "\u001b[0;32m<ipython-input-4-fb52ec6a2154>\u001b[0m in \u001b[0;36mNewton\u001b[0;34m(f, fprime, x_0, tol_x, tol_f, iter_max)\u001b[0m\n\u001b[1;32m      8\u001b[0m     \u001b[0mx_1\u001b[0m\u001b[0;34m=\u001b[0m\u001b[0mx_0\u001b[0m\u001b[0;34m-\u001b[0m\u001b[0mf\u001b[0m\u001b[0;34m(\u001b[0m\u001b[0mx_0\u001b[0m\u001b[0;34m)\u001b[0m\u001b[0;34m/\u001b[0m\u001b[0mfprime\u001b[0m\u001b[0;34m(\u001b[0m\u001b[0mx_0\u001b[0m\u001b[0;34m)\u001b[0m\u001b[0;34m\u001b[0m\u001b[0;34m\u001b[0m\u001b[0m\n\u001b[1;32m      9\u001b[0m   \u001b[0miter\u001b[0m\u001b[0;34m=\u001b[0m\u001b[0;36m1\u001b[0m\u001b[0;34m\u001b[0m\u001b[0;34m\u001b[0m\u001b[0m\n\u001b[0;32m---> 10\u001b[0;31m   \u001b[0;32mwhile\u001b[0m \u001b[0;34m(\u001b[0m\u001b[0mabs\u001b[0m\u001b[0;34m(\u001b[0m\u001b[0mf\u001b[0m\u001b[0;34m(\u001b[0m\u001b[0mx_1\u001b[0m\u001b[0;34m)\u001b[0m\u001b[0;34m)\u001b[0m\u001b[0;34m>\u001b[0m\u001b[0mtol_f\u001b[0m\u001b[0;34m)\u001b[0m \u001b[0;34m&\u001b[0m \u001b[0;34m(\u001b[0m\u001b[0mabs\u001b[0m\u001b[0;34m(\u001b[0m\u001b[0mx_0\u001b[0m\u001b[0;34m-\u001b[0m\u001b[0mx_1\u001b[0m\u001b[0;34m)\u001b[0m\u001b[0;34m>\u001b[0m\u001b[0mtol_x\u001b[0m\u001b[0;34m)\u001b[0m \u001b[0;34m&\u001b[0m \u001b[0;34m(\u001b[0m\u001b[0miter\u001b[0m\u001b[0;34m<\u001b[0m\u001b[0miter_max\u001b[0m\u001b[0;34m)\u001b[0m\u001b[0;34m:\u001b[0m\u001b[0;34m\u001b[0m\u001b[0;34m\u001b[0m\u001b[0m\n\u001b[0m\u001b[1;32m     11\u001b[0m     \u001b[0;32mif\u001b[0m\u001b[0;34m(\u001b[0m\u001b[0mfprime\u001b[0m\u001b[0;34m(\u001b[0m\u001b[0mx_1\u001b[0m\u001b[0;34m)\u001b[0m\u001b[0;34m==\u001b[0m\u001b[0;36m0\u001b[0m\u001b[0;34m)\u001b[0m\u001b[0;34m:\u001b[0m\u001b[0;34m\u001b[0m\u001b[0;34m\u001b[0m\u001b[0m\n\u001b[1;32m     12\u001b[0m       \u001b[0;32mbreak\u001b[0m\u001b[0;34m\u001b[0m\u001b[0;34m\u001b[0m\u001b[0m\n",
            "\u001b[0;32m<ipython-input-8-041b8b0d5637>\u001b[0m in \u001b[0;36mejemplo2\u001b[0;34m(x)\u001b[0m\n\u001b[1;32m      4\u001b[0m   \u001b[0;32mreturn\u001b[0m\u001b[0;34m(\u001b[0m\u001b[0mmath\u001b[0m\u001b[0;34m.\u001b[0m\u001b[0mexp\u001b[0m\u001b[0;34m(\u001b[0m\u001b[0mx\u001b[0m\u001b[0;34m)\u001b[0m\u001b[0;34m-\u001b[0m\u001b[0mmath\u001b[0m\u001b[0;34m.\u001b[0m\u001b[0mlog\u001b[0m\u001b[0;34m(\u001b[0m\u001b[0;36m2\u001b[0m\u001b[0;34m)\u001b[0m\u001b[0;34m*\u001b[0m\u001b[0;34m(\u001b[0m\u001b[0;36m2\u001b[0m\u001b[0;34m**\u001b[0m\u001b[0;34m(\u001b[0m\u001b[0;34m-\u001b[0m\u001b[0mx\u001b[0m\u001b[0;34m)\u001b[0m\u001b[0;34m)\u001b[0m\u001b[0;34m-\u001b[0m\u001b[0;36m2\u001b[0m\u001b[0;34m*\u001b[0m\u001b[0mmath\u001b[0m\u001b[0;34m.\u001b[0m\u001b[0msin\u001b[0m\u001b[0;34m(\u001b[0m\u001b[0mx\u001b[0m\u001b[0;34m)\u001b[0m\u001b[0;34m)\u001b[0m\u001b[0;34m\u001b[0m\u001b[0;34m\u001b[0m\u001b[0m\n\u001b[1;32m      5\u001b[0m \u001b[0;32mdef\u001b[0m \u001b[0mejemplo2\u001b[0m\u001b[0;34m(\u001b[0m\u001b[0mx\u001b[0m\u001b[0;34m)\u001b[0m\u001b[0;34m:\u001b[0m\u001b[0;34m\u001b[0m\u001b[0;34m\u001b[0m\u001b[0m\n\u001b[0;32m----> 6\u001b[0;31m     \u001b[0;32mreturn\u001b[0m\u001b[0;34m(\u001b[0m\u001b[0mmath\u001b[0m\u001b[0;34m.\u001b[0m\u001b[0mlog\u001b[0m\u001b[0;34m(\u001b[0m\u001b[0mx\u001b[0m\u001b[0;34m-\u001b[0m\u001b[0;36m1\u001b[0m\u001b[0;34m)\u001b[0m\u001b[0;34m+\u001b[0m\u001b[0mmath\u001b[0m\u001b[0;34m.\u001b[0m\u001b[0mcos\u001b[0m\u001b[0;34m(\u001b[0m\u001b[0mx\u001b[0m\u001b[0;34m-\u001b[0m\u001b[0;36m1\u001b[0m\u001b[0;34m)\u001b[0m\u001b[0;34m)\u001b[0m\u001b[0;34m\u001b[0m\u001b[0;34m\u001b[0m\u001b[0m\n\u001b[0m\u001b[1;32m      7\u001b[0m \u001b[0;32mdef\u001b[0m \u001b[0mderiv_ejemplo2\u001b[0m\u001b[0;34m(\u001b[0m\u001b[0mx\u001b[0m\u001b[0;34m)\u001b[0m\u001b[0;34m:\u001b[0m\u001b[0;34m\u001b[0m\u001b[0;34m\u001b[0m\u001b[0m\n\u001b[1;32m      8\u001b[0m   \u001b[0;32mreturn\u001b[0m\u001b[0;34m(\u001b[0m\u001b[0;36m1\u001b[0m\u001b[0;34m/\u001b[0m\u001b[0;34m(\u001b[0m\u001b[0mx\u001b[0m\u001b[0;34m-\u001b[0m\u001b[0;36m1\u001b[0m\u001b[0;34m)\u001b[0m\u001b[0;34m-\u001b[0m\u001b[0mmath\u001b[0m\u001b[0;34m.\u001b[0m\u001b[0msin\u001b[0m\u001b[0;34m(\u001b[0m\u001b[0mx\u001b[0m\u001b[0;34m-\u001b[0m\u001b[0;36m1\u001b[0m\u001b[0;34m)\u001b[0m\u001b[0;34m)\u001b[0m\u001b[0;34m\u001b[0m\u001b[0;34m\u001b[0m\u001b[0m\n",
            "\u001b[0;31mValueError\u001b[0m: math domain error"
          ]
        }
      ]
    },
    {
      "cell_type": "code",
      "metadata": {
        "id": "fHc_EKlZWhNO",
        "outputId": "ce56a6b0-ef7c-449c-e2d0-5b6ca9aaa739",
        "colab": {
          "base_uri": "https://localhost:8080/"
        }
      },
      "source": [
        "print(x_0)"
      ],
      "execution_count": 44,
      "outputs": [
        {
          "output_type": "stream",
          "name": "stdout",
          "text": [
            "2.190371504051624\n"
          ]
        }
      ]
    },
    {
      "cell_type": "markdown",
      "metadata": {
        "id": "9lNFuDseKu_y"
      },
      "source": [
        "Exercise 3."
      ]
    },
    {
      "cell_type": "code",
      "metadata": {
        "id": "HQD4xCfRediC"
      },
      "source": [
        "def ejemplo3(x):\n",
        "  return (230*x**4 + 18*x**3 +9*x**2-221*x-9)\n",
        "def deriv_ejemplo3(x):\n",
        "  return(920*x**3+54*x**2+18*x-221)"
      ],
      "execution_count": 14,
      "outputs": []
    },
    {
      "cell_type": "code",
      "metadata": {
        "id": "M1NqQRJAe9NX",
        "colab": {
          "base_uri": "https://localhost:8080/"
        },
        "outputId": "4b7b8001-7151-43b2-d993-4df242f590f4"
      },
      "source": [
        "#Entre -1 y 0\n",
        "x_b=bisection(ejemplo3,-1,0,tol_f=0,tol_x=10**(-6))# Tomamos tol_f=0 de manera que no se tome como criterio de paro. (a menos que encontremos exactamente la raíz.)\n",
        "x_N=Newton(ejemplo3,deriv_ejemplo3,-0.5,tol_f=0,tol_x=10**(-6))\n",
        "x_s=secant(ejemplo3,-1,0,tol_f=0,tol_x=10**(-6))\n",
        "x_real=-0.0406592883158\n",
        "print('Bisection: ', x_b,'\\n','Newton: ', x_N,'\\n','Secant: ', x_s,)\n",
        "print('Function value-Bisection: ', ejemplo3(x_b),'\\n','Function value-Newton: ', ejemplo3(x_N),'\\n','Function value-Secant: ', ejemplo3(x_s),)\n",
        "print('Diference with real root: ','\\n''Dif-Bisection: ', abs(x_b-x_real),'\\n','Dif-Newton: ', abs(x_N-x_real),'\\n','Dif-Secant: ', abs(x_s-x_real),)"
      ],
      "execution_count": 37,
      "outputs": [
        {
          "output_type": "stream",
          "name": "stdout",
          "text": [
            "Bisection:  -0.040659427642822266 \n",
            " Newton:  -0.04065928831575899 \n",
            " Secant:  -0.040659288315725135\n",
            "Function value-Bisection:  3.0889428083824555e-05 \n",
            " Function value-Newton:  2.842170943040401e-14 \n",
            " Function value-Secant:  -7.478462293875054e-12\n",
            "Diference with real root:  \n",
            "Dif-Bisection:  1.3932702226659988e-07 \n",
            " Dif-Newton:  4.100886297209172e-14 \n",
            " Dif-Secant:  7.486372632925509e-14\n"
          ]
        }
      ]
    },
    {
      "cell_type": "code",
      "metadata": {
        "id": "Z7W2Lcg6fN-7",
        "colab": {
          "base_uri": "https://localhost:8080/"
        },
        "outputId": "594f8796-d1c2-4d00-c771-c4a0cff2358e"
      },
      "source": [
        "#Entre 0 y 1\n",
        "x_b=bisection(ejemplo3,0,1,tol_f=0,tol_x=10**(-6))\n",
        "x_N=Newton(ejemplo3,deriv_ejemplo3,0.5,tol_f=0,tol_x=10**(-6))\n",
        "x_s=secant(ejemplo3,0,1,tol_f=0,tol_x=10**(-6))\n",
        "x_real=0.9623984187505\n",
        "print('Bisection: ', x_b,'\\n','Newton: ', x_N,'\\n','Secant: ', x_s,)\n",
        "print('Function value-Bisection: ', ejemplo3(x_b),'\\n','Function value-Newton: ', ejemplo3(x_N),'\\n','Function value-Secant: ', ejemplo3(x_s),)\n",
        "print('Diference with real root: ','\\n''Dif-Bisection: ', abs(x_b-x_real),'\\n','Dif-Newton: ', abs(x_N-x_real),'\\n','Dif-Secant: ', abs(x_s-x_real),)"
      ],
      "execution_count": 36,
      "outputs": [
        {
          "output_type": "stream",
          "name": "stdout",
          "text": [
            "Bisection:  0.9623980522155762 \n",
            " Newton:  -0.040659288315758865 \n",
            " Secant:  -0.04065928831557161\n",
            "Function value-Bisection:  -0.0002442629657650741 \n",
            " Function value-Newton:  1.7763568394002505e-15 \n",
            " Function value-Secant:  -4.1515235693623254e-11\n",
            "Diference with real root:  \n",
            "Dif-Bisection:  3.665349238568538e-07 \n",
            " Dif-Newton:  1.003057707066259 \n",
            " Dif-Secant:  1.0030577070660716\n"
          ]
        }
      ]
    }
  ]
}