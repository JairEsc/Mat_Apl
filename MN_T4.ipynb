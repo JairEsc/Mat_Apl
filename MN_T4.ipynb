{
  "nbformat": 4,
  "nbformat_minor": 0,
  "metadata": {
    "colab": {
      "name": "Untitled14.ipynb",
      "provenance": [],
      "authorship_tag": "ABX9TyNk58hXu6tICmxtqJmLpuQV",
      "include_colab_link": true
    },
    "kernelspec": {
      "name": "python3",
      "display_name": "Python 3"
    },
    "language_info": {
      "name": "python"
    }
  },
  "cells": [
    {
      "cell_type": "markdown",
      "metadata": {
        "id": "view-in-github",
        "colab_type": "text"
      },
      "source": [
        "<a href=\"https://colab.research.google.com/github/JairEsc/Mat_Apl/blob/main/MN_T4.ipynb\" target=\"_parent\"><img src=\"https://colab.research.google.com/assets/colab-badge.svg\" alt=\"Open In Colab\"/></a>"
      ]
    },
    {
      "cell_type": "markdown",
      "metadata": {
        "id": "VIq0bTtkv4zv"
      },
      "source": [
        "Bisection method."
      ]
    },
    {
      "cell_type": "code",
      "metadata": {
        "id": "6CTBO444QfU2"
      },
      "source": [
        "def bisection(f,a_0,b_0,tol_x=0,tol_f=10**(-6)):\n",
        "  # Input: f, [a,b], \n",
        "  #         tol_x: Tolerancia del tamaño del intervalo (default=0)\n",
        "  #         tol_f: Tolerancia, criterio de paro (default=10^{-6})\n",
        "  x_m=a_0+(b_0-a_0)/2\n",
        "  while (abs(f(x_m))>tol_f) & (abs(b_0-a_0)>tol_x):\n",
        "    if (f(x_m)*f(a_0)<0):\n",
        "      b_0=x_m\n",
        "    else:\n",
        "      a_0=x_m\n",
        "    x_m=a_0+(b_0-a_0)/2\n",
        "  return (x_m)"
      ],
      "execution_count": 1,
      "outputs": []
    },
    {
      "cell_type": "markdown",
      "metadata": {
        "id": "Ct6SRjpwwBzo"
      },
      "source": [
        "Example: sin(x) on [0.025, pi)"
      ]
    },
    {
      "cell_type": "code",
      "metadata": {
        "colab": {
          "base_uri": "https://localhost:8080/"
        },
        "id": "m-F38OsqTCTE",
        "outputId": "4c345e22-f22d-4521-d575-f2b656575e44"
      },
      "source": [
        "import math\n",
        "print('root approximation: ',bisection(math.cos,0.025,math.pi-.0001))"
      ],
      "execution_count": 30,
      "outputs": [
        {
          "output_type": "stream",
          "name": "stdout",
          "text": [
            "root approximation:  1.5707961202997183\n"
          ]
        }
      ]
    },
    {
      "cell_type": "markdown",
      "metadata": {
        "id": "0cg_ij_7wDXx"
      },
      "source": [
        "Newton method."
      ]
    },
    {
      "cell_type": "code",
      "metadata": {
        "id": "beOLheKJSlZa"
      },
      "source": [
        "def Newton(f, fprime, x_0,tol_x=0,tol_f=10**(-6),iter_max=100):\n",
        "  #Input: f, f', x_0,\n",
        "  #         tol_x: Tolerancia del tamaño del intervalo (default=0)\n",
        "  #         tol_f: Tolerancia, criterio de paro (default=10^{-6})\n",
        "  if(fprime(x_0)==0):\n",
        "    return('considere otro valor inicial')\n",
        "  else: x_1=x_0+f(x_0)/fprime(x_0)\n",
        "  iter=1\n",
        "  while (abs(f(x_1))>tol_f) & (abs(x_0-x_1)>tol_x) & (iter<iter_max):\n",
        "    if(fprime(x_1)==0) | (iter>=iter_max): \n",
        "      return('err')\n",
        "    else:\n",
        "      x_0=x_1\n",
        "      x_1=x_0-f(x_0)/fprime(x_0)\n",
        "      iter+=1\n",
        "  return x_1"
      ],
      "execution_count": 27,
      "outputs": []
    },
    {
      "cell_type": "markdown",
      "metadata": {
        "id": "79bPqB6swFXL"
      },
      "source": [
        "Example: sin(x), initial condition 3.1"
      ]
    },
    {
      "cell_type": "code",
      "metadata": {
        "colab": {
          "base_uri": "https://localhost:8080/"
        },
        "id": "yARtMcvjWj9C",
        "outputId": "d1003971-1e9d-464a-ed31-4518e7f50cd9"
      },
      "source": [
        "print('root approximation: ',Newton(math.sin,math.cos,3.1,tol_x=0.00001,tol_f=0.000001))"
      ],
      "execution_count": 31,
      "outputs": [
        {
          "output_type": "stream",
          "name": "stdout",
          "text": [
            "root approximation:  3.141592653587413\n"
          ]
        }
      ]
    },
    {
      "cell_type": "markdown",
      "metadata": {
        "id": "mjVIp7cnwGx2"
      },
      "source": [
        "Secant method"
      ]
    },
    {
      "cell_type": "code",
      "metadata": {
        "id": "o3l54NTlX7S6"
      },
      "source": [
        "def secant(f,x_0,x_1,tol_x=0,tol_f=10**(-6)):\n",
        "  #Input: f, \n",
        "  #         x_0, x_1: Aproximaciones iniciales.\n",
        "  #         tol_x: Tolerancia del tamaño del intervalo (default=0)\n",
        "  #         tol_f: Tolerancia, criterio de paro (default=10^{-6})\n",
        "  while (abs(f(x_1))>tol_f) & (abs(x_0-x_1)>tol_x):\n",
        "    x_aux=x_1\n",
        "    x_1=(x_0*f(x_1)-x_1*f(x_0))/(f(x_1)-f(x_0))\n",
        "    x_0=x_aux\n",
        "  return x_1"
      ],
      "execution_count": 4,
      "outputs": []
    },
    {
      "cell_type": "markdown",
      "metadata": {
        "id": "h7tf3lGKwJzS"
      },
      "source": [
        "Example: sin(x) on [-pi/2,pi/3]."
      ]
    },
    {
      "cell_type": "code",
      "metadata": {
        "id": "CVu8gbHsQXAP",
        "colab": {
          "base_uri": "https://localhost:8080/"
        },
        "outputId": "d6953f32-bcea-47fc-adc4-f7ea584a6558"
      },
      "source": [
        "print('root approximation: ',secant(math.sin,-math.pi/2,math.pi/3))"
      ],
      "execution_count": 33,
      "outputs": [
        {
          "output_type": "stream",
          "name": "stdout",
          "text": [
            "root approximation:  1.521313143515061e-08\n"
          ]
        }
      ]
    },
    {
      "cell_type": "markdown",
      "metadata": {
        "id": "ulcfL3kkwbjc"
      },
      "source": [
        "Exercise 2"
      ]
    },
    {
      "cell_type": "code",
      "metadata": {
        "id": "92e0IyYxKOlG"
      },
      "source": [
        "def ejemplo1(x):\n",
        "  return(math.exp(x)+2**(-x)+2*math.cos(x)-6)\n",
        "def deriv_ejemplo1(x):\n",
        "  return(math.exp(x)-math.log(2)*(2**(-x))-2*math.sin(x))\n",
        "def ejemplo2(x):\n",
        "  return(math.log(x-1)+math.cos(x-1))\n",
        "def deriv_ejemplo2(x):\n",
        "  return(1/(x-1)-math.sin(x-1))"
      ],
      "execution_count": 5,
      "outputs": []
    },
    {
      "cell_type": "markdown",
      "metadata": {
        "id": "GrAtq3tqwukx"
      },
      "source": [
        "Function 1: f(x)=e^x+2^{-x}+2cos(x)-6."
      ]
    },
    {
      "cell_type": "code",
      "metadata": {
        "colab": {
          "base_uri": "https://localhost:8080/"
        },
        "id": "NV2bQeNDK2Iv",
        "outputId": "70669116-5623-459c-d52c-d9c6fe18c400"
      },
      "source": [
        "x_b=bisection(ejemplo1,1,2)\n",
        "x_N=Newton(ejemplo1,deriv_ejemplo1,1.5)\n",
        "x_s=secant(ejemplo1,1,2)\n",
        "print('Bisection: ', x_b,'\\n','Newton: ', x_N,'\\n','Secant: ', x_s,)\n",
        "print('Function value-Bisection: ', ejemplo1(x_b),'\\n','Function value-Newton: ', ejemplo1(x_N),'\\n','Function value-Secant: ', ejemplo1(x_s),)"
      ],
      "execution_count": 34,
      "outputs": [
        {
          "output_type": "stream",
          "name": "stdout",
          "text": [
            "Bisection:  1.829383373260498 \n",
            " Newton:  1.8293836019359082 \n",
            " Secant:  1.8293834739842125\n",
            "Function value-Bisection:  -9.37903522846284e-07 \n",
            " Function value-Newton:  8.446576771348191e-12 \n",
            " Function value-Secant:  -5.24785351174728e-07\n"
          ]
        }
      ]
    },
    {
      "cell_type": "markdown",
      "metadata": {
        "id": "Mb9KFvCWxBgf"
      },
      "source": [
        "Function 2: f(x)=log(x-1)+cos(x-1)."
      ]
    },
    {
      "cell_type": "code",
      "metadata": {
        "colab": {
          "base_uri": "https://localhost:8080/"
        },
        "id": "gOG3kxacLwwa",
        "outputId": "cd7eb91b-a8ad-4ed3-9737-40dd5a2ecfbf"
      },
      "source": [
        "x_b=bisection(ejemplo2,1.3,2)\n",
        "#x_N=Newton(ejemplo2,deriv_ejemplo2,1.65)\n",
        "x_s=secant(ejemplo2,1.3,2)\n",
        "print('Bisection: ', x_b,'\\n','Secant: ', x_s,)\n",
        "print('Function value-Bisection: ', ejemplo2(x_b),'\\n','Function value-Secant: ', ejemplo2(x_s),)"
      ],
      "execution_count": 42,
      "outputs": [
        {
          "output_type": "stream",
          "name": "stdout",
          "text": [
            "Bisection:  1.3977485656738282 \n",
            " Secant:  1.3977485079374574\n",
            "Function value-Bisection:  1.908067338574071e-07 \n",
            " Function value-Secant:  6.801257712574227e-08\n"
          ]
        }
      ]
    },
    {
      "cell_type": "markdown",
      "metadata": {
        "id": "-VGYFqU-xxTs"
      },
      "source": [
        "Note about Newton method at function 2."
      ]
    },
    {
      "cell_type": "code",
      "metadata": {
        "colab": {
          "base_uri": "https://localhost:8080/",
          "height": 282
        },
        "id": "VFpMHpWCPO66",
        "outputId": "45a9b775-f112-4742-9b9c-32d516fd72db"
      },
      "source": [
        "import numpy as np\n",
        "import matplotlib.pyplot as plt\n",
        "\n",
        "x=np.arange(1.1,2.1,0.01)\n",
        "v_ejemplo2=np.vectorize(ejemplo2)\n",
        "v_deriv_ejemplo2=np.vectorize(deriv_ejemplo2)\n",
        "plt.plot(x,v_ejemplo2(x)/v_deriv_ejemplo2(x),x,x)\n",
        "plt.plot(x,v_deriv_ejemplo2(x))\n",
        "plt.legend(['g(x)',\"Id(x)\",\"f'(x)\"])"
      ],
      "execution_count": 56,
      "outputs": [
        {
          "output_type": "execute_result",
          "data": {
            "text/plain": [
              "<matplotlib.legend.Legend at 0x7f5ce9261fd0>"
            ]
          },
          "metadata": {},
          "execution_count": 56
        },
        {
          "output_type": "display_data",
          "data": {
            "image/png": "[encoded data removed]",
            "text/plain": [
              "<Figure size 432x288 with 1 Axes>"
            ]
          },
          "metadata": {
            "needs_background": "light"
          }
        }
      ]
    },
    {
      "cell_type": "markdown",
      "metadata": {
        "id": "NSwZSLWIz4eb"
      },
      "source": [
        "Asume somehow we deduced there is a root x^* in a given interval, then consider 2 cases:\n",
        "case 1: x_0<x^*, there, g(x)<0 therefor x_1>x_0. That way, we can define a crescent succession as long as x_k<x_*. \n",
        "case 2: x_0>x^*, similarly, g(x)>0 then we can define a decrescent succession as long as x_k>x^*.\n",
        "In every step of Newton Method, we are in exactly one of the cases (or we are exactly at x_k=x^* which is what we want). So, the method will appoximate to the root as long as (1): there is not a cycle, i.e. exists x_N and T\\in \\mathbb{N}such that x_{N+T}=x_N\\neq x^x. Or (2): x_k eventually left the given interval.\n",
        "\n"
      ]
    },
    {
      "cell_type": "code",
      "metadata": {
        "id": "HQD4xCfRediC"
      },
      "source": [
        "def ejemplo3(x):\n",
        "  return (230*x**4 + 18*x**3 +9*x**2-221*x-9)\n",
        "def deriv_ejemplo3(x):\n",
        "  return(920*x**3+54*x**2+18*x-221)"
      ],
      "execution_count": null,
      "outputs": []
    },
    {
      "cell_type": "code",
      "metadata": {
        "id": "M1NqQRJAe9NX",
        "colab": {
          "base_uri": "https://localhost:8080/"
        },
        "outputId": "bfa7a5cd-0d07-4669-950d-d7bcaa4c1d55"
      },
      "source": [
        "#Entre -1 y 0\n",
        "x_b=bisection(ejemplo3,-1,0)\n",
        "x_N=Newton(ejemplo3,deriv_ejemplo3,-0.5)\n",
        "x_s=secant(ejemplo3,-1,0)\n",
        "print('Bisection: ', x_b,'\\n','Newton: ', x_N,'\\n','Secant: ', x_s,)\n",
        "print('Function value-Bisection: ', ejemplo3(x_b),'\\n','Function value-Newton: ', ejemplo3(x_N),'\\n','Function value-Secant: ', ejemplo3(x_s),)"
      ],
      "execution_count": null,
      "outputs": [
        {
          "output_type": "stream",
          "name": "stdout",
          "text": [
            "Bisection:  -0.040659286081790924 \n",
            " Newton:  -0.04065928831575888 \n",
            " Secant:  -0.040659288315725135\n",
            "Function value-Bisection:  -4.952806005320554e-07 \n",
            " Function value-Newton:  5.329070518200751e-15 \n",
            " Function value-Secant:  -7.478462293875054e-12\n"
          ]
        }
      ]
    },
    {
      "cell_type": "code",
      "metadata": {
        "id": "Z7W2Lcg6fN-7",
        "colab": {
          "base_uri": "https://localhost:8080/"
        },
        "outputId": "76135eb1-79d9-45fc-ce69-b4b2c7389c38"
      },
      "source": [
        "#Entre 0 y 1\n",
        "x_b=bisection(ejemplo3,0,1)\n",
        "x_N=Newton(ejemplo3,deriv_ejemplo3,0.5)\n",
        "x_s=secant(ejemplo3,0,1)\n",
        "print('Bisection: ', x_b,'\\n','Newton: ', x_N,'\\n','Secant: ', x_s,)\n",
        "print('Function value-Bisection: ', ejemplo3(x_b),'\\n','Function value-Newton: ', ejemplo3(x_N),'\\n','Function value-Secant: ', ejemplo3(x_s),)"
      ],
      "execution_count": null,
      "outputs": [
        {
          "output_type": "stream",
          "name": "stdout",
          "text": [
            "Bisection:  0.9623984172940254 \n",
            " Newton:  0.9623984187970517 \n",
            " Secant:  -0.04065928831557161\n",
            "Function value-Bisection:  -9.706391495001299e-07 \n",
            " Function value-Newton:  3.0994954158813925e-08 \n",
            " Function value-Secant:  -4.1515235693623254e-11\n"
          ]
        }
      ]
    }
  ]
}