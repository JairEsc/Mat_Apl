{
  "nbformat": 4,
  "nbformat_minor": 0,
  "metadata": {
    "colab": {
      "name": "Untitled14.ipynb",
      "provenance": [],
      "authorship_tag": "ABX9TyMr0g0Ie9h0eGS/PHaQp6bc",
      "include_colab_link": true
    },
    "kernelspec": {
      "name": "python3",
      "display_name": "Python 3"
    },
    "language_info": {
      "name": "python"
    }
  },
  "cells": [
    {
      "cell_type": "markdown",
      "metadata": {
        "id": "view-in-github",
        "colab_type": "text"
      },
      "source": [
        "<a href=\"https://colab.research.google.com/github/JairEsc/Mat_Apl/blob/main/MN_T4.ipynb\" target=\"_parent\"><img src=\"https://colab.research.google.com/assets/colab-badge.svg\" alt=\"Open In Colab\"/></a>"
      ]
    },
    {
      "cell_type": "code",
      "metadata": {
        "id": "CVu8gbHsQXAP"
      },
      "source": [
        ""
      ],
      "execution_count": null,
      "outputs": []
    },
    {
      "cell_type": "code",
      "metadata": {
        "id": "6CTBO444QfU2"
      },
      "source": [
        "def bisection(f,a_0,b_0,tol_x=0,tol_f=10**-6):\n",
        "  x_m=a_0+(b_0-a_0)/2\n",
        "  while (abs(f(x_m))>tol_f) & (abs(b_0-a_0)>tol_x):\n",
        "    if (f(x_m)*f(a)<0):\n",
        "      b_0=x_m\n",
        "    else:\n",
        "      a_0=x_m\n",
        "    x_m=a_0+(b_0-a_0)/2\n",
        "  return (x_m)"
      ],
      "execution_count": 1,
      "outputs": []
    }
  ]
}