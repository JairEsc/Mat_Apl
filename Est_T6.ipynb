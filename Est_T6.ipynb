{
  "nbformat": 4,
  "nbformat_minor": 0,
  "metadata": {
    "colab": {
      "name": "Untitled87.ipynb",
      "provenance": [],
      "authorship_tag": "ABX9TyMmqk3kGBsHdgfhKRsplkwj",
      "include_colab_link": true
    },
    "kernelspec": {
      "name": "python3",
      "display_name": "Python 3"
    },
    "language_info": {
      "name": "python"
    }
  },
  "cells": [
    {
      "cell_type": "markdown",
      "metadata": {
        "id": "view-in-github",
        "colab_type": "text"
      },
      "source": [
        "<a href=\"https://colab.research.google.com/github/JairEsc/Mat_Apl/blob/main/Est_T6.ipynb\" target=\"_parent\"><img src=\"https://colab.research.google.com/assets/colab-badge.svg\" alt=\"Open In Colab\"/></a>"
      ]
    },
    {
      "cell_type": "code",
      "execution_count": 28,
      "metadata": {
        "colab": {
          "base_uri": "https://localhost:8080/",
          "height": 298
        },
        "id": "8ccVQJpEeSre",
        "outputId": "c1246eb4-ce54-4aef-e19a-2413f30b16a7"
      },
      "outputs": [
        {
          "output_type": "execute_result",
          "data": {
            "text/plain": [
              "Text(0.5, 1.0, 'Comparación')"
            ]
          },
          "metadata": {},
          "execution_count": 28
        },
        {
          "output_type": "display_data",
          "data": {
            "image/png": "[encoded data removed]",
            "text/plain": [
              "<Figure size 432x288 with 1 Axes>"
            ]
          },
          "metadata": {
            "needs_background": "light"
          }
        }
      ],
      "source": [
        "import numpy as np\n",
        "import matplotlib.pyplot as plt\n",
        "a=1\n",
        "b=3\n",
        "n=10\n",
        "def tau(X):\n",
        "    return 0.5*(min(X)+max(X))\n",
        "np.random.seed(0)\n",
        "MSE_arr=[]\n",
        "for W in range(100):#100 simulaciones\n",
        "    T=[]\n",
        "    for B in range(100):#100 muestras de tamaño n\n",
        "        U=np.random.uniform(a,b,size=n)\n",
        "        T.append(tau(U))\n",
        "    MSE_value=np.mean(np.array(T)**2-(np.mean(T))**2)#MSE de una simulacion.\n",
        "    MSE_arr.append(MSE_value)\n",
        "plt.plot(MSE_arr,'b.',label='MSE estimations')\n",
        "plt.plot(range(len(MSE_arr)),[(b-a)**2/(12*n)]*len(MSE_arr),'g',label='MSE of plug-in true value')\n",
        "plt.legend(framealpha=1, frameon=True);\n",
        "plt.title('Comparación')\n"
      ]
    },
    {
      "cell_type": "code",
      "source": [
        ""
      ],
      "metadata": {
        "colab": {
          "base_uri": "https://localhost:8080/"
        },
        "id": "x5j3VJremlPh",
        "outputId": "7e2000a6-c2d7-4460-b4a8-d8ef475d58cb"
      },
      "execution_count": 11,
      "outputs": [
        {
          "output_type": "execute_result",
          "data": {
            "text/plain": [
              "0.033489"
            ]
          },
          "metadata": {},
          "execution_count": 11
        }
      ]
    },
    {
      "cell_type": "code",
      "source": [
        "(b-a)**2/(12*n)"
      ],
      "metadata": {
        "colab": {
          "base_uri": "https://localhost:8080/"
        },
        "id": "kIm53-_Sgblm",
        "outputId": "a59224ac-3079-4195-8554-36c75476fc5e"
      },
      "execution_count": 16,
      "outputs": [
        {
          "output_type": "execute_result",
          "data": {
            "text/plain": [
              "0.03333333333333333"
            ]
          },
          "metadata": {},
          "execution_count": 16
        }
      ]
    }
  ]
}