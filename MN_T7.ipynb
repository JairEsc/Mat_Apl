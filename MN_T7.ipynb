{
  "nbformat": 4,
  "nbformat_minor": 0,
  "metadata": {
    "colab": {
      "name": "Untitled20.ipynb",
      "provenance": [],
      "authorship_tag": "ABX9TyPahGuVfbc5FIvlPlXLZ+jh",
      "include_colab_link": true
    },
    "kernelspec": {
      "name": "python3",
      "display_name": "Python 3"
    },
    "language_info": {
      "name": "python"
    }
  },
  "cells": [
    {
      "cell_type": "markdown",
      "metadata": {
        "id": "view-in-github",
        "colab_type": "text"
      },
      "source": [
        "<a href=\"https://colab.research.google.com/github/JairEsc/Mat_Apl/blob/main/MN_T7.ipynb\" target=\"_parent\"><img src=\"https://colab.research.google.com/assets/colab-badge.svg\" alt=\"Open In Colab\"/></a>"
      ]
    },
    {
      "cell_type": "code",
      "metadata": {
        "id": "VgIjWVyOOfRf"
      },
      "source": [
        "import numpy as np\n",
        "def factorizar_LU(matriz):\n",
        "    n=len(matriz)\n",
        "    L=np.zeros_like(matriz)\n",
        "    U=np.zeros_like(matriz)\n",
        "    for m in range(n):\n",
        "        U[m][m]=1\n",
        "    for j in range(n):\n",
        "        for i in range(j):\n",
        "            sum=0\n",
        "            for k in range(i):\n",
        "                sum+=L[i][k]*U[k][j]\n",
        "            U[i][j]=(matriz[i][j]-sum)/L[i][i]\n",
        "        for i in range(j,n):\n",
        "            sum=0\n",
        "            for k in range(j):\n",
        "                sum+=L[i][k]*U[k][j]\n",
        "            L[i][j]=matriz[i][j]-sum\n",
        "        \n",
        "    return([L,U])"
      ],
      "execution_count": 23,
      "outputs": []
    },
    {
      "cell_type": "code",
      "metadata": {
        "id": "laPES8clQlcM",
        "outputId": "48c16e0c-c2f5-4667-86fa-10ee33ba2b5a",
        "colab": {
          "base_uri": "https://localhost:8080/"
        }
      },
      "source": [
        "matriz=[\n",
        "[8, 2, 9],\n",
        "[4, 9, 4],\n",
        "[6, 7, 9]]\n",
        "L,U=factorizar_LU(matriz)\n",
        "print(L,'\\n \\n',U)\n",
        "n=len(matriz)\n",
        "\n",
        "print('L:',L)\n",
        "print(U)\n",
        "np.dot(L,U)"
      ],
      "execution_count": 24,
      "outputs": [
        {
          "output_type": "stream",
          "name": "stdout",
          "text": [
            "[[8 0 0]\n",
            " [4 9 0]\n",
            " [6 7 3]] \n",
            " \n",
            " [[1 0 1]\n",
            " [0 1 0]\n",
            " [0 0 1]]\n",
            "L: [[8 0 0]\n",
            " [4 9 0]\n",
            " [6 7 3]]\n",
            "[[1 0 1]\n",
            " [0 1 0]\n",
            " [0 0 1]]\n"
          ]
        },
        {
          "output_type": "execute_result",
          "data": {
            "text/plain": [
              "array([[8, 0, 8],\n",
              "       [4, 9, 4],\n",
              "       [6, 7, 9]])"
            ]
          },
          "metadata": {},
          "execution_count": 24
        }
      ]
    },
    {
      "cell_type": "code",
      "metadata": {
        "id": "GAfDmxrOJgoF",
        "outputId": "b7e5f15f-3e8a-474d-f31c-a2c5e53bbe53",
        "colab": {
          "base_uri": "https://localhost:8080/"
        }
      },
      "source": [
        "for k in range(1):\n",
        "    print(k)"
      ],
      "execution_count": 12,
      "outputs": [
        {
          "output_type": "stream",
          "name": "stdout",
          "text": [
            "0\n"
          ]
        }
      ]
    }
  ]
}