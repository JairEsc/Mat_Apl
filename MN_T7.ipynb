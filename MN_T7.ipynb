{
  "nbformat": 4,
  "nbformat_minor": 0,
  "metadata": {
    "colab": {
      "name": "Untitled20.ipynb",
      "provenance": [],
      "authorship_tag": "ABX9TyMOaTpplE987c23bcPcUph/",
      "include_colab_link": true
    },
    "kernelspec": {
      "name": "python3",
      "display_name": "Python 3"
    },
    "language_info": {
      "name": "python"
    }
  },
  "cells": [
    {
      "cell_type": "markdown",
      "metadata": {
        "id": "view-in-github",
        "colab_type": "text"
      },
      "source": [
        "<a href=\"https://colab.research.google.com/github/JairEsc/Mat_Apl/blob/main/MN_T7.ipynb\" target=\"_parent\"><img src=\"https://colab.research.google.com/assets/colab-badge.svg\" alt=\"Open In Colab\"/></a>"
      ]
    },
    {
      "cell_type": "code",
      "metadata": {
        "id": "VgIjWVyOOfRf"
      },
      "source": [
        "import numpy as np\n",
        "def factorizar_LU(matriz):\n",
        "    n=len(matriz)\n",
        "    L=np.zeros((n,n))\n",
        "    U=np.zeros((n,n))\n",
        "    for j in range(n):\n",
        "        for i in range(j,n):\n",
        "            sum=0\n",
        "            for k in range(i):\n",
        "                sum+=L[i][k]*U[k][j]\n",
        "            L[i][j]=matriz[i][j]-sum\n",
        "            \n",
        "            if(i>j):\n",
        "                sum=0\n",
        "                for k in range(j):\n",
        "                    sum+=L[j][k]*U[k][i]\n",
        "                U[j][i]=(matriz[j][i]-sum)/L[j][j]\n",
        "            else: \n",
        "                U[i][j]=1 \n",
        "                if(L[i][i]==0):\n",
        "                    return(\"\")\n",
        "    return([L,U])"
      ],
      "execution_count": 7,
      "outputs": []
    },
    {
      "cell_type": "code",
      "metadata": {
        "id": "YWbK16mDPGIW"
      },
      "source": [
        "def superior(list,b):\n",
        "  n=len(list)\n",
        "  X=[b[n-1]/list[n-1][n-1]]\n",
        "  X_inv=[X[0]]\n",
        "  for i in range(1,n):#len(list) es el número de renglones de la matriz\n",
        "    acum=0\n",
        "    for j in range(i):#0<=j<=i-1 \n",
        "      acum+=X[j]*list[n-i-1][n-1-j]\n",
        "    X.append((b[n-1-i]-acum)/list[n-1-i][n-1-i])\n",
        "    X_inv.insert(0,X[i])\n",
        "  return X_inv\n",
        "def inferior(list,b):#list debe contener las entradas de la matriz triangular.\n",
        "#Será aceptable introducir un arreglo de arreglos de distintos tamaños, para solo introducir las entradas no cero.\n",
        "  X=[b[0]/list[0][0]]\n",
        "  for i in range(1,len(list)):#len(list) es el número de renglones de la matriz\n",
        "    acum=0\n",
        "    for j in range(i):#0<=j<=i-1 \n",
        "      acum+=X[j]*list[i][j]\n",
        "    X.append((b[i]-acum)/list[i][i])\n",
        "  return X"
      ],
      "execution_count": 11,
      "outputs": []
    },
    {
      "cell_type": "code",
      "metadata": {
        "id": "uLDqc7BTP31G",
        "colab": {
          "base_uri": "https://localhost:8080/",
          "height": 35
        },
        "outputId": "553275c0-5587-4077-f283-b63fe51a50c0"
      },
      "source": [
        "m2=np.loadtxt(\"M_SMALL.txt\",skiprows=1)\n",
        "#b2=np.loadtxt(\"V_SMALL.txt\",skiprows=1)\n",
        "factorizar_LU(m2)"
      ],
      "execution_count": 10,
      "outputs": [
        {
          "output_type": "execute_result",
          "data": {
            "application/vnd.google.colaboratory.intrinsic+json": {
              "type": "string"
            },
            "text/plain": [
              "''"
            ]
          },
          "metadata": {},
          "execution_count": 10
        }
      ]
    },
    {
      "cell_type": "code",
      "metadata": {
        "id": "laPES8clQlcM",
        "colab": {
          "base_uri": "https://localhost:8080/"
        },
        "outputId": "18c8dd89-50d6-4ccf-be34-1296404851f1"
      },
      "source": [
        "m1=np.loadtxt(\"M_LARGE.txt\",skiprows=1)\n",
        "b1=np.loadtxt(\"V_LARGE.txt\",skiprows=1)\n",
        "L_m,U_m=factorizar_LU(m1)\n",
        "np.linalg.norm(np.dot(L_m,U_m)-m1)\n",
        "y=inferior(L_m,b1)\n",
        "x=superior(U_m,y)\n",
        "print(np.linalg.norm(x-np.linalg.solve(m1,b1)))"
      ],
      "execution_count": 16,
      "outputs": [
        {
          "output_type": "stream",
          "name": "stdout",
          "text": [
            "2.7571896676106323e-14\n"
          ]
        }
      ]
    },
    {
      "cell_type": "code",
      "metadata": {
        "id": "OZhu_SqjxfiI"
      },
      "source": [
        "def cholesky_LDLt(matriz):\n",
        "    n=len(matriz)\n",
        "    L=np.zeros((n,n))\n",
        "    D=np.zeros(n)\n",
        "    for j in range(n):\n",
        "        for i in range(j,n):\n",
        "            if(i==j):\n",
        "                sum=0\n",
        "                for k in range(j):\n",
        "                    sum+=D[k]*L[j][k]**2\n",
        "                D[j]=matriz[i][j]-sum  \n",
        "                L[i][j]=1\n",
        "            else:\n",
        "                sum=0\n",
        "                for k in range(j):\n",
        "                    sum+=L[i][k]*L[j][k]*D[k]\n",
        "                L[i][j]=(matriz[i][j]-sum)/(D[j])         \n",
        "    return ([L,D])\n",
        "   "
      ],
      "execution_count": null,
      "outputs": []
    },
    {
      "cell_type": "code",
      "metadata": {
        "id": "DKwC82zdQH8q",
        "colab": {
          "base_uri": "https://localhost:8080/"
        },
        "outputId": "38c74001-94a3-4718-9676-139a61bad357"
      },
      "source": [
        "from scipy import linalg\n",
        "linalg.lu(m2)"
      ],
      "execution_count": null,
      "outputs": [
        {
          "output_type": "execute_result",
          "data": {
            "text/plain": [
              "(array([[1., 0., 0., 0.],\n",
              "        [0., 0., 0., 1.],\n",
              "        [0., 1., 0., 0.],\n",
              "        [0., 0., 1., 0.]]),\n",
              " array([[ 1.        ,  0.        ,  0.        ,  0.        ],\n",
              "        [ 0.46610111,  1.        ,  0.        ,  0.        ],\n",
              "        [ 0.30886266,  0.62082104,  1.        ,  0.        ],\n",
              "        [ 0.5       , -0.        , -0.        ,  1.        ]]),\n",
              " array([[ 2.40282200e+00,  4.42523200e+00,  1.92937400e+00,\n",
              "          1.37035500e+00],\n",
              "        [ 0.00000000e+00, -1.09791854e+00,  1.15388864e+00,\n",
              "         -7.21499858e-02],\n",
              "        [ 0.00000000e+00,  0.00000000e+00, -7.45695939e-01,\n",
              "          1.31836874e+00],\n",
              "        [ 0.00000000e+00,  0.00000000e+00,  0.00000000e+00,\n",
              "          5.00000000e-07]]))"
            ]
          },
          "metadata": {},
          "execution_count": 18
        }
      ]
    },
    {
      "cell_type": "code",
      "metadata": {
        "id": "WYYsR_XBRAMC",
        "colab": {
          "base_uri": "https://localhost:8080/"
        },
        "outputId": "ce11ca07-e4fa-4929-b371-93df022f443f"
      },
      "source": [
        "N=[4,50,100]\n",
        "n=N[1]\n",
        "tri_diag=np.zeros((n,n))\n",
        "for j in range(n):\n",
        "    if j==0:\n",
        "        tri_diag[j][j]=2\n",
        "        tri_diag[j][j+1]=-1\n",
        "    if j==n-1:\n",
        "        tri_diag[j][j-1]=-1\n",
        "        tri_diag[j][j]=2\n",
        "    if (j>0):\n",
        "        if(j<n-1):\n",
        "            tri_diag[j][j]=2\n",
        "            tri_diag[j][j+1]=-1\n",
        "            tri_diag[j][j-1]=-1\n",
        "L,D=cholesky_LDLt(tri_diag)\n",
        "print(L)\n",
        "print(D)\n",
        "\n",
        "np.dot(L,np.dot(D,L.T))"
      ],
      "execution_count": null,
      "outputs": [
        {
          "output_type": "stream",
          "name": "stdout",
          "text": [
            "[[ 1.          0.          0.         ...  0.          0.\n",
            "   0.        ]\n",
            " [-0.5         1.          0.         ...  0.          0.\n",
            "   0.        ]\n",
            " [ 0.         -0.66666667  1.         ...  0.          0.\n",
            "   0.        ]\n",
            " ...\n",
            " [ 0.          0.          0.         ...  1.          0.\n",
            "   0.        ]\n",
            " [ 0.          0.          0.         ... -0.97959184  1.\n",
            "   0.        ]\n",
            " [ 0.          0.          0.         ...  0.         -0.98\n",
            "   1.        ]]\n",
            "[2.         1.5        1.33333333 1.25       1.2        1.16666667\n",
            " 1.14285714 1.125      1.11111111 1.1        1.09090909 1.08333333\n",
            " 1.07692308 1.07142857 1.06666667 1.0625     1.05882353 1.05555556\n",
            " 1.05263158 1.05       1.04761905 1.04545455 1.04347826 1.04166667\n",
            " 1.04       1.03846154 1.03703704 1.03571429 1.03448276 1.03333333\n",
            " 1.03225806 1.03125    1.03030303 1.02941176 1.02857143 1.02777778\n",
            " 1.02702703 1.02631579 1.02564103 1.025      1.02439024 1.02380952\n",
            " 1.02325581 1.02272727 1.02222222 1.02173913 1.0212766  1.02083333\n",
            " 1.02040816 1.02      ]\n"
          ]
        },
        {
          "output_type": "execute_result",
          "data": {
            "text/plain": [
              "array([ 2.00000000e+00, -5.00000000e-01,  1.66533454e-16, -5.55111512e-17,\n",
              "       -2.77555756e-16,  5.55111512e-17,  5.55111512e-17,  5.55111512e-17,\n",
              "        5.55111512e-17,  5.55111512e-17, -1.52655666e-16,  0.00000000e+00,\n",
              "        1.38777878e-17,  2.35922393e-16,  4.16333634e-17,  2.63677968e-16,\n",
              "       -1.59594560e-16,  4.16333634e-17,  2.77555756e-16, -1.87350135e-16,\n",
              "        3.46944695e-17,  1.52655666e-16,  2.70616862e-16,  1.59594560e-16,\n",
              "        2.08166817e-17,  1.04083409e-16, -9.02056208e-17, -2.77555756e-17,\n",
              "        1.38777878e-17, -1.52655666e-16,  1.11022302e-16,  1.66533454e-16,\n",
              "       -1.07552856e-16, -5.55111512e-17,  2.42861287e-17,  2.08166817e-17,\n",
              "       -1.59594560e-16,  1.45716772e-16, -1.59594560e-16,  1.04083409e-17,\n",
              "        1.17961196e-16,  1.28369537e-16,  1.42247325e-16, -4.16333634e-17,\n",
              "       -4.16333634e-17, -2.53269627e-16,  5.20417043e-17,  1.38777878e-17,\n",
              "        1.04083409e-16,  2.30408096e-16])"
            ]
          },
          "metadata": {},
          "execution_count": 61
        }
      ]
    },
    {
      "cell_type": "code",
      "metadata": {
        "id": "wymOuQ3lghzA"
      },
      "source": [
        ""
      ],
      "execution_count": null,
      "outputs": []
    }
  ]
}