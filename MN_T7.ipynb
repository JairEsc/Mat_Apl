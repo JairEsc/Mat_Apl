{
  "nbformat": 4,
  "nbformat_minor": 0,
  "metadata": {
    "colab": {
      "name": "Untitled20.ipynb",
      "provenance": [],
      "authorship_tag": "ABX9TyNHcu9CjlAPpuQUHFJR264I",
      "include_colab_link": true
    },
    "kernelspec": {
      "name": "python3",
      "display_name": "Python 3"
    },
    "language_info": {
      "name": "python"
    }
  },
  "cells": [
    {
      "cell_type": "markdown",
      "metadata": {
        "id": "view-in-github",
        "colab_type": "text"
      },
      "source": [
        "<a href=\"https://colab.research.google.com/github/JairEsc/Mat_Apl/blob/main/MN_T7.ipynb\" target=\"_parent\"><img src=\"https://colab.research.google.com/assets/colab-badge.svg\" alt=\"Open In Colab\"/></a>"
      ]
    },
    {
      "cell_type": "code",
      "metadata": {
        "id": "VgIjWVyOOfRf"
      },
      "source": [
        "import numpy as np\n",
        "def factorizar_LU(matriz):\n",
        "    n=len(matriz)\n",
        "    L=np.zeros((n,n))\n",
        "    U=np.zeros((n,n))\n",
        "    for j in range(n):\n",
        "        for i in range(j,n):\n",
        "            sum=0\n",
        "            for k in range(i):\n",
        "                sum+=L[i][k]*U[k][j]\n",
        "            L[i][j]=matriz[i][j]-sum\n",
        "            \n",
        "            if(i>j):\n",
        "                sum=0\n",
        "                for k in range(j):\n",
        "                    sum+=L[j][k]*U[k][i]\n",
        "                U[j][i]=(matriz[j][i]-sum)/L[j][j]\n",
        "            else: \n",
        "                U[i][j]=1 \n",
        "                if(L[i][i]==0):\n",
        "                    return(\"Error en la construcción de L\")\n",
        "    return([L,U])"
      ],
      "execution_count": 1,
      "outputs": []
    },
    {
      "cell_type": "code",
      "metadata": {
        "id": "YWbK16mDPGIW"
      },
      "source": [
        "def superior(list,b):\n",
        "  n=len(list)\n",
        "  X=[b[n-1]/list[n-1][n-1]]\n",
        "  X_inv=[X[0]]\n",
        "  for i in range(1,n):#len(list) es el número de renglones de la matriz\n",
        "    acum=0\n",
        "    for j in range(i):#0<=j<=i-1 \n",
        "      acum+=X[j]*list[n-i-1][n-1-j]\n",
        "    X.append((b[n-1-i]-acum)/list[n-1-i][n-1-i])\n",
        "    X_inv.insert(0,X[i])\n",
        "  return X_inv\n",
        "def inferior(list,b):#list debe contener las entradas de la matriz triangular.\n",
        "#Será aceptable introducir un arreglo de arreglos de distintos tamaños, para solo introducir las entradas no cero.\n",
        "  X=[b[0]/list[0][0]]\n",
        "  for i in range(1,len(list)):#len(list) es el número de renglones de la matriz\n",
        "    acum=0\n",
        "    for j in range(i):#0<=j<=i-1 \n",
        "      acum+=X[j]*list[i][j]\n",
        "    X.append((b[i]-acum)/list[i][i])\n",
        "  return X"
      ],
      "execution_count": 2,
      "outputs": []
    },
    {
      "cell_type": "code",
      "metadata": {
        "id": "laPES8clQlcM",
        "colab": {
          "base_uri": "https://localhost:8080/"
        },
        "outputId": "8f984953-c2f1-4108-fb7a-1674bdef9274"
      },
      "source": [
        "print(\"Ejercicio 1, Matriz 100x100\\n\")\n",
        "m1=np.loadtxt(\"M_LARGE.txt\",skiprows=1)\n",
        "b1=np.loadtxt(\"V_LARGE.txt\",skiprows=1)\n",
        "L_m,U_m=factorizar_LU(m1)#Descomposición\n",
        "np.linalg.norm(np.dot(L_m,U_m)-m1)#Verificar la descomposición\n",
        "y=inferior(L_m,b1)#Resolver Ly=b\n",
        "x=superior(U_m,y)#Resolver Ux=y\n",
        "print(\"Distancia entre las soluciones: \",np.linalg.norm(x-np.linalg.solve(m1,b1)))"
      ],
      "execution_count": 3,
      "outputs": [
        {
          "output_type": "stream",
          "name": "stdout",
          "text": [
            "Ejercicio 1, Matriz 100x100\n",
            "\n",
            "Distancia entre las soluciones:  2.7571896676106323e-14\n"
          ]
        }
      ]
    },
    {
      "cell_type": "code",
      "metadata": {
        "id": "uLDqc7BTP31G",
        "colab": {
          "base_uri": "https://localhost:8080/"
        },
        "outputId": "86ff70cb-1399-4e4b-e672-75198a7aacc7"
      },
      "source": [
        "print(\"Ejercicio 2, Matriz 4x4\\n\")\n",
        "m2=np.loadtxt(\"M_SMALL.txt\",skiprows=1)\n",
        "#b2=np.loadtxt(\"V_SMALL.txt\",skiprows=1)\n",
        "print(factorizar_LU(m2))\n",
        "print(m2[1][1]-m2[1][0]*m2[0][1]/m2[0][0])#Esto explica el error en la construcción.\n"
      ],
      "execution_count": 4,
      "outputs": [
        {
          "output_type": "stream",
          "name": "stdout",
          "text": [
            "Ejercicio 2, Matriz 4x4\n",
            "\n",
            "Error en la construcción de L\n",
            "0.0\n"
          ]
        }
      ]
    },
    {
      "cell_type": "code",
      "metadata": {
        "id": "OZhu_SqjxfiI"
      },
      "source": [
        "def cholesky_LDLt(matriz):\n",
        "    n=len(matriz)\n",
        "    L=np.zeros((n,n))\n",
        "    D=np.zeros(n)\n",
        "    for j in range(n):\n",
        "        for i in range(j,n):\n",
        "            if(i==j):\n",
        "                sum=0\n",
        "                for k in range(j):\n",
        "                    sum+=D[k]*L[j][k]**2\n",
        "                D[j]=matriz[i][j]-sum  \n",
        "                L[i][j]=1\n",
        "            else:\n",
        "                sum=0\n",
        "                for k in range(j):\n",
        "                    sum+=L[i][k]*L[j][k]*D[k]\n",
        "                L[i][j]=(matriz[i][j]-sum)/(D[j])         \n",
        "    return ([L,D])\n",
        "   "
      ],
      "execution_count": 5,
      "outputs": []
    },
    {
      "cell_type": "code",
      "metadata": {
        "id": "DKwC82zdQH8q",
        "colab": {
          "base_uri": "https://localhost:8080/"
        },
        "outputId": "d7915625-5b32-4fa2-cab3-4b640430e272"
      },
      "source": [
        "from scipy import linalg\n",
        "linalg.lu(m2)"
      ],
      "execution_count": 6,
      "outputs": [
        {
          "output_type": "execute_result",
          "data": {
            "text/plain": [
              "(array([[1., 0., 0., 0.],\n",
              "        [0., 0., 0., 1.],\n",
              "        [0., 1., 0., 0.],\n",
              "        [0., 0., 1., 0.]]),\n",
              " array([[ 1.        ,  0.        ,  0.        ,  0.        ],\n",
              "        [ 0.46610111,  1.        ,  0.        ,  0.        ],\n",
              "        [ 0.30886266,  0.62082104,  1.        ,  0.        ],\n",
              "        [ 0.5       , -0.        , -0.        ,  1.        ]]),\n",
              " array([[ 2.40282200e+00,  4.42523200e+00,  1.92937400e+00,\n",
              "          1.37035500e+00],\n",
              "        [ 0.00000000e+00, -1.09791854e+00,  1.15388864e+00,\n",
              "         -7.21499858e-02],\n",
              "        [ 0.00000000e+00,  0.00000000e+00, -7.45695939e-01,\n",
              "          1.31836874e+00],\n",
              "        [ 0.00000000e+00,  0.00000000e+00,  0.00000000e+00,\n",
              "          5.00000000e-07]]))"
            ]
          },
          "metadata": {},
          "execution_count": 6
        }
      ]
    },
    {
      "cell_type": "code",
      "metadata": {
        "id": "WYYsR_XBRAMC",
        "colab": {
          "base_uri": "https://localhost:8080/"
        },
        "outputId": "2d90c508-8c70-457e-8db9-095dc53d8871"
      },
      "source": [
        "print(\"Ejercicio 3, Matriz Tridiagonal \\n\")\n",
        "\n",
        "N=[4,50,100]#Tamaños\n",
        "n=N[0]\n",
        "tri_diag=np.zeros((n,n))\n",
        "for j in range(n):#Llenado de la matriz\n",
        "    if j==0:\n",
        "        tri_diag[j][j]=2\n",
        "        tri_diag[j][j+1]=-1\n",
        "    if j==n-1:\n",
        "        tri_diag[j][j-1]=-1\n",
        "        tri_diag[j][j]=2\n",
        "    if (j>0):\n",
        "        if(j<n-1):\n",
        "            tri_diag[j][j]=2\n",
        "            tri_diag[j][j+1]=-1\n",
        "            tri_diag[j][j-1]=-1\n",
        "L,D=cholesky_LDLt(tri_diag)#Descomposición\n",
        "D=np.diag(D)#La función regresa un arreglo con las entradas de la diagonal, no una matriz.\n",
        "fo = open(f\"L_\"+str(n)+\".txt\", \"w\")\n",
        "np.savetxt(fo, L, fmt='%1.2e', comments='')\n",
        "fo1 = open(f\"D_\"+str(n)+\".txt\", \"w\")\n",
        "np.savetxt(fo1, D, fmt='%1.2e', comments='')\n",
        "fo2 = open(f\"LT_\"+str(n)+\".txt\", \"w\")\n",
        "np.savetxt(fo2, L.T, fmt='%1.2e', comments='') \n",
        "fo.close()\n",
        "fo1.close()\n",
        "fo2.close()\n",
        "\n",
        "np.dot(L,np.dot(np.diag(D),L.T))#Verificar la descomposición. "
      ],
      "execution_count": 8,
      "outputs": [
        {
          "output_type": "stream",
          "name": "stdout",
          "text": [
            "Ejercicio 3, Matriz Tridiagonal \n",
            "\n"
          ]
        },
        {
          "output_type": "execute_result",
          "data": {
            "text/plain": [
              "array([ 2.00000000e+00, -5.00000000e-01,  1.66533454e-16, -5.55111512e-17])"
            ]
          },
          "metadata": {},
          "execution_count": 8
        }
      ]
    },
    {
      "cell_type": "code",
      "metadata": {
        "id": "wymOuQ3lghzA"
      },
      "source": [
        ""
      ],
      "execution_count": 7,
      "outputs": []
    }
  ]
}