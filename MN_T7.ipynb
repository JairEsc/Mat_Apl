{
  "nbformat": 4,
  "nbformat_minor": 0,
  "metadata": {
    "colab": {
      "name": "Untitled20.ipynb",
      "provenance": [],
      "authorship_tag": "ABX9TyNSzaU277lXcDEVeMipss5t",
      "include_colab_link": true
    },
    "kernelspec": {
      "name": "python3",
      "display_name": "Python 3"
    },
    "language_info": {
      "name": "python"
    }
  },
  "cells": [
    {
      "cell_type": "markdown",
      "metadata": {
        "id": "view-in-github",
        "colab_type": "text"
      },
      "source": [
        "<a href=\"https://colab.research.google.com/github/JairEsc/Mat_Apl/blob/main/MN_T7.ipynb\" target=\"_parent\"><img src=\"https://colab.research.google.com/assets/colab-badge.svg\" alt=\"Open In Colab\"/></a>"
      ]
    },
    {
      "cell_type": "code",
      "metadata": {
        "id": "Wv-rygKbuoro"
      },
      "source": [
        "def eliminacion_gaussiana_LU(matriz,b):\n",
        "  import numpy as np\n",
        "  id=np.identity(len(matriz))\n",
        "  for d in range(len(matriz)):\n",
        "    if(matriz[d][d]==0): return \"un cero apareció\"\n",
        "    for i in range(d+1,len(matriz)):\n",
        "      aux=(matriz[i][d]/matriz[d][d])\n",
        "      for j in range(d,len(matriz)):\n",
        "        matriz[i][j]+=-matriz[d][j]*(aux)\n",
        "        id[i][j]+=-id[d][j]*aux\n",
        "      b[i]+=-b[d]*(aux)\n",
        "  return [matriz,id]"
      ],
      "execution_count": null,
      "outputs": []
    },
    {
      "cell_type": "code",
      "metadata": {
        "id": "rnbptyB4usPN"
      },
      "source": [
        "import scipy\n",
        "import scipy.linalg \n",
        "matriz1=[[1,-2,-2,3],[3,-9,0,-9],[-1,2,4,7],[-3,-6,26,2]]\n",
        "matriz2=[[1,-2,-2,3],[3,-9,0,-9],[-1,2,4,7],[-3,-6,26,2]]\n",
        "b=[0,0,0,0]\n",
        "print(eliminacion_gaussiana_LU(matriz1,b))"
      ],
      "execution_count": null,
      "outputs": []
    }
  ]
}