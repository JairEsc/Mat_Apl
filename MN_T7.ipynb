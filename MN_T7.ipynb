{
  "nbformat": 4,
  "nbformat_minor": 0,
  "metadata": {
    "colab": {
      "name": "Untitled20.ipynb",
      "provenance": [],
      "authorship_tag": "ABX9TyNJB8zfNgBVMaNbn+oh4qv8",
      "include_colab_link": true
    },
    "kernelspec": {
      "name": "python3",
      "display_name": "Python 3"
    },
    "language_info": {
      "name": "python"
    }
  },
  "cells": [
    {
      "cell_type": "markdown",
      "metadata": {
        "id": "view-in-github",
        "colab_type": "text"
      },
      "source": [
        "<a href=\"https://colab.research.google.com/github/JairEsc/Mat_Apl/blob/main/MN_T7.ipynb\" target=\"_parent\"><img src=\"https://colab.research.google.com/assets/colab-badge.svg\" alt=\"Open In Colab\"/></a>"
      ]
    },
    {
      "cell_type": "code",
      "metadata": {
        "id": "VgIjWVyOOfRf"
      },
      "source": [
        "import numpy as np\n",
        "def factorizar_LU(matriz):\n",
        "    n=len(matriz)\n",
        "    L=np.zeros((n,n))\n",
        "    U=np.zeros((n,n))\n",
        "    for j in range(n):\n",
        "        for i in range(j,n):\n",
        "            sum=0\n",
        "            for k in range(i):\n",
        "                sum+=L[i][k]*U[k][j]\n",
        "            L[i][j]=matriz[i][j]-sum\n",
        "            \n",
        "            if(i>j):\n",
        "                sum=0\n",
        "                for k in range(j):\n",
        "                    sum+=L[j][k]*U[k][i]\n",
        "                U[j][i]=(matriz[j][i]-sum)/L[j][j]\n",
        "            else: U[i][j]=1  \n",
        "            \n",
        "    return([L,U])"
      ],
      "execution_count": 86,
      "outputs": []
    },
    {
      "cell_type": "code",
      "metadata": {
        "id": "OZhu_SqjxfiI"
      },
      "source": [
        "def cholesky_LDLt(matriz):\n",
        "    n=len(matriz)\n",
        "    L=np.zeros((n,n))\n",
        "    D=np.zeros(n)\n",
        "    for i in range(n):\n",
        "        for j in range(n):\n",
        "            if(i=j):\n",
        "                sum=0\n",
        "                for k in range(j):\n",
        "                    sum+=matriz[i][j]-D[k]*L[i][j]**2\n",
        "                D[i]=\n",
        "            else:\n",
        "                sum=0\n",
        "                for k in range(j):\n",
        "                    sum+=L[i][k]*L[j][k]*D[k]\n",
        "                L[i][j]=(matriz[i][j]-sum)/L[j][j]\n",
        "    return ([L,D])\n",
        "   "
      ],
      "execution_count": null,
      "outputs": []
    },
    {
      "cell_type": "code",
      "metadata": {
        "id": "laPES8clQlcM",
        "colab": {
          "base_uri": "https://localhost:8080/"
        },
        "outputId": "251d369b-3b5f-443b-e906-6aefb77c0a39"
      },
      "source": [
        "matriz=[\n",
        "[8, 2, 9],\n",
        "[4, 9, 4],\n",
        "[6, 7, 9]]\n",
        "L,U=factorizar_LU(matriz)\n",
        "n=len(matriz)\n",
        "\n",
        "print('L:',L)\n",
        "print(U)\n",
        "np.dot(L,U)"
      ],
      "execution_count": 87,
      "outputs": [
        {
          "output_type": "stream",
          "name": "stdout",
          "text": [
            "L: [[8.      0.      0.     ]\n",
            " [4.      8.      0.     ]\n",
            " [6.      5.5     2.59375]]\n",
            "[[ 1.      0.25    1.125 ]\n",
            " [ 0.      1.     -0.0625]\n",
            " [ 0.      0.      1.    ]]\n"
          ]
        },
        {
          "output_type": "execute_result",
          "data": {
            "text/plain": [
              "array([[8., 2., 9.],\n",
              "       [4., 9., 4.],\n",
              "       [6., 7., 9.]])"
            ]
          },
          "metadata": {},
          "execution_count": 87
        }
      ]
    },
    {
      "cell_type": "code",
      "metadata": {
        "id": "GAfDmxrOJgoF",
        "colab": {
          "base_uri": "https://localhost:8080/"
        },
        "outputId": "77122b01-b8a1-4da7-9c81-00a85cebdc73"
      },
      "source": [
        "import scipy.linalg\n",
        "scipy.linalg.lu(matriz,)"
      ],
      "execution_count": 34,
      "outputs": [
        {
          "output_type": "execute_result",
          "data": {
            "text/plain": [
              "(array([[1., 0., 0.],\n",
              "        [0., 1., 0.],\n",
              "        [0., 0., 1.]]), array([[1.    , 0.    , 0.    ],\n",
              "        [0.5   , 1.    , 0.    ],\n",
              "        [0.75  , 0.6875, 1.    ]]), array([[ 8.     ,  2.     ,  9.     ],\n",
              "        [ 0.     ,  8.     , -0.5    ],\n",
              "        [ 0.     ,  0.     ,  2.59375]]))"
            ]
          },
          "metadata": {},
          "execution_count": 34
        }
      ]
    }
  ]
}