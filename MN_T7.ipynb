{
  "nbformat": 4,
  "nbformat_minor": 0,
  "metadata": {
    "colab": {
      "name": "Untitled20.ipynb",
      "provenance": [],
      "authorship_tag": "ABX9TyNFyDys8FqHNZztLZ6mFHss",
      "include_colab_link": true
    },
    "kernelspec": {
      "name": "python3",
      "display_name": "Python 3"
    },
    "language_info": {
      "name": "python"
    }
  },
  "cells": [
    {
      "cell_type": "markdown",
      "metadata": {
        "id": "view-in-github",
        "colab_type": "text"
      },
      "source": [
        "<a href=\"https://colab.research.google.com/github/JairEsc/Mat_Apl/blob/main/MN_T7.ipynb\" target=\"_parent\"><img src=\"https://colab.research.google.com/assets/colab-badge.svg\" alt=\"Open In Colab\"/></a>"
      ]
    },
    {
      "cell_type": "code",
      "metadata": {
        "id": "VgIjWVyOOfRf"
      },
      "source": [
        "import numpy as np\n",
        "def factorizar_LU(matriz):\n",
        "    n=len(matriz)\n",
        "    L=np.zeros((n,n))\n",
        "    U=np.zeros((n,n))\n",
        "    for j in range(n):\n",
        "        for i in range(j,n):\n",
        "            sum=0\n",
        "            for k in range(i):\n",
        "                sum+=L[i][k]*U[k][j]\n",
        "            L[i][j]=matriz[i][j]-sum\n",
        "            \n",
        "            if(i>j):\n",
        "                sum=0\n",
        "                for k in range(j):\n",
        "                    sum+=L[j][k]*U[k][i]\n",
        "                U[j][i]=(matriz[j][i]-sum)/L[j][j]\n",
        "            else: U[i][j]=1  \n",
        "            \n",
        "    return([L,U])"
      ],
      "execution_count": 1,
      "outputs": []
    },
    {
      "cell_type": "code",
      "metadata": {
        "id": "OZhu_SqjxfiI"
      },
      "source": [
        "def cholesky_LDLt(matriz):\n",
        "    n=len(matriz)\n",
        "    L=np.zeros((n,n))\n",
        "    D=np.zeros(n)\n",
        "    for j in range(n):\n",
        "        for i in range(j,n):\n",
        "            if(i==j):\n",
        "                sum=0\n",
        "                for k in range(j):\n",
        "                    sum+=D[k]*L[j][k]**2\n",
        "                D[j]=matriz[i][j]-sum  \n",
        "                L[i][j]=1\n",
        "            else:\n",
        "                sum=0\n",
        "                for k in range(j):\n",
        "                    sum+=L[i][k]*L[j][k]*D[k]\n",
        "                L[i][j]=(matriz[i][j]-sum)/(D[j])         \n",
        "    return ([L,D])\n",
        "   "
      ],
      "execution_count": 8,
      "outputs": []
    },
    {
      "cell_type": "code",
      "metadata": {
        "id": "laPES8clQlcM",
        "colab": {
          "base_uri": "https://localhost:8080/"
        },
        "outputId": "b88c9e77-fb8b-44aa-bbb8-3b461f0ca44b"
      },
      "source": [
        "m1=np.loadtxt(\"M_LARGE.txt\",skiprows=1)\n",
        "b1=np.loadtxt(\"V_LARGE.txt\",skiprows=1)\n",
        "L_m,U_m=factorizar_LU(m1)\n",
        "np.linalg.norm(np.dot(L_m,U_m)-m1)"
      ],
      "execution_count": 14,
      "outputs": [
        {
          "output_type": "execute_result",
          "data": {
            "text/plain": [
              "1.830595838894773e-13"
            ]
          },
          "metadata": {},
          "execution_count": 14
        }
      ]
    },
    {
      "cell_type": "code",
      "metadata": {
        "id": "uLDqc7BTP31G",
        "outputId": "7ecd63e9-d871-4e38-eca2-ff4356614ec8",
        "colab": {
          "base_uri": "https://localhost:8080/"
        }
      },
      "source": [
        "m2=np.loadtxt(\"M_SMALL.txt\",skiprows=1)\n",
        "b2=np.loadtxt(\"V_SMALL.txt\",skiprows=1)\n",
        "L_m2,U_m2=factorizar_LU(m2)"
      ],
      "execution_count": 20,
      "outputs": [
        {
          "output_type": "stream",
          "name": "stderr",
          "text": [
            "/usr/local/lib/python3.7/dist-packages/ipykernel_launcher.py:17: RuntimeWarning: divide by zero encountered in double_scalars\n",
            "/usr/local/lib/python3.7/dist-packages/ipykernel_launcher.py:17: RuntimeWarning: invalid value encountered in double_scalars\n"
          ]
        }
      ]
    },
    {
      "cell_type": "code",
      "metadata": {
        "id": "DKwC82zdQH8q",
        "outputId": "38c74001-94a3-4718-9676-139a61bad357",
        "colab": {
          "base_uri": "https://localhost:8080/"
        }
      },
      "source": [
        "from scipy import linalg\n",
        "linalg.lu(m2)"
      ],
      "execution_count": 18,
      "outputs": [
        {
          "output_type": "execute_result",
          "data": {
            "text/plain": [
              "(array([[1., 0., 0., 0.],\n",
              "        [0., 0., 0., 1.],\n",
              "        [0., 1., 0., 0.],\n",
              "        [0., 0., 1., 0.]]),\n",
              " array([[ 1.        ,  0.        ,  0.        ,  0.        ],\n",
              "        [ 0.46610111,  1.        ,  0.        ,  0.        ],\n",
              "        [ 0.30886266,  0.62082104,  1.        ,  0.        ],\n",
              "        [ 0.5       , -0.        , -0.        ,  1.        ]]),\n",
              " array([[ 2.40282200e+00,  4.42523200e+00,  1.92937400e+00,\n",
              "          1.37035500e+00],\n",
              "        [ 0.00000000e+00, -1.09791854e+00,  1.15388864e+00,\n",
              "         -7.21499858e-02],\n",
              "        [ 0.00000000e+00,  0.00000000e+00, -7.45695939e-01,\n",
              "          1.31836874e+00],\n",
              "        [ 0.00000000e+00,  0.00000000e+00,  0.00000000e+00,\n",
              "          5.00000000e-07]]))"
            ]
          },
          "metadata": {},
          "execution_count": 18
        }
      ]
    },
    {
      "cell_type": "code",
      "metadata": {
        "id": "WYYsR_XBRAMC",
        "outputId": "19db3504-1980-4c64-f0c5-b6b738211234",
        "colab": {
          "base_uri": "https://localhost:8080/",
          "height": 622
        }
      },
      "source": [
        "N=[4,50,100]\n",
        "n=N[0]\n",
        "tri_diag=np.zeros((n,n))\n",
        "print(tri_diag)\n",
        "for j in range(n):\n",
        "    print(j)\n",
        "    if j==0:\n",
        "        tri_diag[j][j]=2\n",
        "        tri_diag[j][j+1]=-1\n",
        "    if j==n-1:\n",
        "        tri_diag[j][j-1]=-1\n",
        "        tri_diag[j][j]=2\n",
        "    if (j>0 & j<3):\n",
        "        print(j<3)\n",
        "        tri_diag[j][j]=2\n",
        "        tri_diag[j][j+1]=-1\n",
        "        tri_diag[j][j-1]=-1\n",
        "    print(tri_diag)\n",
        "print(tri_diag)"
      ],
      "execution_count": 49,
      "outputs": [
        {
          "output_type": "stream",
          "name": "stdout",
          "text": [
            "[[0. 0. 0. 0.]\n",
            " [0. 0. 0. 0.]\n",
            " [0. 0. 0. 0.]\n",
            " [0. 0. 0. 0.]]\n",
            "0\n",
            "[[ 2. -1.  0.  0.]\n",
            " [ 0.  0.  0.  0.]\n",
            " [ 0.  0.  0.  0.]\n",
            " [ 0.  0.  0.  0.]]\n",
            "1\n",
            "True\n",
            "[[ 2. -1.  0.  0.]\n",
            " [-1.  2. -1.  0.]\n",
            " [ 0.  0.  0.  0.]\n",
            " [ 0.  0.  0.  0.]]\n",
            "2\n",
            "True\n",
            "[[ 2. -1.  0.  0.]\n",
            " [-1.  2. -1.  0.]\n",
            " [ 0. -1.  2. -1.]\n",
            " [ 0.  0.  0.  0.]]\n",
            "3\n",
            "False\n"
          ]
        },
        {
          "output_type": "error",
          "ename": "IndexError",
          "evalue": "ignored",
          "traceback": [
            "\u001b[0;31m---------------------------------------------------------------------------\u001b[0m",
            "\u001b[0;31mIndexError\u001b[0m                                Traceback (most recent call last)",
            "\u001b[0;32m<ipython-input-49-549a802942c4>\u001b[0m in \u001b[0;36m<module>\u001b[0;34m()\u001b[0m\n\u001b[1;32m     14\u001b[0m         \u001b[0mprint\u001b[0m\u001b[0;34m(\u001b[0m\u001b[0mj\u001b[0m\u001b[0;34m<\u001b[0m\u001b[0;36m3\u001b[0m\u001b[0;34m)\u001b[0m\u001b[0;34m\u001b[0m\u001b[0;34m\u001b[0m\u001b[0m\n\u001b[1;32m     15\u001b[0m         \u001b[0mtri_diag\u001b[0m\u001b[0;34m[\u001b[0m\u001b[0mj\u001b[0m\u001b[0;34m]\u001b[0m\u001b[0;34m[\u001b[0m\u001b[0mj\u001b[0m\u001b[0;34m]\u001b[0m\u001b[0;34m=\u001b[0m\u001b[0;36m2\u001b[0m\u001b[0;34m\u001b[0m\u001b[0;34m\u001b[0m\u001b[0m\n\u001b[0;32m---> 16\u001b[0;31m         \u001b[0mtri_diag\u001b[0m\u001b[0;34m[\u001b[0m\u001b[0mj\u001b[0m\u001b[0;34m]\u001b[0m\u001b[0;34m[\u001b[0m\u001b[0mj\u001b[0m\u001b[0;34m+\u001b[0m\u001b[0;36m1\u001b[0m\u001b[0;34m]\u001b[0m\u001b[0;34m=\u001b[0m\u001b[0;34m-\u001b[0m\u001b[0;36m1\u001b[0m\u001b[0;34m\u001b[0m\u001b[0;34m\u001b[0m\u001b[0m\n\u001b[0m\u001b[1;32m     17\u001b[0m         \u001b[0mtri_diag\u001b[0m\u001b[0;34m[\u001b[0m\u001b[0mj\u001b[0m\u001b[0;34m]\u001b[0m\u001b[0;34m[\u001b[0m\u001b[0mj\u001b[0m\u001b[0;34m-\u001b[0m\u001b[0;36m1\u001b[0m\u001b[0;34m]\u001b[0m\u001b[0;34m=\u001b[0m\u001b[0;34m-\u001b[0m\u001b[0;36m1\u001b[0m\u001b[0;34m\u001b[0m\u001b[0;34m\u001b[0m\u001b[0m\n\u001b[1;32m     18\u001b[0m     \u001b[0mprint\u001b[0m\u001b[0;34m(\u001b[0m\u001b[0mtri_diag\u001b[0m\u001b[0;34m)\u001b[0m\u001b[0;34m\u001b[0m\u001b[0;34m\u001b[0m\u001b[0m\n",
            "\u001b[0;31mIndexError\u001b[0m: index 4 is out of bounds for axis 0 with size 4"
          ]
        }
      ]
    }
  ]
}