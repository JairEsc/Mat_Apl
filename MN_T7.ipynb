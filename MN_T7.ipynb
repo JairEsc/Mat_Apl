{
  "nbformat": 4,
  "nbformat_minor": 0,
  "metadata": {
    "colab": {
      "name": "Untitled20.ipynb",
      "provenance": [],
      "authorship_tag": "ABX9TyPYs/Jp3AnCOw9AgK3cVAMy",
      "include_colab_link": true
    },
    "kernelspec": {
      "name": "python3",
      "display_name": "Python 3"
    },
    "language_info": {
      "name": "python"
    }
  },
  "cells": [
    {
      "cell_type": "markdown",
      "metadata": {
        "id": "view-in-github",
        "colab_type": "text"
      },
      "source": [
        "<a href=\"https://colab.research.google.com/github/JairEsc/Mat_Apl/blob/main/MN_T7.ipynb\" target=\"_parent\"><img src=\"https://colab.research.google.com/assets/colab-badge.svg\" alt=\"Open In Colab\"/></a>"
      ]
    },
    {
      "cell_type": "code",
      "metadata": {
        "id": "VgIjWVyOOfRf"
      },
      "source": [
        "import numpy as np\n",
        "def factorizar_LU(matriz):\n",
        "    n=len(matriz)\n",
        "    L=np.zeros((n,n))\n",
        "    U=np.zeros((n,n))\n",
        "    for j in range(n):\n",
        "        for i in range(j,n):\n",
        "            sum=0\n",
        "            for k in range(i):\n",
        "                sum+=L[i][k]*U[k][j]\n",
        "            L[i][j]=matriz[i][j]-sum\n",
        "            \n",
        "            if(i>j):\n",
        "                sum=0\n",
        "                for k in range(j):\n",
        "                    sum+=L[j][k]*U[k][i]\n",
        "                U[j][i]=(matriz[j][i]-sum)/L[j][j]\n",
        "            else: \n",
        "                U[i][j]=1 \n",
        "                if(L[i][i]==0):\n",
        "                    return(\"Error en la construcción de L\")\n",
        "    return([L,U])"
      ],
      "execution_count": 1,
      "outputs": []
    },
    {
      "cell_type": "code",
      "metadata": {
        "id": "YWbK16mDPGIW"
      },
      "source": [
        "def superior(list,b):\n",
        "  n=len(list)\n",
        "  X=[b[n-1]/list[n-1][n-1]]\n",
        "  X_inv=[X[0]]\n",
        "  for i in range(1,n):#len(list) es el número de renglones de la matriz\n",
        "    acum=0\n",
        "    for j in range(i):#0<=j<=i-1 \n",
        "      acum+=X[j]*list[n-i-1][n-1-j]\n",
        "    X.append((b[n-1-i]-acum)/list[n-1-i][n-1-i])\n",
        "    X_inv.insert(0,X[i])\n",
        "  return X_inv\n",
        "def inferior(list,b):#list debe contener las entradas de la matriz triangular.\n",
        "#Será aceptable introducir un arreglo de arreglos de distintos tamaños, para solo introducir las entradas no cero.\n",
        "  X=[b[0]/list[0][0]]\n",
        "  for i in range(1,len(list)):#len(list) es el número de renglones de la matriz\n",
        "    acum=0\n",
        "    for j in range(i):#0<=j<=i-1 \n",
        "      acum+=X[j]*list[i][j]\n",
        "    X.append((b[i]-acum)/list[i][i])\n",
        "  return X"
      ],
      "execution_count": 2,
      "outputs": []
    },
    {
      "cell_type": "code",
      "metadata": {
        "id": "laPES8clQlcM",
        "colab": {
          "base_uri": "https://localhost:8080/"
        },
        "outputId": "be189891-d0ba-46e2-e073-dbce93215f25"
      },
      "source": [
        "print(\"Ejercicio 1, Matriz 100x100\\n\")\n",
        "m1=np.loadtxt(\"M_LARGE.txt\",skiprows=1)\n",
        "b1=np.loadtxt(\"V_LARGE.txt\",skiprows=1)\n",
        "L_m,U_m=factorizar_LU(m1)#Descomposición\n",
        "np.linalg.norm(np.dot(L_m,U_m)-m1)#Verificar la descomposición\n",
        "y=inferior(L_m,b1)#Resolver Ly=b\n",
        "x=superior(U_m,y)#Resolver Ux=y\n",
        "print(\"Distancia entre las soluciones: \",np.linalg.norm(x-np.linalg.solve(m1,b1)))"
      ],
      "execution_count": 3,
      "outputs": [
        {
          "output_type": "stream",
          "name": "stdout",
          "text": [
            "Ejercicio 1, Matriz 100x100\n",
            "\n",
            "Distancia entre las soluciones:  3.0799992768806395e-14\n"
          ]
        }
      ]
    },
    {
      "cell_type": "code",
      "metadata": {
        "id": "uLDqc7BTP31G",
        "colab": {
          "base_uri": "https://localhost:8080/"
        },
        "outputId": "8cd9c0e2-2258-49a2-ff82-e30db64c15c9"
      },
      "source": [
        "print(\"\\nEjercicio 2, Matriz 4x4\\n\")\n",
        "m2=np.loadtxt(\"M_SMALL.txt\",skiprows=1)\n",
        "#b2=np.loadtxt(\"V_SMALL.txt\",skiprows=1)\n",
        "print(factorizar_LU(m2))\n",
        "print(\"Valor de la entrada l_{22}: \",m2[1][1]-m2[1][0]*m2[0][1]/m2[0][0])#Esto explica el error en la construcción.\n"
      ],
      "execution_count": 4,
      "outputs": [
        {
          "output_type": "stream",
          "name": "stdout",
          "text": [
            "Ejercicio 2, Matriz 4x4\n",
            "\n",
            "Error en la construcción de L\n",
            "Valor de la entrada l_{22}:  0.0\n"
          ]
        }
      ]
    },
    {
      "cell_type": "code",
      "metadata": {
        "id": "OZhu_SqjxfiI"
      },
      "source": [
        "def cholesky_LDLt(matriz):\n",
        "    n=len(matriz)\n",
        "    L=np.zeros((n,n))\n",
        "    D=np.zeros(n)\n",
        "    for j in range(n):\n",
        "        for i in range(j,n):\n",
        "            if(i==j):\n",
        "                sum=0\n",
        "                for k in range(j):\n",
        "                    sum+=D[k]*L[j][k]**2\n",
        "                D[j]=matriz[i][j]-sum  \n",
        "                L[i][j]=1\n",
        "            else:\n",
        "                sum=0\n",
        "                for k in range(j):\n",
        "                    sum+=L[i][k]*L[j][k]*D[k]\n",
        "                L[i][j]=(matriz[i][j]-sum)/(D[j])         \n",
        "    return ([L,D])\n",
        "   "
      ],
      "execution_count": 5,
      "outputs": []
    },
    {
      "cell_type": "code",
      "metadata": {
        "id": "WYYsR_XBRAMC",
        "colab": {
          "base_uri": "https://localhost:8080/"
        },
        "outputId": "5773e6c5-cc26-4f6f-8a36-35878f493871"
      },
      "source": [
        "print(\"\\nEjercicio 3, Matriz Tridiagonal \\n\")\n",
        "for n in N:\n",
        "    N=[4,50,100]#Tamaños\n",
        "    tri_diag=np.zeros((n,n))\n",
        "    for j in range(n):#Llenado de la matriz\n",
        "        if j==0:\n",
        "            tri_diag[j][j]=2\n",
        "            tri_diag[j][j+1]=-1\n",
        "        if j==n-1:\n",
        "            tri_diag[j][j-1]=-1\n",
        "            tri_diag[j][j]=2\n",
        "        if (j>0):\n",
        "            if(j<n-1):\n",
        "                tri_diag[j][j]=2\n",
        "                tri_diag[j][j+1]=-1\n",
        "                tri_diag[j][j-1]=-1\n",
        "    L,D=cholesky_LDLt(tri_diag)#Descomposición\n",
        "    D=np.diag(D)#La función regresa un arreglo con las entradas de la diagonal, no una matriz.\n",
        "    fo = open(f\"L_\"+str(n)+\".txt\", \"w\")\n",
        "    np.savetxt(fo, L, fmt='%1.5e', comments='')\n",
        "    fo1 = open(f\"D_\"+str(n)+\".txt\", \"w\")\n",
        "    np.savetxt(fo1, D, fmt='%1.5e', comments='')\n",
        "    fo2 = open(f\"LT_\"+str(n)+\".txt\", \"w\")\n",
        "    np.savetxt(fo2, L.T, fmt='%1.5e', comments='') \n",
        "    fo.close()\n",
        "    fo1.close()\n",
        "    fo2.close()\n",
        "    if(n==4):\n",
        "        print(\"Producto de los factores de descomposición\\n\",np.dot(L,np.dot(D,L.T)))#Verificar la descomposición. "
      ],
      "execution_count": 16,
      "outputs": [
        {
          "output_type": "stream",
          "name": "stdout",
          "text": [
            "\n",
            "Ejercicio 3, Matriz Tridiagonal \n",
            "\n",
            "Producto de los factores de descomposición\n",
            " [[ 2. -1.  0.  0.]\n",
            " [-1.  2. -1.  0.]\n",
            " [ 0. -1.  2. -1.]\n",
            " [ 0.  0. -1.  2.]]\n"
          ]
        }
      ]
    }
  ]
}