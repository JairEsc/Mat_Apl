{
  "nbformat": 4,
  "nbformat_minor": 0,
  "metadata": {
    "colab": {
      "name": "Untitled1.ipynb",
      "provenance": [],
      "authorship_tag": "ABX9TyNMnoap5YLyzaQlC0nHn1HR",
      "include_colab_link": true
    },
    "kernelspec": {
      "name": "python3",
      "display_name": "Python 3"
    },
    "language_info": {
      "name": "python"
    }
  },
  "cells": [
    {
      "cell_type": "markdown",
      "metadata": {
        "id": "view-in-github",
        "colab_type": "text"
      },
      "source": [
        "<a href=\"https://colab.research.google.com/github/JairEsc/Mat_Apl/blob/main/texto_intro.ipynb\" target=\"_parent\"><img src=\"https://colab.research.google.com/assets/colab-badge.svg\" alt=\"Open In Colab\"/></a>"
      ]
    },
    {
      "cell_type": "markdown",
      "metadata": {
        "id": "TJvD0bhsDFy9"
      },
      "source": [
        "Cómo crear archivos de texto .txt desde python."
      ]
    },
    {
      "cell_type": "code",
      "metadata": {
        "id": "jhaCV_EQDJ-1"
      },
      "source": [
        "fo=open()"
      ],
      "execution_count": null,
      "outputs": []
    },
    {
      "cell_type": "markdown",
      "metadata": {
        "id": "gvEuhKcdFTWK"
      },
      "source": [
        "f-string.\n",
        "f\"img{i}.png\"\n",
        "Me permite usar el valor de i dentro de un ciclo como variable para el nombre en una cadena."
      ]
    },
    {
      "cell_type": "code",
      "metadata": {
        "id": "f3w-lzxnFg-5"
      },
      "source": [
        "#plt.savefig(f\"grafica{i}.png\")"
      ],
      "execution_count": null,
      "outputs": []
    },
    {
      "cell_type": "markdown",
      "metadata": {
        "id": "QM-_chfmJ3GD"
      },
      "source": [
        "modif"
      ]
    }
  ]
}