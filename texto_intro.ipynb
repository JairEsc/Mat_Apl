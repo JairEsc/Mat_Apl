{
  "nbformat": 4,
  "nbformat_minor": 0,
  "metadata": {
    "colab": {
      "name": "Untitled1.ipynb",
      "provenance": [],
      "authorship_tag": "ABX9TyPxDMipjFeNeHZha1Uuw3fI",
      "include_colab_link": true
    },
    "kernelspec": {
      "name": "python3",
      "display_name": "Python 3"
    },
    "language_info": {
      "name": "python"
    }
  },
  "cells": [
    {
      "cell_type": "markdown",
      "metadata": {
        "id": "view-in-github",
        "colab_type": "text"
      },
      "source": [
        "<a href=\"https://colab.research.google.com/github/JairEsc/Mat_Apl/blob/main/texto_intro.ipynb\" target=\"_parent\"><img src=\"https://colab.research.google.com/assets/colab-badge.svg\" alt=\"Open In Colab\"/></a>"
      ]
    },
    {
      "cell_type": "markdown",
      "metadata": {
        "id": "TJvD0bhsDFy9"
      },
      "source": [
        "Cómo crear archivos de texto .txt desde python."
      ]
    },
    {
      "cell_type": "code",
      "metadata": {
        "id": "jhaCV_EQDJ-1"
      },
      "source": [
        "fo = open(f\"x2.txt\", \"w\")#Abre el archivo. \"w\" para que lo cree si es que no existe.\n",
        "np.savetxt(fo, datos2, fmt='%1.2e', comments='') #Guarda la variable datos2 en notación \"%1.2e\"\n",
        "fo.close()"
      ],
      "execution_count": null,
      "outputs": []
    },
    {
      "cell_type": "markdown",
      "metadata": {
        "id": "YZ5ihnSLS9iq"
      },
      "source": [
        "Cargar archivos txt."
      ]
    },
    {
      "cell_type": "code",
      "metadata": {
        "id": "tAG8YSdCS_yb"
      },
      "source": [
        "x1 = np.loadtxt(\"x1.txt\") # \"\" el nombre del archivo, debe estar en la misma carpeta.\n",
        "x2 = np.loadtxt(\"x2.txt\")\n",
        "matriz = np.loadtxt(\"matriz.txt\")"
      ],
      "execution_count": null,
      "outputs": []
    },
    {
      "cell_type": "markdown",
      "metadata": {
        "id": "gvEuhKcdFTWK"
      },
      "source": [
        "f-string.\n",
        "f\"img{i}.png\"\n",
        "Me permite usar el valor de i dentro de un ciclo como variable para el nombre en una cadena."
      ]
    },
    {
      "cell_type": "code",
      "metadata": {
        "id": "f3w-lzxnFg-5"
      },
      "source": [
        "#plt.savefig(f\"grafica{i}.png\")"
      ],
      "execution_count": null,
      "outputs": []
    },
    {
      "cell_type": "code",
      "metadata": {
        "id": "ohCJ5rV4TXHz"
      },
      "source": [
        "for i in range(5):\n",
        "    plt.figure()\n",
        "    plt.title(f'Gráfica de dos funciones \\u03A6.')\n",
        "    plt.plot(x1, funcion_1(x1), label=\"$f_1$\")#x1 y funcion_i, son arreglos.\n",
        "    plt.plot(x1, funcion_2(x1), label=\"$f_2$\")\n",
        "    plt.xlabel('x')\n",
        "    plt.ylabel('y')\n",
        "    plt.grid()\n",
        "    plt.axis(\"tight\")\n",
        "    plt.legend()#necesario para que se carguen las etiquetas.\n",
        "    plt.savefig(f\"grafica{i}.png\")\n",
        "    print(f'figura {i}')\n",
        "    #plt.show()"
      ],
      "execution_count": null,
      "outputs": []
    },
    {
      "cell_type": "markdown",
      "metadata": {
        "id": "5HQNo9a2TvZ5"
      },
      "source": [
        "Ejemplo más elaborado de graficas_ SUBPLOT"
      ]
    },
    {
      "cell_type": "code",
      "metadata": {
        "id": "ed30iu6JTyYo"
      },
      "source": [
        "n = 100\n",
        "e = [.5, 1, 1.5, 2, 2.5, np.inf] #arreglo de normas\n",
        "c = [\"bo\", \"go\", \"ro\", \"co\", \"yo\", \"mo\"] #colores\n",
        "x = np.random.uniform(-1, 1, n)\n",
        "y = np.random.uniform(-1, 1, n)\n",
        "norma = np.zeros(n)\n",
        "A = np.reshape((1, 2, 0, 2), (2, 2))\n",
        "print(A, '\\n')\n",
        "#print(A.flatten)\n",
        "\n",
        "plt.figure() #Crea el primer cuadro de imagen.\n",
        "for j in range(len(e)):\n",
        "    plt.subplot(2, 3, j+1) #Crea sub_cuadros de imagen.\n",
        "    for i in range(n):\n",
        "        norma[i] = lg.norm((x[i], y[i]), e[j])\n",
        "        x[i] = x[i]/norma[i]\n",
        "        y[i] = y[i]/norma[i]\n",
        "        z = (x[i], y[i]) @ A\n",
        "        norma[i] = lg.norm(z, e[j])\n",
        "        plt.plot(z[0], z[1], \"ko\")\n",
        "    normaA = round(np.max(norma), 3)\n",
        "    plt.text(1.4, 0, f\"||A||={normaA}\") #en la coordenada (1.4,0) escribe el texto correspondiente.\n",
        "    plt.plot(x, y, f\"{c[j]}\", label=f\"Norma {e[j]}\")\n",
        "    plt.xlabel('x')\n",
        "    plt.ylabel('y')\n",
        "    plt.grid()\n",
        "    plt.axis(\"equal\")\n",
        "    plt.legend()\n",
        "    plt.savefig(f\"grafica2.png\")\n",
        "plt.show()"
      ],
      "execution_count": null,
      "outputs": []
    }
  ]
}