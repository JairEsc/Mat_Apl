{
  "nbformat": 4,
  "nbformat_minor": 0,
  "metadata": {
    "colab": {
      "name": "Untitled108.ipynb",
      "provenance": [],
      "authorship_tag": "ABX9TyO1HO07CNk4e7LlY1vs44ih",
      "include_colab_link": true
    },
    "kernelspec": {
      "name": "python3",
      "display_name": "Python 3"
    },
    "language_info": {
      "name": "python"
    }
  },
  "cells": [
    {
      "cell_type": "markdown",
      "metadata": {
        "id": "view-in-github",
        "colab_type": "text"
      },
      "source": [
        "<a href=\"https://colab.research.google.com/github/JairEsc/Mat_Apl/blob/main/Opt_Proyecto_derivative_free_2.ipynb\" target=\"_parent\"><img src=\"https://colab.research.google.com/assets/colab-badge.svg\" alt=\"Open In Colab\"/></a>"
      ]
    },
    {
      "cell_type": "markdown",
      "source": [
        "Idea general del algoritmo.\n",
        "\n",
        "Input: \n",
        "\n",
        "\n",
        "*   $f:\\mathbb{R}^n⟶ \\mathbb{R}$, función objetivo.\n",
        "*   $x_0$, aproximación inicial.\n",
        "*   $a_{max}$, Número máximo de iteraciones para la busqueda en linea.\n",
        "*   $\\zeta$, parámetro de curvatura.\n",
        "*   $tol_g$, criterio de paro para la norma del gradiente.\n",
        "\n",
        "\n",
        "\n",
        "Descripción general del algoritmo (Ver Derivative-free optimization, pag 9.)\n",
        "\n",
        "*   Calcular $f(x_0)$\n",
        "*   Estimar $\\epsilon_f$ usando ECnoise*\n",
        "*   Calcular ** h\n",
        "*   Calcular $\\nabla_h f(x_0)$. Cuando se haga, guardar los valores $(x_s,f_s)$ que satisfacen $f_s=f(x_s)=min_{x\\in S} f(x)$, $S=\\{x+h\\cdot e_i,i=1,\\ldots,n\\}$\n",
        "*   While ($||\\nabla f(x_k)||>tol_g$):\n",
        "    *   Calcular $d_k=-H_k\\nabla_h f(x_k)$ usando L-BFGS***\n",
        "    *   Hacer line_search$(x_k,f_k,\\nabla_h f(x_k),d_k,a_{max})$ y obtiene $(x_+,f_+,\\alpha_k,LS_{flag})$\n",
        "        *   If($LS_{flag}==1$):\n",
        "            *   Invocar Recovery($x_s,f_s$)\n",
        "        *   Else:\n",
        "            *   Actualizar $x_{k+1}=x_+,$ $f_{k+1}=f_+$\n",
        "    *   Calcular $\\nabla_h f(x_{k+1})$ y guardar $(x_s,f_s)$\n",
        "    *   Calcular $s_k=x_{k+1}-x_k$, $y_k=\\nabla_h f(x_{k+1})-\\nabla_h f(x_k)$\n",
        "        *   Guardarlos si $s_k^Ty_k\\geq \\zeta||s_k||||y_k||$"
      ],
      "metadata": {
        "id": "1st1PXXNxrWy"
      }
    },
    {
      "cell_type": "markdown",
      "source": [
        "Explicación de L-BFGS: (Ver clase en Moodle.)\n",
        "\n",
        "Si $H_k$ es una aproximación de la inversa del Hessiano, nos interesa caluclar $d_k=-H_k\\nabla f(x_k)$.\n",
        "\n",
        "\n",
        "Input:\n",
        "\n",
        "\n",
        "\n",
        "*   $\\nabla f(x_k)$\n",
        "*   $\\{(s_{k-1},y_{k-1}),(s_{k-2},y_{k-2}),\\ldots,(s_{k-m},y_{k-m})\\}$\n",
        "*   $H^0_{k-m}$\n",
        "\n",
        "Algoritmo:\n",
        "\n",
        "\n",
        "*   Define $q=\\nabla f(x_k)$\n",
        "*   for $i=1,2,\\ldots,m$ do:\n",
        "    *   Calcular $\\alpha_i=\\rho_i s_{k-i}^Tq$\n",
        "    *   Actualiza $q=q-\\alpha_iy_i$\n",
        "*   Define $r=H^0_{k-m}q$\n",
        "*   for $i=1,2,\\ldots,m$ do:\n",
        "    *   Calcular $\\beta=\\rho_{k-i}y_{k-i}^Tr$\n",
        "    *   Actualiza $r=r-s_{k-i}(\\alpha_i-\\beta)$\n",
        "*   $r$ es una aproximación de $H_k\\nabla f(x_k)$\n"
      ],
      "metadata": {
        "id": "o9e9CVolHhpY"
      }
    },
    {
      "cell_type": "code",
      "source": [
        "import numpy as np\n",
        "import scipy.optimize\n",
        "import matplotlib.pyplot as plt"
      ],
      "metadata": {
        "id": "f_eEzJF9qQT8"
      },
      "execution_count": 367,
      "outputs": []
    },
    {
      "cell_type": "code",
      "source": [
        "def L_BFGS(S,Y,g):#Checar las posibles divisiones por cero\n",
        "    n=len(g)\n",
        "    m=len(S)\n",
        "    #supondremos H_0 un multiplo de la identidad\n",
        "    H_0=(np.dot(S[-1],Y[-1])/(np.dot(Y[-1],Y[-1])))*np.identity(n)#Dado en clase.\n",
        "    q=g\n",
        "    alphas=[]\n",
        "    for i in range(m):\n",
        "        alphas.append((1/max(10**(-6),np.dot(S[m-1-i],Y[m-1-i])))*np.dot(S[m-1-i],q))\n",
        "        q=q-alphas[i]*Y[m-1-i]\n",
        "    r=np.dot(H_0,q)\n",
        "    for i in range(m):\n",
        "        beta=(1/max(10**(-6),np.dot(Y[i],S[i])))*np.dot(Y[i],r)\n",
        "        r=r+S[i]*(alphas[m-1-i]-beta)#aproximacion de -H*g\n",
        "    return r"
      ],
      "metadata": {
        "id": "8zB4uyJdLJ6g"
      },
      "execution_count": 368,
      "outputs": []
    },
    {
      "cell_type": "code",
      "source": [
        "def ECNoise(F):#F es un vector que guarda f(t_i), i=0,...,m. Evaluaciones de m+1 puntos equiespaciados\n",
        "#Ver metodo en Estimating_Computational_Noise, pagina 8\n",
        "    m=len(F)-1\n",
        "    T=np.zeros((m+1,m+1))\n",
        "    for i in range(m+1):\n",
        "        T[i,0]=F[i]\n",
        "    for k in range(m):\n",
        "        for i in range(m-k):\n",
        "            T[i,k+1]=T[i+1,k]-T[i,k]\n",
        "    return T"
      ],
      "metadata": {
        "id": "EiaLoRSdNFgA"
      },
      "execution_count": 369,
      "outputs": []
    },
    {
      "cell_type": "code",
      "source": [
        "def var_estimation(T):#Recibe la tabla.\n",
        "    m=len(T)-1\n",
        "    sigma_array=[]\n",
        "    for k in range(1,m):\n",
        "        sigma_array.append(((np.math.factorial(k)/np.math.factorial(2*k))/(m+1-k))*np.sum(T.T[k]**2))\n",
        "    #Ahora checamos las 2 condiciones.\n",
        "    for k in range(1,m-2):\n",
        "        max_k=np.max(sigma_array[k:k+2])\n",
        "        min_k=np.min(sigma_array[k:k+2])\n",
        "        if(max_k<=4*min_k):\n",
        "            if(np.sign(min_k*max_k)==-1):\n",
        "                print(\"es el \", k)\n",
        "                break\n",
        "    return np.sqrt(sigma_array[k])#Podria ser que las condiciones no se cumplan, en tal caso regresa la ultima estimacion sigma."
      ],
      "metadata": {
        "id": "gQcG9CUNagT4"
      },
      "execution_count": 370,
      "outputs": []
    },
    {
      "cell_type": "code",
      "source": [
        "def aprox_f_biprima(e_f,f,x_k,p):#Usando una direccion (aleatoria dada) se aproxima el max ||Hessiana_f(x_k)*p||\n",
        "    #Ver Estimating Derivatives of Noisy Simulations, pagina 14.\n",
        "    tao_1=100\n",
        "    tao_2=0.1\n",
        "    h_a=e_f**(1/4)\n",
        "    f_mas=f(x_k+h_a*p)\n",
        "    f_menos=f(x_k-h_a*p)\n",
        "    f_0=f(x_k)\n",
        "    delta_h_a=abs(f_mas+f_menos-2*f_0)\n",
        "    mu_a=delta_h_a/(np.max([h_a**2,10**(-6)] ))\n",
        "    if(delta_h_a/e_f>=tao_1):\n",
        "        mu=mu_a\n",
        "        if(abs(f_mas-f_0)<=tao_2*max(f_mas,f_menos,f_0) and abs(f_menos-f_0)<=tao_2*max(f_mas,f_menos,f_0)):\n",
        "            return mu_a\n",
        "    h_b=(e_f/mu_a)**(1/4)\n",
        "    f_mas=f(x_k+h_b*p)\n",
        "    f_menos=f(x_k-h_b*p)\n",
        "    delta_h_b=abs(f_mas+f_menos-2*f_0)\n",
        "    mu_b=delta_h_b/(np.max([h_b**2,10**(-6)] ))\n",
        "    if(delta_h_b/e_f>=tao_1):\n",
        "        mu=mu_b\n",
        "        if(abs(f_mas-f_0)<=tao_2*max(f_mas,f_menos,f_0) and abs(f_menos-f_0)<=tao_2*max(f_mas,f_menos,f_0)):\n",
        "            return mu_b\n",
        "    if(abs(mu_a-mu_b)<=0.5*mu_b):\n",
        "        return mu_b\n",
        "    #print(\"No hay regla de decision\")\n",
        "    return 1#Por falta de relga de descicion. En el algoritmo no se especifica una opcion.\n"
      ],
      "metadata": {
        "id": "Y9wkwLTs-3Sh"
      },
      "execution_count": 371,
      "outputs": []
    },
    {
      "cell_type": "code",
      "source": [
        "def rutina_h(f,p,x_0,m=10):#Calcula h a partir de una direccion dada, con m+1 puntos equiespaciados.\n",
        "    f_0=f(x_0)\n",
        "    n=len(x_0)\n",
        "    delta=10**(-3)#Suggested by ECnoise algorithm.\n",
        "    F_st=[f(x_0+delta*i*p) for i in range(m)]\n",
        "    T=ECNoise(F_st)\n",
        "    e_f=var_estimation(T)\n",
        "    #print(\"e_f: \",e_f)#Breakpoint\n",
        "    mu=aprox_f_biprima(e_f=e_f,f=f,x_k=x_0,p=p)\n",
        "    h=(8**(1/4))*(e_f/mu)**(1/2)\n",
        "    return e_f,h"
      ],
      "metadata": {
        "id": "qXCp7kbKtaZM"
      },
      "execution_count": 372,
      "outputs": []
    },
    {
      "cell_type": "code",
      "source": [
        "def Rosembrok(X):#X es un vector.\n",
        "    return (np.sum(100*(X[1:]-X[:-1]**2)**2+(1-X[:-1])**2))#+10**(-3)*np.random.uniform(0,1))#Ruido\n",
        "def Rosembrok_r(X):#X es un vector.\n",
        "    return (np.sum(100*(X[1:]-X[:-1]**2)**2+(1-X[:-1])**2)+10**(-3)*np.random.uniform(0,1))#Ruido\n",
        "def Rosembrok_grad(X):\n",
        "    return scipy.optimize.approx_fprime(f=Rosembrok,xk=X,epsilon=10**(-4))\n",
        "def Rosembrok_grad_real(X):\n",
        "    D=[]\n",
        "    D.append(-400*(X[0]*(X[1]-X[0]**2))-2*(1-X[0]))\n",
        "    for i in range(1,len(X)-1):\n",
        "        D.append(-400*(X[i]*(X[i+1]-X[i]**2))+200*(X[i]-X[i-1]**2)-2*(1-X[i]))\n",
        "    D.append(200*(X[-1]-X[-2]**2))\n",
        "    return np.array(D)\n",
        "def Rosembrok_Hessian(X):\n",
        "    M=[]\n",
        "    #Renglon 1\n",
        "    D=np.zeros(len(X))\n",
        "    D[0]=(-400*(X[1]-X[0]**2)+800*(X[0]**2)+2)\n",
        "    D[1]=-400*(X[1])\n",
        "    M.append(D)\n",
        "    #Renglon 2<i<n\n",
        "    for i in range(1,len(X)-1):\n",
        "        D=np.zeros(len(X))\n",
        "        D[i]=(-400*(X[i+1]-X[i]**2)+800*(X[i]**2)+202)\n",
        "        D[i-1]=-400*X[i-1]\n",
        "        D[i+1]=-400*X[i]\n",
        "        M.append(D)\n",
        "    #Renglon n\n",
        "    D=np.zeros(len(X))\n",
        "    D[-2]=-400*X[-2]\n",
        "    D[-1]=200\n",
        "    M.append(D)\n",
        "    return M"
      ],
      "metadata": {
        "id": "nLW9VeQvceE5"
      },
      "execution_count": 373,
      "outputs": []
    },
    {
      "cell_type": "code",
      "source": [
        "#Muestra de la estimacion del gradiente con Forward difference.\n",
        "n=10\n",
        "x_k=np.random.uniform(0,1,size=n)\n",
        "p=np.eye(1,len(x_k),np.random.randint(0,len(x_k)))\n",
        "e_f,h=rutina_h(f=Rosembrok_r,p=p,m=6,x_0=x_k)\n",
        "print(h)\n",
        "print(scipy.optimize.approx_fprime(f=Rosembrok,xk=x_k,epsilon=h))\n",
        "print(Rosembrok_grad_real(x_k))\n",
        "#------------------------------------------------------"
      ],
      "metadata": {
        "id": "SRlkKtn12meB",
        "outputId": "36c08538-d75d-464b-8a99-7b85302157fc",
        "colab": {
          "base_uri": "https://localhost:8080/"
        }
      },
      "execution_count": 374,
      "outputs": [
        {
          "output_type": "stream",
          "name": "stdout",
          "text": [
            "0.012563330718641862\n",
            "[ -17.2854995    -6.19435408  225.99808318 -106.61378531   32.65449646\n",
            "   10.84192286   -9.12276834   37.76761787  -59.94306983  154.46877155]\n",
            "[ -15.80666984   -8.01735269  219.85652129 -108.48690322   30.50957477\n",
            "    9.25413135   -9.63850793   36.39660421  -59.84077154  153.21243847]\n"
          ]
        }
      ]
    },
    {
      "cell_type": "code",
      "source": [
        "def relaxed_Armijo(x_k,f,fprime,d,alpha_0=1,e_f=0.0,c_1=0.1,c_2=0.9,\n",
        "                   max_iter=10**2):##Intenté usar scipy.line_search(), pero Strong Wolfe son dificiles de satisfacerse\n",
        "    #Metodo visto en clase.\n",
        "    iter=0\n",
        "    alpha=0\n",
        "    grad_f_k=fprime(x_k)\n",
        "    f_k=f(x_k)\n",
        "    beta=np.inf\n",
        "    alpha_i=alpha_0\n",
        "    g_dot_d=np.dot(grad_f_k,d)\n",
        "    Armijo=False\n",
        "    for i in range(max_iter):\n",
        "        if(f(x_k+alpha_i*d)>f_k+c_1*alpha_i*g_dot_d+2*e_f):#Aqui esta la condicion relajada, dado e_f estimacion del error estandar.\n",
        "            beta=alpha_i\n",
        "            alpha_i=0.5*(alpha+beta)\n",
        "        else:\n",
        "            Armijo=True\n",
        "            if(np.dot(fprime(x_k+alpha_i*d),d)<c_2*g_dot_d):\n",
        "                alpha=alpha_i\n",
        "                if(beta==np.inf):\n",
        "                    alpha_i=2*alpha\n",
        "                else:\n",
        "                    alpha_i=0.5*(alpha+beta)\n",
        "            else:\n",
        "                break\n",
        "    if(Armijo==True):\n",
        "        return alpha_i\n",
        "    else:\n",
        "        return Armijo\n",
        "def backtrack(x_k, f, grad, d_k,\n",
        "              c1=0.1, c2=0.9, alpha_0=1.0, maxIter=50):\n",
        "    \n",
        "    alpha    = 0.0\n",
        "    beta     = np.inf\n",
        "    alpha_k  = alpha_0\n",
        "    \n",
        "    f_k      = f(x_k)\n",
        "    g_k      = grad(x_k)\n",
        "    \n",
        "    for k in range(1,maxIter+1):\n",
        "        g_dot_d = np.dot(g_k,d_k)\n",
        "        \n",
        "        if f(x_k + alpha_k*d_k) > f_k + c1*alpha_k*g_dot_d:\n",
        "            beta     = alpha_k\n",
        "            alpha_k  = 0.5*(alpha + beta)\n",
        "        elif np.dot( grad( x_k+alpha_k*d_k), d_k ) < c2*g_dot_d:\n",
        "            alpha = alpha_k\n",
        "            if beta == np.inf:\n",
        "                alpha_k = 2.0*alpha\n",
        "            else:\n",
        "                alpha_k = 0.5*(alpha + beta)\n",
        "        else:\n",
        "            break\n",
        "    \n",
        "    return alpha_k\n",
        "\n"
      ],
      "metadata": {
        "id": "U2R6IwNuNpFq"
      },
      "execution_count": 389,
      "outputs": []
    },
    {
      "cell_type": "code",
      "source": [
        "def recovery(x_k,f,grad_k,e_f,h,l1,l2,d_k,m=10):#Genera un nuevo h\n",
        "    e_f_b,h_b=rutina_h(f=f,p=d_k,m=m,x_0=x_k)\n",
        "    n=len(x_k)\n",
        "    f_stencil=[]\n",
        "    f_k=f(x_k)\n",
        "    if(h_b<l1*h or h_b>l2*h):\n",
        "        return x_k,e_f_b,h_b\n",
        "    else:\n",
        "        d_k=d_k/np.linalg.norm(d_k)\n",
        "        x_h=x_k+h*(d_k)\n",
        "        f_h=f(x_h)\n",
        "        if(f_h<=f(x_k)+0.1*h*np.dot(grad_k,d_k)+2*e_f):\n",
        "            return x_h,e_f,h\n",
        "        else:\n",
        "            for i in range(n):\n",
        "                x_s=x_k\n",
        "                x_s[i]+=h\n",
        "                f_stencil.append(f(x_s))\n",
        "            ii=np.argmin(f_stencil)\n",
        "            x_s=x_k\n",
        "            x_s[ii]+=h\n",
        "            f_s=f(x_s)\n",
        "            if(f_h<=f_s and f_h<=f_k):\n",
        "                return x_h,e_f,h\n",
        "            else:\n",
        "                if(f_k>f_s and f_h>f_s):\n",
        "                    return x_s,e_f,h\n",
        "                else:\n",
        "                    e_f_n,h_n=rutina_h(f=f,p=np.random.uniform(-1,1,size=n),m=m,x_0=x_k)\n",
        "                    return x_k,e_f_n,h_n"
      ],
      "metadata": {
        "id": "kcexZsIE9aMQ"
      },
      "execution_count": 388,
      "outputs": []
    },
    {
      "cell_type": "code",
      "source": [
        "def BFGS(H, s, y):\n",
        "    n = H.shape[0]\n",
        "    rho = 1.0/np.dot(y,s)\n",
        "    V   =  np.identity(n)- rho*np.outer(y,s.T)\n",
        "    return V.T@H@V + rho*np.outer(s,s)\n",
        "def find_minimum(f,x_0,tol_g=10**(-4),max_iter=10**2,alpha_max_iter=100):\n",
        "    t1 = time.time()\n",
        "    n=len(x_0)\n",
        "    #----------------------\n",
        "    #Listas\n",
        "    iter=0\n",
        "    GG=[]\n",
        "    Y=[]\n",
        "    S=[]\n",
        "    #----------------------\n",
        "    #----------------------\n",
        "    e_f,h=rutina_h(f=f,p=np.random.uniform(-1,1,size=len(x_0)),m=6,x_0=x_0)\n",
        "    print(\"h: \",h)\n",
        "    def fprime(x):\n",
        "        return scipy.optimize.approx_fprime(xk=x,f=f,epsilon=h)\n",
        "    g_0=fprime(x_0)#Gradiente\n",
        "    alpha_k=relaxed_Armijo(f=f,fprime=fprime,x_k=x_0,d=-g_0,e_f=e_f,max_iter=alpha_max_iter)#line_search\n",
        "    #alpha_k=backtrack(x_k=x_0, f=f, grad=fprime, d_k=-g_0)\n",
        "    x_1=x_0-alpha_k*g_0#Primera direccion de descenso es -grad(x_0)\n",
        "    g_1=fprime(x_1)\n",
        "    GG.append(np.linalg.norm(g_1))\n",
        "    #----------------------\n",
        "    #diferencia de gradientes\n",
        "    #diferencia de x's\n",
        "    Y.append(g_1-g_0)\n",
        "    S.append(-alpha_k*g_0)\n",
        "    #comp=[np.linalg.norm(d_k_r+g_0)]#Lista para compararlos\n",
        "    #H_k=(np.dot(S[-1],Y[-1])/(np.dot(Y[-1],Y[-1])))*np.identity(n)#Dado en clase.\n",
        "    #----------------------\n",
        "    while(np.linalg.norm(g_1)>tol_g and iter<max_iter):\n",
        "        x_0=x_1\n",
        "        g_0=g_1\n",
        "        #H_k_m=BFGS(s=S[-1],y=Y[-1],H=H_k)\n",
        "        #d_k=-np.dot(np.linalg.inv(Rosembrok_Hessian(x_0)),g_0)\n",
        "        d_k=-L_BFGS(S=S,Y=Y,g=g_1)\n",
        "        d_k=d_k/np.max([10**(-6),np.linalg.norm(d_k)])\n",
        "        #d_k=-np.dot(H_k_m,g_0)\n",
        "        if(iter>250):\n",
        "            del S[0]\n",
        "            del Y[0]\n",
        "        alpha_k_try=relaxed_Armijo(f=f,fprime=fprime,x_k=x_0,d=d_k,e_f=e_f,max_iter=alpha_max_iter)\n",
        "        if(alpha_k_try==False):\n",
        "            #print(\"Backt no jalo\")\n",
        "            x_0,e_f,h=recovery(x_k=x_0,f=f,grad_k=g_1,e_f=e_f,h=h,l1=0.01,l2=100,d_k=d_k,m=12)\n",
        "        x_1=x_0+alpha_k*d_k#\n",
        "        g_1=fprime(x_1)\n",
        "        iter+=1\n",
        "        #H_k=H_k_m\n",
        "        Y.append(g_1-g_0)\n",
        "        S.append(alpha_k*d_k)\n",
        "        #print(np.linalg.norm(d_k-d_k_l))\n",
        "        GG.append(np.linalg.norm(g_1))\n",
        "    print(\"Summary: \")\n",
        "    #print(\"comp:\",comp[-1])\n",
        "    plt.plot(GG)\n",
        "    plt.show()\n",
        "    t2 = time.time()\n",
        "    tim = t2-t1\n",
        "    niter = iter\n",
        "    print(\"time: {:.02e}\\t Niter: {} \\t ||g_k||: {:.02e} \".format(\n",
        "             tim,niter,GG[-1]))\n",
        "    return x_1"
      ],
      "metadata": {
        "id": "RvIgGawfE0Se"
      },
      "execution_count": 395,
      "outputs": []
    },
    {
      "cell_type": "code",
      "source": [
        "import time\n",
        "np.random.seed()\n",
        "n=10\n",
        "x_0=np.random.uniform(0.5,1.5,size=n)\n",
        "print(x_0)\n",
        "x_opt=find_minimum(f=Rosembrok_r,x_0=x_0,tol_g=10**(-2),max_iter=4*10**3,alpha_max_iter=20)\n",
        "print(x_opt)"
      ],
      "metadata": {
        "id": "n5k_pB5TAc4_",
        "outputId": "7b756346-7817-4297-d64f-66f3b03ae5aa",
        "colab": {
          "base_uri": "https://localhost:8080/",
          "height": 386
        }
      },
      "execution_count": 396,
      "outputs": [
        {
          "output_type": "stream",
          "name": "stdout",
          "text": [
            "[0.85062493 0.56615516 0.79830126 0.64968701 1.36826569 0.91342153\n",
            " 1.36554141 0.7527203  1.45633386 0.75623719]\n",
            "h:  0.00029934482343464783\n",
            "Summary: \n"
          ]
        },
        {
          "output_type": "display_data",
          "data": {
            "text/plain": [
              "<Figure size 432x288 with 1 Axes>"
            ],
            "image/png": "[encoded data removed]"
          },
          "metadata": {
            "needs_background": "light"
          }
        },
        {
          "output_type": "stream",
          "name": "stdout",
          "text": [
            "time: 1.81e+01\t Niter: 4000 \t ||g_k||: 1.20e+02 \n",
            "[0.99916084 0.99965457 0.99755281 0.99528638 0.98893736 0.97744141\n",
            " 0.95214508 0.90604272 0.82265654 0.67325801]\n"
          ]
        }
      ]
    },
    {
      "cell_type": "code",
      "source": [
        "def p_204(X):#x_0=np.array([0.1,0.1] ), x_opt=np.array([0,0] )\n",
        "    A=np.array([0.13294 ,-0.244378, 0.325895] )\n",
        "    D=np.array([2.5074 ,-1.36401,1.02282] )\n",
        "    H=np.array([[-0.564255 ,0.392417], [ -0.404979, 0.927589], [-0.0735084 ,0.535493]] )\n",
        "    B=np.linalg.inv(np.dot(H.T,H))\n",
        "    W=A+np.dot(H,X)+0.5*np.dot(X,np.dot(B,X))*D\n",
        "    return np.dot(W,W)+np.random.uniform(-10**(-2),10**(-2))\n",
        "p_204([1,1])"
      ],
      "metadata": {
        "id": "r9J2WxiJ_DJq",
        "colab": {
          "base_uri": "https://localhost:8080/"
        },
        "outputId": "345379c8-f8a4-42e5-84f0-df68115720e2"
      },
      "execution_count": 379,
      "outputs": [
        {
          "output_type": "execute_result",
          "data": {
            "text/plain": [
              "413.67108931874714"
            ]
          },
          "metadata": {},
          "execution_count": 379
        }
      ]
    },
    {
      "cell_type": "code",
      "source": [
        "n=2\n",
        "x_0=np.array([0.1,0.1] )\n",
        "eps=10**(-2)\n",
        "#def f_1(x):\n",
        "#    return f_noise(f=p_205,x=x,eps=eps,noise='additive')\n",
        "x_opt=find_minimum(f=p_204,x_0=x_0,tol_g=10**(-2),max_iter=2*10**4,alpha_max_iter=10)\n",
        "print(x_opt)"
      ],
      "metadata": {
        "colab": {
          "base_uri": "https://localhost:8080/",
          "height": 369
        },
        "id": "2PSvtNXLV4WC",
        "outputId": "b2faf7e6-4026-4764-8b7e-fb69f8528bb7"
      },
      "execution_count": 397,
      "outputs": [
        {
          "output_type": "stream",
          "name": "stdout",
          "text": [
            "h:  0.02218173998998711\n"
          ]
        },
        {
          "output_type": "stream",
          "name": "stderr",
          "text": [
            "/usr/local/lib/python3.7/dist-packages/ipykernel_launcher.py:9: RuntimeWarning: invalid value encountered in true_divide\n",
            "  if __name__ == '__main__':\n"
          ]
        },
        {
          "output_type": "stream",
          "name": "stdout",
          "text": [
            "Summary: \n"
          ]
        },
        {
          "output_type": "display_data",
          "data": {
            "text/plain": [
              "<Figure size 432x288 with 1 Axes>"
            ],
            "image/png": "[encoded data removed]"
          },
          "metadata": {
            "needs_background": "light"
          }
        },
        {
          "output_type": "stream",
          "name": "stdout",
          "text": [
            "time: 1.39e+02\t Niter: 20000 \t ||g_k||: 3.40e+01 \n",
            "[-0.17735634  0.21378948]\n"
          ]
        }
      ]
    },
    {
      "cell_type": "code",
      "source": [
        "def p_205(X):#x_0=np.array([0.1,0.] ), x_opt=np.array([3,0.5] )\n",
        "    return ((1.5-X[0]*(1-X[1]))**2+(2.25-X[0]*(1-X[1]**2))**2+(2.625-X[0]*(1-X[1]**3))**2)\n",
        "print(p_205([1,1]))"
      ],
      "metadata": {
        "colab": {
          "base_uri": "https://localhost:8080/"
        },
        "id": "1_dgHnv4LPkf",
        "outputId": "cfae35e3-c4e8-41f7-c8f9-19472625f61a"
      },
      "execution_count": 381,
      "outputs": [
        {
          "output_type": "stream",
          "name": "stdout",
          "text": [
            "14.203125\n"
          ]
        }
      ]
    },
    {
      "cell_type": "code",
      "source": [
        "def p_206(X):#x_0=[-1.2,1], x_opt=[1,1]\n",
        "    return ((X[1]-X[0]**2)**2+100*(1-X[0])**2)\n",
        "print(p_206([-1.2,1]))"
      ],
      "metadata": {
        "colab": {
          "base_uri": "https://localhost:8080/"
        },
        "id": "e4s-YMJxOBYe",
        "outputId": "d84838fd-68a4-4953-b44f-0cfb60e80e4f"
      },
      "execution_count": 382,
      "outputs": [
        {
          "output_type": "stream",
          "name": "stdout",
          "text": [
            "484.19360000000006\n"
          ]
        }
      ]
    },
    {
      "cell_type": "code",
      "source": [
        "def p_212(X):#x_0=[2,0], x_opt=[0,0]\n",
        "    return (((4*(X[0]+X[1]))**2+(4*(X[0]+X[1])+(X[0]-X[1])*((X[0]-2)**2+X[1]**2-1))**2))\n",
        "print(p_212([0,0]))"
      ],
      "metadata": {
        "id": "pk0WC1zOiMpU",
        "colab": {
          "base_uri": "https://localhost:8080/"
        },
        "outputId": "939ff3fd-523c-4ef2-ad1a-a7afe5fd1c13"
      },
      "execution_count": 383,
      "outputs": [
        {
          "output_type": "stream",
          "name": "stdout",
          "text": [
            "0\n"
          ]
        }
      ]
    },
    {
      "cell_type": "code",
      "source": [
        "def p_214(X):#x_0=[-1.2,1], x_opt=[1,1]\n",
        "    return ((10*(X[0]-X[1])**2+(X[0]-1)**2)**(1/4))"
      ],
      "metadata": {
        "id": "uLQwWBu7PlyG"
      },
      "execution_count": 384,
      "outputs": []
    },
    {
      "cell_type": "code",
      "source": [
        "def additive_noise(f,x,eps=10**(-2),label='stochastic'):\n",
        "    if(label=='deterministic'):\n",
        "        u=10**(-2)##por definirse\n",
        "    if(label=='stochastic'):\n",
        "        u=np.random.uniform(-eps,eps)\n",
        "    return(f(x)+u)\n",
        "def multiplicative_noise(f,x,eps=10**(-2),label='stochastic'):\n",
        "    if(label=='deterministic'):\n",
        "        u=10**(-2)##por definirse\n",
        "    if(label=='stochastic'):\n",
        "        u=np.random.uniform(-eps,eps)\n",
        "    return(f(x)*(1+u))"
      ],
      "metadata": {
        "id": "HvDTJgGWSd12"
      },
      "execution_count": 385,
      "outputs": []
    },
    {
      "cell_type": "code",
      "source": [
        "def f_noise(f,x,eps,noise):\n",
        "        if(noise=='additive'):\n",
        "            return additive_noise(f=f,eps=eps,x=x)\n",
        "        if(noise=='multiplicative'):\n",
        "            return multiplicative_noise(f=f,eps=eps,x=x)\n",
        "        if(noise=='additive_det'):\n",
        "            return additive_noise(f=f,eps=eps,x=x,label='deterministic')\n",
        "        if(noise=='multiplicative_det'):\n",
        "            return multiplicative_noise(f=f,eps=eps,x=x,label='deterministic')"
      ],
      "metadata": {
        "id": "H_R4ynhHWz56"
      },
      "execution_count": 386,
      "outputs": []
    },
    {
      "cell_type": "code",
      "source": [
        "funciones=[p_204,p_205,p_206,p_212]\n",
        "x_initial=[np.array([0.1,0.1] ),np.array([0.1,0.] ),[-1.2,1],[2,0]]\n",
        "x_optims=np.array([[0,0],[3,0.5],[1,1],[0,0] ])\n",
        "noise_type=['additive','multiplicative']\n",
        "eps=0\n",
        "n=5\n",
        "for i in range(len(funciones)):\n",
        "    f=funciones[i]\n",
        "    print(\"Function: \", str(f))\n",
        "    x_0=x_initial[i]\n",
        "    for noise in noise_type:\n",
        "        print(noise+' Case\\n')\n",
        "        def f_1(x):\n",
        "            return f_noise(f=f,eps=10**(-2),x=x,noise=noise)\n",
        "        x_opt=find_minimum(f=f_1,x_0=x_0,tol_g=10**(-2),max_iter=10**3,alpha_max_iter=10)\n",
        "        print(\"||x_opt-x^*||:\",np.linalg.norm(x_opt-x_optims[i]))\n",
        "        print(\"--------------------------\")\n",
        "    print(\"---------------------------------\")\n"
      ],
      "metadata": {
        "id": "7haJT0uCRyGw",
        "outputId": "7d430bdf-5413-4456-9a04-373bfafe0f16",
        "colab": {
          "base_uri": "https://localhost:8080/",
          "height": 1000
        }
      },
      "execution_count": 398,
      "outputs": [
        {
          "output_type": "stream",
          "name": "stdout",
          "text": [
            "Function:  <function p_204 at 0x7f2a2d959cb0>\n",
            "additive Case\n",
            "\n",
            "h:  0.01571390329526955\n",
            "Summary: \n"
          ]
        },
        {
          "output_type": "display_data",
          "data": {
            "text/plain": [
              "<Figure size 432x288 with 1 Axes>"
            ],
            "image/png": "[encoded data removed]"
          },
          "metadata": {
            "needs_background": "light"
          }
        },
        {
          "output_type": "stream",
          "name": "stdout",
          "text": [
            "time: 7.55e+00\t Niter: 1000 \t ||g_k||: 1.18e+01 \n",
            "||x_opt-x^*||: 0.23618710830586798\n",
            "--------------------------\n",
            "multiplicative Case\n",
            "\n",
            "h:  0.03738453988013237\n",
            "Summary: \n"
          ]
        },
        {
          "output_type": "display_data",
          "data": {
            "text/plain": [
              "<Figure size 432x288 with 1 Axes>"
            ],
            "image/png": "[encoded data removed]"
          },
          "metadata": {
            "needs_background": "light"
          }
        },
        {
          "output_type": "stream",
          "name": "stdout",
          "text": [
            "time: 7.20e+00\t Niter: 1000 \t ||g_k||: 2.07e+00 \n",
            "||x_opt-x^*||: 0.2602186277206309\n",
            "--------------------------\n",
            "---------------------------------\n",
            "Function:  <function p_205 at 0x7f2a2dd44290>\n",
            "additive Case\n",
            "\n",
            "h:  0.054609102068634396\n",
            "Summary: \n"
          ]
        },
        {
          "output_type": "display_data",
          "data": {
            "text/plain": [
              "<Figure size 432x288 with 1 Axes>"
            ],
            "image/png": "[encoded data removed]"
          },
          "metadata": {
            "needs_background": "light"
          }
        },
        {
          "output_type": "stream",
          "name": "stdout",
          "text": [
            "time: 3.34e+00\t Niter: 1000 \t ||g_k||: 1.11e+01 \n",
            "||x_opt-x^*||: 0.3063859894103733\n",
            "--------------------------\n",
            "multiplicative Case\n",
            "\n",
            "h:  0.2086689968063548\n",
            "Summary: \n"
          ]
        },
        {
          "output_type": "display_data",
          "data": {
            "text/plain": [
              "<Figure size 432x288 with 1 Axes>"
            ],
            "image/png": "[encoded data removed]"
          },
          "metadata": {
            "needs_background": "light"
          }
        },
        {
          "output_type": "stream",
          "name": "stdout",
          "text": [
            "time: 3.07e+00\t Niter: 1000 \t ||g_k||: 2.31e+00 \n",
            "||x_opt-x^*||: 1.020283422700408\n",
            "--------------------------\n",
            "---------------------------------\n",
            "Function:  <function p_206 at 0x7f2a2deafe60>\n",
            "additive Case\n",
            "\n",
            "h:  0.008878137279951341\n",
            "Summary: \n"
          ]
        },
        {
          "output_type": "display_data",
          "data": {
            "text/plain": [
              "<Figure size 432x288 with 1 Axes>"
            ],
            "image/png": "[encoded data removed]"
          },
          "metadata": {
            "needs_background": "light"
          }
        },
        {
          "output_type": "stream",
          "name": "stdout",
          "text": [
            "time: 3.26e+00\t Niter: 1000 \t ||g_k||: 2.37e+00 \n",
            "||x_opt-x^*||: 0.41775202118978455\n",
            "--------------------------\n",
            "multiplicative Case\n",
            "\n",
            "h:  0.10956964574428919\n",
            "Summary: \n"
          ]
        },
        {
          "output_type": "display_data",
          "data": {
            "text/plain": [
              "<Figure size 432x288 with 1 Axes>"
            ],
            "image/png": "[encoded data removed]"
          },
          "metadata": {
            "needs_background": "light"
          }
        },
        {
          "output_type": "stream",
          "name": "stdout",
          "text": [
            "time: 1.07e+00\t Niter: 412 \t ||g_k||: 9.53e-03 \n",
            "||x_opt-x^*||: 0.1805280840743051\n",
            "--------------------------\n",
            "---------------------------------\n",
            "Function:  <function p_212 at 0x7f2a2dce1e60>\n",
            "additive Case\n",
            "\n",
            "h:  0.015275376256176927\n",
            "Summary: \n"
          ]
        },
        {
          "output_type": "display_data",
          "data": {
            "text/plain": [
              "<Figure size 432x288 with 1 Axes>"
            ],
            "image/png": "[encoded data removed]"
          },
          "metadata": {
            "needs_background": "light"
          }
        },
        {
          "output_type": "stream",
          "name": "stdout",
          "text": [
            "time: 3.20e+00\t Niter: 1000 \t ||g_k||: 1.60e+00 \n",
            "||x_opt-x^*||: 0.058738598094629\n",
            "--------------------------\n",
            "multiplicative Case\n",
            "\n",
            "h:  0.09012408396101482\n",
            "Summary: \n"
          ]
        },
        {
          "output_type": "display_data",
          "data": {
            "text/plain": [
              "<Figure size 432x288 with 1 Axes>"
            ],
            "image/png": "[encoded data removed]"
          },
          "metadata": {
            "needs_background": "light"
          }
        },
        {
          "output_type": "stream",
          "name": "stdout",
          "text": [
            "time: 6.43e-01\t Niter: 268 \t ||g_k||: 8.83e-03 \n",
            "||x_opt-x^*||: 0.05680592088984649\n",
            "--------------------------\n",
            "---------------------------------\n"
          ]
        }
      ]
    }
  ]
}