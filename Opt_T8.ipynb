{
  "nbformat": 4,
  "nbformat_minor": 0,
  "metadata": {
    "colab": {
      "name": "Untitled104.ipynb",
      "provenance": [],
      "authorship_tag": "ABX9TyMdvRqY5DIpFaYMVClhZmHa",
      "include_colab_link": true
    },
    "kernelspec": {
      "name": "python3",
      "display_name": "Python 3"
    },
    "language_info": {
      "name": "python"
    }
  },
  "cells": [
    {
      "cell_type": "markdown",
      "metadata": {
        "id": "view-in-github",
        "colab_type": "text"
      },
      "source": [
        "<a href=\"https://colab.research.google.com/github/JairEsc/Mat_Apl/blob/main/Opt_T8.ipynb\" target=\"_parent\"><img src=\"https://colab.research.google.com/assets/colab-badge.svg\" alt=\"Open In Colab\"/></a>"
      ]
    },
    {
      "cell_type": "markdown",
      "source": [
        "# Segmentador"
      ],
      "metadata": {
        "id": "u39cS1risgaE"
      }
    },
    {
      "cell_type": "markdown",
      "source": [
        "Se define $g:\\mathbb{R}^n\\times (\\mathbb{R}^{3})^n⟶ \\mathbb{R}$ como\n",
        "\n",
        "$$g\\left(\\alpha^{j}, \\mu^{j}\\right)=\\sum_{c \\in \\Omega}\\left[h^{j}(c)-\\sum_{i=1}^n \\alpha_{i}^{j} \\exp \\left(\\frac{-\\left\\|c-\\mu_{i}^{j}\\right\\|_{2}^{2}}{2 \\sigma^{2}}\\right)\\right]^{2}$$\n",
        "Para $j=1,2$,\n",
        "\n",
        "$\\alpha^{j}=\\left[\\alpha_{1}^{j}, \\alpha_{2}^{j}, \\ldots, \\alpha_{n}^{j}\\right]$ son los pesos de la combinación lineal de la base radial. \n",
        "\n",
        "$\\mu^{j}=\\left[\\mu_{1}^{j}, \\mu_{2}^{j}, \\ldots, \\mu_{n}^{j}\\right]$ son las medias de los elementos de la base radial. I.e. $\\mu^{j}_{i}\\in\\mathbb{R}^3$\n",
        "\n",
        "Parámetros como los histogramas $h^j$, un espacio de colores $\\Omega=\\{0,1,\\ldots,b\\}^3$ y un parámetro de amplitud $\\sigma$ se consideran dados y fijos.\n",
        "##\n",
        "Calculamos el gradiente de la función $g$, para cada $i\\leq n$:\n",
        "\n",
        "$$\\frac{\\partial g}{\\partial \\alpha^j_i}=-2\\sum\\limits_{c \\in \\Omega}\\left[\\left[h^{j}(c)-\\sum_{i=1}^n \\alpha_{i}^{j} \\exp \\left(\\frac{-\\left\\|h^j(c)-\\mu_{i}^{j}\\right\\|_{2}^{2}}{2 \\sigma^{2}}\\right)\\right]\\exp \\left(\\frac{-\\left\\|h^j(c)-\\mu_{i}^{j}\\right\\|_{2}^{2}}{2 \\sigma^{2}}\\right)\\right] $$\n",
        "$$\\frac{\\partial g}{\\partial \\mu^j_i}=-2\\sum\\limits_{c \\in \\Omega}\\left[\\left[h^{j}(c)-\\sum_{i=1}^n \\alpha_{i}^{j} \\exp \\left(\\frac{-\\left\\|h^j(c)-\\mu_{i}^{j}\\right\\|_{2}^{2}}{2 \\sigma^{2}}\\right)\\right]\\alpha_i^j\\exp \\left(\\frac{-\\left\\|h^j(c)-\\mu_{i}^{j}\\right\\|_{2}^{2}}{2 \\sigma^{2}}\\right)\\frac{2\\left(h^j(c)-\\mu_{i}^{j}\\right)}{2 \\sigma^{2}}\\right] $$\n",
        "\n",
        "De igual manera, calculamos la matriz Hessiana, a partir de las derivadas parciales:\n",
        "\n",
        "$$\\frac{\\partial^2 g}{\\partial \\alpha_i^j\\partial\\alpha_k^j }=2\\exp\\left(\\frac{-\\left\\|h^j(c)-\\mu_{i}^{j}\\right\\|_{2}^{2}}{2 \\sigma^{2}}\\right)\\sum\\limits_{c \\in \\Omega}\\left[\\exp \\left(\\frac{-\\left\\|h^j(c)-\\mu_{k}^{j}\\right\\|_{2}^{2}}{2 \\sigma^{2}}\\right)\\right]$$\n",
        "$$\\frac{\\partial^2 g}{\\partial \\alpha_i^j\\partial\\mu_k^j }=2\\exp\\left(\\frac{-\\left\\|h^j(c)-\\mu_{i}^{j}\\right\\|_{2}^{2}}{2 \\sigma^{2}}\\right)\\sum\\limits_{c \\in \\Omega}\\left[\\alpha_k^jexp\\left(\\frac{-\\left\\|h^j(c)-\\mu_{k}^{j}\\right\\|_{2}^{2}}{2 \\sigma^{2}}\\right)\\left(\\frac{2\\left(h^j(c)-\\mu_{i}^{j}\\right)}{2 \\sigma^{2}}\\right)\\right]+\\chi_{\\{i\\}}(k)2\\sum\\limits_{c \\in \\Omega}\\left[h^{j}(c)-\\sum_{i=1}^n \\alpha_{i}^{j} \\exp \\left(\\frac{-\\left\\|h^j(c)-\\mu_{i}^{j}\\right\\|_{2}^{2}}{2 \\sigma^{2}}\\right)\\right]\\exp\\left(\\frac{-\\left\\|h^j(c)-\\mu_{k}^{j}\\right\\|_{2}^{2}}{2 \\sigma^{2}}\\right)\\frac{2(h^j(c)-\\mu_k^j)}{2\\sigma^2}$$\n",
        "$$\\frac{\\partial^2 g}{\\partial \\mu_i^j\\partial\\mu_k^j }=\\left[2\\sum\\limits_{c \\in \\Omega}\\left[\\exp \\left(\\frac{-\\left\\|h^j(c)-\\mu_{k}^{j}\\right\\|_{2}^{2}}{2 \\sigma^{2}}\\right)\\right]\\right]\\left[\\alpha_{i}^{j} \\exp \\left(\\frac{-\\left\\|h^j(c)-\\mu_{i}^{j}\\right\\|_{2}^{2}}{2 \\sigma^{2}}\\right)\\frac{h^j(c)-\\mu_i^j}{\\sigma^2}\\right]\\chi_{\\{i\\}}(k)-2\\alpha_{i}^{j} \\exp \\left(\\frac{-\\left\\|h^j(c)-\\mu_{i}^{j}\\right\\|_{2}^{2}}{2 \\sigma^{2}}\\right)\\frac{h^j(c)-\\mu_i^j}{\\sigma^2}\\sum\\limits_{c \\in \\Omega}\\left[\\alpha_k^j\\exp \\left(\\frac{-\\left\\|h^j(c)-\\mu_{k}^{j}\\right\\|_{2}^{2}}{2 \\sigma^{2}}\\right)\\frac{h^j(c)-\\mu_i^j}{\\sigma^2}\\right]$$ "
      ],
      "metadata": {
        "id": "Q4cTsLfZsxuL"
      }
    },
    {
      "cell_type": "code",
      "source": [
        "import numpy as np\n",
        "sigma_sq=0.5\n"
      ],
      "metadata": {
        "id": "PcIMjXsu2r5O"
      },
      "execution_count": 1,
      "outputs": []
    },
    {
      "cell_type": "code",
      "source": [
        "n_bins=8\n",
        "hist_obj=np.loadtxt('H_0.txt',skiprows=1)\n",
        "hist_fondo=np.loadtxt('H_0.txt',skiprows=1)\n",
        "def h(c,obj):\n",
        "    if(obj=='obj'):\n",
        "        return hist_obj[int(c[0]*(n_bins)**2+c[1]*(n_bins)+c[2])]\n",
        "    else:\n",
        "        return hist_fondo[int(c[0]*(n_bins)**2+c[1]*(n_bins)+c[2])]\n",
        "obj='obj'\n",
        "def comb_base(Alpha_Mu,c):#Recibe una lista que es una mezcla de escalares y arreglos, y c un arreglo\n",
        "    n=int(len(Alpha_Mu)/2)\n",
        "    suma=0\n",
        "    for i in range(n):\n",
        "        suma+=Alpha_Mu[i]*np.exp(-(np.linalg.norm(c-Alpha_Mu[n+i])**2)/(2*sigma_sq))\n",
        "    return suma\n",
        "def fun_obj(Alpha_Mu):#Recibe un solo arreglo\n",
        "    g=0\n",
        "    for r in range(n_bins):\n",
        "        for gr in range(n_bins):\n",
        "            for b in range(n_bins):\n",
        "                #c=(r,g,b)\n",
        "                c=np.array([int(r),int(gr),int(b)])\n",
        "                g+=(h(c=c,obj=obj)-comb_base(Alpha_Mu,c))**2\n",
        "    return g\n",
        "def fun_obj_r4n(Alpha_Mu_array):\n",
        "    Alpha_mu_list=convertir(Alpha_Mu_array)\n",
        "    return fun_obj(Alpha_mu_list)\n",
        "fun_obj_r4n([1,1,1,1,2,4,2,5,6,3,6,9])"
      ],
      "metadata": {
        "id": "OJ2I1BbgJn4r",
        "outputId": "0aba5da7-ebd5-4282-feb8-6c38271f6a85",
        "colab": {
          "base_uri": "https://localhost:8080/"
        }
      },
      "execution_count": 293,
      "outputs": [
        {
          "output_type": "execute_result",
          "data": {
            "text/plain": [
              "7585302.714686411"
            ]
          },
          "metadata": {},
          "execution_count": 293
        }
      ]
    },
    {
      "cell_type": "code",
      "source": [
        "def GC(f,grad_f,Hessian_f,x_0,tol_g=10**(-1),max_iter=10**3):\n",
        "    n=len(x_0)#Dimension del espacio\n",
        "    d_0=np.array(-grad_f(x_0))\n",
        "    k=0\n",
        "    while(np.linalg.norm(grad_f(x_0))>=tol_g and k<max_iter):\n",
        "        H=Hessian_f(x_0)\n",
        "        alpha_k_gc=-(np.dot(grad_f(x_0),d_0))/(np.dot(d_0,np.dot(H,d_0)))#Tam. de paso\n",
        "        x_0=x_0+alpha_k_gc*np.array(d_0)\n",
        "        g_km1=grad_f(x_0)\n",
        "        beta_k_gc=(np.dot(d_0,np.dot(H,g_km1))/(np.dot(d_0,np.dot(H,d_0))))\n",
        "        d_0=-g_km1+beta_k_gc*d_0\n",
        "        k+=1\n",
        "    print(\"iter\",k)\n",
        "    return x_0"
      ],
      "metadata": {
        "id": "qc8NBedPZWf0"
      },
      "execution_count": 288,
      "outputs": []
    },
    {
      "cell_type": "code",
      "source": [
        "from scipy import optimize\n",
        "n=3 #Base radial\n",
        "Alpha_Mu=[1,1,1,4,2,1,4,2,1,4,2,1]\n",
        "def convertir(array):#De arreglo de floats a lista de escalares y vectores.\n",
        "    u=[]\n",
        "    for j in range(n):\n",
        "        u.append(array[j])\n",
        "    w=np.split(np.array(array[n:]),n)\n",
        "    for r in w:\n",
        "        u.append(r)\n",
        "    return u\n",
        "def convertir_back(array_mixed):\n",
        "    u=[]\n",
        "    for i in array_mixed:\n",
        "        if(type(i)!=type(np.array([0,0]))):\n",
        "            u.append(i)\n",
        "        else:\n",
        "            for j in range(len(i)):\n",
        "                u.append(i.tolist()[j])\n",
        "    return u\n",
        "#Quiero pensarla como una funcion(alpha,mu), donde mu tiene tamaño 3*n\n",
        "def grad_f(Alpha_Mu):\n",
        "    return optimize.approx_fprime(xk=Alpha_Mu, f=fun_obj_r4n,epsilon=10**(-6))\n",
        "def Hessian_f(Alpha_Mu):\n",
        "  N = len(Alpha_Mu)\n",
        "  hessian = np.zeros((N,N)) \n",
        "  gd_0 = grad_f(Alpha_Mu)\n",
        "  eps = np.linalg.norm(gd_0) * np.finfo(np.float32).eps \n",
        "  for i in range(N):\n",
        "    xx0 = 1.*Alpha_Mu[i]\n",
        "    Alpha_Mu[i] = xx0 + eps\n",
        "    gd_1 =  grad_f(Alpha_Mu)\n",
        "    hessian[:,i] = ((gd_1 - gd_0)/eps)\n",
        "    Alpha_Mu[i] =xx0\n",
        "  return hessian\n",
        "Hessian_f(Alpha_Mu)"
      ],
      "metadata": {
        "colab": {
          "base_uri": "https://localhost:8080/"
        },
        "id": "XWoppuy_tJuR",
        "outputId": "f7610256-793a-4952-c017-aa78e137686a"
      },
      "execution_count": 297,
      "outputs": [
        {
          "output_type": "execute_result",
          "data": {
            "text/plain": [
              "array([[-3304.78336642, -3304.78336642, -3304.78336642, -2937.5852146 ,\n",
              "        -1101.59445547,     0.        , -2937.5852146 , -1101.59445547,\n",
              "            0.        , -2937.5852146 , -1101.59445547,     0.        ],\n",
              "       [-3304.78336642, -3304.78336642, -3304.78336642, -2937.5852146 ,\n",
              "        -1101.59445547,     0.        , -2937.5852146 , -1101.59445547,\n",
              "            0.        , -2937.5852146 , -1101.59445547,     0.        ],\n",
              "       [-3304.78336642, -3304.78336642, -3304.78336642, -2937.5852146 ,\n",
              "        -1101.59445547,     0.        , -2937.5852146 , -1101.59445547,\n",
              "            0.        , -2937.5852146 , -1101.59445547,     0.        ],\n",
              "       [ -367.19815182,  -367.19815182,  -367.19815182, -1468.7926073 ,\n",
              "         1101.59445547,  1101.59445547, -1468.7926073 ,  1101.59445547,\n",
              "         1101.59445547, -1468.7926073 ,  1101.59445547,  1101.59445547],\n",
              "       [    0.        ,     0.        ,     0.        ,  -367.19815182,\n",
              "        -1101.59445547,   734.39630365,  -367.19815182, -1101.59445547,\n",
              "          734.39630365,  -367.19815182, -1101.59445547,   734.39630365],\n",
              "       [ -367.19815182,  -367.19815182,  -367.19815182,  -367.19815182,\n",
              "         -367.19815182, -1468.7926073 ,  -367.19815182,  -367.19815182,\n",
              "        -1468.7926073 ,  -367.19815182,  -367.19815182, -1468.7926073 ],\n",
              "       [ -367.19815182,  -367.19815182,  -367.19815182, -1468.7926073 ,\n",
              "         1101.59445547,  1101.59445547, -1468.7926073 ,  1101.59445547,\n",
              "         1101.59445547, -1468.7926073 ,  1101.59445547,  1101.59445547],\n",
              "       [    0.        ,     0.        ,     0.        ,  -367.19815182,\n",
              "        -1101.59445547,   734.39630365,  -367.19815182, -1101.59445547,\n",
              "          734.39630365,  -367.19815182, -1101.59445547,   734.39630365],\n",
              "       [ -367.19815182,  -367.19815182,  -367.19815182,  -367.19815182,\n",
              "         -367.19815182, -1468.7926073 ,  -367.19815182,  -367.19815182,\n",
              "        -1468.7926073 ,  -367.19815182,  -367.19815182, -1468.7926073 ],\n",
              "       [ -367.19815182,  -367.19815182,  -367.19815182, -1468.7926073 ,\n",
              "         1101.59445547,  1101.59445547, -1468.7926073 ,  1101.59445547,\n",
              "         1101.59445547, -1468.7926073 ,  1101.59445547,  1101.59445547],\n",
              "       [    0.        ,     0.        ,     0.        ,  -367.19815182,\n",
              "        -1101.59445547,   734.39630365,  -367.19815182, -1101.59445547,\n",
              "          734.39630365,  -367.19815182, -1101.59445547,   734.39630365],\n",
              "       [ -367.19815182,  -367.19815182,  -367.19815182,  -367.19815182,\n",
              "         -367.19815182, -1468.7926073 ,  -367.19815182,  -367.19815182,\n",
              "        -1468.7926073 ,  -367.19815182,  -367.19815182, -1468.7926073 ]])"
            ]
          },
          "metadata": {},
          "execution_count": 297
        }
      ]
    },
    {
      "cell_type": "code",
      "source": [
        "def optimizador_alternado(Alpha_Mu_0,tol_g=10**(-1),max_iter=10**3):\n",
        "    #Definir gradientes parciales g_alpha_k, g_mu_k\n",
        "    #minimizar g(g_alpha_k,g_mu_k) como función de g_alpha_k\n",
        "    #Ese minimo es alpha_k+1\n",
        "    #minimizar g(g_alpha_k+1,g_mu_k) como función de g_mu_k\n",
        "    #Ese minimo es mu_k+1\n",
        "    k=0\n",
        "    n=int(len(Alpha_Mu)/4)\n",
        "    Alpha_0, Mu_01,Mu_02,Mu_03=np.split(np.array(Alpha_Mu_0),4) #Condicion inicial\n",
        "    Mu_0=np.concatenate((Mu_01,Mu_02,Mu_03))\n",
        "    print(Alpha_0,Mu_0)\n",
        "    #while(np.linalg.norm(grad_g)>tol_g):\n",
        "    for i in range(1):\n",
        "        def fun_obj_alpha(Alpha_1):\n",
        "            return fun_obj(np.concatenate((Alpha_1,Mu_0)))\n",
        "        def fun_obj_mu(Mu_1):\n",
        "            return fun_obj(np.concatenate((Alpha_0,Mu_1)))\n",
        "        def grad_fun_obj_alpha(Alpha_1):\n",
        "            return np.split(grad_f(np.concatenate((Alpha_1,Mu_0))),4)[0]\n",
        "        def grad_fun_obj_mu(Mu_1):\n",
        "            return np.split(grad_f(np.concatenate((Alpha_0,Mu_1))),4)[1:]\n",
        "        def Hessian_fun_obj_alpha(Alpha_1):\n",
        "            return np.array(Hessian_f(np.concatenate((Alpha_1,Mu_0))))[0:n,0:n]\n",
        "        def Hessian_fun_obj_mu(Mu_1):\n",
        "            return np.array(Hessian_f(np.concatenate((Alpha_0,Mu_1))))[n:,n:]\n",
        "        Alpha_1=GC(f=fun_obj_alpha,grad_f=grad_fun_obj_alpha, Hessian_f=Hessian_fun_obj_alpha,x_0=np.array(Alpha_0))#Calcular minimo.\n",
        "        Alpha_0=Alpha_1 #Actualizamos\n",
        "        Mu_1=GC(f=fun_obj_mu,grad_f=grad_fun_obj_mu, Hessian_f=Hessian_fun_obj_mu,x_0=np.array(Mu_0))#Calcular minimo.\n",
        "        Mu_0=Mu_1 #Actulizamos\n",
        "        #Eso fue una iteracion\n",
        "        print(Alpha_0,Mu_0)"
      ],
      "metadata": {
        "id": "RJgKZLeSTx-9"
      },
      "execution_count": 305,
      "outputs": []
    },
    {
      "cell_type": "code",
      "source": [
        "u=optimizador_alternado(Alpha_Mu_0=np.array(Alpha_Mu),tol_g=10**(-3),max_iter=10**3)\n"
      ],
      "metadata": {
        "colab": {
          "base_uri": "https://localhost:8080/",
          "height": 380
        },
        "id": "w-94Ys545z-v",
        "outputId": "dc5f3537-35da-41ff-a1fb-45c752acefa2"
      },
      "execution_count": 306,
      "outputs": [
        {
          "output_type": "stream",
          "name": "stdout",
          "text": [
            "[1. 1. 1.] [4. 2. 1. 4. 2. 1. 4. 2. 1.]\n"
          ]
        },
        {
          "output_type": "stream",
          "name": "stderr",
          "text": [
            "/usr/local/lib/python3.7/dist-packages/ipykernel_launcher.py:7: RuntimeWarning: invalid value encountered in double_scalars\n",
            "  import sys\n"
          ]
        },
        {
          "output_type": "stream",
          "name": "stdout",
          "text": [
            "iter 2\n"
          ]
        },
        {
          "output_type": "error",
          "ename": "TypeError",
          "evalue": "ignored",
          "traceback": [
            "\u001b[0;31m---------------------------------------------------------------------------\u001b[0m",
            "\u001b[0;31mTypeError\u001b[0m                                 Traceback (most recent call last)",
            "\u001b[0;32m<ipython-input-306-5bc4dd9557eb>\u001b[0m in \u001b[0;36m<module>\u001b[0;34m()\u001b[0m\n\u001b[0;32m----> 1\u001b[0;31m \u001b[0mu\u001b[0m\u001b[0;34m=\u001b[0m\u001b[0moptimizador_alternado\u001b[0m\u001b[0;34m(\u001b[0m\u001b[0mAlpha_Mu_0\u001b[0m\u001b[0;34m=\u001b[0m\u001b[0mnp\u001b[0m\u001b[0;34m.\u001b[0m\u001b[0marray\u001b[0m\u001b[0;34m(\u001b[0m\u001b[0mAlpha_Mu\u001b[0m\u001b[0;34m)\u001b[0m\u001b[0;34m,\u001b[0m\u001b[0mtol_g\u001b[0m\u001b[0;34m=\u001b[0m\u001b[0;36m10\u001b[0m\u001b[0;34m**\u001b[0m\u001b[0;34m(\u001b[0m\u001b[0;34m-\u001b[0m\u001b[0;36m3\u001b[0m\u001b[0;34m)\u001b[0m\u001b[0;34m,\u001b[0m\u001b[0mmax_iter\u001b[0m\u001b[0;34m=\u001b[0m\u001b[0;36m10\u001b[0m\u001b[0;34m**\u001b[0m\u001b[0;36m3\u001b[0m\u001b[0;34m)\u001b[0m\u001b[0;34m\u001b[0m\u001b[0;34m\u001b[0m\u001b[0m\n\u001b[0m",
            "\u001b[0;32m<ipython-input-305-5ad98fb3bf78>\u001b[0m in \u001b[0;36moptimizador_alternado\u001b[0;34m(Alpha_Mu_0, tol_g, max_iter)\u001b[0m\n\u001b[1;32m     26\u001b[0m         \u001b[0mAlpha_1\u001b[0m\u001b[0;34m=\u001b[0m\u001b[0mGC\u001b[0m\u001b[0;34m(\u001b[0m\u001b[0mf\u001b[0m\u001b[0;34m=\u001b[0m\u001b[0mfun_obj_alpha\u001b[0m\u001b[0;34m,\u001b[0m\u001b[0mgrad_f\u001b[0m\u001b[0;34m=\u001b[0m\u001b[0mgrad_fun_obj_alpha\u001b[0m\u001b[0;34m,\u001b[0m \u001b[0mHessian_f\u001b[0m\u001b[0;34m=\u001b[0m\u001b[0mHessian_fun_obj_alpha\u001b[0m\u001b[0;34m,\u001b[0m\u001b[0mx_0\u001b[0m\u001b[0;34m=\u001b[0m\u001b[0mnp\u001b[0m\u001b[0;34m.\u001b[0m\u001b[0marray\u001b[0m\u001b[0;34m(\u001b[0m\u001b[0mAlpha_0\u001b[0m\u001b[0;34m)\u001b[0m\u001b[0;34m)\u001b[0m\u001b[0;31m#Calcular minimo.\u001b[0m\u001b[0;34m\u001b[0m\u001b[0;34m\u001b[0m\u001b[0m\n\u001b[1;32m     27\u001b[0m         \u001b[0mAlpha_0\u001b[0m\u001b[0;34m=\u001b[0m\u001b[0mAlpha_1\u001b[0m \u001b[0;31m#Actualizamos\u001b[0m\u001b[0;34m\u001b[0m\u001b[0;34m\u001b[0m\u001b[0m\n\u001b[0;32m---> 28\u001b[0;31m         \u001b[0mMu_1\u001b[0m\u001b[0;34m=\u001b[0m\u001b[0mGC\u001b[0m\u001b[0;34m(\u001b[0m\u001b[0mf\u001b[0m\u001b[0;34m=\u001b[0m\u001b[0mfun_obj_mu\u001b[0m\u001b[0;34m,\u001b[0m\u001b[0mgrad_f\u001b[0m\u001b[0;34m=\u001b[0m\u001b[0mgrad_fun_obj_mu\u001b[0m\u001b[0;34m,\u001b[0m \u001b[0mHessian_f\u001b[0m\u001b[0;34m=\u001b[0m\u001b[0mHessian_fun_obj_mu\u001b[0m\u001b[0;34m,\u001b[0m\u001b[0mx_0\u001b[0m\u001b[0;34m=\u001b[0m\u001b[0mnp\u001b[0m\u001b[0;34m.\u001b[0m\u001b[0marray\u001b[0m\u001b[0;34m(\u001b[0m\u001b[0mMu_0\u001b[0m\u001b[0;34m)\u001b[0m\u001b[0;34m)\u001b[0m\u001b[0;31m#Calcular minimo.\u001b[0m\u001b[0;34m\u001b[0m\u001b[0;34m\u001b[0m\u001b[0m\n\u001b[0m\u001b[1;32m     29\u001b[0m         \u001b[0mMu_0\u001b[0m\u001b[0;34m=\u001b[0m\u001b[0mMu_1\u001b[0m \u001b[0;31m#Actulizamos\u001b[0m\u001b[0;34m\u001b[0m\u001b[0;34m\u001b[0m\u001b[0m\n\u001b[1;32m     30\u001b[0m         \u001b[0;31m#Eso fue una iteracion\u001b[0m\u001b[0;34m\u001b[0m\u001b[0;34m\u001b[0m\u001b[0;34m\u001b[0m\u001b[0m\n",
            "\u001b[0;32m<ipython-input-288-2a978c261b85>\u001b[0m in \u001b[0;36mGC\u001b[0;34m(f, grad_f, Hessian_f, x_0, tol_g, max_iter)\u001b[0m\n\u001b[1;32m      1\u001b[0m \u001b[0;32mdef\u001b[0m \u001b[0mGC\u001b[0m\u001b[0;34m(\u001b[0m\u001b[0mf\u001b[0m\u001b[0;34m,\u001b[0m\u001b[0mgrad_f\u001b[0m\u001b[0;34m,\u001b[0m\u001b[0mHessian_f\u001b[0m\u001b[0;34m,\u001b[0m\u001b[0mx_0\u001b[0m\u001b[0;34m,\u001b[0m\u001b[0mtol_g\u001b[0m\u001b[0;34m=\u001b[0m\u001b[0;36m10\u001b[0m\u001b[0;34m**\u001b[0m\u001b[0;34m(\u001b[0m\u001b[0;34m-\u001b[0m\u001b[0;36m1\u001b[0m\u001b[0;34m)\u001b[0m\u001b[0;34m,\u001b[0m\u001b[0mmax_iter\u001b[0m\u001b[0;34m=\u001b[0m\u001b[0;36m10\u001b[0m\u001b[0;34m**\u001b[0m\u001b[0;36m3\u001b[0m\u001b[0;34m)\u001b[0m\u001b[0;34m:\u001b[0m\u001b[0;34m\u001b[0m\u001b[0;34m\u001b[0m\u001b[0m\n\u001b[1;32m      2\u001b[0m     \u001b[0mn\u001b[0m\u001b[0;34m=\u001b[0m\u001b[0mlen\u001b[0m\u001b[0;34m(\u001b[0m\u001b[0mx_0\u001b[0m\u001b[0;34m)\u001b[0m\u001b[0;31m#Dimension del espacio\u001b[0m\u001b[0;34m\u001b[0m\u001b[0;34m\u001b[0m\u001b[0m\n\u001b[0;32m----> 3\u001b[0;31m     \u001b[0md_0\u001b[0m\u001b[0;34m=\u001b[0m\u001b[0mnp\u001b[0m\u001b[0;34m.\u001b[0m\u001b[0marray\u001b[0m\u001b[0;34m(\u001b[0m\u001b[0;34m-\u001b[0m\u001b[0mgrad_f\u001b[0m\u001b[0;34m(\u001b[0m\u001b[0mx_0\u001b[0m\u001b[0;34m)\u001b[0m\u001b[0;34m)\u001b[0m\u001b[0;34m\u001b[0m\u001b[0;34m\u001b[0m\u001b[0m\n\u001b[0m\u001b[1;32m      4\u001b[0m     \u001b[0mk\u001b[0m\u001b[0;34m=\u001b[0m\u001b[0;36m0\u001b[0m\u001b[0;34m\u001b[0m\u001b[0;34m\u001b[0m\u001b[0m\n\u001b[1;32m      5\u001b[0m     \u001b[0;32mwhile\u001b[0m\u001b[0;34m(\u001b[0m\u001b[0mnp\u001b[0m\u001b[0;34m.\u001b[0m\u001b[0mlinalg\u001b[0m\u001b[0;34m.\u001b[0m\u001b[0mnorm\u001b[0m\u001b[0;34m(\u001b[0m\u001b[0mgrad_f\u001b[0m\u001b[0;34m(\u001b[0m\u001b[0mx_0\u001b[0m\u001b[0;34m)\u001b[0m\u001b[0;34m)\u001b[0m\u001b[0;34m>=\u001b[0m\u001b[0mtol_g\u001b[0m \u001b[0;32mand\u001b[0m \u001b[0mk\u001b[0m\u001b[0;34m<\u001b[0m\u001b[0mmax_iter\u001b[0m\u001b[0;34m)\u001b[0m\u001b[0;34m:\u001b[0m\u001b[0;34m\u001b[0m\u001b[0;34m\u001b[0m\u001b[0m\n",
            "\u001b[0;31mTypeError\u001b[0m: bad operand type for unary -: 'list'"
          ]
        }
      ]
    },
    {
      "cell_type": "code",
      "source": [
        "print(fun_obj([.1,.2,.3,.4,.5,.6]))\n",
        "print(fun_obj([ 882.88641307, 3012.0808042,  2004.02758718, 95.45542611, -38.46668854 , 37.96364189]))"
      ],
      "metadata": {
        "id": "bTvR54_iaVkS",
        "outputId": "76b17583-a15d-4b91-e17b-afcd1f4a3aa0",
        "colab": {
          "base_uri": "https://localhost:8080/"
        }
      },
      "execution_count": 191,
      "outputs": [
        {
          "output_type": "stream",
          "name": "stdout",
          "text": [
            "7585746.944873892\n",
            "7565020.841263569\n"
          ]
        }
      ]
    },
    {
      "cell_type": "code",
      "source": [
        "def print_seleccion(img):\n",
        "    for i in range(500):\n",
        "        for j in range(500):\n",
        "            c=img[i,j] #(es un vector)\n",
        "            #Asignar etiqueta a ese pixel\n",
        "            img[i,j,0]=255\n",
        "            img[i,j,1]=0\n",
        "            img[i,j,2]=0\n",
        "    return img\n"
      ],
      "metadata": {
        "id": "N9YzPKPHsfqI"
      },
      "execution_count": 203,
      "outputs": []
    },
    {
      "cell_type": "code",
      "source": [
        "import matplotlib.pyplot as plt\n",
        "import matplotlib.image as mpimg\n",
        "img = mpimg.imread('Strokes.png')\n",
        "imgplot = plt.imshow(print_seleccion(img))\n",
        "plt.show()"
      ],
      "metadata": {
        "id": "TMwLEkje2tCB",
        "outputId": "c7b0da98-0df3-40c8-fe3a-50278bec019b",
        "colab": {
          "base_uri": "https://localhost:8080/",
          "height": 286
        }
      },
      "execution_count": 202,
      "outputs": [
        {
          "output_type": "stream",
          "name": "stderr",
          "text": [
            "Clipping input data to the valid range for imshow with RGB data ([0..1] for floats or [0..255] for integers).\n"
          ]
        },
        {
          "output_type": "display_data",
          "data": {
            "text/plain": [
              "<Figure size 432x288 with 1 Axes>"
            ],
            "image/png": "[encoded data removed]"
          },
          "metadata": {
            "needs_background": "light"
          }
        }
      ]
    }
  ]
}