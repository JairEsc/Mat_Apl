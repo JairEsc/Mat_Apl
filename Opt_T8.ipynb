{
  "nbformat": 4,
  "nbformat_minor": 0,
  "metadata": {
    "colab": {
      "name": "Untitled104.ipynb",
      "provenance": [],
      "authorship_tag": "ABX9TyPqfodkPI7kKJ+7KC8a/Yoq",
      "include_colab_link": true
    },
    "kernelspec": {
      "name": "python3",
      "display_name": "Python 3"
    },
    "language_info": {
      "name": "python"
    }
  },
  "cells": [
    {
      "cell_type": "markdown",
      "metadata": {
        "id": "view-in-github",
        "colab_type": "text"
      },
      "source": [
        "<a href=\"https://colab.research.google.com/github/JairEsc/Mat_Apl/blob/main/Opt_T8.ipynb\" target=\"_parent\"><img src=\"https://colab.research.google.com/assets/colab-badge.svg\" alt=\"Open In Colab\"/></a>"
      ]
    },
    {
      "cell_type": "markdown",
      "source": [
        "# Segmentador"
      ],
      "metadata": {
        "id": "u39cS1risgaE"
      }
    },
    {
      "cell_type": "markdown",
      "source": [
        "Se define $g:\\mathbb{R}^n\\times \\mathbb{R}^n⟶ \\mathbb{R}$ como\n",
        "\n",
        "$$g\\left(\\alpha^{j}, \\mu^{j}\\right)=\\sum_{c \\in \\Omega}\\left[h^{j}(c)-\\sum_{i=1}^n \\alpha_{i}^{j} \\exp \\left(\\frac{-\\left\\|h^j(c)-\\mu_{i}^{j}\\right\\|_{2}^{2}}{2 \\sigma^{2}}\\right)\\right]^{2}$$\n",
        "Para $j=1,2$,\n",
        "\n",
        "$\\alpha^{j}=\\left[\\alpha_{1}^{j}, \\alpha_{2}^{j}, \\ldots, \\alpha_{n}^{j}\\right]$ son los pesos de la combinación lineal de la base radial. \n",
        "\n",
        "$\\mu^{j}=\\left[\\mu_{1}^{j}, \\mu_{2}^{j}, \\ldots, \\mu_{n}^{j}\\right]$ son las medias de los elementos de la base radial.\n",
        "\n",
        "Parámetros como los histogramas $h^j$, un espacio de colores $\\Omega=\\{0,1,\\ldots,255\\}^3$ y un parámetro de amplitud $\\sigma$ se consideran dados y fijos.\n",
        "\n",
        "Calculamos el gradiente de la función $g$, para cada $i\\leq n$:\n",
        "\n",
        "$$\\frac{\\partial g}{\\partial \\alpha^j_i}=-2\\sum\\limits_{c \\in \\Omega}\\left[\\left[h^{j}(c)-\\sum_{i=1}^n \\alpha_{i}^{j} \\exp \\left(\\frac{-\\left\\|h^j(c)-\\mu_{i}^{j}\\right\\|_{2}^{2}}{2 \\sigma^{2}}\\right)\\right]\\exp \\left(\\frac{-\\left\\|h^j(c)-\\mu_{i}^{j}\\right\\|_{2}^{2}}{2 \\sigma^{2}}\\right)\\right] $$\n",
        "$$\\frac{\\partial g}{\\partial \\mu^j_i}=-2\\sum\\limits_{c \\in \\Omega}\\left[\\left[h^{j}(c)-\\sum_{i=1}^n \\alpha_{i}^{j} \\exp \\left(\\frac{-\\left\\|h^j(c)-\\mu_{i}^{j}\\right\\|_{2}^{2}}{2 \\sigma^{2}}\\right)\\right]\\alpha_i^j\\exp \\left(\\frac{-\\left\\|h^j(c)-\\mu_{i}^{j}\\right\\|_{2}^{2}}{2 \\sigma^{2}}\\right)\\frac{2\\left(h^j(c)-\\mu_{i}^{j}\\right)}{2 \\sigma^{2}}\\right] $$\n",
        "\n",
        "De igual manera, calculamos la matriz Hessiana, a partir de las derivadas parciales:\n",
        "\n",
        "$$\\frac{\\partial^2 g}{\\partial \\alpha_i^j\\partial\\alpha_k^j }=2\\exp\\left(\\frac{-\\left\\|h^j(c)-\\mu_{i}^{j}\\right\\|_{2}^{2}}{2 \\sigma^{2}}\\right)\\sum\\limits_{c \\in \\Omega}\\left[\\exp \\left(\\frac{-\\left\\|h^j(c)-\\mu_{k}^{j}\\right\\|_{2}^{2}}{2 \\sigma^{2}}\\right)\\right]$$\n",
        "$$\\frac{\\partial^2 g}{\\partial \\alpha_i^j\\partial\\mu_k^j }=2\\exp\\left(\\frac{-\\left\\|h^j(c)-\\mu_{i}^{j}\\right\\|_{2}^{2}}{2 \\sigma^{2}}\\right)\\sum\\limits_{c \\in \\Omega}\\left[\\alpha_k^jexp\\left(\\frac{-\\left\\|h^j(c)-\\mu_{k}^{j}\\right\\|_{2}^{2}}{2 \\sigma^{2}}\\right)\\left(\\frac{2\\left(h^j(c)-\\mu_{i}^{j}\\right)}{2 \\sigma^{2}}\\right)\\right]+\\chi_{\\{i\\}}(k)2\\sum\\limits_{c \\in \\Omega}\\left[h^{j}(c)-\\sum_{i=1}^n \\alpha_{i}^{j} \\exp \\left(\\frac{-\\left\\|h^j(c)-\\mu_{i}^{j}\\right\\|_{2}^{2}}{2 \\sigma^{2}}\\right)\\right]\\exp\\left(\\frac{-\\left\\|h^j(c)-\\mu_{k}^{j}\\right\\|_{2}^{2}}{2 \\sigma^{2}}\\right)\\frac{2(h^j(c)-\\mu_k^j)}{2\\sigma^2}$$\n",
        "$$\\frac{\\partial^2 g}{\\partial \\mu_i^j\\partial\\mu_k^j }=\\left[2\\sum\\limits_{c \\in \\Omega}\\left[\\exp \\left(\\frac{-\\left\\|h^j(c)-\\mu_{k}^{j}\\right\\|_{2}^{2}}{2 \\sigma^{2}}\\right)\\right]\\right]\\left[\\alpha_{i}^{j} \\exp \\left(\\frac{-\\left\\|h^j(c)-\\mu_{i}^{j}\\right\\|_{2}^{2}}{2 \\sigma^{2}}\\right)\\frac{h^j(c)-\\mu_i^j}{\\sigma^2}\\right]\\chi_{\\{i\\}}(k)-2\\alpha_{i}^{j} \\exp \\left(\\frac{-\\left\\|h^j(c)-\\mu_{i}^{j}\\right\\|_{2}^{2}}{2 \\sigma^{2}}\\right)\\frac{h^j(c)-\\mu_i^j}{\\sigma^2}\\sum\\limits_{c \\in \\Omega}\\left[\\alpha_k^j\\exp \\left(\\frac{-\\left\\|h^j(c)-\\mu_{k}^{j}\\right\\|_{2}^{2}}{2 \\sigma^{2}}\\right)\\frac{h^j(c)-\\mu_i^j}{\\sigma^2}\\right]$$ "
      ],
      "metadata": {
        "id": "Q4cTsLfZsxuL"
      }
    },
    {
      "cell_type": "code",
      "source": [
        "import numpy as np\n",
        "sigma_sq=0.5\n",
        "#Omega={0,1,...,255}^3"
      ],
      "metadata": {
        "id": "PcIMjXsu2r5O"
      },
      "execution_count": 27,
      "outputs": []
    },
    {
      "cell_type": "code",
      "source": [
        "n_bins=8\n",
        "hist_obj=np.loadtxt('H_0.txt',skiprows=1)\n",
        "hist_fondo=np.loadtxt('H_0.txt',skiprows=1)\n",
        "def h(c,obj):\n",
        "    if(obj=='obj'):\n",
        "        return hist_obj[int(c[0]*(n_bins)**2+c[1]*(n_bins)+c[2])]\n",
        "    else:\n",
        "        return hist_fondo[int(c[0]*(n_bins)**2+c[1]*(n_bins)+c[2])]\n",
        "obj='obj'\n",
        "def comb_base(Alpha_Mu,c):\n",
        "    n=int(len(Alpha_Mu)/2)\n",
        "    suma=0\n",
        "    for i in range(n):\n",
        "        suma+=Alpha_Mu[i]*np.exp(-((h(c=c,obj=obj)-Alpha_Mu[n+i])**2)/(2*sigma_sq))\n",
        "    return suma\n",
        "def fun_obj(Alpha,Mu):\n",
        "    g=0\n",
        "    Alpha_Mu=np.concatenate(Alpha,Mu)\n",
        "    for r in range(n_bins):\n",
        "        for gr in range(n_bins):\n",
        "            for b in range(n_bins):\n",
        "                #c=(r,g,b)\n",
        "                c=np.array([int(r),int(gr),int(b)])\n",
        "                g+=(h(c=c,obj=obj)-comb_base(Alpha_Mu,c))**2\n",
        "    return g"
      ],
      "metadata": {
        "id": "OJ2I1BbgJn4r"
      },
      "execution_count": 95,
      "outputs": []
    },
    {
      "cell_type": "code",
      "source": [
        "print(comb_base(Alpha_Mu=[1,1,1,0.5,0.5,0.1],c=[0,0,0]))"
      ],
      "metadata": {
        "id": "T8X_NhuOSY8A",
        "outputId": "8b66ba2c-0f97-43b7-b446-23f432f1f8c7",
        "colab": {
          "base_uri": "https://localhost:8080/"
        }
      },
      "execution_count": 96,
      "outputs": [
        {
          "output_type": "stream",
          "name": "stdout",
          "text": [
            "2.547651399891978\n"
          ]
        }
      ]
    },
    {
      "cell_type": "code",
      "source": [
        "def GC(f,grad_f,Hessian_f,x_0,tol_g=10**(-3),max_iter=10**3):\n",
        "    n=len(x_0)#Dimension del espacio\n",
        "    d_0=-grad_f(x_0)\n",
        "    k=0\n",
        "    while(np.linalg.norm(grad_f(x_0))>=tol_g):\n",
        "        H=Hessian_f(x_0)\n",
        "        alpha_k_gc=-(np.dot(grad_f(x_0),d_0))/(np.dot(d_0,np.dot(H,d_0)))#Tam. de paso\n",
        "        x_0+=alpha_k_gc*d_0\n",
        "        g_km1=grad_f(x_0)\n",
        "        beta_k_gc=(np.dot(d_0,np.dot(H,g_km1))/(np.dot(d_0,np.dot(H,d_0))))\n",
        "        d_0=-g_km1+beta_k_gc*d_0\n",
        "        k+=1\n",
        "    print(\"iter\",k)\n",
        "    return x_0"
      ],
      "metadata": {
        "id": "qc8NBedPZWf0"
      },
      "execution_count": 86,
      "outputs": []
    },
    {
      "cell_type": "code",
      "source": [
        "A=[[5,1],[1,2]]\n",
        "b=[2,2]\n",
        "def f(X):\n",
        "    return(0.5*np.dot(X,np.dot(A,X))-np.dot(X,b))\n",
        "def grad_f(X):\n",
        "    return(np.dot(A,X)-b)\n",
        "def Hessian_f(X):\n",
        "    return (A)\n",
        "print(GC(f=f,grad_f=grad_f,Hessian_f=Hessian_f,x_0=[1,2]))"
      ],
      "metadata": {
        "id": "n6ag65TSrvv8",
        "outputId": "fcd6ac0c-42c8-4dbd-b77c-6507537e4026",
        "colab": {
          "base_uri": "https://localhost:8080/"
        }
      },
      "execution_count": 87,
      "outputs": [
        {
          "output_type": "stream",
          "name": "stdout",
          "text": [
            "iter 2\n",
            "[0.22222222 0.88888889]\n"
          ]
        }
      ]
    },
    {
      "cell_type": "code",
      "source": [
        "n=100\n",
        "def Rosembrok(X):#X es un vector.\n",
        "    return np.sum(100*(X[1:]-X[:-1]**2)**2+(1-X[:-1])**2)\n",
        "def Rosembrok_grad(X):\n",
        "    n=len(X)\n",
        "    grad=np.zeros(n)\n",
        "    grad[1:-1]=-400*X[1:-1]*(X[2:]-X[1:-1]**2)+200*(X[1:-1]-X[:-2]**2)-2*(1-X[1:-1])\n",
        "    grad[0]=-400*X[0]*(X[1]-X[0]**2)-2*(1-X[0])\n",
        "    grad[-1]=200*(X[-1]-X[-2]**2)\n",
        "    return grad\n",
        "def Rosembrok_Hessian(X):\n",
        "    banda_s=X[:-1]\n",
        "    H=np.diag(banda_s,1)\n",
        "    H=-400*H+-400*H.T\n",
        "    main_diag=-400*(X[2:]-X[1:-1]**2)+800*(X[1:-1]**2)+202\n",
        "    np.fill_diagonal(H[1:-1,1:-1],main_diag)\n",
        "    H[0,0]=(-400*(X[1]-X[0]**2)+800*(X[0]**2)+2)\n",
        "    H[-1,-1]=200\n",
        "    H[0,1]=-400*(X[1])\n",
        "    H[-1,-2]=-400*X[-2]\n",
        "    return(H)\n",
        "print(Rosembrok(GC(f=Rosembrok,grad_f=Rosembrok_grad,Hessian_f=Rosembrok_Hessian,x_0=np.random.uniform(0,1,size=100))))"
      ],
      "metadata": {
        "id": "arZxPYIttjGL",
        "outputId": "58598b43-8fd9-4234-fff0-74af43302840",
        "colab": {
          "base_uri": "https://localhost:8080/"
        }
      },
      "execution_count": 92,
      "outputs": [
        {
          "output_type": "stream",
          "name": "stdout",
          "text": [
            "iter 283\n",
            "3.9316409868527514e-08\n"
          ]
        }
      ]
    },
    {
      "cell_type": "code",
      "source": [
        ""
      ],
      "metadata": {
        "id": "XWoppuy_tJuR",
        "outputId": "f7677f18-b26c-43fd-bc21-168cbadb9388",
        "colab": {
          "base_uri": "https://localhost:8080/"
        }
      },
      "execution_count": 55,
      "outputs": [
        {
          "output_type": "execute_result",
          "data": {
            "text/plain": [
              "array([0.22222222, 0.88888889])"
            ]
          },
          "metadata": {},
          "execution_count": 55
        }
      ]
    },
    {
      "cell_type": "code",
      "source": [
        ""
      ],
      "metadata": {
        "id": "0jM3EtMYy-u-"
      },
      "execution_count": null,
      "outputs": []
    },
    {
      "cell_type": "code",
      "source": [
        "def optimizador_alternado(g,Alpha_Mu_0,tol_g=10**(-3),max_iter=10**3):\n",
        "    #Definir gradientes parciales g_alpha_k, g_mu_k\n",
        "    #minimizar g(g_alpha_k,g_mu_k) como función de g_alpha_k\n",
        "    #Ese minimo es alpha_k+1\n",
        "    #minimizar g(g_alpha_k+1,g_mu_k) como función de g_mu_k\n",
        "    #Ese minimo es mu_k+1\n",
        "    \n",
        "    Alpha_0, Mu_0=np.split(np.array(Alpha_Mu_0),2)\n",
        "    print(fun_obj(Alpha_0,Mu_0))\n",
        "    def fun_obj_alpha(Alpha):\n",
        "        return fun_obj(Alpha,Mu_0)\n",
        "    print(fun_obj_alpha(np.array([1,1,1])))"
      ],
      "metadata": {
        "id": "RJgKZLeSTx-9"
      },
      "execution_count": 132,
      "outputs": []
    },
    {
      "cell_type": "code",
      "source": [
        "A,B=np.split(np.array([1,2,3,4,5,6]),2,)\n",
        "print(A)"
      ],
      "metadata": {
        "id": "h8bqSuYB6rkW",
        "outputId": "69d7174b-b61b-4634-f1fc-db61994f7322",
        "colab": {
          "base_uri": "https://localhost:8080/"
        }
      },
      "execution_count": 133,
      "outputs": [
        {
          "output_type": "stream",
          "name": "stdout",
          "text": [
            "[1 2 3]\n"
          ]
        }
      ]
    },
    {
      "cell_type": "code",
      "source": [
        "optimizador_alternado(g=0,Alpha_Mu_0=[5,5,5,5,5,5])"
      ],
      "metadata": {
        "id": "w-94Ys545z-v",
        "outputId": "80ef4405-5287-4566-c468-64bca3085ba5",
        "colab": {
          "base_uri": "https://localhost:8080/",
          "height": 345
        }
      },
      "execution_count": 134,
      "outputs": [
        {
          "output_type": "error",
          "ename": "TypeError",
          "evalue": "ignored",
          "traceback": [
            "\u001b[0;31m---------------------------------------------------------------------------\u001b[0m",
            "\u001b[0;31mTypeError\u001b[0m                                 Traceback (most recent call last)",
            "\u001b[0;32m<ipython-input-134-31698431017b>\u001b[0m in \u001b[0;36m<module>\u001b[0;34m()\u001b[0m\n\u001b[0;32m----> 1\u001b[0;31m \u001b[0moptimizador_alternado\u001b[0m\u001b[0;34m(\u001b[0m\u001b[0mg\u001b[0m\u001b[0;34m=\u001b[0m\u001b[0;36m0\u001b[0m\u001b[0;34m,\u001b[0m\u001b[0mAlpha_Mu_0\u001b[0m\u001b[0;34m=\u001b[0m\u001b[0;34m[\u001b[0m\u001b[0;36m5\u001b[0m\u001b[0;34m,\u001b[0m\u001b[0;36m5\u001b[0m\u001b[0;34m,\u001b[0m\u001b[0;36m5\u001b[0m\u001b[0;34m,\u001b[0m\u001b[0;36m5\u001b[0m\u001b[0;34m,\u001b[0m\u001b[0;36m5\u001b[0m\u001b[0;34m,\u001b[0m\u001b[0;36m5\u001b[0m\u001b[0;34m]\u001b[0m\u001b[0;34m)\u001b[0m\u001b[0;34m\u001b[0m\u001b[0;34m\u001b[0m\u001b[0m\n\u001b[0m",
            "\u001b[0;32m<ipython-input-132-f43f69fe2310>\u001b[0m in \u001b[0;36moptimizador_alternado\u001b[0;34m(g, Alpha_Mu_0, tol_g, max_iter)\u001b[0m\n\u001b[1;32m      7\u001b[0m \u001b[0;34m\u001b[0m\u001b[0m\n\u001b[1;32m      8\u001b[0m     \u001b[0mAlpha_0\u001b[0m\u001b[0;34m,\u001b[0m \u001b[0mMu_0\u001b[0m\u001b[0;34m=\u001b[0m\u001b[0mnp\u001b[0m\u001b[0;34m.\u001b[0m\u001b[0msplit\u001b[0m\u001b[0;34m(\u001b[0m\u001b[0mnp\u001b[0m\u001b[0;34m.\u001b[0m\u001b[0marray\u001b[0m\u001b[0;34m(\u001b[0m\u001b[0mAlpha_Mu_0\u001b[0m\u001b[0;34m)\u001b[0m\u001b[0;34m,\u001b[0m\u001b[0;36m2\u001b[0m\u001b[0;34m)\u001b[0m\u001b[0;34m\u001b[0m\u001b[0;34m\u001b[0m\u001b[0m\n\u001b[0;32m----> 9\u001b[0;31m     \u001b[0mprint\u001b[0m\u001b[0;34m(\u001b[0m\u001b[0mfun_obj\u001b[0m\u001b[0;34m(\u001b[0m\u001b[0mAlpha_0\u001b[0m\u001b[0;34m,\u001b[0m\u001b[0mMu_0\u001b[0m\u001b[0;34m)\u001b[0m\u001b[0;34m)\u001b[0m\u001b[0;34m\u001b[0m\u001b[0;34m\u001b[0m\u001b[0m\n\u001b[0m\u001b[1;32m     10\u001b[0m     \u001b[0;32mdef\u001b[0m \u001b[0mfun_obj_alpha\u001b[0m\u001b[0;34m(\u001b[0m\u001b[0mAlpha\u001b[0m\u001b[0;34m)\u001b[0m\u001b[0;34m:\u001b[0m\u001b[0;34m\u001b[0m\u001b[0;34m\u001b[0m\u001b[0m\n\u001b[1;32m     11\u001b[0m         \u001b[0;32mreturn\u001b[0m \u001b[0mfun_obj\u001b[0m\u001b[0;34m(\u001b[0m\u001b[0mAlpha\u001b[0m\u001b[0;34m,\u001b[0m\u001b[0mMu_0\u001b[0m\u001b[0;34m)\u001b[0m\u001b[0;34m\u001b[0m\u001b[0;34m\u001b[0m\u001b[0m\n",
            "\u001b[0;32m<ipython-input-95-3d9e94eb1c02>\u001b[0m in \u001b[0;36mfun_obj\u001b[0;34m(Alpha, Mu)\u001b[0m\n\u001b[1;32m     16\u001b[0m \u001b[0;32mdef\u001b[0m \u001b[0mfun_obj\u001b[0m\u001b[0;34m(\u001b[0m\u001b[0mAlpha\u001b[0m\u001b[0;34m,\u001b[0m\u001b[0mMu\u001b[0m\u001b[0;34m)\u001b[0m\u001b[0;34m:\u001b[0m\u001b[0;34m\u001b[0m\u001b[0;34m\u001b[0m\u001b[0m\n\u001b[1;32m     17\u001b[0m     \u001b[0mg\u001b[0m\u001b[0;34m=\u001b[0m\u001b[0;36m0\u001b[0m\u001b[0;34m\u001b[0m\u001b[0;34m\u001b[0m\u001b[0m\n\u001b[0;32m---> 18\u001b[0;31m     \u001b[0mAlpha_Mu\u001b[0m\u001b[0;34m=\u001b[0m\u001b[0mnp\u001b[0m\u001b[0;34m.\u001b[0m\u001b[0mconcatenate\u001b[0m\u001b[0;34m(\u001b[0m\u001b[0mAlpha\u001b[0m\u001b[0;34m,\u001b[0m\u001b[0mMu\u001b[0m\u001b[0;34m)\u001b[0m\u001b[0;34m\u001b[0m\u001b[0;34m\u001b[0m\u001b[0m\n\u001b[0m\u001b[1;32m     19\u001b[0m     \u001b[0;32mfor\u001b[0m \u001b[0mr\u001b[0m \u001b[0;32min\u001b[0m \u001b[0mrange\u001b[0m\u001b[0;34m(\u001b[0m\u001b[0mn_bins\u001b[0m\u001b[0;34m)\u001b[0m\u001b[0;34m:\u001b[0m\u001b[0;34m\u001b[0m\u001b[0;34m\u001b[0m\u001b[0m\n\u001b[1;32m     20\u001b[0m         \u001b[0;32mfor\u001b[0m \u001b[0mgr\u001b[0m \u001b[0;32min\u001b[0m \u001b[0mrange\u001b[0m\u001b[0;34m(\u001b[0m\u001b[0mn_bins\u001b[0m\u001b[0;34m)\u001b[0m\u001b[0;34m:\u001b[0m\u001b[0;34m\u001b[0m\u001b[0;34m\u001b[0m\u001b[0m\n",
            "\u001b[0;32m<__array_function__ internals>\u001b[0m in \u001b[0;36mconcatenate\u001b[0;34m(*args, **kwargs)\u001b[0m\n",
            "\u001b[0;31mTypeError\u001b[0m: only integer scalar arrays can be converted to a scalar index"
          ]
        }
      ]
    },
    {
      "cell_type": "code",
      "source": [
        "for i in range(3):\n",
        "    for j in range(3):\n",
        "        for k in range(3):\n",
        "            print(i*3**2+j*3+k)"
      ],
      "metadata": {
        "id": "1nUzwYJlOYnh",
        "outputId": "bcad53a1-26d9-4c98-ba09-b8a69a6dc12c",
        "colab": {
          "base_uri": "https://localhost:8080/"
        }
      },
      "execution_count": 11,
      "outputs": [
        {
          "output_type": "stream",
          "name": "stdout",
          "text": [
            "0\n",
            "1\n",
            "2\n",
            "3\n",
            "4\n",
            "5\n",
            "6\n",
            "7\n",
            "8\n",
            "9\n",
            "10\n",
            "11\n",
            "12\n",
            "13\n",
            "14\n",
            "15\n",
            "16\n",
            "17\n",
            "18\n",
            "19\n",
            "20\n",
            "21\n",
            "22\n",
            "23\n",
            "24\n",
            "25\n",
            "26\n"
          ]
        }
      ]
    },
    {
      "cell_type": "code",
      "execution_count": null,
      "metadata": {
        "colab": {
          "base_uri": "https://localhost:8080/"
        },
        "id": "w5nkBqOnsftl",
        "outputId": "02c09207-415e-4e08-e038-ced96b1cd249"
      },
      "outputs": [
        {
          "output_type": "stream",
          "name": "stdout",
          "text": [
            "9812.0\n"
          ]
        }
      ],
      "source": [
        "hist=np.loadtxt(\"H_0.txt\",skiprows=1)\n",
        "print(np.sum(hist))"
      ]
    },
    {
      "cell_type": "code",
      "source": [
        "np.sum([ 45., 269., 255.,122., 423.,510.,3922.,840., 504.])"
      ],
      "metadata": {
        "colab": {
          "base_uri": "https://localhost:8080/"
        },
        "id": "4AgfgpwM3I--",
        "outputId": "f85d7a6f-111e-48cb-8b77-a86e6aca917f"
      },
      "execution_count": null,
      "outputs": [
        {
          "output_type": "execute_result",
          "data": {
            "text/plain": [
              "6890.0"
            ]
          },
          "metadata": {},
          "execution_count": 13
        }
      ]
    }
  ]
}