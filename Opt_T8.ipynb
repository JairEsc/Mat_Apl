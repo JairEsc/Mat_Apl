{
  "nbformat": 4,
  "nbformat_minor": 0,
  "metadata": {
    "colab": {
      "name": "Untitled104.ipynb",
      "provenance": [],
      "authorship_tag": "ABX9TyPWRG57Kx+kRdbA45CUAeOO",
      "include_colab_link": true
    },
    "kernelspec": {
      "name": "python3",
      "display_name": "Python 3"
    },
    "language_info": {
      "name": "python"
    }
  },
  "cells": [
    {
      "cell_type": "markdown",
      "metadata": {
        "id": "view-in-github",
        "colab_type": "text"
      },
      "source": [
        "<a href=\"https://colab.research.google.com/github/JairEsc/Mat_Apl/blob/main/Opt_T8.ipynb\" target=\"_parent\"><img src=\"https://colab.research.google.com/assets/colab-badge.svg\" alt=\"Open In Colab\"/></a>"
      ]
    },
    {
      "cell_type": "markdown",
      "source": [
        "# Segmentador"
      ],
      "metadata": {
        "id": "u39cS1risgaE"
      }
    },
    {
      "cell_type": "markdown",
      "source": [
        "Se define $g:\\mathbb{R}^n\\times \\mathbb{R}^n⟶ \\mathbb{R}$ como\n",
        "\n",
        "$$g\\left(\\alpha^{j}, \\mu^{j}\\right)=\\sum_{c \\in \\Omega}\\left[h^{j}(c)-\\sum_{i=1}^n \\alpha_{i}^{j} \\exp \\left(\\frac{-\\left\\|c-\\mu_{i}^{j}\\right\\|_{2}^{2}}{2 \\sigma^{2}}\\right)\\right]^{2}$$\n",
        "#la norma debería ser otra cosa#\n",
        "Para $j=1,2$,\n",
        "\n",
        "$\\alpha^{j}=\\left[\\alpha_{1}^{j}, \\alpha_{2}^{j}, \\ldots, \\alpha_{n}^{j}\\right]$ son los pesos de la combinación lineal de la base radial. \n",
        "\n",
        "$\\mu^{j}=\\left[\\mu_{1}^{j}, \\mu_{2}^{j}, \\ldots, \\mu_{n}^{j}\\right]$ son las medias de los elementos de la base radial.\n",
        "\n",
        "Parámetros como los histogramas $h^j$, un espacio de colores $\\Omega=\\{0,1,\\ldots,255\\}^3$ y un parámetro de amplitud $\\sigma$ se consideran dados y fijos.\n",
        "\n",
        "Calculamos el gradiente de la función $g$, para cada $i\\leq n$:\n",
        "\n",
        "$$\\frac{\\partial g}{\\partial \\alpha^j_i}=2\\sum\\limits_{c \\in \\Omega}\\left[\\left[h^{j}(c)-\\sum_{i=1}^n \\alpha_{i}^{j} \\exp \\left(\\frac{-\\left\\|c-\\mu_{i}^{j}\\right\\|_{2}^{2}}{2 \\sigma^{2}}\\right)\\right]\\exp \\left(\\frac{-\\left\\|c-\\mu_{i}^{j}\\right\\|_{2}^{2}}{2 \\sigma^{2}}\\right)\\right] $$\n",
        "$$\\frac{\\partial g}{\\partial \\mu^j_i}=2\\sum\\limits_{c \\in \\Omega}\\left[\\left[h^{j}(c)-\\sum_{i=1}^n \\alpha_{i}^{j} \\exp \\left(\\frac{-\\left\\|c-\\mu_{i}^{j}\\right\\|_{2}^{2}}{2 \\sigma^{2}}\\right)\\right]\\exp \\left(\\frac{-\\left\\|c-\\mu_{i}^{j}\\right\\|_{2}^{2}}{2 \\sigma^{2}}\\right)\\frac{2\\left(c-\\mu_{i}^{j}\\right)}{2 \\sigma^{2}}\\right] $$\n",
        "\n"
      ],
      "metadata": {
        "id": "Q4cTsLfZsxuL"
      }
    },
    {
      "cell_type": "code",
      "source": [
        "import numpy as np"
      ],
      "metadata": {
        "id": "PcIMjXsu2r5O"
      },
      "execution_count": 1,
      "outputs": []
    },
    {
      "cell_type": "code",
      "source": [
        ""
      ],
      "metadata": {
        "id": "OJ2I1BbgJn4r"
      },
      "execution_count": null,
      "outputs": []
    },
    {
      "cell_type": "code",
      "execution_count": 12,
      "metadata": {
        "colab": {
          "base_uri": "https://localhost:8080/"
        },
        "id": "w5nkBqOnsftl",
        "outputId": "02c09207-415e-4e08-e038-ced96b1cd249"
      },
      "outputs": [
        {
          "output_type": "stream",
          "name": "stdout",
          "text": [
            "9812.0\n"
          ]
        }
      ],
      "source": [
        "hist=np.loadtxt(\"H_0.txt\",skiprows=1)\n",
        "print(np.sum(hist))"
      ]
    },
    {
      "cell_type": "code",
      "source": [
        "np.sum([ 45., 269., 255.,122., 423.,510.,3922.,840., 504.])"
      ],
      "metadata": {
        "colab": {
          "base_uri": "https://localhost:8080/"
        },
        "id": "4AgfgpwM3I--",
        "outputId": "f85d7a6f-111e-48cb-8b77-a86e6aca917f"
      },
      "execution_count": 13,
      "outputs": [
        {
          "output_type": "execute_result",
          "data": {
            "text/plain": [
              "6890.0"
            ]
          },
          "metadata": {},
          "execution_count": 13
        }
      ]
    }
  ]
}