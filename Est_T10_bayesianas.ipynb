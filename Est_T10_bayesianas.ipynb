{
  "nbformat": 4,
  "nbformat_minor": 0,
  "metadata": {
    "colab": {
      "name": "Untitled106.ipynb",
      "provenance": [],
      "authorship_tag": "ABX9TyPL9oKqFCGVDNOHbhtbA/pT",
      "include_colab_link": true
    },
    "kernelspec": {
      "name": "python3",
      "display_name": "Python 3"
    },
    "language_info": {
      "name": "python"
    }
  },
  "cells": [
    {
      "cell_type": "markdown",
      "metadata": {
        "id": "view-in-github",
        "colab_type": "text"
      },
      "source": [
        "<a href=\"https://colab.research.google.com/github/JairEsc/Mat_Apl/blob/main/Est_T10_bayesianas.ipynb\" target=\"_parent\"><img src=\"https://colab.research.google.com/assets/colab-badge.svg\" alt=\"Open In Colab\"/></a>"
      ]
    },
    {
      "cell_type": "code",
      "source": [
        "from scipy import stats\n",
        "import numpy as np\n",
        "import matplotlib.pyplot as plt"
      ],
      "metadata": {
        "id": "myHzTH2JC5T1"
      },
      "execution_count": 10,
      "outputs": []
    },
    {
      "cell_type": "code",
      "execution_count": 2,
      "metadata": {
        "id": "K3JGUzwWCzNn"
      },
      "outputs": [],
      "source": [
        "data=[0,1,0,1,0,0,0,0,0,0]"
      ]
    },
    {
      "cell_type": "code",
      "source": [
        "def posterior(Theta,X,f_x,prior):\n",
        "    vec_post=[]\n",
        "    for theta in Theta:\n",
        "        post=prior(theta)\n",
        "        for x in X:\n",
        "            post=post*f_x(x)\n",
        "        vec_post.append(post)\n",
        "    return vec_post\n",
        "def plot_posterior(U):\n",
        "    w=posterior(U)\n",
        "    plt.plot(w[w>0])"
      ],
      "metadata": {
        "id": "N5EIE3AgDCpw"
      },
      "execution_count": 29,
      "outputs": []
    },
    {
      "cell_type": "code",
      "source": [
        "def prior(x,a,b):#Nomás para las beta(a,b)\n",
        "    return stats.distributions.beta.pdf(x=x,a=a,b=b)"
      ],
      "metadata": {
        "id": "NvXNO9HvEPj9"
      },
      "execution_count": 28,
      "outputs": []
    },
    {
      "cell_type": "code",
      "source": [
        "for a in [0.5,1,10,100]:\n",
        "    u=np.linspace(-a*2,2*a,10*a)\n",
        "    posterior(Theta=u,X=data,f_x=prior())"
      ],
      "metadata": {
        "id": "jZLgFYCaH3Vy"
      },
      "execution_count": null,
      "outputs": []
    }
  ]
}