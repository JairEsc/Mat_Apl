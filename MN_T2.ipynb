{
  "nbformat": 4,
  "nbformat_minor": 0,
  "metadata": {
    "colab": {
      "name": "Untitled6.ipynb",
      "provenance": [],
      "authorship_tag": "ABX9TyMEwcG5ZTBmWRrozmtuZTyf",
      "include_colab_link": true
    },
    "kernelspec": {
      "name": "python3",
      "display_name": "Python 3"
    },
    "language_info": {
      "name": "python"
    }
  },
  "cells": [
    {
      "cell_type": "markdown",
      "metadata": {
        "id": "view-in-github",
        "colab_type": "text"
      },
      "source": [
        "<a href=\"https://colab.research.google.com/github/JairEsc/Mat_Apl/blob/main/MN_T2.ipynb\" target=\"_parent\"><img src=\"https://colab.research.google.com/assets/colab-badge.svg\" alt=\"Open In Colab\"/></a>"
      ]
    },
    {
      "cell_type": "code",
      "metadata": {
        "id": "gzNhYZmg0HIa"
      },
      "source": [
        "def fun1(x):# Forma original\n",
        "  return( 1/((x**2+1)**(0.5) - x) )"
      ],
      "execution_count": null,
      "outputs": []
    },
    {
      "cell_type": "code",
      "metadata": {
        "id": "D2rMa1Ky0WxM"
      },
      "source": [
        "def fun2(x): # Forma equivalente\n",
        "  return( (x**2+1)**(0.5) + x )"
      ],
      "execution_count": null,
      "outputs": []
    },
    {
      "cell_type": "code",
      "metadata": {
        "colab": {
          "base_uri": "https://localhost:8080/",
          "height": 282
        },
        "id": "hwWp3R1C0yDh",
        "outputId": "1f79e86d-5b63-4f5d-8a9c-1b26422bf07f"
      },
      "source": [
        "import numpy as np\n",
        "import matplotlib.pyplot as plt\n",
        "#Medir la diferencia\n",
        "x=np.random.uniform(10000,50000,size=50)\n",
        "dif=np.abs(fun1(x)-fun2(x))\n",
        "plt.plot(x,dif,'p')"
      ],
      "execution_count": null,
      "outputs": [
        {
          "output_type": "execute_result",
          "data": {
            "text/plain": [
              "[<matplotlib.lines.Line2D at 0x7fa417d2fcd0>]"
            ]
          },
          "metadata": {},
          "execution_count": 4
        },
        {
          "output_type": "display_data",
          "data": {
            "image/png": "[encoded data removed]",
            "text/plain": [
              "<Figure size 432x288 with 1 Axes>"
            ]
          },
          "metadata": {
            "needs_background": "light"
          }
        }
      ]
    },
    {
      "cell_type": "code",
      "metadata": {
        "id": "CKhi6q7U4p7F"
      },
      "source": [
        "import math\n",
        "def exponencial(x, orden=100):#Si no se especifica el orden, se toma orden=100.\n",
        "  e=0\n",
        "  for i in range(orden):\n",
        "    e+=(x**i)/math.factorial(i)\n",
        "  return(e)"
      ],
      "execution_count": 31,
      "outputs": []
    },
    {
      "cell_type": "code",
      "metadata": {
        "colab": {
          "base_uri": "https://localhost:8080/"
        },
        "id": "8BKJihZI5AKv",
        "outputId": "a9a0feb6-c5bb-490e-d476-d459ae443b92"
      },
      "source": [
        "print('approx:',exponencial(1,7), '\\n','error:',\n",
        "exponencial(1,7)-math.exp(1)) #Aproximación"
      ],
      "execution_count": 37,
      "outputs": [
        {
          "output_type": "stream",
          "text": [
            "approx: 2.7180555555555554 \n",
            " error: -0.0002262729034896438\n"
          ],
          "name": "stdout"
        }
      ]
    },
    {
      "cell_type": "code",
      "metadata": {
        "id": "5tLVQqZ655qe"
      },
      "source": [
        "def Riemm_right(f,a,b,n):\n",
        "  d=(b-a)/n #Es necesario b>=a\n",
        "  integral=0\n",
        "  for i in range(1,n+1):\n",
        "    integral+=f(a+d*i)*d\n",
        "  return(integral)"
      ],
      "execution_count": null,
      "outputs": []
    },
    {
      "cell_type": "code",
      "metadata": {
        "id": "ZqS43bXk6T3v"
      },
      "source": [
        "def Riemm_left(f,a,b,n):\n",
        "  d=(b-a)/n #Es necesario b>=a\n",
        "  integral=0\n",
        "  for i in range(n):\n",
        "    integral+=f(a+d*i)*d\n",
        "  return(integral)"
      ],
      "execution_count": null,
      "outputs": []
    },
    {
      "cell_type": "code",
      "metadata": {
        "colab": {
          "base_uri": "https://localhost:8080/"
        },
        "id": "u8bRuKad7mDd",
        "outputId": "a9ef96c8-e36f-4c2d-94e8-39d84de714f0"
      },
      "source": [
        "f=math.sin\n",
        "print('Aproximación por la izquierda:',Riemm_left(f,0,math.pi/2,100),'\\nAproximación por la derecha:',Riemm_right(f,0,math.pi/2,100))"
      ],
      "execution_count": null,
      "outputs": [
        {
          "output_type": "stream",
          "text": [
            "Aproximación por la izquierda: 0.9921254566056334 \n",
            "Aproximación por la derecha: 1.0078334198735823\n"
          ],
          "name": "stdout"
        }
      ]
    }
  ]
}