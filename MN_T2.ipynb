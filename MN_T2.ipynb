{
  "nbformat": 4,
  "nbformat_minor": 0,
  "metadata": {
    "colab": {
      "name": "Untitled6.ipynb",
      "provenance": [],
      "authorship_tag": "ABX9TyOXrmThkkzA66dm2rXxb4sM",
      "include_colab_link": true
    },
    "kernelspec": {
      "name": "python3",
      "display_name": "Python 3"
    },
    "language_info": {
      "name": "python"
    }
  },
  "cells": [
    {
      "cell_type": "markdown",
      "metadata": {
        "id": "view-in-github",
        "colab_type": "text"
      },
      "source": [
        "<a href=\"https://colab.research.google.com/github/JairEsc/Mat_Apl/blob/main/MN_T2.ipynb\" target=\"_parent\"><img src=\"https://colab.research.google.com/assets/colab-badge.svg\" alt=\"Open In Colab\"/></a>"
      ]
    },
    {
      "cell_type": "code",
      "metadata": {
        "id": "gzNhYZmg0HIa"
      },
      "source": [
        "def fun1(x):\n",
        "  return( 1/((x**2+1)**(0.5) - x) )"
      ],
      "execution_count": null,
      "outputs": []
    },
    {
      "cell_type": "code",
      "metadata": {
        "id": "D2rMa1Ky0WxM"
      },
      "source": [
        "def fun2(x):\n",
        "  return( (x**2+1)**(0.5) + x )"
      ],
      "execution_count": null,
      "outputs": []
    },
    {
      "cell_type": "code",
      "metadata": {
        "colab": {
          "base_uri": "https://localhost:8080/",
          "height": 282
        },
        "id": "hwWp3R1C0yDh",
        "outputId": "f535b775-e9b3-4516-d668-e5d615494d1b"
      },
      "source": [
        "import numpy as np\n",
        "import matplotlib.pyplot as plt\n",
        "\n",
        "x=np.random.uniform(10000,50000,size=50)\n",
        "dif=np.abs(fun1(x)-fun2(x))\n",
        "plt.plot(x,dif,'p')"
      ],
      "execution_count": null,
      "outputs": [
        {
          "output_type": "execute_result",
          "data": {
            "text/plain": [
              "[<matplotlib.lines.Line2D at 0x7f30893dfa90>]"
            ]
          },
          "metadata": {},
          "execution_count": 17
        },
        {
          "output_type": "display_data",
          "data": {
            "image/png": "[encoded data removed]",
            "text/plain": [
              "<Figure size 432x288 with 1 Axes>"
            ]
          },
          "metadata": {
            "needs_background": "light"
          }
        }
      ]
    },
    {
      "cell_type": "code",
      "metadata": {
        "id": "CKhi6q7U4p7F"
      },
      "source": [
        "import math\n",
        "def exponencial(x, orden=100):\n",
        "  e=0\n",
        "  for i in range(orden):\n",
        "    e+=(x**i)/math.factorial(i)\n",
        "  return(e)"
      ],
      "execution_count": 1,
      "outputs": []
    },
    {
      "cell_type": "code",
      "metadata": {
        "id": "8BKJihZI5AKv",
        "outputId": "e2fb44fa-35bb-4862-fa72-2bd63ffb83cc",
        "colab": {
          "base_uri": "https://localhost:8080/"
        }
      },
      "source": [
        "exponencial(1,3)"
      ],
      "execution_count": 5,
      "outputs": [
        {
          "output_type": "execute_result",
          "data": {
            "text/plain": [
              "2.5"
            ]
          },
          "metadata": {},
          "execution_count": 5
        }
      ]
    },
    {
      "cell_type": "code",
      "metadata": {
        "id": "5tLVQqZ655qe"
      },
      "source": [
        "def Riemm_sup(f,a,b,n):\n",
        "  d=(b-a)/n\n",
        "  integral=0\n",
        "  for i in range(1,n+1):\n",
        "    integral+=f(a+d*i)*d\n",
        "  return(integral)"
      ],
      "execution_count": 21,
      "outputs": []
    },
    {
      "cell_type": "code",
      "metadata": {
        "id": "ZqS43bXk6T3v"
      },
      "source": [
        "def Riemm_inf(f,a,b,n):\n",
        "  d=(b-a)/n\n",
        "  integral=0\n",
        "  for i in range(n):\n",
        "    integral+=f(a+d*i)*d\n",
        "  return(integral)"
      ],
      "execution_count": 20,
      "outputs": []
    },
    {
      "cell_type": "code",
      "metadata": {
        "id": "u8bRuKad7mDd",
        "outputId": "23e0ecfd-60bd-4876-8e47-1da5e188dff6",
        "colab": {
          "base_uri": "https://localhost:8080/"
        }
      },
      "source": [
        "f=math.sin\n",
        "print(Riemm_inf(f,0,math.pi/2,100),Riemm_sup(f,0,math.pi/2,100))"
      ],
      "execution_count": 22,
      "outputs": [
        {
          "output_type": "stream",
          "text": [
            "0.9921254566056334 1.0078334198735823\n"
          ],
          "name": "stdout"
        }
      ]
    }
  ]
}