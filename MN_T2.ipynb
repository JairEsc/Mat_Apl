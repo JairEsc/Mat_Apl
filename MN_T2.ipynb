{
  "nbformat": 4,
  "nbformat_minor": 0,
  "metadata": {
    "colab": {
      "name": "Untitled6.ipynb",
      "provenance": [],
      "authorship_tag": "ABX9TyNN4+7SYiFUH7ionY900/ks",
      "include_colab_link": true
    },
    "kernelspec": {
      "name": "python3",
      "display_name": "Python 3"
    },
    "language_info": {
      "name": "python"
    }
  },
  "cells": [
    {
      "cell_type": "markdown",
      "metadata": {
        "id": "view-in-github",
        "colab_type": "text"
      },
      "source": [
        "<a href=\"https://colab.research.google.com/github/JairEsc/Mat_Apl/blob/main/MN_T2.ipynb\" target=\"_parent\"><img src=\"https://colab.research.google.com/assets/colab-badge.svg\" alt=\"Open In Colab\"/></a>"
      ]
    },
    {
      "cell_type": "code",
      "metadata": {
        "id": "gzNhYZmg0HIa"
      },
      "source": [
        "def fun1(x):# Forma original\n",
        "  return( 1/((x**2+1)**(0.5) - x) )"
      ],
      "execution_count": 1,
      "outputs": []
    },
    {
      "cell_type": "code",
      "metadata": {
        "id": "D2rMa1Ky0WxM"
      },
      "source": [
        "def fun2(x): # Forma equivalente\n",
        "  return( (x**2+1)**(0.5) + x )"
      ],
      "execution_count": 2,
      "outputs": []
    },
    {
      "cell_type": "markdown",
      "metadata": {
        "id": "idXx6jgviRUS"
      },
      "source": [
        "Como no tengo manera de calcular el valor real de la función, y por tanto no puedo saber si la aproximación mejoró o empeoró, comparo cuánto difieren para valores grandes."
      ]
    },
    {
      "cell_type": "code",
      "metadata": {
        "colab": {
          "base_uri": "https://localhost:8080/",
          "height": 282
        },
        "id": "hwWp3R1C0yDh",
        "outputId": "820128ad-1599-4ae6-e883-ffe82f0243f8"
      },
      "source": [
        "import numpy as np\n",
        "import matplotlib.pyplot as plt\n",
        "#Medir la diferencia\n",
        "x=np.random.uniform(10000,50000,size=50)\n",
        "dif=np.abs(fun1(x)-fun2(x))\n",
        "plt.plot(x,dif,'p')"
      ],
      "execution_count": 3,
      "outputs": [
        {
          "output_type": "execute_result",
          "data": {
            "text/plain": [
              "[<matplotlib.lines.Line2D at 0x7f952e09cb50>]"
            ]
          },
          "metadata": {},
          "execution_count": 3
        },
        {
          "output_type": "display_data",
          "data": {
            "image/png": "[encoded data removed]",
            "text/plain": [
              "<Figure size 432x288 with 1 Axes>"
            ]
          },
          "metadata": {
            "needs_background": "light"
          }
        }
      ]
    },
    {
      "cell_type": "code",
      "metadata": {
        "id": "CKhi6q7U4p7F"
      },
      "source": [
        "import math\n",
        "def exponencial(x, orden=100):#Si no se especifica el orden, se toma orden=100.\n",
        "  e=0\n",
        "  for i in range(orden):\n",
        "    e+=(x**i)/math.factorial(i)\n",
        "  return(e)"
      ],
      "execution_count": 4,
      "outputs": []
    },
    {
      "cell_type": "code",
      "metadata": {
        "colab": {
          "base_uri": "https://localhost:8080/"
        },
        "id": "8BKJihZI5AKv",
        "outputId": "e15fd135-8957-4b35-a02c-89f2aae64bb7"
      },
      "source": [
        "print('approx:',exponencial(1,7), '\\n','error:',\n",
        "exponencial(1,7)-math.exp(1)) #Aproximación"
      ],
      "execution_count": 5,
      "outputs": [
        {
          "output_type": "stream",
          "text": [
            "approx: 2.7180555555555554 \n",
            " error: -0.0002262729034896438\n"
          ],
          "name": "stdout"
        }
      ]
    },
    {
      "cell_type": "markdown",
      "metadata": {
        "id": "EARIcaY4iHzJ"
      },
      "source": [
        "Comparativo para algunos órdenes."
      ]
    },
    {
      "cell_type": "code",
      "metadata": {
        "colab": {
          "base_uri": "https://localhost:8080/",
          "height": 265
        },
        "id": "DA7Q5DY6eiaV",
        "outputId": "8f3c17fa-3e27-4d0b-d767-b9690d181e4b"
      },
      "source": [
        "k=[1,2,5,7]\n",
        "u=np.arange(0,3,.01)\n",
        "vexponencial = np.vectorize(exponencial)\n",
        "for i in k:\n",
        "  plt.plot(u,vexponencial(u,i),label='orden '+str(i))  \n",
        "plt.plot(u,np.exp(u),label='exp()')\n",
        "plt.legend()\n",
        "plt.show()"
      ],
      "execution_count": 6,
      "outputs": [
        {
          "output_type": "display_data",
          "data": {
            "image/png": "[encoded data removed]",
            "text/plain": [
              "<Figure size 432x288 with 1 Axes>"
            ]
          },
          "metadata": {
            "needs_background": "light"
          }
        }
      ]
    },
    {
      "cell_type": "code",
      "metadata": {
        "id": "5tLVQqZ655qe"
      },
      "source": [
        "def Riemm_right(f,a,b,n):\n",
        "  d=(b-a)/n #Es necesario b>=a\n",
        "  integral=0\n",
        "  for i in range(1,n+1):\n",
        "    integral+=f(a+d*i)*d\n",
        "  return(integral)"
      ],
      "execution_count": 8,
      "outputs": []
    },
    {
      "cell_type": "code",
      "metadata": {
        "id": "ZqS43bXk6T3v"
      },
      "source": [
        "def Riemm_left(f,a,b,n):\n",
        "  d=(b-a)/n #Es necesario b>=a\n",
        "  integral=0\n",
        "  for i in range(n):\n",
        "    integral+=f(a+d*i)*d\n",
        "  return(integral)"
      ],
      "execution_count": 9,
      "outputs": []
    },
    {
      "cell_type": "code",
      "metadata": {
        "colab": {
          "base_uri": "https://localhost:8080/"
        },
        "id": "u8bRuKad7mDd",
        "outputId": "725ca27a-fb65-4455-a047-1a13091d12e9"
      },
      "source": [
        "f=math.sin\n",
        "print('Aproximación por la izquierda:',Riemm_left(f,0,math.pi/2,10),'\\nAproximación por la derecha:',Riemm_right(f,0,math.pi/2,10))"
      ],
      "execution_count": 10,
      "outputs": [
        {
          "output_type": "stream",
          "text": [
            "Aproximación por la izquierda: 0.9194031700146124 \n",
            "Aproximación por la derecha: 1.076482802694102\n"
          ],
          "name": "stdout"
        }
      ]
    }
  ]
}