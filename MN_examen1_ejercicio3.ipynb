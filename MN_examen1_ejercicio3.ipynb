{
  "nbformat": 4,
  "nbformat_minor": 0,
  "metadata": {
    "colab": {
      "name": "Untitled46.ipynb",
      "provenance": [],
      "authorship_tag": "ABX9TyPWESC0C7ngTeoVbmELIjx3",
      "include_colab_link": true
    },
    "kernelspec": {
      "name": "python3",
      "display_name": "Python 3"
    },
    "language_info": {
      "name": "python"
    }
  },
  "cells": [
    {
      "cell_type": "markdown",
      "metadata": {
        "id": "view-in-github",
        "colab_type": "text"
      },
      "source": [
        "<a href=\"https://colab.research.google.com/github/JairEsc/Mat_Apl/blob/main/MN_examen1_ejercicio3.ipynb\" target=\"_parent\"><img src=\"https://colab.research.google.com/assets/colab-badge.svg\" alt=\"Open In Colab\"/></a>"
      ]
    },
    {
      "cell_type": "code",
      "metadata": {
        "id": "nMvGyol2TYaz"
      },
      "source": [
        "import numpy as np"
      ],
      "execution_count": 1,
      "outputs": []
    },
    {
      "cell_type": "code",
      "metadata": {
        "id": "M2PupWqFTJ7s"
      },
      "source": [
        "def leer_mtx_diag(A):\n",
        "    matrix=np.zeros((len(A),len(A)))\n",
        "    for renglon in A:\n",
        "        if(len(renglon)>3):\n",
        "            print(\"Esto no es diagonal\")\n",
        "        matrix[int(renglon[0]-1)][int(renglon[1]-1)]=float(renglon[2])\n",
        "    return matrix"
      ],
      "execution_count": 20,
      "outputs": []
    },
    {
      "cell_type": "code",
      "metadata": {
        "id": "cF3zt7FtU9XA"
      },
      "source": [
        "def check_diag(A,tol):#Pensado para matrices en general (NO simetricas)\n",
        "    boolean=True\n",
        "    breaker=False\n",
        "    for i in range(len(A)):\n",
        "        for j in range(i,len(A)):\n",
        "            if(i!=j):\n",
        "                if(abs(A[i][j])>tol):\n",
        "                    boolean=False;\n",
        "                    breaker=True;\n",
        "                    break;\n",
        "        if(breaker==True):\n",
        "            break\n",
        "    return(boolean)"
      ],
      "execution_count": 22,
      "outputs": []
    },
    {
      "cell_type": "code",
      "metadata": {
        "id": "NX6P5AeNT5_J"
      },
      "source": [
        "txt=np.loadtxt(\"A_3134.mtx\",skiprows=1)\n",
        "A=leer_mtx_diag(txt)\n",
        "b=np.loadtxt(\"b_3134.vec\",skiprows=1)\n",
        "import time\n",
        "from datetime import timedelta"
      ],
      "execution_count": 33,
      "outputs": []
    },
    {
      "cell_type": "code",
      "metadata": {
        "id": "nbAcACy3VLSC"
      },
      "source": [
        "#Comparación de métodos."
      ],
      "execution_count": null,
      "outputs": []
    },
    {
      "cell_type": "code",
      "metadata": {
        "colab": {
          "base_uri": "https://localhost:8080/"
        },
        "id": "W8u7lhJfWlFt",
        "outputId": "2cf8ae3d-2514-4517-addc-ba39eff4187d"
      },
      "source": [
        "def diagonal(matriz,b):#Recibe la matriz del sistema.\n",
        "#Y b representa los valores del sistema a resolver.\n",
        "  if(type(matriz[0])==type(0.)):\n",
        "    X=[]\n",
        "    for i in range(len(matriz)):\n",
        "      if(matriz[i]==0):\n",
        "        return('el sistema no tiene solución única')\n",
        "      else: \n",
        "        X.append(b[i]/matriz[i])\n",
        "    return X\n",
        "  else:\n",
        "    X=[]\n",
        "    for i in range(len(matriz)):\n",
        "      if(matriz[i][i]==0):\n",
        "        return('el sistema no tiene solución única')\n",
        "      else: \n",
        "        X.append(b[i]/matriz[i][i])\n",
        "    return X\n",
        "print(\"Metodo 1: Diagonal.\")\n",
        "start = time.monotonic()\n",
        "print(\"Nuestra matriz es diagonal: \",check_diag(A,0))#Tolerancia=0\n",
        "x=diagonal(A,b)\n",
        "print(\"solucion exitosa\")\n",
        "print(\"\\nError: \",np.linalg.norm(np.dot(A,x)-b))\n",
        "end = time.monotonic()\n",
        "tiempo_total = timedelta(seconds=end - start).total_seconds()\n",
        "print('Tiempo de ejecución Metodo Diagonal:', tiempo_total, '\\n')\n"
      ],
      "execution_count": 42,
      "outputs": [
        {
          "output_type": "stream",
          "name": "stdout",
          "text": [
            "Metodo 1: Diagonal.\n",
            "Nuestra matriz es diagonal:  True\n",
            "solucion exitosa\n",
            "\n",
            "Error:  0.0\n",
            "Tiempo de ejecución Metodo Diagonal: 3.947438 \n",
            "\n"
          ]
        }
      ]
    },
    {
      "cell_type": "code",
      "metadata": {
        "colab": {
          "base_uri": "https://localhost:8080/",
          "height": 381
        },
        "id": "_9QYhJn5ZLfj",
        "outputId": "cb2dc80c-7dd8-43a5-b8f0-c5ef63ff278e"
      },
      "source": [
        "def factorizar_LU(matriz):\n",
        "    n=len(matriz)\n",
        "    L=np.zeros((n,n))\n",
        "    U=np.zeros((n,n))\n",
        "    for j in range(n):\n",
        "        for i in range(j,n):\n",
        "            sum=0\n",
        "            for k in range(i):\n",
        "                sum+=L[i][k]*U[k][j]\n",
        "            L[i][j]=matriz[i][j]-sum\n",
        "            \n",
        "            if(i>j):\n",
        "                sum=0\n",
        "                for k in range(j):\n",
        "                    sum+=L[j][k]*U[k][i]\n",
        "                U[j][i]=(matriz[j][i]-sum)/L[j][j]\n",
        "            else: \n",
        "                U[i][j]=1 \n",
        "                if(L[i][i]==0):\n",
        "                    return(\"Error en la construcción de L\")\n",
        "    return([L,U])\n",
        "def superior(list,b):\n",
        "  n=len(list)\n",
        "  X=[b[n-1]/list[n-1][n-1]]\n",
        "  X_inv=[X[0]]\n",
        "  for i in range(1,n):#len(list) es el número de renglones de la matriz\n",
        "    acum=0\n",
        "    for j in range(i):#0<=j<=i-1 \n",
        "      acum+=X[j]*list[n-i-1][n-1-j]\n",
        "    X.append((b[n-1-i]-acum)/list[n-1-i][n-1-i])\n",
        "    X_inv.insert(0,X[i])\n",
        "  return X_inv\n",
        "def inferior(list,b):#list debe contener las entradas de la matriz triangular.\n",
        "#Será aceptable introducir un arreglo de arreglos de distintos tamaños, para solo introducir las entradas no cero.\n",
        "  X=[b[0]/list[0][0]]\n",
        "  for i in range(1,len(list)):#len(list) es el número de renglones de la matriz\n",
        "    acum=0\n",
        "    for j in range(i):#0<=j<=i-1 \n",
        "      acum+=X[j]*list[i][j]\n",
        "    X.append((b[i]-acum)/list[i][i])\n",
        "  return X\n",
        "def solve(L_m,U_m,b):\n",
        "    y=inferior(L_m,b)#Resolver Ly=b\n",
        "    return(superior(U_m,y))#Resolver Ux=y\n",
        "print(\"Metodo 2: LU.\")\n",
        "start = time.monotonic()\n",
        "L,U=factorizar_LU(A)\n",
        "print(\"factorizacion exitosa\")\n",
        "x=solve(L_m=L,U_m=U,b=b)\n",
        "print(\"solucion exitosa\")\n",
        "print(\"\\nError: \"np.linalg.norm(np.dot(A,x)))\n",
        "end = time.monotonic()\n",
        "tiempo_total = timedelta(seconds=end - start).total_seconds()\n",
        "print('Tiempo de ejecución Metodo LU+ Superior+ Inferior:', tiempo_total, '\\n')\n"
      ],
      "execution_count": 39,
      "outputs": [
        {
          "output_type": "stream",
          "name": "stdout",
          "text": [
            "Metodo 2: LU.\n"
          ]
        },
        {
          "output_type": "error",
          "ename": "KeyboardInterrupt",
          "evalue": "ignored",
          "traceback": [
            "\u001b[0;31m---------------------------------------------------------------------------\u001b[0m",
            "\u001b[0;31mKeyboardInterrupt\u001b[0m                         Traceback (most recent call last)",
            "\u001b[0;32m<ipython-input-39-4f9e97ce8620>\u001b[0m in \u001b[0;36m<module>\u001b[0;34m()\u001b[0m\n\u001b[1;32m     45\u001b[0m \u001b[0mprint\u001b[0m\u001b[0;34m(\u001b[0m\u001b[0;34m\"Metodo 2: LU.\"\u001b[0m\u001b[0;34m)\u001b[0m\u001b[0;34m\u001b[0m\u001b[0;34m\u001b[0m\u001b[0m\n\u001b[1;32m     46\u001b[0m \u001b[0mstart\u001b[0m \u001b[0;34m=\u001b[0m \u001b[0mtime\u001b[0m\u001b[0;34m.\u001b[0m\u001b[0mmonotonic\u001b[0m\u001b[0;34m(\u001b[0m\u001b[0;34m)\u001b[0m\u001b[0;34m\u001b[0m\u001b[0;34m\u001b[0m\u001b[0m\n\u001b[0;32m---> 47\u001b[0;31m \u001b[0mL\u001b[0m\u001b[0;34m,\u001b[0m\u001b[0mU\u001b[0m\u001b[0;34m=\u001b[0m\u001b[0mfactorizar_LU\u001b[0m\u001b[0;34m(\u001b[0m\u001b[0mA\u001b[0m\u001b[0;34m)\u001b[0m\u001b[0;34m\u001b[0m\u001b[0;34m\u001b[0m\u001b[0m\n\u001b[0m\u001b[1;32m     48\u001b[0m \u001b[0mprint\u001b[0m\u001b[0;34m(\u001b[0m\u001b[0;34m\"factorizacion exitosa\"\u001b[0m\u001b[0;34m)\u001b[0m\u001b[0;34m\u001b[0m\u001b[0;34m\u001b[0m\u001b[0m\n\u001b[1;32m     49\u001b[0m \u001b[0msolve\u001b[0m\u001b[0;34m(\u001b[0m\u001b[0mL_m\u001b[0m\u001b[0;34m=\u001b[0m\u001b[0mL\u001b[0m\u001b[0;34m,\u001b[0m\u001b[0mU_m\u001b[0m\u001b[0;34m=\u001b[0m\u001b[0mU\u001b[0m\u001b[0;34m,\u001b[0m\u001b[0mb\u001b[0m\u001b[0;34m=\u001b[0m\u001b[0mb\u001b[0m\u001b[0;34m)\u001b[0m\u001b[0;34m\u001b[0m\u001b[0;34m\u001b[0m\u001b[0m\n",
            "\u001b[0;32m<ipython-input-39-4f9e97ce8620>\u001b[0m in \u001b[0;36mfactorizar_LU\u001b[0;34m(matriz)\u001b[0m\n\u001b[1;32m      7\u001b[0m             \u001b[0msum\u001b[0m\u001b[0;34m=\u001b[0m\u001b[0;36m0\u001b[0m\u001b[0;34m\u001b[0m\u001b[0;34m\u001b[0m\u001b[0m\n\u001b[1;32m      8\u001b[0m             \u001b[0;32mfor\u001b[0m \u001b[0mk\u001b[0m \u001b[0;32min\u001b[0m \u001b[0mrange\u001b[0m\u001b[0;34m(\u001b[0m\u001b[0mi\u001b[0m\u001b[0;34m)\u001b[0m\u001b[0;34m:\u001b[0m\u001b[0;34m\u001b[0m\u001b[0;34m\u001b[0m\u001b[0m\n\u001b[0;32m----> 9\u001b[0;31m                 \u001b[0msum\u001b[0m\u001b[0;34m+=\u001b[0m\u001b[0mL\u001b[0m\u001b[0;34m[\u001b[0m\u001b[0mi\u001b[0m\u001b[0;34m]\u001b[0m\u001b[0;34m[\u001b[0m\u001b[0mk\u001b[0m\u001b[0;34m]\u001b[0m\u001b[0;34m*\u001b[0m\u001b[0mU\u001b[0m\u001b[0;34m[\u001b[0m\u001b[0mk\u001b[0m\u001b[0;34m]\u001b[0m\u001b[0;34m[\u001b[0m\u001b[0mj\u001b[0m\u001b[0;34m]\u001b[0m\u001b[0;34m\u001b[0m\u001b[0;34m\u001b[0m\u001b[0m\n\u001b[0m\u001b[1;32m     10\u001b[0m             \u001b[0mL\u001b[0m\u001b[0;34m[\u001b[0m\u001b[0mi\u001b[0m\u001b[0;34m]\u001b[0m\u001b[0;34m[\u001b[0m\u001b[0mj\u001b[0m\u001b[0;34m]\u001b[0m\u001b[0;34m=\u001b[0m\u001b[0mmatriz\u001b[0m\u001b[0;34m[\u001b[0m\u001b[0mi\u001b[0m\u001b[0;34m]\u001b[0m\u001b[0;34m[\u001b[0m\u001b[0mj\u001b[0m\u001b[0;34m]\u001b[0m\u001b[0;34m-\u001b[0m\u001b[0msum\u001b[0m\u001b[0;34m\u001b[0m\u001b[0;34m\u001b[0m\u001b[0m\n\u001b[1;32m     11\u001b[0m \u001b[0;34m\u001b[0m\u001b[0m\n",
            "\u001b[0;31mKeyboardInterrupt\u001b[0m: "
          ]
        }
      ]
    },
    {
      "cell_type": "code",
      "metadata": {
        "colab": {
          "base_uri": "https://localhost:8080/",
          "height": 381
        },
        "id": "eU25y-jfZyPr",
        "outputId": "e04b850b-98aa-4d00-d363-9682a5c624f3"
      },
      "source": [
        "def superior(list,b):\n",
        "  n=len(list)\n",
        "  X=[b[n-1]/list[n-1][n-1]]\n",
        "  X_inv=[X[0]]\n",
        "  for i in range(1,n):#len(list) es el número de renglones de la matriz\n",
        "    acum=0\n",
        "    for j in range(i):#0<=j<=i-1 \n",
        "      acum+=X[j]*list[n-i-1][n-1-j]\n",
        "    X.append((b[n-1-i]-acum)/list[n-1-i][n-1-i])\n",
        "    X_inv.insert(0,X[i])\n",
        "  return X_inv\n",
        "def eliminacion_gaussiana(matriz,b):\n",
        "  for d in range(len(matriz)):\n",
        "    if(matriz[d][d]==0): return \"un cero apareció\"\n",
        "    for i in range(d+1,len(matriz)):\n",
        "      aux=(matriz[i][d]/matriz[d][d])\n",
        "      for j in range(d,len(matriz)):\n",
        "        matriz[i][j]+=-matriz[d][j]*(aux)\n",
        "      b[i]+=-b[d]*(aux)\n",
        "  return superior(matriz,b)\n",
        "print(\"Metodo 2: Eliminacion Gaussiana.\")\n",
        "start = time.monotonic()\n",
        "x=eliminacion_gaussiana(A,b=b)\n",
        "print(\"solucion exitosa\")\n",
        "print(\"\\nError: \",np.linalg.norm(np.dot(A,x)-b))\n",
        "if(time.monotonic()>1):\n",
        "    end = time.monotonic()\n",
        "    tiempo_total = timedelta(seconds=end - start).total_seconds()\n",
        "    print('Tiempo de ejecución Metodo LU+ Superior+ Inferior:', tiempo_total, '\\n')"
      ],
      "execution_count": 47,
      "outputs": [
        {
          "output_type": "stream",
          "name": "stdout",
          "text": [
            "Metodo 2: Eliminacion Gaussiana.\n"
          ]
        },
        {
          "output_type": "error",
          "ename": "KeyboardInterrupt",
          "evalue": "ignored",
          "traceback": [
            "\u001b[0;31m---------------------------------------------------------------------------\u001b[0m",
            "\u001b[0;31mKeyboardInterrupt\u001b[0m                         Traceback (most recent call last)",
            "\u001b[0;32m<ipython-input-47-dd0695f94d1a>\u001b[0m in \u001b[0;36m<module>\u001b[0;34m()\u001b[0m\n\u001b[1;32m     21\u001b[0m \u001b[0mprint\u001b[0m\u001b[0;34m(\u001b[0m\u001b[0;34m\"Metodo 2: Eliminacion Gaussiana.\"\u001b[0m\u001b[0;34m)\u001b[0m\u001b[0;34m\u001b[0m\u001b[0;34m\u001b[0m\u001b[0m\n\u001b[1;32m     22\u001b[0m \u001b[0mstart\u001b[0m \u001b[0;34m=\u001b[0m \u001b[0mtime\u001b[0m\u001b[0;34m.\u001b[0m\u001b[0mmonotonic\u001b[0m\u001b[0;34m(\u001b[0m\u001b[0;34m)\u001b[0m\u001b[0;34m\u001b[0m\u001b[0;34m\u001b[0m\u001b[0m\n\u001b[0;32m---> 23\u001b[0;31m \u001b[0mx\u001b[0m\u001b[0;34m=\u001b[0m\u001b[0meliminacion_gaussiana\u001b[0m\u001b[0;34m(\u001b[0m\u001b[0mA\u001b[0m\u001b[0;34m,\u001b[0m\u001b[0mb\u001b[0m\u001b[0;34m=\u001b[0m\u001b[0mb\u001b[0m\u001b[0;34m)\u001b[0m\u001b[0;34m\u001b[0m\u001b[0;34m\u001b[0m\u001b[0m\n\u001b[0m\u001b[1;32m     24\u001b[0m \u001b[0mprint\u001b[0m\u001b[0;34m(\u001b[0m\u001b[0;34m\"solucion exitosa\"\u001b[0m\u001b[0;34m)\u001b[0m\u001b[0;34m\u001b[0m\u001b[0;34m\u001b[0m\u001b[0m\n\u001b[1;32m     25\u001b[0m \u001b[0mprint\u001b[0m\u001b[0;34m(\u001b[0m\u001b[0;34m\"\\nError: \"\u001b[0m\u001b[0;34m,\u001b[0m\u001b[0mnp\u001b[0m\u001b[0;34m.\u001b[0m\u001b[0mlinalg\u001b[0m\u001b[0;34m.\u001b[0m\u001b[0mnorm\u001b[0m\u001b[0;34m(\u001b[0m\u001b[0mnp\u001b[0m\u001b[0;34m.\u001b[0m\u001b[0mdot\u001b[0m\u001b[0;34m(\u001b[0m\u001b[0mA\u001b[0m\u001b[0;34m,\u001b[0m\u001b[0mx\u001b[0m\u001b[0;34m)\u001b[0m\u001b[0;34m-\u001b[0m\u001b[0mb\u001b[0m\u001b[0;34m)\u001b[0m\u001b[0;34m)\u001b[0m\u001b[0;34m\u001b[0m\u001b[0;34m\u001b[0m\u001b[0m\n",
            "\u001b[0;32m<ipython-input-47-dd0695f94d1a>\u001b[0m in \u001b[0;36meliminacion_gaussiana\u001b[0;34m(matriz, b)\u001b[0m\n\u001b[1;32m     16\u001b[0m       \u001b[0maux\u001b[0m\u001b[0;34m=\u001b[0m\u001b[0;34m(\u001b[0m\u001b[0mmatriz\u001b[0m\u001b[0;34m[\u001b[0m\u001b[0mi\u001b[0m\u001b[0;34m]\u001b[0m\u001b[0;34m[\u001b[0m\u001b[0md\u001b[0m\u001b[0;34m]\u001b[0m\u001b[0;34m/\u001b[0m\u001b[0mmatriz\u001b[0m\u001b[0;34m[\u001b[0m\u001b[0md\u001b[0m\u001b[0;34m]\u001b[0m\u001b[0;34m[\u001b[0m\u001b[0md\u001b[0m\u001b[0;34m]\u001b[0m\u001b[0;34m)\u001b[0m\u001b[0;34m\u001b[0m\u001b[0;34m\u001b[0m\u001b[0m\n\u001b[1;32m     17\u001b[0m       \u001b[0;32mfor\u001b[0m \u001b[0mj\u001b[0m \u001b[0;32min\u001b[0m \u001b[0mrange\u001b[0m\u001b[0;34m(\u001b[0m\u001b[0md\u001b[0m\u001b[0;34m,\u001b[0m\u001b[0mlen\u001b[0m\u001b[0;34m(\u001b[0m\u001b[0mmatriz\u001b[0m\u001b[0;34m)\u001b[0m\u001b[0;34m)\u001b[0m\u001b[0;34m:\u001b[0m\u001b[0;34m\u001b[0m\u001b[0;34m\u001b[0m\u001b[0m\n\u001b[0;32m---> 18\u001b[0;31m         \u001b[0mmatriz\u001b[0m\u001b[0;34m[\u001b[0m\u001b[0mi\u001b[0m\u001b[0;34m]\u001b[0m\u001b[0;34m[\u001b[0m\u001b[0mj\u001b[0m\u001b[0;34m]\u001b[0m\u001b[0;34m+=\u001b[0m\u001b[0;34m-\u001b[0m\u001b[0mmatriz\u001b[0m\u001b[0;34m[\u001b[0m\u001b[0md\u001b[0m\u001b[0;34m]\u001b[0m\u001b[0;34m[\u001b[0m\u001b[0mj\u001b[0m\u001b[0;34m]\u001b[0m\u001b[0;34m*\u001b[0m\u001b[0;34m(\u001b[0m\u001b[0maux\u001b[0m\u001b[0;34m)\u001b[0m\u001b[0;34m\u001b[0m\u001b[0;34m\u001b[0m\u001b[0m\n\u001b[0m\u001b[1;32m     19\u001b[0m       \u001b[0mb\u001b[0m\u001b[0;34m[\u001b[0m\u001b[0mi\u001b[0m\u001b[0;34m]\u001b[0m\u001b[0;34m+=\u001b[0m\u001b[0;34m-\u001b[0m\u001b[0mb\u001b[0m\u001b[0;34m[\u001b[0m\u001b[0md\u001b[0m\u001b[0;34m]\u001b[0m\u001b[0;34m*\u001b[0m\u001b[0;34m(\u001b[0m\u001b[0maux\u001b[0m\u001b[0;34m)\u001b[0m\u001b[0;34m\u001b[0m\u001b[0;34m\u001b[0m\u001b[0m\n\u001b[1;32m     20\u001b[0m   \u001b[0;32mreturn\u001b[0m \u001b[0msuperior\u001b[0m\u001b[0;34m(\u001b[0m\u001b[0mmatriz\u001b[0m\u001b[0;34m,\u001b[0m\u001b[0mb\u001b[0m\u001b[0;34m)\u001b[0m\u001b[0;34m\u001b[0m\u001b[0;34m\u001b[0m\u001b[0m\n",
            "\u001b[0;31mKeyboardInterrupt\u001b[0m: "
          ]
        }
      ]
    },
    {
      "cell_type": "code",
      "metadata": {
        "colab": {
          "base_uri": "https://localhost:8080/"
        },
        "id": "n1fIQW0TbWhA",
        "outputId": "244e06a6-f6be-4eaf-9474-fc0819b2f4b2"
      },
      "source": [
        "import numpy as np\n",
        "def check_diag_dom(matriz):\n",
        "    n=len(matriz)\n",
        "    diago_dom=True\n",
        "    for i in range(n):\n",
        "        sum=0\n",
        "        for j in range(n):\n",
        "            sum+=matriz[i][j]\n",
        "        if(2*matriz[i][i]<sum):\n",
        "            diago_dom=False;\n",
        "            break;\n",
        "    return (diago_dom)\n",
        "def Jacobi(matriz,b,tol=10**(-6),max_iter=100,**x_0,):\n",
        "    if(not check_diag_dom(matriz)): \n",
        "        return(\"la matriz no es diagonalmente dominante\")\n",
        "    else:\n",
        "        count=0\n",
        "        n=len(matriz)\n",
        "        if(x_0):\n",
        "            x_0=x_0['x_0']\n",
        "            x_1=np.zeros(n)\n",
        "        else:\n",
        "            x_0=np.zeros(n)\n",
        "            x_1=np.zeros(n)\n",
        "        while(count<=max_iter):\n",
        "            count+=1\n",
        "            for i in range(n):\n",
        "                sum=0\n",
        "                for j in range(n):\n",
        "                    if(j!=i):\n",
        "                        sum+=matriz[i][j]*x_0[j]\n",
        "                x_1[i]=(b[i]-sum)/matriz[i][i]\n",
        "            if(np.linalg.norm(np.array(x_1)-np.array(x_0))<tol):\n",
        "                print(\"numero de iteraciones: \",count)\n",
        "                return (x_1)\n",
        "            else:\n",
        "                x_0=x_1\n",
        "                x_1=np.zeros(n)\n",
        "        return (\"Iteracion maxima alcanzada\")\n",
        "print(\"Metodo 3: Jacobi\")\n",
        "start = time.monotonic()\n",
        "x=Jacobi(A,b=b,tol=10**(-6),max_iter=10000)\n",
        "print(\"solucion exitosa\")\n",
        "print(\"\\nError: \",np.linalg.norm(np.dot(A,x)-b))\n",
        "end = time.monotonic()\n",
        "tiempo_total = timedelta(seconds=end - start).total_seconds()\n",
        "print('Tiempo de ejecución Metodo Jacobi:', tiempo_total, '\\n')"
      ],
      "execution_count": 50,
      "outputs": [
        {
          "output_type": "stream",
          "name": "stdout",
          "text": [
            "Metodo 3: Jacobi\n",
            "numero de iteraciones:  2\n",
            "solucion exitosa\n",
            "\n",
            "Error:  0.0\n",
            "Tiempo de ejecución Metodo Jacobi: 20.246593 \n",
            "\n"
          ]
        }
      ]
    },
    {
      "cell_type": "code",
      "metadata": {
        "colab": {
          "base_uri": "https://localhost:8080/"
        },
        "id": "-ivUKm5kcihB",
        "outputId": "61bc7e9a-3ff7-42f3-dc2b-c9cbda4ce443"
      },
      "source": [
        "import numpy as np\n",
        "def check_diag_dom(matriz):\n",
        "    n=len(matriz)\n",
        "    diago_dom=True\n",
        "    for i in range(n):\n",
        "        sum=0\n",
        "        for j in range(n):\n",
        "            sum+=matriz[i][j]\n",
        "        if(2*matriz[i][i]<sum):\n",
        "            diago_dom=False;\n",
        "            break;\n",
        "    return (diago_dom)\n",
        "def Gauss_Seidel(matriz,b,tol=10**(-6),max_iter=100,**x_0,):\n",
        "    if(not check_diag_dom(matriz)): \n",
        "        return(\"la matriz no es diagonalmente dominante\")\n",
        "    else:\n",
        "        count=0\n",
        "        n=len(matriz)\n",
        "        if(x_0):\n",
        "            x_0=x_0['x_0']\n",
        "        else:\n",
        "            x_0=np.zeros(n)\n",
        "        while(count<=max_iter):\n",
        "            count+=1\n",
        "            x_1=np.copy(x_0)\n",
        "            for i in range(n):\n",
        "                sum=0\n",
        "                for j in range(n):\n",
        "                    if(j!=i):\n",
        "                        sum+=matriz[i][j]*x_0[j]\n",
        "                x_0[i]=(b[i]-sum)/matriz[i][i]\n",
        "            if(np.linalg.norm(np.array(x_1)-np.array(x_0))<tol):\n",
        "                print(\"numero de iteraciones: \",count)\n",
        "                return (x_0)\n",
        "        return(\"Iteracion maxima alcanzada\")\n",
        "print(\"Metodo 3: Gauss-Seidel\")\n",
        "start = time.monotonic()\n",
        "x=Gauss_Seidel(A,b=b,tol=10**(-6),max_iter=10000)\n",
        "print(\"solucion exitosa\")\n",
        "print(\"\\nError: \",np.linalg.norm(np.dot(A,x)-b))\n",
        "end = time.monotonic()\n",
        "tiempo_total = timedelta(seconds=end - start).total_seconds()\n",
        "print('Tiempo de ejecución Metodo Gauss-Seidel', tiempo_total, '\\n')"
      ],
      "execution_count": 51,
      "outputs": [
        {
          "output_type": "stream",
          "name": "stdout",
          "text": [
            "Metodo 3: Gauss-Seidel\n",
            "numero de iteraciones:  2\n",
            "solucion exitosa\n",
            "\n",
            "Error:  0.0\n",
            "Tiempo de ejecución Metodo Gauss-Seidel 20.337702 \n",
            "\n"
          ]
        }
      ]
    }
  ]
}